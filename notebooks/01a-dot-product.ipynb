{
  "cells": [
   {
    "cell_type": "code",
    "execution_count": null,
    "id": "12523a8e",
    "metadata": {},
    "outputs": [],
    "source": [
     "require 'json'\n",
     "require 'erb'"
    ]
   },
   {
    "cell_type": "code",
    "execution_count": null,
    "id": "82451929",
    "metadata": {},
    "outputs": [],
    "source": [
     "def dot_product_2d(a, b)\n",
     "  a[0] * b[0] + a[1] * b[1]\n",
     "end"
    ]
   },
   {
    "cell_type": "code",
    "execution_count": null,
    "id": "65217bda",
    "metadata": {},
    "outputs": [],
    "source": [
     "dot_product_2d([4,8], [7,2])"
    ]
   },
   {
    "cell_type": "code",
    "execution_count": null,
    "id": "0b52a533",
    "metadata": {},
    "outputs": [],
    "source": [
     "dot_product_2d([4,8], [9,1])"
    ]
   },
   {
    "cell_type": "code",
    "execution_count": null,
    "id": "5a8a2cec",
    "metadata": {},
    "outputs": [],
    "source": [
     "dot_product_2d([7,2], [9,1])"
    ]
   },
   {
    "cell_type": "code",
    "execution_count": null,
    "id": "a596577a",
    "metadata": {},
    "outputs": [],
    "source": [
     "dot_product_2d([6,1], [9,1])"
    ]
   }
  ],
  "metadata": {
   "kernelspec": {
    "display_name": "Ruby 3.1.3",
    "language": "ruby",
    "name": "ruby"
   },
   "language_info": {
    "file_extension": ".rb",
    "mimetype": "application/x-ruby",
    "name": "ruby",
    "version": "3.1.3"
   }
  },
  "nbformat": 4,
  "nbformat_minor": 5
 }
 