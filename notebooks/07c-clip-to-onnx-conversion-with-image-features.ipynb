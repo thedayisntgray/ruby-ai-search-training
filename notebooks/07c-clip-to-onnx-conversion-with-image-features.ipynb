{
 "cells": [
  {
   "cell_type": "code",
   "execution_count": 4,
   "id": "7b62aab9-268b-4420-a7ba-1d9ca3f7aac8",
   "metadata": {},
   "outputs": [],
   "source": [
    "#https://github.com/Lednik7/CLIP-ONNX"
   ]
  },
  {
   "cell_type": "code",
   "execution_count": 5,
   "id": "acf4cce9-8a67-42bb-8c75-4bf3a753567d",
   "metadata": {},
   "outputs": [],
   "source": [
    "# !pip install git+https://github.com/Lednik7/CLIP-ONNX.git\n",
    "# !pip install git+https://github.com/openai/CLIP.git\n",
    "# !pip install onnxruntime-gpu"
   ]
  },
  {
   "cell_type": "markdown",
   "id": "a81ef7f5-25e8-42b4-8ca1-01bccb1b462a",
   "metadata": {},
   "source": [
    "## Export CLIP embeddings to ONNX\n"
   ]
  },
  {
   "cell_type": "code",
   "execution_count": 2,
   "id": "ed03027a-2148-4866-815a-680770549aa1",
   "metadata": {},
   "outputs": [
    {
     "name": "stderr",
     "output_type": "stream",
     "text": [
      "/opt/conda/lib/python3.10/site-packages/torch/cuda/__init__.py:129: UserWarning: CUDA initialization: The NVIDIA driver on your system is too old (found version 10010). Please update your GPU driver by downloading and installing a new version from the URL: http://www.nvidia.com/Download/index.aspx Alternatively, go to: https://pytorch.org to install a PyTorch version that has been compiled with your version of the CUDA driver. (Triggered internally at ../c10/cuda/CUDAFunctions.cpp:108.)\n",
      "  return torch._C._cuda_getDeviceCount() > 0\n"
     ]
    },
    {
     "name": "stdout",
     "output_type": "stream",
     "text": [
      "Exported CLIP image-encoder to clip_image_encoder.onnx\n"
     ]
    }
   ],
   "source": [
    "import torch\n",
    "import clip\n",
    "from PIL import Image\n",
    "\n",
    "# 1) Load your CLIP model\n",
    "device = \"cpu\"\n",
    "clip_model, preprocess = clip.load(\"ViT-B/32\", device=device, jit=False)\n",
    "clip_model.eval()\n",
    "\n",
    "# 2) Define a wrapper module that returns image embeddings\n",
    "class CLIPImageEncoder(torch.nn.Module):\n",
    "    def __init__(self, clip_model):\n",
    "        super().__init__()\n",
    "        self.clip_model = clip_model\n",
    "\n",
    "    def forward(self, image):\n",
    "        # CLIP’s encode_image returns an unnormalized embedding of size [batch_size, 512]\n",
    "        return self.clip_model.encode_image(image)\n",
    "\n",
    "image_encoder = CLIPImageEncoder(clip_model).to(device)\n",
    "\n",
    "# 3) Prepare a dummy input for shape tracing\n",
    "dummy_image = preprocess(Image.open(\"CLIP.png\")).unsqueeze(0).to(device)  # [1, 3, 224, 224]\n",
    "\n",
    "# 4) Export the custom image-encoder to ONNX\n",
    "torch.onnx.export(\n",
    "    image_encoder,\n",
    "    dummy_image,                       # Only one input\n",
    "    \"clip_image_encoder.onnx\",\n",
    "    export_params=True,\n",
    "    opset_version=14,                 # for scaled_dot_product_attention\n",
    "    do_constant_folding=True,\n",
    "    input_names=[\"image_input\"],      # single input\n",
    "    output_names=[\"image_features\"],  # single output\n",
    "    dynamic_axes={\n",
    "        \"image_input\": {0: \"batch_size\"},\n",
    "        \"image_features\": {0: \"batch_size\"},\n",
    "    },\n",
    ")\n",
    "print(\"Exported CLIP image-encoder to clip_image_encoder.onnx\")"
   ]
  },
  {
   "cell_type": "markdown",
   "id": "bb9c2855-040a-404f-8039-cd05a8a9b721",
   "metadata": {},
   "source": [
    "# Text embeddings"
   ]
  },
  {
   "cell_type": "code",
   "execution_count": 3,
   "id": "56d5300f-bc2d-4b77-9bae-17e6e3687593",
   "metadata": {},
   "outputs": [
    {
     "ename": "SyntaxError",
     "evalue": "invalid syntax. Perhaps you forgot a comma? (5946449.py, line 16)",
     "output_type": "error",
     "traceback": [
      "\u001b[0;36m  Cell \u001b[0;32mIn [3], line 16\u001b[0;36m\u001b[0m\n\u001b[0;31m    ...\u001b[0m\n\u001b[0m    ^\u001b[0m\n\u001b[0;31mSyntaxError\u001b[0m\u001b[0;31m:\u001b[0m invalid syntax. Perhaps you forgot a comma?\n"
     ]
    }
   ],
   "source": [
    "class CLIPTextEncoder(torch.nn.Module):\n",
    "    def __init__(self, clip_model):\n",
    "        super().__init__()\n",
    "        self.clip_model = clip_model\n",
    "\n",
    "    def forward(self, text):\n",
    "        return self.clip_model.encode_text(text)\n",
    "\n",
    "text_encoder = CLIPTextEncoder(clip_model)\n",
    "# Then export with dummy text input\n",
    "dummy_text = clip.tokenize([\"hello world\"]).to(device)\n",
    "torch.onnx.export(\n",
    "    text_encoder,\n",
    "    dummy_text,\n",
    "    \"clip_text_encoder.onnx\",\n",
    "    ...\n",
    "    input_names=[\"text_input\"],\n",
    "    output_names=[\"text_features\"],\n",
    ")\n"
   ]
  },
  {
   "cell_type": "code",
   "execution_count": null,
   "id": "a5ccbe50-f8de-4a8f-857c-b822f0e79b0d",
   "metadata": {},
   "outputs": [],
   "source": []
  },
  {
   "cell_type": "code",
   "execution_count": null,
   "id": "d9f7cdd6-0e9f-43da-bfa7-0a5d94d180b1",
   "metadata": {},
   "outputs": [],
   "source": []
  },
  {
   "cell_type": "code",
   "execution_count": null,
   "id": "b0b3b5ef-0364-436b-960e-77cd59c733e6",
   "metadata": {},
   "outputs": [],
   "source": []
  },
  {
   "cell_type": "code",
   "execution_count": null,
   "id": "55c8034d-9afc-4010-a3d5-836e93136aa3",
   "metadata": {},
   "outputs": [],
   "source": []
  }
 ],
 "metadata": {
  "kernelspec": {
   "display_name": "Python 3 (ipykernel)",
   "language": "python",
   "name": "python3"
  },
  "language_info": {
   "codemirror_mode": {
    "name": "ipython",
    "version": 3
   },
   "file_extension": ".py",
   "mimetype": "text/x-python",
   "name": "python",
   "nbconvert_exporter": "python",
   "pygments_lexer": "ipython3",
   "version": "3.10.6"
  }
 },
 "nbformat": 4,
 "nbformat_minor": 5
}
