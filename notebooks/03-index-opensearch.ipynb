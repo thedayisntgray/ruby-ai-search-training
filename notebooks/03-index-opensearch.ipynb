{
 "cells": [
  {
   "cell_type": "markdown",
   "id": "3b98c7e4-b55f-4f88-a88c-61c273f900ea",
   "metadata": {},
   "source": [
    "# Lab 3 - Indexing and Searching embeddings in Opensearch"
   ]
  },
  {
   "cell_type": "code",
   "execution_count": 1,
   "id": "55797adf-fda8-4ec2-aaf3-59c4345268ac",
   "metadata": {},
   "outputs": [
    {
     "data": {
      "text/plain": [
       "true"
      ]
     },
     "execution_count": 1,
     "metadata": {},
     "output_type": "execute_result"
    }
   ],
   "source": [
    "require 'opensearch'\n",
    "require 'transformers-rb'\n",
    "require 'tqdm'\n",
    "require 'date'\n",
    "require 'json'\n",
    "require 'polars-df'"
   ]
  },
  {
   "cell_type": "code",
   "execution_count": 2,
   "id": "3a362519-9ee6-4aa8-9087-c9c8d37a3e24",
   "metadata": {},
   "outputs": [
    {
     "data": {
      "text/plain": [
       ":save_embeddings"
      ]
     },
     "execution_count": 2,
     "metadata": {},
     "output_type": "execute_result"
    }
   ],
   "source": [
    "def save_embedding(embedding, file)\n",
    "  File.open(file, 'ab') do |f| \n",
    "    Marshal.dump(embedding, f)\n",
    "  end\n",
    "end\n",
    "\n",
    "def each_embedding(file)\n",
    "  return enum_for(:each_embedding, file) unless block_given?\n",
    "  \n",
    "  File.open(file, 'rb') do |f|\n",
    "    begin\n",
    "      while !f.eof?\n",
    "        yield Marshal.load(f)\n",
    "      end\n",
    "    rescue EOFError\n",
    "      # Break out if we hit end of file\n",
    "    end\n",
    "  end\n",
    "end\n",
    "\n",
    "def load_embeddings(file)\n",
    "  embeddings = []\n",
    "  each_embedding(file) do |embedding|\n",
    "    embeddings << embedding\n",
    "  end\n",
    "  embeddings\n",
    "end\n",
    "\n",
    "def save_embeddings(model, texts, prefix: \"passage: \", cache_file: \"embeddings.cache\")\n",
    "  texts = [texts] unless texts.is_a?(Array)\n",
    "  start_idx = each_embedding(cache_file).count rescue 0\n",
    "  \n",
    "  texts[start_idx..].each_with_index do |text, i|\n",
    "    prefixed_text = \"#{prefix}#{text}\"\n",
    "    embedding = model.(prefixed_text)\n",
    "    save_embedding(embedding, cache_file)\n",
    "    \n",
    "    current = start_idx + i + 1\n",
    "    percent = (current.to_f / texts.length * 100).to_i\n",
    "    print \"\\rProcessing embeddings: #{percent}% (#{current}/#{texts.length})\"\n",
    "  end\n",
    "  print \"\\nDone!\\n\"\n",
    "end"
   ]
  },
  {
   "cell_type": "markdown",
   "id": "cf46c93c-d892-4cef-b6f8-18cd6a9f5c81",
   "metadata": {
    "tags": []
   },
   "source": [
    "## Helper methods & setup"
   ]
  },
  {
   "cell_type": "code",
   "execution_count": 3,
   "id": "5d7ac1d4-8c6f-4eec-94c6-c04e7c32559f",
   "metadata": {},
   "outputs": [
    {
     "name": "stdout",
     "output_type": "stream",
     "text": [
      "Welcome to opensearch 2.11.0!\n"
     ]
    }
   ],
   "source": [
    "host = 'opensearch-node'\n",
    "port = 9200\n",
    "\n",
    "$client = OpenSearch::Client.new(hosts: [{ host: host, port: port }])\n",
    "info = $client.info\n",
    "puts \"Welcome to #{info['version']['distribution']} #{info['version']['number']}!\""
   ]
  },
  {
   "cell_type": "markdown",
   "id": "5713e820-8f5f-44bf-b80c-eddff6513127",
   "metadata": {},
   "source": [
    "## First, look at the schema\n",
    "\n",
    "Right click on the 'schema.json' file in the tree, and open with Editor"
   ]
  },
  {
   "cell_type": "markdown",
   "id": "7330b9cd-d441-4073-a1e2-370840f62d50",
   "metadata": {
    "tags": []
   },
   "source": [
    "## Create the OpenSearch Index"
   ]
  },
  {
   "cell_type": "code",
   "execution_count": 4,
   "id": "b596f15c-bfb0-4122-ba38-b656d57b51c5",
   "metadata": {},
   "outputs": [
    {
     "data": {
      "text/plain": [
       ":create_index"
      ]
     },
     "execution_count": 4,
     "metadata": {},
     "output_type": "execute_result"
    }
   ],
   "source": [
    "def create_index(name: \"ai-search\", filename: \"schema.json\", delete: false)\n",
    "    schema = File.read(filename)\n",
    "    index_name = name\n",
    "    index_body = schema\n",
    "\n",
    "    if delete\n",
    "        begin\n",
    "            $client.indices.delete(index: index_name)\n",
    "        rescue\n",
    "            # Index might not exist\n",
    "        end\n",
    "    end\n",
    "        \n",
    "    response = $client.indices.create(index: index_name, body: index_body)\n",
    "    puts response\n",
    "end"
   ]
  },
  {
   "cell_type": "code",
   "execution_count": 5,
   "id": "ca8cdc04-9308-49ad-8e6d-be2f1db0f109",
   "metadata": {},
   "outputs": [
    {
     "name": "stdout",
     "output_type": "stream",
     "text": [
      "{\"acknowledged\"=>true, \"shards_acknowledged\"=>true, \"index\"=>\"ai-search\"}\n"
     ]
    }
   ],
   "source": [
    "create_index(delete: true)"
   ]
  },
  {
   "cell_type": "markdown",
   "id": "a529604a-3130-4243-ac57-619fb1696490",
   "metadata": {
    "tags": []
   },
   "source": [
    "## Use the same model and method to get the query embedding, with some defaults changed\n",
    "Remember, the model is `intfloat/e5-small-v2` and we need to prefix any query with 'query:'"
   ]
  },
  {
   "cell_type": "code",
   "execution_count": 1,
   "id": "51bb8416-ea0c-44dc-869c-196ee4671425",
   "metadata": {},
   "outputs": [
    {
     "ename": "NameError",
     "evalue": "uninitialized constant Transformers",
     "output_type": "error",
     "traceback": [
      "\u001b[31mNameError\u001b[0m: uninitialized constant Transformers",
      "(irb):1:in `<top (required)>'"
     ]
    }
   ],
   "source": [
    "# The E5 models expect 'query:' and 'passage:' prefixes\n",
    "$model = Transformers.pipeline(\"embedding\", 'intfloat/e5-small-v2')\n",
    "\n",
    "\n",
    "def get_embeddings(texts, prefix: \"passage: \")\n",
    "  # puts texts\n",
    "  texts = [texts] unless texts.is_a?(Array)\n",
    "  total = texts.length\n",
    "  embeddings = []\n",
    "  \n",
    "  texts.each_with_index do |text, i|\n",
    "    prefixed_text = \"#{prefix}#{text}\"\n",
    "    embedding = $model.(prefixed_text)\n",
    "    embeddings << embedding\n",
    "    \n",
    "    percent = ((i + 1).to_f / total * 100).to_i\n",
    "    print \"\\rProcessing embeddings: #{percent}% (#{i + 1}/#{total})\"\n",
    "  end\n",
    "  \n",
    "  print \"\\nDone!\\n\"\n",
    "  embeddings\n",
    "end"
   ]
  },
  {
   "cell_type": "markdown",
   "id": "c83d8993-83e8-4799-a8aa-def7783df430",
   "metadata": {
    "tags": []
   },
   "source": [
    "## Get our dataset and title_embeddings"
   ]
  },
  {
   "cell_type": "code",
   "execution_count": 7,
   "id": "3015a4dd-06d1-4508-a1d4-97edf64f968b",
   "metadata": {},
   "outputs": [
    {
     "data": {
      "text/plain": [
       "shape: (1_000, 7)\n",
       "┌──────────────┬─────────────┬─────────────┬─────────────┬─────────────┬─────────────┬─────────────┐\n",
       "│ title        ┆ text        ┆ domain      ┆ date        ┆ description ┆ url         ┆ image_url   │\n",
       "│ ---          ┆ ---         ┆ ---         ┆ ---         ┆ ---         ┆ ---         ┆ ---         │\n",
       "│ str          ┆ str         ┆ str         ┆ str         ┆ str         ┆ str         ┆ str         │\n",
       "╞══════════════╪═════════════╪═════════════╪═════════════╪═════════════╪═════════════╪═════════════╡\n",
       "│ Daughter Duo ┆ There's a   ┆ www.pointem ┆ 2017-12-11  ┆ There's a   ┆ http://www. ┆ https://poi │\n",
       "│ is Dancing   ┆ surprising  ┆ agazine.com ┆ 20:19:05    ┆ surprising  ┆ pointemagaz ┆ nte-img.rbl │\n",
       "│ in The…      ┆ twist to …  ┆             ┆             ┆ twist to …  ┆ ine.com/…   ┆ .ms/sima…   │\n",
       "│ New York     ┆ The New     ┆ www.pointem ┆ 2017-12-11  ┆ NYCB has    ┆ http://www. ┆ https://poi │\n",
       "│ City Ballet  ┆ York City   ┆ agazine.com ┆ 17:02:55    ┆ announced   ┆ pointemagaz ┆ nte-img.rbl │\n",
       "│ Announces…   ┆ Ballet      ┆             ┆             ┆ an interim  ┆ ine.com/…   ┆ .ms/sima…   │\n",
       "│              ┆ Board…      ┆             ┆             ┆ …           ┆             ┆             │\n",
       "│ Watch        ┆ The Philade ┆ www.pointem ┆ 2018-02-02  ┆ The Philade ┆ http://www. ┆ https://poi │\n",
       "│ Pennsylvania ┆ lphia       ┆ agazine.com ┆ 21:58:13    ┆ lphia       ┆ pointemagaz ┆ nte-img.rbl │\n",
       "│ Ballet & Bo… ┆ Eagles and  ┆             ┆             ┆ Eagles and  ┆ ine.com/…   ┆ .ms/sima…   │\n",
       "│              ┆ th…         ┆             ┆             ┆ th…         ┆             ┆             │\n",
       "│ dance shoes  ┆ Looking for ┆ www.pointem ┆ 2018-04-24  ┆ Looking for ┆ https://www ┆ https://poi │\n",
       "│              ┆ your next   ┆ agazine.com ┆ 19:00:11    ┆ your next   ┆ .pointemaga ┆ nte-img.rbl │\n",
       "│              ┆ audition…   ┆             ┆             ┆ audition…   ┆ zine.com…   ┆ .ms/sima…   │\n",
       "│ Rebecca      ┆ New York    ┆ www.pointem ┆ 2017-10-06  ┆ We          ┆ http://www. ┆ https://poi │\n",
       "│ Krohn on Her ┆ City Ballet ┆ agazine.com ┆ 14:44:51    ┆ interviewed ┆ pointemagaz ┆ nte-img.rbl │\n",
       "│ Retiremen…   ┆ principal…  ┆             ┆             ┆ New York    ┆ ine.com/…   ┆ .ms/sima…   │\n",
       "│              ┆             ┆             ┆             ┆ City B…     ┆             ┆             │\n",
       "│ …            ┆ …           ┆ …           ┆ …           ┆ …           ┆ …           ┆ …           │\n",
       "│ AP-NORC      ┆ NEW YORK    ┆ www.taiwann ┆ 2018-04-24  ┆ AP-NORC     ┆ https://www ┆ https://tni │\n",
       "│ poll:        ┆ (AP) — If   ┆ ews.com.tw  ┆ 00:00:00    ┆ poll:       ┆ .taiwannews ┆ mage.taiwan │\n",
       "│ Privacy      ┆ you've      ┆             ┆             ┆ Privacy     ┆ .com.tw/…   ┆ news.com…   │\n",
       "│ debacle …    ┆ made…       ┆             ┆             ┆ debacle …   ┆             ┆             │\n",
       "│ The question ┆ WOLVEGA,    ┆ www.taiwann ┆ 2018-01-30  ┆ The         ┆ https://www ┆ https://www │\n",
       "│ at the       ┆ Netherlands ┆ ews.com.tw  ┆ 15:33:00    ┆ question at ┆ .taiwannews ┆ .taiwannews │\n",
       "│ Olympic Ov…  ┆ (AP) — No…  ┆             ┆             ┆ the Olympic ┆ .com.tw/…   ┆ .com.tw/…   │\n",
       "│              ┆             ┆             ┆             ┆ Ov…         ┆             ┆             │\n",
       "│ Column: PGA  ┆ The PGA     ┆ www.taiwann ┆ 2018-04-24  ┆ Column: PGA ┆ https://www ┆ https://tni │\n",
       "│ Tour primed  ┆ Tour began  ┆ ews.com.tw  ┆ 23:31:00    ┆ Tour primed ┆ .taiwannews ┆ mage.taiwan │\n",
       "│ for bi…      ┆ the second  ┆             ┆             ┆ for bi…     ┆ .com.tw/…   ┆ news.com…   │\n",
       "│              ┆ …           ┆             ┆             ┆             ┆             ┆             │\n",
       "│ Going, going ┆ CLEVELAND   ┆ www.taiwann ┆ 2018-02-03  ┆ Going,      ┆ https://www ┆ https://tni │\n",
       "│ ... Indians  ┆ (AP) — A    ┆ ews.com.tw  ┆ 00:00:00    ┆ going ...   ┆ .taiwannews ┆ mage.taiwan │\n",
       "│ remov…       ┆ smiling     ┆             ┆             ┆ Indians     ┆ .com.tw/…   ┆ news.com…   │\n",
       "│              ┆ rem…        ┆             ┆             ┆ remov…      ┆             ┆             │\n",
       "│ Racing       ┆ SILVERSTONE ┆ www.taiwann ┆ 2018-07-01  ┆ Racing      ┆ https://www ┆ https://tni │\n",
       "│ director     ┆ , England   ┆ ews.com.tw  ┆ 00:00:00    ┆ director    ┆ .taiwannews ┆ mage.taiwan │\n",
       "│ Eric         ┆ (AP) — St…  ┆             ┆             ┆ Eric        ┆ .com.tw/…   ┆ news.com…   │\n",
       "│ Boullier …   ┆             ┆             ┆             ┆ Boullier …  ┆             ┆             │\n",
       "└──────────────┴─────────────┴─────────────┴─────────────┴─────────────┴─────────────┴─────────────┘"
      ]
     },
     "execution_count": 7,
     "metadata": {},
     "output_type": "execute_result"
    }
   ],
   "source": [
    "# Load 50k records of the the 'cc_news' dataset from Hugging Face\n",
    "# dataset = Dataset.load_dataset(\"cc_news\", split: 'train[0:50000]')\n",
    "\n",
    "\n",
    "dataset = Polars.read_parquet('hf://datasets/vblagoje/cc_news/plain_text/train-*.parquet').head(1000)"
   ]
  },
  {
   "cell_type": "code",
   "execution_count": 9,
   "id": "58c369dd-075b-4594-b920-f6dbf5c4d0bc",
   "metadata": {},
   "outputs": [
    {
     "data": {
      "text/plain": [
       "1000"
      ]
     },
     "execution_count": 9,
     "metadata": {},
     "output_type": "execute_result"
    }
   ],
   "source": [
    "dataset.size"
   ]
  },
  {
   "cell_type": "code",
   "execution_count": 12,
   "id": "47cbf97b-8c05-4540-835b-ea04f1de8cac",
   "metadata": {},
   "outputs": [],
   "source": [
    "# Load the title_embeddings we generated in 02-sentence-transformers\n",
    "\n",
    "#I should rename to this original\n",
    "# title_embeddings = Marshal.load(File.read('cc_news_title_embeddings_50000.marshal'))\n",
    "title_embeddings = load_embeddings(\"embeddings.cache\")\n",
    "nil"
   ]
  },
  {
   "cell_type": "code",
   "execution_count": 13,
   "id": "cb99bc62-ce33-43dc-98b7-891e7b8972b1",
   "metadata": {},
   "outputs": [
    {
     "data": {
      "text/plain": [
       "shape: (1_000, 8)\n",
       "┌────────────┬────────────┬────────────┬───────────┬───────────┬───────────┬───────────┬───────────┐\n",
       "│ title      ┆ text       ┆ domain     ┆ date      ┆ descripti ┆ url       ┆ image_url ┆ title_emb │\n",
       "│ ---        ┆ ---        ┆ ---        ┆ ---       ┆ on        ┆ ---       ┆ ---       ┆ edding    │\n",
       "│ str        ┆ str        ┆ str        ┆ str       ┆ ---       ┆ str       ┆ str       ┆ ---       │\n",
       "│            ┆            ┆            ┆           ┆ str       ┆           ┆           ┆ list[f64] │\n",
       "╞════════════╪════════════╪════════════╪═══════════╪═══════════╪═══════════╪═══════════╪═══════════╡\n",
       "│ Daughter   ┆ There's a  ┆ www.pointe ┆ 2017-12-1 ┆ There's a ┆ http://ww ┆ https://p ┆ [0.007776 │\n",
       "│ Duo is     ┆ surprising ┆ magazine.c ┆ 1         ┆ surprisin ┆ w.pointem ┆ ointe-img ┆ ,         │\n",
       "│ Dancing in ┆ twist to … ┆ om         ┆ 20:19:05  ┆ g twist   ┆ agazine.c ┆ .rbl.ms/s ┆ 0.030637, │\n",
       "│ The…       ┆            ┆            ┆           ┆ to …      ┆ om/…      ┆ ima…      ┆ …         │\n",
       "│            ┆            ┆            ┆           ┆           ┆           ┆           ┆ -0.0067…  │\n",
       "│ New York   ┆ The New    ┆ www.pointe ┆ 2017-12-1 ┆ NYCB has  ┆ http://ww ┆ https://p ┆ [-0.07286 │\n",
       "│ City       ┆ York City  ┆ magazine.c ┆ 1         ┆ announced ┆ w.pointem ┆ ointe-img ┆ 7,        │\n",
       "│ Ballet     ┆ Ballet     ┆ om         ┆ 17:02:55  ┆ an        ┆ agazine.c ┆ .rbl.ms/s ┆ 0.072187, │\n",
       "│ Announces… ┆ Board…     ┆            ┆           ┆ interim … ┆ om/…      ┆ ima…      ┆ … 0.0081… │\n",
       "│ Watch Penn ┆ The Philad ┆ www.pointe ┆ 2018-02-0 ┆ The Phila ┆ http://ww ┆ https://p ┆ [-0.07843 │\n",
       "│ sylvania   ┆ elphia     ┆ magazine.c ┆ 2         ┆ delphia   ┆ w.pointem ┆ ointe-img ┆ 4,        │\n",
       "│ Ballet &   ┆ Eagles and ┆ om         ┆ 21:58:13  ┆ Eagles    ┆ agazine.c ┆ .rbl.ms/s ┆ 0.016707, │\n",
       "│ Bo…        ┆ th…        ┆            ┆           ┆ and th…   ┆ om/…      ┆ ima…      ┆ … 0.0572… │\n",
       "│ dance      ┆ Looking    ┆ www.pointe ┆ 2018-04-2 ┆ Looking   ┆ https://w ┆ https://p ┆ [-0.03482 │\n",
       "│ shoes      ┆ for your   ┆ magazine.c ┆ 4         ┆ for your  ┆ ww.pointe ┆ ointe-img ┆ ,         │\n",
       "│            ┆ next       ┆ om         ┆ 19:00:11  ┆ next      ┆ magazine. ┆ .rbl.ms/s ┆ 0.056233, │\n",
       "│            ┆ audition…  ┆            ┆           ┆ audition… ┆ com…      ┆ ima…      ┆ …         │\n",
       "│            ┆            ┆            ┆           ┆           ┆           ┆           ┆ 0.03732…  │\n",
       "│ Rebecca    ┆ New York   ┆ www.pointe ┆ 2017-10-0 ┆ We interv ┆ http://ww ┆ https://p ┆ [-0.08305 │\n",
       "│ Krohn on   ┆ City       ┆ magazine.c ┆ 6         ┆ iewed New ┆ w.pointem ┆ ointe-img ┆ 7,        │\n",
       "│ Her        ┆ Ballet     ┆ om         ┆ 14:44:51  ┆ York City ┆ agazine.c ┆ .rbl.ms/s ┆ 0.035136, │\n",
       "│ Retiremen… ┆ principal… ┆            ┆           ┆ B…        ┆ om/…      ┆ ima…      ┆ … 0.0458… │\n",
       "│ …          ┆ …          ┆ …          ┆ …         ┆ …         ┆ …         ┆ …         ┆ …         │\n",
       "│ AP-NORC    ┆ NEW YORK   ┆ www.taiwan ┆ 2018-04-2 ┆ AP-NORC   ┆ https://w ┆ https://t ┆ [-0.05827 │\n",
       "│ poll:      ┆ (AP) — If  ┆ news.com.t ┆ 4         ┆ poll:     ┆ ww.taiwan ┆ nimage.ta ┆ ,         │\n",
       "│ Privacy    ┆ you've     ┆ w          ┆ 00:00:00  ┆ Privacy   ┆ news.com. ┆ iwannews. ┆ 0.01976,  │\n",
       "│ debacle …  ┆ made…      ┆            ┆           ┆ debacle … ┆ tw/…      ┆ com…      ┆ …         │\n",
       "│            ┆            ┆            ┆           ┆           ┆           ┆           ┆ 0.018525… │\n",
       "│ The        ┆ WOLVEGA,   ┆ www.taiwan ┆ 2018-01-3 ┆ The       ┆ https://w ┆ https://w ┆ [-0.07060 │\n",
       "│ question   ┆ Netherland ┆ news.com.t ┆ 0         ┆ question  ┆ ww.taiwan ┆ ww.taiwan ┆ 8,        │\n",
       "│ at the     ┆ s (AP) —   ┆ w          ┆ 15:33:00  ┆ at the    ┆ news.com. ┆ news.com. ┆ 0.067035, │\n",
       "│ Olympic    ┆ No…        ┆            ┆           ┆ Olympic   ┆ tw/…      ┆ tw/…      ┆ … 0.0485… │\n",
       "│ Ov…        ┆            ┆            ┆           ┆ Ov…       ┆           ┆           ┆           │\n",
       "│ Column:    ┆ The PGA    ┆ www.taiwan ┆ 2018-04-2 ┆ Column:   ┆ https://w ┆ https://t ┆ [-0.06546 │\n",
       "│ PGA Tour   ┆ Tour began ┆ news.com.t ┆ 4         ┆ PGA Tour  ┆ ww.taiwan ┆ nimage.ta ┆ 8,        │\n",
       "│ primed for ┆ the second ┆ w          ┆ 23:31:00  ┆ primed    ┆ news.com. ┆ iwannews. ┆ 0.020075, │\n",
       "│ bi…        ┆ …          ┆            ┆           ┆ for bi…   ┆ tw/…      ┆ com…      ┆ … -0.003… │\n",
       "│ Going,     ┆ CLEVELAND  ┆ www.taiwan ┆ 2018-02-0 ┆ Going,    ┆ https://w ┆ https://t ┆ [-0.06215 │\n",
       "│ going ...  ┆ (AP) — A   ┆ news.com.t ┆ 3         ┆ going ... ┆ ww.taiwan ┆ nimage.ta ┆ 9,        │\n",
       "│ Indians    ┆ smiling    ┆ w          ┆ 00:00:00  ┆ Indians   ┆ news.com. ┆ iwannews. ┆ 0.001107, │\n",
       "│ remov…     ┆ rem…       ┆            ┆           ┆ remov…    ┆ tw/…      ┆ com…      ┆ … -0.000… │\n",
       "│ Racing     ┆ SILVERSTON ┆ www.taiwan ┆ 2018-07-0 ┆ Racing    ┆ https://w ┆ https://t ┆ [-0.08463 │\n",
       "│ director   ┆ E, England ┆ news.com.t ┆ 1         ┆ director  ┆ ww.taiwan ┆ nimage.ta ┆ 9,        │\n",
       "│ Eric       ┆ (AP) — St… ┆ w          ┆ 00:00:00  ┆ Eric      ┆ news.com. ┆ iwannews. ┆ 0.047897, │\n",
       "│ Boullier … ┆            ┆            ┆           ┆ Boullier  ┆ tw/…      ┆ com…      ┆ … 0.0358… │\n",
       "│            ┆            ┆            ┆           ┆ …         ┆           ┆           ┆           │\n",
       "└────────────┴────────────┴────────────┴───────────┴───────────┴───────────┴───────────┴───────────┘"
      ]
     },
     "execution_count": 13,
     "metadata": {},
     "output_type": "execute_result"
    }
   ],
   "source": [
    "require 'polars'\n",
    "\n",
    "# Create DataFrame from title embeddings\n",
    "$title_embeddings_dataset = Polars::DataFrame.new({ \"title_embedding\" => title_embeddings })\n",
    "\n",
    "# Combine with original DataFrame horizontally\n",
    "$records_dataset = dataset.hstack($title_embeddings_dataset)"
   ]
  },
  {
   "cell_type": "code",
   "execution_count": 354,
   "id": "e14c3311-b8db-451f-836b-e3debc324617",
   "metadata": {},
   "outputs": [
    {
     "name": "stdout",
     "output_type": "stream",
     "text": [
      "Watch Pennsylvania Ballet & Boston Ballet Face Off for the Super Bowl\n",
      "http://www.pointemagazine.com/watch-pennsylvania-ballet-boston-ballet-face-off-for-the-super-bowl-2530816257.html\n"
     ]
    }
   ],
   "source": [
    "# Select values using get()\n",
    "puts $records_dataset[\"title\"][2]\n",
    "puts $records_dataset[\"url\"][2]\n",
    "nil"
   ]
  },
  {
   "cell_type": "markdown",
   "id": "15457ac2-a1cc-4e9d-a969-51e7c369cf7e",
   "metadata": {},
   "source": [
    "## Index the data in bulk, into our Opensearch index"
   ]
  },
  {
   "cell_type": "code",
   "execution_count": 283,
   "id": "3283728e-1d9a-4cab-9879-92d9beb696b3",
   "metadata": {},
   "outputs": [
    {
     "data": {
      "text/plain": [
       ":get_document"
      ]
     },
     "execution_count": 283,
     "metadata": {},
     "output_type": "execute_result"
    }
   ],
   "source": [
    "def format_date(date_string)\n",
    "    begin\n",
    "        date_obj = DateTime.strptime(date_string, '%Y-%m-%d %H:%M:%S')\n",
    "        date_obj.strftime('%Y-%m-%dT%H:%M:%S')\n",
    "    rescue Date::Error\n",
    "        nil\n",
    "    end\n",
    "end\n",
    "\n",
    "def get_document(idx, records)\n",
    "    record = records[idx]\n",
    "    # puts 'idx'\n",
    "    # puts idx\n",
    "    # puts record['title'].to_a[0]\n",
    "    {\n",
    "        'title' => record['title'].to_a[0],\n",
    "        'text' => record['text'].to_a[0],\n",
    "        'domain' => record['domain'].to_a[0],\n",
    "        'date' => format_date(record['date'].to_a[0]),\n",
    "        'description' => record['description'].to_a[0],\n",
    "        'url' => record['url'].to_a[0],\n",
    "        'image_url' => record['image_url'].to_a[0],\n",
    "        'title_embedding' => record['title_embedding'].to_a[0]\n",
    "    }\n",
    "end"
   ]
  },
  {
   "cell_type": "code",
   "execution_count": 284,
   "id": "670fcde8-d2ec-4e84-a89c-78bffa2d6b2b",
   "metadata": {},
   "outputs": [
    {
     "name": "stdout",
     "output_type": "stream",
     "text": [
      "{\"title\":\"New York City Ballet Announces Interim Leadership Team\",\"text\":\"The New York City Ballet Board of Directors announced on Saturday the interim team that has been appointed to run the artistic side of the company during ballet master in chief Peter Martins' leave of absence. Martins requested a temporary leave from both NYCB and the School of American Ballet last Thursday while the company undergoes an internal investigation into the sexual harassment accusations aimed at him.\\nThe four-person group is made up of members of the company's current artistic staff, led by ballet master and former principal dancer Jonathan Stafford. Joining Stafford are NYCB resident choreographer and soloist Justin Peck and ballet masters Craig Hall and Rebecca Krohn, both former dancers with the company. While the members of this group haven't had much leadership experience, their close familiarity with the company (Krohn left the stage for her new role just two months ago) should help to ease the dancers' transition.\\nThe team will be responsible for the day-to-day artistic needs of the company including scheduling, casting and conducting rehearsals. While there's no word yet on the length of their tenure, we'll continue to keep you updated as the story surrounding Martins unfolds.\",\"domain\":\"www.pointemagazine.com\",\"date\":\"2017-12-11T17:02:55\",\"description\":\"NYCB has announced an interim leadership team to run the company during Peter Martin's leave of absence amidst sexual harassment accusations.\",\"url\":\"http://www.pointemagazine.com/nycb-interim-leadership-team-2516618703.html\",\"image_url\":\"https://pointe-img.rbl.ms/simage/https%3A%2F%2Fassets.rbl.ms%2F16802226%2F980x.jpg/2000%2C2000/ShYo5fi9RpsI65MR/img.jpg\",\"title_embedding\":[-0.0728667601943016,0.07218745350837708,0.02499803900718689,0.006468174513429403,-0.04569319635629654,0.04886695742607117,0.03206431493163109,-0.07378427684307098,0.03780230134725571,0.04104029759764671,0.013607123866677284,0.013920297846198082,-0.02991625666618347,0.028268907219171524,0.041352733969688416,-0.014136480167508125,-0.02475675381720066,0.06299027055501938,-0.02302888035774231,0.056094612926244736,0.01232557650655508,-0.05929965898394585,-0.020997723564505577,-0.042708124965429306,0.0015147703234106302,-0.053124573081731796,0.011339258402585983,0.033046457916498184,-0.055102646350860596,-0.13675791025161743,-0.08663535863161087,-0.06322760134935379,0.00364445592276752,-0.0006159507902339101,0.0901251882314682,0.006464735604822636,-0.007353620603680611,0.06794247776269913,0.046651821583509445,0.07672852277755737,-0.023359430953860283,-0.046543218195438385,0.03764433413743973,-0.039356596767902374,0.025652596727013588,0.002666294574737549,-0.09661149978637695,-0.047504618763923645,-0.01229674182832241,-0.012745827436447144,0.01086489949375391,0.03138560801744461,0.09334535151720047,0.06227950379252434,0.0519484281539917,0.04360219091176987,0.05697520822286606,0.01877807453274727,0.09991298615932465,0.0941956415772438,-0.01699763350188732,0.012170465663075447,-0.16747497022151947,0.06627517938613892,0.07694767415523529,0.0472920723259449,-0.03877782076597214,-0.00824601761996746,-0.010755619965493679,0.009045195765793324,0.012536359950900078,-0.005847950000315905,-0.026219556108117104,0.03719126805663109,-0.028191911056637764,0.07765873521566391,0.03346415236592293,0.051498256623744965,-0.09704668074846268,-0.016894152387976646,0.048784784972667694,-0.0469205304980278,0.021942464634776115,0.018621249124407768,0.023478874936699867,-0.021717602387070656,-0.002603494795039296,0.019469045102596283,-0.01588090881705284,0.0009981802431866527,-0.029912671074271202,-0.02497050352394581,0.007238578982651234,-0.041710566729307175,-0.054705988615751266,-0.0215375404804945,0.06909146159887314,-0.028162384405732155,-0.020792314782738686,0.07962648570537567,0.05419839546084404,0.0038555311039090157,0.0036888837348669767,6.336406659102067e-05,-0.01748974435031414,-0.08028581738471985,0.05902376398444176,-0.003938951995223761,0.008615612052381039,-0.004594623576849699,-0.07156307250261307,-0.031300462782382965,0.01823832094669342,-0.013782545924186707,0.04839055985212326,0.01365375891327858,-0.033719077706336975,-0.015979193150997162,-0.048065561801195145,-0.014380517415702343,0.09126641601324081,0.05665591359138489,-0.0037501510232686996,0.008498672395944595,0.03630431368947029,-0.03131633624434471,0.03273483365774155,0.08092636615037918,0.018026480451226234,-0.004672002978622913,0.04745336249470711,0.014023500494658947,-0.030887717381119728,-0.013033867813646793,-0.03537660464644432,-0.05217469483613968,-0.043008603155612946,-7.138713954191189e-06,0.005104272160679102,0.034236494451761246,0.01912754774093628,-0.07864882051944733,-0.04970962926745415,-0.1268996149301529,0.016183607280254364,0.04776398092508316,-0.08995460718870163,0.0395590215921402,-0.05024868622422218,0.032047443091869354,-0.0797993466258049,0.04369967803359032,-0.01398102380335331,0.06595861911773682,-0.0025177772622555494,-0.0015872518997639418,-0.01858004927635193,0.1254519671201706,-0.04189226031303406,-0.04235498607158661,-0.04165218397974968,0.00040663083200342953,0.042593177407979965,0.10581716150045395,-0.030555183067917824,-0.13464419543743134,0.025510214269161224,-0.012154951691627502,0.02370879426598549,-0.013807898387312889,-0.011923766694962978,0.03404612094163895,0.05966046452522278,0.01513761281967163,0.04744776338338852,0.007297988515347242,-0.017998801544308662,-0.045601267367601395,0.04138369858264923,-0.04332869127392769,0.09109711647033691,-0.050568241626024246,0.013142254203557968,0.06730587035417557,0.10260374844074249,-0.0038781939074397087,-0.0634661540389061,-0.0801173746585846,-0.006406421307474375,-0.05837351456284523,-0.09645820409059525,0.05939232185482979,0.03739333525300026,0.027229417115449905,0.037169598042964935,-0.0006200689822435379,-0.004448314663022757,-0.10863746702671051,-0.07607997208833694,-0.04445970430970192,0.06705870479345322,0.08138734847307205,-0.052597545087337494,0.03533663973212242,-0.045034874230623245,0.046002332121133804,0.01649385131895542,-0.03952353820204735,0.005470090080052614,0.003032076172530651,-0.01729101873934269,0.022684236988425255,-0.011081699281930923,-0.0683027058839798,0.011891191825270653,-0.023013880476355553,-0.011600561439990997,0.025643572211265564,-0.029415009543299675,0.020311856642365456,0.002968373941257596,0.025784017518162727,-0.0672302395105362,-0.15672531723976135,0.016146747395396233,-0.07163169980049133,-0.010015302337706089,-0.037003107368946075,0.004370619542896748,-0.019685713574290276,0.03641859441995621,0.002178020542487502,0.030124500393867493,0.10046788305044174,-0.0339067280292511,-0.02201027236878872,-0.009282833896577358,-0.015603100880980492,0.028281278908252716,-0.029923278838396072,0.009117312729358673,0.04514648765325546,-0.017737045884132385,-0.03581153228878975,-0.005861229728907347,-0.06596434116363525,-0.07182047516107559,0.006692653521895409,-0.03434576466679573,0.14382295310497284,0.11490398645401001,0.014413234777748585,-0.047784846276044846,0.033305998891592026,0.030484192073345184,-0.0030482050497084856,-0.05040086805820465,0.0910537913441658,-0.03653848171234131,-0.024335667490959167,0.0027333570178598166,-0.0549396388232708,-0.10015497356653214,0.054703015834093094,-0.017528284341096878,0.022037610411643982,-0.11404792964458466,0.12619785964488983,-0.07312045246362686,0.03447488322854042,0.03634924069046974,-0.07232074439525604,-0.026461727917194366,0.03859373927116394,-0.06380318105220795,0.018524250015616417,-0.040145330131053925,-0.03909127786755562,-0.04854528233408928,-0.053930554538965225,-0.002629389287903905,-0.07061457633972168,0.0442948155105114,-0.08019080758094788,-0.014413162134587765,0.054695382714271545,-0.004771781153976917,-0.01702849753201008,0.02998768351972103,-0.03374437615275383,0.043611083179712296,-0.07174648344516754,-0.048559628427028656,0.017212215811014175,0.03793042153120041,-0.06655178219079971,-0.008590137585997581,0.07824408262968063,-0.012407274916768074,0.030706727877259254,0.0040002185851335526,-0.05814296007156372,-0.06885826587677002,-0.02755117230117321,-0.07829473167657852,0.02261272631585598,0.04868052154779434,0.035448141396045685,-0.026469169184565544,0.00835864245891571,-0.009430591948330402,-0.010382878594100475,-0.000607914524152875,0.05106412246823311,0.025594187900424004,0.03591175377368927,0.08914928883314133,0.0051889619790017605,-0.046461641788482666,-0.14231707155704498,-0.0695427656173706,0.049382131546735764,-0.000995315727777779,0.014736403711140156,0.04874777793884277,0.016344591975212097,0.0015248575946316123,-0.055329546332359314,-0.054318442940711975,0.07006340473890305,0.05673395097255707,0.0903954729437828,0.03770388290286064,-0.024222584441304207,0.07757022976875305,0.0949304848909378,0.008948050439357758,0.04786774888634682,-0.038310810923576355,-0.043750740587711334,-0.04083248972892761,0.1702978014945984,0.030232366174459457,-0.042494069784879684,0.03473607823252678,0.00949222780764103,0.029605744406580925,0.002951625734567642,-0.020551878958940506,0.02602177858352661,-0.03149090334773064,0.08260903507471085,-0.01522149983793497,0.01461152732372284,0.07102078944444656,-0.03239637613296509,0.016419511288404465,0.010743245482444763,-0.00166284607257694,0.05683932080864906,0.055587854236364365,-0.06617091596126556,-0.02811170555651188,0.1006513312458992,-0.05686153843998909,-0.04549631103873253,-0.0027322068344801664,-0.06288985908031464,-0.03601370379328728,-0.07812902331352234,-0.008061938919126987,0.09070804715156555,0.04956045374274254,0.039814870804548264,0.008969386108219624,-0.052632953971624374,-0.0009073328110389411,-0.0001701869914541021,-0.026241041719913483,-0.025311656296253204,-0.09633523225784302,-0.034779369831085205,-0.003344060154631734,0.008182045072317123]}\n"
     ]
    }
   ],
   "source": [
    "first_doc = get_document(1, $records_dataset)\n",
    "puts first_doc.to_json\n"
   ]
  },
  {
   "cell_type": "code",
   "execution_count": 285,
   "id": "99bdf0b1-dfdb-4d53-aecc-45d8897c0f6e",
   "metadata": {},
   "outputs": [
    {
     "data": {
      "text/plain": [
       ":index_one"
      ]
     },
     "execution_count": 285,
     "metadata": {},
     "output_type": "execute_result"
    }
   ],
   "source": [
    "def index_one(document)\n",
    "    index_name = \"ai-search\"\n",
    "    $client.index(index: index_name, id: document['url'], body: document)\n",
    "end"
   ]
  },
  {
   "cell_type": "code",
   "execution_count": 286,
   "id": "e9000709-1634-4954-9b24-47577b965ad7",
   "metadata": {},
   "outputs": [
    {
     "data": {
      "text/plain": [
       "{\"_index\"=>\"ai-search\", \"_id\"=>\"http://www.pointemagazine.com/nycb-interim-leadership-team-2516618703.html\", \"_version\"=>39, \"result\"=>\"updated\", \"_shards\"=>{\"total\"=>2, \"successful\"=>1, \"failed\"=>0}, \"_seq_no\"=>31314, \"_primary_term\"=>1}"
      ]
     },
     "execution_count": 286,
     "metadata": {},
     "output_type": "execute_result"
    }
   ],
   "source": [
    "index_one(first_doc)"
   ]
  },
  {
   "cell_type": "code",
   "execution_count": 350,
   "id": "61043ac2-1438-4724-9dbd-22bb2553ea87",
   "metadata": {},
   "outputs": [
    {
     "data": {
      "text/plain": [
       "shape: (1_000,)\n",
       "Series: 'title' [str]\n",
       "[\n",
       "\t\"Daughter Duo is Dancing in The…\n",
       "\t\"New York City Ballet Announces…\n",
       "\t\"Watch Pennsylvania Ballet & Bo…\n",
       "\t\"dance shoes\"\n",
       "\t\"Rebecca Krohn on Her Retiremen…\n",
       "\t…\n",
       "\t\"AP-NORC poll: Privacy debacle …\n",
       "\t\"The question at the Olympic Ov…\n",
       "\t\"Column: PGA Tour primed for bi…\n",
       "\t\"Going, going ... Indians remov…\n",
       "\t\"Racing director Eric Boullier …\n",
       "]"
      ]
     },
     "execution_count": 350,
     "metadata": {},
     "output_type": "execute_result"
    }
   ],
   "source": [
    "$records_dataset['title']\n"
   ]
  },
  {
   "cell_type": "code",
   "execution_count": 351,
   "id": "1d847f69-e0af-4096-bd2c-f45a1642b158",
   "metadata": {},
   "outputs": [
    {
     "data": {
      "text/plain": [
       ":index_bulk"
      ]
     },
     "execution_count": 351,
     "metadata": {},
     "output_type": "execute_result"
    }
   ],
   "source": [
    "def index_bulk(records_dataset, batch_size: 100)\n",
    "  index = \"ai-search\"\n",
    "  count = records_dataset.height\n",
    "    \n",
    "  (0...count).step(batch_size).each do |batch|\n",
    "    left = batch\n",
    "    right = [batch + batch_size, count].min\n",
    "    documents = []\n",
    "    \n",
    "    (left...right).each do |idx|   \n",
    "      document = get_document(idx, records_dataset)\n",
    "      \n",
    "      # Create action metadata with newline\n",
    "      action = { index: { _index: index, _id: document['url'] } }.to_json + \"\\n\"\n",
    "      \n",
    "      # Add document data with newline\n",
    "      doc_data = document.to_json + \"\\n\"\n",
    "      \n",
    "      # Add both to bulk body\n",
    "      documents << action\n",
    "      documents << doc_data\n",
    "\n",
    "    end\n",
    "\n",
    "    # Join all lines for the bulk request\n",
    "    response = $client.bulk(body: documents.join,refresh: true)\n",
    "  end\n",
    "  \n",
    "  puts \"Total documents indexed: #{count}\"\n",
    "end"
   ]
  },
  {
   "cell_type": "code",
   "execution_count": 352,
   "id": "e10e6aa1-edc7-4e58-8254-dcad4040c630",
   "metadata": {},
   "outputs": [
    {
     "name": "stdout",
     "output_type": "stream",
     "text": [
      "Total documents indexed: 1000\n"
     ]
    }
   ],
   "source": [
    "index_bulk($records_dataset)"
   ]
  },
  {
   "cell_type": "code",
   "execution_count": 349,
   "id": "eeceda88-ee51-4cc7-82fb-2f890bfadf1b",
   "metadata": {},
   "outputs": [],
   "source": [
    "# $records_dataset"
   ]
  },
  {
   "cell_type": "markdown",
   "id": "a4c9d6bc-4c4d-4b28-9901-66fffc3dd7ba",
   "metadata": {},
   "source": [
    "# Time to search!"
   ]
  },
  {
   "cell_type": "code",
   "execution_count": 344,
   "id": "40015c9e-9e27-4b23-be4c-d8fb96e8a4bc",
   "metadata": {},
   "outputs": [
    {
     "data": {
      "text/plain": [
       ":get_knn_body"
      ]
     },
     "execution_count": 344,
     "metadata": {},
     "output_type": "execute_result"
    }
   ],
   "source": [
    "def get_knn_body(querystring)\n",
    "    embeddings = get_embeddings(querystring)\n",
    "    {\n",
    "        \"query\" => {\n",
    "            \"bool\" => {\n",
    "                \"should\" => [\n",
    "                    {\n",
    "                        \"knn\" => {\n",
    "                            \"title_embedding\" => {\n",
    "                                \"vector\" => embeddings[0],\n",
    "                                \"k\" => 20\n",
    "                            }\n",
    "                        }\n",
    "                    }\n",
    "                ]\n",
    "            }\n",
    "        },\n",
    "        \"_source\" => { \"exclude\" => [\"title_embedding\"] }\n",
    "    }\n",
    "end"
   ]
  },
  {
   "cell_type": "code",
   "execution_count": 345,
   "id": "e8ed0cfc-2e84-46b9-afc3-0a9167a0a9ae",
   "metadata": {},
   "outputs": [
    {
     "data": {
      "text/plain": [
       ":serps"
      ]
     },
     "execution_count": 345,
     "metadata": {},
     "output_type": "execute_result"
    }
   ],
   "source": [
    "def serps(querystring, resp, k: 5, show: true)\n",
    "    # puts resp\n",
    "    count = resp[\"hits\"][\"total\"][\"value\"]\n",
    "    # puts \"count: #{count}\"\n",
    "    results = resp[\"hits\"][\"hits\"]\n",
    "    \n",
    "    html_str = \"<h4>Showing #{count} Results for <em>#{querystring}</em></h4><ol>\"\n",
    "    \n",
    "    results[0...k].each do |result|\n",
    "        score = result[\"_score\"]\n",
    "        title = result[\"_source\"][\"title\"] || \"No title\"\n",
    "        url = result[\"_source\"][\"url\"] || \"No URL\"\n",
    "        description = result[\"_source\"][\"description\"]\n",
    "        text = result[\"_source\"][\"text\"] || \"\"\n",
    "        snippet = description || \"#{text[0...140]}...\"\n",
    "        \n",
    "        html_str += \"<li><b>#{title}</b>(#{score})<br>#{snippet}<br>\"\n",
    "        html_str += \"<span style=\\\"font-size:0.8em\\\"><a href=\\\"#{url}\\\">#{url}</a></span></li>\"\n",
    "    end\n",
    "    \n",
    "    html_str += \"</ol>\"\n",
    "    \n",
    "    if show\n",
    "        IRuby.display(IRuby.html(html_str))\n",
    "    else\n",
    "        html_str\n",
    "    end\n",
    "end"
   ]
  },
  {
   "cell_type": "code",
   "execution_count": 346,
   "id": "040c3ec5-2268-4dd4-a39f-cdfa9169ff46",
   "metadata": {},
   "outputs": [
    {
     "data": {
      "text/plain": [
       ":search"
      ]
     },
     "execution_count": 346,
     "metadata": {},
     "output_type": "execute_result"
    }
   ],
   "source": [
    "def search(querystring)\n",
    "    body = get_knn_body(querystring)\n",
    "    resp = $client.search(body: body, index: \"ai-search\")\n",
    "    serps(querystring, resp)\n",
    "end"
   ]
  },
  {
   "cell_type": "code",
   "execution_count": 347,
   "id": "cc5b20f1-2455-40a4-a664-511fe8a6b9db",
   "metadata": {},
   "outputs": [
    {
     "name": "stdout",
     "output_type": "stream",
     "text": [
      "Processing embeddings: 100% (1/1)\n",
      "Done!\n"
     ]
    },
    {
     "data": {
      "text/html": [
       "<h4>Showing 183 Results for <em>Ballet event</em></h4><ol><li><b>Ballet Performances This Week</b>(0.91213435)<br>What's going on in ballet this week? We've pulled together some highlights.<br><span style=\"font-size:0.8em\"><a href=\"http://www.pointemagazine.com/ballet-performances-this-week-2549913307.html\">http://www.pointemagazine.com/ballet-performances-this-week-2549913307.html</a></span></li><li><b>dance shoes</b>(0.90133154)<br>Looking for your next audition shoe? Shot at and in collaboration with Broadway Dance Center, Só Dança has launched a new collection of shoes working with some pretty famous faces of the musical theater world! Offered in two different styles and either 2.5\" or 3\" heels, top industry professionals ar...<br><span style=\"font-size:0.8em\"><a href=\"https://www.pointemagazine.com/dance-shoes-2562960796.html\">https://www.pointemagazine.com/dance-shoes-2562960796.html</a></span></li><li><b>dance shoes</b>(0.90133154)<br>Looking for your next audition shoe? Shot at and in collaboration with Broadway Dance Center, Só Dança has launched a new collection of shoes working with some pretty famous faces of the musical theater world! Offered in two different styles and either 2.5\" or 3\" heels, top industry professionals ar...<br><span style=\"font-size:0.8em\"><a href=\"https://www.pointemagazine.com/so-danca-is-taking-musical-theatre-to-the-next-level-2562960796.html\">https://www.pointemagazine.com/so-danca-is-taking-musical-theatre-to-the-next-level-2562960796.html</a></span></li><li><b>WORLD SPORTS at 0000 GMT</b>(0.85307646)<br>WORLD SPORTS at 0000 GMT<br><span style=\"font-size:0.8em\"><a href=\"https://www.taiwannews.com.tw/en/news/3355061\">https://www.taiwannews.com.tw/en/news/3355061</a></span></li><li><b>Lake Placid hosting monthlong Olympic celebration</b>(0.84747785)<br>Lake Placid hosting monthlong Olympic celebration<br><span style=\"font-size:0.8em\"><a href=\"https://www.taiwannews.com.tw/en/news/3354833\">https://www.taiwannews.com.tw/en/news/3354833</a></span></li></ol>"
      ],
      "text/plain": [
       "\"<h4>Showing 183 Results for <em>Ballet event</em></h4><ol><li><b>Ballet Performances This Week</b>(0.91213435)<br>What's going on in ballet this week? We've pulled together some highlights.<br><span style=\\\"font-size:0.8em\\\"><a href=\\\"http://www.pointemagazine.com/ballet-performances-this-week-2549913307.html\\\">http://www.pointemagazine.com/ballet-performances-this-week-2549913307.html</a></span></li><li><b>dance shoes</b>(0.90133154)<br>Looking for your next audition shoe? Shot at and in collaboration with Broadway Dance Center, Só Dança has launched a new collection of shoes working with some pretty famous faces of the musical theater world! Offered in two different styles and either 2.5\\\" or 3\\\" heels, top industry professionals ar...<br><span style=\\\"font-size:0.8em\\\"><a href=\\\"https://www.pointemagazine.com/dance-shoes-2562960796.html\\\">https://www.pointemagazine.com/dance-shoes-2562960796.html</a></span></li><li><b>dance shoes</b>(0.90133154)<br>Looking for your next audition shoe? Shot at and in collaboration with Broadway Dance Center, Só Dança has launched a new collection of shoes working with some pretty famous faces of the musical theater world! Offered in two different styles and either 2.5\\\" or 3\\\" heels, top industry professionals ar...<br><span style=\\\"font-size:0.8em\\\"><a href=\\\"https://www.pointemagazine.com/so-danca-is-taking-musical-theatre-to-the-next-level-2562960796.html\\\">https://www.pointemagazine.com/so-danca-is-taking-musical-theatre-to-the-next-level-2562960796.html</a></span></li><li><b>WORLD SPORTS at 0000 GMT</b>(0.85307646)<br>WORLD SPORTS at 0000 GMT<br><span style=\\\"font-size:0.8em\\\"><a href=\\\"https://www.taiwannews.com.tw/en/news/3355061\\\">https://www.taiwannews.com.tw/en/news/3355061</a></span></li><li><b>Lake Placid hosting monthlong Olympic celebration</b>(0.84747785)<br>Lake Placid hosting monthlong Olympic celebration<br><span style=\\\"font-size:0.8em\\\"><a href=\\\"https://www.taiwannews.com.tw/en/news/3354833\\\">https://www.taiwannews.com.tw/en/news/3354833</a></span></li></ol>\""
      ]
     },
     "metadata": {},
     "output_type": "display_data"
    }
   ],
   "source": [
    "search(\"Ballet event\")"
   ]
  },
  {
   "cell_type": "code",
   "execution_count": 348,
   "id": "9c9dec5a-55c8-4a82-b184-88b5c8c8ca3f",
   "metadata": {},
   "outputs": [
    {
     "name": "stdout",
     "output_type": "stream",
     "text": [
      "Processing embeddings: 100% (1/1)\n",
      "Done!\n"
     ]
    },
    {
     "data": {
      "text/html": [
       "<h4>Showing 180 Results for <em>housing market</em></h4><ol><li><b>Real time energy financing and trading news</b>(0.8653509)<br>Real time energy financing and trading news<br><span style=\"font-size:0.8em\"><a href=\"http://www.sparkspread.com/login.php?return=%2Fsparkspread.php%3Fsparkspread_concept%3Dstory%26id%3D20878\">http://www.sparkspread.com/login.php?return=%2Fsparkspread.php%3Fsparkspread_concept%3Dstory%26id%3D20878</a></span></li><li><b>Real time energy financing and trading news</b>(0.8653509)<br>Real time energy financing and trading news<br><span style=\"font-size:0.8em\"><a href=\"http://www.sparkspread.com/login.php?return=%2Fsparkspread.php%3Fsparkspread_concept%3Dstory%26id%3D20879\">http://www.sparkspread.com/login.php?return=%2Fsparkspread.php%3Fsparkspread_concept%3Dstory%26id%3D20879</a></span></li><li><b>Real time energy financing and trading news</b>(0.8653509)<br>Real time energy financing and trading news<br><span style=\"font-size:0.8em\"><a href=\"http://www.sparkspread.com/login.php?return=%2Fsparkspread.php%3Fsparkspread_concept%3Dstory%26id%3D20881\">http://www.sparkspread.com/login.php?return=%2Fsparkspread.php%3Fsparkspread_concept%3Dstory%26id%3D20881</a></span></li><li><b>Real time energy financing and trading news</b>(0.8653509)<br>Real time energy financing and trading news<br><span style=\"font-size:0.8em\"><a href=\"http://www.sparkspread.com/login.php?return=%2Fsparkspread.php%3Fsparkspread_concept%3Dstory%26id%3D20254\">http://www.sparkspread.com/login.php?return=%2Fsparkspread.php%3Fsparkspread_concept%3Dstory%26id%3D20254</a></span></li><li><b>আরিব্বাস, জাল ডাক্তার!</b>(0.86075133)<br>In recent past there has been many reported incidents of fake doctors being arrested from every nuke and corner of Bengal - a funny take on that<br><span style=\"font-size:0.8em\"><a href=\"http://banglalive.com/the-increasing-number-of-fake-doctors-and-their-treatment/\">http://banglalive.com/the-increasing-number-of-fake-doctors-and-their-treatment/</a></span></li></ol>"
      ],
      "text/plain": [
       "\"<h4>Showing 180 Results for <em>housing market</em></h4><ol><li><b>Real time energy financing and trading news</b>(0.8653509)<br>Real time energy financing and trading news<br><span style=\\\"font-size:0.8em\\\"><a href=\\\"http://www.sparkspread.com/login.php?return=%2Fsparkspread.php%3Fsparkspread_concept%3Dstory%26id%3D20878\\\">http://www.sparkspread.com/login.php?return=%2Fsparkspread.php%3Fsparkspread_concept%3Dstory%26id%3D20878</a></span></li><li><b>Real time energy financing and trading news</b>(0.8653509)<br>Real time energy financing and trading news<br><span style=\\\"font-size:0.8em\\\"><a href=\\\"http://www.sparkspread.com/login.php?return=%2Fsparkspread.php%3Fsparkspread_concept%3Dstory%26id%3D20879\\\">http://www.sparkspread.com/login.php?return=%2Fsparkspread.php%3Fsparkspread_concept%3Dstory%26id%3D20879</a></span></li><li><b>Real time energy financing and trading news</b>(0.8653509)<br>Real time energy financing and trading news<br><span style=\\\"font-size:0.8em\\\"><a href=\\\"http://www.sparkspread.com/login.php?return=%2Fsparkspread.php%3Fsparkspread_concept%3Dstory%26id%3D20881\\\">http://www.sparkspread.com/login.php?return=%2Fsparkspread.php%3Fsparkspread_concept%3Dstory%26id%3D20881</a></span></li><li><b>Real time energy financing and trading news</b>(0.8653509)<br>Real time energy financing and trading news<br><span style=\\\"font-size:0.8em\\\"><a href=\\\"http://www.sparkspread.com/login.php?return=%2Fsparkspread.php%3Fsparkspread_concept%3Dstory%26id%3D20254\\\">http://www.sparkspread.com/login.php?return=%2Fsparkspread.php%3Fsparkspread_concept%3Dstory%26id%3D20254</a></span></li><li><b>আরিব্বাস, জাল ডাক্তার!</b>(0.86075133)<br>In recent past there has been many reported incidents of fake doctors being arrested from every nuke and corner of Bengal - a funny take on that<br><span style=\\\"font-size:0.8em\\\"><a href=\\\"http://banglalive.com/the-increasing-number-of-fake-doctors-and-their-treatment/\\\">http://banglalive.com/the-increasing-number-of-fake-doctors-and-their-treatment/</a></span></li></ol>\""
      ]
     },
     "metadata": {},
     "output_type": "display_data"
    }
   ],
   "source": [
    "search(\"housing market\")"
   ]
  },
  {
   "cell_type": "code",
   "execution_count": null,
   "id": "2a43ea03-cf47-4050-8401-01a95051001d",
   "metadata": {},
   "outputs": [],
   "source": []
  },
  {
   "cell_type": "code",
   "execution_count": null,
   "id": "fff64b41-1cf6-40c9-8ac7-7d229f8b5a18",
   "metadata": {},
   "outputs": [],
   "source": []
  },
  {
   "cell_type": "code",
   "execution_count": null,
   "id": "64016a69-6c00-4bc7-8b60-2476c5d5d72a",
   "metadata": {},
   "outputs": [],
   "source": []
  },
  {
   "cell_type": "code",
   "execution_count": null,
   "id": "f1923e23-e73b-49d6-b867-98eab9a0bccd",
   "metadata": {},
   "outputs": [],
   "source": []
  },
  {
   "cell_type": "code",
   "execution_count": null,
   "id": "3c5b9d3a-557b-486e-9ec5-1ac31624976a",
   "metadata": {},
   "outputs": [],
   "source": []
  },
  {
   "cell_type": "code",
   "execution_count": null,
   "id": "c523879c-c471-451a-a956-e7488df80e61",
   "metadata": {},
   "outputs": [],
   "source": []
  },
  {
   "cell_type": "code",
   "execution_count": null,
   "id": "bfd0f147-46e4-449e-8938-16d96e955018",
   "metadata": {},
   "outputs": [],
   "source": []
  },
  {
   "cell_type": "code",
   "execution_count": null,
   "id": "e49bb697-c4cb-4494-81ef-91aa8a41c84b",
   "metadata": {},
   "outputs": [],
   "source": []
  },
  {
   "cell_type": "code",
   "execution_count": null,
   "id": "775477d5-6b8f-4ac3-bb83-ede9302a2f52",
   "metadata": {},
   "outputs": [],
   "source": []
  },
  {
   "cell_type": "code",
   "execution_count": null,
   "id": "a70e4fb5-d17a-483b-8e06-d12d4d87c8c3",
   "metadata": {},
   "outputs": [],
   "source": []
  },
  {
   "cell_type": "code",
   "execution_count": null,
   "id": "e5491fe9-d35c-44bd-b5fe-b799f42ff681",
   "metadata": {},
   "outputs": [],
   "source": []
  }
 ],
 "metadata": {
  "kernelspec": {
   "display_name": "Ruby 3.1.3",
   "language": "ruby",
   "name": "ruby"
  },
  "language_info": {
   "file_extension": ".rb",
   "mimetype": "application/x-ruby",
   "name": "ruby",
   "version": "3.1.3"
  }
 },
 "nbformat": 4,
 "nbformat_minor": 5
}
