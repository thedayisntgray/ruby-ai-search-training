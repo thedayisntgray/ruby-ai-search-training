{
 "cells": [
  {
   "cell_type": "markdown",
   "id": "3b98c7e4-b55f-4f88-a88c-61c273f900ea",
   "metadata": {},
   "source": [
    "# Lab 3 - Indexing and Searching embeddings in Opensearch"
   ]
  },
  {
   "cell_type": "code",
   "execution_count": 1,
   "id": "55797adf-fda8-4ec2-aaf3-59c4345268ac",
   "metadata": {},
   "outputs": [
    {
     "ename": "LoadError",
     "evalue": "cannot load such file -- opensearch-ruby",
     "output_type": "error",
     "traceback": [
      "\u001b[31mLoadError\u001b[0m: cannot load such file -- opensearch-ruby",
      "<internal:/usr/local/lib/ruby/3.1.0/rubygems/core_ext/kernel_require.rb>:85:in `require'",
      "<internal:/usr/local/lib/ruby/3.1.0/rubygems/core_ext/kernel_require.rb>:85:in `require'",
      "(irb):in `<top (required)>'"
     ]
    }
   ],
   "source": [
    "require 'opensearch-ruby'\n",
    "require 'sentence_transformers'\n",
    "require 'tqdm'\n",
    "require 'datasets'\n",
    "require 'date'\n",
    "require 'json'"
   ]
  },
  {
   "cell_type": "code",
   "execution_count": null,
   "id": "5d7ac1d4-8c6f-4eec-94c6-c04e7c32559f",
   "metadata": {},
   "outputs": [],
   "source": [
    "# https://github.com/opensearch-project/opensearch-ruby\n",
    "host = 'ai-search-opensearch-node'\n",
    "port = 9200\n",
    "client = OpenSearch::Client.new(hosts: [{ host: host, port: port }])\n",
    "info = client.info\n",
    "puts \"Welcome to #{info['version']['distribution']} #{info['version']['number']}!\""
   ]
  },
  {
   "cell_type": "markdown",
   "id": "5713e820-8f5f-44bf-b80c-eddff6513127",
   "metadata": {},
   "source": [
    "## First, look at the schema\n",
    "\n",
    "Right click on the 'schema.json' file in the tree, and open with Editor"
   ]
  },
  {
   "cell_type": "markdown",
   "id": "7330b9cd-d441-4073-a1e2-370840f62d50",
   "metadata": {},
   "source": [
    "## Create the OpenSearch Index"
   ]
  },
  {
   "cell_type": "code",
   "execution_count": null,
   "id": "b596f15c-bfb0-4122-ba38-b656d57b51c5",
   "metadata": {},
   "outputs": [],
   "source": [
    "def create_index(name: \"ai-search\", filename: \"schema.json\", delete: false)\n",
    "    schema = File.read(filename)\n",
    "    index_name = name\n",
    "    index_body = schema\n",
    "\n",
    "    if delete\n",
    "        begin\n",
    "            client.indices.delete(index: index_name)\n",
    "        rescue\n",
    "            # Index might not exist\n",
    "        end\n",
    "    end\n",
    "        \n",
    "    response = client.indices.create(index: index_name, body: index_body)\n",
    "    puts response\n",
    "end"
   ]
  },
  {
   "cell_type": "code",
   "execution_count": null,
   "id": "ca8cdc04-9308-49ad-8e6d-be2f1db0f109",
   "metadata": {},
   "outputs": [],
   "source": [
    "create_index(delete: true)\n",
    "#create_index()"
   ]
  },
  {
   "cell_type": "markdown",
   "id": "a529604a-3130-4243-ac57-619fb1696490",
   "metadata": {},
   "source": [
    "## Use the same model and method to get the query embedding, with some defaults changed\n",
    "Remember, the model is `intfloat/e5-small-v2` and we need to prefix any query with 'query:'"
   ]
  },
  {
   "cell_type": "code",
   "execution_count": null,
   "id": "51bb8416-ea0c-44dc-869c-196ee4671425",
   "metadata": {},
   "outputs": [],
   "source": [
    "# The E5 models expect 'query:' and 'passage:' prefixes\n",
    "model = SentenceTransformer.new('intfloat/e5-small-v2')\n",
    "def get_embeddings(texts, prefix: \"query: \")\n",
    "    # The E5 models expects either 'query:' or 'passage:' prefix\n",
    "    texts = [texts] unless texts.is_a?(Array)\n",
    "    prefixed = texts.map { |text| \"#{prefix}#{text}\" }\n",
    "    model.encode(prefixed, show_progress_bar: false)\n",
    "end"
   ]
  },
  {
   "cell_type": "markdown",
   "id": "c83d8993-83e8-4799-a8aa-def7783df430",
   "metadata": {},
   "source": [
    "## Get our dataset and title_embeddings"
   ]
  },
  {
   "cell_type": "code",
   "execution_count": null,
   "id": "3015a4dd-06d1-4508-a1d4-97edf64f968b",
   "metadata": {},
   "outputs": [],
   "source": [
    "# Load 50k records of the the 'cc_news' dataset from Hugging Face\n",
    "dataset = Dataset.load_dataset(\"cc_news\", split: 'train[0:50000]')"
   ]
  },
  {
   "cell_type": "code",
   "execution_count": null,
   "id": "47cbf97b-8c05-4540-835b-ea04f1de8cac",
   "metadata": {},
   "outputs": [],
   "source": [
    "# Load the title_embeddings we generated in 02-sentence-transformers\n",
    "title_embeddings = Marshal.load(File.read('cc_news_title_embeddings_50000.marshal'))"
   ]
  },
  {
   "cell_type": "code",
   "execution_count": null,
   "id": "cb99bc62-ce33-43dc-98b7-891e7b8972b1",
   "metadata": {},
   "outputs": [],
   "source": [
    "# Add the title embeddings as a new column in our dataset\n",
    "title_embeddings_dataset = Dataset.from_dict({ \"title_embedding\" => title_embeddings })\n",
    "records_dataset = Dataset.concatenate([dataset, title_embeddings_dataset], axis: 1)"
   ]
  },
  {
   "cell_type": "code",
   "execution_count": null,
   "id": "e14c3311-b8db-451f-836b-e3debc324617",
   "metadata": {},
   "outputs": [],
   "source": [
    "puts records_dataset.select([2])['title']\n",
    "puts records_dataset.select([2])['title_embedding'][0]"
   ]
  },
  {
   "cell_type": "code",
   "execution_count": null,
   "id": "3283728e-1d9a-4cab-9879-92d9beb696b3",
   "metadata": {},
   "outputs": [],
   "source": [
    "def format_date(date_string)\n",
    "    begin\n",
    "        date_obj = DateTime.strptime(date_string, '%Y-%m-%d %H:%M:%S')\n",
    "        date_obj.strftime('%Y-%m-%dT%H:%M:%S')\n",
    "    rescue Date::Error\n",
    "        nil\n",
    "    end\n",
    "end\n",
    "\n",
    "def get_document(idx, records)    \n",
    "    rec = records.select([idx])\n",
    "    {\n",
    "        'title' => rec['title'][0],\n",
    "        'text' => rec['text'][0],\n",
    "        'domain' => rec['domain'][0],\n",
    "        'date' => format_date(rec['date'][0]),\n",
    "        'description' => rec['description'][0],\n",
    "        'url' => rec['url'][0],\n",
    "        'image_url' => rec['image_url'][0],\n",
    "        'title_embedding' => rec['title_embedding'][0]\n",
    "    }\n",
    "end"
   ]
  },
  {
   "cell_type": "code",
   "execution_count": null,
   "id": "0b994192-87c8-49df-9318-1c3ed261bac0",
   "metadata": {},
   "outputs": [],
   "source": [
    "first_doc = get_document(0, records_dataset)\n",
    "puts first_doc.to_json"
   ]
  },
  {
   "cell_type": "code",
   "execution_count": null,
   "id": "99bdf0b1-dfdb-4d53-aecc-45d8897c0f6e",
   "metadata": {},
   "outputs": [],
   "source": [
    "def index_one(document)\n",
    "    index_name = \"ai-search\"\n",
    "    client.index(index: index_name, id: document['url'], body: document)\n",
    "end"
   ]
  },
  {
   "cell_type": "code",
   "execution_count": null,
   "id": "e9000709-1634-4954-9b24-47577b965ad7",
   "metadata": {},
   "outputs": [],
   "source": [
    "index_one(first_doc)"
   ]
  },
  {
   "cell_type": "code",
   "execution_count": null,
   "id": "8a8d9ffa-ec98-436b-b8d7-b7118e9361e3",
   "metadata": {},
   "outputs": [],
   "source": [
    "def index_bulk(records_dataset, batch_size: 100)\n",
    "    index = \"ai-search\"\n",
    "    count = records_dataset.num_rows\n",
    "    batches = (count / batch_size).ceil\n",
    "    \n",
    "    (0...count).step(batch_size).each do |batch|\n",
    "        left = batch\n",
    "        right = [batch + batch_size, count].min\n",
    "        documents = (left...right).map do |idx|\n",
    "            document = get_document(idx, records_dataset)\n",
    "            document['_index'] = index\n",
    "            document['_id'] = document['url']\n",
    "            document\n",
    "        end\n",
    "        \n",
    "        response = client.bulk(body: documents)\n",
    "        puts \"Indexed batch #{left}-#{right}\"\n",
    "    end\n",
    "end"
   ]
  },
  {
   "cell_type": "code",
   "execution_count": null,
   "id": "e10e6aa1-edc7-4e58-8254-dcad4040c630",
   "metadata": {},
   "outputs": [],
   "source": [
    "index_bulk(records_dataset)"
   ]
  },
  {
   "cell_type": "markdown",
   "id": "a4c9d6bc-4c4d-4b28-9901-66fffc3dd7ba",
   "metadata": {},
   "source": [
    "# Time to search!"
   ]
  },
  {
   "cell_type": "code",
   "execution_count": null,
   "id": "40015c9e-9e27-4b23-be4c-d8fb96e8a4bc",
   "metadata": {},
   "outputs": [],
   "source": [
    "def get_knn_body(querystring)\n",
    "    embeddings = get_embeddings(querystring)\n",
    "    {\n",
    "        \"query\" => {\n",
    "            \"bool\" => {\n",
    "                \"should\" => [\n",
    "                    {\n",
    "                        \"knn\" => {\n",
    "                            \"title_embedding\" => {\n",
    "                                \"vector\" => embeddings[0],\n",
    "                                \"k\" => 20\n",
    "                            }\n",
    "                        }\n",
    "                    }\n",
    "                ]\n",
    "            }\n",
    "        },\n",
    "        \"_source\" => { \"exclude\" => [\"title_embedding\"] }\n",
    "    }\n",
    "end"
   ]
  },
  {
   "cell_type": "code",
   "execution_count": null,
   "id": "e8ed0cfc-2e84-46b9-afc3-0a9167a0a9ae",
   "metadata": {},
   "outputs": [],
   "source": [
    "def serps(querystring, resp, k: 5, show: true)\n",
    "    count = resp[\"hits\"][\"total\"][\"value\"]\n",
    "    results = resp[\"hits\"][\"hits\"]\n",
    "    \n",
    "    html_str = \"<h4>Showing #{count} Results for <em>#{querystring}</em></h4><ol>\"\n",
    "    \n",
    "    results[0...k].each do |result|\n",
    "        score = result[\"_score\"]\n",
    "        title = result[\"_source\"][\"title\"] || \"No title\"\n",
    "        url = result[\"_source\"][\"url\"] || \"No URL\"\n",
    "        description = result[\"_source\"][\"description\"]\n",
    "        text = result[\"_source\"][\"text\"] || \"\"\n",
    "        snippet = description || \"#{text[0...140]}...\"\n",
    "        \n",
    "        html_str += \"<li><b>#{title}</b>(#{score})<br>#{snippet}<br>\"\n",
    "        html_str += \"<span style=\\\"font-size:0.8em\\\"><a href=\\\"#{url}\\\">#{url}</a></span></li>\"\n",
    "    end\n",
    "    \n",
    "    html_str += \"</ol>\"\n",
    "    \n",
    "    if show\n",
    "        IRuby.display(IRuby.html(html_str))\n",
    "    else\n",
    "        html_str\n",
    "    end\n",
    "end"
   ]
  },
  {
   "cell_type": "code",
   "execution_count": null,
   "id": "040c3ec5-2268-4dd4-a39f-cdfa9169ff46",
   "metadata": {},
   "outputs": [],
   "source": [
    "def search(querystring)\n",
    "    body = get_knn_body(querystring)\n",
    "    resp = client.search(body: body, index: \"ai-search\")\n",
    "    serps(querystring, resp)\n",
    "end"
   ]
  },
  {
   "cell_type": "code",
   "execution_count": null,
   "id": "cc5b20f1-2455-40a4-a664-511fe8a6b9db",
   "metadata": {},
   "outputs": [],
   "source": [
    "search(\"Ballet event\")"
   ]
  },
  {
   "cell_type": "code",
   "execution_count": null,
   "id": "9c9dec5a-55c8-4a82-b184-88b5c8c8ca3f",
   "metadata": {},
   "outputs": [],
   "source": [
    "search(\"housing market\")"
   ]
  },
  {
   "cell_type": "code",
   "execution_count": null,
   "id": "2a43ea03-cf47-4050-8401-01a95051001d",
   "metadata": {},
   "outputs": [],
   "source": []
  }
 ],
 "metadata": {
  "kernelspec": {
   "display_name": "Ruby 3.1.3",
   "language": "ruby",
   "name": "ruby"
  },
  "language_info": {
   "file_extension": ".rb",
   "mimetype": "application/x-ruby",
   "name": "ruby",
   "version": "3.1.3"
  }
 },
 "nbformat": 4,
 "nbformat_minor": 5
}
