{
 "cells": [
  {
   "cell_type": "markdown",
   "id": "3b98c7e4-b55f-4f88-a88c-61c273f900ea",
   "metadata": {},
   "source": [
    "# Lab 3 - Indexing and Searching embeddings in Opensearch"
   ]
  },
  {
   "cell_type": "code",
   "execution_count": null,
   "id": "55797adf-fda8-4ec2-aaf3-59c4345268ac",
   "metadata": {},
   "outputs": [],
   "source": [
    "require 'opensearch'\n",
    "require 'transformers-rb'\n",
    "require 'tqdm'\n",
    "require 'date'\n",
    "require 'json'\n",
    "require 'polars-df'"
   ]
  },
  {
   "cell_type": "code",
   "execution_count": null,
   "id": "3a362519-9ee6-4aa8-9087-c9c8d37a3e24",
   "metadata": {},
   "outputs": [],
   "source": [
    "def each_embedding(file)\n",
    "  return enum_for(:each_embedding, file) unless block_given?\n",
    "  \n",
    "  File.open(file, 'rb') do |f|\n",
    "    begin\n",
    "      while !f.eof?\n",
    "        yield Marshal.load(f)\n",
    "      end\n",
    "    rescue EOFError\n",
    "      # Break out if we hit end of file\n",
    "    end\n",
    "  end\n",
    "end\n",
    "\n",
    "def load_embeddings(file)\n",
    "  embeddings = []\n",
    "  each_embedding(file) do |embedding|\n",
    "    embeddings << embedding\n",
    "  end\n",
    "  embeddings\n",
    "end"
   ]
  },
  {
   "cell_type": "markdown",
   "id": "cf46c93c-d892-4cef-b6f8-18cd6a9f5c81",
   "metadata": {
    "tags": []
   },
   "source": [
    "## Helper methods & setup"
   ]
  },
  {
   "cell_type": "code",
   "execution_count": null,
   "id": "acc6a31e-0548-4d9a-a693-9dabf3bae09b",
   "metadata": {},
   "outputs": [],
   "source": [
    "# https://github.com/opensearch-project/opensearch-ruby\n",
    "host = 'rubyai-opensearch-node' \n",
    "port = 9200\n",
    "$client = OpenSearch::Client.new(hosts: [{ host: host, port: port }])\n",
    "info = $client.info\n",
    "puts \"Welcome to #{info['version']['distribution']} #{info['version']['number']}!\""
   ]
  },
  {
   "cell_type": "markdown",
   "id": "5713e820-8f5f-44bf-b80c-eddff6513127",
   "metadata": {},
   "source": [
    "## First, look at the schema\n",
    "\n",
    "Right click on the 'schema.json' file in the tree, and open with Editor"
   ]
  },
  {
   "cell_type": "markdown",
   "id": "7330b9cd-d441-4073-a1e2-370840f62d50",
   "metadata": {
    "tags": []
   },
   "source": [
    "## Create the OpenSearch Index"
   ]
  },
  {
   "cell_type": "code",
   "execution_count": null,
   "id": "b596f15c-bfb0-4122-ba38-b656d57b51c5",
   "metadata": {},
   "outputs": [],
   "source": [
    "def create_index(name: \"ai-search\", filename: \"schema.json\", delete: false)\n",
    "    schema = File.read(filename)\n",
    "    index_name = name\n",
    "    index_body = schema\n",
    "\n",
    "    if delete\n",
    "        begin\n",
    "            $client.indices.delete(index: index_name)\n",
    "        rescue\n",
    "            # Index might not exist\n",
    "        end\n",
    "    end\n",
    "        \n",
    "    response = $client.indices.create(index: index_name, body: index_body)\n",
    "    puts response\n",
    "end"
   ]
  },
  {
   "cell_type": "code",
   "execution_count": null,
   "id": "ca8cdc04-9308-49ad-8e6d-be2f1db0f109",
   "metadata": {},
   "outputs": [],
   "source": [
    "create_index(delete: true)"
   ]
  },
  {
   "cell_type": "markdown",
   "id": "a529604a-3130-4243-ac57-619fb1696490",
   "metadata": {
    "tags": []
   },
   "source": [
    "## Use the same model and method to get the query embedding, with some defaults changed\n",
    "Remember, the model is `intfloat/e5-small-v2` and we need to prefix any query with 'query:'"
   ]
  },
  {
   "cell_type": "code",
   "execution_count": null,
   "id": "51bb8416-ea0c-44dc-869c-196ee4671425",
   "metadata": {},
   "outputs": [],
   "source": [
    "# The E5 models expect 'query:' and 'passage:' prefixes\n",
    "$model = Transformers.pipeline(\"embedding\", 'intfloat/e5-small-v2')\n",
    "\n",
    "\n",
    "def get_embeddings(texts, prefix: \"query: \")\n",
    "  # puts texts\n",
    "  texts = [texts] unless texts.is_a?(Array)\n",
    "  total = texts.length\n",
    "  embeddings = []\n",
    "  \n",
    "  texts.each_with_index do |text, i|\n",
    "    prefixed_text = \"#{prefix}#{text}\"\n",
    "    embedding = $model.(prefixed_text)\n",
    "    embeddings << embedding\n",
    "    \n",
    "    percent = ((i + 1).to_f / total * 100).to_i\n",
    "    print \"\\rProcessing embeddings: #{percent}% (#{i + 1}/#{total})\"\n",
    "  end\n",
    "  \n",
    "  print \"\\nDone!\\n\"\n",
    "  embeddings\n",
    "end"
   ]
  },
  {
   "cell_type": "markdown",
   "id": "c83d8993-83e8-4799-a8aa-def7783df430",
   "metadata": {
    "tags": []
   },
   "source": [
    "## Get our dataset and title_embeddings"
   ]
  },
  {
   "cell_type": "code",
   "execution_count": null,
   "id": "3015a4dd-06d1-4508-a1d4-97edf64f968b",
   "metadata": {},
   "outputs": [],
   "source": [
    "# Load 50k records of the the 'cc_news' dataset from Hugging Face\n",
    "dataset = Polars.read_parquet('hf://datasets/vblagoje/cc_news/plain_text/train-*.parquet',n_rows:50_000)"
   ]
  },
  {
   "cell_type": "code",
   "execution_count": null,
   "id": "58c369dd-075b-4594-b920-f6dbf5c4d0bc",
   "metadata": {},
   "outputs": [],
   "source": [
    "dataset.size"
   ]
  },
  {
   "cell_type": "code",
   "execution_count": null,
   "id": "47cbf97b-8c05-4540-835b-ea04f1de8cac",
   "metadata": {},
   "outputs": [],
   "source": [
    "# Load the title_embeddings we generated in 02-sentence-transformers\n",
    "title_embeddings = load_embeddings(\"embeddings.cache\")\n",
    "title_embeddings.first(1)"
   ]
  },
  {
   "cell_type": "code",
   "execution_count": null,
   "id": "cb99bc62-ce33-43dc-98b7-891e7b8972b1",
   "metadata": {},
   "outputs": [],
   "source": [
    "require 'polars'\n",
    "\n",
    "# Create DataFrame from title embeddings\n",
    "$title_embeddings_dataset = Polars::DataFrame.new({ \"title_embedding\" => title_embeddings })\n",
    "\n",
    "# Combine with original DataFrame horizontally\n",
    "$records_dataset = dataset.hstack($title_embeddings_dataset)"
   ]
  },
  {
   "cell_type": "code",
   "execution_count": null,
   "id": "e14c3311-b8db-451f-836b-e3debc324617",
   "metadata": {},
   "outputs": [],
   "source": [
    "puts $records_dataset[\"title\"][2]\n",
    "puts $records_dataset[\"url\"][2]"
   ]
  },
  {
   "cell_type": "markdown",
   "id": "15457ac2-a1cc-4e9d-a969-51e7c369cf7e",
   "metadata": {},
   "source": [
    "## Index the data in bulk, into our Opensearch index"
   ]
  },
  {
   "cell_type": "code",
   "execution_count": null,
   "id": "3283728e-1d9a-4cab-9879-92d9beb696b3",
   "metadata": {},
   "outputs": [],
   "source": [
    "def format_date(date_string)\n",
    "    begin\n",
    "        date_obj = DateTime.strptime(date_string, '%Y-%m-%d %H:%M:%S')\n",
    "        date_obj.strftime('%Y-%m-%dT%H:%M:%S')\n",
    "    rescue Date::Error\n",
    "        nil\n",
    "    end\n",
    "end\n",
    "\n",
    "def get_document(idx, records)\n",
    "    record = records[idx]\n",
    "    {\n",
    "        'title' => record['title'].to_a[0],\n",
    "        'text' => record['text'].to_a[0],\n",
    "        'domain' => record['domain'].to_a[0],\n",
    "        'date' => format_date(record['date'].to_a[0]),\n",
    "        'description' => record['description'].to_a[0],\n",
    "        'url' => record['url'].to_a[0],\n",
    "        'image_url' => record['image_url'].to_a[0],\n",
    "        'title_embedding' => record['title_embedding'].to_a[0]\n",
    "    }\n",
    "end"
   ]
  },
  {
   "cell_type": "code",
   "execution_count": null,
   "id": "670fcde8-d2ec-4e84-a89c-78bffa2d6b2b",
   "metadata": {},
   "outputs": [],
   "source": [
    "first_doc = get_document(1, $records_dataset)\n",
    "puts first_doc.to_json"
   ]
  },
  {
   "cell_type": "code",
   "execution_count": null,
   "id": "99bdf0b1-dfdb-4d53-aecc-45d8897c0f6e",
   "metadata": {},
   "outputs": [],
   "source": [
    "def index_one(document)\n",
    "    index_name = \"ai-search\"\n",
    "    $client.index(index: index_name, id: document['url'], body: document)\n",
    "end"
   ]
  },
  {
   "cell_type": "code",
   "execution_count": null,
   "id": "e9000709-1634-4954-9b24-47577b965ad7",
   "metadata": {},
   "outputs": [],
   "source": [
    "index_one(first_doc)"
   ]
  },
  {
   "cell_type": "code",
   "execution_count": null,
   "id": "61043ac2-1438-4724-9dbd-22bb2553ea87",
   "metadata": {},
   "outputs": [],
   "source": [
    "$records_dataset['title']"
   ]
  },
  {
   "cell_type": "code",
   "execution_count": null,
   "id": "1d847f69-e0af-4096-bd2c-f45a1642b158",
   "metadata": {},
   "outputs": [],
   "source": [
    "def index_bulk(records_dataset, batch_size: 100)\n",
    "  index = \"ai-search\"\n",
    "  count = records_dataset.height\n",
    "    \n",
    "  (0...count).step(batch_size).each do |batch|\n",
    "    left = batch\n",
    "    right = [batch + batch_size, count].min\n",
    "    documents = []\n",
    "    \n",
    "    (left...right).each do |idx|   \n",
    "      document = get_document(idx, records_dataset)\n",
    "      \n",
    "      # Create action metadata with newline\n",
    "      action = { index: { _index: index, _id: document['url'] } }.to_json + \"\\n\"\n",
    "      \n",
    "      # Add document data with newline\n",
    "      doc_data = document.to_json + \"\\n\"\n",
    "      \n",
    "      # Add both to bulk body\n",
    "      documents << action\n",
    "      documents << doc_data\n",
    "\n",
    "    end\n",
    "\n",
    "    # Join all lines for the bulk request\n",
    "    response = $client.bulk(body: documents.join,refresh: true)\n",
    "      \n",
    "    percent = ((batch + batch_size).to_f / count * 100).to_i\n",
    "    print \"\\rProcessing embeddings: #{percent}% (#{batch + batch_size}/#{count})\"\n",
    "      \n",
    "  end\n",
    "  \n",
    "  puts \"\\nTotal documents indexed: #{count}\"\n",
    "end"
   ]
  },
  {
   "cell_type": "code",
   "execution_count": null,
   "id": "e10e6aa1-edc7-4e58-8254-dcad4040c630",
   "metadata": {},
   "outputs": [],
   "source": [
    "index_bulk($records_dataset)"
   ]
  },
  {
   "cell_type": "markdown",
   "id": "a4c9d6bc-4c4d-4b28-9901-66fffc3dd7ba",
   "metadata": {},
   "source": [
    "# Time to search!"
   ]
  },
  {
   "cell_type": "code",
   "execution_count": null,
   "id": "40015c9e-9e27-4b23-be4c-d8fb96e8a4bc",
   "metadata": {},
   "outputs": [],
   "source": [
    "def get_knn_body(querystring)\n",
    "    embeddings = get_embeddings(querystring, prefix:\"query: \")\n",
    "    {\n",
    "        \"query\" => {\n",
    "            \"bool\" => {\n",
    "                \"should\" => [\n",
    "                    {\n",
    "                        \"knn\" => {\n",
    "                            \"title_embedding\" => {\n",
    "                                \"vector\" => embeddings[0],\n",
    "                                \"k\" => 20\n",
    "                            }\n",
    "                        }\n",
    "                    }\n",
    "                ]\n",
    "            }\n",
    "        },\n",
    "        \"_source\" => { \"exclude\" => [\"title_embedding\"] }\n",
    "    }\n",
    "end"
   ]
  },
  {
   "cell_type": "code",
   "execution_count": null,
   "id": "e8ed0cfc-2e84-46b9-afc3-0a9167a0a9ae",
   "metadata": {},
   "outputs": [],
   "source": [
    "def serps(querystring, resp, k: 5, show: true)\n",
    "    took = resp[\"took\"]\n",
    "    count = resp[\"hits\"][\"total\"][\"value\"]\n",
    "    results = resp[\"hits\"][\"hits\"]\n",
    "    \n",
    "    html_str = \"<h4>Showing #{count} Results for <strong>\\\"<em>#{querystring}</em>\\\"</strong> (took #{took}ms)</h4><ol>\"\n",
    "    \n",
    "    results[0...k].each do |result|\n",
    "        score = result[\"_score\"]\n",
    "        title = result[\"_source\"][\"title\"] || \"No title\"\n",
    "        url = result[\"_source\"][\"url\"] || \"No URL\"\n",
    "        description = result[\"_source\"][\"description\"]\n",
    "        text = result[\"_source\"][\"text\"] || \"\"\n",
    "        snippet = description || \"#{text[0...140]}...\"\n",
    "        \n",
    "        html_str += \"<li><b>#{title}</b>(#{score})<br>#{snippet}<br>\"\n",
    "        html_str += \"<span style=\\\"font-size:0.8em\\\"><a href=\\\"#{url}\\\">#{url}</a></span></li>\"\n",
    "    end\n",
    "    \n",
    "    html_str += \"</ol>\"\n",
    "    \n",
    "    if show\n",
    "        IRuby.display(IRuby.html(html_str))\n",
    "    else\n",
    "        html_str\n",
    "    end\n",
    "end"
   ]
  },
  {
   "cell_type": "code",
   "execution_count": null,
   "id": "040c3ec5-2268-4dd4-a39f-cdfa9169ff46",
   "metadata": {},
   "outputs": [],
   "source": [
    "def search(querystring)\n",
    "    body = get_knn_body(querystring)\n",
    "    resp = $client.search(body: body, index: \"ai-search\")\n",
    "    serps(querystring, resp)\n",
    "end"
   ]
  },
  {
   "cell_type": "code",
   "execution_count": null,
   "id": "cc5b20f1-2455-40a4-a664-511fe8a6b9db",
   "metadata": {},
   "outputs": [],
   "source": [
    "search(\"Ballet event\")"
   ]
  },
  {
   "cell_type": "code",
   "execution_count": null,
   "id": "9c9dec5a-55c8-4a82-b184-88b5c8c8ca3f",
   "metadata": {},
   "outputs": [],
   "source": [
    "search(\"housing market\")"
   ]
  }
 ],
 "metadata": {
  "kernelspec": {
   "display_name": "Ruby 3.1.3",
   "language": "ruby",
   "name": "ruby"
  },
  "language_info": {
   "file_extension": ".rb",
   "mimetype": "application/x-ruby",
   "name": "ruby",
   "version": "3.1.3"
  }
 },
 "nbformat": 4,
 "nbformat_minor": 5
}
