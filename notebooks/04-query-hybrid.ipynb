{
 "cells": [
  {
   "cell_type": "markdown",
   "id": "c7650ff2-108b-4bb4-b66a-d25b51ebf78b",
   "metadata": {},
   "source": [
    "# Lab 4 - Hybrid Search of title embeddings and full-text fields in Opensearch"
   ]
  },
  {
   "cell_type": "code",
   "execution_count": 1,
   "id": "55797adf-fda8-4ec2-aaf3-59c4345268ac",
   "metadata": {},
   "outputs": [
    {
     "data": {
      "text/plain": [
       "true"
      ]
     },
     "execution_count": 1,
     "metadata": {},
     "output_type": "execute_result"
    }
   ],
   "source": [
    "require 'opensearch'\n",
    "require 'transformers-rb'\n",
    "require 'tqdm'\n",
    "require 'date'\n",
    "require 'json'\n",
    "require 'polars-df'"
   ]
  },
  {
   "cell_type": "code",
   "execution_count": 2,
   "id": "5d7ac1d4-8c6f-4eec-94c6-c04e7c32559f",
   "metadata": {},
   "outputs": [
    {
     "name": "stdout",
     "output_type": "stream",
     "text": [
      "Welcome to opensearch 2.18.0!\n"
     ]
    }
   ],
   "source": [
    "# https://github.com/opensearch-project/opensearch-ruby\n",
    "host = 'ruby-opensearch-node'\n",
    "port = 9200\n",
    "\n",
    "$client = OpenSearch::Client.new(hosts: [{ host: host, port: port }])\n",
    "info = $client.info\n",
    "puts \"Welcome to #{info['version']['distribution']} #{info['version']['number']}!\""
   ]
  },
  {
   "cell_type": "markdown",
   "id": "a529604a-3130-4243-ac57-619fb1696490",
   "metadata": {},
   "source": [
    "## Use the same model and method to get the query embedding, with some defaults changed\n",
    "Remember, the model is `intfloat/e5-small-v2` and we need to prefix any query with 'query:'"
   ]
  },
  {
   "cell_type": "code",
   "execution_count": 22,
   "id": "54f0cdfa-f119-4b4f-b92e-a31e8c93329d",
   "metadata": {},
   "outputs": [
    {
     "data": {
      "text/plain": [
       ":get_embeddings"
      ]
     },
     "execution_count": 22,
     "metadata": {},
     "output_type": "execute_result"
    }
   ],
   "source": [
    "# The E5 models expect 'query:' and 'passage:' prefixes\n",
    "$model = Transformers.pipeline(\"embedding\", 'intfloat/e5-small-v2')\n",
    "\n",
    "def get_embeddings(texts, prefix: \"query: \", progress: false)\n",
    "  # puts texts\n",
    "  texts = [texts] unless texts.is_a?(Array)\n",
    "  total = texts.length\n",
    "  embeddings = []\n",
    "  \n",
    "  texts.each_with_index do |text, i|\n",
    "    prefixed_text = \"#{prefix}#{text}\"\n",
    "    embedding = $model.(prefixed_text)\n",
    "    embeddings << embedding\n",
    "    \n",
    "    if progress\n",
    "        percent = ((i + 1).to_f / total * 100).to_i\n",
    "        print \"\\rProcessing embeddings: #{percent}% (#{i + 1}/#{total})\"\n",
    "    end\n",
    "  end\n",
    "  if progress\n",
    "      print \"\\nDone!\\n\"\n",
    "  end\n",
    "  embeddings\n",
    "end"
   ]
  },
  {
   "cell_type": "markdown",
   "id": "a2f87da6-c9a3-4f05-ae81-701087ef0154",
   "metadata": {
    "tags": []
   },
   "source": [
    "## Define different query types\n",
    "Here we define Opensearch query bodies for:\n",
    " - BM25\n",
    " - KNN\n",
    " - Hybrid"
   ]
  },
  {
   "cell_type": "code",
   "execution_count": 4,
   "id": "3015a4dd-06d1-4508-a1d4-97edf64f968b",
   "metadata": {},
   "outputs": [
    {
     "data": {
      "text/plain": [
       ":get_bm25_body"
      ]
     },
     "execution_count": 4,
     "metadata": {},
     "output_type": "execute_result"
    }
   ],
   "source": [
    "def get_bm25_body(querystring)\n",
    "    {\n",
    "      \"query\" => {\n",
    "        \"bool\" => {\n",
    "          \"should\" => [\n",
    "            {\n",
    "              \"multi_match\" => {\n",
    "                \"query\" => querystring,\n",
    "                \"type\" => \"cross_fields\",\n",
    "                \"fields\" => [\"description\"],\n",
    "                \"boost\" => 1.0\n",
    "              }\n",
    "            },\n",
    "            {\n",
    "              \"multi_match\" => {\n",
    "                \"query\" => querystring,\n",
    "                \"type\" => \"cross_fields\",\n",
    "                \"fields\" => [\"title\"],\n",
    "                \"boost\" => 1.1\n",
    "              }\n",
    "            },\n",
    "            {\n",
    "              \"multi_match\" => {\n",
    "                \"query\" => querystring,\n",
    "                \"type\" => \"cross_fields\",\n",
    "                \"fields\" => [\"title_exactish\"],\n",
    "                \"boost\" => 1.2\n",
    "              }\n",
    "            }\n",
    "          ]\n",
    "        }\n",
    "      },\n",
    "      \"_source\" => {\"exclude\" => [\"title_embedding\"]}\n",
    "    }\n",
    "end"
   ]
  },
  {
   "cell_type": "code",
   "execution_count": 5,
   "id": "6abc76e2",
   "metadata": {},
   "outputs": [
    {
     "data": {
      "text/plain": [
       ":get_knn_body"
      ]
     },
     "execution_count": 5,
     "metadata": {},
     "output_type": "execute_result"
    }
   ],
   "source": [
    "def get_knn_body(querystring)\n",
    "    embeddings = get_embeddings(querystring)\n",
    "    {\n",
    "      \"query\" => {\n",
    "        \"bool\" => {\n",
    "          \"should\" => [\n",
    "            {\n",
    "              \"knn\" => {\n",
    "                \"title_embedding\" => {\n",
    "                  \"vector\" => embeddings[0],\n",
    "                  \"k\" => 20\n",
    "                }\n",
    "              }\n",
    "            }\n",
    "          ]\n",
    "        }\n",
    "      },\n",
    "      \"_source\" => {\"exclude\" => [\"title_embedding\"]}\n",
    "    }\n",
    "end"
   ]
  },
  {
   "cell_type": "markdown",
   "id": "c83d8993-83e8-4799-a8aa-def7783df430",
   "metadata": {
    "tags": []
   },
   "source": [
    "## Hybrid Query"
   ]
  },
  {
   "cell_type": "code",
   "execution_count": 6,
   "id": "264b98ec",
   "metadata": {},
   "outputs": [
    {
     "data": {
      "text/plain": [
       ":get_hybrid_body"
      ]
     },
     "execution_count": 6,
     "metadata": {},
     "output_type": "execute_result"
    }
   ],
   "source": [
    "def get_hybrid_body(querystring)\n",
    "    embeddings = get_embeddings(querystring)\n",
    "    {\n",
    "      \"query\" => {\n",
    "        \"hybrid\" => {\n",
    "          \"queries\" => [\n",
    "            {\n",
    "              \"bool\" => {\n",
    "                \"should\" => [\n",
    "                  {\n",
    "                    \"multi_match\" => {\n",
    "                      \"query\" => querystring,\n",
    "                      \"type\" => \"cross_fields\",\n",
    "                      \"fields\" => [\"description\"],\n",
    "                      \"boost\" => 1.0\n",
    "                    }\n",
    "                  },\n",
    "                  {\n",
    "                    \"multi_match\" => {\n",
    "                      \"query\" => querystring,\n",
    "                      \"type\" => \"cross_fields\",\n",
    "                      \"fields\" => [\"title\"],\n",
    "                      \"boost\" => 1.1\n",
    "                    }\n",
    "                  },\n",
    "                  {\n",
    "                    \"multi_match\" => {\n",
    "                      \"query\" => querystring,\n",
    "                      \"type\" => \"cross_fields\",\n",
    "                      \"fields\" => [\"title_exactish\"],\n",
    "                      \"boost\" => 1.2\n",
    "                    }\n",
    "                  }\n",
    "                ]\n",
    "              }        \n",
    "            },\n",
    "            {\n",
    "              \"knn\" => {\n",
    "                \"title_embedding\" => {\n",
    "                  \"vector\" => embeddings[0],\n",
    "                  \"k\" => 100\n",
    "                }\n",
    "              }\n",
    "            }\n",
    "          ]\n",
    "        }\n",
    "      },\n",
    "      \"_source\" => {\"exclude\" => [\"title_embedding\"]}\n",
    "    }\n",
    "end"
   ]
  },
  {
   "cell_type": "code",
   "execution_count": 18,
   "id": "67e1460e-cebc-4b3e-aa0d-c0ad3ea38f61",
   "metadata": {},
   "outputs": [
    {
     "data": {
      "text/plain": [
       ":serps"
      ]
     },
     "execution_count": 18,
     "metadata": {},
     "output_type": "execute_result"
    }
   ],
   "source": [
    "def serps(querystring, resp, k: 5, show: true)\n",
    "    # this doesn't match the value in the other notebook.\n",
    "    count = resp[\"hits\"][\"total\"][\"value\"]\n",
    "    if show\n",
    "        puts resp\n",
    "    end\n",
    "    results = resp[\"hits\"][\"hits\"]\n",
    "    \n",
    "    html_str = \"<h4>Showing #{count} Results for <em>#{querystring}</em></h4><ol>\"\n",
    "    \n",
    "    results[0...k].each do |result|\n",
    "        score = result[\"_score\"]\n",
    "        title = result[\"_source\"][\"title\"] || \"No title\"\n",
    "        url = result[\"_source\"][\"url\"] || \"No URL\"\n",
    "        description = result[\"_source\"][\"description\"]\n",
    "        text = result[\"_source\"][\"text\"] || \"\"\n",
    "        snippet = description || \"#{text[0...140]}...\"\n",
    "        \n",
    "        html_str += \"<li><b>#{title}</b>(#{score})<br>#{snippet}<br>\"\n",
    "        html_str += \"<span style=\\\"font-size:0.8em\\\"><a href=\\\"#{url}\\\">#{url}</a></span></li>\"\n",
    "    end\n",
    "    \n",
    "    html_str += \"</ol>\"\n",
    "    \n",
    "    if show\n",
    "        IRuby.display(IRuby.html(html_str))\n",
    "    else\n",
    "        html_str\n",
    "    end\n",
    "end"
   ]
  },
  {
   "cell_type": "code",
   "execution_count": 9,
   "id": "dde0a0be-5db8-4025-9fd0-4528eda8af09",
   "metadata": {},
   "outputs": [
    {
     "data": {
      "text/plain": [
       ":make_normalization_pipeline"
      ]
     },
     "execution_count": 9,
     "metadata": {},
     "output_type": "execute_result"
    }
   ],
   "source": [
    "def make_normalization_pipeline(name, bm25_weight: 0.5, knn_weight: 0.5)\n",
    "  body = {\n",
    "    \"description\" => \"Post processor for hybrid search with bm25=#{bm25_weight} and knn=#{knn_weight}\",\n",
    "    \"phase_results_processors\" => [\n",
    "      {\n",
    "        \"normalization-processor\" => {\n",
    "          \"normalization\" => {\n",
    "            \"technique\" => \"min_max\"\n",
    "          },\n",
    "          \"combination\" => {\n",
    "            \"technique\" => \"arithmetic_mean\",\n",
    "            \"parameters\" => {\n",
    "              \"weights\" => [\n",
    "                bm25_weight,\n",
    "                knn_weight\n",
    "              ]\n",
    "            }\n",
    "          }\n",
    "        }\n",
    "      }\n",
    "    ]\n",
    "  }\n",
    "  \n",
    "  # Changed to use positional parameters instead of named parameters\n",
    "  resp = $client.transport.perform_request(\n",
    "    \"PUT\",                              # method\n",
    "    \"/_search/pipeline/#{name}\",        # path\n",
    "    {},                                 # params\n",
    "    body                                # body\n",
    "  )\n",
    "end"
   ]
  },
  {
   "cell_type": "code",
   "execution_count": 10,
   "id": "e29ce076-de23-4c10-9df0-87601f9ebb58",
   "metadata": {},
   "outputs": [
    {
     "data": {
      "text/plain": [
       "#<OpenSearch::Transport::Transport::Response:0x00002aaadff4b5a0 @status=200, @body={\"acknowledged\"=>true}, @headers={\"content-type\"=>\"application/json; charset=UTF-8\", \"content-encoding\"=>\"gzip\", \"content-length\"=>\"47\"}>"
      ]
     },
     "execution_count": 10,
     "metadata": {},
     "output_type": "execute_result"
    }
   ],
   "source": [
    "make_normalization_pipeline(\"nlp-search-pipeline-equal\", bm25_weight: 0.5, knn_weight: 0.5)\n",
    "make_normalization_pipeline(\"nlp-search-pipeline-bm25-heavy\", bm25_weight: 0.6, knn_weight: 0.4)\n",
    "make_normalization_pipeline(\"nlp-search-pipeline-knn-heavy\", bm25_weight: 0.4, knn_weight: 0.6)"
   ]
  },
  {
   "cell_type": "code",
   "execution_count": 11,
   "id": "94e2d15c-c887-413e-8d93-bccdcac8ce2d",
   "metadata": {},
   "outputs": [
    {
     "data": {
      "text/plain": [
       ":search_hybrid"
      ]
     },
     "execution_count": 11,
     "metadata": {},
     "output_type": "execute_result"
    }
   ],
   "source": [
    "# def search(querystring, body, pipeline: \"nlp-search-pipeline-equal\", show: true)\n",
    "#     resp = $client.search(body: body, index: \"ai-search\", params: {\"search_pipeline\" => pipeline})\n",
    "#     serps(querystring, resp) if show\n",
    "#     resp\n",
    "# end\n",
    "\n",
    "def search(querystring, body, pipeline: \"nlp-search-pipeline-equal\", show: true)\n",
    "  resp = $client.search({\n",
    "    index: \"ai-search\",\n",
    "    body: body,\n",
    "    search_pipeline: pipeline  # Moved from params into main options hash\n",
    "  })\n",
    "  serps(querystring, resp) if show\n",
    "  resp\n",
    "end\n",
    "\n",
    "def search_bm25(querystring, show: true)\n",
    "    body = get_bm25_body(querystring)\n",
    "    search(querystring, body, show: show)\n",
    "end\n",
    "\n",
    "def search_knn(querystring, show: true)\n",
    "    body = get_knn_body(querystring)\n",
    "    search(querystring, body, show: show)\n",
    "end\n",
    "\n",
    "# def search_hybrid(querystring, pipeline: \"nlp-search-pipeline-equal\", show: true)\n",
    "#     body = get_hybrid_body(querystring)\n",
    "#     search(querystring, body, pipeline: pipeline, show: show)\n",
    "# end\n",
    "\n",
    "def search_hybrid(querystring, pipeline: \"nlp-search-pipeline-equal\", show: true)\n",
    "  body = get_hybrid_body(querystring)\n",
    "  search(querystring, body, pipeline: pipeline, show: show)\n",
    "end"
   ]
  },
  {
   "cell_type": "code",
   "execution_count": 12,
   "id": "d2628c3e-a3c2-4ff2-a3dc-f976a74d15e0",
   "metadata": {
    "scrolled": true
   },
   "outputs": [
    {
     "name": "stdout",
     "output_type": "stream",
     "text": [
      "Processing embeddings: 100% (1/1)\n",
      "Done!\n",
      "{\"took\"=>50, \"timed_out\"=>false, \"_shards\"=>{\"total\"=>1, \"successful\"=>1, \"skipped\"=>0, \"failed\"=>0}, \"hits\"=>{\"total\"=>{\"value\"=>935, \"relation\"=>\"eq\"}, \"max_score\"=>0.5, \"hits\"=>[{\"_index\"=>\"ai-search\", \"_id\"=>\"http://www.sparkspread.com/login.php?return=%2Fsparkspread.php%3Fsparkspread_concept%3Dstory%26id%3D20881\", \"_score\"=>0.5, \"_source\"=>{\"date\"=>nil, \"image_url\"=>\"http://www.sparkspread.com/login.php?return=%2Fsparkspread.php%3Fsparkspread_concept%3Dstory%26id%3D20881\", \"domain\"=>\"www.sparkspread.com\", \"description\"=>\"Real time energy financing and trading news\", \"text\"=>\"June 15, 2017 00:21 EST\\nWelcome to SparkSpread.com\\nThis page is only available to subscribers.\\nIf you are already a subscriber, please log in below...\\nLog in\\nIf you would like to register for a free trial to SparkSpread.com, click here\", \"title\"=>\"Real time energy financing and trading news\", \"url\"=>\"http://www.sparkspread.com/login.php?return=%2Fsparkspread.php%3Fsparkspread_concept%3Dstory%26id%3D20881\"}}, {\"_index\"=>\"ai-search\", \"_id\"=>\"http://www.sparkspread.com/login.php?return=%2Fsparkspread.php%3Fsparkspread_concept%3Dstory%26id%3D20254\", \"_score\"=>0.5, \"_source\"=>{\"date\"=>nil, \"image_url\"=>\"http://www.sparkspread.com/login.php?return=%2Fsparkspread.php%3Fsparkspread_concept%3Dstory%26id%3D20254\", \"domain\"=>\"www.sparkspread.com\", \"description\"=>\"Real time energy financing and trading news\", \"text\"=>\"Feb. 15, 2017 11:05 EST\\nWelcome to SparkSpread.com\\nThis page is only available to subscribers.\\nIf you are already a subscriber, please log in below...\\nLog in\\nIf you would like to register for a free trial to SparkSpread.com, click here\", \"title\"=>\"Real time energy financing and trading news\", \"url\"=>\"http://www.sparkspread.com/login.php?return=%2Fsparkspread.php%3Fsparkspread_concept%3Dstory%26id%3D20254\"}}, {\"_index\"=>\"ai-search\", \"_id\"=>\"http://www.sparkspread.com/login.php?return=%2Fsparkspread.php%3Fsparkspread_concept%3Dstory%26id%3D20878\", \"_score\"=>0.5, \"_source\"=>{\"date\"=>nil, \"image_url\"=>\"http://www.sparkspread.com/login.php?return=%2Fsparkspread.php%3Fsparkspread_concept%3Dstory%26id%3D20878\", \"domain\"=>\"www.sparkspread.com\", \"description\"=>\"Real time energy financing and trading news\", \"text\"=>\"June 14, 2017 16:48 EST\\nWelcome to SparkSpread.com\\nThis page is only available to subscribers.\\nIf you are already a subscriber, please log in below...\\nLog in\\nIf you would like to register for a free trial to SparkSpread.com, click here\", \"title\"=>\"Real time energy financing and trading news\", \"url\"=>\"http://www.sparkspread.com/login.php?return=%2Fsparkspread.php%3Fsparkspread_concept%3Dstory%26id%3D20878\"}}, {\"_index\"=>\"ai-search\", \"_id\"=>\"http://www.sparkspread.com/login.php?return=%2Fsparkspread.php%3Fsparkspread_concept%3Dstory%26id%3D20879\", \"_score\"=>0.5, \"_source\"=>{\"date\"=>nil, \"image_url\"=>\"http://www.sparkspread.com/login.php?return=%2Fsparkspread.php%3Fsparkspread_concept%3Dstory%26id%3D20879\", \"domain\"=>\"www.sparkspread.com\", \"description\"=>\"Real time energy financing and trading news\", \"text\"=>\"June 14, 2017 18:19 EST\\nWelcome to SparkSpread.com\\nThis page is only available to subscribers.\\nIf you are already a subscriber, please log in below...\\nLog in\\nIf you would like to register for a free trial to SparkSpread.com, click here\", \"title\"=>\"Real time energy financing and trading news\", \"url\"=>\"http://www.sparkspread.com/login.php?return=%2Fsparkspread.php%3Fsparkspread_concept%3Dstory%26id%3D20879\"}}, {\"_index\"=>\"ai-search\", \"_id\"=>\"https://www.taiwannews.com.tw/en/news/3354788\", \"_score\"=>0.5, \"_source\"=>{\"date\"=>\"2018-01-31T21:08:00\", \"image_url\"=>\"https://tnimage.taiwannews.com.tw/photos/shares/AP/20180203/95534fa56fb24671a669c62c3da71149.jpg\", \"domain\"=>\"www.taiwannews.com.tw\", \"description\"=>\"Putin to athletes: Ignore doping scandals at Olympics\", \"text\"=>\"MOSCOW (AP) — Russian President Vladimir Putin has told the country's athletes to forget about doping scandals when they compete at the Pyeongchang Olympics.\\nAs punishment for what it deemed a doping scheme during the 2014 Sochi Olympics, the International Olympic Committee has invited 169 Russians to compete under a neutral flag using the name \\\"Olympic Athletes from Russia.\\\"\\nAt a meeting with athletes at his presidential residence outside Moscow, Putin says \\\"I wish you not to think about anything which has recently accompanied your preparation for these Olympics.\\\"\\nHe adds that he hopes they \\\"focus on sporting competition, and that you know that following you, as usual, are hundreds of thousands, millions, of fans who love you and hope you win.\\\"\", \"title\"=>\"Putin to athletes: Ignore doping scandals at Olympics\", \"url\"=>\"https://www.taiwannews.com.tw/en/news/3354788\"}}, {\"_index\"=>\"ai-search\", \"_id\"=>\"http://banglalive.com/is-sonam-kapoor-finally-making-her-relationship-with-anand-ahuja-public-with-this-pic/\", \"_score\"=>0.44696078, \"_source\"=>{\"date\"=>\"2017-01-02T18:36:12\", \"image_url\"=>\"http://blcdn-307f.kxcdn.com/wp-content/uploads/2017/01/soonam-new.jpg\", \"domain\"=>\"banglalive.com\", \"description\"=>\"There have been rumours that they might get hitched in 2017, but the Neerja actor has always kept mum on this topic\", \"text\"=>\"০ = 0, ১ = 1, ২ = 2, ৩ = 3, ৪ = 4, ৫ = 5, ৬ = 6, ৭ = 7, ৮ = 8, ৯ = 9\\n্ = See example (Hasant/Viram) ় = * (Nukta) ʼ = ' (Urdhacomma) ঽ = & (Avagrah) ৺ = ~ (Isshar) ৹ = a~ (Bengali ana sign) ৲ = Rs~ (Bengali Rupee sign) ৳ = T~ (Taka sign) । = | (Devanagari danda) ॥ = || (Devanagari double danda) ₹ = Rs (Indian Rupee sign) 卐 = +~ (Swastika sign) Zero Width Joiner = ^ Zero Width Non Joiner = ^^\\nThese symbols will type Bengali characters first but if \\\"~\\\" will be followed, it will remove previously typed Bengali character and then type the symbol.\\nSymbols & ~ * : ^ | ' have special meaning. You can type this way & = &~ ~ = ~~ * = *~ : = :~ ^ = ^~ | = |~ ' = '~\\nThe English symbols [ ] { } ( ) < > - + / = ; . , \\\" ? ! % \\\\ _ $ @ # translate into the same symbols.\\nExample নমস্কার can be written by typing \\\"namaskaar\\\"\\nAs per Rule # 3, ligature will be rendered. ZWJ and ZWNJ characters are used to produce alternate rendering of ligature.\\nA consonant followed by ZWJ character will produce half-formed consonant character.\\nExample\\nপ্রশ্ন = prashn\\nপ্রশ্‍ন = prash^n\\nA consonant followed by ZWNJ character will produce dead consonant character.\\nExample\\nপ্রশ্ন = prashn\\nপ্রশ্‌ন = prash^^n\\nIf two english characters are making one Bengali Vowel (i.e. ai, au), then\\nZWJ character is used to separate them into two different vowels. It will not\\nadd ZWJ character but only considered as the separator between two\\nvowels.\", \"title\"=>\"সোশ্যাল মিডিয়ায় ছবি দিয়ে কি বয়ফ্রেন্ডের কথাই সবাইকে জানাতে চাইছেন সোনম?\", \"url\"=>\"http://banglalive.com/is-sonam-kapoor-finally-making-her-relationship-with-anand-ahuja-public-with-this-pic/\"}}, {\"_index\"=>\"ai-search\", \"_id\"=>\"http://banglalive.com/preity-zinta-reveals-where-she-first-met-hubby-gene-goodenough/\", \"_score\"=>0.33892158, \"_source\"=>{\"date\"=>\"2017-02-15T12:38:18\", \"image_url\"=>\"http://blcdn-307f.kxcdn.com/wp-content/uploads/2017/02/preity-new.jpg\", \"domain\"=>\"banglalive.com\", \"description\"=>\"It was a mystery and shocking to see Preity tying the knot suddenly as few people knew that she is dating Gene.\", \"text\"=>\"০ = 0, ১ = 1, ২ = 2, ৩ = 3, ৪ = 4, ৫ = 5, ৬ = 6, ৭ = 7, ৮ = 8, ৯ = 9\\n্ = See example (Hasant/Viram) ় = * (Nukta) ʼ = ' (Urdhacomma) ঽ = & (Avagrah) ৺ = ~ (Isshar) ৹ = a~ (Bengali ana sign) ৲ = Rs~ (Bengali Rupee sign) ৳ = T~ (Taka sign) । = | (Devanagari danda) ॥ = || (Devanagari double danda) ₹ = Rs (Indian Rupee sign) 卐 = +~ (Swastika sign) Zero Width Joiner = ^ Zero Width Non Joiner = ^^\\nThese symbols will type Bengali characters first but if \\\"~\\\" will be followed, it will remove previously typed Bengali character and then type the symbol.\\nSymbols & ~ * : ^ | ' have special meaning. You can type this way & = &~ ~ = ~~ * = *~ : = :~ ^ = ^~ | = |~ ' = '~\\nThe English symbols [ ] { } ( ) < > - + / = ; . , \\\" ? ! % \\\\ _ $ @ # translate into the same symbols.\\nExample নমস্কার can be written by typing \\\"namaskaar\\\"\\nAs per Rule # 3, ligature will be rendered. ZWJ and ZWNJ characters are used to produce alternate rendering of ligature.\\nA consonant followed by ZWJ character will produce half-formed consonant character.\\nExample\\nপ্রশ্ন = prashn\\nপ্রশ্‍ন = prash^n\\nA consonant followed by ZWNJ character will produce dead consonant character.\\nExample\\nপ্রশ্ন = prashn\\nপ্রশ্‌ন = prash^^n\\nIf two english characters are making one Bengali Vowel (i.e. ai, au), then\\nZWJ character is used to separate them into two different vowels. It will not\\nadd ZWJ character but only considered as the separator between two\\nvowels.\", \"title\"=>\"জেনের সঙ্গে আলাপ‚প্রেম থেকে বিয়ে – অকপট প্রীতি জিন্টা\", \"url\"=>\"http://banglalive.com/preity-zinta-reveals-where-she-first-met-hubby-gene-goodenough/\"}}, {\"_index\"=>\"ai-search\", \"_id\"=>\"http://banglalive.com/shahid-wants-to-kill-priyanka-marry-sonakshi-and-hook-up-with-alia/\", \"_score\"=>0.3206495, \"_source\"=>{\"date\"=>\"2017-01-02T14:23:27\", \"image_url\"=>\"http://blcdn-307f.kxcdn.com/wp-content/uploads/2017/01/shahid-new.jpg\", \"domain\"=>\"banglalive.com\", \"description\"=>\"The Kill Marry Hookup sequence on Koffee With Karan rapid fire round always puts the celebs in a tongue-tied situation.\", \"text\"=>\"০ = 0, ১ = 1, ২ = 2, ৩ = 3, ৪ = 4, ৫ = 5, ৬ = 6, ৭ = 7, ৮ = 8, ৯ = 9\\n্ = See example (Hasant/Viram) ় = * (Nukta) ʼ = ' (Urdhacomma) ঽ = & (Avagrah) ৺ = ~ (Isshar) ৹ = a~ (Bengali ana sign) ৲ = Rs~ (Bengali Rupee sign) ৳ = T~ (Taka sign) । = | (Devanagari danda) ॥ = || (Devanagari double danda) ₹ = Rs (Indian Rupee sign) 卐 = +~ (Swastika sign) Zero Width Joiner = ^ Zero Width Non Joiner = ^^\\nThese symbols will type Bengali characters first but if \\\"~\\\" will be followed, it will remove previously typed Bengali character and then type the symbol.\\nSymbols & ~ * : ^ | ' have special meaning. You can type this way & = &~ ~ = ~~ * = *~ : = :~ ^ = ^~ | = |~ ' = '~\\nThe English symbols [ ] { } ( ) < > - + / = ; . , \\\" ? ! % \\\\ _ $ @ # translate into the same symbols.\\nExample নমস্কার can be written by typing \\\"namaskaar\\\"\\nAs per Rule # 3, ligature will be rendered. ZWJ and ZWNJ characters are used to produce alternate rendering of ligature.\\nA consonant followed by ZWJ character will produce half-formed consonant character.\\nExample\\nপ্রশ্ন = prashn\\nপ্রশ্‍ন = prash^n\\nA consonant followed by ZWNJ character will produce dead consonant character.\\nExample\\nপ্রশ্ন = prashn\\nপ্রশ্‌ন = prash^^n\\nIf two english characters are making one Bengali Vowel (i.e. ai, au), then\\nZWJ character is used to separate them into two different vowels. It will not\\nadd ZWJ character but only considered as the separator between two\\nvowels.\", \"title\"=>\"প্রাক্তন প্রেমিকা প্রিয়াঙ্কাকে মেরে ফেলতে চান শাহিদ!!\", \"url\"=>\"http://banglalive.com/shahid-wants-to-kill-priyanka-marry-sonakshi-and-hook-up-with-alia/\"}}, {\"_index\"=>\"ai-search\", \"_id\"=>\"http://banglalive.com/srk-goes-late-night-walk-valentine/\", \"_score\"=>0.19079657, \"_source\"=>{\"date\"=>\"2017-02-14T18:00:01\", \"image_url\"=>\"http://blcdn-307f.kxcdn.com/wp-content/uploads/2017/02/srk-1.jpg\", \"domain\"=>\"banglalive.com\", \"description\"=>\"The King of romance, Shah Rukh Khan spent an amazing time when the Valentine’s day begun.\", \"text\"=>\"০ = 0, ১ = 1, ২ = 2, ৩ = 3, ৪ = 4, ৫ = 5, ৬ = 6, ৭ = 7, ৮ = 8, ৯ = 9\\n্ = See example (Hasant/Viram) ় = * (Nukta) ʼ = ' (Urdhacomma) ঽ = & (Avagrah) ৺ = ~ (Isshar) ৹ = a~ (Bengali ana sign) ৲ = Rs~ (Bengali Rupee sign) ৳ = T~ (Taka sign) । = | (Devanagari danda) ॥ = || (Devanagari double danda) ₹ = Rs (Indian Rupee sign) 卐 = +~ (Swastika sign) Zero Width Joiner = ^ Zero Width Non Joiner = ^^\\nThese symbols will type Bengali characters first but if \\\"~\\\" will be followed, it will remove previously typed Bengali character and then type the symbol.\\nSymbols & ~ * : ^ | ' have special meaning. You can type this way & = &~ ~ = ~~ * = *~ : = :~ ^ = ^~ | = |~ ' = '~\\nThe English symbols [ ] { } ( ) < > - + / = ; . , \\\" ? ! % \\\\ _ $ @ # translate into the same symbols.\\nExample নমস্কার can be written by typing \\\"namaskaar\\\"\\nAs per Rule # 3, ligature will be rendered. ZWJ and ZWNJ characters are used to produce alternate rendering of ligature.\\nA consonant followed by ZWJ character will produce half-formed consonant character.\\nExample\\nপ্রশ্ন = prashn\\nপ্রশ্‍ন = prash^n\\nA consonant followed by ZWNJ character will produce dead consonant character.\\nExample\\nপ্রশ্ন = prashn\\nপ্রশ্‌ন = prash^^n\\nIf two english characters are making one Bengali Vowel (i.e. ai, au), then\\nZWJ character is used to separate them into two different vowels. It will not\\nadd ZWJ character but only considered as the separator between two\\nvowels.\", \"title\"=>\"ভ্যালেন্টাইনের হাত ধরে গভীর রাতে জুহু বিচে শাহরুখ\", \"url\"=>\"http://banglalive.com/srk-goes-late-night-walk-valentine/\"}}, {\"_index\"=>\"ai-search\", \"_id\"=>\"https://www.taiwannews.com.tw/en/news/3354233\", \"_score\"=>0.042463236, \"_source\"=>{\"date\"=>\"2018-01-30T21:33:00\", \"image_url\"=>\"https://www.taiwannews.com.tw/images/category/580888eb17740.jpg\", \"domain\"=>\"www.taiwannews.com.tw\", \"description\"=>\"Pope asks Vatican's top sex crimes expert to look into case of Chilean bishop accused of cover-up\", \"text\"=>\"VATICAN CITY (AP) — Pope asks Vatican's top sex crimes expert to look into case of Chilean bishop accused of cover-up.\", \"title\"=>\"Pope asks Vatican's top sex crimes expert to look into case of Chilean bishop accused of cover-up\", \"url\"=>\"https://www.taiwannews.com.tw/en/news/3354233\"}}]}}\n"
     ]
    },
    {
     "data": {
      "text/html": [
       "<h4>Showing 935 Results for <em>crypto scandal</em></h4><ol><li><b>Real time energy financing and trading news</b>(0.5)<br>Real time energy financing and trading news<br><span style=\"font-size:0.8em\"><a href=\"http://www.sparkspread.com/login.php?return=%2Fsparkspread.php%3Fsparkspread_concept%3Dstory%26id%3D20881\">http://www.sparkspread.com/login.php?return=%2Fsparkspread.php%3Fsparkspread_concept%3Dstory%26id%3D20881</a></span></li><li><b>Real time energy financing and trading news</b>(0.5)<br>Real time energy financing and trading news<br><span style=\"font-size:0.8em\"><a href=\"http://www.sparkspread.com/login.php?return=%2Fsparkspread.php%3Fsparkspread_concept%3Dstory%26id%3D20254\">http://www.sparkspread.com/login.php?return=%2Fsparkspread.php%3Fsparkspread_concept%3Dstory%26id%3D20254</a></span></li><li><b>Real time energy financing and trading news</b>(0.5)<br>Real time energy financing and trading news<br><span style=\"font-size:0.8em\"><a href=\"http://www.sparkspread.com/login.php?return=%2Fsparkspread.php%3Fsparkspread_concept%3Dstory%26id%3D20878\">http://www.sparkspread.com/login.php?return=%2Fsparkspread.php%3Fsparkspread_concept%3Dstory%26id%3D20878</a></span></li><li><b>Real time energy financing and trading news</b>(0.5)<br>Real time energy financing and trading news<br><span style=\"font-size:0.8em\"><a href=\"http://www.sparkspread.com/login.php?return=%2Fsparkspread.php%3Fsparkspread_concept%3Dstory%26id%3D20879\">http://www.sparkspread.com/login.php?return=%2Fsparkspread.php%3Fsparkspread_concept%3Dstory%26id%3D20879</a></span></li><li><b>Putin to athletes: Ignore doping scandals at Olympics</b>(0.5)<br>Putin to athletes: Ignore doping scandals at Olympics<br><span style=\"font-size:0.8em\"><a href=\"https://www.taiwannews.com.tw/en/news/3354788\">https://www.taiwannews.com.tw/en/news/3354788</a></span></li></ol>"
      ],
      "text/plain": [
       "\"<h4>Showing 935 Results for <em>crypto scandal</em></h4><ol><li><b>Real time energy financing and trading news</b>(0.5)<br>Real time energy financing and trading news<br><span style=\\\"font-size:0.8em\\\"><a href=\\\"http://www.sparkspread.com/login.php?return=%2Fsparkspread.php%3Fsparkspread_concept%3Dstory%26id%3D20881\\\">http://www.sparkspread.com/login.php?return=%2Fsparkspread.php%3Fsparkspread_concept%3Dstory%26id%3D20881</a></span></li><li><b>Real time energy financing and trading news</b>(0.5)<br>Real time energy financing and trading news<br><span style=\\\"font-size:0.8em\\\"><a href=\\\"http://www.sparkspread.com/login.php?return=%2Fsparkspread.php%3Fsparkspread_concept%3Dstory%26id%3D20254\\\">http://www.sparkspread.com/login.php?return=%2Fsparkspread.php%3Fsparkspread_concept%3Dstory%26id%3D20254</a></span></li><li><b>Real time energy financing and trading news</b>(0.5)<br>Real time energy financing and trading news<br><span style=\\\"font-size:0.8em\\\"><a href=\\\"http://www.sparkspread.com/login.php?return=%2Fsparkspread.php%3Fsparkspread_concept%3Dstory%26id%3D20878\\\">http://www.sparkspread.com/login.php?return=%2Fsparkspread.php%3Fsparkspread_concept%3Dstory%26id%3D20878</a></span></li><li><b>Real time energy financing and trading news</b>(0.5)<br>Real time energy financing and trading news<br><span style=\\\"font-size:0.8em\\\"><a href=\\\"http://www.sparkspread.com/login.php?return=%2Fsparkspread.php%3Fsparkspread_concept%3Dstory%26id%3D20879\\\">http://www.sparkspread.com/login.php?return=%2Fsparkspread.php%3Fsparkspread_concept%3Dstory%26id%3D20879</a></span></li><li><b>Putin to athletes: Ignore doping scandals at Olympics</b>(0.5)<br>Putin to athletes: Ignore doping scandals at Olympics<br><span style=\\\"font-size:0.8em\\\"><a href=\\\"https://www.taiwannews.com.tw/en/news/3354788\\\">https://www.taiwannews.com.tw/en/news/3354788</a></span></li></ol>\""
      ]
     },
     "metadata": {},
     "output_type": "display_data"
    },
    {
     "data": {
      "text/plain": [
       "{\"took\"=>50, \"timed_out\"=>false, \"_shards\"=>{\"total\"=>1, \"successful\"=>1, \"skipped\"=>0, \"failed\"=>0}, \"hits\"=>{\"total\"=>{\"value\"=>935, \"relation\"=>\"eq\"}, \"max_score\"=>0.5, \"hits\"=>[{\"_index\"=>\"ai-search\", \"_id\"=>\"http://www.sparkspread.com/login.php?return=%2Fsparkspread.php%3Fsparkspread_concept%3Dstory%26id%3D20881\", \"_score\"=>0.5, \"_source\"=>{\"date\"=>nil, \"image_url\"=>\"http://www.sparkspread.com/login.php?return=%2Fsparkspread.php%3Fsparkspread_concept%3Dstory%26id%3D20881\", \"domain\"=>\"www.sparkspread.com\", \"description\"=>\"Real time energy financing and trading news\", \"text\"=>\"June 15, 2017 00:21 EST\\nWelcome to SparkSpread.com\\nThis page is only available to subscribers.\\nIf you are already a subscriber, please log in below...\\nLog in\\nIf you would like to register for a free trial to SparkSpread.com, click here\", \"title\"=>\"Real time energy financing and trading news\", \"url\"=>\"http://www.sparkspread.com/login.php?return=%2Fsparkspread.php%3Fsparkspread_concept%3Dstory%26id%3D20881\"}}, {\"_index\"=>\"ai-search\", \"_id\"=>\"http://www.sparkspread.com/login.php?return=%2Fsparkspread.php%3Fsparkspread_concept%3Dstory%26id%3D20254\", \"_score\"=>0.5, \"_source\"=>{\"date\"=>nil, \"image_url\"=>\"http://www.sparkspread.com/login.php?return=%2Fsparkspread.php%3Fsparkspread_concept%3Dstory%26id%3D20254\", \"domain\"=>\"www.sparkspread.com\", \"description\"=>\"Real time energy financing and trading news\", \"text\"=>\"Feb. 15, 2017 11:05 EST\\nWelcome to SparkSpread.com\\nThis page is only available to subscribers.\\nIf you are already a subscriber, please log in below...\\nLog in\\nIf you would like to register for a free trial to SparkSpread.com, click here\", \"title\"=>\"Real time energy financing and trading news\", \"url\"=>\"http://www.sparkspread.com/login.php?return=%2Fsparkspread.php%3Fsparkspread_concept%3Dstory%26id%3D20254\"}}, {\"_index\"=>\"ai-search\", \"_id\"=>\"http://www.sparkspread.com/login.php?return=%2Fsparkspread.php%3Fsparkspread_concept%3Dstory%26id%3D20878\", \"_score\"=>0.5, \"_source\"=>{\"date\"=>nil, \"image_url\"=>\"http://www.sparkspread.com/login.php?return=%2Fsparkspread.php%3Fsparkspread_concept%3Dstory%26id%3D20878\", \"domain\"=>\"www.sparkspread.com\", \"description\"=>\"Real time energy financing and trading news\", \"text\"=>\"June 14, 2017 16:48 EST\\nWelcome to SparkSpread.com\\nThis page is only available to subscribers.\\nIf you are already a subscriber, please log in below...\\nLog in\\nIf you would like to register for a free trial to SparkSpread.com, click here\", \"title\"=>\"Real time energy financing and trading news\", \"url\"=>\"http://www.sparkspread.com/login.php?return=%2Fsparkspread.php%3Fsparkspread_concept%3Dstory%26id%3D20878\"}}, {\"_index\"=>\"ai-search\", \"_id\"=>\"http://www.sparkspread.com/login.php?return=%2Fsparkspread.php%3Fsparkspread_concept%3Dstory%26id%3D20879\", \"_score\"=>0.5, \"_source\"=>{\"date\"=>nil, \"image_url\"=>\"http://www.sparkspread.com/login.php?return=%2Fsparkspread.php%3Fsparkspread_concept%3Dstory%26id%3D20879\", \"domain\"=>\"www.sparkspread.com\", \"description\"=>\"Real time energy financing and trading news\", \"text\"=>\"June 14, 2017 18:19 EST\\nWelcome to SparkSpread.com\\nThis page is only available to subscribers.\\nIf you are already a subscriber, please log in below...\\nLog in\\nIf you would like to register for a free trial to SparkSpread.com, click here\", \"title\"=>\"Real time energy financing and trading news\", \"url\"=>\"http://www.sparkspread.com/login.php?return=%2Fsparkspread.php%3Fsparkspread_concept%3Dstory%26id%3D20879\"}}, {\"_index\"=>\"ai-search\", \"_id\"=>\"https://www.taiwannews.com.tw/en/news/3354788\", \"_score\"=>0.5, \"_source\"=>{\"date\"=>\"2018-01-31T21:08:00\", \"image_url\"=>\"https://tnimage.taiwannews.com.tw/photos/shares/AP/20180203/95534fa56fb24671a669c62c3da71149.jpg\", \"domain\"=>\"www.taiwannews.com.tw\", \"description\"=>\"Putin to athletes: Ignore doping scandals at Olympics\", \"text\"=>\"MOSCOW (AP) — Russian President Vladimir Putin has told the country's athletes to forget about doping scandals when they compete at the Pyeongchang Olympics.\\nAs punishment for what it deemed a doping scheme during the 2014 Sochi Olympics, the International Olympic Committee has invited 169 Russians to compete under a neutral flag using the name \\\"Olympic Athletes from Russia.\\\"\\nAt a meeting with athletes at his presidential residence outside Moscow, Putin says \\\"I wish you not to think about anything which has recently accompanied your preparation for these Olympics.\\\"\\nHe adds that he hopes they \\\"focus on sporting competition, and that you know that following you, as usual, are hundreds of thousands, millions, of fans who love you and hope you win.\\\"\", \"title\"=>\"Putin to athletes: Ignore doping scandals at Olympics\", \"url\"=>\"https://www.taiwannews.com.tw/en/news/3354788\"}}, {\"_index\"=>\"ai-search\", \"_id\"=>\"http://banglalive.com/is-sonam-kapoor-finally-making-her-relationship-with-anand-ahuja-public-with-this-pic/\", \"_score\"=>0.44696078, \"_source\"=>{\"date\"=>\"2017-01-02T18:36:12\", \"image_url\"=>\"http://blcdn-307f.kxcdn.com/wp-content/uploads/2017/01/soonam-new.jpg\", \"domain\"=>\"banglalive.com\", \"description\"=>\"There have been rumours that they might get hitched in 2017, but the Neerja actor has always kept mum on this topic\", \"text\"=>\"০ = 0, ১ = 1, ২ = 2, ৩ = 3, ৪ = 4, ৫ = 5, ৬ = 6, ৭ = 7, ৮ = 8, ৯ = 9\\n্ = See example (Hasant/Viram) ় = * (Nukta) ʼ = ' (Urdhacomma) ঽ = & (Avagrah) ৺ = ~ (Isshar) ৹ = a~ (Bengali ana sign) ৲ = Rs~ (Bengali Rupee sign) ৳ = T~ (Taka sign) । = | (Devanagari danda) ॥ = || (Devanagari double danda) ₹ = Rs (Indian Rupee sign) 卐 = +~ (Swastika sign) Zero Width Joiner = ^ Zero Width Non Joiner = ^^\\nThese symbols will type Bengali characters first but if \\\"~\\\" will be followed, it will remove previously typed Bengali character and then type the symbol.\\nSymbols & ~ * : ^ | ' have special meaning. You can type this way & = &~ ~ = ~~ * = *~ : = :~ ^ = ^~ | = |~ ' = '~\\nThe English symbols [ ] { } ( ) < > - + / = ; . , \\\" ? ! % \\\\ _ $ @ # translate into the same symbols.\\nExample নমস্কার can be written by typing \\\"namaskaar\\\"\\nAs per Rule # 3, ligature will be rendered. ZWJ and ZWNJ characters are used to produce alternate rendering of ligature.\\nA consonant followed by ZWJ character will produce half-formed consonant character.\\nExample\\nপ্রশ্ন = prashn\\nপ্রশ্‍ন = prash^n\\nA consonant followed by ZWNJ character will produce dead consonant character.\\nExample\\nপ্রশ্ন = prashn\\nপ্রশ্‌ন = prash^^n\\nIf two english characters are making one Bengali Vowel (i.e. ai, au), then\\nZWJ character is used to separate them into two different vowels. It will not\\nadd ZWJ character but only considered as the separator between two\\nvowels.\", \"title\"=>\"সোশ্যাল মিডিয়ায় ছবি দিয়ে কি বয়ফ্রেন্ডের কথাই সবাইকে জানাতে চাইছেন সোনম?\", \"url\"=>\"http://banglalive.com/is-sonam-kapoor-finally-making-her-relationship-with-anand-ahuja-public-with-this-pic/\"}}, {\"_index\"=>\"ai-search\", \"_id\"=>\"http://banglalive.com/preity-zinta-reveals-where-she-first-met-hubby-gene-goodenough/\", \"_score\"=>0.33892158, \"_source\"=>{\"date\"=>\"2017-02-15T12:38:18\", \"image_url\"=>\"http://blcdn-307f.kxcdn.com/wp-content/uploads/2017/02/preity-new.jpg\", \"domain\"=>\"banglalive.com\", \"description\"=>\"It was a mystery and shocking to see Preity tying the knot suddenly as few people knew that she is dating Gene.\", \"text\"=>\"০ = 0, ১ = 1, ২ = 2, ৩ = 3, ৪ = 4, ৫ = 5, ৬ = 6, ৭ = 7, ৮ = 8, ৯ = 9\\n্ = See example (Hasant/Viram) ় = * (Nukta) ʼ = ' (Urdhacomma) ঽ = & (Avagrah) ৺ = ~ (Isshar) ৹ = a~ (Bengali ana sign) ৲ = Rs~ (Bengali Rupee sign) ৳ = T~ (Taka sign) । = | (Devanagari danda) ॥ = || (Devanagari double danda) ₹ = Rs (Indian Rupee sign) 卐 = +~ (Swastika sign) Zero Width Joiner = ^ Zero Width Non Joiner = ^^\\nThese symbols will type Bengali characters first but if \\\"~\\\" will be followed, it will remove previously typed Bengali character and then type the symbol.\\nSymbols & ~ * : ^ | ' have special meaning. You can type this way & = &~ ~ = ~~ * = *~ : = :~ ^ = ^~ | = |~ ' = '~\\nThe English symbols [ ] { } ( ) < > - + / = ; . , \\\" ? ! % \\\\ _ $ @ # translate into the same symbols.\\nExample নমস্কার can be written by typing \\\"namaskaar\\\"\\nAs per Rule # 3, ligature will be rendered. ZWJ and ZWNJ characters are used to produce alternate rendering of ligature.\\nA consonant followed by ZWJ character will produce half-formed consonant character.\\nExample\\nপ্রশ্ন = prashn\\nপ্রশ্‍ন = prash^n\\nA consonant followed by ZWNJ character will produce dead consonant character.\\nExample\\nপ্রশ্ন = prashn\\nপ্রশ্‌ন = prash^^n\\nIf two english characters are making one Bengali Vowel (i.e. ai, au), then\\nZWJ character is used to separate them into two different vowels. It will not\\nadd ZWJ character but only considered as the separator between two\\nvowels.\", \"title\"=>\"জেনের সঙ্গে আলাপ‚প্রেম থেকে বিয়ে – অকপট প্রীতি জিন্টা\", \"url\"=>\"http://banglalive.com/preity-zinta-reveals-where-she-first-met-hubby-gene-goodenough/\"}}, {\"_index\"=>\"ai-search\", \"_id\"=>\"http://banglalive.com/shahid-wants-to-kill-priyanka-marry-sonakshi-and-hook-up-with-alia/\", \"_score\"=>0.3206495, \"_source\"=>{\"date\"=>\"2017-01-02T14:23:27\", \"image_url\"=>\"http://blcdn-307f.kxcdn.com/wp-content/uploads/2017/01/shahid-new.jpg\", \"domain\"=>\"banglalive.com\", \"description\"=>\"The Kill Marry Hookup sequence on Koffee With Karan rapid fire round always puts the celebs in a tongue-tied situation.\", \"text\"=>\"০ = 0, ১ = 1, ২ = 2, ৩ = 3, ৪ = 4, ৫ = 5, ৬ = 6, ৭ = 7, ৮ = 8, ৯ = 9\\n্ = See example (Hasant/Viram) ় = * (Nukta) ʼ = ' (Urdhacomma) ঽ = & (Avagrah) ৺ = ~ (Isshar) ৹ = a~ (Bengali ana sign) ৲ = Rs~ (Bengali Rupee sign) ৳ = T~ (Taka sign) । = | (Devanagari danda) ॥ = || (Devanagari double danda) ₹ = Rs (Indian Rupee sign) 卐 = +~ (Swastika sign) Zero Width Joiner = ^ Zero Width Non Joiner = ^^\\nThese symbols will type Bengali characters first but if \\\"~\\\" will be followed, it will remove previously typed Bengali character and then type the symbol.\\nSymbols & ~ * : ^ | ' have special meaning. You can type this way & = &~ ~ = ~~ * = *~ : = :~ ^ = ^~ | = |~ ' = '~\\nThe English symbols [ ] { } ( ) < > - + / = ; . , \\\" ? ! % \\\\ _ $ @ # translate into the same symbols.\\nExample নমস্কার can be written by typing \\\"namaskaar\\\"\\nAs per Rule # 3, ligature will be rendered. ZWJ and ZWNJ characters are used to produce alternate rendering of ligature.\\nA consonant followed by ZWJ character will produce half-formed consonant character.\\nExample\\nপ্রশ্ন = prashn\\nপ্রশ্‍ন = prash^n\\nA consonant followed by ZWNJ character will produce dead consonant character.\\nExample\\nপ্রশ্ন = prashn\\nপ্রশ্‌ন = prash^^n\\nIf two english characters are making one Bengali Vowel (i.e. ai, au), then\\nZWJ character is used to separate them into two different vowels. It will not\\nadd ZWJ character but only considered as the separator between two\\nvowels.\", \"title\"=>\"প্রাক্তন প্রেমিকা প্রিয়াঙ্কাকে মেরে ফেলতে চান শাহিদ!!\", \"url\"=>\"http://banglalive.com/shahid-wants-to-kill-priyanka-marry-sonakshi-and-hook-up-with-alia/\"}}, {\"_index\"=>\"ai-search\", \"_id\"=>\"http://banglalive.com/srk-goes-late-night-walk-valentine/\", \"_score\"=>0.19079657, \"_source\"=>{\"date\"=>\"2017-02-14T18:00:01\", \"image_url\"=>\"http://blcdn-307f.kxcdn.com/wp-content/uploads/2017/02/srk-1.jpg\", \"domain\"=>\"banglalive.com\", \"description\"=>\"The King of romance, Shah Rukh Khan spent an amazing time when the Valentine’s day begun.\", \"text\"=>\"০ = 0, ১ = 1, ২ = 2, ৩ = 3, ৪ = 4, ৫ = 5, ৬ = 6, ৭ = 7, ৮ = 8, ৯ = 9\\n্ = See example (Hasant/Viram) ় = * (Nukta) ʼ = ' (Urdhacomma) ঽ = & (Avagrah) ৺ = ~ (Isshar) ৹ = a~ (Bengali ana sign) ৲ = Rs~ (Bengali Rupee sign) ৳ = T~ (Taka sign) । = | (Devanagari danda) ॥ = || (Devanagari double danda) ₹ = Rs (Indian Rupee sign) 卐 = +~ (Swastika sign) Zero Width Joiner = ^ Zero Width Non Joiner = ^^\\nThese symbols will type Bengali characters first but if \\\"~\\\" will be followed, it will remove previously typed Bengali character and then type the symbol.\\nSymbols & ~ * : ^ | ' have special meaning. You can type this way & = &~ ~ = ~~ * = *~ : = :~ ^ = ^~ | = |~ ' = '~\\nThe English symbols [ ] { } ( ) < > - + / = ; . , \\\" ? ! % \\\\ _ $ @ # translate into the same symbols.\\nExample নমস্কার can be written by typing \\\"namaskaar\\\"\\nAs per Rule # 3, ligature will be rendered. ZWJ and ZWNJ characters are used to produce alternate rendering of ligature.\\nA consonant followed by ZWJ character will produce half-formed consonant character.\\nExample\\nপ্রশ্ন = prashn\\nপ্রশ্‍ন = prash^n\\nA consonant followed by ZWNJ character will produce dead consonant character.\\nExample\\nপ্রশ্ন = prashn\\nপ্রশ্‌ন = prash^^n\\nIf two english characters are making one Bengali Vowel (i.e. ai, au), then\\nZWJ character is used to separate them into two different vowels. It will not\\nadd ZWJ character but only considered as the separator between two\\nvowels.\", \"title\"=>\"ভ্যালেন্টাইনের হাত ধরে গভীর রাতে জুহু বিচে শাহরুখ\", \"url\"=>\"http://banglalive.com/srk-goes-late-night-walk-valentine/\"}}, {\"_index\"=>\"ai-search\", \"_id\"=>\"https://www.taiwannews.com.tw/en/news/3354233\", \"_score\"=>0.042463236, \"_source\"=>{\"date\"=>\"2018-01-30T21:33:00\", \"image_url\"=>\"https://www.taiwannews.com.tw/images/category/580888eb17740.jpg\", \"domain\"=>\"www.taiwannews.com.tw\", \"description\"=>\"Pope asks Vatican's top sex crimes expert to look into case of Chilean bishop accused of cover-up\", \"text\"=>\"VATICAN CITY (AP) — Pope asks Vatican's top sex crimes expert to look into case of Chilean bishop accused of cover-up.\", \"title\"=>\"Pope asks Vatican's top sex crimes expert to look into case of Chilean bishop accused of cover-up\", \"url\"=>\"https://www.taiwannews.com.tw/en/news/3354233\"}}]}}"
      ]
     },
     "execution_count": 12,
     "metadata": {},
     "output_type": "execute_result"
    }
   ],
   "source": [
    "resp = search_hybrid(\"crypto scandal\")"
   ]
  },
  {
   "cell_type": "code",
   "execution_count": 13,
   "id": "afd2a29b-a0d1-46aa-947e-85d6e8e37874",
   "metadata": {},
   "outputs": [
    {
     "name": "stdout",
     "output_type": "stream",
     "text": [
      "{\"took\"=>10, \"timed_out\"=>false, \"_shards\"=>{\"total\"=>1, \"successful\"=>1, \"skipped\"=>0, \"failed\"=>0}, \"hits\"=>{\"total\"=>{\"value\"=>2, \"relation\"=>\"eq\"}, \"max_score\"=>23.372225, \"hits\"=>[{\"_index\"=>\"ai-search\", \"_id\"=>\"https://www.taiwannews.com.tw/en/news/3354788\", \"_score\"=>23.372225, \"_source\"=>{\"date\"=>\"2018-01-31T21:08:00\", \"image_url\"=>\"https://tnimage.taiwannews.com.tw/photos/shares/AP/20180203/95534fa56fb24671a669c62c3da71149.jpg\", \"domain\"=>\"www.taiwannews.com.tw\", \"description\"=>\"Putin to athletes: Ignore doping scandals at Olympics\", \"text\"=>\"MOSCOW (AP) — Russian President Vladimir Putin has told the country's athletes to forget about doping scandals when they compete at the Pyeongchang Olympics.\\nAs punishment for what it deemed a doping scheme during the 2014 Sochi Olympics, the International Olympic Committee has invited 169 Russians to compete under a neutral flag using the name \\\"Olympic Athletes from Russia.\\\"\\nAt a meeting with athletes at his presidential residence outside Moscow, Putin says \\\"I wish you not to think about anything which has recently accompanied your preparation for these Olympics.\\\"\\nHe adds that he hopes they \\\"focus on sporting competition, and that you know that following you, as usual, are hundreds of thousands, millions, of fans who love you and hope you win.\\\"\", \"title\"=>\"Putin to athletes: Ignore doping scandals at Olympics\", \"url\"=>\"https://www.taiwannews.com.tw/en/news/3354788\"}}, {\"_index\"=>\"ai-search\", \"_id\"=>\"https://www.taiwannews.com.tw/en/news/3473912\", \"_score\"=>12.074548, \"_source\"=>{\"date\"=>\"2018-07-04T14:36:00\", \"image_url\"=>\"https://tnimage.taiwannews.com.tw/photos/shares/5b3c68a7a6ea5.jpg\", \"domain\"=>\"www.taiwannews.com.tw\", \"description\"=>\"Tainted oil from Chang Guann turned up in food at 22 schools in 2014.A total of 4,048 students and teachers can soon expect to receive between NT$3,000 (US$98) and NT$9,000 each as compensation for the consumption of tainted cooking oil from Chang Guann.\", \"text\"=>\"TAIPEI (Taiwan News) – A total of 4,048 students and teachers can soon expect to receive between NT$3,000 (US$98) and NT$9,000 each as compensation for the consumption of tainted cooking oil from Chang Guann (強冠企業).\\nStarting in 2013, Taiwan fell into the grip of a series of food safety scandals, most of them centering on companies passing off oil products of lower quality or even unfit for human consumption as high-grade cooking oil.\\nLast September, Chang Guann Chairman Yeh Wen-hsiang (葉文祥) attempted suicide after receiving a final sentence of 22 years in prison for selling tainted lard to more than 200 food companies.\\nThe Consumer Protection Association of Taiwan (CPAT, 台灣消費者保護協會) filed a class action suit on behalf of pupils, teachers and other staff at 22 schools, from kindergartens to senior high schools across the nation, where food had been served containing ingredients supplied by Chang Guann, the Central News Agency reported.\\nAt a news conference Wednesday, CPAT announced that following three years of legal procedures, a total of more than NT$24.4 million (US$800,500) had been wired into its accounts. The plaintiffs would receive their compensation by the end of the month, the group said.\\nA total of 3,811 plaintiffs had agreed to a settlement, which provided them with NT$6,000 each, while 160 people accepted a court verdict and received from NT$6,000 to NT$9,000 per person. A final group of 77 people continued the court case until the end and received NT$3,000 per person, CNA reported.\\nCPAT said that even though the outcome was a far cry from the NT$90,000 (US$2,950) per person it had originally demanded, it was still satisfied that the victims of the scandal were able to receive compensation.\", \"title\"=>\"More than 4,000 students and teachers to be compensated for Taiwan food safety scandal\", \"url\"=>\"https://www.taiwannews.com.tw/en/news/3473912\"}}]}}\n"
     ]
    },
    {
     "data": {
      "text/html": [
       "<h4>Showing 2 Results for <em>crypto scandal</em></h4><ol><li><b>Putin to athletes: Ignore doping scandals at Olympics</b>(23.372225)<br>Putin to athletes: Ignore doping scandals at Olympics<br><span style=\"font-size:0.8em\"><a href=\"https://www.taiwannews.com.tw/en/news/3354788\">https://www.taiwannews.com.tw/en/news/3354788</a></span></li><li><b>More than 4,000 students and teachers to be compensated for Taiwan food safety scandal</b>(12.074548)<br>Tainted oil from Chang Guann turned up in food at 22 schools in 2014.A total of 4,048 students and teachers can soon expect to receive between NT$3,000 (US$98) and NT$9,000 each as compensation for the consumption of tainted cooking oil from Chang Guann.<br><span style=\"font-size:0.8em\"><a href=\"https://www.taiwannews.com.tw/en/news/3473912\">https://www.taiwannews.com.tw/en/news/3473912</a></span></li></ol>"
      ],
      "text/plain": [
       "\"<h4>Showing 2 Results for <em>crypto scandal</em></h4><ol><li><b>Putin to athletes: Ignore doping scandals at Olympics</b>(23.372225)<br>Putin to athletes: Ignore doping scandals at Olympics<br><span style=\\\"font-size:0.8em\\\"><a href=\\\"https://www.taiwannews.com.tw/en/news/3354788\\\">https://www.taiwannews.com.tw/en/news/3354788</a></span></li><li><b>More than 4,000 students and teachers to be compensated for Taiwan food safety scandal</b>(12.074548)<br>Tainted oil from Chang Guann turned up in food at 22 schools in 2014.A total of 4,048 students and teachers can soon expect to receive between NT$3,000 (US$98) and NT$9,000 each as compensation for the consumption of tainted cooking oil from Chang Guann.<br><span style=\\\"font-size:0.8em\\\"><a href=\\\"https://www.taiwannews.com.tw/en/news/3473912\\\">https://www.taiwannews.com.tw/en/news/3473912</a></span></li></ol>\""
      ]
     },
     "metadata": {},
     "output_type": "display_data"
    },
    {
     "data": {
      "text/plain": [
       "{\"took\"=>10, \"timed_out\"=>false, \"_shards\"=>{\"total\"=>1, \"successful\"=>1, \"skipped\"=>0, \"failed\"=>0}, \"hits\"=>{\"total\"=>{\"value\"=>2, \"relation\"=>\"eq\"}, \"max_score\"=>23.372225, \"hits\"=>[{\"_index\"=>\"ai-search\", \"_id\"=>\"https://www.taiwannews.com.tw/en/news/3354788\", \"_score\"=>23.372225, \"_source\"=>{\"date\"=>\"2018-01-31T21:08:00\", \"image_url\"=>\"https://tnimage.taiwannews.com.tw/photos/shares/AP/20180203/95534fa56fb24671a669c62c3da71149.jpg\", \"domain\"=>\"www.taiwannews.com.tw\", \"description\"=>\"Putin to athletes: Ignore doping scandals at Olympics\", \"text\"=>\"MOSCOW (AP) — Russian President Vladimir Putin has told the country's athletes to forget about doping scandals when they compete at the Pyeongchang Olympics.\\nAs punishment for what it deemed a doping scheme during the 2014 Sochi Olympics, the International Olympic Committee has invited 169 Russians to compete under a neutral flag using the name \\\"Olympic Athletes from Russia.\\\"\\nAt a meeting with athletes at his presidential residence outside Moscow, Putin says \\\"I wish you not to think about anything which has recently accompanied your preparation for these Olympics.\\\"\\nHe adds that he hopes they \\\"focus on sporting competition, and that you know that following you, as usual, are hundreds of thousands, millions, of fans who love you and hope you win.\\\"\", \"title\"=>\"Putin to athletes: Ignore doping scandals at Olympics\", \"url\"=>\"https://www.taiwannews.com.tw/en/news/3354788\"}}, {\"_index\"=>\"ai-search\", \"_id\"=>\"https://www.taiwannews.com.tw/en/news/3473912\", \"_score\"=>12.074548, \"_source\"=>{\"date\"=>\"2018-07-04T14:36:00\", \"image_url\"=>\"https://tnimage.taiwannews.com.tw/photos/shares/5b3c68a7a6ea5.jpg\", \"domain\"=>\"www.taiwannews.com.tw\", \"description\"=>\"Tainted oil from Chang Guann turned up in food at 22 schools in 2014.A total of 4,048 students and teachers can soon expect to receive between NT$3,000 (US$98) and NT$9,000 each as compensation for the consumption of tainted cooking oil from Chang Guann.\", \"text\"=>\"TAIPEI (Taiwan News) – A total of 4,048 students and teachers can soon expect to receive between NT$3,000 (US$98) and NT$9,000 each as compensation for the consumption of tainted cooking oil from Chang Guann (強冠企業).\\nStarting in 2013, Taiwan fell into the grip of a series of food safety scandals, most of them centering on companies passing off oil products of lower quality or even unfit for human consumption as high-grade cooking oil.\\nLast September, Chang Guann Chairman Yeh Wen-hsiang (葉文祥) attempted suicide after receiving a final sentence of 22 years in prison for selling tainted lard to more than 200 food companies.\\nThe Consumer Protection Association of Taiwan (CPAT, 台灣消費者保護協會) filed a class action suit on behalf of pupils, teachers and other staff at 22 schools, from kindergartens to senior high schools across the nation, where food had been served containing ingredients supplied by Chang Guann, the Central News Agency reported.\\nAt a news conference Wednesday, CPAT announced that following three years of legal procedures, a total of more than NT$24.4 million (US$800,500) had been wired into its accounts. The plaintiffs would receive their compensation by the end of the month, the group said.\\nA total of 3,811 plaintiffs had agreed to a settlement, which provided them with NT$6,000 each, while 160 people accepted a court verdict and received from NT$6,000 to NT$9,000 per person. A final group of 77 people continued the court case until the end and received NT$3,000 per person, CNA reported.\\nCPAT said that even though the outcome was a far cry from the NT$90,000 (US$2,950) per person it had originally demanded, it was still satisfied that the victims of the scandal were able to receive compensation.\", \"title\"=>\"More than 4,000 students and teachers to be compensated for Taiwan food safety scandal\", \"url\"=>\"https://www.taiwannews.com.tw/en/news/3473912\"}}]}}"
      ]
     },
     "execution_count": 13,
     "metadata": {},
     "output_type": "execute_result"
    }
   ],
   "source": [
    "resp = search_bm25(\"crypto scandal\")"
   ]
  },
  {
   "cell_type": "code",
   "execution_count": 14,
   "id": "cb740118-62e6-408d-a72a-50cabb594a35",
   "metadata": {},
   "outputs": [
    {
     "name": "stdout",
     "output_type": "stream",
     "text": [
      "Processing embeddings: 100% (1/1)\n",
      "Done!\n",
      "{\"took\"=>4, \"timed_out\"=>false, \"_shards\"=>{\"total\"=>1, \"successful\"=>1, \"skipped\"=>0, \"failed\"=>0}, \"hits\"=>{\"total\"=>{\"value\"=>189, \"relation\"=>\"eq\"}, \"max_score\"=>0.90931046, \"hits\"=>[{\"_index\"=>\"ai-search\", \"_id\"=>\"http://www.sparkspread.com/login.php?return=%2Fsparkspread.php%3Fsparkspread_concept%3Dstory%26id%3D20878\", \"_score\"=>0.90931046, \"_source\"=>{\"date\"=>nil, \"image_url\"=>\"http://www.sparkspread.com/login.php?return=%2Fsparkspread.php%3Fsparkspread_concept%3Dstory%26id%3D20878\", \"domain\"=>\"www.sparkspread.com\", \"description\"=>\"Real time energy financing and trading news\", \"text\"=>\"June 14, 2017 16:48 EST\\nWelcome to SparkSpread.com\\nThis page is only available to subscribers.\\nIf you are already a subscriber, please log in below...\\nLog in\\nIf you would like to register for a free trial to SparkSpread.com, click here\", \"title\"=>\"Real time energy financing and trading news\", \"url\"=>\"http://www.sparkspread.com/login.php?return=%2Fsparkspread.php%3Fsparkspread_concept%3Dstory%26id%3D20878\"}}, {\"_index\"=>\"ai-search\", \"_id\"=>\"http://www.sparkspread.com/login.php?return=%2Fsparkspread.php%3Fsparkspread_concept%3Dstory%26id%3D20879\", \"_score\"=>0.90931046, \"_source\"=>{\"date\"=>nil, \"image_url\"=>\"http://www.sparkspread.com/login.php?return=%2Fsparkspread.php%3Fsparkspread_concept%3Dstory%26id%3D20879\", \"domain\"=>\"www.sparkspread.com\", \"description\"=>\"Real time energy financing and trading news\", \"text\"=>\"June 14, 2017 18:19 EST\\nWelcome to SparkSpread.com\\nThis page is only available to subscribers.\\nIf you are already a subscriber, please log in below...\\nLog in\\nIf you would like to register for a free trial to SparkSpread.com, click here\", \"title\"=>\"Real time energy financing and trading news\", \"url\"=>\"http://www.sparkspread.com/login.php?return=%2Fsparkspread.php%3Fsparkspread_concept%3Dstory%26id%3D20879\"}}, {\"_index\"=>\"ai-search\", \"_id\"=>\"http://www.sparkspread.com/login.php?return=%2Fsparkspread.php%3Fsparkspread_concept%3Dstory%26id%3D20881\", \"_score\"=>0.90931046, \"_source\"=>{\"date\"=>nil, \"image_url\"=>\"http://www.sparkspread.com/login.php?return=%2Fsparkspread.php%3Fsparkspread_concept%3Dstory%26id%3D20881\", \"domain\"=>\"www.sparkspread.com\", \"description\"=>\"Real time energy financing and trading news\", \"text\"=>\"June 15, 2017 00:21 EST\\nWelcome to SparkSpread.com\\nThis page is only available to subscribers.\\nIf you are already a subscriber, please log in below...\\nLog in\\nIf you would like to register for a free trial to SparkSpread.com, click here\", \"title\"=>\"Real time energy financing and trading news\", \"url\"=>\"http://www.sparkspread.com/login.php?return=%2Fsparkspread.php%3Fsparkspread_concept%3Dstory%26id%3D20881\"}}, {\"_index\"=>\"ai-search\", \"_id\"=>\"http://www.sparkspread.com/login.php?return=%2Fsparkspread.php%3Fsparkspread_concept%3Dstory%26id%3D20254\", \"_score\"=>0.90931046, \"_source\"=>{\"date\"=>nil, \"image_url\"=>\"http://www.sparkspread.com/login.php?return=%2Fsparkspread.php%3Fsparkspread_concept%3Dstory%26id%3D20254\", \"domain\"=>\"www.sparkspread.com\", \"description\"=>\"Real time energy financing and trading news\", \"text\"=>\"Feb. 15, 2017 11:05 EST\\nWelcome to SparkSpread.com\\nThis page is only available to subscribers.\\nIf you are already a subscriber, please log in below...\\nLog in\\nIf you would like to register for a free trial to SparkSpread.com, click here\", \"title\"=>\"Real time energy financing and trading news\", \"url\"=>\"http://www.sparkspread.com/login.php?return=%2Fsparkspread.php%3Fsparkspread_concept%3Dstory%26id%3D20254\"}}, {\"_index\"=>\"ai-search\", \"_id\"=>\"http://banglalive.com/is-sonam-kapoor-finally-making-her-relationship-with-anand-ahuja-public-with-this-pic/\", \"_score\"=>0.9087945, \"_source\"=>{\"date\"=>\"2017-01-02T18:36:12\", \"image_url\"=>\"http://blcdn-307f.kxcdn.com/wp-content/uploads/2017/01/soonam-new.jpg\", \"domain\"=>\"banglalive.com\", \"description\"=>\"There have been rumours that they might get hitched in 2017, but the Neerja actor has always kept mum on this topic\", \"text\"=>\"০ = 0, ১ = 1, ২ = 2, ৩ = 3, ৪ = 4, ৫ = 5, ৬ = 6, ৭ = 7, ৮ = 8, ৯ = 9\\n্ = See example (Hasant/Viram) ় = * (Nukta) ʼ = ' (Urdhacomma) ঽ = & (Avagrah) ৺ = ~ (Isshar) ৹ = a~ (Bengali ana sign) ৲ = Rs~ (Bengali Rupee sign) ৳ = T~ (Taka sign) । = | (Devanagari danda) ॥ = || (Devanagari double danda) ₹ = Rs (Indian Rupee sign) 卐 = +~ (Swastika sign) Zero Width Joiner = ^ Zero Width Non Joiner = ^^\\nThese symbols will type Bengali characters first but if \\\"~\\\" will be followed, it will remove previously typed Bengali character and then type the symbol.\\nSymbols & ~ * : ^ | ' have special meaning. You can type this way & = &~ ~ = ~~ * = *~ : = :~ ^ = ^~ | = |~ ' = '~\\nThe English symbols [ ] { } ( ) < > - + / = ; . , \\\" ? ! % \\\\ _ $ @ # translate into the same symbols.\\nExample নমস্কার can be written by typing \\\"namaskaar\\\"\\nAs per Rule # 3, ligature will be rendered. ZWJ and ZWNJ characters are used to produce alternate rendering of ligature.\\nA consonant followed by ZWJ character will produce half-formed consonant character.\\nExample\\nপ্রশ্ন = prashn\\nপ্রশ্‍ন = prash^n\\nA consonant followed by ZWNJ character will produce dead consonant character.\\nExample\\nপ্রশ্ন = prashn\\nপ্রশ্‌ন = prash^^n\\nIf two english characters are making one Bengali Vowel (i.e. ai, au), then\\nZWJ character is used to separate them into two different vowels. It will not\\nadd ZWJ character but only considered as the separator between two\\nvowels.\", \"title\"=>\"সোশ্যাল মিডিয়ায় ছবি দিয়ে কি বয়ফ্রেন্ডের কথাই সবাইকে জানাতে চাইছেন সোনম?\", \"url\"=>\"http://banglalive.com/is-sonam-kapoor-finally-making-her-relationship-with-anand-ahuja-public-with-this-pic/\"}}, {\"_index\"=>\"ai-search\", \"_id\"=>\"http://banglalive.com/preity-zinta-reveals-where-she-first-met-hubby-gene-goodenough/\", \"_score\"=>0.9077436, \"_source\"=>{\"date\"=>\"2017-02-15T12:38:18\", \"image_url\"=>\"http://blcdn-307f.kxcdn.com/wp-content/uploads/2017/02/preity-new.jpg\", \"domain\"=>\"banglalive.com\", \"description\"=>\"It was a mystery and shocking to see Preity tying the knot suddenly as few people knew that she is dating Gene.\", \"text\"=>\"০ = 0, ১ = 1, ২ = 2, ৩ = 3, ৪ = 4, ৫ = 5, ৬ = 6, ৭ = 7, ৮ = 8, ৯ = 9\\n্ = See example (Hasant/Viram) ় = * (Nukta) ʼ = ' (Urdhacomma) ঽ = & (Avagrah) ৺ = ~ (Isshar) ৹ = a~ (Bengali ana sign) ৲ = Rs~ (Bengali Rupee sign) ৳ = T~ (Taka sign) । = | (Devanagari danda) ॥ = || (Devanagari double danda) ₹ = Rs (Indian Rupee sign) 卐 = +~ (Swastika sign) Zero Width Joiner = ^ Zero Width Non Joiner = ^^\\nThese symbols will type Bengali characters first but if \\\"~\\\" will be followed, it will remove previously typed Bengali character and then type the symbol.\\nSymbols & ~ * : ^ | ' have special meaning. You can type this way & = &~ ~ = ~~ * = *~ : = :~ ^ = ^~ | = |~ ' = '~\\nThe English symbols [ ] { } ( ) < > - + / = ; . , \\\" ? ! % \\\\ _ $ @ # translate into the same symbols.\\nExample নমস্কার can be written by typing \\\"namaskaar\\\"\\nAs per Rule # 3, ligature will be rendered. ZWJ and ZWNJ characters are used to produce alternate rendering of ligature.\\nA consonant followed by ZWJ character will produce half-formed consonant character.\\nExample\\nপ্রশ্ন = prashn\\nপ্রশ্‍ন = prash^n\\nA consonant followed by ZWNJ character will produce dead consonant character.\\nExample\\nপ্রশ্ন = prashn\\nপ্রশ্‌ন = prash^^n\\nIf two english characters are making one Bengali Vowel (i.e. ai, au), then\\nZWJ character is used to separate them into two different vowels. It will not\\nadd ZWJ character but only considered as the separator between two\\nvowels.\", \"title\"=>\"জেনের সঙ্গে আলাপ‚প্রেম থেকে বিয়ে – অকপট প্রীতি জিন্টা\", \"url\"=>\"http://banglalive.com/preity-zinta-reveals-where-she-first-met-hubby-gene-goodenough/\"}}, {\"_index\"=>\"ai-search\", \"_id\"=>\"http://banglalive.com/shahid-wants-to-kill-priyanka-marry-sonakshi-and-hook-up-with-alia/\", \"_score\"=>0.90756583, \"_source\"=>{\"date\"=>\"2017-01-02T14:23:27\", \"image_url\"=>\"http://blcdn-307f.kxcdn.com/wp-content/uploads/2017/01/shahid-new.jpg\", \"domain\"=>\"banglalive.com\", \"description\"=>\"The Kill Marry Hookup sequence on Koffee With Karan rapid fire round always puts the celebs in a tongue-tied situation.\", \"text\"=>\"০ = 0, ১ = 1, ২ = 2, ৩ = 3, ৪ = 4, ৫ = 5, ৬ = 6, ৭ = 7, ৮ = 8, ৯ = 9\\n্ = See example (Hasant/Viram) ় = * (Nukta) ʼ = ' (Urdhacomma) ঽ = & (Avagrah) ৺ = ~ (Isshar) ৹ = a~ (Bengali ana sign) ৲ = Rs~ (Bengali Rupee sign) ৳ = T~ (Taka sign) । = | (Devanagari danda) ॥ = || (Devanagari double danda) ₹ = Rs (Indian Rupee sign) 卐 = +~ (Swastika sign) Zero Width Joiner = ^ Zero Width Non Joiner = ^^\\nThese symbols will type Bengali characters first but if \\\"~\\\" will be followed, it will remove previously typed Bengali character and then type the symbol.\\nSymbols & ~ * : ^ | ' have special meaning. You can type this way & = &~ ~ = ~~ * = *~ : = :~ ^ = ^~ | = |~ ' = '~\\nThe English symbols [ ] { } ( ) < > - + / = ; . , \\\" ? ! % \\\\ _ $ @ # translate into the same symbols.\\nExample নমস্কার can be written by typing \\\"namaskaar\\\"\\nAs per Rule # 3, ligature will be rendered. ZWJ and ZWNJ characters are used to produce alternate rendering of ligature.\\nA consonant followed by ZWJ character will produce half-formed consonant character.\\nExample\\nপ্রশ্ন = prashn\\nপ্রশ্‍ন = prash^n\\nA consonant followed by ZWNJ character will produce dead consonant character.\\nExample\\nপ্রশ্ন = prashn\\nপ্রশ্‌ন = prash^^n\\nIf two english characters are making one Bengali Vowel (i.e. ai, au), then\\nZWJ character is used to separate them into two different vowels. It will not\\nadd ZWJ character but only considered as the separator between two\\nvowels.\", \"title\"=>\"প্রাক্তন প্রেমিকা প্রিয়াঙ্কাকে মেরে ফেলতে চান শাহিদ!!\", \"url\"=>\"http://banglalive.com/shahid-wants-to-kill-priyanka-marry-sonakshi-and-hook-up-with-alia/\"}}, {\"_index\"=>\"ai-search\", \"_id\"=>\"http://banglalive.com/srk-goes-late-night-walk-valentine/\", \"_score\"=>0.9063027, \"_source\"=>{\"date\"=>\"2017-02-14T18:00:01\", \"image_url\"=>\"http://blcdn-307f.kxcdn.com/wp-content/uploads/2017/02/srk-1.jpg\", \"domain\"=>\"banglalive.com\", \"description\"=>\"The King of romance, Shah Rukh Khan spent an amazing time when the Valentine’s day begun.\", \"text\"=>\"০ = 0, ১ = 1, ২ = 2, ৩ = 3, ৪ = 4, ৫ = 5, ৬ = 6, ৭ = 7, ৮ = 8, ৯ = 9\\n্ = See example (Hasant/Viram) ় = * (Nukta) ʼ = ' (Urdhacomma) ঽ = & (Avagrah) ৺ = ~ (Isshar) ৹ = a~ (Bengali ana sign) ৲ = Rs~ (Bengali Rupee sign) ৳ = T~ (Taka sign) । = | (Devanagari danda) ॥ = || (Devanagari double danda) ₹ = Rs (Indian Rupee sign) 卐 = +~ (Swastika sign) Zero Width Joiner = ^ Zero Width Non Joiner = ^^\\nThese symbols will type Bengali characters first but if \\\"~\\\" will be followed, it will remove previously typed Bengali character and then type the symbol.\\nSymbols & ~ * : ^ | ' have special meaning. You can type this way & = &~ ~ = ~~ * = *~ : = :~ ^ = ^~ | = |~ ' = '~\\nThe English symbols [ ] { } ( ) < > - + / = ; . , \\\" ? ! % \\\\ _ $ @ # translate into the same symbols.\\nExample নমস্কার can be written by typing \\\"namaskaar\\\"\\nAs per Rule # 3, ligature will be rendered. ZWJ and ZWNJ characters are used to produce alternate rendering of ligature.\\nA consonant followed by ZWJ character will produce half-formed consonant character.\\nExample\\nপ্রশ্ন = prashn\\nপ্রশ্‍ন = prash^n\\nA consonant followed by ZWNJ character will produce dead consonant character.\\nExample\\nপ্রশ্ন = prashn\\nপ্রশ্‌ন = prash^^n\\nIf two english characters are making one Bengali Vowel (i.e. ai, au), then\\nZWJ character is used to separate them into two different vowels. It will not\\nadd ZWJ character but only considered as the separator between two\\nvowels.\", \"title\"=>\"ভ্যালেন্টাইনের হাত ধরে গভীর রাতে জুহু বিচে শাহরুখ\", \"url\"=>\"http://banglalive.com/srk-goes-late-night-walk-valentine/\"}}, {\"_index\"=>\"ai-search\", \"_id\"=>\"https://www.taiwannews.com.tw/en/news/3354233\", \"_score\"=>0.9048598, \"_source\"=>{\"date\"=>\"2018-01-30T21:33:00\", \"image_url\"=>\"https://www.taiwannews.com.tw/images/category/580888eb17740.jpg\", \"domain\"=>\"www.taiwannews.com.tw\", \"description\"=>\"Pope asks Vatican's top sex crimes expert to look into case of Chilean bishop accused of cover-up\", \"text\"=>\"VATICAN CITY (AP) — Pope asks Vatican's top sex crimes expert to look into case of Chilean bishop accused of cover-up.\", \"title\"=>\"Pope asks Vatican's top sex crimes expert to look into case of Chilean bishop accused of cover-up\", \"url\"=>\"https://www.taiwannews.com.tw/en/news/3354233\"}}, {\"_index\"=>\"ai-search\", \"_id\"=>\"http://banglalive.com/the-increasing-number-of-fake-doctors-and-their-treatment/\", \"_score\"=>0.9044467, \"_source\"=>{\"date\"=>\"2017-10-06T13:41:58\", \"image_url\"=>\"http://blcdn-307f.kxcdn.com/wp-content/uploads/2017/10/fake-doctor.jpg\", \"domain\"=>\"banglalive.com\", \"description\"=>\"In recent past there has been many reported incidents of fake doctors being arrested from every nuke and corner of Bengal - a funny take on that\", \"text\"=>\"০ = 0, ১ = 1, ২ = 2, ৩ = 3, ৪ = 4, ৫ = 5, ৬ = 6, ৭ = 7, ৮ = 8, ৯ = 9\\n্ = See example (Hasant/Viram) ় = * (Nukta) ʼ = ' (Urdhacomma) ঽ = & (Avagrah) ৺ = ~ (Isshar) ৹ = a~ (Bengali ana sign) ৲ = Rs~ (Bengali Rupee sign) ৳ = T~ (Taka sign) । = | (Devanagari danda) ॥ = || (Devanagari double danda) ₹ = Rs (Indian Rupee sign) 卐 = +~ (Swastika sign) Zero Width Joiner = ^ Zero Width Non Joiner = ^^\\nThese symbols will type Bengali characters first but if \\\"~\\\" will be followed, it will remove previously typed Bengali character and then type the symbol.\\nSymbols & ~ * : ^ | ' have special meaning. You can type this way & = &~ ~ = ~~ * = *~ : = :~ ^ = ^~ | = |~ ' = '~\\nThe English symbols [ ] { } ( ) < > - + / = ; . , \\\" ? ! % \\\\ _ $ @ # translate into the same symbols.\\nExample নমস্কার can be written by typing \\\"namaskaar\\\"\\nAs per Rule # 3, ligature will be rendered. ZWJ and ZWNJ characters are used to produce alternate rendering of ligature.\\nA consonant followed by ZWJ character will produce half-formed consonant character.\\nExample\\nপ্রশ্ন = prashn\\nপ্রশ্‍ন = prash^n\\nA consonant followed by ZWNJ character will produce dead consonant character.\\nExample\\nপ্রশ্ন = prashn\\nপ্রশ্‌ন = prash^^n\\nIf two english characters are making one Bengali Vowel (i.e. ai, au), then\\nZWJ character is used to separate them into two different vowels. It will not\\nadd ZWJ character but only considered as the separator between two\\nvowels.\", \"title\"=>\"আরিব্বাস, জাল ডাক্তার!\", \"url\"=>\"http://banglalive.com/the-increasing-number-of-fake-doctors-and-their-treatment/\"}}]}}\n"
     ]
    },
    {
     "data": {
      "text/html": [
       "<h4>Showing 189 Results for <em>crypto scandal</em></h4><ol><li><b>Real time energy financing and trading news</b>(0.90931046)<br>Real time energy financing and trading news<br><span style=\"font-size:0.8em\"><a href=\"http://www.sparkspread.com/login.php?return=%2Fsparkspread.php%3Fsparkspread_concept%3Dstory%26id%3D20878\">http://www.sparkspread.com/login.php?return=%2Fsparkspread.php%3Fsparkspread_concept%3Dstory%26id%3D20878</a></span></li><li><b>Real time energy financing and trading news</b>(0.90931046)<br>Real time energy financing and trading news<br><span style=\"font-size:0.8em\"><a href=\"http://www.sparkspread.com/login.php?return=%2Fsparkspread.php%3Fsparkspread_concept%3Dstory%26id%3D20879\">http://www.sparkspread.com/login.php?return=%2Fsparkspread.php%3Fsparkspread_concept%3Dstory%26id%3D20879</a></span></li><li><b>Real time energy financing and trading news</b>(0.90931046)<br>Real time energy financing and trading news<br><span style=\"font-size:0.8em\"><a href=\"http://www.sparkspread.com/login.php?return=%2Fsparkspread.php%3Fsparkspread_concept%3Dstory%26id%3D20881\">http://www.sparkspread.com/login.php?return=%2Fsparkspread.php%3Fsparkspread_concept%3Dstory%26id%3D20881</a></span></li><li><b>Real time energy financing and trading news</b>(0.90931046)<br>Real time energy financing and trading news<br><span style=\"font-size:0.8em\"><a href=\"http://www.sparkspread.com/login.php?return=%2Fsparkspread.php%3Fsparkspread_concept%3Dstory%26id%3D20254\">http://www.sparkspread.com/login.php?return=%2Fsparkspread.php%3Fsparkspread_concept%3Dstory%26id%3D20254</a></span></li><li><b>সোশ্যাল মিডিয়ায় ছবি দিয়ে কি বয়ফ্রেন্ডের কথাই সবাইকে জানাতে চাইছেন সোনম?</b>(0.9087945)<br>There have been rumours that they might get hitched in 2017, but the Neerja actor has always kept mum on this topic<br><span style=\"font-size:0.8em\"><a href=\"http://banglalive.com/is-sonam-kapoor-finally-making-her-relationship-with-anand-ahuja-public-with-this-pic/\">http://banglalive.com/is-sonam-kapoor-finally-making-her-relationship-with-anand-ahuja-public-with-this-pic/</a></span></li></ol>"
      ],
      "text/plain": [
       "\"<h4>Showing 189 Results for <em>crypto scandal</em></h4><ol><li><b>Real time energy financing and trading news</b>(0.90931046)<br>Real time energy financing and trading news<br><span style=\\\"font-size:0.8em\\\"><a href=\\\"http://www.sparkspread.com/login.php?return=%2Fsparkspread.php%3Fsparkspread_concept%3Dstory%26id%3D20878\\\">http://www.sparkspread.com/login.php?return=%2Fsparkspread.php%3Fsparkspread_concept%3Dstory%26id%3D20878</a></span></li><li><b>Real time energy financing and trading news</b>(0.90931046)<br>Real time energy financing and trading news<br><span style=\\\"font-size:0.8em\\\"><a href=\\\"http://www.sparkspread.com/login.php?return=%2Fsparkspread.php%3Fsparkspread_concept%3Dstory%26id%3D20879\\\">http://www.sparkspread.com/login.php?return=%2Fsparkspread.php%3Fsparkspread_concept%3Dstory%26id%3D20879</a></span></li><li><b>Real time energy financing and trading news</b>(0.90931046)<br>Real time energy financing and trading news<br><span style=\\\"font-size:0.8em\\\"><a href=\\\"http://www.sparkspread.com/login.php?return=%2Fsparkspread.php%3Fsparkspread_concept%3Dstory%26id%3D20881\\\">http://www.sparkspread.com/login.php?return=%2Fsparkspread.php%3Fsparkspread_concept%3Dstory%26id%3D20881</a></span></li><li><b>Real time energy financing and trading news</b>(0.90931046)<br>Real time energy financing and trading news<br><span style=\\\"font-size:0.8em\\\"><a href=\\\"http://www.sparkspread.com/login.php?return=%2Fsparkspread.php%3Fsparkspread_concept%3Dstory%26id%3D20254\\\">http://www.sparkspread.com/login.php?return=%2Fsparkspread.php%3Fsparkspread_concept%3Dstory%26id%3D20254</a></span></li><li><b>সোশ্যাল মিডিয়ায় ছবি দিয়ে কি বয়ফ্রেন্ডের কথাই সবাইকে জানাতে চাইছেন সোনম?</b>(0.9087945)<br>There have been rumours that they might get hitched in 2017, but the Neerja actor has always kept mum on this topic<br><span style=\\\"font-size:0.8em\\\"><a href=\\\"http://banglalive.com/is-sonam-kapoor-finally-making-her-relationship-with-anand-ahuja-public-with-this-pic/\\\">http://banglalive.com/is-sonam-kapoor-finally-making-her-relationship-with-anand-ahuja-public-with-this-pic/</a></span></li></ol>\""
      ]
     },
     "metadata": {},
     "output_type": "display_data"
    },
    {
     "data": {
      "text/plain": [
       "{\"took\"=>4, \"timed_out\"=>false, \"_shards\"=>{\"total\"=>1, \"successful\"=>1, \"skipped\"=>0, \"failed\"=>0}, \"hits\"=>{\"total\"=>{\"value\"=>189, \"relation\"=>\"eq\"}, \"max_score\"=>0.90931046, \"hits\"=>[{\"_index\"=>\"ai-search\", \"_id\"=>\"http://www.sparkspread.com/login.php?return=%2Fsparkspread.php%3Fsparkspread_concept%3Dstory%26id%3D20878\", \"_score\"=>0.90931046, \"_source\"=>{\"date\"=>nil, \"image_url\"=>\"http://www.sparkspread.com/login.php?return=%2Fsparkspread.php%3Fsparkspread_concept%3Dstory%26id%3D20878\", \"domain\"=>\"www.sparkspread.com\", \"description\"=>\"Real time energy financing and trading news\", \"text\"=>\"June 14, 2017 16:48 EST\\nWelcome to SparkSpread.com\\nThis page is only available to subscribers.\\nIf you are already a subscriber, please log in below...\\nLog in\\nIf you would like to register for a free trial to SparkSpread.com, click here\", \"title\"=>\"Real time energy financing and trading news\", \"url\"=>\"http://www.sparkspread.com/login.php?return=%2Fsparkspread.php%3Fsparkspread_concept%3Dstory%26id%3D20878\"}}, {\"_index\"=>\"ai-search\", \"_id\"=>\"http://www.sparkspread.com/login.php?return=%2Fsparkspread.php%3Fsparkspread_concept%3Dstory%26id%3D20879\", \"_score\"=>0.90931046, \"_source\"=>{\"date\"=>nil, \"image_url\"=>\"http://www.sparkspread.com/login.php?return=%2Fsparkspread.php%3Fsparkspread_concept%3Dstory%26id%3D20879\", \"domain\"=>\"www.sparkspread.com\", \"description\"=>\"Real time energy financing and trading news\", \"text\"=>\"June 14, 2017 18:19 EST\\nWelcome to SparkSpread.com\\nThis page is only available to subscribers.\\nIf you are already a subscriber, please log in below...\\nLog in\\nIf you would like to register for a free trial to SparkSpread.com, click here\", \"title\"=>\"Real time energy financing and trading news\", \"url\"=>\"http://www.sparkspread.com/login.php?return=%2Fsparkspread.php%3Fsparkspread_concept%3Dstory%26id%3D20879\"}}, {\"_index\"=>\"ai-search\", \"_id\"=>\"http://www.sparkspread.com/login.php?return=%2Fsparkspread.php%3Fsparkspread_concept%3Dstory%26id%3D20881\", \"_score\"=>0.90931046, \"_source\"=>{\"date\"=>nil, \"image_url\"=>\"http://www.sparkspread.com/login.php?return=%2Fsparkspread.php%3Fsparkspread_concept%3Dstory%26id%3D20881\", \"domain\"=>\"www.sparkspread.com\", \"description\"=>\"Real time energy financing and trading news\", \"text\"=>\"June 15, 2017 00:21 EST\\nWelcome to SparkSpread.com\\nThis page is only available to subscribers.\\nIf you are already a subscriber, please log in below...\\nLog in\\nIf you would like to register for a free trial to SparkSpread.com, click here\", \"title\"=>\"Real time energy financing and trading news\", \"url\"=>\"http://www.sparkspread.com/login.php?return=%2Fsparkspread.php%3Fsparkspread_concept%3Dstory%26id%3D20881\"}}, {\"_index\"=>\"ai-search\", \"_id\"=>\"http://www.sparkspread.com/login.php?return=%2Fsparkspread.php%3Fsparkspread_concept%3Dstory%26id%3D20254\", \"_score\"=>0.90931046, \"_source\"=>{\"date\"=>nil, \"image_url\"=>\"http://www.sparkspread.com/login.php?return=%2Fsparkspread.php%3Fsparkspread_concept%3Dstory%26id%3D20254\", \"domain\"=>\"www.sparkspread.com\", \"description\"=>\"Real time energy financing and trading news\", \"text\"=>\"Feb. 15, 2017 11:05 EST\\nWelcome to SparkSpread.com\\nThis page is only available to subscribers.\\nIf you are already a subscriber, please log in below...\\nLog in\\nIf you would like to register for a free trial to SparkSpread.com, click here\", \"title\"=>\"Real time energy financing and trading news\", \"url\"=>\"http://www.sparkspread.com/login.php?return=%2Fsparkspread.php%3Fsparkspread_concept%3Dstory%26id%3D20254\"}}, {\"_index\"=>\"ai-search\", \"_id\"=>\"http://banglalive.com/is-sonam-kapoor-finally-making-her-relationship-with-anand-ahuja-public-with-this-pic/\", \"_score\"=>0.9087945, \"_source\"=>{\"date\"=>\"2017-01-02T18:36:12\", \"image_url\"=>\"http://blcdn-307f.kxcdn.com/wp-content/uploads/2017/01/soonam-new.jpg\", \"domain\"=>\"banglalive.com\", \"description\"=>\"There have been rumours that they might get hitched in 2017, but the Neerja actor has always kept mum on this topic\", \"text\"=>\"০ = 0, ১ = 1, ২ = 2, ৩ = 3, ৪ = 4, ৫ = 5, ৬ = 6, ৭ = 7, ৮ = 8, ৯ = 9\\n্ = See example (Hasant/Viram) ় = * (Nukta) ʼ = ' (Urdhacomma) ঽ = & (Avagrah) ৺ = ~ (Isshar) ৹ = a~ (Bengali ana sign) ৲ = Rs~ (Bengali Rupee sign) ৳ = T~ (Taka sign) । = | (Devanagari danda) ॥ = || (Devanagari double danda) ₹ = Rs (Indian Rupee sign) 卐 = +~ (Swastika sign) Zero Width Joiner = ^ Zero Width Non Joiner = ^^\\nThese symbols will type Bengali characters first but if \\\"~\\\" will be followed, it will remove previously typed Bengali character and then type the symbol.\\nSymbols & ~ * : ^ | ' have special meaning. You can type this way & = &~ ~ = ~~ * = *~ : = :~ ^ = ^~ | = |~ ' = '~\\nThe English symbols [ ] { } ( ) < > - + / = ; . , \\\" ? ! % \\\\ _ $ @ # translate into the same symbols.\\nExample নমস্কার can be written by typing \\\"namaskaar\\\"\\nAs per Rule # 3, ligature will be rendered. ZWJ and ZWNJ characters are used to produce alternate rendering of ligature.\\nA consonant followed by ZWJ character will produce half-formed consonant character.\\nExample\\nপ্রশ্ন = prashn\\nপ্রশ্‍ন = prash^n\\nA consonant followed by ZWNJ character will produce dead consonant character.\\nExample\\nপ্রশ্ন = prashn\\nপ্রশ্‌ন = prash^^n\\nIf two english characters are making one Bengali Vowel (i.e. ai, au), then\\nZWJ character is used to separate them into two different vowels. It will not\\nadd ZWJ character but only considered as the separator between two\\nvowels.\", \"title\"=>\"সোশ্যাল মিডিয়ায় ছবি দিয়ে কি বয়ফ্রেন্ডের কথাই সবাইকে জানাতে চাইছেন সোনম?\", \"url\"=>\"http://banglalive.com/is-sonam-kapoor-finally-making-her-relationship-with-anand-ahuja-public-with-this-pic/\"}}, {\"_index\"=>\"ai-search\", \"_id\"=>\"http://banglalive.com/preity-zinta-reveals-where-she-first-met-hubby-gene-goodenough/\", \"_score\"=>0.9077436, \"_source\"=>{\"date\"=>\"2017-02-15T12:38:18\", \"image_url\"=>\"http://blcdn-307f.kxcdn.com/wp-content/uploads/2017/02/preity-new.jpg\", \"domain\"=>\"banglalive.com\", \"description\"=>\"It was a mystery and shocking to see Preity tying the knot suddenly as few people knew that she is dating Gene.\", \"text\"=>\"০ = 0, ১ = 1, ২ = 2, ৩ = 3, ৪ = 4, ৫ = 5, ৬ = 6, ৭ = 7, ৮ = 8, ৯ = 9\\n্ = See example (Hasant/Viram) ় = * (Nukta) ʼ = ' (Urdhacomma) ঽ = & (Avagrah) ৺ = ~ (Isshar) ৹ = a~ (Bengali ana sign) ৲ = Rs~ (Bengali Rupee sign) ৳ = T~ (Taka sign) । = | (Devanagari danda) ॥ = || (Devanagari double danda) ₹ = Rs (Indian Rupee sign) 卐 = +~ (Swastika sign) Zero Width Joiner = ^ Zero Width Non Joiner = ^^\\nThese symbols will type Bengali characters first but if \\\"~\\\" will be followed, it will remove previously typed Bengali character and then type the symbol.\\nSymbols & ~ * : ^ | ' have special meaning. You can type this way & = &~ ~ = ~~ * = *~ : = :~ ^ = ^~ | = |~ ' = '~\\nThe English symbols [ ] { } ( ) < > - + / = ; . , \\\" ? ! % \\\\ _ $ @ # translate into the same symbols.\\nExample নমস্কার can be written by typing \\\"namaskaar\\\"\\nAs per Rule # 3, ligature will be rendered. ZWJ and ZWNJ characters are used to produce alternate rendering of ligature.\\nA consonant followed by ZWJ character will produce half-formed consonant character.\\nExample\\nপ্রশ্ন = prashn\\nপ্রশ্‍ন = prash^n\\nA consonant followed by ZWNJ character will produce dead consonant character.\\nExample\\nপ্রশ্ন = prashn\\nপ্রশ্‌ন = prash^^n\\nIf two english characters are making one Bengali Vowel (i.e. ai, au), then\\nZWJ character is used to separate them into two different vowels. It will not\\nadd ZWJ character but only considered as the separator between two\\nvowels.\", \"title\"=>\"জেনের সঙ্গে আলাপ‚প্রেম থেকে বিয়ে – অকপট প্রীতি জিন্টা\", \"url\"=>\"http://banglalive.com/preity-zinta-reveals-where-she-first-met-hubby-gene-goodenough/\"}}, {\"_index\"=>\"ai-search\", \"_id\"=>\"http://banglalive.com/shahid-wants-to-kill-priyanka-marry-sonakshi-and-hook-up-with-alia/\", \"_score\"=>0.90756583, \"_source\"=>{\"date\"=>\"2017-01-02T14:23:27\", \"image_url\"=>\"http://blcdn-307f.kxcdn.com/wp-content/uploads/2017/01/shahid-new.jpg\", \"domain\"=>\"banglalive.com\", \"description\"=>\"The Kill Marry Hookup sequence on Koffee With Karan rapid fire round always puts the celebs in a tongue-tied situation.\", \"text\"=>\"০ = 0, ১ = 1, ২ = 2, ৩ = 3, ৪ = 4, ৫ = 5, ৬ = 6, ৭ = 7, ৮ = 8, ৯ = 9\\n্ = See example (Hasant/Viram) ় = * (Nukta) ʼ = ' (Urdhacomma) ঽ = & (Avagrah) ৺ = ~ (Isshar) ৹ = a~ (Bengali ana sign) ৲ = Rs~ (Bengali Rupee sign) ৳ = T~ (Taka sign) । = | (Devanagari danda) ॥ = || (Devanagari double danda) ₹ = Rs (Indian Rupee sign) 卐 = +~ (Swastika sign) Zero Width Joiner = ^ Zero Width Non Joiner = ^^\\nThese symbols will type Bengali characters first but if \\\"~\\\" will be followed, it will remove previously typed Bengali character and then type the symbol.\\nSymbols & ~ * : ^ | ' have special meaning. You can type this way & = &~ ~ = ~~ * = *~ : = :~ ^ = ^~ | = |~ ' = '~\\nThe English symbols [ ] { } ( ) < > - + / = ; . , \\\" ? ! % \\\\ _ $ @ # translate into the same symbols.\\nExample নমস্কার can be written by typing \\\"namaskaar\\\"\\nAs per Rule # 3, ligature will be rendered. ZWJ and ZWNJ characters are used to produce alternate rendering of ligature.\\nA consonant followed by ZWJ character will produce half-formed consonant character.\\nExample\\nপ্রশ্ন = prashn\\nপ্রশ্‍ন = prash^n\\nA consonant followed by ZWNJ character will produce dead consonant character.\\nExample\\nপ্রশ্ন = prashn\\nপ্রশ্‌ন = prash^^n\\nIf two english characters are making one Bengali Vowel (i.e. ai, au), then\\nZWJ character is used to separate them into two different vowels. It will not\\nadd ZWJ character but only considered as the separator between two\\nvowels.\", \"title\"=>\"প্রাক্তন প্রেমিকা প্রিয়াঙ্কাকে মেরে ফেলতে চান শাহিদ!!\", \"url\"=>\"http://banglalive.com/shahid-wants-to-kill-priyanka-marry-sonakshi-and-hook-up-with-alia/\"}}, {\"_index\"=>\"ai-search\", \"_id\"=>\"http://banglalive.com/srk-goes-late-night-walk-valentine/\", \"_score\"=>0.9063027, \"_source\"=>{\"date\"=>\"2017-02-14T18:00:01\", \"image_url\"=>\"http://blcdn-307f.kxcdn.com/wp-content/uploads/2017/02/srk-1.jpg\", \"domain\"=>\"banglalive.com\", \"description\"=>\"The King of romance, Shah Rukh Khan spent an amazing time when the Valentine’s day begun.\", \"text\"=>\"০ = 0, ১ = 1, ২ = 2, ৩ = 3, ৪ = 4, ৫ = 5, ৬ = 6, ৭ = 7, ৮ = 8, ৯ = 9\\n্ = See example (Hasant/Viram) ় = * (Nukta) ʼ = ' (Urdhacomma) ঽ = & (Avagrah) ৺ = ~ (Isshar) ৹ = a~ (Bengali ana sign) ৲ = Rs~ (Bengali Rupee sign) ৳ = T~ (Taka sign) । = | (Devanagari danda) ॥ = || (Devanagari double danda) ₹ = Rs (Indian Rupee sign) 卐 = +~ (Swastika sign) Zero Width Joiner = ^ Zero Width Non Joiner = ^^\\nThese symbols will type Bengali characters first but if \\\"~\\\" will be followed, it will remove previously typed Bengali character and then type the symbol.\\nSymbols & ~ * : ^ | ' have special meaning. You can type this way & = &~ ~ = ~~ * = *~ : = :~ ^ = ^~ | = |~ ' = '~\\nThe English symbols [ ] { } ( ) < > - + / = ; . , \\\" ? ! % \\\\ _ $ @ # translate into the same symbols.\\nExample নমস্কার can be written by typing \\\"namaskaar\\\"\\nAs per Rule # 3, ligature will be rendered. ZWJ and ZWNJ characters are used to produce alternate rendering of ligature.\\nA consonant followed by ZWJ character will produce half-formed consonant character.\\nExample\\nপ্রশ্ন = prashn\\nপ্রশ্‍ন = prash^n\\nA consonant followed by ZWNJ character will produce dead consonant character.\\nExample\\nপ্রশ্ন = prashn\\nপ্রশ্‌ন = prash^^n\\nIf two english characters are making one Bengali Vowel (i.e. ai, au), then\\nZWJ character is used to separate them into two different vowels. It will not\\nadd ZWJ character but only considered as the separator between two\\nvowels.\", \"title\"=>\"ভ্যালেন্টাইনের হাত ধরে গভীর রাতে জুহু বিচে শাহরুখ\", \"url\"=>\"http://banglalive.com/srk-goes-late-night-walk-valentine/\"}}, {\"_index\"=>\"ai-search\", \"_id\"=>\"https://www.taiwannews.com.tw/en/news/3354233\", \"_score\"=>0.9048598, \"_source\"=>{\"date\"=>\"2018-01-30T21:33:00\", \"image_url\"=>\"https://www.taiwannews.com.tw/images/category/580888eb17740.jpg\", \"domain\"=>\"www.taiwannews.com.tw\", \"description\"=>\"Pope asks Vatican's top sex crimes expert to look into case of Chilean bishop accused of cover-up\", \"text\"=>\"VATICAN CITY (AP) — Pope asks Vatican's top sex crimes expert to look into case of Chilean bishop accused of cover-up.\", \"title\"=>\"Pope asks Vatican's top sex crimes expert to look into case of Chilean bishop accused of cover-up\", \"url\"=>\"https://www.taiwannews.com.tw/en/news/3354233\"}}, {\"_index\"=>\"ai-search\", \"_id\"=>\"http://banglalive.com/the-increasing-number-of-fake-doctors-and-their-treatment/\", \"_score\"=>0.9044467, \"_source\"=>{\"date\"=>\"2017-10-06T13:41:58\", \"image_url\"=>\"http://blcdn-307f.kxcdn.com/wp-content/uploads/2017/10/fake-doctor.jpg\", \"domain\"=>\"banglalive.com\", \"description\"=>\"In recent past there has been many reported incidents of fake doctors being arrested from every nuke and corner of Bengal - a funny take on that\", \"text\"=>\"০ = 0, ১ = 1, ২ = 2, ৩ = 3, ৪ = 4, ৫ = 5, ৬ = 6, ৭ = 7, ৮ = 8, ৯ = 9\\n্ = See example (Hasant/Viram) ় = * (Nukta) ʼ = ' (Urdhacomma) ঽ = & (Avagrah) ৺ = ~ (Isshar) ৹ = a~ (Bengali ana sign) ৲ = Rs~ (Bengali Rupee sign) ৳ = T~ (Taka sign) । = | (Devanagari danda) ॥ = || (Devanagari double danda) ₹ = Rs (Indian Rupee sign) 卐 = +~ (Swastika sign) Zero Width Joiner = ^ Zero Width Non Joiner = ^^\\nThese symbols will type Bengali characters first but if \\\"~\\\" will be followed, it will remove previously typed Bengali character and then type the symbol.\\nSymbols & ~ * : ^ | ' have special meaning. You can type this way & = &~ ~ = ~~ * = *~ : = :~ ^ = ^~ | = |~ ' = '~\\nThe English symbols [ ] { } ( ) < > - + / = ; . , \\\" ? ! % \\\\ _ $ @ # translate into the same symbols.\\nExample নমস্কার can be written by typing \\\"namaskaar\\\"\\nAs per Rule # 3, ligature will be rendered. ZWJ and ZWNJ characters are used to produce alternate rendering of ligature.\\nA consonant followed by ZWJ character will produce half-formed consonant character.\\nExample\\nপ্রশ্ন = prashn\\nপ্রশ্‍ন = prash^n\\nA consonant followed by ZWNJ character will produce dead consonant character.\\nExample\\nপ্রশ্ন = prashn\\nপ্রশ্‌ন = prash^^n\\nIf two english characters are making one Bengali Vowel (i.e. ai, au), then\\nZWJ character is used to separate them into two different vowels. It will not\\nadd ZWJ character but only considered as the separator between two\\nvowels.\", \"title\"=>\"আরিব্বাস, জাল ডাক্তার!\", \"url\"=>\"http://banglalive.com/the-increasing-number-of-fake-doctors-and-their-treatment/\"}}]}}"
      ]
     },
     "execution_count": 14,
     "metadata": {},
     "output_type": "execute_result"
    }
   ],
   "source": [
    "resp = search_knn(\"crypto scandal\")"
   ]
  },
  {
   "cell_type": "code",
   "execution_count": 15,
   "id": "ea2badae-f6d1-4713-a3ce-de39a1148fda",
   "metadata": {},
   "outputs": [
    {
     "data": {
      "text/plain": [
       ":search_compare"
      ]
     },
     "execution_count": 15,
     "metadata": {},
     "output_type": "execute_result"
    }
   ],
   "source": [
    "def search_compare(querystring, pipeline: \"nlp-search-pipeline-equal\")\n",
    "    bm25 = serps(querystring, search_bm25(querystring, show: false), k: 5, show: false)\n",
    "    knn = serps(querystring, search_knn(querystring, show: false), k: 5, show: false)\n",
    "    hybrid = serps(querystring, search_hybrid(querystring, pipeline: pipeline, show: false), k: 5, show: false)\n",
    "    \n",
    "    html_all = <<-HTML\n",
    "        <style>\n",
    "            .compare li {overflow-x:hidden;width:320px!important;text-align:left;height:200px;border-bottom:1px solid #333;}\n",
    "        </style>\n",
    "        <table class=\"compare\">\n",
    "            <tr><td>BM25</td><td>KNN</td><td>Hybrid (#{pipeline})</td></tr>\n",
    "            <tr><td>#{bm25}</td><td>#{knn}</td><td>#{hybrid}</td></tr>\n",
    "        </table>\n",
    "    HTML\n",
    "    \n",
    "    IRuby.display(IRuby.html(html_all))\n",
    "end"
   ]
  },
  {
   "cell_type": "code",
   "execution_count": 23,
   "id": "924d0dec-bef5-449c-a5c7-fc93551409ba",
   "metadata": {},
   "outputs": [
    {
     "data": {
      "text/html": [
       "        <style>\n",
       "            .compare li {overflow-x:hidden;width:320px!important;text-align:left;height:200px;border-bottom:1px solid #333;}\n",
       "        </style>\n",
       "        <table class=\"compare\">\n",
       "            <tr><td>BM25</td><td>KNN</td><td>Hybrid (nlp-search-pipeline-equal)</td></tr>\n",
       "            <tr><td><h4>Showing 21 Results for <em>property market</em></h4><ol><li><b>How to use the Windows Tags property to manage Office files</b>(19.945515)<br>Searching, grouping, and even filtering files is easier if you know how to use the Windows Tags property.<br><span style=\"font-size:0.8em\"><a href=\"https://www.techrepublic.com/blog/microsoft-office/use-windows-tags-property-to-manage-office-files/\">https://www.techrepublic.com/blog/microsoft-office/use-windows-tags-property-to-manage-office-files/</a></span></li><li><b>Global GIS Market in Telecom Sector - Use of GIS and Big Data is an Emerging Trend in the Market</b>(16.333023)<br>Global GIS Market in Telecom Sector - Use of GIS and Big Data is an Emerging Trend in the Market | Technavio<br><span style=\"font-size:0.8em\"><a href=\"https://www.taiwannews.com.tw/en/news/3413697\">https://www.taiwannews.com.tw/en/news/3413697</a></span></li><li><b>Top Factors Driving the Global Potassium Sulfate Market</b>(14.88765)<br>Top Factors Driving the Global Potassium Sulfate Market | Technavio<br><span style=\"font-size:0.8em\"><a href=\"https://www.taiwannews.com.tw/en/news/3413580\">https://www.taiwannews.com.tw/en/news/3413580</a></span></li><li><b>Global Allergy Immunotherapies Market - Industry Analysis and Forecast</b>(14.88765)<br>Global Allergy Immunotherapies Market - Industry Analysis and Forecast | Technavio<br><span style=\"font-size:0.8em\"><a href=\"https://www.taiwannews.com.tw/en/news/3444398\">https://www.taiwannews.com.tw/en/news/3444398</a></span></li><li><b>Technological Advances to Drive the Global Dental Handpieces Market</b>(14.643564)<br>Technological Advances to Drive the Global Dental Handpieces Market| Technavio<br><span style=\"font-size:0.8em\"><a href=\"https://www.taiwannews.com.tw/en/news/3444389\">https://www.taiwannews.com.tw/en/news/3444389</a></span></li></ol></td><td><h4>Showing 20 Results for <em>property market</em></h4><ol><li><b>জেনের সঙ্গে আলাপ‚প্রেম থেকে বিয়ে – অকপট প্রীতি জিন্টা</b>(0.90857416)<br>It was a mystery and shocking to see Preity tying the knot suddenly as few people knew that she is dating Gene.<br><span style=\"font-size:0.8em\"><a href=\"http://banglalive.com/preity-zinta-reveals-where-she-first-met-hubby-gene-goodenough/\">http://banglalive.com/preity-zinta-reveals-where-she-first-met-hubby-gene-goodenough/</a></span></li><li><b>ভ্যালেন্টাইনের হাত ধরে গভীর রাতে জুহু বিচে শাহরুখ</b>(0.9081973)<br>The King of romance, Shah Rukh Khan spent an amazing time when the Valentine’s day begun.<br><span style=\"font-size:0.8em\"><a href=\"http://banglalive.com/srk-goes-late-night-walk-valentine/\">http://banglalive.com/srk-goes-late-night-walk-valentine/</a></span></li><li><b>প্রাক্তন প্রেমিকা প্রিয়াঙ্কাকে মেরে ফেলতে চান শাহিদ!!</b>(0.9066849)<br>The Kill Marry Hookup sequence on Koffee With Karan rapid fire round always puts the celebs in a tongue-tied situation.<br><span style=\"font-size:0.8em\"><a href=\"http://banglalive.com/shahid-wants-to-kill-priyanka-marry-sonakshi-and-hook-up-with-alia/\">http://banglalive.com/shahid-wants-to-kill-priyanka-marry-sonakshi-and-hook-up-with-alia/</a></span></li><li><b>Global GIS Market in Telecom Sector - Use of GIS and Big Data is an Emerging Trend in the Market</b>(0.90544224)<br>Global GIS Market in Telecom Sector - Use of GIS and Big Data is an Emerging Trend in the Market | Technavio<br><span style=\"font-size:0.8em\"><a href=\"https://www.taiwannews.com.tw/en/news/3413697\">https://www.taiwannews.com.tw/en/news/3413697</a></span></li><li><b>Business Highlights</b>(0.90523434)<br>Business Highlights<br><span style=\"font-size:0.8em\"><a href=\"https://www.taiwannews.com.tw/en/news/3385834\">https://www.taiwannews.com.tw/en/news/3385834</a></span></li></ol></td><td><h4>Showing 109 Results for <em>property market</em></h4><ol><li><b>How to use the Windows Tags property to manage Office files</b>(0.5)<br>Searching, grouping, and even filtering files is easier if you know how to use the Windows Tags property.<br><span style=\"font-size:0.8em\"><a href=\"https://www.techrepublic.com/blog/microsoft-office/use-windows-tags-property-to-manage-office-files/\">https://www.techrepublic.com/blog/microsoft-office/use-windows-tags-property-to-manage-office-files/</a></span></li><li><b>জেনের সঙ্গে আলাপ‚প্রেম থেকে বিয়ে – অকপট প্রীতি জিন্টা</b>(0.5)<br>It was a mystery and shocking to see Preity tying the knot suddenly as few people knew that she is dating Gene.<br><span style=\"font-size:0.8em\"><a href=\"http://banglalive.com/preity-zinta-reveals-where-she-first-met-hubby-gene-goodenough/\">http://banglalive.com/preity-zinta-reveals-where-she-first-met-hubby-gene-goodenough/</a></span></li><li><b>ভ্যালেন্টাইনের হাত ধরে গভীর রাতে জুহু বিচে শাহরুখ</b>(0.4624092)<br>The King of romance, Shah Rukh Khan spent an amazing time when the Valentine’s day begun.<br><span style=\"font-size:0.8em\"><a href=\"http://banglalive.com/srk-goes-late-night-walk-valentine/\">http://banglalive.com/srk-goes-late-night-walk-valentine/</a></span></li><li><b>Global GIS Market in Telecom Sector - Use of GIS and Big Data is an Emerging Trend in the Market</b>(0.4278494)<br>Global GIS Market in Telecom Sector - Use of GIS and Big Data is an Emerging Trend in the Market | Technavio<br><span style=\"font-size:0.8em\"><a href=\"https://www.taiwannews.com.tw/en/news/3413697\">https://www.taiwannews.com.tw/en/news/3413697</a></span></li><li><b>প্রাক্তন প্রেমিকা প্রিয়াঙ্কাকে মেরে ফেলতে চান শাহিদ!!</b>(0.31155846)<br>The Kill Marry Hookup sequence on Koffee With Karan rapid fire round always puts the celebs in a tongue-tied situation.<br><span style=\"font-size:0.8em\"><a href=\"http://banglalive.com/shahid-wants-to-kill-priyanka-marry-sonakshi-and-hook-up-with-alia/\">http://banglalive.com/shahid-wants-to-kill-priyanka-marry-sonakshi-and-hook-up-with-alia/</a></span></li></ol></td></tr>\n",
       "        </table>\n"
      ],
      "text/plain": [
       "\"        <style>\\n            .compare li {overflow-x:hidden;width:320px!important;text-align:left;height:200px;border-bottom:1px solid #333;}\\n        </style>\\n        <table class=\\\"compare\\\">\\n            <tr><td>BM25</td><td>KNN</td><td>Hybrid (nlp-search-pipeline-equal)</td></tr>\\n            <tr><td><h4>Showing 21 Results for <em>property market</em></h4><ol><li><b>How to use the Windows Tags property to manage Office files</b>(19.945515)<br>Searching, grouping, and even filtering files is easier if you know how to use the Windows Tags property.<br><span style=\\\"font-size:0.8em\\\"><a href=\\\"https://www.techrepublic.com/blog/microsoft-office/use-windows-tags-property-to-manage-office-files/\\\">https://www.techrepublic.com/blog/microsoft-office/use-windows-tags-property-to-manage-office-files/</a></span></li><li><b>Global GIS Market in Telecom Sector - Use of GIS and Big Data is an Emerging Trend in the Market</b>(16.333023)<br>Global GIS Market in Telecom Sector - Use of GIS and Big Data is an Emerging Trend in the Market | Technavio<br><span style=\\\"font-size:0.8em\\\"><a href=\\\"https://www.taiwannews.com.tw/en/news/3413697\\\">https://www.taiwannews.com.tw/en/news/3413697</a></span></li><li><b>Top Factors Driving the Global Potassium Sulfate Market</b>(14.88765)<br>Top Factors Driving the Global Potassium Sulfate Market | Technavio<br><span style=\\\"font-size:0.8em\\\"><a href=\\\"https://www.taiwannews.com.tw/en/news/3413580\\\">https://www.taiwannews.com.tw/en/news/3413580</a></span></li><li><b>Global Allergy Immunotherapies Market - Industry Analysis and Forecast</b>(14.88765)<br>Global Allergy Immunotherapies Market - Industry Analysis and Forecast | Technavio<br><span style=\\\"font-size:0.8em\\\"><a href=\\\"https://www.taiwannews.com.tw/en/news/3444398\\\">https://www.taiwannews.com.tw/en/news/3444398</a></span></li><li><b>Technological Advances to Drive the Global Dental Handpieces Market</b>(14.643564)<br>Technological Advances to Drive the Global Dental Handpieces Market| Technavio<br><span style=\\\"font-size:0.8em\\\"><a href=\\\"https://www.taiwannews.com.tw/en/news/3444389\\\">https://www.taiwannews.com.tw/en/news/3444389</a></span></li></ol></td><td><h4>Showing 20 Results for <em>property market</em></h4><ol><li><b>জেনের সঙ্গে আলাপ‚প্রেম থেকে বিয়ে – অকপট প্রীতি জিন্টা</b>(0.90857416)<br>It was a mystery and shocking to see Preity tying the knot suddenly as few people knew that she is dating Gene.<br><span style=\\\"font-size:0.8em\\\"><a href=\\\"http://banglalive.com/preity-zinta-reveals-where-she-first-met-hubby-gene-goodenough/\\\">http://banglalive.com/preity-zinta-reveals-where-she-first-met-hubby-gene-goodenough/</a></span></li><li><b>ভ্যালেন্টাইনের হাত ধরে গভীর রাতে জুহু বিচে শাহরুখ</b>(0.9081973)<br>The King of romance, Shah Rukh Khan spent an amazing time when the Valentine’s day begun.<br><span style=\\\"font-size:0.8em\\\"><a href=\\\"http://banglalive.com/srk-goes-late-night-walk-valentine/\\\">http://banglalive.com/srk-goes-late-night-walk-valentine/</a></span></li><li><b>প্রাক্তন প্রেমিকা প্রিয়াঙ্কাকে মেরে ফেলতে চান শাহিদ!!</b>(0.9066849)<br>The Kill Marry Hookup sequence on Koffee With Karan rapid fire round always puts the celebs in a tongue-tied situation.<br><span style=\\\"font-size:0.8em\\\"><a href=\\\"http://banglalive.com/shahid-wants-to-kill-priyanka-marry-sonakshi-and-hook-up-with-alia/\\\">http://banglalive.com/shahid-wants-to-kill-priyanka-marry-sonakshi-and-hook-up-with-alia/</a></span></li><li><b>Global GIS Market in Telecom Sector - Use of GIS and Big Data is an Emerging Trend in the Market</b>(0.90544224)<br>Global GIS Market in Telecom Sector - Use of GIS and Big Data is an Emerging Trend in the Market | Technavio<br><span style=\\\"font-size:0.8em\\\"><a href=\\\"https://www.taiwannews.com.tw/en/news/3413697\\\">https://www.taiwannews.com.tw/en/news/3413697</a></span></li><li><b>Business Highlights</b>(0.90523434)<br>Business Highlights<br><span style=\\\"font-size:0.8em\\\"><a href=\\\"https://www.taiwannews.com.tw/en/news/3385834\\\">https://www.taiwannews.com.tw/en/news/3385834</a></span></li></ol></td><td><h4>Showing 109 Results for <em>property market</em></h4><ol><li><b>How to use the Windows Tags property to manage Office files</b>(0.5)<br>Searching, grouping, and even filtering files is easier if you know how to use the Windows Tags property.<br><span style=\\\"font-size:0.8em\\\"><a href=\\\"https://www.techrepublic.com/blog/microsoft-office/use-windows-tags-property-to-manage-office-files/\\\">https://www.techrepublic.com/blog/microsoft-office/use-windows-tags-property-to-manage-office-files/</a></span></li><li><b>জেনের সঙ্গে আলাপ‚প্রেম থেকে বিয়ে – অকপট প্রীতি জিন্টা</b>(0.5)<br>It was a mystery and shocking to see Preity tying the knot suddenly as few people knew that she is dating Gene.<br><span style=\\\"font-size:0.8em\\\"><a href=\\\"http://banglalive.com/preity-zinta-reveals-where-she-first-met-hubby-gene-goodenough/\\\">http://banglalive.com/preity-zinta-reveals-where-she-first-met-hubby-gene-goodenough/</a></span></li><li><b>ভ্যালেন্টাইনের হাত ধরে গভীর রাতে জুহু বিচে শাহরুখ</b>(0.4624092)<br>The King of romance, Shah Rukh Khan spent an amazing time when the Valentine’s day begun.<br><span style=\\\"font-size:0.8em\\\"><a href=\\\"http://banglalive.com/srk-goes-late-night-walk-valentine/\\\">http://banglalive.com/srk-goes-late-night-walk-valentine/</a></span></li><li><b>Global GIS Market in Telecom Sector - Use of GIS and Big Data is an Emerging Trend in the Market</b>(0.4278494)<br>Global GIS Market in Telecom Sector - Use of GIS and Big Data is an Emerging Trend in the Market | Technavio<br><span style=\\\"font-size:0.8em\\\"><a href=\\\"https://www.taiwannews.com.tw/en/news/3413697\\\">https://www.taiwannews.com.tw/en/news/3413697</a></span></li><li><b>প্রাক্তন প্রেমিকা প্রিয়াঙ্কাকে মেরে ফেলতে চান শাহিদ!!</b>(0.31155846)<br>The Kill Marry Hookup sequence on Koffee With Karan rapid fire round always puts the celebs in a tongue-tied situation.<br><span style=\\\"font-size:0.8em\\\"><a href=\\\"http://banglalive.com/shahid-wants-to-kill-priyanka-marry-sonakshi-and-hook-up-with-alia/\\\">http://banglalive.com/shahid-wants-to-kill-priyanka-marry-sonakshi-and-hook-up-with-alia/</a></span></li></ol></td></tr>\\n        </table>\\n\""
      ]
     },
     "metadata": {},
     "output_type": "display_data"
    }
   ],
   "source": [
    "search_compare(\"property market\", pipeline: \"nlp-search-pipeline-equal\")"
   ]
  },
  {
   "cell_type": "code",
   "execution_count": 39,
   "id": "be1a100e-eb3c-431e-b346-12c4a981f4d1",
   "metadata": {},
   "outputs": [
    {
     "name": "stdout",
     "output_type": "stream",
     "text": [
      "Processing embeddings: 100% (1/1)\n",
      "Done!\n",
      "Processing embeddings: 100% (1/1)\n",
      "Done!\n"
     ]
    },
    {
     "data": {
      "text/html": [
       "        <style>\n",
       "            .compare li {overflow-x:hidden;width:320px!important;text-align:left;height:200px;border-bottom:1px solid #333;}\n",
       "        </style>\n",
       "        <table class=\"compare\">\n",
       "            <tr><td>BM25</td><td>KNN</td><td>Hybrid (nlp-search-pipeline-bm25-heavy)</td></tr>\n",
       "            <tr><td><h4>Showing 21 Results for <em>property market</em></h4><ol><li><b>How to use the Windows Tags property to manage Office files</b>(19.945515)<br>Searching, grouping, and even filtering files is easier if you know how to use the Windows Tags property.<br><span style=\"font-size:0.8em\"><a href=\"https://www.techrepublic.com/blog/microsoft-office/use-windows-tags-property-to-manage-office-files/\">https://www.techrepublic.com/blog/microsoft-office/use-windows-tags-property-to-manage-office-files/</a></span></li><li><b>Global GIS Market in Telecom Sector - Use of GIS and Big Data is an Emerging Trend in the Market</b>(16.333023)<br>Global GIS Market in Telecom Sector - Use of GIS and Big Data is an Emerging Trend in the Market | Technavio<br><span style=\"font-size:0.8em\"><a href=\"https://www.taiwannews.com.tw/en/news/3413697\">https://www.taiwannews.com.tw/en/news/3413697</a></span></li><li><b>Global Allergy Immunotherapies Market - Industry Analysis and Forecast</b>(14.88765)<br>Global Allergy Immunotherapies Market - Industry Analysis and Forecast | Technavio<br><span style=\"font-size:0.8em\"><a href=\"https://www.taiwannews.com.tw/en/news/3444398\">https://www.taiwannews.com.tw/en/news/3444398</a></span></li><li><b>Top Factors Driving the Global Potassium Sulfate Market</b>(14.88765)<br>Top Factors Driving the Global Potassium Sulfate Market | Technavio<br><span style=\"font-size:0.8em\"><a href=\"https://www.taiwannews.com.tw/en/news/3413580\">https://www.taiwannews.com.tw/en/news/3413580</a></span></li><li><b>Technological Advances to Drive the Global Dental Handpieces Market</b>(14.643564)<br>Technological Advances to Drive the Global Dental Handpieces Market| Technavio<br><span style=\"font-size:0.8em\"><a href=\"https://www.taiwannews.com.tw/en/news/3444389\">https://www.taiwannews.com.tw/en/news/3444389</a></span></li></ol></td><td><h4>Showing 20 Results for <em>property market</em></h4><ol><li><b>Business Highlights</b>(0.87082547)<br>Business Highlights<br><span style=\"font-size:0.8em\"><a href=\"https://www.taiwannews.com.tw/en/news/3385834\">https://www.taiwannews.com.tw/en/news/3385834</a></span></li><li><b>Business Highlights</b>(0.87082547)<br>Business Highlights<br><span style=\"font-size:0.8em\"><a href=\"http://www.taiwannews.com.tw/en/news/3095159\">http://www.taiwannews.com.tw/en/news/3095159</a></span></li><li><b>Real time energy financing and trading news</b>(0.8686811)<br>Real time energy financing and trading news<br><span style=\"font-size:0.8em\"><a href=\"http://www.sparkspread.com/login.php?return=%2Fsparkspread.php%3Fsparkspread_concept%3Dstory%26id%3D20878\">http://www.sparkspread.com/login.php?return=%2Fsparkspread.php%3Fsparkspread_concept%3Dstory%26id%3D20878</a></span></li><li><b>Real time energy financing and trading news</b>(0.8686811)<br>Real time energy financing and trading news<br><span style=\"font-size:0.8em\"><a href=\"http://www.sparkspread.com/login.php?return=%2Fsparkspread.php%3Fsparkspread_concept%3Dstory%26id%3D20879\">http://www.sparkspread.com/login.php?return=%2Fsparkspread.php%3Fsparkspread_concept%3Dstory%26id%3D20879</a></span></li><li><b>Real time energy financing and trading news</b>(0.8686811)<br>Real time energy financing and trading news<br><span style=\"font-size:0.8em\"><a href=\"http://www.sparkspread.com/login.php?return=%2Fsparkspread.php%3Fsparkspread_concept%3Dstory%26id%3D20881\">http://www.sparkspread.com/login.php?return=%2Fsparkspread.php%3Fsparkspread_concept%3Dstory%26id%3D20881</a></span></li></ol></td><td><h4>Showing 10 Results for <em>property market</em></h4><ol><li><b>How to use the Windows Tags property to manage Office files</b>(0.6)<br>Searching, grouping, and even filtering files is easier if you know how to use the Windows Tags property.<br><span style=\"font-size:0.8em\"><a href=\"https://www.techrepublic.com/blog/microsoft-office/use-windows-tags-property-to-manage-office-files/\">https://www.techrepublic.com/blog/microsoft-office/use-windows-tags-property-to-manage-office-files/</a></span></li><li><b>Business Highlights</b>(0.4)<br>Business Highlights<br><span style=\"font-size:0.8em\"><a href=\"http://www.taiwannews.com.tw/en/news/3095159\">http://www.taiwannews.com.tw/en/news/3095159</a></span></li><li><b>Business Highlights</b>(0.4)<br>Business Highlights<br><span style=\"font-size:0.8em\"><a href=\"https://www.taiwannews.com.tw/en/news/3385834\">https://www.taiwannews.com.tw/en/news/3385834</a></span></li><li><b>Real time energy financing and trading news</b>(0.3799276)<br>Real time energy financing and trading news<br><span style=\"font-size:0.8em\"><a href=\"http://www.sparkspread.com/login.php?return=%2Fsparkspread.php%3Fsparkspread_concept%3Dstory%26id%3D20878\">http://www.sparkspread.com/login.php?return=%2Fsparkspread.php%3Fsparkspread_concept%3Dstory%26id%3D20878</a></span></li><li><b>Real time energy financing and trading news</b>(0.3799276)<br>Real time energy financing and trading news<br><span style=\"font-size:0.8em\"><a href=\"http://www.sparkspread.com/login.php?return=%2Fsparkspread.php%3Fsparkspread_concept%3Dstory%26id%3D20879\">http://www.sparkspread.com/login.php?return=%2Fsparkspread.php%3Fsparkspread_concept%3Dstory%26id%3D20879</a></span></li></ol></td></tr>\n",
       "        </table>\n"
      ],
      "text/plain": [
       "\"        <style>\\n            .compare li {overflow-x:hidden;width:320px!important;text-align:left;height:200px;border-bottom:1px solid #333;}\\n        </style>\\n        <table class=\\\"compare\\\">\\n            <tr><td>BM25</td><td>KNN</td><td>Hybrid (nlp-search-pipeline-bm25-heavy)</td></tr>\\n            <tr><td><h4>Showing 21 Results for <em>property market</em></h4><ol><li><b>How to use the Windows Tags property to manage Office files</b>(19.945515)<br>Searching, grouping, and even filtering files is easier if you know how to use the Windows Tags property.<br><span style=\\\"font-size:0.8em\\\"><a href=\\\"https://www.techrepublic.com/blog/microsoft-office/use-windows-tags-property-to-manage-office-files/\\\">https://www.techrepublic.com/blog/microsoft-office/use-windows-tags-property-to-manage-office-files/</a></span></li><li><b>Global GIS Market in Telecom Sector - Use of GIS and Big Data is an Emerging Trend in the Market</b>(16.333023)<br>Global GIS Market in Telecom Sector - Use of GIS and Big Data is an Emerging Trend in the Market | Technavio<br><span style=\\\"font-size:0.8em\\\"><a href=\\\"https://www.taiwannews.com.tw/en/news/3413697\\\">https://www.taiwannews.com.tw/en/news/3413697</a></span></li><li><b>Global Allergy Immunotherapies Market - Industry Analysis and Forecast</b>(14.88765)<br>Global Allergy Immunotherapies Market - Industry Analysis and Forecast | Technavio<br><span style=\\\"font-size:0.8em\\\"><a href=\\\"https://www.taiwannews.com.tw/en/news/3444398\\\">https://www.taiwannews.com.tw/en/news/3444398</a></span></li><li><b>Top Factors Driving the Global Potassium Sulfate Market</b>(14.88765)<br>Top Factors Driving the Global Potassium Sulfate Market | Technavio<br><span style=\\\"font-size:0.8em\\\"><a href=\\\"https://www.taiwannews.com.tw/en/news/3413580\\\">https://www.taiwannews.com.tw/en/news/3413580</a></span></li><li><b>Technological Advances to Drive the Global Dental Handpieces Market</b>(14.643564)<br>Technological Advances to Drive the Global Dental Handpieces Market| Technavio<br><span style=\\\"font-size:0.8em\\\"><a href=\\\"https://www.taiwannews.com.tw/en/news/3444389\\\">https://www.taiwannews.com.tw/en/news/3444389</a></span></li></ol></td><td><h4>Showing 20 Results for <em>property market</em></h4><ol><li><b>Business Highlights</b>(0.87082547)<br>Business Highlights<br><span style=\\\"font-size:0.8em\\\"><a href=\\\"https://www.taiwannews.com.tw/en/news/3385834\\\">https://www.taiwannews.com.tw/en/news/3385834</a></span></li><li><b>Business Highlights</b>(0.87082547)<br>Business Highlights<br><span style=\\\"font-size:0.8em\\\"><a href=\\\"http://www.taiwannews.com.tw/en/news/3095159\\\">http://www.taiwannews.com.tw/en/news/3095159</a></span></li><li><b>Real time energy financing and trading news</b>(0.8686811)<br>Real time energy financing and trading news<br><span style=\\\"font-size:0.8em\\\"><a href=\\\"http://www.sparkspread.com/login.php?return=%2Fsparkspread.php%3Fsparkspread_concept%3Dstory%26id%3D20878\\\">http://www.sparkspread.com/login.php?return=%2Fsparkspread.php%3Fsparkspread_concept%3Dstory%26id%3D20878</a></span></li><li><b>Real time energy financing and trading news</b>(0.8686811)<br>Real time energy financing and trading news<br><span style=\\\"font-size:0.8em\\\"><a href=\\\"http://www.sparkspread.com/login.php?return=%2Fsparkspread.php%3Fsparkspread_concept%3Dstory%26id%3D20879\\\">http://www.sparkspread.com/login.php?return=%2Fsparkspread.php%3Fsparkspread_concept%3Dstory%26id%3D20879</a></span></li><li><b>Real time energy financing and trading news</b>(0.8686811)<br>Real time energy financing and trading news<br><span style=\\\"font-size:0.8em\\\"><a href=\\\"http://www.sparkspread.com/login.php?return=%2Fsparkspread.php%3Fsparkspread_concept%3Dstory%26id%3D20881\\\">http://www.sparkspread.com/login.php?return=%2Fsparkspread.php%3Fsparkspread_concept%3Dstory%26id%3D20881</a></span></li></ol></td><td><h4>Showing 10 Results for <em>property market</em></h4><ol><li><b>How to use the Windows Tags property to manage Office files</b>(0.6)<br>Searching, grouping, and even filtering files is easier if you know how to use the Windows Tags property.<br><span style=\\\"font-size:0.8em\\\"><a href=\\\"https://www.techrepublic.com/blog/microsoft-office/use-windows-tags-property-to-manage-office-files/\\\">https://www.techrepublic.com/blog/microsoft-office/use-windows-tags-property-to-manage-office-files/</a></span></li><li><b>Business Highlights</b>(0.4)<br>Business Highlights<br><span style=\\\"font-size:0.8em\\\"><a href=\\\"http://www.taiwannews.com.tw/en/news/3095159\\\">http://www.taiwannews.com.tw/en/news/3095159</a></span></li><li><b>Business Highlights</b>(0.4)<br>Business Highlights<br><span style=\\\"font-size:0.8em\\\"><a href=\\\"https://www.taiwannews.com.tw/en/news/3385834\\\">https://www.taiwannews.com.tw/en/news/3385834</a></span></li><li><b>Real time energy financing and trading news</b>(0.3799276)<br>Real time energy financing and trading news<br><span style=\\\"font-size:0.8em\\\"><a href=\\\"http://www.sparkspread.com/login.php?return=%2Fsparkspread.php%3Fsparkspread_concept%3Dstory%26id%3D20878\\\">http://www.sparkspread.com/login.php?return=%2Fsparkspread.php%3Fsparkspread_concept%3Dstory%26id%3D20878</a></span></li><li><b>Real time energy financing and trading news</b>(0.3799276)<br>Real time energy financing and trading news<br><span style=\\\"font-size:0.8em\\\"><a href=\\\"http://www.sparkspread.com/login.php?return=%2Fsparkspread.php%3Fsparkspread_concept%3Dstory%26id%3D20879\\\">http://www.sparkspread.com/login.php?return=%2Fsparkspread.php%3Fsparkspread_concept%3Dstory%26id%3D20879</a></span></li></ol></td></tr>\\n        </table>\\n\""
      ]
     },
     "metadata": {},
     "output_type": "display_data"
    }
   ],
   "source": [
    "search_compare(\"property market\", pipeline: \"nlp-search-pipeline-bm25-heavy\")"
   ]
  },
  {
   "cell_type": "code",
   "execution_count": 40,
   "id": "8fa59148-296f-4913-ab4f-6457f223d401",
   "metadata": {},
   "outputs": [
    {
     "name": "stdout",
     "output_type": "stream",
     "text": [
      "Processing embeddings: 100% (1/1)\n",
      "Done!\n",
      "Processing embeddings: 100% (1/1)\n",
      "Done!\n"
     ]
    },
    {
     "data": {
      "text/html": [
       "        <style>\n",
       "            .compare li {overflow-x:hidden;width:320px!important;text-align:left;height:200px;border-bottom:1px solid #333;}\n",
       "        </style>\n",
       "        <table class=\"compare\">\n",
       "            <tr><td>BM25</td><td>KNN</td><td>Hybrid (nlp-search-pipeline-knn-heavy)</td></tr>\n",
       "            <tr><td><h4>Showing 21 Results for <em>property market</em></h4><ol><li><b>How to use the Windows Tags property to manage Office files</b>(19.945515)<br>Searching, grouping, and even filtering files is easier if you know how to use the Windows Tags property.<br><span style=\"font-size:0.8em\"><a href=\"https://www.techrepublic.com/blog/microsoft-office/use-windows-tags-property-to-manage-office-files/\">https://www.techrepublic.com/blog/microsoft-office/use-windows-tags-property-to-manage-office-files/</a></span></li><li><b>Global GIS Market in Telecom Sector - Use of GIS and Big Data is an Emerging Trend in the Market</b>(16.333023)<br>Global GIS Market in Telecom Sector - Use of GIS and Big Data is an Emerging Trend in the Market | Technavio<br><span style=\"font-size:0.8em\"><a href=\"https://www.taiwannews.com.tw/en/news/3413697\">https://www.taiwannews.com.tw/en/news/3413697</a></span></li><li><b>Global Allergy Immunotherapies Market - Industry Analysis and Forecast</b>(14.88765)<br>Global Allergy Immunotherapies Market - Industry Analysis and Forecast | Technavio<br><span style=\"font-size:0.8em\"><a href=\"https://www.taiwannews.com.tw/en/news/3444398\">https://www.taiwannews.com.tw/en/news/3444398</a></span></li><li><b>Top Factors Driving the Global Potassium Sulfate Market</b>(14.88765)<br>Top Factors Driving the Global Potassium Sulfate Market | Technavio<br><span style=\"font-size:0.8em\"><a href=\"https://www.taiwannews.com.tw/en/news/3413580\">https://www.taiwannews.com.tw/en/news/3413580</a></span></li><li><b>Technological Advances to Drive the Global Dental Handpieces Market</b>(14.643564)<br>Technological Advances to Drive the Global Dental Handpieces Market| Technavio<br><span style=\"font-size:0.8em\"><a href=\"https://www.taiwannews.com.tw/en/news/3444389\">https://www.taiwannews.com.tw/en/news/3444389</a></span></li></ol></td><td><h4>Showing 20 Results for <em>property market</em></h4><ol><li><b>Business Highlights</b>(0.87082547)<br>Business Highlights<br><span style=\"font-size:0.8em\"><a href=\"https://www.taiwannews.com.tw/en/news/3385834\">https://www.taiwannews.com.tw/en/news/3385834</a></span></li><li><b>Business Highlights</b>(0.87082547)<br>Business Highlights<br><span style=\"font-size:0.8em\"><a href=\"http://www.taiwannews.com.tw/en/news/3095159\">http://www.taiwannews.com.tw/en/news/3095159</a></span></li><li><b>Real time energy financing and trading news</b>(0.8686811)<br>Real time energy financing and trading news<br><span style=\"font-size:0.8em\"><a href=\"http://www.sparkspread.com/login.php?return=%2Fsparkspread.php%3Fsparkspread_concept%3Dstory%26id%3D20878\">http://www.sparkspread.com/login.php?return=%2Fsparkspread.php%3Fsparkspread_concept%3Dstory%26id%3D20878</a></span></li><li><b>Real time energy financing and trading news</b>(0.8686811)<br>Real time energy financing and trading news<br><span style=\"font-size:0.8em\"><a href=\"http://www.sparkspread.com/login.php?return=%2Fsparkspread.php%3Fsparkspread_concept%3Dstory%26id%3D20879\">http://www.sparkspread.com/login.php?return=%2Fsparkspread.php%3Fsparkspread_concept%3Dstory%26id%3D20879</a></span></li><li><b>Real time energy financing and trading news</b>(0.8686811)<br>Real time energy financing and trading news<br><span style=\"font-size:0.8em\"><a href=\"http://www.sparkspread.com/login.php?return=%2Fsparkspread.php%3Fsparkspread_concept%3Dstory%26id%3D20881\">http://www.sparkspread.com/login.php?return=%2Fsparkspread.php%3Fsparkspread_concept%3Dstory%26id%3D20881</a></span></li></ol></td><td><h4>Showing 10 Results for <em>property market</em></h4><ol><li><b>Business Highlights</b>(0.6)<br>Business Highlights<br><span style=\"font-size:0.8em\"><a href=\"http://www.taiwannews.com.tw/en/news/3095159\">http://www.taiwannews.com.tw/en/news/3095159</a></span></li><li><b>Business Highlights</b>(0.6)<br>Business Highlights<br><span style=\"font-size:0.8em\"><a href=\"https://www.taiwannews.com.tw/en/news/3385834\">https://www.taiwannews.com.tw/en/news/3385834</a></span></li><li><b>Real time energy financing and trading news</b>(0.5698914)<br>Real time energy financing and trading news<br><span style=\"font-size:0.8em\"><a href=\"http://www.sparkspread.com/login.php?return=%2Fsparkspread.php%3Fsparkspread_concept%3Dstory%26id%3D20878\">http://www.sparkspread.com/login.php?return=%2Fsparkspread.php%3Fsparkspread_concept%3Dstory%26id%3D20878</a></span></li><li><b>Real time energy financing and trading news</b>(0.5698914)<br>Real time energy financing and trading news<br><span style=\"font-size:0.8em\"><a href=\"http://www.sparkspread.com/login.php?return=%2Fsparkspread.php%3Fsparkspread_concept%3Dstory%26id%3D20879\">http://www.sparkspread.com/login.php?return=%2Fsparkspread.php%3Fsparkspread_concept%3Dstory%26id%3D20879</a></span></li><li><b>Real time energy financing and trading news</b>(0.5698914)<br>Real time energy financing and trading news<br><span style=\"font-size:0.8em\"><a href=\"http://www.sparkspread.com/login.php?return=%2Fsparkspread.php%3Fsparkspread_concept%3Dstory%26id%3D20881\">http://www.sparkspread.com/login.php?return=%2Fsparkspread.php%3Fsparkspread_concept%3Dstory%26id%3D20881</a></span></li></ol></td></tr>\n",
       "        </table>\n"
      ],
      "text/plain": [
       "\"        <style>\\n            .compare li {overflow-x:hidden;width:320px!important;text-align:left;height:200px;border-bottom:1px solid #333;}\\n        </style>\\n        <table class=\\\"compare\\\">\\n            <tr><td>BM25</td><td>KNN</td><td>Hybrid (nlp-search-pipeline-knn-heavy)</td></tr>\\n            <tr><td><h4>Showing 21 Results for <em>property market</em></h4><ol><li><b>How to use the Windows Tags property to manage Office files</b>(19.945515)<br>Searching, grouping, and even filtering files is easier if you know how to use the Windows Tags property.<br><span style=\\\"font-size:0.8em\\\"><a href=\\\"https://www.techrepublic.com/blog/microsoft-office/use-windows-tags-property-to-manage-office-files/\\\">https://www.techrepublic.com/blog/microsoft-office/use-windows-tags-property-to-manage-office-files/</a></span></li><li><b>Global GIS Market in Telecom Sector - Use of GIS and Big Data is an Emerging Trend in the Market</b>(16.333023)<br>Global GIS Market in Telecom Sector - Use of GIS and Big Data is an Emerging Trend in the Market | Technavio<br><span style=\\\"font-size:0.8em\\\"><a href=\\\"https://www.taiwannews.com.tw/en/news/3413697\\\">https://www.taiwannews.com.tw/en/news/3413697</a></span></li><li><b>Global Allergy Immunotherapies Market - Industry Analysis and Forecast</b>(14.88765)<br>Global Allergy Immunotherapies Market - Industry Analysis and Forecast | Technavio<br><span style=\\\"font-size:0.8em\\\"><a href=\\\"https://www.taiwannews.com.tw/en/news/3444398\\\">https://www.taiwannews.com.tw/en/news/3444398</a></span></li><li><b>Top Factors Driving the Global Potassium Sulfate Market</b>(14.88765)<br>Top Factors Driving the Global Potassium Sulfate Market | Technavio<br><span style=\\\"font-size:0.8em\\\"><a href=\\\"https://www.taiwannews.com.tw/en/news/3413580\\\">https://www.taiwannews.com.tw/en/news/3413580</a></span></li><li><b>Technological Advances to Drive the Global Dental Handpieces Market</b>(14.643564)<br>Technological Advances to Drive the Global Dental Handpieces Market| Technavio<br><span style=\\\"font-size:0.8em\\\"><a href=\\\"https://www.taiwannews.com.tw/en/news/3444389\\\">https://www.taiwannews.com.tw/en/news/3444389</a></span></li></ol></td><td><h4>Showing 20 Results for <em>property market</em></h4><ol><li><b>Business Highlights</b>(0.87082547)<br>Business Highlights<br><span style=\\\"font-size:0.8em\\\"><a href=\\\"https://www.taiwannews.com.tw/en/news/3385834\\\">https://www.taiwannews.com.tw/en/news/3385834</a></span></li><li><b>Business Highlights</b>(0.87082547)<br>Business Highlights<br><span style=\\\"font-size:0.8em\\\"><a href=\\\"http://www.taiwannews.com.tw/en/news/3095159\\\">http://www.taiwannews.com.tw/en/news/3095159</a></span></li><li><b>Real time energy financing and trading news</b>(0.8686811)<br>Real time energy financing and trading news<br><span style=\\\"font-size:0.8em\\\"><a href=\\\"http://www.sparkspread.com/login.php?return=%2Fsparkspread.php%3Fsparkspread_concept%3Dstory%26id%3D20878\\\">http://www.sparkspread.com/login.php?return=%2Fsparkspread.php%3Fsparkspread_concept%3Dstory%26id%3D20878</a></span></li><li><b>Real time energy financing and trading news</b>(0.8686811)<br>Real time energy financing and trading news<br><span style=\\\"font-size:0.8em\\\"><a href=\\\"http://www.sparkspread.com/login.php?return=%2Fsparkspread.php%3Fsparkspread_concept%3Dstory%26id%3D20879\\\">http://www.sparkspread.com/login.php?return=%2Fsparkspread.php%3Fsparkspread_concept%3Dstory%26id%3D20879</a></span></li><li><b>Real time energy financing and trading news</b>(0.8686811)<br>Real time energy financing and trading news<br><span style=\\\"font-size:0.8em\\\"><a href=\\\"http://www.sparkspread.com/login.php?return=%2Fsparkspread.php%3Fsparkspread_concept%3Dstory%26id%3D20881\\\">http://www.sparkspread.com/login.php?return=%2Fsparkspread.php%3Fsparkspread_concept%3Dstory%26id%3D20881</a></span></li></ol></td><td><h4>Showing 10 Results for <em>property market</em></h4><ol><li><b>Business Highlights</b>(0.6)<br>Business Highlights<br><span style=\\\"font-size:0.8em\\\"><a href=\\\"http://www.taiwannews.com.tw/en/news/3095159\\\">http://www.taiwannews.com.tw/en/news/3095159</a></span></li><li><b>Business Highlights</b>(0.6)<br>Business Highlights<br><span style=\\\"font-size:0.8em\\\"><a href=\\\"https://www.taiwannews.com.tw/en/news/3385834\\\">https://www.taiwannews.com.tw/en/news/3385834</a></span></li><li><b>Real time energy financing and trading news</b>(0.5698914)<br>Real time energy financing and trading news<br><span style=\\\"font-size:0.8em\\\"><a href=\\\"http://www.sparkspread.com/login.php?return=%2Fsparkspread.php%3Fsparkspread_concept%3Dstory%26id%3D20878\\\">http://www.sparkspread.com/login.php?return=%2Fsparkspread.php%3Fsparkspread_concept%3Dstory%26id%3D20878</a></span></li><li><b>Real time energy financing and trading news</b>(0.5698914)<br>Real time energy financing and trading news<br><span style=\\\"font-size:0.8em\\\"><a href=\\\"http://www.sparkspread.com/login.php?return=%2Fsparkspread.php%3Fsparkspread_concept%3Dstory%26id%3D20879\\\">http://www.sparkspread.com/login.php?return=%2Fsparkspread.php%3Fsparkspread_concept%3Dstory%26id%3D20879</a></span></li><li><b>Real time energy financing and trading news</b>(0.5698914)<br>Real time energy financing and trading news<br><span style=\\\"font-size:0.8em\\\"><a href=\\\"http://www.sparkspread.com/login.php?return=%2Fsparkspread.php%3Fsparkspread_concept%3Dstory%26id%3D20881\\\">http://www.sparkspread.com/login.php?return=%2Fsparkspread.php%3Fsparkspread_concept%3Dstory%26id%3D20881</a></span></li></ol></td></tr>\\n        </table>\\n\""
      ]
     },
     "metadata": {},
     "output_type": "display_data"
    }
   ],
   "source": [
    "search_compare(\"property market\", pipeline: \"nlp-search-pipeline-knn-heavy\")"
   ]
  },
  {
   "cell_type": "code",
   "execution_count": 41,
   "id": "4b920d71-71b1-4a37-a828-bd29d881fc5e",
   "metadata": {},
   "outputs": [
    {
     "name": "stdout",
     "output_type": "stream",
     "text": [
      "Processing embeddings: 100% (1/1)\n",
      "Done!\n",
      "Processing embeddings: 100% (1/1)\n",
      "Done!\n"
     ]
    },
    {
     "data": {
      "text/html": [
       "        <style>\n",
       "            .compare li {overflow-x:hidden;width:320px!important;text-align:left;height:200px;border-bottom:1px solid #333;}\n",
       "        </style>\n",
       "        <table class=\"compare\">\n",
       "            <tr><td>BM25</td><td>KNN</td><td>Hybrid (nlp-search-pipeline-equal)</td></tr>\n",
       "            <tr><td><h4>Showing 2 Results for <em>crypto scandal</em></h4><ol><li><b>Putin to athletes: Ignore doping scandals at Olympics</b>(22.885584)<br>Putin to athletes: Ignore doping scandals at Olympics<br><span style=\"font-size:0.8em\"><a href=\"https://www.taiwannews.com.tw/en/news/3354788\">https://www.taiwannews.com.tw/en/news/3354788</a></span></li><li><b>More than 4,000 students and teachers to be compensated for Taiwan food safety scandal</b>(11.866891)<br>Tainted oil from Chang Guann turned up in food at 22 schools in 2014.A total of 4,048 students and teachers can soon expect to receive between NT$3,000 (US$98) and NT$9,000 each as compensation for the consumption of tainted cooking oil from Chang Guann.<br><span style=\"font-size:0.8em\"><a href=\"https://www.taiwannews.com.tw/en/news/3473912\">https://www.taiwannews.com.tw/en/news/3473912</a></span></li></ol></td><td><h4>Showing 20 Results for <em>crypto scandal</em></h4><ol><li><b>Real time energy financing and trading news</b>(0.88546175)<br>Real time energy financing and trading news<br><span style=\"font-size:0.8em\"><a href=\"http://www.sparkspread.com/login.php?return=%2Fsparkspread.php%3Fsparkspread_concept%3Dstory%26id%3D20878\">http://www.sparkspread.com/login.php?return=%2Fsparkspread.php%3Fsparkspread_concept%3Dstory%26id%3D20878</a></span></li><li><b>Real time energy financing and trading news</b>(0.88546175)<br>Real time energy financing and trading news<br><span style=\"font-size:0.8em\"><a href=\"http://www.sparkspread.com/login.php?return=%2Fsparkspread.php%3Fsparkspread_concept%3Dstory%26id%3D20879\">http://www.sparkspread.com/login.php?return=%2Fsparkspread.php%3Fsparkspread_concept%3Dstory%26id%3D20879</a></span></li><li><b>Real time energy financing and trading news</b>(0.88546175)<br>Real time energy financing and trading news<br><span style=\"font-size:0.8em\"><a href=\"http://www.sparkspread.com/login.php?return=%2Fsparkspread.php%3Fsparkspread_concept%3Dstory%26id%3D20881\">http://www.sparkspread.com/login.php?return=%2Fsparkspread.php%3Fsparkspread_concept%3Dstory%26id%3D20881</a></span></li><li><b>Real time energy financing and trading news</b>(0.88546175)<br>Real time energy financing and trading news<br><span style=\"font-size:0.8em\"><a href=\"http://www.sparkspread.com/login.php?return=%2Fsparkspread.php%3Fsparkspread_concept%3Dstory%26id%3D20254\">http://www.sparkspread.com/login.php?return=%2Fsparkspread.php%3Fsparkspread_concept%3Dstory%26id%3D20254</a></span></li><li><b>আরিব্বাস, জাল ডাক্তার!</b>(0.88258606)<br>In recent past there has been many reported incidents of fake doctors being arrested from every nuke and corner of Bengal - a funny take on that<br><span style=\"font-size:0.8em\"><a href=\"http://banglalive.com/the-increasing-number-of-fake-doctors-and-their-treatment/\">http://banglalive.com/the-increasing-number-of-fake-doctors-and-their-treatment/</a></span></li></ol></td><td><h4>Showing 10 Results for <em>crypto scandal</em></h4><ol><li><b>Real time energy financing and trading news</b>(0.5)<br>Real time energy financing and trading news<br><span style=\"font-size:0.8em\"><a href=\"http://www.sparkspread.com/login.php?return=%2Fsparkspread.php%3Fsparkspread_concept%3Dstory%26id%3D20878\">http://www.sparkspread.com/login.php?return=%2Fsparkspread.php%3Fsparkspread_concept%3Dstory%26id%3D20878</a></span></li><li><b>Real time energy financing and trading news</b>(0.5)<br>Real time energy financing and trading news<br><span style=\"font-size:0.8em\"><a href=\"http://www.sparkspread.com/login.php?return=%2Fsparkspread.php%3Fsparkspread_concept%3Dstory%26id%3D20879\">http://www.sparkspread.com/login.php?return=%2Fsparkspread.php%3Fsparkspread_concept%3Dstory%26id%3D20879</a></span></li><li><b>Putin to athletes: Ignore doping scandals at Olympics</b>(0.5)<br>Putin to athletes: Ignore doping scandals at Olympics<br><span style=\"font-size:0.8em\"><a href=\"https://www.taiwannews.com.tw/en/news/3354788\">https://www.taiwannews.com.tw/en/news/3354788</a></span></li><li><b>Real time energy financing and trading news</b>(0.5)<br>Real time energy financing and trading news<br><span style=\"font-size:0.8em\"><a href=\"http://www.sparkspread.com/login.php?return=%2Fsparkspread.php%3Fsparkspread_concept%3Dstory%26id%3D20881\">http://www.sparkspread.com/login.php?return=%2Fsparkspread.php%3Fsparkspread_concept%3Dstory%26id%3D20881</a></span></li><li><b>Real time energy financing and trading news</b>(0.5)<br>Real time energy financing and trading news<br><span style=\"font-size:0.8em\"><a href=\"http://www.sparkspread.com/login.php?return=%2Fsparkspread.php%3Fsparkspread_concept%3Dstory%26id%3D20254\">http://www.sparkspread.com/login.php?return=%2Fsparkspread.php%3Fsparkspread_concept%3Dstory%26id%3D20254</a></span></li></ol></td></tr>\n",
       "        </table>\n"
      ],
      "text/plain": [
       "\"        <style>\\n            .compare li {overflow-x:hidden;width:320px!important;text-align:left;height:200px;border-bottom:1px solid #333;}\\n        </style>\\n        <table class=\\\"compare\\\">\\n            <tr><td>BM25</td><td>KNN</td><td>Hybrid (nlp-search-pipeline-equal)</td></tr>\\n            <tr><td><h4>Showing 2 Results for <em>crypto scandal</em></h4><ol><li><b>Putin to athletes: Ignore doping scandals at Olympics</b>(22.885584)<br>Putin to athletes: Ignore doping scandals at Olympics<br><span style=\\\"font-size:0.8em\\\"><a href=\\\"https://www.taiwannews.com.tw/en/news/3354788\\\">https://www.taiwannews.com.tw/en/news/3354788</a></span></li><li><b>More than 4,000 students and teachers to be compensated for Taiwan food safety scandal</b>(11.866891)<br>Tainted oil from Chang Guann turned up in food at 22 schools in 2014.A total of 4,048 students and teachers can soon expect to receive between NT$3,000 (US$98) and NT$9,000 each as compensation for the consumption of tainted cooking oil from Chang Guann.<br><span style=\\\"font-size:0.8em\\\"><a href=\\\"https://www.taiwannews.com.tw/en/news/3473912\\\">https://www.taiwannews.com.tw/en/news/3473912</a></span></li></ol></td><td><h4>Showing 20 Results for <em>crypto scandal</em></h4><ol><li><b>Real time energy financing and trading news</b>(0.88546175)<br>Real time energy financing and trading news<br><span style=\\\"font-size:0.8em\\\"><a href=\\\"http://www.sparkspread.com/login.php?return=%2Fsparkspread.php%3Fsparkspread_concept%3Dstory%26id%3D20878\\\">http://www.sparkspread.com/login.php?return=%2Fsparkspread.php%3Fsparkspread_concept%3Dstory%26id%3D20878</a></span></li><li><b>Real time energy financing and trading news</b>(0.88546175)<br>Real time energy financing and trading news<br><span style=\\\"font-size:0.8em\\\"><a href=\\\"http://www.sparkspread.com/login.php?return=%2Fsparkspread.php%3Fsparkspread_concept%3Dstory%26id%3D20879\\\">http://www.sparkspread.com/login.php?return=%2Fsparkspread.php%3Fsparkspread_concept%3Dstory%26id%3D20879</a></span></li><li><b>Real time energy financing and trading news</b>(0.88546175)<br>Real time energy financing and trading news<br><span style=\\\"font-size:0.8em\\\"><a href=\\\"http://www.sparkspread.com/login.php?return=%2Fsparkspread.php%3Fsparkspread_concept%3Dstory%26id%3D20881\\\">http://www.sparkspread.com/login.php?return=%2Fsparkspread.php%3Fsparkspread_concept%3Dstory%26id%3D20881</a></span></li><li><b>Real time energy financing and trading news</b>(0.88546175)<br>Real time energy financing and trading news<br><span style=\\\"font-size:0.8em\\\"><a href=\\\"http://www.sparkspread.com/login.php?return=%2Fsparkspread.php%3Fsparkspread_concept%3Dstory%26id%3D20254\\\">http://www.sparkspread.com/login.php?return=%2Fsparkspread.php%3Fsparkspread_concept%3Dstory%26id%3D20254</a></span></li><li><b>আরিব্বাস, জাল ডাক্তার!</b>(0.88258606)<br>In recent past there has been many reported incidents of fake doctors being arrested from every nuke and corner of Bengal - a funny take on that<br><span style=\\\"font-size:0.8em\\\"><a href=\\\"http://banglalive.com/the-increasing-number-of-fake-doctors-and-their-treatment/\\\">http://banglalive.com/the-increasing-number-of-fake-doctors-and-their-treatment/</a></span></li></ol></td><td><h4>Showing 10 Results for <em>crypto scandal</em></h4><ol><li><b>Real time energy financing and trading news</b>(0.5)<br>Real time energy financing and trading news<br><span style=\\\"font-size:0.8em\\\"><a href=\\\"http://www.sparkspread.com/login.php?return=%2Fsparkspread.php%3Fsparkspread_concept%3Dstory%26id%3D20878\\\">http://www.sparkspread.com/login.php?return=%2Fsparkspread.php%3Fsparkspread_concept%3Dstory%26id%3D20878</a></span></li><li><b>Real time energy financing and trading news</b>(0.5)<br>Real time energy financing and trading news<br><span style=\\\"font-size:0.8em\\\"><a href=\\\"http://www.sparkspread.com/login.php?return=%2Fsparkspread.php%3Fsparkspread_concept%3Dstory%26id%3D20879\\\">http://www.sparkspread.com/login.php?return=%2Fsparkspread.php%3Fsparkspread_concept%3Dstory%26id%3D20879</a></span></li><li><b>Putin to athletes: Ignore doping scandals at Olympics</b>(0.5)<br>Putin to athletes: Ignore doping scandals at Olympics<br><span style=\\\"font-size:0.8em\\\"><a href=\\\"https://www.taiwannews.com.tw/en/news/3354788\\\">https://www.taiwannews.com.tw/en/news/3354788</a></span></li><li><b>Real time energy financing and trading news</b>(0.5)<br>Real time energy financing and trading news<br><span style=\\\"font-size:0.8em\\\"><a href=\\\"http://www.sparkspread.com/login.php?return=%2Fsparkspread.php%3Fsparkspread_concept%3Dstory%26id%3D20881\\\">http://www.sparkspread.com/login.php?return=%2Fsparkspread.php%3Fsparkspread_concept%3Dstory%26id%3D20881</a></span></li><li><b>Real time energy financing and trading news</b>(0.5)<br>Real time energy financing and trading news<br><span style=\\\"font-size:0.8em\\\"><a href=\\\"http://www.sparkspread.com/login.php?return=%2Fsparkspread.php%3Fsparkspread_concept%3Dstory%26id%3D20254\\\">http://www.sparkspread.com/login.php?return=%2Fsparkspread.php%3Fsparkspread_concept%3Dstory%26id%3D20254</a></span></li></ol></td></tr>\\n        </table>\\n\""
      ]
     },
     "metadata": {},
     "output_type": "display_data"
    }
   ],
   "source": [
    "search_compare(\"crypto scandal\")"
   ]
  },
  {
   "cell_type": "code",
   "execution_count": 42,
   "id": "b43cf988-e82b-4317-978e-f1c6129a8021",
   "metadata": {},
   "outputs": [
    {
     "name": "stdout",
     "output_type": "stream",
     "text": [
      "Processing embeddings: 100% (1/1)\n",
      "Done!\n",
      "Processing embeddings: 100% (1/1)\n",
      "Done!\n"
     ]
    },
    {
     "data": {
      "text/html": [
       "        <style>\n",
       "            .compare li {overflow-x:hidden;width:320px!important;text-align:left;height:200px;border-bottom:1px solid #333;}\n",
       "        </style>\n",
       "        <table class=\"compare\">\n",
       "            <tr><td>BM25</td><td>KNN</td><td>Hybrid (nlp-search-pipeline-equal)</td></tr>\n",
       "            <tr><td><h4>Showing 82 Results for <em>US economic recovery</em></h4><ol><li><b>Trump to herald economic progress in State of the Union</b>(23.450245)<br>Trump to herald economic progress in State of the Union<br><span style=\"font-size:0.8em\"><a href=\"https://www.taiwannews.com.tw/en/news/3354102\">https://www.taiwannews.com.tw/en/news/3354102</a></span></li><li><b>BC-US--Sugar, US</b>(14.562808)<br>BC-US--Sugar, US<br><span style=\"font-size:0.8em\"><a href=\"https://www.taiwannews.com.tw/en/news/3385764\">https://www.taiwannews.com.tw/en/news/3385764</a></span></li><li><b>BC-US--Gold, US</b>(14.562808)<br>BC-US--Gold, US<br><span style=\"font-size:0.8em\"><a href=\"https://www.taiwannews.com.tw/en/news/3354953\">https://www.taiwannews.com.tw/en/news/3354953</a></span></li><li><b>BC-US--Copper, US</b>(14.562808)<br>BC-US--Copper, US<br><span style=\"font-size:0.8em\"><a href=\"https://www.taiwannews.com.tw/en/news/3354438\">https://www.taiwannews.com.tw/en/news/3354438</a></span></li><li><b>BC-US--Cocoa, US</b>(14.562808)<br>BC-US--Cocoa, US<br><span style=\"font-size:0.8em\"><a href=\"https://www.taiwannews.com.tw/en/news/3385769\">https://www.taiwannews.com.tw/en/news/3385769</a></span></li></ol></td><td><h4>Showing 20 Results for <em>US economic recovery</em></h4><ol><li><b>Trump to herald economic progress in State of the Union</b>(0.8791541)<br>Trump to herald economic progress in State of the Union<br><span style=\"font-size:0.8em\"><a href=\"https://www.taiwannews.com.tw/en/news/3354102\">https://www.taiwannews.com.tw/en/news/3354102</a></span></li><li><b>How Fed hike will affect US consumers and overseas economies</b>(0.8613023)<br>How Fed hike will affect US consumers and overseas economies<br><span style=\"font-size:0.8em\"><a href=\"http://www.taiwannews.com.tw/en/news/3188359\">http://www.taiwannews.com.tw/en/news/3188359</a></span></li><li><b>Text of President Donald Trump's State of the Union address</b>(0.8606802)<br>Text of President Donald Trump's State of the Union address<br><span style=\"font-size:0.8em\"><a href=\"https://www.taiwannews.com.tw/en/news/3354631\">https://www.taiwannews.com.tw/en/news/3354631</a></span></li><li><b>BC-US--Index, US</b>(0.8571551)<br>BC-US--Index, US<br><span style=\"font-size:0.8em\"><a href=\"https://www.taiwannews.com.tw/en/news/3318227\">https://www.taiwannews.com.tw/en/news/3318227</a></span></li><li><b>AP NewsAlert</b>(0.85561657)<br>AP NewsAlert<br><span style=\"font-size:0.8em\"><a href=\"http://www.taiwannews.com.tw/en/news/3188148\">http://www.taiwannews.com.tw/en/news/3188148</a></span></li></ol></td><td><h4>Showing 10 Results for <em>US economic recovery</em></h4><ol><li><b>Trump to herald economic progress in State of the Union</b>(1.0)<br>Trump to herald economic progress in State of the Union<br><span style=\"font-size:0.8em\"><a href=\"https://www.taiwannews.com.tw/en/news/3354102\">https://www.taiwannews.com.tw/en/news/3354102</a></span></li><li><b>How Fed hike will affect US consumers and overseas economies</b>(0.3170116)<br>How Fed hike will affect US consumers and overseas economies<br><span style=\"font-size:0.8em\"><a href=\"http://www.taiwannews.com.tw/en/news/3188359\">http://www.taiwannews.com.tw/en/news/3188359</a></span></li><li><b>Text of President Donald Trump's State of the Union address</b>(0.31063485)<br>Text of President Donald Trump's State of the Union address<br><span style=\"font-size:0.8em\"><a href=\"https://www.taiwannews.com.tw/en/news/3354631\">https://www.taiwannews.com.tw/en/news/3354631</a></span></li><li><b>BC-US--Index, US</b>(0.27450064)<br>BC-US--Index, US<br><span style=\"font-size:0.8em\"><a href=\"https://www.taiwannews.com.tw/en/news/3318227\">https://www.taiwannews.com.tw/en/news/3318227</a></span></li><li><b>AP NewsAlert</b>(0.2587302)<br>AP NewsAlert<br><span style=\"font-size:0.8em\"><a href=\"http://www.taiwannews.com.tw/en/news/3188148\">http://www.taiwannews.com.tw/en/news/3188148</a></span></li></ol></td></tr>\n",
       "        </table>\n"
      ],
      "text/plain": [
       "\"        <style>\\n            .compare li {overflow-x:hidden;width:320px!important;text-align:left;height:200px;border-bottom:1px solid #333;}\\n        </style>\\n        <table class=\\\"compare\\\">\\n            <tr><td>BM25</td><td>KNN</td><td>Hybrid (nlp-search-pipeline-equal)</td></tr>\\n            <tr><td><h4>Showing 82 Results for <em>US economic recovery</em></h4><ol><li><b>Trump to herald economic progress in State of the Union</b>(23.450245)<br>Trump to herald economic progress in State of the Union<br><span style=\\\"font-size:0.8em\\\"><a href=\\\"https://www.taiwannews.com.tw/en/news/3354102\\\">https://www.taiwannews.com.tw/en/news/3354102</a></span></li><li><b>BC-US--Sugar, US</b>(14.562808)<br>BC-US--Sugar, US<br><span style=\\\"font-size:0.8em\\\"><a href=\\\"https://www.taiwannews.com.tw/en/news/3385764\\\">https://www.taiwannews.com.tw/en/news/3385764</a></span></li><li><b>BC-US--Gold, US</b>(14.562808)<br>BC-US--Gold, US<br><span style=\\\"font-size:0.8em\\\"><a href=\\\"https://www.taiwannews.com.tw/en/news/3354953\\\">https://www.taiwannews.com.tw/en/news/3354953</a></span></li><li><b>BC-US--Copper, US</b>(14.562808)<br>BC-US--Copper, US<br><span style=\\\"font-size:0.8em\\\"><a href=\\\"https://www.taiwannews.com.tw/en/news/3354438\\\">https://www.taiwannews.com.tw/en/news/3354438</a></span></li><li><b>BC-US--Cocoa, US</b>(14.562808)<br>BC-US--Cocoa, US<br><span style=\\\"font-size:0.8em\\\"><a href=\\\"https://www.taiwannews.com.tw/en/news/3385769\\\">https://www.taiwannews.com.tw/en/news/3385769</a></span></li></ol></td><td><h4>Showing 20 Results for <em>US economic recovery</em></h4><ol><li><b>Trump to herald economic progress in State of the Union</b>(0.8791541)<br>Trump to herald economic progress in State of the Union<br><span style=\\\"font-size:0.8em\\\"><a href=\\\"https://www.taiwannews.com.tw/en/news/3354102\\\">https://www.taiwannews.com.tw/en/news/3354102</a></span></li><li><b>How Fed hike will affect US consumers and overseas economies</b>(0.8613023)<br>How Fed hike will affect US consumers and overseas economies<br><span style=\\\"font-size:0.8em\\\"><a href=\\\"http://www.taiwannews.com.tw/en/news/3188359\\\">http://www.taiwannews.com.tw/en/news/3188359</a></span></li><li><b>Text of President Donald Trump's State of the Union address</b>(0.8606802)<br>Text of President Donald Trump's State of the Union address<br><span style=\\\"font-size:0.8em\\\"><a href=\\\"https://www.taiwannews.com.tw/en/news/3354631\\\">https://www.taiwannews.com.tw/en/news/3354631</a></span></li><li><b>BC-US--Index, US</b>(0.8571551)<br>BC-US--Index, US<br><span style=\\\"font-size:0.8em\\\"><a href=\\\"https://www.taiwannews.com.tw/en/news/3318227\\\">https://www.taiwannews.com.tw/en/news/3318227</a></span></li><li><b>AP NewsAlert</b>(0.85561657)<br>AP NewsAlert<br><span style=\\\"font-size:0.8em\\\"><a href=\\\"http://www.taiwannews.com.tw/en/news/3188148\\\">http://www.taiwannews.com.tw/en/news/3188148</a></span></li></ol></td><td><h4>Showing 10 Results for <em>US economic recovery</em></h4><ol><li><b>Trump to herald economic progress in State of the Union</b>(1.0)<br>Trump to herald economic progress in State of the Union<br><span style=\\\"font-size:0.8em\\\"><a href=\\\"https://www.taiwannews.com.tw/en/news/3354102\\\">https://www.taiwannews.com.tw/en/news/3354102</a></span></li><li><b>How Fed hike will affect US consumers and overseas economies</b>(0.3170116)<br>How Fed hike will affect US consumers and overseas economies<br><span style=\\\"font-size:0.8em\\\"><a href=\\\"http://www.taiwannews.com.tw/en/news/3188359\\\">http://www.taiwannews.com.tw/en/news/3188359</a></span></li><li><b>Text of President Donald Trump's State of the Union address</b>(0.31063485)<br>Text of President Donald Trump's State of the Union address<br><span style=\\\"font-size:0.8em\\\"><a href=\\\"https://www.taiwannews.com.tw/en/news/3354631\\\">https://www.taiwannews.com.tw/en/news/3354631</a></span></li><li><b>BC-US--Index, US</b>(0.27450064)<br>BC-US--Index, US<br><span style=\\\"font-size:0.8em\\\"><a href=\\\"https://www.taiwannews.com.tw/en/news/3318227\\\">https://www.taiwannews.com.tw/en/news/3318227</a></span></li><li><b>AP NewsAlert</b>(0.2587302)<br>AP NewsAlert<br><span style=\\\"font-size:0.8em\\\"><a href=\\\"http://www.taiwannews.com.tw/en/news/3188148\\\">http://www.taiwannews.com.tw/en/news/3188148</a></span></li></ol></td></tr>\\n        </table>\\n\""
      ]
     },
     "metadata": {},
     "output_type": "display_data"
    }
   ],
   "source": [
    "search_compare(\"US economic recovery\")"
   ]
  },
  {
   "cell_type": "code",
   "execution_count": null,
   "id": "2c1e4068-ef43-49cf-941a-cc6d9c5fb9b5",
   "metadata": {},
   "outputs": [],
   "source": []
  },
  {
   "cell_type": "code",
   "execution_count": null,
   "id": "cafdfe09-c7ce-4f67-8986-17c8b17136ec",
   "metadata": {},
   "outputs": [],
   "source": []
  },
  {
   "cell_type": "code",
   "execution_count": null,
   "id": "e8d4bfbf-45e9-4e97-aeed-7866ff58451e",
   "metadata": {},
   "outputs": [],
   "source": []
  },
  {
   "cell_type": "code",
   "execution_count": null,
   "id": "e958148e-775f-466f-9dbf-43a1d481fcf0",
   "metadata": {},
   "outputs": [],
   "source": []
  },
  {
   "cell_type": "code",
   "execution_count": null,
   "id": "311d2eb3-4017-4ba3-a886-d08878699a16",
   "metadata": {},
   "outputs": [],
   "source": []
  },
  {
   "cell_type": "code",
   "execution_count": null,
   "id": "0f7ed6f1-cb50-4465-86a6-63c6ab0d3191",
   "metadata": {},
   "outputs": [],
   "source": []
  },
  {
   "cell_type": "code",
   "execution_count": null,
   "id": "9443dd69",
   "metadata": {},
   "outputs": [],
   "source": []
  },
  {
   "cell_type": "code",
   "execution_count": null,
   "id": "f8015c6b",
   "metadata": {},
   "outputs": [],
   "source": []
  },
  {
   "cell_type": "code",
   "execution_count": null,
   "id": "e49b1c2f",
   "metadata": {},
   "outputs": [],
   "source": []
  },
  {
   "cell_type": "code",
   "execution_count": null,
   "id": "efbc5121",
   "metadata": {},
   "outputs": [],
   "source": []
  },
  {
   "cell_type": "code",
   "execution_count": null,
   "id": "39f4ab4b",
   "metadata": {},
   "outputs": [],
   "source": []
  },
  {
   "cell_type": "code",
   "execution_count": null,
   "id": "fcbc2f03",
   "metadata": {},
   "outputs": [],
   "source": []
  },
  {
   "cell_type": "code",
   "execution_count": null,
   "id": "45769477",
   "metadata": {},
   "outputs": [],
   "source": []
  }
 ],
 "metadata": {
  "kernelspec": {
   "display_name": "Ruby 3.1.3",
   "language": "ruby",
   "name": "ruby"
  },
  "language_info": {
   "file_extension": ".rb",
   "mimetype": "application/x-ruby",
   "name": "ruby",
   "version": "3.1.3"
  }
 },
 "nbformat": 4,
 "nbformat_minor": 5
}
