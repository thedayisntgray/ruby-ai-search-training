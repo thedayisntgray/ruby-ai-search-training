{
 "cells": [
  {
   "cell_type": "markdown",
   "id": "c7650ff2-108b-4bb4-b66a-d25b51ebf78b",
   "metadata": {},
   "source": [
    "# Lab 4 - Hybrid Search of title embeddings and full-text fields in Opensearch"
   ]
  },
  {
   "cell_type": "code",
   "execution_count": 1,
   "id": "55797adf-fda8-4ec2-aaf3-59c4345268ac",
   "metadata": {},
   "outputs": [
    {
     "data": {
      "text/plain": [
       "true"
      ]
     },
     "execution_count": 1,
     "metadata": {},
     "output_type": "execute_result"
    }
   ],
   "source": [
    "require 'opensearch'\n",
    "require 'transformers-rb'\n",
    "require 'tqdm'\n",
    "require 'date'\n",
    "require 'json'\n",
    "require 'polars-df'"
   ]
  },
  {
   "cell_type": "code",
   "execution_count": 2,
   "id": "5d7ac1d4-8c6f-4eec-94c6-c04e7c32559f",
   "metadata": {},
   "outputs": [
    {
     "name": "stdout",
     "output_type": "stream",
     "text": [
      "Welcome to opensearch 2.11.0!\n"
     ]
    }
   ],
   "source": [
    "# https://github.com/opensearch-project/opensearch-ruby\n",
    "host = 'ruby-opensearch-node'\n",
    "port = 9200\n",
    "\n",
    "$client = OpenSearch::Client.new(hosts: [{ host: host, port: port }])\n",
    "info = $client.info\n",
    "puts \"Welcome to #{info['version']['distribution']} #{info['version']['number']}!\""
   ]
  },
  {
   "cell_type": "markdown",
   "id": "a529604a-3130-4243-ac57-619fb1696490",
   "metadata": {},
   "source": [
    "## Use the same model and method to get the query embedding, with some defaults changed\n",
    "Remember, the model is `intfloat/e5-small-v2` and we need to prefix any query with 'query:'"
   ]
  },
  {
   "cell_type": "code",
   "execution_count": 3,
   "id": "54f0cdfa-f119-4b4f-b92e-a31e8c93329d",
   "metadata": {},
   "outputs": [
    {
     "data": {
      "text/plain": [
       ":get_embeddings"
      ]
     },
     "execution_count": 3,
     "metadata": {},
     "output_type": "execute_result"
    }
   ],
   "source": [
    "# The E5 models expect 'query:' and 'passage:' prefixes\n",
    "$model = Transformers.pipeline(\"embedding\", 'intfloat/e5-small-v2')\n",
    "\n",
    "def get_embeddings(texts, prefix: \"query: \", progress: false)\n",
    "  # puts texts\n",
    "  texts = [texts] unless texts.is_a?(Array)\n",
    "  total = texts.length\n",
    "  embeddings = []\n",
    "  \n",
    "  texts.each_with_index do |text, i|\n",
    "    prefixed_text = \"#{prefix}#{text}\"\n",
    "    embedding = $model.(prefixed_text)\n",
    "    embeddings << embedding\n",
    "    \n",
    "    if progress\n",
    "        percent = ((i + 1).to_f / total * 100).to_i\n",
    "        print \"\\rProcessing embeddings: #{percent}% (#{i + 1}/#{total})\"\n",
    "    end\n",
    "  end\n",
    "  if progress\n",
    "      print \"\\nDone!\\n\"\n",
    "  end\n",
    "  embeddings\n",
    "end"
   ]
  },
  {
   "cell_type": "markdown",
   "id": "a2f87da6-c9a3-4f05-ae81-701087ef0154",
   "metadata": {
    "tags": []
   },
   "source": [
    "## Define different query types\n",
    "Here we define Opensearch query bodies for:\n",
    " - BM25\n",
    " - KNN\n",
    " - Hybrid"
   ]
  },
  {
   "cell_type": "code",
   "execution_count": 4,
   "id": "3015a4dd-06d1-4508-a1d4-97edf64f968b",
   "metadata": {},
   "outputs": [
    {
     "data": {
      "text/plain": [
       ":get_bm25_body"
      ]
     },
     "execution_count": 4,
     "metadata": {},
     "output_type": "execute_result"
    }
   ],
   "source": [
    "def get_bm25_body(querystring)\n",
    "    {\n",
    "      \"query\" => {\n",
    "        \"bool\" => {\n",
    "          \"should\" => [\n",
    "            {\n",
    "              \"multi_match\" => {\n",
    "                \"query\" => querystring,\n",
    "                \"type\" => \"cross_fields\",\n",
    "                \"fields\" => [\"description\"],\n",
    "                \"boost\" => 1.0\n",
    "              }\n",
    "            },\n",
    "            {\n",
    "              \"multi_match\" => {\n",
    "                \"query\" => querystring,\n",
    "                \"type\" => \"cross_fields\",\n",
    "                \"fields\" => [\"title\"],\n",
    "                \"boost\" => 1.1\n",
    "              }\n",
    "            },\n",
    "            {\n",
    "              \"multi_match\" => {\n",
    "                \"query\" => querystring,\n",
    "                \"type\" => \"cross_fields\",\n",
    "                \"fields\" => [\"title_exactish\"],\n",
    "                \"boost\" => 1.2\n",
    "              }\n",
    "            }\n",
    "          ]\n",
    "        }\n",
    "      },\n",
    "      \"_source\" => {\"exclude\" => [\"title_embedding\"]}\n",
    "    }\n",
    "end"
   ]
  },
  {
   "cell_type": "code",
   "execution_count": 5,
   "id": "6abc76e2",
   "metadata": {},
   "outputs": [
    {
     "data": {
      "text/plain": [
       ":get_knn_body"
      ]
     },
     "execution_count": 5,
     "metadata": {},
     "output_type": "execute_result"
    }
   ],
   "source": [
    "def get_knn_body(querystring)\n",
    "    embeddings = get_embeddings(querystring)\n",
    "    {\n",
    "      \"query\" => {\n",
    "        \"bool\" => {\n",
    "          \"should\" => [\n",
    "            {\n",
    "              \"knn\" => {\n",
    "                \"title_embedding\" => {\n",
    "                  \"vector\" => embeddings[0],\n",
    "                  \"k\" => 20\n",
    "                }\n",
    "              }\n",
    "            }\n",
    "          ]\n",
    "        }\n",
    "      },\n",
    "      \"_source\" => {\"exclude\" => [\"title_embedding\"]}\n",
    "    }\n",
    "end"
   ]
  },
  {
   "cell_type": "markdown",
   "id": "c83d8993-83e8-4799-a8aa-def7783df430",
   "metadata": {
    "tags": []
   },
   "source": [
    "## Hybrid Query"
   ]
  },
  {
   "cell_type": "code",
   "execution_count": 6,
   "id": "264b98ec",
   "metadata": {},
   "outputs": [
    {
     "data": {
      "text/plain": [
       ":get_hybrid_body"
      ]
     },
     "execution_count": 6,
     "metadata": {},
     "output_type": "execute_result"
    }
   ],
   "source": [
    "def get_hybrid_body(querystring)\n",
    "    embeddings = get_embeddings(querystring)\n",
    "    {\n",
    "      \"query\" => {\n",
    "        \"hybrid\" => {\n",
    "          \"queries\" => [\n",
    "            {\n",
    "              \"bool\" => {\n",
    "                \"should\" => [\n",
    "                  {\n",
    "                    \"multi_match\" => {\n",
    "                      \"query\" => querystring,\n",
    "                      \"type\" => \"cross_fields\",\n",
    "                      \"fields\" => [\"description\"],\n",
    "                      \"boost\" => 1.0\n",
    "                    }\n",
    "                  },\n",
    "                  {\n",
    "                    \"multi_match\" => {\n",
    "                      \"query\" => querystring,\n",
    "                      \"type\" => \"cross_fields\",\n",
    "                      \"fields\" => [\"title\"],\n",
    "                      \"boost\" => 1.1\n",
    "                    }\n",
    "                  },\n",
    "                  {\n",
    "                    \"multi_match\" => {\n",
    "                      \"query\" => querystring,\n",
    "                      \"type\" => \"cross_fields\",\n",
    "                      \"fields\" => [\"title_exactish\"],\n",
    "                      \"boost\" => 1.2\n",
    "                    }\n",
    "                  }\n",
    "                ]\n",
    "              }        \n",
    "            },\n",
    "            {\n",
    "              \"knn\" => {\n",
    "                \"title_embedding\" => {\n",
    "                  \"vector\" => embeddings[0],\n",
    "                  \"k\" => 100\n",
    "                }\n",
    "              }\n",
    "            }\n",
    "          ]\n",
    "        }\n",
    "      },\n",
    "      \"_source\" => {\"exclude\" => [\"title_embedding\"]}\n",
    "    }\n",
    "end"
   ]
  },
  {
   "cell_type": "code",
   "execution_count": 19,
   "id": "67e1460e-cebc-4b3e-aa0d-c0ad3ea38f61",
   "metadata": {},
   "outputs": [
    {
     "data": {
      "text/plain": [
       ":serps"
      ]
     },
     "execution_count": 19,
     "metadata": {},
     "output_type": "execute_result"
    }
   ],
   "source": [
    "def serps(querystring, resp, k: 5, show: true)\n",
    "    # this doesn't match the value in the other notebook.\n",
    "    count = resp[\"hits\"][\"total\"][\"value\"]\n",
    "    results = resp[\"hits\"][\"hits\"]\n",
    "    \n",
    "    html_str = \"<h4>Showing #{count} Results for <em>#{querystring}</em></h4><ol>\"\n",
    "    \n",
    "    results[0...k].each do |result|\n",
    "        score = result[\"_score\"]\n",
    "        title = result[\"_source\"][\"title\"] || \"No title\"\n",
    "        url = result[\"_source\"][\"url\"] || \"No URL\"\n",
    "        description = result[\"_source\"][\"description\"]\n",
    "        text = result[\"_source\"][\"text\"] || \"\"\n",
    "        snippet = description || \"#{text[0...140]}...\"\n",
    "        \n",
    "        html_str += \"<li><b>#{title}</b>(#{score})<br>#{snippet}<br>\"\n",
    "        html_str += \"<span style=\\\"font-size:0.8em\\\"><a href=\\\"#{url}\\\">#{url}</a></span></li>\"\n",
    "    end\n",
    "    \n",
    "    html_str += \"</ol>\"\n",
    "    \n",
    "    if show\n",
    "        IRuby.display(IRuby.html(html_str))\n",
    "    else\n",
    "        html_str\n",
    "    end\n",
    "end"
   ]
  },
  {
   "cell_type": "code",
   "execution_count": 8,
   "id": "dde0a0be-5db8-4025-9fd0-4528eda8af09",
   "metadata": {},
   "outputs": [
    {
     "data": {
      "text/plain": [
       ":make_normalization_pipeline"
      ]
     },
     "execution_count": 8,
     "metadata": {},
     "output_type": "execute_result"
    }
   ],
   "source": [
    "def make_normalization_pipeline(name, bm25_weight: 0.5, knn_weight: 0.5)\n",
    "  body = {\n",
    "    \"description\" => \"Post processor for hybrid search with bm25=#{bm25_weight} and knn=#{knn_weight}\",\n",
    "    \"phase_results_processors\" => [\n",
    "      {\n",
    "        \"normalization-processor\" => {\n",
    "          \"normalization\" => {\n",
    "            \"technique\" => \"min_max\"\n",
    "          },\n",
    "          \"combination\" => {\n",
    "            \"technique\" => \"arithmetic_mean\",\n",
    "            \"parameters\" => {\n",
    "              \"weights\" => [\n",
    "                bm25_weight,\n",
    "                knn_weight\n",
    "              ]\n",
    "            }\n",
    "          }\n",
    "        }\n",
    "      }\n",
    "    ]\n",
    "  }\n",
    "  \n",
    "  # Changed to use positional parameters instead of named parameters\n",
    "  resp = $client.transport.perform_request(\n",
    "    \"PUT\",                              # method\n",
    "    \"/_search/pipeline/#{name}\",        # path\n",
    "    {},                                 # params\n",
    "    body                                # body\n",
    "  )\n",
    "end"
   ]
  },
  {
   "cell_type": "code",
   "execution_count": 9,
   "id": "e29ce076-de23-4c10-9df0-87601f9ebb58",
   "metadata": {},
   "outputs": [
    {
     "data": {
      "text/plain": [
       "#<OpenSearch::Transport::Transport::Response:0x0000004039be6620 @status=200, @body={\"acknowledged\"=>true}, @headers={\"content-type\"=>\"application/json; charset=UTF-8\", \"content-encoding\"=>\"gzip\", \"content-length\"=>\"47\"}>"
      ]
     },
     "execution_count": 9,
     "metadata": {},
     "output_type": "execute_result"
    }
   ],
   "source": [
    "make_normalization_pipeline(\"nlp-search-pipeline-equal\", bm25_weight: 0.5, knn_weight: 0.5)\n",
    "make_normalization_pipeline(\"nlp-search-pipeline-bm25-heavy\", bm25_weight: 0.6, knn_weight: 0.4)\n",
    "make_normalization_pipeline(\"nlp-search-pipeline-knn-heavy\", bm25_weight: 0.4, knn_weight: 0.6)"
   ]
  },
  {
   "cell_type": "code",
   "execution_count": 20,
   "id": "94e2d15c-c887-413e-8d93-bccdcac8ce2d",
   "metadata": {},
   "outputs": [
    {
     "data": {
      "text/plain": [
       ":search_hybrid"
      ]
     },
     "execution_count": 20,
     "metadata": {},
     "output_type": "execute_result"
    }
   ],
   "source": [
    "def search(querystring, body, pipeline: \"nlp-search-pipeline-equal\", show: true)\n",
    "  resp = $client.search({\n",
    "    index: \"ai-search\",\n",
    "    body: body,\n",
    "    search_pipeline: pipeline  # Moved from params into main options hash\n",
    "  })\n",
    "  serps(querystring, resp) if show\n",
    "  resp\n",
    "end\n",
    "\n",
    "def search_bm25(querystring, show: true)\n",
    "    body = get_bm25_body(querystring)\n",
    "    search(querystring, body, show: show)\n",
    "end\n",
    "\n",
    "def search_knn(querystring, show: true)\n",
    "    body = get_knn_body(querystring)\n",
    "    search(querystring, body, show: show)\n",
    "end\n",
    "\n",
    "# def search_hybrid(querystring, pipeline: \"nlp-search-pipeline-equal\", show: true)\n",
    "#     body = get_hybrid_body(querystring)\n",
    "#     search(querystring, body, pipeline: pipeline, show: show)\n",
    "# end\n",
    "\n",
    "def search_hybrid(querystring, pipeline: \"nlp-search-pipeline-equal\", show: true)\n",
    "  body = get_hybrid_body(querystring)\n",
    "  search(querystring, body, pipeline: pipeline, show: show)\n",
    "end"
   ]
  },
  {
   "cell_type": "code",
   "execution_count": 23,
   "id": "d2628c3e-a3c2-4ff2-a3dc-f976a74d15e0",
   "metadata": {
    "scrolled": true
   },
   "outputs": [
    {
     "data": {
      "text/html": [
       "<h4>Showing 10 Results for <em>crypto scandal</em></h4><ol><li><b>AP Explains: Why are crypto exchanges vulnerable to hacks?</b>(0.5)<br>AP Explains: Why are crypto exchanges vulnerable to hacks?<br><span style=\"font-size:0.8em\"><a href=\"https://www.taiwannews.com.tw/en/news/3353987\">https://www.taiwannews.com.tw/en/news/3353987</a></span></li><li><b>Bitcoin, other cryptocurrencies plunge on wave of bad news</b>(0.5)<br>Google said it will ban cryptocurrency-related ads, the IMF called for global regulation and members of Congress slammed them at a hearing Wednesday.<br><span style=\"font-size:0.8em\"><a href=\"https://www.nbcnews.com/tech/tech-news/bitcoin-other-cryptocurrencies-plunge-wave-bad-news-n856821?cid=public-rss_20180320\">https://www.nbcnews.com/tech/tech-news/bitcoin-other-cryptocurrencies-plunge-wave-bad-news-n856821?cid=public-rss_20180320</a></span></li><li><b>‘Fraud.’ ‘More than a fad.’ The words Wall Street CEOs are using to describe bitcoin</b>(0.4570444)<br>Seems not a day goes by without some Wall Street VIP or financial luminary deciding it’s time for them to weigh in on bitcoin and cryptocurrencies. Here’s a roundup of the latest high-profile statements.<br><span style=\"font-size:0.8em\"><a href=\"http://www.marketwatch.com/story/fraud-or-the-future-how-bitcoin-is-being-described-by-billionaires-and-wall-street-ceos-2017-10-05?siteid=rss&rss=1\">http://www.marketwatch.com/story/fraud-or-the-future-how-bitcoin-is-being-described-by-billionaires-and-wall-street-ceos-2017-10-05?siteid=rss&rss=1</a></span></li><li><b>First U.S. cryptocurrency ban outlaws Venezuela’s ‘Petro’ coin</b>(0.45533127)<br>The U.S. executive branch has issued an executive order prohibiting the use or purchase of Venezuela's Petro cryptocurrency.<br><span style=\"font-size:0.8em\"><a href=\"https://www.digitaltrends.com/computing/us-bans-petro-cryptocurrency/\">https://www.digitaltrends.com/computing/us-bans-petro-cryptocurrency/</a></span></li><li><b>Trump bans US use of Venezuelan cryptocurrency - WAFB 9 News Baton Rouge, Louisiana News, Weather, Sports</b>(0.45388967)<br><br><span style=\"font-size:0.8em\"><a href=\"http://www.wafb.com/story/37757576/trump-bans-us-use-of-venezuelan-cryptocurrency\">http://www.wafb.com/story/37757576/trump-bans-us-use-of-venezuelan-cryptocurrency</a></span></li></ol>"
      ],
      "text/plain": [
       "\"<h4>Showing 10 Results for <em>crypto scandal</em></h4><ol><li><b>AP Explains: Why are crypto exchanges vulnerable to hacks?</b>(0.5)<br>AP Explains: Why are crypto exchanges vulnerable to hacks?<br><span style=\\\"font-size:0.8em\\\"><a href=\\\"https://www.taiwannews.com.tw/en/news/3353987\\\">https://www.taiwannews.com.tw/en/news/3353987</a></span></li><li><b>Bitcoin, other cryptocurrencies plunge on wave of bad news</b>(0.5)<br>Google said it will ban cryptocurrency-related ads, the IMF called for global regulation and members of Congress slammed them at a hearing Wednesday.<br><span style=\\\"font-size:0.8em\\\"><a href=\\\"https://www.nbcnews.com/tech/tech-news/bitcoin-other-cryptocurrencies-plunge-wave-bad-news-n856821?cid=public-rss_20180320\\\">https://www.nbcnews.com/tech/tech-news/bitcoin-other-cryptocurrencies-plunge-wave-bad-news-n856821?cid=public-rss_20180320</a></span></li><li><b>‘Fraud.’ ‘More than a fad.’ The words Wall Street CEOs are using to describe bitcoin</b>(0.4570444)<br>Seems not a day goes by without some Wall Street VIP or financial luminary deciding it’s time for them to weigh in on bitcoin and cryptocurrencies. Here’s a roundup of the latest high-profile statements.<br><span style=\\\"font-size:0.8em\\\"><a href=\\\"http://www.marketwatch.com/story/fraud-or-the-future-how-bitcoin-is-being-described-by-billionaires-and-wall-street-ceos-2017-10-05?siteid=rss&rss=1\\\">http://www.marketwatch.com/story/fraud-or-the-future-how-bitcoin-is-being-described-by-billionaires-and-wall-street-ceos-2017-10-05?siteid=rss&rss=1</a></span></li><li><b>First U.S. cryptocurrency ban outlaws Venezuela’s ‘Petro’ coin</b>(0.45533127)<br>The U.S. executive branch has issued an executive order prohibiting the use or purchase of Venezuela's Petro cryptocurrency.<br><span style=\\\"font-size:0.8em\\\"><a href=\\\"https://www.digitaltrends.com/computing/us-bans-petro-cryptocurrency/\\\">https://www.digitaltrends.com/computing/us-bans-petro-cryptocurrency/</a></span></li><li><b>Trump bans US use of Venezuelan cryptocurrency - WAFB 9 News Baton Rouge, Louisiana News, Weather, Sports</b>(0.45388967)<br><br><span style=\\\"font-size:0.8em\\\"><a href=\\\"http://www.wafb.com/story/37757576/trump-bans-us-use-of-venezuelan-cryptocurrency\\\">http://www.wafb.com/story/37757576/trump-bans-us-use-of-venezuelan-cryptocurrency</a></span></li></ol>\""
      ]
     },
     "metadata": {},
     "output_type": "display_data"
    }
   ],
   "source": [
    "resp = search_hybrid(\"crypto scandal\")\n",
    "nil"
   ]
  },
  {
   "cell_type": "code",
   "execution_count": 24,
   "id": "afd2a29b-a0d1-46aa-947e-85d6e8e37874",
   "metadata": {},
   "outputs": [
    {
     "data": {
      "text/html": [
       "<h4>Showing 164 Results for <em>crypto scandal</em></h4><ol><li><b>AP Explains: Why are crypto exchanges vulnerable to hacks?</b>(29.908903)<br>AP Explains: Why are crypto exchanges vulnerable to hacks?<br><span style=\"font-size:0.8em\"><a href=\"https://www.taiwannews.com.tw/en/news/3353987\">https://www.taiwannews.com.tw/en/news/3353987</a></span></li><li><b>Bitcoin loses more than half its value amid crypto crash</b>(26.140495)<br>After stratospheric growth, Bitcoin crashed below $8,000 for the first time in months amid a continuing global crypto rout.<br><span style=\"font-size:0.8em\"><a href=\"https://www.nbcnews.com/tech/internet/bitcoin-loses-more-half-its-value-amid-crypto-crash-n844056?cid=public-rss_20180202\">https://www.nbcnews.com/tech/internet/bitcoin-loses-more-half-its-value-amid-crypto-crash-n844056?cid=public-rss_20180202</a></span></li><li><b>Bitcoin loses more than half its value amid crypto crash</b>(26.140495)<br>After stratospheric growth, Bitcoin crashed below $8,000 for the first time in months amid a continuing global crypto rout.<br><span style=\"font-size:0.8em\"><a href=\"https://www.nbcnews.com/tech/internet/bitcoin-loses-more-half-its-value-amid-crypto-crash-n844056?cid=public-rss_20180204\">https://www.nbcnews.com/tech/internet/bitcoin-loses-more-half-its-value-amid-crypto-crash-n844056?cid=public-rss_20180204</a></span></li><li><b>Bitcoin loses more than half its value amid crypto crash</b>(26.140495)<br>After stratospheric growth, Bitcoin crashed below $8,000 for the first time in months amid a continuing global crypto rout.<br><span style=\"font-size:0.8em\"><a href=\"https://www.nbcnews.com/tech/internet/bitcoin-loses-more-half-its-value-amid-crypto-crash-n844056?cid=public-rss_20180203\">https://www.nbcnews.com/tech/internet/bitcoin-loses-more-half-its-value-amid-crypto-crash-n844056?cid=public-rss_20180203</a></span></li><li><b>Timeline: Irish Olympic ticket-sale scandal</b>(24.739798)<br>Timeline of events in the Rio Olympics illegal ticket-sale scandal.<br><span style=\"font-size:0.8em\"><a href=\"http://www.bbc.com/news/world-europe-37156930\">http://www.bbc.com/news/world-europe-37156930</a></span></li></ol>"
      ],
      "text/plain": [
       "\"<h4>Showing 164 Results for <em>crypto scandal</em></h4><ol><li><b>AP Explains: Why are crypto exchanges vulnerable to hacks?</b>(29.908903)<br>AP Explains: Why are crypto exchanges vulnerable to hacks?<br><span style=\\\"font-size:0.8em\\\"><a href=\\\"https://www.taiwannews.com.tw/en/news/3353987\\\">https://www.taiwannews.com.tw/en/news/3353987</a></span></li><li><b>Bitcoin loses more than half its value amid crypto crash</b>(26.140495)<br>After stratospheric growth, Bitcoin crashed below $8,000 for the first time in months amid a continuing global crypto rout.<br><span style=\\\"font-size:0.8em\\\"><a href=\\\"https://www.nbcnews.com/tech/internet/bitcoin-loses-more-half-its-value-amid-crypto-crash-n844056?cid=public-rss_20180202\\\">https://www.nbcnews.com/tech/internet/bitcoin-loses-more-half-its-value-amid-crypto-crash-n844056?cid=public-rss_20180202</a></span></li><li><b>Bitcoin loses more than half its value amid crypto crash</b>(26.140495)<br>After stratospheric growth, Bitcoin crashed below $8,000 for the first time in months amid a continuing global crypto rout.<br><span style=\\\"font-size:0.8em\\\"><a href=\\\"https://www.nbcnews.com/tech/internet/bitcoin-loses-more-half-its-value-amid-crypto-crash-n844056?cid=public-rss_20180204\\\">https://www.nbcnews.com/tech/internet/bitcoin-loses-more-half-its-value-amid-crypto-crash-n844056?cid=public-rss_20180204</a></span></li><li><b>Bitcoin loses more than half its value amid crypto crash</b>(26.140495)<br>After stratospheric growth, Bitcoin crashed below $8,000 for the first time in months amid a continuing global crypto rout.<br><span style=\\\"font-size:0.8em\\\"><a href=\\\"https://www.nbcnews.com/tech/internet/bitcoin-loses-more-half-its-value-amid-crypto-crash-n844056?cid=public-rss_20180203\\\">https://www.nbcnews.com/tech/internet/bitcoin-loses-more-half-its-value-amid-crypto-crash-n844056?cid=public-rss_20180203</a></span></li><li><b>Timeline: Irish Olympic ticket-sale scandal</b>(24.739798)<br>Timeline of events in the Rio Olympics illegal ticket-sale scandal.<br><span style=\\\"font-size:0.8em\\\"><a href=\\\"http://www.bbc.com/news/world-europe-37156930\\\">http://www.bbc.com/news/world-europe-37156930</a></span></li></ol>\""
      ]
     },
     "metadata": {},
     "output_type": "display_data"
    }
   ],
   "source": [
    "resp = search_bm25(\"crypto scandal\")\n",
    "nil"
   ]
  },
  {
   "cell_type": "code",
   "execution_count": 25,
   "id": "cb740118-62e6-408d-a72a-50cabb594a35",
   "metadata": {},
   "outputs": [
    {
     "data": {
      "text/html": [
       "<h4>Showing 460 Results for <em>crypto scandal</em></h4><ol><li><b>Bitcoin, other cryptocurrencies plunge on wave of bad news</b>(0.8700277)<br>Google said it will ban cryptocurrency-related ads, the IMF called for global regulation and members of Congress slammed them at a hearing Wednesday.<br><span style=\"font-size:0.8em\"><a href=\"https://www.nbcnews.com/tech/tech-news/bitcoin-other-cryptocurrencies-plunge-wave-bad-news-n856821?cid=public-rss_20180320\">https://www.nbcnews.com/tech/tech-news/bitcoin-other-cryptocurrencies-plunge-wave-bad-news-n856821?cid=public-rss_20180320</a></span></li><li><b>‘Fraud.’ ‘More than a fad.’ The words Wall Street CEOs are using to describe bitcoin</b>(0.8627867)<br>Seems not a day goes by without some Wall Street VIP or financial luminary deciding it’s time for them to weigh in on bitcoin and cryptocurrencies. Here’s a roundup of the latest high-profile statements.<br><span style=\"font-size:0.8em\"><a href=\"http://www.marketwatch.com/story/fraud-or-the-future-how-bitcoin-is-being-described-by-billionaires-and-wall-street-ceos-2017-10-05?siteid=rss&rss=1\">http://www.marketwatch.com/story/fraud-or-the-future-how-bitcoin-is-being-described-by-billionaires-and-wall-street-ceos-2017-10-05?siteid=rss&rss=1</a></span></li><li><b>First U.S. cryptocurrency ban outlaws Venezuela’s ‘Petro’ coin</b>(0.8624979)<br>The U.S. executive branch has issued an executive order prohibiting the use or purchase of Venezuela's Petro cryptocurrency.<br><span style=\"font-size:0.8em\"><a href=\"https://www.digitaltrends.com/computing/us-bans-petro-cryptocurrency/\">https://www.digitaltrends.com/computing/us-bans-petro-cryptocurrency/</a></span></li><li><b>Trump bans US use of Venezuelan cryptocurrency - WAFB 9 News Baton Rouge, Louisiana News, Weather, Sports</b>(0.8622549)<br><br><span style=\"font-size:0.8em\"><a href=\"http://www.wafb.com/story/37757576/trump-bans-us-use-of-venezuelan-cryptocurrency\">http://www.wafb.com/story/37757576/trump-bans-us-use-of-venezuelan-cryptocurrency</a></span></li><li><b>Equifax executive hit with insider trading charge for selling stock before data breach went public</b>(0.86135316)<br>A former executive for Equifax is facing criminal and anti-fraud charges after selling stock options before the company went public with the megabreach.<br><span style=\"font-size:0.8em\"><a href=\"https://www.nbcnews.com/business/business-news/equifax-executive-hit-insider-trading-charge-selling-stock-data-breach-n856601?cid=public-rss_20180320\">https://www.nbcnews.com/business/business-news/equifax-executive-hit-insider-trading-charge-selling-stock-data-breach-n856601?cid=public-rss_20180320</a></span></li></ol>"
      ],
      "text/plain": [
       "\"<h4>Showing 460 Results for <em>crypto scandal</em></h4><ol><li><b>Bitcoin, other cryptocurrencies plunge on wave of bad news</b>(0.8700277)<br>Google said it will ban cryptocurrency-related ads, the IMF called for global regulation and members of Congress slammed them at a hearing Wednesday.<br><span style=\\\"font-size:0.8em\\\"><a href=\\\"https://www.nbcnews.com/tech/tech-news/bitcoin-other-cryptocurrencies-plunge-wave-bad-news-n856821?cid=public-rss_20180320\\\">https://www.nbcnews.com/tech/tech-news/bitcoin-other-cryptocurrencies-plunge-wave-bad-news-n856821?cid=public-rss_20180320</a></span></li><li><b>‘Fraud.’ ‘More than a fad.’ The words Wall Street CEOs are using to describe bitcoin</b>(0.8627867)<br>Seems not a day goes by without some Wall Street VIP or financial luminary deciding it’s time for them to weigh in on bitcoin and cryptocurrencies. Here’s a roundup of the latest high-profile statements.<br><span style=\\\"font-size:0.8em\\\"><a href=\\\"http://www.marketwatch.com/story/fraud-or-the-future-how-bitcoin-is-being-described-by-billionaires-and-wall-street-ceos-2017-10-05?siteid=rss&rss=1\\\">http://www.marketwatch.com/story/fraud-or-the-future-how-bitcoin-is-being-described-by-billionaires-and-wall-street-ceos-2017-10-05?siteid=rss&rss=1</a></span></li><li><b>First U.S. cryptocurrency ban outlaws Venezuela’s ‘Petro’ coin</b>(0.8624979)<br>The U.S. executive branch has issued an executive order prohibiting the use or purchase of Venezuela's Petro cryptocurrency.<br><span style=\\\"font-size:0.8em\\\"><a href=\\\"https://www.digitaltrends.com/computing/us-bans-petro-cryptocurrency/\\\">https://www.digitaltrends.com/computing/us-bans-petro-cryptocurrency/</a></span></li><li><b>Trump bans US use of Venezuelan cryptocurrency - WAFB 9 News Baton Rouge, Louisiana News, Weather, Sports</b>(0.8622549)<br><br><span style=\\\"font-size:0.8em\\\"><a href=\\\"http://www.wafb.com/story/37757576/trump-bans-us-use-of-venezuelan-cryptocurrency\\\">http://www.wafb.com/story/37757576/trump-bans-us-use-of-venezuelan-cryptocurrency</a></span></li><li><b>Equifax executive hit with insider trading charge for selling stock before data breach went public</b>(0.86135316)<br>A former executive for Equifax is facing criminal and anti-fraud charges after selling stock options before the company went public with the megabreach.<br><span style=\\\"font-size:0.8em\\\"><a href=\\\"https://www.nbcnews.com/business/business-news/equifax-executive-hit-insider-trading-charge-selling-stock-data-breach-n856601?cid=public-rss_20180320\\\">https://www.nbcnews.com/business/business-news/equifax-executive-hit-insider-trading-charge-selling-stock-data-breach-n856601?cid=public-rss_20180320</a></span></li></ol>\""
      ]
     },
     "metadata": {},
     "output_type": "display_data"
    }
   ],
   "source": [
    "resp = search_knn(\"crypto scandal\")\n",
    "nil"
   ]
  },
  {
   "cell_type": "code",
   "execution_count": 26,
   "id": "ea2badae-f6d1-4713-a3ce-de39a1148fda",
   "metadata": {},
   "outputs": [
    {
     "data": {
      "text/plain": [
       ":search_compare"
      ]
     },
     "execution_count": 26,
     "metadata": {},
     "output_type": "execute_result"
    }
   ],
   "source": [
    "def search_compare(querystring, pipeline: \"nlp-search-pipeline-equal\")\n",
    "    bm25 = serps(querystring, search_bm25(querystring, show: false), k: 5, show: false)\n",
    "    knn = serps(querystring, search_knn(querystring, show: false), k: 5, show: false)\n",
    "    hybrid = serps(querystring, search_hybrid(querystring, pipeline: pipeline, show: false), k: 5, show: false)\n",
    "    \n",
    "    html_all = <<-HTML\n",
    "        <style>\n",
    "            .compare li {overflow-x:hidden;width:320px!important;text-align:left;height:200px;border-bottom:1px solid #333;}\n",
    "        </style>\n",
    "        <table class=\"compare\">\n",
    "            <tr><td>BM25</td><td>KNN</td><td>Hybrid (#{pipeline})</td></tr>\n",
    "            <tr><td>#{bm25}</td><td>#{knn}</td><td>#{hybrid}</td></tr>\n",
    "        </table>\n",
    "    HTML\n",
    "    \n",
    "    IRuby.display(IRuby.html(html_all))\n",
    "end"
   ]
  },
  {
   "cell_type": "code",
   "execution_count": 27,
   "id": "924d0dec-bef5-449c-a5c7-fc93551409ba",
   "metadata": {},
   "outputs": [
    {
     "data": {
      "text/html": [
       "        <style>\n",
       "            .compare li {overflow-x:hidden;width:320px!important;text-align:left;height:200px;border-bottom:1px solid #333;}\n",
       "        </style>\n",
       "        <table class=\"compare\">\n",
       "            <tr><td>BM25</td><td>KNN</td><td>Hybrid (nlp-search-pipeline-equal)</td></tr>\n",
       "            <tr><td><h4>Showing 697 Results for <em>property market</em></h4><ol><li><b>RICS: Property prices rise</b>(28.265703)<br>Property prices in Cyprus rose in the fourth quarter of 2017, according to RICS' latest Cyprus Property Price Index. Across Cyprus, residential prices for both houses and flats increased on...<br><span style=\"font-size:0.8em\"><a href=\"http://in-cyprus.com/news/business/rics-property-prices-rise/\">http://in-cyprus.com/news/business/rics-property-prices-rise/</a></span></li><li><b>UPDATE: Missing man found on Amamoor property</b>(25.928907)<br>Police searched property late last night.<br><span style=\"font-size:0.8em\"><a href=\"https://www.gympietimes.com.au/news/update-missing-man-found-on-amamoor-property/3212441/\">https://www.gympietimes.com.au/news/update-missing-man-found-on-amamoor-property/3212441/</a></span></li><li><b>Wisconsin property owners appeal ruling in Foxconn lawsuit</b>(24.80427)<br>Wisconsin property owners appeal ruling in Foxconn lawsuit<br><span style=\"font-size:0.8em\"><a href=\"https://www.taiwannews.com.tw/en/news/3444470\">https://www.taiwannews.com.tw/en/news/3444470</a></span></li><li><b>Emerging threats in intellectual property crime</b>(24.485075)<br>Experts from across Europe are meeting at the Scottish Police College to discuss the emerging threats in intellectual property crime particularly the illegal use of Internet protocol television (IPTV).<br><span style=\"font-size:0.8em\"><a href=\"http://www.motherwelltimes.co.uk/news/crime/emerging-threats-in-intellectual-property-crime-1-4422203\">http://www.motherwelltimes.co.uk/news/crime/emerging-threats-in-intellectual-property-crime-1-4422203</a></span></li><li><b>Miami police officer charged with Costa Rica property fraud</b>(23.778606)<br>Miami police officer charged with Costa Rica property fraud<br><span style=\"font-size:0.8em\"><a href=\"https://www.taiwannews.com.tw/en/news/3354451\">https://www.taiwannews.com.tw/en/news/3354451</a></span></li></ol></td><td><h4>Showing 460 Results for <em>property market</em></h4><ol><li><b>Prices and homes listed up, sales down in Metro Vancouver real estate market</b>(0.8641509)<br>VANCOUVER — The supply of homes in Metro Vancouver’s real estate market hit a three-year high as sales dipped below historical averages last month.The Real Estate Board of Greater Vancouver reports there were 2,425 home sales last month, a 37.7 per cent decline from June 2017.<br><span style=\"font-size:0.8em\"><a href=\"https://nationalpost.com/pmn/news-pmn/canada-news-pmn/prices-and-homes-listed-up-sales-down-in-metro-vancouver-real-estate-market\">https://nationalpost.com/pmn/news-pmn/canada-news-pmn/prices-and-homes-listed-up-sales-down-in-metro-vancouver-real-estate-market</a></span></li><li><b>Given strong Tampa Bay housing market, is it better to rent or buy?</b>(0.86327225)<br>There's a simple formula to help you determine whether it makes more sense to rent or buy a home in the Tampa Bay area.<br><span style=\"font-size:0.8em\"><a href=\"http://wfla.com/2017/02/15/given-strong-tampa-bay-housing-market-is-it-better-to-rent-or-buy/\">http://wfla.com/2017/02/15/given-strong-tampa-bay-housing-market-is-it-better-to-rent-or-buy/</a></span></li><li><b>Feb. home prices soar 6.3 pct in a fierce competition to buy - WAFB 9 News Baton Rouge, Louisiana News, Weather, Sports</b>(0.8600733)<br><br><span style=\"font-size:0.8em\"><a href=\"http://www.wafb.com/story/38027558/feb-home-prices-soar-63-pct-in-a-fierce-competition-to-buy\">http://www.wafb.com/story/38027558/feb-home-prices-soar-63-pct-in-a-fierce-competition-to-buy</a></span></li><li><b>What’s On Listings 31 May-6 Jun</b>(0.85672295)<br>To announce an event or gig, call 01772 838196 or email whatson@lep.co.uk<br><span style=\"font-size:0.8em\"><a href=\"https://www.lep.co.uk/whats-on/what-s-on-listings-31-may-6-jun-1-9185417\">https://www.lep.co.uk/whats-on/what-s-on-listings-31-may-6-jun-1-9185417</a></span></li><li><b>The most ‘ingenious’ real estate deals in New York City</b>(0.8559661)<br>Each spring, commercial real estate pros vie for the Real Estate Board of New York’s Most Ingenious Deal of the Year Awards.\n",
       "For the 73rd annual contest, the...<br><span style=\"font-size:0.8em\"><a href=\"https://nypost.com/2018/03/19/the-most-ingenious-real-estate-deals-in-new-york-city/\">https://nypost.com/2018/03/19/the-most-ingenious-real-estate-deals-in-new-york-city/</a></span></li></ol></td><td><h4>Showing 10 Results for <em>property market</em></h4><ol><li><b>Prices and homes listed up, sales down in Metro Vancouver real estate market</b>(0.5)<br>VANCOUVER — The supply of homes in Metro Vancouver’s real estate market hit a three-year high as sales dipped below historical averages last month.The Real Estate Board of Greater Vancouver reports there were 2,425 home sales last month, a 37.7 per cent decline from June 2017.<br><span style=\"font-size:0.8em\"><a href=\"https://nationalpost.com/pmn/news-pmn/canada-news-pmn/prices-and-homes-listed-up-sales-down-in-metro-vancouver-real-estate-market\">https://nationalpost.com/pmn/news-pmn/canada-news-pmn/prices-and-homes-listed-up-sales-down-in-metro-vancouver-real-estate-market</a></span></li><li><b>RICS: Property prices rise</b>(0.5)<br>Property prices in Cyprus rose in the fourth quarter of 2017, according to RICS' latest Cyprus Property Price Index. Across Cyprus, residential prices for both houses and flats increased on...<br><span style=\"font-size:0.8em\"><a href=\"http://in-cyprus.com/news/business/rics-property-prices-rise/\">http://in-cyprus.com/news/business/rics-property-prices-rise/</a></span></li><li><b>Given strong Tampa Bay housing market, is it better to rent or buy?</b>(0.4942914)<br>There's a simple formula to help you determine whether it makes more sense to rent or buy a home in the Tampa Bay area.<br><span style=\"font-size:0.8em\"><a href=\"http://wfla.com/2017/02/15/given-strong-tampa-bay-housing-market-is-it-better-to-rent-or-buy/\">http://wfla.com/2017/02/15/given-strong-tampa-bay-housing-market-is-it-better-to-rent-or-buy/</a></span></li><li><b>Feb. home prices soar 6.3 pct in a fierce competition to buy - WAFB 9 News Baton Rouge, Louisiana News, Weather, Sports</b>(0.47350755)<br><br><span style=\"font-size:0.8em\"><a href=\"http://www.wafb.com/story/38027558/feb-home-prices-soar-63-pct-in-a-fierce-competition-to-buy\">http://www.wafb.com/story/38027558/feb-home-prices-soar-63-pct-in-a-fierce-competition-to-buy</a></span></li><li><b>What’s On Listings 31 May-6 Jun</b>(0.4517397)<br>To announce an event or gig, call 01772 838196 or email whatson@lep.co.uk<br><span style=\"font-size:0.8em\"><a href=\"https://www.lep.co.uk/whats-on/what-s-on-listings-31-may-6-jun-1-9185417\">https://www.lep.co.uk/whats-on/what-s-on-listings-31-may-6-jun-1-9185417</a></span></li></ol></td></tr>\n",
       "        </table>\n"
      ],
      "text/plain": [
       "\"        <style>\\n            .compare li {overflow-x:hidden;width:320px!important;text-align:left;height:200px;border-bottom:1px solid #333;}\\n        </style>\\n        <table class=\\\"compare\\\">\\n            <tr><td>BM25</td><td>KNN</td><td>Hybrid (nlp-search-pipeline-equal)</td></tr>\\n            <tr><td><h4>Showing 697 Results for <em>property market</em></h4><ol><li><b>RICS: Property prices rise</b>(28.265703)<br>Property prices in Cyprus rose in the fourth quarter of 2017, according to RICS' latest Cyprus Property Price Index. Across Cyprus, residential prices for both houses and flats increased on...<br><span style=\\\"font-size:0.8em\\\"><a href=\\\"http://in-cyprus.com/news/business/rics-property-prices-rise/\\\">http://in-cyprus.com/news/business/rics-property-prices-rise/</a></span></li><li><b>UPDATE: Missing man found on Amamoor property</b>(25.928907)<br>Police searched property late last night.<br><span style=\\\"font-size:0.8em\\\"><a href=\\\"https://www.gympietimes.com.au/news/update-missing-man-found-on-amamoor-property/3212441/\\\">https://www.gympietimes.com.au/news/update-missing-man-found-on-amamoor-property/3212441/</a></span></li><li><b>Wisconsin property owners appeal ruling in Foxconn lawsuit</b>(24.80427)<br>Wisconsin property owners appeal ruling in Foxconn lawsuit<br><span style=\\\"font-size:0.8em\\\"><a href=\\\"https://www.taiwannews.com.tw/en/news/3444470\\\">https://www.taiwannews.com.tw/en/news/3444470</a></span></li><li><b>Emerging threats in intellectual property crime</b>(24.485075)<br>Experts from across Europe are meeting at the Scottish Police College to discuss the emerging threats in intellectual property crime particularly the illegal use of Internet protocol television (IPTV).<br><span style=\\\"font-size:0.8em\\\"><a href=\\\"http://www.motherwelltimes.co.uk/news/crime/emerging-threats-in-intellectual-property-crime-1-4422203\\\">http://www.motherwelltimes.co.uk/news/crime/emerging-threats-in-intellectual-property-crime-1-4422203</a></span></li><li><b>Miami police officer charged with Costa Rica property fraud</b>(23.778606)<br>Miami police officer charged with Costa Rica property fraud<br><span style=\\\"font-size:0.8em\\\"><a href=\\\"https://www.taiwannews.com.tw/en/news/3354451\\\">https://www.taiwannews.com.tw/en/news/3354451</a></span></li></ol></td><td><h4>Showing 460 Results for <em>property market</em></h4><ol><li><b>Prices and homes listed up, sales down in Metro Vancouver real estate market</b>(0.8641509)<br>VANCOUVER — The supply of homes in Metro Vancouver’s real estate market hit a three-year high as sales dipped below historical averages last month.The Real Estate Board of Greater Vancouver reports there were 2,425 home sales last month, a 37.7 per cent decline from June 2017.<br><span style=\\\"font-size:0.8em\\\"><a href=\\\"https://nationalpost.com/pmn/news-pmn/canada-news-pmn/prices-and-homes-listed-up-sales-down-in-metro-vancouver-real-estate-market\\\">https://nationalpost.com/pmn/news-pmn/canada-news-pmn/prices-and-homes-listed-up-sales-down-in-metro-vancouver-real-estate-market</a></span></li><li><b>Given strong Tampa Bay housing market, is it better to rent or buy?</b>(0.86327225)<br>There's a simple formula to help you determine whether it makes more sense to rent or buy a home in the Tampa Bay area.<br><span style=\\\"font-size:0.8em\\\"><a href=\\\"http://wfla.com/2017/02/15/given-strong-tampa-bay-housing-market-is-it-better-to-rent-or-buy/\\\">http://wfla.com/2017/02/15/given-strong-tampa-bay-housing-market-is-it-better-to-rent-or-buy/</a></span></li><li><b>Feb. home prices soar 6.3 pct in a fierce competition to buy - WAFB 9 News Baton Rouge, Louisiana News, Weather, Sports</b>(0.8600733)<br><br><span style=\\\"font-size:0.8em\\\"><a href=\\\"http://www.wafb.com/story/38027558/feb-home-prices-soar-63-pct-in-a-fierce-competition-to-buy\\\">http://www.wafb.com/story/38027558/feb-home-prices-soar-63-pct-in-a-fierce-competition-to-buy</a></span></li><li><b>What’s On Listings 31 May-6 Jun</b>(0.85672295)<br>To announce an event or gig, call 01772 838196 or email whatson@lep.co.uk<br><span style=\\\"font-size:0.8em\\\"><a href=\\\"https://www.lep.co.uk/whats-on/what-s-on-listings-31-may-6-jun-1-9185417\\\">https://www.lep.co.uk/whats-on/what-s-on-listings-31-may-6-jun-1-9185417</a></span></li><li><b>The most ‘ingenious’ real estate deals in New York City</b>(0.8559661)<br>Each spring, commercial real estate pros vie for the Real Estate Board of New York’s Most Ingenious Deal of the Year Awards.\\nFor the 73rd annual contest, the...<br><span style=\\\"font-size:0.8em\\\"><a href=\\\"https://nypost.com/2018/03/19/the-most-ingenious-real-estate-deals-in-new-york-city/\\\">https://nypost.com/2018/03/19/the-most-ingenious-real-estate-deals-in-new-york-city/</a></span></li></ol></td><td><h4>Showing 10 Results for <em>property market</em></h4><ol><li><b>Prices and homes listed up, sales down in Metro Vancouver real estate market</b>(0.5)<br>VANCOUVER — The supply of homes in Metro Vancouver’s real estate market hit a three-year high as sales dipped below historical averages last month.The Real Estate Board of Greater Vancouver reports there were 2,425 home sales last month, a 37.7 per cent decline from June 2017.<br><span style=\\\"font-size:0.8em\\\"><a href=\\\"https://nationalpost.com/pmn/news-pmn/canada-news-pmn/prices-and-homes-listed-up-sales-down-in-metro-vancouver-real-estate-market\\\">https://nationalpost.com/pmn/news-pmn/canada-news-pmn/prices-and-homes-listed-up-sales-down-in-metro-vancouver-real-estate-market</a></span></li><li><b>RICS: Property prices rise</b>(0.5)<br>Property prices in Cyprus rose in the fourth quarter of 2017, according to RICS' latest Cyprus Property Price Index. Across Cyprus, residential prices for both houses and flats increased on...<br><span style=\\\"font-size:0.8em\\\"><a href=\\\"http://in-cyprus.com/news/business/rics-property-prices-rise/\\\">http://in-cyprus.com/news/business/rics-property-prices-rise/</a></span></li><li><b>Given strong Tampa Bay housing market, is it better to rent or buy?</b>(0.4942914)<br>There's a simple formula to help you determine whether it makes more sense to rent or buy a home in the Tampa Bay area.<br><span style=\\\"font-size:0.8em\\\"><a href=\\\"http://wfla.com/2017/02/15/given-strong-tampa-bay-housing-market-is-it-better-to-rent-or-buy/\\\">http://wfla.com/2017/02/15/given-strong-tampa-bay-housing-market-is-it-better-to-rent-or-buy/</a></span></li><li><b>Feb. home prices soar 6.3 pct in a fierce competition to buy - WAFB 9 News Baton Rouge, Louisiana News, Weather, Sports</b>(0.47350755)<br><br><span style=\\\"font-size:0.8em\\\"><a href=\\\"http://www.wafb.com/story/38027558/feb-home-prices-soar-63-pct-in-a-fierce-competition-to-buy\\\">http://www.wafb.com/story/38027558/feb-home-prices-soar-63-pct-in-a-fierce-competition-to-buy</a></span></li><li><b>What’s On Listings 31 May-6 Jun</b>(0.4517397)<br>To announce an event or gig, call 01772 838196 or email whatson@lep.co.uk<br><span style=\\\"font-size:0.8em\\\"><a href=\\\"https://www.lep.co.uk/whats-on/what-s-on-listings-31-may-6-jun-1-9185417\\\">https://www.lep.co.uk/whats-on/what-s-on-listings-31-may-6-jun-1-9185417</a></span></li></ol></td></tr>\\n        </table>\\n\""
      ]
     },
     "metadata": {},
     "output_type": "display_data"
    }
   ],
   "source": [
    "search_compare(\"property market\", pipeline: \"nlp-search-pipeline-equal\")\n",
    "nil"
   ]
  },
  {
   "cell_type": "code",
   "execution_count": 28,
   "id": "be1a100e-eb3c-431e-b346-12c4a981f4d1",
   "metadata": {},
   "outputs": [
    {
     "data": {
      "text/html": [
       "        <style>\n",
       "            .compare li {overflow-x:hidden;width:320px!important;text-align:left;height:200px;border-bottom:1px solid #333;}\n",
       "        </style>\n",
       "        <table class=\"compare\">\n",
       "            <tr><td>BM25</td><td>KNN</td><td>Hybrid (nlp-search-pipeline-bm25-heavy)</td></tr>\n",
       "            <tr><td><h4>Showing 697 Results for <em>property market</em></h4><ol><li><b>RICS: Property prices rise</b>(28.265703)<br>Property prices in Cyprus rose in the fourth quarter of 2017, according to RICS' latest Cyprus Property Price Index. Across Cyprus, residential prices for both houses and flats increased on...<br><span style=\"font-size:0.8em\"><a href=\"http://in-cyprus.com/news/business/rics-property-prices-rise/\">http://in-cyprus.com/news/business/rics-property-prices-rise/</a></span></li><li><b>UPDATE: Missing man found on Amamoor property</b>(25.928907)<br>Police searched property late last night.<br><span style=\"font-size:0.8em\"><a href=\"https://www.gympietimes.com.au/news/update-missing-man-found-on-amamoor-property/3212441/\">https://www.gympietimes.com.au/news/update-missing-man-found-on-amamoor-property/3212441/</a></span></li><li><b>Wisconsin property owners appeal ruling in Foxconn lawsuit</b>(24.80427)<br>Wisconsin property owners appeal ruling in Foxconn lawsuit<br><span style=\"font-size:0.8em\"><a href=\"https://www.taiwannews.com.tw/en/news/3444470\">https://www.taiwannews.com.tw/en/news/3444470</a></span></li><li><b>Emerging threats in intellectual property crime</b>(24.485075)<br>Experts from across Europe are meeting at the Scottish Police College to discuss the emerging threats in intellectual property crime particularly the illegal use of Internet protocol television (IPTV).<br><span style=\"font-size:0.8em\"><a href=\"http://www.motherwelltimes.co.uk/news/crime/emerging-threats-in-intellectual-property-crime-1-4422203\">http://www.motherwelltimes.co.uk/news/crime/emerging-threats-in-intellectual-property-crime-1-4422203</a></span></li><li><b>Miami police officer charged with Costa Rica property fraud</b>(23.778606)<br>Miami police officer charged with Costa Rica property fraud<br><span style=\"font-size:0.8em\"><a href=\"https://www.taiwannews.com.tw/en/news/3354451\">https://www.taiwannews.com.tw/en/news/3354451</a></span></li></ol></td><td><h4>Showing 460 Results for <em>property market</em></h4><ol><li><b>Prices and homes listed up, sales down in Metro Vancouver real estate market</b>(0.8641509)<br>VANCOUVER — The supply of homes in Metro Vancouver’s real estate market hit a three-year high as sales dipped below historical averages last month.The Real Estate Board of Greater Vancouver reports there were 2,425 home sales last month, a 37.7 per cent decline from June 2017.<br><span style=\"font-size:0.8em\"><a href=\"https://nationalpost.com/pmn/news-pmn/canada-news-pmn/prices-and-homes-listed-up-sales-down-in-metro-vancouver-real-estate-market\">https://nationalpost.com/pmn/news-pmn/canada-news-pmn/prices-and-homes-listed-up-sales-down-in-metro-vancouver-real-estate-market</a></span></li><li><b>Given strong Tampa Bay housing market, is it better to rent or buy?</b>(0.86327225)<br>There's a simple formula to help you determine whether it makes more sense to rent or buy a home in the Tampa Bay area.<br><span style=\"font-size:0.8em\"><a href=\"http://wfla.com/2017/02/15/given-strong-tampa-bay-housing-market-is-it-better-to-rent-or-buy/\">http://wfla.com/2017/02/15/given-strong-tampa-bay-housing-market-is-it-better-to-rent-or-buy/</a></span></li><li><b>Feb. home prices soar 6.3 pct in a fierce competition to buy - WAFB 9 News Baton Rouge, Louisiana News, Weather, Sports</b>(0.8600733)<br><br><span style=\"font-size:0.8em\"><a href=\"http://www.wafb.com/story/38027558/feb-home-prices-soar-63-pct-in-a-fierce-competition-to-buy\">http://www.wafb.com/story/38027558/feb-home-prices-soar-63-pct-in-a-fierce-competition-to-buy</a></span></li><li><b>What’s On Listings 31 May-6 Jun</b>(0.85672295)<br>To announce an event or gig, call 01772 838196 or email whatson@lep.co.uk<br><span style=\"font-size:0.8em\"><a href=\"https://www.lep.co.uk/whats-on/what-s-on-listings-31-may-6-jun-1-9185417\">https://www.lep.co.uk/whats-on/what-s-on-listings-31-may-6-jun-1-9185417</a></span></li><li><b>The most ‘ingenious’ real estate deals in New York City</b>(0.8559661)<br>Each spring, commercial real estate pros vie for the Real Estate Board of New York’s Most Ingenious Deal of the Year Awards.\n",
       "For the 73rd annual contest, the...<br><span style=\"font-size:0.8em\"><a href=\"https://nypost.com/2018/03/19/the-most-ingenious-real-estate-deals-in-new-york-city/\">https://nypost.com/2018/03/19/the-most-ingenious-real-estate-deals-in-new-york-city/</a></span></li></ol></td><td><h4>Showing 10 Results for <em>property market</em></h4><ol><li><b>RICS: Property prices rise</b>(0.6)<br>Property prices in Cyprus rose in the fourth quarter of 2017, according to RICS' latest Cyprus Property Price Index. Across Cyprus, residential prices for both houses and flats increased on...<br><span style=\"font-size:0.8em\"><a href=\"http://in-cyprus.com/news/business/rics-property-prices-rise/\">http://in-cyprus.com/news/business/rics-property-prices-rise/</a></span></li><li><b>UPDATE: Missing man found on Amamoor property</b>(0.51420665)<br>Police searched property late last night.<br><span style=\"font-size:0.8em\"><a href=\"https://www.gympietimes.com.au/news/update-missing-man-found-on-amamoor-property/3212441/\">https://www.gympietimes.com.au/news/update-missing-man-found-on-amamoor-property/3212441/</a></span></li><li><b>Wisconsin property owners appeal ruling in Foxconn lawsuit</b>(0.4729166)<br>Wisconsin property owners appeal ruling in Foxconn lawsuit<br><span style=\"font-size:0.8em\"><a href=\"https://www.taiwannews.com.tw/en/news/3444470\">https://www.taiwannews.com.tw/en/news/3444470</a></span></li><li><b>Emerging threats in intellectual property crime</b>(0.46119767)<br>Experts from across Europe are meeting at the Scottish Police College to discuss the emerging threats in intellectual property crime particularly the illegal use of Internet protocol television (IPTV).<br><span style=\"font-size:0.8em\"><a href=\"http://www.motherwelltimes.co.uk/news/crime/emerging-threats-in-intellectual-property-crime-1-4422203\">http://www.motherwelltimes.co.uk/news/crime/emerging-threats-in-intellectual-property-crime-1-4422203</a></span></li><li><b>Miami police officer charged with Costa Rica property fraud</b>(0.43526033)<br>Miami police officer charged with Costa Rica property fraud<br><span style=\"font-size:0.8em\"><a href=\"https://www.taiwannews.com.tw/en/news/3354451\">https://www.taiwannews.com.tw/en/news/3354451</a></span></li></ol></td></tr>\n",
       "        </table>\n"
      ],
      "text/plain": [
       "\"        <style>\\n            .compare li {overflow-x:hidden;width:320px!important;text-align:left;height:200px;border-bottom:1px solid #333;}\\n        </style>\\n        <table class=\\\"compare\\\">\\n            <tr><td>BM25</td><td>KNN</td><td>Hybrid (nlp-search-pipeline-bm25-heavy)</td></tr>\\n            <tr><td><h4>Showing 697 Results for <em>property market</em></h4><ol><li><b>RICS: Property prices rise</b>(28.265703)<br>Property prices in Cyprus rose in the fourth quarter of 2017, according to RICS' latest Cyprus Property Price Index. Across Cyprus, residential prices for both houses and flats increased on...<br><span style=\\\"font-size:0.8em\\\"><a href=\\\"http://in-cyprus.com/news/business/rics-property-prices-rise/\\\">http://in-cyprus.com/news/business/rics-property-prices-rise/</a></span></li><li><b>UPDATE: Missing man found on Amamoor property</b>(25.928907)<br>Police searched property late last night.<br><span style=\\\"font-size:0.8em\\\"><a href=\\\"https://www.gympietimes.com.au/news/update-missing-man-found-on-amamoor-property/3212441/\\\">https://www.gympietimes.com.au/news/update-missing-man-found-on-amamoor-property/3212441/</a></span></li><li><b>Wisconsin property owners appeal ruling in Foxconn lawsuit</b>(24.80427)<br>Wisconsin property owners appeal ruling in Foxconn lawsuit<br><span style=\\\"font-size:0.8em\\\"><a href=\\\"https://www.taiwannews.com.tw/en/news/3444470\\\">https://www.taiwannews.com.tw/en/news/3444470</a></span></li><li><b>Emerging threats in intellectual property crime</b>(24.485075)<br>Experts from across Europe are meeting at the Scottish Police College to discuss the emerging threats in intellectual property crime particularly the illegal use of Internet protocol television (IPTV).<br><span style=\\\"font-size:0.8em\\\"><a href=\\\"http://www.motherwelltimes.co.uk/news/crime/emerging-threats-in-intellectual-property-crime-1-4422203\\\">http://www.motherwelltimes.co.uk/news/crime/emerging-threats-in-intellectual-property-crime-1-4422203</a></span></li><li><b>Miami police officer charged with Costa Rica property fraud</b>(23.778606)<br>Miami police officer charged with Costa Rica property fraud<br><span style=\\\"font-size:0.8em\\\"><a href=\\\"https://www.taiwannews.com.tw/en/news/3354451\\\">https://www.taiwannews.com.tw/en/news/3354451</a></span></li></ol></td><td><h4>Showing 460 Results for <em>property market</em></h4><ol><li><b>Prices and homes listed up, sales down in Metro Vancouver real estate market</b>(0.8641509)<br>VANCOUVER — The supply of homes in Metro Vancouver’s real estate market hit a three-year high as sales dipped below historical averages last month.The Real Estate Board of Greater Vancouver reports there were 2,425 home sales last month, a 37.7 per cent decline from June 2017.<br><span style=\\\"font-size:0.8em\\\"><a href=\\\"https://nationalpost.com/pmn/news-pmn/canada-news-pmn/prices-and-homes-listed-up-sales-down-in-metro-vancouver-real-estate-market\\\">https://nationalpost.com/pmn/news-pmn/canada-news-pmn/prices-and-homes-listed-up-sales-down-in-metro-vancouver-real-estate-market</a></span></li><li><b>Given strong Tampa Bay housing market, is it better to rent or buy?</b>(0.86327225)<br>There's a simple formula to help you determine whether it makes more sense to rent or buy a home in the Tampa Bay area.<br><span style=\\\"font-size:0.8em\\\"><a href=\\\"http://wfla.com/2017/02/15/given-strong-tampa-bay-housing-market-is-it-better-to-rent-or-buy/\\\">http://wfla.com/2017/02/15/given-strong-tampa-bay-housing-market-is-it-better-to-rent-or-buy/</a></span></li><li><b>Feb. home prices soar 6.3 pct in a fierce competition to buy - WAFB 9 News Baton Rouge, Louisiana News, Weather, Sports</b>(0.8600733)<br><br><span style=\\\"font-size:0.8em\\\"><a href=\\\"http://www.wafb.com/story/38027558/feb-home-prices-soar-63-pct-in-a-fierce-competition-to-buy\\\">http://www.wafb.com/story/38027558/feb-home-prices-soar-63-pct-in-a-fierce-competition-to-buy</a></span></li><li><b>What’s On Listings 31 May-6 Jun</b>(0.85672295)<br>To announce an event or gig, call 01772 838196 or email whatson@lep.co.uk<br><span style=\\\"font-size:0.8em\\\"><a href=\\\"https://www.lep.co.uk/whats-on/what-s-on-listings-31-may-6-jun-1-9185417\\\">https://www.lep.co.uk/whats-on/what-s-on-listings-31-may-6-jun-1-9185417</a></span></li><li><b>The most ‘ingenious’ real estate deals in New York City</b>(0.8559661)<br>Each spring, commercial real estate pros vie for the Real Estate Board of New York’s Most Ingenious Deal of the Year Awards.\\nFor the 73rd annual contest, the...<br><span style=\\\"font-size:0.8em\\\"><a href=\\\"https://nypost.com/2018/03/19/the-most-ingenious-real-estate-deals-in-new-york-city/\\\">https://nypost.com/2018/03/19/the-most-ingenious-real-estate-deals-in-new-york-city/</a></span></li></ol></td><td><h4>Showing 10 Results for <em>property market</em></h4><ol><li><b>RICS: Property prices rise</b>(0.6)<br>Property prices in Cyprus rose in the fourth quarter of 2017, according to RICS' latest Cyprus Property Price Index. Across Cyprus, residential prices for both houses and flats increased on...<br><span style=\\\"font-size:0.8em\\\"><a href=\\\"http://in-cyprus.com/news/business/rics-property-prices-rise/\\\">http://in-cyprus.com/news/business/rics-property-prices-rise/</a></span></li><li><b>UPDATE: Missing man found on Amamoor property</b>(0.51420665)<br>Police searched property late last night.<br><span style=\\\"font-size:0.8em\\\"><a href=\\\"https://www.gympietimes.com.au/news/update-missing-man-found-on-amamoor-property/3212441/\\\">https://www.gympietimes.com.au/news/update-missing-man-found-on-amamoor-property/3212441/</a></span></li><li><b>Wisconsin property owners appeal ruling in Foxconn lawsuit</b>(0.4729166)<br>Wisconsin property owners appeal ruling in Foxconn lawsuit<br><span style=\\\"font-size:0.8em\\\"><a href=\\\"https://www.taiwannews.com.tw/en/news/3444470\\\">https://www.taiwannews.com.tw/en/news/3444470</a></span></li><li><b>Emerging threats in intellectual property crime</b>(0.46119767)<br>Experts from across Europe are meeting at the Scottish Police College to discuss the emerging threats in intellectual property crime particularly the illegal use of Internet protocol television (IPTV).<br><span style=\\\"font-size:0.8em\\\"><a href=\\\"http://www.motherwelltimes.co.uk/news/crime/emerging-threats-in-intellectual-property-crime-1-4422203\\\">http://www.motherwelltimes.co.uk/news/crime/emerging-threats-in-intellectual-property-crime-1-4422203</a></span></li><li><b>Miami police officer charged with Costa Rica property fraud</b>(0.43526033)<br>Miami police officer charged with Costa Rica property fraud<br><span style=\\\"font-size:0.8em\\\"><a href=\\\"https://www.taiwannews.com.tw/en/news/3354451\\\">https://www.taiwannews.com.tw/en/news/3354451</a></span></li></ol></td></tr>\\n        </table>\\n\""
      ]
     },
     "metadata": {},
     "output_type": "display_data"
    }
   ],
   "source": [
    "search_compare(\"property market\", pipeline: \"nlp-search-pipeline-bm25-heavy\")\n",
    "nil"
   ]
  },
  {
   "cell_type": "code",
   "execution_count": 29,
   "id": "8fa59148-296f-4913-ab4f-6457f223d401",
   "metadata": {},
   "outputs": [
    {
     "data": {
      "text/html": [
       "        <style>\n",
       "            .compare li {overflow-x:hidden;width:320px!important;text-align:left;height:200px;border-bottom:1px solid #333;}\n",
       "        </style>\n",
       "        <table class=\"compare\">\n",
       "            <tr><td>BM25</td><td>KNN</td><td>Hybrid (nlp-search-pipeline-knn-heavy)</td></tr>\n",
       "            <tr><td><h4>Showing 697 Results for <em>property market</em></h4><ol><li><b>RICS: Property prices rise</b>(28.265703)<br>Property prices in Cyprus rose in the fourth quarter of 2017, according to RICS' latest Cyprus Property Price Index. Across Cyprus, residential prices for both houses and flats increased on...<br><span style=\"font-size:0.8em\"><a href=\"http://in-cyprus.com/news/business/rics-property-prices-rise/\">http://in-cyprus.com/news/business/rics-property-prices-rise/</a></span></li><li><b>UPDATE: Missing man found on Amamoor property</b>(25.928907)<br>Police searched property late last night.<br><span style=\"font-size:0.8em\"><a href=\"https://www.gympietimes.com.au/news/update-missing-man-found-on-amamoor-property/3212441/\">https://www.gympietimes.com.au/news/update-missing-man-found-on-amamoor-property/3212441/</a></span></li><li><b>Wisconsin property owners appeal ruling in Foxconn lawsuit</b>(24.80427)<br>Wisconsin property owners appeal ruling in Foxconn lawsuit<br><span style=\"font-size:0.8em\"><a href=\"https://www.taiwannews.com.tw/en/news/3444470\">https://www.taiwannews.com.tw/en/news/3444470</a></span></li><li><b>Emerging threats in intellectual property crime</b>(24.485075)<br>Experts from across Europe are meeting at the Scottish Police College to discuss the emerging threats in intellectual property crime particularly the illegal use of Internet protocol television (IPTV).<br><span style=\"font-size:0.8em\"><a href=\"http://www.motherwelltimes.co.uk/news/crime/emerging-threats-in-intellectual-property-crime-1-4422203\">http://www.motherwelltimes.co.uk/news/crime/emerging-threats-in-intellectual-property-crime-1-4422203</a></span></li><li><b>Miami police officer charged with Costa Rica property fraud</b>(23.778606)<br>Miami police officer charged with Costa Rica property fraud<br><span style=\"font-size:0.8em\"><a href=\"https://www.taiwannews.com.tw/en/news/3354451\">https://www.taiwannews.com.tw/en/news/3354451</a></span></li></ol></td><td><h4>Showing 460 Results for <em>property market</em></h4><ol><li><b>Prices and homes listed up, sales down in Metro Vancouver real estate market</b>(0.8641509)<br>VANCOUVER — The supply of homes in Metro Vancouver’s real estate market hit a three-year high as sales dipped below historical averages last month.The Real Estate Board of Greater Vancouver reports there were 2,425 home sales last month, a 37.7 per cent decline from June 2017.<br><span style=\"font-size:0.8em\"><a href=\"https://nationalpost.com/pmn/news-pmn/canada-news-pmn/prices-and-homes-listed-up-sales-down-in-metro-vancouver-real-estate-market\">https://nationalpost.com/pmn/news-pmn/canada-news-pmn/prices-and-homes-listed-up-sales-down-in-metro-vancouver-real-estate-market</a></span></li><li><b>Given strong Tampa Bay housing market, is it better to rent or buy?</b>(0.86327225)<br>There's a simple formula to help you determine whether it makes more sense to rent or buy a home in the Tampa Bay area.<br><span style=\"font-size:0.8em\"><a href=\"http://wfla.com/2017/02/15/given-strong-tampa-bay-housing-market-is-it-better-to-rent-or-buy/\">http://wfla.com/2017/02/15/given-strong-tampa-bay-housing-market-is-it-better-to-rent-or-buy/</a></span></li><li><b>Feb. home prices soar 6.3 pct in a fierce competition to buy - WAFB 9 News Baton Rouge, Louisiana News, Weather, Sports</b>(0.8600733)<br><br><span style=\"font-size:0.8em\"><a href=\"http://www.wafb.com/story/38027558/feb-home-prices-soar-63-pct-in-a-fierce-competition-to-buy\">http://www.wafb.com/story/38027558/feb-home-prices-soar-63-pct-in-a-fierce-competition-to-buy</a></span></li><li><b>What’s On Listings 31 May-6 Jun</b>(0.85672295)<br>To announce an event or gig, call 01772 838196 or email whatson@lep.co.uk<br><span style=\"font-size:0.8em\"><a href=\"https://www.lep.co.uk/whats-on/what-s-on-listings-31-may-6-jun-1-9185417\">https://www.lep.co.uk/whats-on/what-s-on-listings-31-may-6-jun-1-9185417</a></span></li><li><b>The most ‘ingenious’ real estate deals in New York City</b>(0.8559661)<br>Each spring, commercial real estate pros vie for the Real Estate Board of New York’s Most Ingenious Deal of the Year Awards.\n",
       "For the 73rd annual contest, the...<br><span style=\"font-size:0.8em\"><a href=\"https://nypost.com/2018/03/19/the-most-ingenious-real-estate-deals-in-new-york-city/\">https://nypost.com/2018/03/19/the-most-ingenious-real-estate-deals-in-new-york-city/</a></span></li></ol></td><td><h4>Showing 10 Results for <em>property market</em></h4><ol><li><b>Prices and homes listed up, sales down in Metro Vancouver real estate market</b>(0.6)<br>VANCOUVER — The supply of homes in Metro Vancouver’s real estate market hit a three-year high as sales dipped below historical averages last month.The Real Estate Board of Greater Vancouver reports there were 2,425 home sales last month, a 37.7 per cent decline from June 2017.<br><span style=\"font-size:0.8em\"><a href=\"https://nationalpost.com/pmn/news-pmn/canada-news-pmn/prices-and-homes-listed-up-sales-down-in-metro-vancouver-real-estate-market\">https://nationalpost.com/pmn/news-pmn/canada-news-pmn/prices-and-homes-listed-up-sales-down-in-metro-vancouver-real-estate-market</a></span></li><li><b>Given strong Tampa Bay housing market, is it better to rent or buy?</b>(0.5931497)<br>There's a simple formula to help you determine whether it makes more sense to rent or buy a home in the Tampa Bay area.<br><span style=\"font-size:0.8em\"><a href=\"http://wfla.com/2017/02/15/given-strong-tampa-bay-housing-market-is-it-better-to-rent-or-buy/\">http://wfla.com/2017/02/15/given-strong-tampa-bay-housing-market-is-it-better-to-rent-or-buy/</a></span></li><li><b>Feb. home prices soar 6.3 pct in a fierce competition to buy - WAFB 9 News Baton Rouge, Louisiana News, Weather, Sports</b>(0.5682091)<br><br><span style=\"font-size:0.8em\"><a href=\"http://www.wafb.com/story/38027558/feb-home-prices-soar-63-pct-in-a-fierce-competition-to-buy\">http://www.wafb.com/story/38027558/feb-home-prices-soar-63-pct-in-a-fierce-competition-to-buy</a></span></li><li><b>What’s On Listings 31 May-6 Jun</b>(0.5420877)<br>To announce an event or gig, call 01772 838196 or email whatson@lep.co.uk<br><span style=\"font-size:0.8em\"><a href=\"https://www.lep.co.uk/whats-on/what-s-on-listings-31-may-6-jun-1-9185417\">https://www.lep.co.uk/whats-on/what-s-on-listings-31-may-6-jun-1-9185417</a></span></li><li><b>The most ‘ingenious’ real estate deals in New York City</b>(0.53618675)<br>Each spring, commercial real estate pros vie for the Real Estate Board of New York’s Most Ingenious Deal of the Year Awards.\n",
       "For the 73rd annual contest, the...<br><span style=\"font-size:0.8em\"><a href=\"https://nypost.com/2018/03/19/the-most-ingenious-real-estate-deals-in-new-york-city/\">https://nypost.com/2018/03/19/the-most-ingenious-real-estate-deals-in-new-york-city/</a></span></li></ol></td></tr>\n",
       "        </table>\n"
      ],
      "text/plain": [
       "\"        <style>\\n            .compare li {overflow-x:hidden;width:320px!important;text-align:left;height:200px;border-bottom:1px solid #333;}\\n        </style>\\n        <table class=\\\"compare\\\">\\n            <tr><td>BM25</td><td>KNN</td><td>Hybrid (nlp-search-pipeline-knn-heavy)</td></tr>\\n            <tr><td><h4>Showing 697 Results for <em>property market</em></h4><ol><li><b>RICS: Property prices rise</b>(28.265703)<br>Property prices in Cyprus rose in the fourth quarter of 2017, according to RICS' latest Cyprus Property Price Index. Across Cyprus, residential prices for both houses and flats increased on...<br><span style=\\\"font-size:0.8em\\\"><a href=\\\"http://in-cyprus.com/news/business/rics-property-prices-rise/\\\">http://in-cyprus.com/news/business/rics-property-prices-rise/</a></span></li><li><b>UPDATE: Missing man found on Amamoor property</b>(25.928907)<br>Police searched property late last night.<br><span style=\\\"font-size:0.8em\\\"><a href=\\\"https://www.gympietimes.com.au/news/update-missing-man-found-on-amamoor-property/3212441/\\\">https://www.gympietimes.com.au/news/update-missing-man-found-on-amamoor-property/3212441/</a></span></li><li><b>Wisconsin property owners appeal ruling in Foxconn lawsuit</b>(24.80427)<br>Wisconsin property owners appeal ruling in Foxconn lawsuit<br><span style=\\\"font-size:0.8em\\\"><a href=\\\"https://www.taiwannews.com.tw/en/news/3444470\\\">https://www.taiwannews.com.tw/en/news/3444470</a></span></li><li><b>Emerging threats in intellectual property crime</b>(24.485075)<br>Experts from across Europe are meeting at the Scottish Police College to discuss the emerging threats in intellectual property crime particularly the illegal use of Internet protocol television (IPTV).<br><span style=\\\"font-size:0.8em\\\"><a href=\\\"http://www.motherwelltimes.co.uk/news/crime/emerging-threats-in-intellectual-property-crime-1-4422203\\\">http://www.motherwelltimes.co.uk/news/crime/emerging-threats-in-intellectual-property-crime-1-4422203</a></span></li><li><b>Miami police officer charged with Costa Rica property fraud</b>(23.778606)<br>Miami police officer charged with Costa Rica property fraud<br><span style=\\\"font-size:0.8em\\\"><a href=\\\"https://www.taiwannews.com.tw/en/news/3354451\\\">https://www.taiwannews.com.tw/en/news/3354451</a></span></li></ol></td><td><h4>Showing 460 Results for <em>property market</em></h4><ol><li><b>Prices and homes listed up, sales down in Metro Vancouver real estate market</b>(0.8641509)<br>VANCOUVER — The supply of homes in Metro Vancouver’s real estate market hit a three-year high as sales dipped below historical averages last month.The Real Estate Board of Greater Vancouver reports there were 2,425 home sales last month, a 37.7 per cent decline from June 2017.<br><span style=\\\"font-size:0.8em\\\"><a href=\\\"https://nationalpost.com/pmn/news-pmn/canada-news-pmn/prices-and-homes-listed-up-sales-down-in-metro-vancouver-real-estate-market\\\">https://nationalpost.com/pmn/news-pmn/canada-news-pmn/prices-and-homes-listed-up-sales-down-in-metro-vancouver-real-estate-market</a></span></li><li><b>Given strong Tampa Bay housing market, is it better to rent or buy?</b>(0.86327225)<br>There's a simple formula to help you determine whether it makes more sense to rent or buy a home in the Tampa Bay area.<br><span style=\\\"font-size:0.8em\\\"><a href=\\\"http://wfla.com/2017/02/15/given-strong-tampa-bay-housing-market-is-it-better-to-rent-or-buy/\\\">http://wfla.com/2017/02/15/given-strong-tampa-bay-housing-market-is-it-better-to-rent-or-buy/</a></span></li><li><b>Feb. home prices soar 6.3 pct in a fierce competition to buy - WAFB 9 News Baton Rouge, Louisiana News, Weather, Sports</b>(0.8600733)<br><br><span style=\\\"font-size:0.8em\\\"><a href=\\\"http://www.wafb.com/story/38027558/feb-home-prices-soar-63-pct-in-a-fierce-competition-to-buy\\\">http://www.wafb.com/story/38027558/feb-home-prices-soar-63-pct-in-a-fierce-competition-to-buy</a></span></li><li><b>What’s On Listings 31 May-6 Jun</b>(0.85672295)<br>To announce an event or gig, call 01772 838196 or email whatson@lep.co.uk<br><span style=\\\"font-size:0.8em\\\"><a href=\\\"https://www.lep.co.uk/whats-on/what-s-on-listings-31-may-6-jun-1-9185417\\\">https://www.lep.co.uk/whats-on/what-s-on-listings-31-may-6-jun-1-9185417</a></span></li><li><b>The most ‘ingenious’ real estate deals in New York City</b>(0.8559661)<br>Each spring, commercial real estate pros vie for the Real Estate Board of New York’s Most Ingenious Deal of the Year Awards.\\nFor the 73rd annual contest, the...<br><span style=\\\"font-size:0.8em\\\"><a href=\\\"https://nypost.com/2018/03/19/the-most-ingenious-real-estate-deals-in-new-york-city/\\\">https://nypost.com/2018/03/19/the-most-ingenious-real-estate-deals-in-new-york-city/</a></span></li></ol></td><td><h4>Showing 10 Results for <em>property market</em></h4><ol><li><b>Prices and homes listed up, sales down in Metro Vancouver real estate market</b>(0.6)<br>VANCOUVER — The supply of homes in Metro Vancouver’s real estate market hit a three-year high as sales dipped below historical averages last month.The Real Estate Board of Greater Vancouver reports there were 2,425 home sales last month, a 37.7 per cent decline from June 2017.<br><span style=\\\"font-size:0.8em\\\"><a href=\\\"https://nationalpost.com/pmn/news-pmn/canada-news-pmn/prices-and-homes-listed-up-sales-down-in-metro-vancouver-real-estate-market\\\">https://nationalpost.com/pmn/news-pmn/canada-news-pmn/prices-and-homes-listed-up-sales-down-in-metro-vancouver-real-estate-market</a></span></li><li><b>Given strong Tampa Bay housing market, is it better to rent or buy?</b>(0.5931497)<br>There's a simple formula to help you determine whether it makes more sense to rent or buy a home in the Tampa Bay area.<br><span style=\\\"font-size:0.8em\\\"><a href=\\\"http://wfla.com/2017/02/15/given-strong-tampa-bay-housing-market-is-it-better-to-rent-or-buy/\\\">http://wfla.com/2017/02/15/given-strong-tampa-bay-housing-market-is-it-better-to-rent-or-buy/</a></span></li><li><b>Feb. home prices soar 6.3 pct in a fierce competition to buy - WAFB 9 News Baton Rouge, Louisiana News, Weather, Sports</b>(0.5682091)<br><br><span style=\\\"font-size:0.8em\\\"><a href=\\\"http://www.wafb.com/story/38027558/feb-home-prices-soar-63-pct-in-a-fierce-competition-to-buy\\\">http://www.wafb.com/story/38027558/feb-home-prices-soar-63-pct-in-a-fierce-competition-to-buy</a></span></li><li><b>What’s On Listings 31 May-6 Jun</b>(0.5420877)<br>To announce an event or gig, call 01772 838196 or email whatson@lep.co.uk<br><span style=\\\"font-size:0.8em\\\"><a href=\\\"https://www.lep.co.uk/whats-on/what-s-on-listings-31-may-6-jun-1-9185417\\\">https://www.lep.co.uk/whats-on/what-s-on-listings-31-may-6-jun-1-9185417</a></span></li><li><b>The most ‘ingenious’ real estate deals in New York City</b>(0.53618675)<br>Each spring, commercial real estate pros vie for the Real Estate Board of New York’s Most Ingenious Deal of the Year Awards.\\nFor the 73rd annual contest, the...<br><span style=\\\"font-size:0.8em\\\"><a href=\\\"https://nypost.com/2018/03/19/the-most-ingenious-real-estate-deals-in-new-york-city/\\\">https://nypost.com/2018/03/19/the-most-ingenious-real-estate-deals-in-new-york-city/</a></span></li></ol></td></tr>\\n        </table>\\n\""
      ]
     },
     "metadata": {},
     "output_type": "display_data"
    }
   ],
   "source": [
    "search_compare(\"property market\", pipeline: \"nlp-search-pipeline-knn-heavy\")\n",
    "nil"
   ]
  },
  {
   "cell_type": "code",
   "execution_count": 30,
   "id": "4b920d71-71b1-4a37-a828-bd29d881fc5e",
   "metadata": {},
   "outputs": [
    {
     "data": {
      "text/html": [
       "        <style>\n",
       "            .compare li {overflow-x:hidden;width:320px!important;text-align:left;height:200px;border-bottom:1px solid #333;}\n",
       "        </style>\n",
       "        <table class=\"compare\">\n",
       "            <tr><td>BM25</td><td>KNN</td><td>Hybrid (nlp-search-pipeline-equal)</td></tr>\n",
       "            <tr><td><h4>Showing 164 Results for <em>crypto scandal</em></h4><ol><li><b>AP Explains: Why are crypto exchanges vulnerable to hacks?</b>(29.908903)<br>AP Explains: Why are crypto exchanges vulnerable to hacks?<br><span style=\"font-size:0.8em\"><a href=\"https://www.taiwannews.com.tw/en/news/3353987\">https://www.taiwannews.com.tw/en/news/3353987</a></span></li><li><b>Bitcoin loses more than half its value amid crypto crash</b>(26.140495)<br>After stratospheric growth, Bitcoin crashed below $8,000 for the first time in months amid a continuing global crypto rout.<br><span style=\"font-size:0.8em\"><a href=\"https://www.nbcnews.com/tech/internet/bitcoin-loses-more-half-its-value-amid-crypto-crash-n844056?cid=public-rss_20180202\">https://www.nbcnews.com/tech/internet/bitcoin-loses-more-half-its-value-amid-crypto-crash-n844056?cid=public-rss_20180202</a></span></li><li><b>Bitcoin loses more than half its value amid crypto crash</b>(26.140495)<br>After stratospheric growth, Bitcoin crashed below $8,000 for the first time in months amid a continuing global crypto rout.<br><span style=\"font-size:0.8em\"><a href=\"https://www.nbcnews.com/tech/internet/bitcoin-loses-more-half-its-value-amid-crypto-crash-n844056?cid=public-rss_20180204\">https://www.nbcnews.com/tech/internet/bitcoin-loses-more-half-its-value-amid-crypto-crash-n844056?cid=public-rss_20180204</a></span></li><li><b>Bitcoin loses more than half its value amid crypto crash</b>(26.140495)<br>After stratospheric growth, Bitcoin crashed below $8,000 for the first time in months amid a continuing global crypto rout.<br><span style=\"font-size:0.8em\"><a href=\"https://www.nbcnews.com/tech/internet/bitcoin-loses-more-half-its-value-amid-crypto-crash-n844056?cid=public-rss_20180203\">https://www.nbcnews.com/tech/internet/bitcoin-loses-more-half-its-value-amid-crypto-crash-n844056?cid=public-rss_20180203</a></span></li><li><b>Timeline: Irish Olympic ticket-sale scandal</b>(24.739798)<br>Timeline of events in the Rio Olympics illegal ticket-sale scandal.<br><span style=\"font-size:0.8em\"><a href=\"http://www.bbc.com/news/world-europe-37156930\">http://www.bbc.com/news/world-europe-37156930</a></span></li></ol></td><td><h4>Showing 460 Results for <em>crypto scandal</em></h4><ol><li><b>Bitcoin, other cryptocurrencies plunge on wave of bad news</b>(0.8700277)<br>Google said it will ban cryptocurrency-related ads, the IMF called for global regulation and members of Congress slammed them at a hearing Wednesday.<br><span style=\"font-size:0.8em\"><a href=\"https://www.nbcnews.com/tech/tech-news/bitcoin-other-cryptocurrencies-plunge-wave-bad-news-n856821?cid=public-rss_20180320\">https://www.nbcnews.com/tech/tech-news/bitcoin-other-cryptocurrencies-plunge-wave-bad-news-n856821?cid=public-rss_20180320</a></span></li><li><b>‘Fraud.’ ‘More than a fad.’ The words Wall Street CEOs are using to describe bitcoin</b>(0.8627867)<br>Seems not a day goes by without some Wall Street VIP or financial luminary deciding it’s time for them to weigh in on bitcoin and cryptocurrencies. Here’s a roundup of the latest high-profile statements.<br><span style=\"font-size:0.8em\"><a href=\"http://www.marketwatch.com/story/fraud-or-the-future-how-bitcoin-is-being-described-by-billionaires-and-wall-street-ceos-2017-10-05?siteid=rss&rss=1\">http://www.marketwatch.com/story/fraud-or-the-future-how-bitcoin-is-being-described-by-billionaires-and-wall-street-ceos-2017-10-05?siteid=rss&rss=1</a></span></li><li><b>First U.S. cryptocurrency ban outlaws Venezuela’s ‘Petro’ coin</b>(0.8624979)<br>The U.S. executive branch has issued an executive order prohibiting the use or purchase of Venezuela's Petro cryptocurrency.<br><span style=\"font-size:0.8em\"><a href=\"https://www.digitaltrends.com/computing/us-bans-petro-cryptocurrency/\">https://www.digitaltrends.com/computing/us-bans-petro-cryptocurrency/</a></span></li><li><b>Trump bans US use of Venezuelan cryptocurrency - WAFB 9 News Baton Rouge, Louisiana News, Weather, Sports</b>(0.8622549)<br><br><span style=\"font-size:0.8em\"><a href=\"http://www.wafb.com/story/37757576/trump-bans-us-use-of-venezuelan-cryptocurrency\">http://www.wafb.com/story/37757576/trump-bans-us-use-of-venezuelan-cryptocurrency</a></span></li><li><b>Equifax executive hit with insider trading charge for selling stock before data breach went public</b>(0.86135316)<br>A former executive for Equifax is facing criminal and anti-fraud charges after selling stock options before the company went public with the megabreach.<br><span style=\"font-size:0.8em\"><a href=\"https://www.nbcnews.com/business/business-news/equifax-executive-hit-insider-trading-charge-selling-stock-data-breach-n856601?cid=public-rss_20180320\">https://www.nbcnews.com/business/business-news/equifax-executive-hit-insider-trading-charge-selling-stock-data-breach-n856601?cid=public-rss_20180320</a></span></li></ol></td><td><h4>Showing 10 Results for <em>crypto scandal</em></h4><ol><li><b>AP Explains: Why are crypto exchanges vulnerable to hacks?</b>(0.5)<br>AP Explains: Why are crypto exchanges vulnerable to hacks?<br><span style=\"font-size:0.8em\"><a href=\"https://www.taiwannews.com.tw/en/news/3353987\">https://www.taiwannews.com.tw/en/news/3353987</a></span></li><li><b>Bitcoin, other cryptocurrencies plunge on wave of bad news</b>(0.5)<br>Google said it will ban cryptocurrency-related ads, the IMF called for global regulation and members of Congress slammed them at a hearing Wednesday.<br><span style=\"font-size:0.8em\"><a href=\"https://www.nbcnews.com/tech/tech-news/bitcoin-other-cryptocurrencies-plunge-wave-bad-news-n856821?cid=public-rss_20180320\">https://www.nbcnews.com/tech/tech-news/bitcoin-other-cryptocurrencies-plunge-wave-bad-news-n856821?cid=public-rss_20180320</a></span></li><li><b>‘Fraud.’ ‘More than a fad.’ The words Wall Street CEOs are using to describe bitcoin</b>(0.4570444)<br>Seems not a day goes by without some Wall Street VIP or financial luminary deciding it’s time for them to weigh in on bitcoin and cryptocurrencies. Here’s a roundup of the latest high-profile statements.<br><span style=\"font-size:0.8em\"><a href=\"http://www.marketwatch.com/story/fraud-or-the-future-how-bitcoin-is-being-described-by-billionaires-and-wall-street-ceos-2017-10-05?siteid=rss&rss=1\">http://www.marketwatch.com/story/fraud-or-the-future-how-bitcoin-is-being-described-by-billionaires-and-wall-street-ceos-2017-10-05?siteid=rss&rss=1</a></span></li><li><b>First U.S. cryptocurrency ban outlaws Venezuela’s ‘Petro’ coin</b>(0.45533127)<br>The U.S. executive branch has issued an executive order prohibiting the use or purchase of Venezuela's Petro cryptocurrency.<br><span style=\"font-size:0.8em\"><a href=\"https://www.digitaltrends.com/computing/us-bans-petro-cryptocurrency/\">https://www.digitaltrends.com/computing/us-bans-petro-cryptocurrency/</a></span></li><li><b>Trump bans US use of Venezuelan cryptocurrency - WAFB 9 News Baton Rouge, Louisiana News, Weather, Sports</b>(0.45388967)<br><br><span style=\"font-size:0.8em\"><a href=\"http://www.wafb.com/story/37757576/trump-bans-us-use-of-venezuelan-cryptocurrency\">http://www.wafb.com/story/37757576/trump-bans-us-use-of-venezuelan-cryptocurrency</a></span></li></ol></td></tr>\n",
       "        </table>\n"
      ],
      "text/plain": [
       "\"        <style>\\n            .compare li {overflow-x:hidden;width:320px!important;text-align:left;height:200px;border-bottom:1px solid #333;}\\n        </style>\\n        <table class=\\\"compare\\\">\\n            <tr><td>BM25</td><td>KNN</td><td>Hybrid (nlp-search-pipeline-equal)</td></tr>\\n            <tr><td><h4>Showing 164 Results for <em>crypto scandal</em></h4><ol><li><b>AP Explains: Why are crypto exchanges vulnerable to hacks?</b>(29.908903)<br>AP Explains: Why are crypto exchanges vulnerable to hacks?<br><span style=\\\"font-size:0.8em\\\"><a href=\\\"https://www.taiwannews.com.tw/en/news/3353987\\\">https://www.taiwannews.com.tw/en/news/3353987</a></span></li><li><b>Bitcoin loses more than half its value amid crypto crash</b>(26.140495)<br>After stratospheric growth, Bitcoin crashed below $8,000 for the first time in months amid a continuing global crypto rout.<br><span style=\\\"font-size:0.8em\\\"><a href=\\\"https://www.nbcnews.com/tech/internet/bitcoin-loses-more-half-its-value-amid-crypto-crash-n844056?cid=public-rss_20180202\\\">https://www.nbcnews.com/tech/internet/bitcoin-loses-more-half-its-value-amid-crypto-crash-n844056?cid=public-rss_20180202</a></span></li><li><b>Bitcoin loses more than half its value amid crypto crash</b>(26.140495)<br>After stratospheric growth, Bitcoin crashed below $8,000 for the first time in months amid a continuing global crypto rout.<br><span style=\\\"font-size:0.8em\\\"><a href=\\\"https://www.nbcnews.com/tech/internet/bitcoin-loses-more-half-its-value-amid-crypto-crash-n844056?cid=public-rss_20180204\\\">https://www.nbcnews.com/tech/internet/bitcoin-loses-more-half-its-value-amid-crypto-crash-n844056?cid=public-rss_20180204</a></span></li><li><b>Bitcoin loses more than half its value amid crypto crash</b>(26.140495)<br>After stratospheric growth, Bitcoin crashed below $8,000 for the first time in months amid a continuing global crypto rout.<br><span style=\\\"font-size:0.8em\\\"><a href=\\\"https://www.nbcnews.com/tech/internet/bitcoin-loses-more-half-its-value-amid-crypto-crash-n844056?cid=public-rss_20180203\\\">https://www.nbcnews.com/tech/internet/bitcoin-loses-more-half-its-value-amid-crypto-crash-n844056?cid=public-rss_20180203</a></span></li><li><b>Timeline: Irish Olympic ticket-sale scandal</b>(24.739798)<br>Timeline of events in the Rio Olympics illegal ticket-sale scandal.<br><span style=\\\"font-size:0.8em\\\"><a href=\\\"http://www.bbc.com/news/world-europe-37156930\\\">http://www.bbc.com/news/world-europe-37156930</a></span></li></ol></td><td><h4>Showing 460 Results for <em>crypto scandal</em></h4><ol><li><b>Bitcoin, other cryptocurrencies plunge on wave of bad news</b>(0.8700277)<br>Google said it will ban cryptocurrency-related ads, the IMF called for global regulation and members of Congress slammed them at a hearing Wednesday.<br><span style=\\\"font-size:0.8em\\\"><a href=\\\"https://www.nbcnews.com/tech/tech-news/bitcoin-other-cryptocurrencies-plunge-wave-bad-news-n856821?cid=public-rss_20180320\\\">https://www.nbcnews.com/tech/tech-news/bitcoin-other-cryptocurrencies-plunge-wave-bad-news-n856821?cid=public-rss_20180320</a></span></li><li><b>‘Fraud.’ ‘More than a fad.’ The words Wall Street CEOs are using to describe bitcoin</b>(0.8627867)<br>Seems not a day goes by without some Wall Street VIP or financial luminary deciding it’s time for them to weigh in on bitcoin and cryptocurrencies. Here’s a roundup of the latest high-profile statements.<br><span style=\\\"font-size:0.8em\\\"><a href=\\\"http://www.marketwatch.com/story/fraud-or-the-future-how-bitcoin-is-being-described-by-billionaires-and-wall-street-ceos-2017-10-05?siteid=rss&rss=1\\\">http://www.marketwatch.com/story/fraud-or-the-future-how-bitcoin-is-being-described-by-billionaires-and-wall-street-ceos-2017-10-05?siteid=rss&rss=1</a></span></li><li><b>First U.S. cryptocurrency ban outlaws Venezuela’s ‘Petro’ coin</b>(0.8624979)<br>The U.S. executive branch has issued an executive order prohibiting the use or purchase of Venezuela's Petro cryptocurrency.<br><span style=\\\"font-size:0.8em\\\"><a href=\\\"https://www.digitaltrends.com/computing/us-bans-petro-cryptocurrency/\\\">https://www.digitaltrends.com/computing/us-bans-petro-cryptocurrency/</a></span></li><li><b>Trump bans US use of Venezuelan cryptocurrency - WAFB 9 News Baton Rouge, Louisiana News, Weather, Sports</b>(0.8622549)<br><br><span style=\\\"font-size:0.8em\\\"><a href=\\\"http://www.wafb.com/story/37757576/trump-bans-us-use-of-venezuelan-cryptocurrency\\\">http://www.wafb.com/story/37757576/trump-bans-us-use-of-venezuelan-cryptocurrency</a></span></li><li><b>Equifax executive hit with insider trading charge for selling stock before data breach went public</b>(0.86135316)<br>A former executive for Equifax is facing criminal and anti-fraud charges after selling stock options before the company went public with the megabreach.<br><span style=\\\"font-size:0.8em\\\"><a href=\\\"https://www.nbcnews.com/business/business-news/equifax-executive-hit-insider-trading-charge-selling-stock-data-breach-n856601?cid=public-rss_20180320\\\">https://www.nbcnews.com/business/business-news/equifax-executive-hit-insider-trading-charge-selling-stock-data-breach-n856601?cid=public-rss_20180320</a></span></li></ol></td><td><h4>Showing 10 Results for <em>crypto scandal</em></h4><ol><li><b>AP Explains: Why are crypto exchanges vulnerable to hacks?</b>(0.5)<br>AP Explains: Why are crypto exchanges vulnerable to hacks?<br><span style=\\\"font-size:0.8em\\\"><a href=\\\"https://www.taiwannews.com.tw/en/news/3353987\\\">https://www.taiwannews.com.tw/en/news/3353987</a></span></li><li><b>Bitcoin, other cryptocurrencies plunge on wave of bad news</b>(0.5)<br>Google said it will ban cryptocurrency-related ads, the IMF called for global regulation and members of Congress slammed them at a hearing Wednesday.<br><span style=\\\"font-size:0.8em\\\"><a href=\\\"https://www.nbcnews.com/tech/tech-news/bitcoin-other-cryptocurrencies-plunge-wave-bad-news-n856821?cid=public-rss_20180320\\\">https://www.nbcnews.com/tech/tech-news/bitcoin-other-cryptocurrencies-plunge-wave-bad-news-n856821?cid=public-rss_20180320</a></span></li><li><b>‘Fraud.’ ‘More than a fad.’ The words Wall Street CEOs are using to describe bitcoin</b>(0.4570444)<br>Seems not a day goes by without some Wall Street VIP or financial luminary deciding it’s time for them to weigh in on bitcoin and cryptocurrencies. Here’s a roundup of the latest high-profile statements.<br><span style=\\\"font-size:0.8em\\\"><a href=\\\"http://www.marketwatch.com/story/fraud-or-the-future-how-bitcoin-is-being-described-by-billionaires-and-wall-street-ceos-2017-10-05?siteid=rss&rss=1\\\">http://www.marketwatch.com/story/fraud-or-the-future-how-bitcoin-is-being-described-by-billionaires-and-wall-street-ceos-2017-10-05?siteid=rss&rss=1</a></span></li><li><b>First U.S. cryptocurrency ban outlaws Venezuela’s ‘Petro’ coin</b>(0.45533127)<br>The U.S. executive branch has issued an executive order prohibiting the use or purchase of Venezuela's Petro cryptocurrency.<br><span style=\\\"font-size:0.8em\\\"><a href=\\\"https://www.digitaltrends.com/computing/us-bans-petro-cryptocurrency/\\\">https://www.digitaltrends.com/computing/us-bans-petro-cryptocurrency/</a></span></li><li><b>Trump bans US use of Venezuelan cryptocurrency - WAFB 9 News Baton Rouge, Louisiana News, Weather, Sports</b>(0.45388967)<br><br><span style=\\\"font-size:0.8em\\\"><a href=\\\"http://www.wafb.com/story/37757576/trump-bans-us-use-of-venezuelan-cryptocurrency\\\">http://www.wafb.com/story/37757576/trump-bans-us-use-of-venezuelan-cryptocurrency</a></span></li></ol></td></tr>\\n        </table>\\n\""
      ]
     },
     "metadata": {},
     "output_type": "display_data"
    }
   ],
   "source": [
    "search_compare(\"crypto scandal\")\n",
    "nil"
   ]
  },
  {
   "cell_type": "code",
   "execution_count": 31,
   "id": "b43cf988-e82b-4317-978e-f1c6129a8021",
   "metadata": {},
   "outputs": [
    {
     "data": {
      "text/html": [
       "        <style>\n",
       "            .compare li {overflow-x:hidden;width:320px!important;text-align:left;height:200px;border-bottom:1px solid #333;}\n",
       "        </style>\n",
       "        <table class=\"compare\">\n",
       "            <tr><td>BM25</td><td>KNN</td><td>Hybrid (nlp-search-pipeline-equal)</td></tr>\n",
       "            <tr><td><h4>Showing 2741 Results for <em>US economic recovery</em></h4><ol><li><b>Palestinian protesters disrupt US economic meeting</b>(39.690395)<br>Palestinian protesters disrupt US economic meeting<br><span style=\"font-size:0.8em\"><a href=\"https://www.taiwannews.com.tw/en/news/3354307\">https://www.taiwannews.com.tw/en/news/3354307</a></span></li><li><b>Top EU economic powers warn US about tax plans</b>(34.882103)<br>Top EU economic powers warn US about tax plans<br><span style=\"font-size:0.8em\"><a href=\"http://abcnews.go.com/International/wireStory/top-eu-economies-warn-us-tax-plans-51719036\">http://abcnews.go.com/International/wireStory/top-eu-economies-warn-us-tax-plans-51719036</a></span></li><li><b>2017: Obaseki assures Edo poeple of speedy economic recovery</b>(33.060505)<br><br><span style=\"font-size:0.8em\"><a href=\"http://www.nigeriatoday.ng/2017/01/2017-obaseki-assures-edo-poeple-of-speedy-economic-recovery/\">http://www.nigeriatoday.ng/2017/01/2017-obaseki-assures-edo-poeple-of-speedy-economic-recovery/</a></span></li><li><b>Building Institutional Capacity Vital for Nigeria’s Economic Recovery, Says Udoma</b>(31.548922)<br><br><span style=\"font-size:0.8em\"><a href=\"https://www.nigeriatoday.ng/2017/06/building-institutional-capacity-vital-for-nigerias-economic-recovery-says-udoma/\">https://www.nigeriatoday.ng/2017/06/building-institutional-capacity-vital-for-nigerias-economic-recovery-says-udoma/</a></span></li><li><b>Building Institutional Capacity Vital for Nigeria’s Economic Recovery, Says Udoma</b>(31.548922)<br><br><span style=\"font-size:0.8em\"><a href=\"http://www.nigeriatoday.ng/2017/06/building-institutional-capacity-vital-for-nigerias-economic-recovery-says-udoma/\">http://www.nigeriatoday.ng/2017/06/building-institutional-capacity-vital-for-nigerias-economic-recovery-says-udoma/</a></span></li></ol></td><td><h4>Showing 460 Results for <em>US economic recovery</em></h4><ol><li><b>US consumer confidence rebounds in April - WAFB 9 News Baton Rouge, Louisiana News, Weather, Sports</b>(0.8782718)<br><br><span style=\"font-size:0.8em\"><a href=\"http://www.wafb.com/story/38028414/us-consumer-confidence-rebounds-in-april\">http://www.wafb.com/story/38028414/us-consumer-confidence-rebounds-in-april</a></span></li><li><b>US factory output rises for 2nd straight month in latest sign of manufacturing rebound</b>(0.87431824)<br>US factory output rises for 2nd straight month in latest sign of manufacturing rebound<br><span style=\"font-size:0.8em\"><a href=\"http://www.taiwannews.com.tw/en/news/3095825\">http://www.taiwannews.com.tw/en/news/3095825</a></span></li><li><b>Trends Shaping The Return of Manufacturing to US</b>(0.87235814)<br><br><span style=\"font-size:0.8em\"><a href=\"http://www.industryweek.com/global-economy/trends-shaping-return-manufacturing-us\">http://www.industryweek.com/global-economy/trends-shaping-return-manufacturing-us</a></span></li><li><b>Upbeat ‘Beige Book’ prognosis of economy keeps Fed on track for June rate hike</b>(0.8701608)<br>The Federal Reserve said the U.S. grew “moderately” from late April to early May in its latest evaluation of the economy, indicating the central bank remains firmly on track to raise interest rates next month.<br><span style=\"font-size:0.8em\"><a href=\"https://www.marketwatch.com/story/upbeat-beige-book-prognosis-of-economy-keeps-fed-on-track-for-june-rate-hike-2018-05-30?siteid=rss&rss=1\">https://www.marketwatch.com/story/upbeat-beige-book-prognosis-of-economy-keeps-fed-on-track-for-june-rate-hike-2018-05-30?siteid=rss&rss=1</a></span></li><li><b>US businesses increase inventories 0.4 percent in December, biggest sales gain since 2011</b>(0.86628675)<br>US businesses increase inventories 0.4 percent in December, biggest sales gain since 2011<br><span style=\"font-size:0.8em\"><a href=\"http://www.taiwannews.com.tw/en/news/3095845\">http://www.taiwannews.com.tw/en/news/3095845</a></span></li></ol></td><td><h4>Showing 10 Results for <em>US economic recovery</em></h4><ol><li><b>2017: Obaseki assures Edo poeple of speedy economic recovery</b>(0.83361274)<br><br><span style=\"font-size:0.8em\"><a href=\"http://www.nigeriatoday.ng/2017/01/2017-obaseki-assures-edo-poeple-of-speedy-economic-recovery/\">http://www.nigeriatoday.ng/2017/01/2017-obaseki-assures-edo-poeple-of-speedy-economic-recovery/</a></span></li><li><b>US consumer confidence rebounds in April - WAFB 9 News Baton Rouge, Louisiana News, Weather, Sports</b>(0.5)<br><br><span style=\"font-size:0.8em\"><a href=\"http://www.wafb.com/story/38028414/us-consumer-confidence-rebounds-in-april\">http://www.wafb.com/story/38028414/us-consumer-confidence-rebounds-in-april</a></span></li><li><b>Palestinian protesters disrupt US economic meeting</b>(0.5)<br>Palestinian protesters disrupt US economic meeting<br><span style=\"font-size:0.8em\"><a href=\"https://www.taiwannews.com.tw/en/news/3354307\">https://www.taiwannews.com.tw/en/news/3354307</a></span></li><li><b>US factory output rises for 2nd straight month in latest sign of manufacturing rebound</b>(0.48007944)<br>US factory output rises for 2nd straight month in latest sign of manufacturing rebound<br><span style=\"font-size:0.8em\"><a href=\"http://www.taiwannews.com.tw/en/news/3095825\">http://www.taiwannews.com.tw/en/news/3095825</a></span></li><li><b>Trends Shaping The Return of Manufacturing to US</b>(0.47020325)<br><br><span style=\"font-size:0.8em\"><a href=\"http://www.industryweek.com/global-economy/trends-shaping-return-manufacturing-us\">http://www.industryweek.com/global-economy/trends-shaping-return-manufacturing-us</a></span></li></ol></td></tr>\n",
       "        </table>\n"
      ],
      "text/plain": [
       "\"        <style>\\n            .compare li {overflow-x:hidden;width:320px!important;text-align:left;height:200px;border-bottom:1px solid #333;}\\n        </style>\\n        <table class=\\\"compare\\\">\\n            <tr><td>BM25</td><td>KNN</td><td>Hybrid (nlp-search-pipeline-equal)</td></tr>\\n            <tr><td><h4>Showing 2741 Results for <em>US economic recovery</em></h4><ol><li><b>Palestinian protesters disrupt US economic meeting</b>(39.690395)<br>Palestinian protesters disrupt US economic meeting<br><span style=\\\"font-size:0.8em\\\"><a href=\\\"https://www.taiwannews.com.tw/en/news/3354307\\\">https://www.taiwannews.com.tw/en/news/3354307</a></span></li><li><b>Top EU economic powers warn US about tax plans</b>(34.882103)<br>Top EU economic powers warn US about tax plans<br><span style=\\\"font-size:0.8em\\\"><a href=\\\"http://abcnews.go.com/International/wireStory/top-eu-economies-warn-us-tax-plans-51719036\\\">http://abcnews.go.com/International/wireStory/top-eu-economies-warn-us-tax-plans-51719036</a></span></li><li><b>2017: Obaseki assures Edo poeple of speedy economic recovery</b>(33.060505)<br><br><span style=\\\"font-size:0.8em\\\"><a href=\\\"http://www.nigeriatoday.ng/2017/01/2017-obaseki-assures-edo-poeple-of-speedy-economic-recovery/\\\">http://www.nigeriatoday.ng/2017/01/2017-obaseki-assures-edo-poeple-of-speedy-economic-recovery/</a></span></li><li><b>Building Institutional Capacity Vital for Nigeria’s Economic Recovery, Says Udoma</b>(31.548922)<br><br><span style=\\\"font-size:0.8em\\\"><a href=\\\"https://www.nigeriatoday.ng/2017/06/building-institutional-capacity-vital-for-nigerias-economic-recovery-says-udoma/\\\">https://www.nigeriatoday.ng/2017/06/building-institutional-capacity-vital-for-nigerias-economic-recovery-says-udoma/</a></span></li><li><b>Building Institutional Capacity Vital for Nigeria’s Economic Recovery, Says Udoma</b>(31.548922)<br><br><span style=\\\"font-size:0.8em\\\"><a href=\\\"http://www.nigeriatoday.ng/2017/06/building-institutional-capacity-vital-for-nigerias-economic-recovery-says-udoma/\\\">http://www.nigeriatoday.ng/2017/06/building-institutional-capacity-vital-for-nigerias-economic-recovery-says-udoma/</a></span></li></ol></td><td><h4>Showing 460 Results for <em>US economic recovery</em></h4><ol><li><b>US consumer confidence rebounds in April - WAFB 9 News Baton Rouge, Louisiana News, Weather, Sports</b>(0.8782718)<br><br><span style=\\\"font-size:0.8em\\\"><a href=\\\"http://www.wafb.com/story/38028414/us-consumer-confidence-rebounds-in-april\\\">http://www.wafb.com/story/38028414/us-consumer-confidence-rebounds-in-april</a></span></li><li><b>US factory output rises for 2nd straight month in latest sign of manufacturing rebound</b>(0.87431824)<br>US factory output rises for 2nd straight month in latest sign of manufacturing rebound<br><span style=\\\"font-size:0.8em\\\"><a href=\\\"http://www.taiwannews.com.tw/en/news/3095825\\\">http://www.taiwannews.com.tw/en/news/3095825</a></span></li><li><b>Trends Shaping The Return of Manufacturing to US</b>(0.87235814)<br><br><span style=\\\"font-size:0.8em\\\"><a href=\\\"http://www.industryweek.com/global-economy/trends-shaping-return-manufacturing-us\\\">http://www.industryweek.com/global-economy/trends-shaping-return-manufacturing-us</a></span></li><li><b>Upbeat ‘Beige Book’ prognosis of economy keeps Fed on track for June rate hike</b>(0.8701608)<br>The Federal Reserve said the U.S. grew “moderately” from late April to early May in its latest evaluation of the economy, indicating the central bank remains firmly on track to raise interest rates next month.<br><span style=\\\"font-size:0.8em\\\"><a href=\\\"https://www.marketwatch.com/story/upbeat-beige-book-prognosis-of-economy-keeps-fed-on-track-for-june-rate-hike-2018-05-30?siteid=rss&rss=1\\\">https://www.marketwatch.com/story/upbeat-beige-book-prognosis-of-economy-keeps-fed-on-track-for-june-rate-hike-2018-05-30?siteid=rss&rss=1</a></span></li><li><b>US businesses increase inventories 0.4 percent in December, biggest sales gain since 2011</b>(0.86628675)<br>US businesses increase inventories 0.4 percent in December, biggest sales gain since 2011<br><span style=\\\"font-size:0.8em\\\"><a href=\\\"http://www.taiwannews.com.tw/en/news/3095845\\\">http://www.taiwannews.com.tw/en/news/3095845</a></span></li></ol></td><td><h4>Showing 10 Results for <em>US economic recovery</em></h4><ol><li><b>2017: Obaseki assures Edo poeple of speedy economic recovery</b>(0.83361274)<br><br><span style=\\\"font-size:0.8em\\\"><a href=\\\"http://www.nigeriatoday.ng/2017/01/2017-obaseki-assures-edo-poeple-of-speedy-economic-recovery/\\\">http://www.nigeriatoday.ng/2017/01/2017-obaseki-assures-edo-poeple-of-speedy-economic-recovery/</a></span></li><li><b>US consumer confidence rebounds in April - WAFB 9 News Baton Rouge, Louisiana News, Weather, Sports</b>(0.5)<br><br><span style=\\\"font-size:0.8em\\\"><a href=\\\"http://www.wafb.com/story/38028414/us-consumer-confidence-rebounds-in-april\\\">http://www.wafb.com/story/38028414/us-consumer-confidence-rebounds-in-april</a></span></li><li><b>Palestinian protesters disrupt US economic meeting</b>(0.5)<br>Palestinian protesters disrupt US economic meeting<br><span style=\\\"font-size:0.8em\\\"><a href=\\\"https://www.taiwannews.com.tw/en/news/3354307\\\">https://www.taiwannews.com.tw/en/news/3354307</a></span></li><li><b>US factory output rises for 2nd straight month in latest sign of manufacturing rebound</b>(0.48007944)<br>US factory output rises for 2nd straight month in latest sign of manufacturing rebound<br><span style=\\\"font-size:0.8em\\\"><a href=\\\"http://www.taiwannews.com.tw/en/news/3095825\\\">http://www.taiwannews.com.tw/en/news/3095825</a></span></li><li><b>Trends Shaping The Return of Manufacturing to US</b>(0.47020325)<br><br><span style=\\\"font-size:0.8em\\\"><a href=\\\"http://www.industryweek.com/global-economy/trends-shaping-return-manufacturing-us\\\">http://www.industryweek.com/global-economy/trends-shaping-return-manufacturing-us</a></span></li></ol></td></tr>\\n        </table>\\n\""
      ]
     },
     "metadata": {},
     "output_type": "display_data"
    }
   ],
   "source": [
    "search_compare(\"US economic recovery\")\n",
    "nil"
   ]
  },
  {
   "cell_type": "code",
   "execution_count": null,
   "id": "2c1e4068-ef43-49cf-941a-cc6d9c5fb9b5",
   "metadata": {},
   "outputs": [],
   "source": []
  },
  {
   "cell_type": "code",
   "execution_count": null,
   "id": "cafdfe09-c7ce-4f67-8986-17c8b17136ec",
   "metadata": {},
   "outputs": [],
   "source": []
  },
  {
   "cell_type": "code",
   "execution_count": null,
   "id": "e8d4bfbf-45e9-4e97-aeed-7866ff58451e",
   "metadata": {},
   "outputs": [],
   "source": []
  },
  {
   "cell_type": "code",
   "execution_count": null,
   "id": "e958148e-775f-466f-9dbf-43a1d481fcf0",
   "metadata": {},
   "outputs": [],
   "source": []
  },
  {
   "cell_type": "code",
   "execution_count": null,
   "id": "311d2eb3-4017-4ba3-a886-d08878699a16",
   "metadata": {},
   "outputs": [],
   "source": []
  },
  {
   "cell_type": "code",
   "execution_count": null,
   "id": "0f7ed6f1-cb50-4465-86a6-63c6ab0d3191",
   "metadata": {},
   "outputs": [],
   "source": []
  },
  {
   "cell_type": "code",
   "execution_count": null,
   "id": "9443dd69",
   "metadata": {},
   "outputs": [],
   "source": []
  },
  {
   "cell_type": "code",
   "execution_count": null,
   "id": "f8015c6b",
   "metadata": {},
   "outputs": [],
   "source": []
  },
  {
   "cell_type": "code",
   "execution_count": null,
   "id": "e49b1c2f",
   "metadata": {},
   "outputs": [],
   "source": []
  },
  {
   "cell_type": "code",
   "execution_count": null,
   "id": "efbc5121",
   "metadata": {},
   "outputs": [],
   "source": []
  },
  {
   "cell_type": "code",
   "execution_count": null,
   "id": "39f4ab4b",
   "metadata": {},
   "outputs": [],
   "source": []
  },
  {
   "cell_type": "code",
   "execution_count": null,
   "id": "fcbc2f03",
   "metadata": {},
   "outputs": [],
   "source": []
  },
  {
   "cell_type": "code",
   "execution_count": null,
   "id": "45769477",
   "metadata": {},
   "outputs": [],
   "source": []
  }
 ],
 "metadata": {
  "kernelspec": {
   "display_name": "Ruby 3.1.3",
   "language": "ruby",
   "name": "ruby"
  },
  "language_info": {
   "file_extension": ".rb",
   "mimetype": "application/x-ruby",
   "name": "ruby",
   "version": "3.1.3"
  }
 },
 "nbformat": 4,
 "nbformat_minor": 5
}
