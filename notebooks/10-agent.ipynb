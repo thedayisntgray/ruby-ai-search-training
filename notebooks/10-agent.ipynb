{
 "cells": [
  {
   "cell_type": "markdown",
   "id": "f3d8ce0f-bcdb-43fe-b20e-e6ef4c0534c2",
   "metadata": {},
   "source": [
    "# Lab 10 - Agent"
   ]
  },
  {
   "cell_type": "code",
   "execution_count": 198,
   "id": "6f0a80d0-90f9-46f2-8fde-8f8599295c05",
   "metadata": {},
   "outputs": [
    {
     "data": {
      "text/plain": [
       "#<OpenAI::Client:49440 @api_type=nil, @api_version=\"v1\", @access_token=[REDACTED], @log_errors=false, @organization_id=[REDACTED], @uri_base=\"https://api.openai.com/\", @request_timeout=120, @extra_headers=[REDACTED], @faraday_middleware=nil>"
      ]
     },
     "execution_count": 198,
     "metadata": {},
     "output_type": "execute_result"
    }
   ],
   "source": [
    "require 'json'\n",
    "require 'sqlite3'\n",
    "require 'time'\n",
    "require 'openai'\n",
    "require 'narray'\n",
    "require 'dotenv'\n",
    "require 'date'\n",
    "\n",
    "# Load environment variables from .env file\n",
    "Dotenv.load\n",
    "\n",
    "# Initialize OpenAI client using environment variable\n",
    "$client = OpenAI::Client.new(access_token: ENV['OPENAI_API_KEY'])"
   ]
  },
  {
   "cell_type": "markdown",
   "id": "b7851794-3c8e-4732-942d-318f3f7b2b70",
   "metadata": {},
   "source": [
    "## Our database schema, using SQLite"
   ]
  },
  {
   "cell_type": "code",
   "execution_count": 199,
   "id": "1f687a15-a204-41a7-8b99-358f0121cb2e",
   "metadata": {},
   "outputs": [
    {
     "name": "stdout",
     "output_type": "stream",
     "text": [
      "File 'event_planning.db' deleted successfully.\n"
     ]
    },
    {
     "data": {
      "text/plain": [
       "[]"
      ]
     },
     "execution_count": 199,
     "metadata": {},
     "output_type": "execute_result"
    }
   ],
   "source": [
    "require 'fileutils'\n",
    "require 'sqlite3'\n",
    "\n",
    "db_filename = 'event_planning.db'\n",
    "\n",
    "# Try to delete the file if it exists\n",
    "begin\n",
    "  FileUtils.rm(db_filename) if File.exist?(db_filename)\n",
    "  puts \"File '#{db_filename}' deleted successfully.\"\n",
    "rescue StandardError => e\n",
    "  # Silently handle any errors, similar to the Python version\n",
    "end\n",
    "\n",
    "# Connect to SQLite\n",
    "# db = SQLite3::Database.new(db_filename)\n",
    "# db.results_as_hash = true  # This makes query results return as hashes instead of arrays\n",
    "\n",
    "$db = SQLite3::Database.new('event_planning.db')\n",
    "$db.results_as_hash = true\n",
    "\n",
    "\n",
    "\n",
    "# Function to initialize the database and create tables\n",
    "def initialize_database(db)\n",
    "  # Create 'events' table\n",
    "  $db.execute(<<-SQL)\n",
    "    CREATE TABLE IF NOT EXISTS events (\n",
    "      id INTEGER PRIMARY KEY AUTOINCREMENT,\n",
    "      location TEXT NOT NULL,\n",
    "      date TEXT NOT NULL\n",
    "    )\n",
    "  SQL\n",
    "\n",
    "  # Create 'attendees' table\n",
    "  $db.execute(<<-SQL)\n",
    "    CREATE TABLE IF NOT EXISTS attendees (\n",
    "      id INTEGER PRIMARY KEY AUTOINCREMENT,\n",
    "      event_id INTEGER NOT NULL,\n",
    "      full_name TEXT NOT NULL,\n",
    "      FOREIGN KEY (event_id) REFERENCES events (id)\n",
    "    )\n",
    "  SQL\n",
    "end\n",
    "\n",
    "# Initialize the database and create the tables\n",
    "initialize_database(db)"
   ]
  },
  {
   "cell_type": "markdown",
   "id": "8556b259-1219-46a5-b4e4-516e9147fe57",
   "metadata": {},
   "source": [
    "## Calculates the cost of an OpenAI request"
   ]
  },
  {
   "cell_type": "code",
   "execution_count": 200,
   "id": "041173ea-1d67-42e4-9d94-225b0fc51869",
   "metadata": {},
   "outputs": [
    {
     "data": {
      "text/plain": [
       ":cost"
      ]
     },
     "execution_count": 200,
     "metadata": {},
     "output_type": "execute_result"
    }
   ],
   "source": [
    "def cost(response)\n",
    "  # Define prices per million tokens for each model version\n",
    "  prices_per_million = {\n",
    "    \"gpt-4o\" => { \"input\" => 5.00, \"output\" => 15.00 },\n",
    "    \"gpt-4o-2024-08-06\" => { \"input\" => 2.50, \"output\" => 10.00 },\n",
    "    \"gpt-4o-2024-05-13\" => { \"input\" => 5.00, \"output\" => 15.00 },\n",
    "    \"gpt-4o-mini\" => { \"input\" => 0.15, \"output\" => 0.60 },\n",
    "    \"gpt-4o-mini-2024-07-18\" => { \"input\" => 0.15, \"output\" => 0.60 },\n",
    "    \"gpt-3.5-turbo\" => { \"input\" => 0.003, \"output\" => 0.006 },\n",
    "    \"davinci-002\" => { \"input\" => 12.00, \"output\" => 12.00 },\n",
    "    \"babbage-002\" => { \"input\" => 1.60, \"output\" => 1.60 },\n",
    "    \"text-embedding-3-small\" => { \"input\" => 0.020, \"output\" => 0.020 },\n",
    "    \"text-embedding-3-large\" => { \"input\" => 0.130, \"output\" => 0.130 },\n",
    "    \"ada-v2\" => { \"input\" => 0.100, \"output\" => 0.100 }\n",
    "  }\n",
    "\n",
    "  model_version = response.model\n",
    "  \n",
    "  if prices_per_million.key?(model_version)\n",
    "    input_price_per_million = prices_per_million[model_version][\"input\"]\n",
    "    output_price_per_million = prices_per_million[model_version][\"output\"]\n",
    "  else\n",
    "    raise \"Pricing information for model '#{model_version}' is not available.\"\n",
    "  end\n",
    "\n",
    "  # Get token usage\n",
    "  prompt_tokens = response.usage.prompt_tokens\n",
    "  completion_tokens = response.usage.completion_tokens\n",
    "\n",
    "  # Calculate costs in dollars\n",
    "  input_cost = (prompt_tokens.to_f / 1_000_000) * input_price_per_million\n",
    "  output_cost = (completion_tokens.to_f / 1_000_000) * output_price_per_million\n",
    "  total_cost = input_cost + output_cost\n",
    "\n",
    "  total_cost\n",
    "end"
   ]
  },
  {
   "cell_type": "code",
   "execution_count": null,
   "id": "307e8bc4-d041-4db9-91d7-0823664df8df",
   "metadata": {},
   "outputs": [],
   "source": []
  },
  {
   "cell_type": "markdown",
   "id": "c462ae8a-9bcb-486b-9395-d1cb06f61c89",
   "metadata": {},
   "source": [
    "## Helpers to process structured OpenAI responses"
   ]
  },
  {
   "cell_type": "code",
   "execution_count": 201,
   "id": "1fb50934-1d9b-476e-807a-c706b734a2b5",
   "metadata": {},
   "outputs": [
    {
     "data": {
      "text/plain": [
       ":chain_of_thought_response"
      ]
     },
     "execution_count": 201,
     "metadata": {},
     "output_type": "execute_result"
    }
   ],
   "source": [
    "def tool_response(response)\n",
    "  begin\n",
    "    message = response.dig(\"choices\", 0, \"message\")\n",
    "    return nil unless message && message[\"tool_calls\"]\n",
    "    \n",
    "    tool_call = message[\"tool_calls\"][0]\n",
    "    return nil unless tool_call && tool_call[\"function\"]\n",
    "    \n",
    "    arguments_str = tool_call[\"function\"][\"arguments\"]\n",
    "    JSON.parse(arguments_str)\n",
    "  rescue StandardError => e\n",
    "    puts \"Error parsing tool response: #{e}\"\n",
    "    nil\n",
    "  end\n",
    "end\n",
    "\n",
    "def chain_of_thought_response(response)\n",
    "  begin\n",
    "    content = response.dig(\"choices\", 0, \"message\", \"content\")\n",
    "    return nil unless content\n",
    "    \n",
    "    content_json = JSON.parse(content)\n",
    "    content_json[\"final_answer\"]\n",
    "  rescue StandardError => e\n",
    "    puts \"Error parsing chain of thought response: #{e}\"\n",
    "    nil\n",
    "  end\n",
    "end\n",
    "\n"
   ]
  },
  {
   "cell_type": "code",
   "execution_count": 202,
   "id": "2b2173d2-9cd4-4072-b658-917615f1a7e8",
   "metadata": {},
   "outputs": [],
   "source": [
    "# def tool_response(response)\n",
    "#   begin\n",
    "#     content = response.choices[0]\n",
    "#     tool_call = content.message.tool_calls[0]\n",
    "#     arguments_str = tool_call.function.arguments\n",
    "#     JSON.parse(arguments_str)\n",
    "#   rescue StandardError => e\n",
    "#     puts response\n",
    "#     puts e\n",
    "#     nil\n",
    "#   end\n",
    "# end"
   ]
  },
  {
   "cell_type": "code",
   "execution_count": 203,
   "id": "44d82e19-17ac-4334-8472-215fd86473b2",
   "metadata": {},
   "outputs": [],
   "source": [
    "# def chain_of_thought_response(response)\n",
    "#   begin\n",
    "#     choice = response.choices[0]\n",
    "#     content = choice.message.content\n",
    "#     content_json = JSON.parse(content)\n",
    "#     content_json[\"final_answer\"]\n",
    "#   rescue StandardError => e\n",
    "#     puts response\n",
    "#     puts e\n",
    "#     nil\n",
    "#   end\n",
    "# end"
   ]
  },
  {
   "cell_type": "markdown",
   "id": "705a8736-7fe9-4b2d-8c1d-2edd3632c614",
   "metadata": {},
   "source": [
    "## OpenAI completion request methods"
   ]
  },
  {
   "cell_type": "code",
   "execution_count": 204,
   "id": "47db25a7-0fa4-4637-a283-7e388995533e",
   "metadata": {},
   "outputs": [
    {
     "data": {
      "text/plain": [
       ":complete_chain_of_thought"
      ]
     },
     "execution_count": 204,
     "metadata": {},
     "output_type": "execute_result"
    }
   ],
   "source": [
    "# def complete_chain_of_thought(prompt, function)\n",
    "#   # Extract function components for the template\n",
    "#   name = function[\"name\"]\n",
    "#   description = function[\"description\"]\n",
    "#   parameters = function[\"parameters\"]\n",
    "  \n",
    "#   resp = $client.chat(\n",
    "#     parameters: {\n",
    "#       messages: [\n",
    "#         {\n",
    "#           role: \"system\",\n",
    "#           content: \"You are a helpful event planning assistant. Always analyze and think step-by-step before responding with the final answer.\"\n",
    "#         },\n",
    "#         {\n",
    "#           role: \"user\",\n",
    "#           content: prompt\n",
    "#         }\n",
    "#       ],\n",
    "#       model: \"gpt-4o-mini\",\n",
    "#       temperature: 0,\n",
    "#       response_format: {\n",
    "#         type: \"json_schema\",\n",
    "#         json_schema: {\n",
    "#           name: name,\n",
    "#           description: description,\n",
    "#           strict: true,\n",
    "#           schema: {\n",
    "#             type: \"object\",\n",
    "#             properties: {\n",
    "#               steps: {\n",
    "#                 type: \"array\",\n",
    "#                 items: {\n",
    "#                   type: \"object\",\n",
    "#                   properties: {\n",
    "#                     explanation: {\n",
    "#                       type: \"string\"\n",
    "#                     },\n",
    "#                     output: {\n",
    "#                       type: \"string\"\n",
    "#                     }\n",
    "#                   },\n",
    "#                   required: [\"explanation\", \"output\"],\n",
    "#                   additional_properties: false\n",
    "#                 }\n",
    "#               },\n",
    "#               final_answer: parameters\n",
    "#             },\n",
    "#             required: [\"steps\", \"final_answer\"],\n",
    "#             additional_properties: false\n",
    "#           }\n",
    "#         }\n",
    "#       }\n",
    "#     }\n",
    "#   )\n",
    "  \n",
    "#   chain_of_thought_response(resp)\n",
    "# end\n",
    "\n",
    "def complete_chain_of_thought(prompt, function)\n",
    "  response = $client.chat(\n",
    "    parameters: {\n",
    "      model: \"gpt-4\",\n",
    "      messages: [\n",
    "        {\n",
    "          role: \"system\",\n",
    "          content: \"You are a helpful event planning assistant. Always analyze and think step-by-step before responding with the final answer.\"\n",
    "        },\n",
    "        {\n",
    "          role: \"user\",\n",
    "          content: prompt\n",
    "        }\n",
    "      ],\n",
    "      temperature: 0,\n",
    "      response_format: { \n",
    "        type: \"json_object\"\n",
    "      },\n",
    "      tools: [{  # Add tools configuration\n",
    "        type: \"function\",\n",
    "        function: function\n",
    "      }],\n",
    "      tool_choice: \"auto\"\n",
    "    }\n",
    "  )\n",
    "  chain_of_thought_response(response)\n",
    "end"
   ]
  },
  {
   "cell_type": "code",
   "execution_count": 205,
   "id": "5d6117b0-58f6-4091-b78e-22959239ff99",
   "metadata": {},
   "outputs": [
    {
     "data": {
      "text/plain": [
       ":get_list_events_function"
      ]
     },
     "execution_count": 205,
     "metadata": {},
     "output_type": "execute_result"
    }
   ],
   "source": [
    "# def complete_function(prompt, function, chain = false)\n",
    "#   # If chain is true, use the chain of thought completion\n",
    "#   return complete_chain_of_thought(prompt, function) if chain\n",
    "  \n",
    "#   # Otherwise, proceed with normal function calling\n",
    "#   resp = $client.chat(\n",
    "#     parameters: {\n",
    "#       messages: [\n",
    "#         {\n",
    "#           role: \"system\",\n",
    "#           content: \"You are a helpful event planning assistant.\"\n",
    "#         },\n",
    "#         {\n",
    "#           role: \"user\",\n",
    "#           content: prompt\n",
    "#         }\n",
    "#       ],\n",
    "#       model: \"gpt-4o\",\n",
    "#       temperature: 0,\n",
    "#       tools: [\n",
    "#         {\n",
    "#           type: \"function\",\n",
    "#           function: function\n",
    "#         }\n",
    "#       ]\n",
    "#     }\n",
    "#   )\n",
    "  \n",
    "#   tool_response(resp)\n",
    "# end\n",
    "\n",
    "# def complete_function(prompt, function, chain: false)\n",
    "#   if chain\n",
    "#     return complete_chain_of_thought(prompt, function)\n",
    "#   end\n",
    "  \n",
    "#   response = $client.chat(\n",
    "#     parameters: {\n",
    "#       model: \"gpt-4\",\n",
    "#       messages: [\n",
    "#         {\n",
    "#           role: \"system\",\n",
    "#           content: \"You are a helpful event planning assistant.\"\n",
    "#         },\n",
    "#         {\n",
    "#           role: \"user\",\n",
    "#           content: prompt\n",
    "#         }\n",
    "#       ],\n",
    "#       tools: [{\n",
    "#         type: \"function\",\n",
    "#         function: function\n",
    "#       }],\n",
    "#       tool_choice: \"auto\"\n",
    "#     }\n",
    "#   )\n",
    "#   tool_response(response)\n",
    "# end\n",
    "\n",
    "def complete_chain_of_thought(prompt, function)\n",
    "  response = $client.chat(\n",
    "    parameters: {\n",
    "      model: \"gpt-4\",\n",
    "      messages: [\n",
    "        {\n",
    "          role: \"system\",\n",
    "          content: \"You are a helpful event planning assistant. Always analyze and think step-by-step before responding with the final answer.\"\n",
    "        },\n",
    "        {\n",
    "          role: \"user\",\n",
    "          content: prompt\n",
    "        }\n",
    "      ],\n",
    "      temperature: 0,\n",
    "      function_call: { name: function[\"name\"] },\n",
    "      functions: [function]  # Changed from tools to functions\n",
    "    }\n",
    "  )\n",
    "  chain_of_thought_response(response)\n",
    "end\n",
    "\n",
    "def get_list_events_function\n",
    "  {\n",
    "    \"name\" => \"events_query\",\n",
    "    \"description\" => \"Filter parameters to query an events SQL table based on dates.\",\n",
    "    \"parameters\" => {\n",
    "      \"type\" => \"object\",\n",
    "      \"properties\" => {\n",
    "        \"after_date\" => {\n",
    "          \"type\" => \"string\",\n",
    "          \"description\" => \"The date formatted in YYYY-MM-DD\"\n",
    "        },\n",
    "        \"before_date\" => {\n",
    "          \"type\" => \"string\",\n",
    "          \"description\" => \"The date formatted in YYYY-MM-DD\"\n",
    "        }\n",
    "      },\n",
    "      \"required\" => [\"after_date\", \"before_date\"],\n",
    "      \"additionalProperties\" => false\n",
    "    }\n",
    "  }\n",
    "end"
   ]
  },
  {
   "cell_type": "markdown",
   "id": "0050f1c0-e627-464a-b60b-b612f31c310e",
   "metadata": {},
   "source": [
    "## Task Classification"
   ]
  },
  {
   "cell_type": "code",
   "execution_count": 206,
   "id": "a46b8d5b-64e6-4d92-8a9a-af5c1ff81c7f",
   "metadata": {},
   "outputs": [
    {
     "data": {
      "text/plain": [
       ":get_classification_prompt"
      ]
     },
     "execution_count": 206,
     "metadata": {},
     "output_type": "execute_result"
    }
   ],
   "source": [
    "def get_classification_prompt(query)\n",
    "  <<~PROMPT\n",
    "    # Instructions\n",
    "\n",
    "    For an event management SaaS product, natural language queries need to be classified and routed to the appropriate branch. Classify the following user query:\n",
    "    \n",
    "    #{query}\n",
    "  PROMPT\n",
    "end"
   ]
  },
  {
   "cell_type": "code",
   "execution_count": 207,
   "id": "79f5c97b-3df3-4a0c-a63e-e242b795a476",
   "metadata": {},
   "outputs": [
    {
     "data": {
      "text/plain": [
       ":get_classification_function"
      ]
     },
     "execution_count": 207,
     "metadata": {},
     "output_type": "execute_result"
    }
   ],
   "source": [
    "def get_classification_function(methods_enum)\n",
    "  {\n",
    "    \"name\" => \"task_type\",\n",
    "    \"description\" => \"Classify the task based on the user query.\",\n",
    "    \"parameters\" => {\n",
    "      \"type\" => \"object\",\n",
    "      \"properties\" => {\n",
    "        \"task_type\" => {\n",
    "          \"type\" => \"string\",\n",
    "          \"enum\" => methods_enum\n",
    "        }\n",
    "      },\n",
    "      \"required\" => [\"task_type\"],\n",
    "      \"additionalProperties\" => false  # Changed from additional_properties\n",
    "    }\n",
    "  }\n",
    "end"
   ]
  },
  {
   "cell_type": "code",
   "execution_count": 208,
   "id": "245ffde9-46ce-424f-9f48-04d937e8d5ae",
   "metadata": {},
   "outputs": [
    {
     "data": {
      "text/plain": [
       ":classify"
      ]
     },
     "execution_count": 208,
     "metadata": {},
     "output_type": "execute_result"
    }
   ],
   "source": [
    "def classify(methods_enum, query)\n",
    "  prompt = get_classification_prompt(query)\n",
    "  function = get_classification_function(methods_enum)\n",
    "  classification = complete_function(prompt, function)\n",
    "  \n",
    "  if classification\n",
    "    task = classification['task_type']\n",
    "    puts \"#{query} => #{task}\"\n",
    "    task\n",
    "  else\n",
    "    nil\n",
    "  end\n",
    "end"
   ]
  },
  {
   "cell_type": "code",
   "execution_count": 209,
   "id": "3feeb928-5296-44a1-9891-9be912710df6",
   "metadata": {},
   "outputs": [
    {
     "data": {
      "text/plain": [
       ":date_from_string"
      ]
     },
     "execution_count": 209,
     "metadata": {},
     "output_type": "execute_result"
    }
   ],
   "source": [
    "def date_from_string(datestr)\n",
    "  begin\n",
    "    Date.strptime(datestr, '%Y-%m-%d')\n",
    "  rescue Date::Error\n",
    "    nil\n",
    "  end\n",
    "end"
   ]
  },
  {
   "cell_type": "markdown",
   "id": "51edeb1b-07f7-48f2-96b9-fc68df64b308",
   "metadata": {},
   "source": [
    "## Create Event"
   ]
  },
  {
   "cell_type": "code",
   "execution_count": 210,
   "id": "74e30a72-89b9-4465-9df1-2f284290b2ca",
   "metadata": {},
   "outputs": [
    {
     "data": {
      "text/plain": [
       ":create_event"
      ]
     },
     "execution_count": 210,
     "metadata": {},
     "output_type": "execute_result"
    }
   ],
   "source": [
    "def get_create_event_prompt(query)\n",
    "  current_date = Time.now.strftime('%B %d, %Y')\n",
    "  <<~PROMPT\n",
    "    # Instructions\n",
    "\n",
    "    Today's date is #{current_date}. For an event management SaaS product, extract the location and the date from the following user query. For dates that don't specify a year, always choose a date in the future:\n",
    "\n",
    "    ## User Query\n",
    "\n",
    "    #{query}\n",
    "  PROMPT\n",
    "end\n",
    "\n",
    "def get_create_event_function\n",
    "  {\n",
    "    \"name\" => \"event_details\",\n",
    "    \"description\" => \"Extract the location and date for an event.\",\n",
    "    \"strict\" => true,\n",
    "    \"parameters\" => {\n",
    "      \"type\" => \"object\",\n",
    "      \"properties\" => {\n",
    "        \"location\" => {\n",
    "          \"type\" => \"string\"\n",
    "        },\n",
    "        \"date\" => {\n",
    "          \"type\" => \"string\",\n",
    "          \"description\" => \"The date formatted in YYYY-MM-DD\"\n",
    "        }\n",
    "      },\n",
    "      \"required\" => [\"location\", \"date\"],\n",
    "      \"additional_properties\" => false\n",
    "    }\n",
    "  }\n",
    "end\n",
    "\n",
    "def create_event_sql(location, date)\n",
    "  begin\n",
    "    $db.execute(\n",
    "      'INSERT INTO events (location, date) VALUES (?, ?)',\n",
    "      [location, date]\n",
    "    )\n",
    "    puts \"Event '#{location}' created successfully.\"\n",
    "  rescue SQLite3::Exception => e\n",
    "    puts \"Error creating event: #{e}\"\n",
    "  end\n",
    "end\n",
    "\n",
    "def create_event(query, chain = false)\n",
    "  args = complete_function(\n",
    "    get_create_event_prompt(query),\n",
    "    get_create_event_function,\n",
    "    chain: chain\n",
    "  )\n",
    "  \n",
    "  puts args\n",
    "  if args\n",
    "    location = args[\"location\"]\n",
    "    date = date_from_string(args[\"date\"])\n",
    "    create_event_sql(location, date)\n",
    "  end\n",
    "end"
   ]
  },
  {
   "cell_type": "code",
   "execution_count": 211,
   "id": "d4b82705-4260-44bf-84f6-9a6e980c43ae",
   "metadata": {},
   "outputs": [],
   "source": [
    "#create_event(\"Book the Ellison Lodge A for December 4th\", chain: true)"
   ]
  },
  {
   "cell_type": "markdown",
   "id": "ddfb2ef4-ab00-4575-87f9-70bd1f7a52f1",
   "metadata": {},
   "source": [
    "## List Events"
   ]
  },
  {
   "cell_type": "code",
   "execution_count": 212,
   "id": "5f7a1525-ce1e-48e7-ba4e-75e7ec701fba",
   "metadata": {},
   "outputs": [
    {
     "data": {
      "text/plain": [
       ":list_events"
      ]
     },
     "execution_count": 212,
     "metadata": {},
     "output_type": "execute_result"
    }
   ],
   "source": [
    "def get_list_events_prompt(query)\n",
    "  current_date = Time.now.strftime('%B %d, %Y')\n",
    "  <<~PROMPT\n",
    "    # Instructions\n",
    "\n",
    "    Today's date is #{current_date}. For an event management SaaS product, a user is asking to list upcoming events for which an optional date range can be provided. For dates that don't specify a year, always choose a date in the future. Extract the date range from the following user query:\n",
    "    \n",
    "    #{query}\n",
    "  PROMPT\n",
    "end\n",
    "\n",
    "# def get_list_events_function\n",
    "#   {\n",
    "#     \"name\" => \"events_query\",\n",
    "#     \"description\" => \"Filter parameters to query an events SQL table based on dates.\",\n",
    "#     \"strict\" => true,\n",
    "#     \"parameters\" => {\n",
    "#       \"type\" => \"object\",\n",
    "#       \"properties\" => {\n",
    "#         \"after_date\" => {\n",
    "#           \"type\" => \"string\",\n",
    "#           \"description\" => \"The date formatted in YYYY-MM-DD\"\n",
    "#         },\n",
    "#         \"before_date\" => {\n",
    "#           \"type\" => \"string\",\n",
    "#           \"description\" => \"The date formatted in YYYY-MM-DD\"\n",
    "#         }\n",
    "#       },\n",
    "#       \"required\" => [\"after_date\", \"before_date\"],\n",
    "#       \"additional_properties\" => false\n",
    "#     }\n",
    "#   }\n",
    "# end\n",
    "\n",
    "def list_events_sql(after_date: nil, before_date: nil, output: true)\n",
    "  query = 'SELECT id, location, date FROM events'\n",
    "  params = []\n",
    "  \n",
    "  # Add conditions for filtering by date\n",
    "  if after_date && before_date\n",
    "    query += ' WHERE date >= ? AND date <= ?'\n",
    "    params.push(after_date, before_date)\n",
    "  elsif after_date\n",
    "    query += ' WHERE date >= ?'\n",
    "    params.push(after_date)\n",
    "  elsif before_date\n",
    "    query += ' WHERE date <= ?'\n",
    "    params.push(before_date)\n",
    "  end\n",
    "  \n",
    "  # Execute the query with filters if any\n",
    "  events = $db.execute(query, params)\n",
    "  \n",
    "  if events.any?\n",
    "    if output\n",
    "      events.each do |ev|\n",
    "        puts \"ID: #{ev[0]}, Location: #{ev[1]}, Date: #{ev[2]}\"\n",
    "      end\n",
    "    end\n",
    "    events\n",
    "  else\n",
    "    puts \"No events found for the specified date range.\"\n",
    "    nil\n",
    "  end\n",
    "end\n",
    "\n",
    "def list_events(query, chain: false)\n",
    "  args = complete_function(\n",
    "    get_list_events_prompt(query),\n",
    "    get_list_events_function,\n",
    "    chain: chain\n",
    "  )\n",
    "  \n",
    "  puts args\n",
    "  if args\n",
    "    after_date = date_from_string(args[\"after_date\"])\n",
    "    before_date = date_from_string(args[\"before_date\"])\n",
    "    list_events_sql(after_date: after_date, before_date: before_date)\n",
    "  end\n",
    "end"
   ]
  },
  {
   "cell_type": "code",
   "execution_count": 213,
   "id": "9447b610-f2a7-4506-a2e8-2769d676718b",
   "metadata": {},
   "outputs": [
    {
     "name": "stdout",
     "output_type": "stream",
     "text": [
      "\n"
     ]
    }
   ],
   "source": [
    "list_events(\"highland\", chain: true)"
   ]
  },
  {
   "cell_type": "markdown",
   "id": "c4c3324a-ae79-4b74-9f4c-c79863cb84ad",
   "metadata": {},
   "source": [
    "## Create Attendee"
   ]
  },
  {
   "cell_type": "code",
   "execution_count": 214,
   "id": "03108180-4ae5-49c7-a017-6fdb16cad358",
   "metadata": {},
   "outputs": [
    {
     "data": {
      "text/plain": [
       ":get_event_id"
      ]
     },
     "execution_count": 214,
     "metadata": {},
     "output_type": "execute_result"
    }
   ],
   "source": [
    "def get_events_enum\n",
    "  events = list_events_sql(output: false)\n",
    "  events_enum = events.map { |e| \"#{e[1]} on #{e[2]}\" }\n",
    "  events_enum.push(\"other\")\n",
    "  events_enum\n",
    "end\n",
    "\n",
    "def get_event_id(event_str)\n",
    "  return nil if event_str == \"other\"  # Fallback spotted! No event found\n",
    "  \n",
    "  events = list_events_sql(output: false)\n",
    "  events.each do |ev|\n",
    "    curr_event_str = \"#{ev[1]} on #{ev[2]}\"\n",
    "    return ev[0] if event_str == curr_event_str  # Found the event!\n",
    "  end\n",
    "  \n",
    "  nil\n",
    "end"
   ]
  },
  {
   "cell_type": "code",
   "execution_count": 215,
   "id": "3e424c95-953c-48cd-a5d2-470f3843b6d2",
   "metadata": {},
   "outputs": [
    {
     "data": {
      "text/plain": [
       ":create_attendee"
      ]
     },
     "execution_count": 215,
     "metadata": {},
     "output_type": "execute_result"
    }
   ],
   "source": [
    "def get_create_attendee_prompt(query)\n",
    "  current_date = Time.now.strftime('%B %d, %Y')\n",
    "  <<~PROMPT\n",
    "    # Instructions\n",
    "\n",
    "    Today's date is #{current_date}. For an event management SaaS product, extract the event and the attendee name from the following user query:\n",
    "    \n",
    "    #{query}\n",
    "  PROMPT\n",
    "end\n",
    "\n",
    "def get_create_attendee_function(events_enum)\n",
    "  {\n",
    "    \"name\" => \"attendee_rsvp_details\",\n",
    "    \"description\" => \"Extract the event details and the attendee names.\",\n",
    "    \"strict\" => true,\n",
    "    \"parameters\" => {\n",
    "      \"type\" => \"object\",\n",
    "      \"properties\" => {\n",
    "        \"event\" => {\n",
    "          \"type\" => \"string\",\n",
    "          \"enum\" => events_enum\n",
    "        },\n",
    "        \"attendees\" => {\n",
    "          \"type\" => \"array\",\n",
    "          \"items\" => {\n",
    "            \"type\" => \"string\"\n",
    "          }\n",
    "        }\n",
    "      },\n",
    "      \"required\" => [\"event\", \"attendees\"],\n",
    "      \"additional_properties\" => false\n",
    "    }\n",
    "  }\n",
    "end\n",
    "\n",
    "def create_attendee_sql(event_id, full_name)\n",
    "  begin\n",
    "    $db.execute(\n",
    "      'INSERT INTO attendees (event_id, full_name) VALUES (?, ?)',\n",
    "      [event_id, full_name]\n",
    "    )\n",
    "    puts \"Attendee '#{full_name}' added to event ID #{event_id}.\"\n",
    "  rescue SQLite3::Exception => e\n",
    "    puts \"Error adding attendee: #{e}\"\n",
    "  end\n",
    "end\n",
    "\n",
    "def create_attendee(query, chain: false)\n",
    "  events_enum = get_events_enum\n",
    "  \n",
    "  if events_enum&.any?\n",
    "    args = complete_function(\n",
    "      get_create_attendee_prompt(query),\n",
    "      get_create_attendee_function(events_enum),\n",
    "      chain: chain\n",
    "    )\n",
    "    \n",
    "    puts args\n",
    "    if args\n",
    "      event_id = get_event_id(args[\"event\"])\n",
    "      if event_id\n",
    "        names = args[\"attendees\"]\n",
    "        names.each do |name|\n",
    "          create_attendee_sql(event_id, name)\n",
    "        end\n",
    "      end\n",
    "    end\n",
    "  else\n",
    "    puts \"[create_attendee] No events found! Please create an event first\"\n",
    "    nil\n",
    "  end\n",
    "end"
   ]
  },
  {
   "cell_type": "markdown",
   "id": "40da20be-3dcc-4dd4-bbde-4467d376d948",
   "metadata": {},
   "source": [
    "## List Attendees"
   ]
  },
  {
   "cell_type": "code",
   "execution_count": 216,
   "id": "dfae736d-2115-4b6d-b01a-90ce4019aed0",
   "metadata": {},
   "outputs": [
    {
     "data": {
      "text/plain": [
       ":list_attendees"
      ]
     },
     "execution_count": 216,
     "metadata": {},
     "output_type": "execute_result"
    }
   ],
   "source": [
    "def get_list_attendees_prompt(query)\n",
    "  current_date = Time.now.strftime('%B %d, %Y')\n",
    "  <<~PROMPT\n",
    "    # Instructions\n",
    "\n",
    "    Today's date is #{current_date}. For an event management SaaS product, extract the event from the following user query:\n",
    "    \n",
    "    #{query}\n",
    "  PROMPT\n",
    "end\n",
    "\n",
    "def get_list_attendees_function(events_enum)\n",
    "  {\n",
    "    \"name\" => \"event_query\",\n",
    "    \"description\" => \"Identify the event details\",\n",
    "    \"strict\" => true,\n",
    "    \"parameters\" => {\n",
    "      \"type\" => \"object\",\n",
    "      \"properties\" => {\n",
    "        \"event\" => {\n",
    "          \"type\" => \"string\",\n",
    "          \"enum\" => events_enum\n",
    "        }\n",
    "      },\n",
    "      \"required\" => [\"event\"],\n",
    "      \"additional_properties\" => false\n",
    "    }\n",
    "  }\n",
    "end\n",
    "\n",
    "def list_attendees_sql(event_id)\n",
    "  attendees = $db.execute(\n",
    "    'SELECT id, full_name FROM attendees WHERE event_id = ?',\n",
    "    [event_id]\n",
    "  )\n",
    "  \n",
    "  if attendees.any?\n",
    "    attendees.each do |attendee|\n",
    "      puts \"ID: #{attendee[0]}, Name: #{attendee[1]}\"\n",
    "    end\n",
    "    attendees\n",
    "  else\n",
    "    puts \"No attendees found for event ID #{event_id}.\"\n",
    "    nil\n",
    "  end\n",
    "end\n",
    "\n",
    "def list_attendees(query, chain: false)\n",
    "  events_enum = get_events_enum\n",
    "  \n",
    "  if events_enum&.any?\n",
    "    args = complete_function(\n",
    "      get_list_attendees_prompt(query),\n",
    "      get_list_attendees_function(events_enum),\n",
    "      chain: chain\n",
    "    )\n",
    "    \n",
    "    if args\n",
    "      event_id = get_event_id(args[\"event\"])\n",
    "      list_attendees_sql(event_id)\n",
    "    end\n",
    "  else\n",
    "    puts \"[list_attendees] No events found! Please create an event first\"\n",
    "    nil\n",
    "  end\n",
    "end"
   ]
  },
  {
   "cell_type": "markdown",
   "id": "63426dea-28fb-424b-b216-09a89daf211e",
   "metadata": {},
   "source": [
    "# Main Agent Loop\n",
    "\n",
    "1. Accept a user query\n",
    "2. Classify the query task (create event, list events, etc..)\n",
    "3. Call appropriate task method\n",
    "4. Repeat"
   ]
  },
  {
   "cell_type": "code",
   "execution_count": 217,
   "id": "7e00fd08-5e9f-45b9-a28c-46a5bea6fc28",
   "metadata": {},
   "outputs": [
    {
     "data": {
      "text/plain": [
       ":run"
      ]
     },
     "execution_count": 217,
     "metadata": {},
     "output_type": "execute_result"
    }
   ],
   "source": [
    "def fallback(query, chain: false)\n",
    "  puts \"Fallback! #{query}\"\n",
    "end\n",
    "\n",
    "def run(query, chain: true)\n",
    "  methods = {\n",
    "    \"create_event\" => method(:create_event),\n",
    "    \"list_events\" => method(:list_events),\n",
    "    \"create_attendee\" => method(:create_attendee),\n",
    "    \"list_attendees\" => method(:list_attendees),\n",
    "    \"other\" => method(:fallback)\n",
    "  }\n",
    "  \n",
    "  puts '--------'\n",
    "  methods_enum = methods.keys\n",
    "  method_key = classify(methods_enum, query)\n",
    "  method = methods[method_key]\n",
    "  method.call(query, chain: chain)\n",
    "end"
   ]
  },
  {
   "cell_type": "code",
   "execution_count": 218,
   "id": "0a394e65-6dd2-4c41-a424-0577c913c961",
   "metadata": {},
   "outputs": [
    {
     "name": "stdout",
     "output_type": "stream",
     "text": [
      "--------\n",
      "Book the Ellison Lodge A for December 4th => create_event\n"
     ]
    },
    {
     "ename": "Faraday::BadRequestError",
     "evalue": "the server responded with status 400",
     "output_type": "error",
     "traceback": [
      "\u001b[31mFaraday::BadRequestError\u001b[0m: the server responded with status 400",
      "/home/jovyan/.local/share/gem/ruby/3.1.0/gems/faraday-2.12.1/lib/faraday/response/raise_error.rb:30:in `on_complete'",
      "/home/jovyan/.local/share/gem/ruby/3.1.0/gems/faraday-2.12.1/lib/faraday/middleware.rb:57:in `block in call'",
      "/home/jovyan/.local/share/gem/ruby/3.1.0/gems/faraday-2.12.1/lib/faraday/response.rb:42:in `on_complete'",
      "/home/jovyan/.local/share/gem/ruby/3.1.0/gems/faraday-2.12.1/lib/faraday/middleware.rb:56:in `call'",
      "/home/jovyan/.local/share/gem/ruby/3.1.0/gems/faraday-2.12.1/lib/faraday/rack_builder.rb:152:in `build_response'",
      "/home/jovyan/.local/share/gem/ruby/3.1.0/gems/faraday-2.12.1/lib/faraday/connection.rb:452:in `run_request'",
      "/home/jovyan/.local/share/gem/ruby/3.1.0/gems/faraday-2.12.1/lib/faraday/connection.rb:280:in `post'",
      "/home/jovyan/.local/share/gem/ruby/3.1.0/gems/ruby-openai-7.3.1/lib/openai/http.rb:22:in `json_post'",
      "/home/jovyan/.local/share/gem/ruby/3.1.0/gems/ruby-openai-7.3.1/lib/openai/client.rb:31:in `chat'",
      "(irb):60:in `complete_chain_of_thought'",
      "(irb):33:in `complete_function'",
      "(irb):48:in `create_event'",
      "(irb):17:in `call'",
      "(irb):17:in `run'",
      "(irb):in `<top (required)>'"
     ]
    }
   ],
   "source": [
    "run(\"Book the Ellison Lodge A for December 4th\")\n",
    "run(\"Jane Doe is coming to the party on 12/4\")\n",
    "run(\"Pencil in highland park gazebo for june 11th\")\n",
    "run(\"Leah, Alice, and Fred are all coming to ellison in december\")\n",
    "run(\"Who is coming in december?\")\n",
    "run(\"What events are coming up?\")"
   ]
  },
  {
   "cell_type": "code",
   "execution_count": 219,
   "id": "1b15332f-aa79-47c9-9f00-992083dc331d",
   "metadata": {},
   "outputs": [
    {
     "name": "stdout",
     "output_type": "stream",
     "text": [
      "--------\n",
      "Steve's coming to highland park! => create_attendee\n",
      "No events found for the specified date range.\n"
     ]
    },
    {
     "ename": "NoMethodError",
     "evalue": "undefined method `map' for nil:NilClass",
     "output_type": "error",
     "traceback": [
      "\u001b[31mNoMethodError\u001b[0m: undefined method `map' for nil:NilClass",
      "(irb):2:in `get_events_enum'",
      "(irb):49:in `create_attendee'",
      "(irb):17:in `call'",
      "(irb):17:in `run'",
      "(irb):in `<top (required)>'"
     ]
    }
   ],
   "source": [
    "run(\"Steve's coming to highland park!\")"
   ]
  },
  {
   "cell_type": "code",
   "execution_count": null,
   "id": "331e7630-8341-409b-8e80-edd57fd52f87",
   "metadata": {},
   "outputs": [
    {
     "name": "stdout",
     "output_type": "stream",
     "text": [
      "--------\n",
      "highland list => other\n",
      "Fallback! highland list\n"
     ]
    }
   ],
   "source": [
    "run(\"highland list\")"
   ]
  },
  {
   "cell_type": "code",
   "execution_count": null,
   "id": "f75bf77d-5912-4b79-8cf1-26589dcddc66",
   "metadata": {},
   "outputs": [
    {
     "name": "stdout",
     "output_type": "stream",
     "text": [
      "--------\n",
      "highland attendees => list_attendees\n",
      "No events found for the specified date range.\n"
     ]
    },
    {
     "ename": "NoMethodError",
     "evalue": "undefined method `map' for nil:NilClass",
     "output_type": "error",
     "traceback": [
      "\u001b[31mNoMethodError\u001b[0m: undefined method `map' for nil:NilClass",
      "(irb):2:in `get_events_enum'",
      "(irb):48:in `list_attendees'",
      "(irb):17:in `call'",
      "(irb):17:in `run'",
      "(irb):in `<top (required)>'"
     ]
    }
   ],
   "source": [
    "run(\"highland attendees\")"
   ]
  },
  {
   "cell_type": "markdown",
   "id": "b39698a4-1ee5-4523-a8fc-e0de2b4841a2",
   "metadata": {},
   "source": [
    "## A (very) basic agent text input UI"
   ]
  },
  {
   "cell_type": "code",
   "execution_count": null,
   "id": "f88a20c5-d92c-4b2d-a1d0-5dc0934f15c4",
   "metadata": {},
   "outputs": [
    {
     "ename": "SyntaxError",
     "evalue": "(irb): syntax error, unexpected ':', expecting `do' for condition or ';' or '\\n'\nwhile True:\n          ^\n(irb):2: syntax error, unexpected ':', expecting `then' or ';' or '\\n'\n...f user_input.lower() == \"exit\":\n...                              ^\n",
     "output_type": "error",
     "traceback": [
      "\u001b[31mSyntaxError\u001b[0m: (irb): syntax error, unexpected ':', expecting `do' for condition or ';' or '\\n'\nwhile True:\n          ^\n(irb):2: syntax error, unexpected ':', expecting `then' or ';' or '\\n'\n...f user_input.lower() == \"exit\":\n...                              ^\n"
     ]
    }
   ],
   "source": [
    "while True:\n",
    "    user_input = input(\"Enter a string (type 'exit' to quit): \")\n",
    "    if user_input.lower() == \"exit\":\n",
    "        break\n",
    "    run(user_input)"
   ]
  },
  {
   "cell_type": "code",
   "execution_count": null,
   "id": "abd68dd7-3cf6-458d-95fc-5ce0e8c9d2dc",
   "metadata": {},
   "outputs": [],
   "source": []
  },
  {
   "cell_type": "code",
   "execution_count": null,
   "id": "51d5b211-73bf-409f-b3e4-a35d2b519f45",
   "metadata": {},
   "outputs": [],
   "source": []
  },
  {
   "cell_type": "code",
   "execution_count": null,
   "id": "cc03a8fb-b7c6-49db-9f24-0a7bb2a6fda2",
   "metadata": {},
   "outputs": [],
   "source": []
  },
  {
   "cell_type": "code",
   "execution_count": null,
   "id": "1a7f8596-b969-422e-b5ea-ef3eb360709f",
   "metadata": {},
   "outputs": [],
   "source": []
  },
  {
   "cell_type": "code",
   "execution_count": null,
   "id": "43b73a0f-10cb-4a14-9539-e55a25885c85",
   "metadata": {},
   "outputs": [],
   "source": []
  },
  {
   "cell_type": "code",
   "execution_count": null,
   "id": "65aa69d0-6e0f-4ad0-8431-e8cc03f0cb8c",
   "metadata": {},
   "outputs": [],
   "source": []
  }
 ],
 "metadata": {
  "kernelspec": {
   "display_name": "Ruby 3.1.3",
   "language": "ruby",
   "name": "ruby"
  },
  "language_info": {
   "file_extension": ".rb",
   "mimetype": "application/x-ruby",
   "name": "ruby",
   "version": "3.1.3"
  }
 },
 "nbformat": 4,
 "nbformat_minor": 5
}
