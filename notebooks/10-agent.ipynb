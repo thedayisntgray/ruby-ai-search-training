{
 "cells": [
  {
   "cell_type": "code",
   "execution_count": null,
   "id": "0684dabd-6754-4ff2-95b9-087082a9283f",
   "metadata": {},
   "outputs": [],
   "source": []
  }
 ],
 "metadata": {
  "kernelspec": {
   "display_name": "Ruby 3.1.3",
   "language": "ruby",
   "name": "ruby"
  },
  "language_info": {
   "file_extension": ".rb",
   "mimetype": "application/x-ruby",
   "name": "ruby",
   "version": "3.1.3"
  }
 },
 "nbformat": 4,
 "nbformat_minor": 5
}
