{
 "cells": [
  {
   "cell_type": "code",
   "execution_count": 2,
   "id": "36f18558-794a-46a1-aab8-5ea755107540",
   "metadata": {},
   "outputs": [
    {
     "data": {
      "text/plain": [
       "true"
      ]
     },
     "execution_count": 2,
     "metadata": {},
     "output_type": "execute_result"
    }
   ],
   "source": [
    "require \"onnxruntime\"\n",
    "require \"mini_magick\"\n",
    "\n",
    "\n"
   ]
  },
  {
   "cell_type": "code",
   "execution_count": 5,
   "id": "f426fd72-c9fd-48e7-ac81-632c2203ce21",
   "metadata": {},
   "outputs": [
    {
     "data": {
      "text/plain": [
       "#<OnnxRuntime::Model:0x00007ffff9368b38 @session=#<OnnxRuntime::InferenceSession:0x00007ffff9368a98 @session=#<FFI::MemoryPointer address=0x000055559494fde0 size=8>, @allocator=#<FFI::MemoryPointer address=0x00005555575aed30 size=8>, @inputs=[{:name=>\"image_input\", :type=>\"tensor(float)\", :shape=>[\"batch_size\", 3, 224, 224]}, {:name=>\"text_input\", :type=>\"tensor(int32)\", :shape=>[\"batch_size\", 77]}], @outputs=[{:name=>\"logits_per_image\", :type=>\"tensor(float)\", :shape=>[\"batch_size\", \"MatMullogits_per_image_dim_1\"]}, {:name=>\"logits_per_text\", :type=>\"tensor(float)\", :shape=>[\"batch_size\", \"batch_size\"]}]>>"
      ]
     },
     "execution_count": 5,
     "metadata": {},
     "output_type": "execute_result"
    }
   ],
   "source": [
    "model = OnnxRuntime::Model.new(\"clip_model.onnx\")\n",
    "model\n",
    "# model.predict({x: [1, 2, 3]})"
   ]
  },
  {
   "cell_type": "code",
   "execution_count": null,
   "id": "aff36262-067f-4786-bbe9-ce79f8eb140e",
   "metadata": {},
   "outputs": [],
   "source": []
  },
  {
   "cell_type": "code",
   "execution_count": null,
   "id": "3393b5c5-2bee-4b9d-99c2-07e9b4c7db98",
   "metadata": {},
   "outputs": [],
   "source": []
  },
  {
   "cell_type": "code",
   "execution_count": null,
   "id": "2d3444d5-f8db-4ff9-80e0-a37af9952d2f",
   "metadata": {},
   "outputs": [],
   "source": []
  },
  {
   "cell_type": "code",
   "execution_count": null,
   "id": "816c40c7-7c71-4eb7-ae87-dd06d3f8ef85",
   "metadata": {},
   "outputs": [],
   "source": []
  }
 ],
 "metadata": {
  "kernelspec": {
   "display_name": "Ruby 3.1.3",
   "language": "ruby",
   "name": "ruby"
  },
  "language_info": {
   "file_extension": ".rb",
   "mimetype": "application/x-ruby",
   "name": "ruby",
   "version": "3.1.3"
  }
 },
 "nbformat": 4,
 "nbformat_minor": 5
}
