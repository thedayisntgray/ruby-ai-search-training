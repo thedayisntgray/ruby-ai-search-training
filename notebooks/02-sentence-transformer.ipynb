{
 "cells": [
  {
   "cell_type": "markdown",
   "id": "9485b711-276b-4535-a522-03f9493a4f28",
   "metadata": {},
   "source": [
    "# Lab 2 - Basic sentence transformer inference and similarity"
   ]
  },
  {
   "cell_type": "code",
   "execution_count": 3,
   "id": "ed7fd151-4d82-4b0b-ad3b-b3b4e6bc829d",
   "metadata": {},
   "outputs": [],
   "source": [
    "require 'transformers-rb'\n",
    "model = Transformers.pipeline(\"embedding\", \"sentence-transformers/all-MiniLM-L6-v2\")\n",
    "nil"
   ]
  },
  {
   "cell_type": "code",
   "execution_count": 4,
   "id": "7d327262-5875-4cd4-ae66-235cc4a9f54c",
   "metadata": {},
   "outputs": [],
   "source": [
    "# Example from https://sbert.net\n",
    "sentences = [\n",
    "    'This framework generates embeddings for each input sentence',\n",
    "    'Sentences are passed as a list of string.',\n",
    "    'The quick brown fox jumps over the lazy dog.'\n",
    "]\n",
    "\n",
    "sentence_embeddings = model.(sentences)\n",
    "nil"
   ]
  },
  {
   "cell_type": "code",
   "execution_count": 8,
   "id": "fdd93336-74f1-4a53-b59c-8be72f86200f",
   "metadata": {},
   "outputs": [],
   "source": [
    "sentence_embeddings[1]\n",
    "nil"
   ]
  },
  {
   "cell_type": "code",
   "execution_count": 9,
   "id": "bffd6005-c576-43c8-aa61-4420ce71aaec",
   "metadata": {},
   "outputs": [],
   "source": [
    "Torch.tensor(sentence_embeddings[1])\n",
    "nil"
   ]
  },
  {
   "cell_type": "code",
   "execution_count": 11,
   "id": "b4714797-7a77-420b-a18b-bbd499ad0dac",
   "metadata": {},
   "outputs": [],
   "source": [
    "Torch.tensor(sentence_embeddings[1]).unsqueeze(0)\n",
    "nil"
   ]
  },
  {
   "cell_type": "code",
   "execution_count": 13,
   "id": "4e5276c6-5a59-4182-be56-701f26f18ea4",
   "metadata": {},
   "outputs": [
    {
     "data": {
      "text/plain": [
       "tensor([0.5381])"
      ]
     },
     "execution_count": 13,
     "metadata": {},
     "output_type": "execute_result"
    }
   ],
   "source": [
    "cos = Torch::NN::CosineSimilarity.new(dim: 1, eps: 1e-6)\n",
    "\n",
    "# Convert arrays to tensors and reshape them\n",
    "tensor0 = Torch.tensor(sentence_embeddings[0]).unsqueeze(0)\n",
    "tensor1 = Torch.tensor(sentence_embeddings[1]).unsqueeze(0)\n",
    "\n",
    "# Calculate cosine similarity\n",
    "similarity = cos.call(tensor0, tensor1)"
   ]
  },
  {
   "cell_type": "markdown",
   "id": "181d5fb7-eecc-4797-8e2c-bf3ca5dd840d",
   "metadata": {},
   "source": [
    "## Inference of a small dataset"
   ]
  },
  {
   "cell_type": "code",
   "execution_count": 18,
   "id": "c6e8f4ba-663f-4bf4-8b5e-aad182d89216",
   "metadata": {},
   "outputs": [
    {
     "ename": "LoadError",
     "evalue": "cannot load such file -- tqdm",
     "output_type": "error",
     "traceback": [
      "\u001b[31mLoadError\u001b[0m: cannot load such file -- tqdm",
      "<internal:/usr/local/lib/ruby/3.1.0/rubygems/core_ext/kernel_require.rb>:85:in `require'",
      "<internal:/usr/local/lib/ruby/3.1.0/rubygems/core_ext/kernel_require.rb>:85:in `require'",
      "(irb):in `<top (required)>'"
     ]
    }
   ],
   "source": [
    "require 'tqdm'\n",
    "require 'datasets'"
   ]
  },
  {
   "cell_type": "code",
   "execution_count": null,
   "id": "5b77933b-dc82-4f77-9260-e6b057380531",
   "metadata": {},
   "outputs": [],
   "source": [
    "system('free -h')"
   ]
  },
  {
   "cell_type": "code",
   "execution_count": null,
   "id": "8b2ce856-ac25-44e8-9254-c797cfe65f6a",
   "metadata": {},
   "outputs": [],
   "source": [
    "# See the model card here: https://huggingface.co/intfloat/e5-small-v2\n",
    "model = SentenceTransformer.new('intfloat/e5-small-v2')"
   ]
  },
  {
   "cell_type": "code",
   "execution_count": null,
   "id": "c27bda53-5b31-459c-a37a-edcfd4c5fa4d",
   "metadata": {},
   "outputs": [],
   "source": [
    "# Should result in about 100MB less RAM available\n",
    "system('free -h')"
   ]
  },
  {
   "cell_type": "code",
   "execution_count": null,
   "id": "2f7718c2-4206-42d1-85c2-690ff00efca3",
   "metadata": {},
   "outputs": [],
   "source": [
    "# The E5 models expect 'query: ' and 'passage: ' prefixes\n",
    "def get_embeddings(texts, prefix: \"passage: \")\n",
    "    # The E5 models expects either 'query: ' or 'passage: ' prefix\n",
    "    texts = [texts] unless texts.is_a?(Array)\n",
    "    prefixed = texts.map { |text| \"#{prefix}#{text}\" }\n",
    "    model.encode(prefixed, show_progress_bar: true)\n",
    "end"
   ]
  },
  {
   "cell_type": "code",
   "execution_count": null,
   "id": "ab3b1678-df09-49a8-b17c-c53ad1577962",
   "metadata": {
    "scrolled": true
   },
   "outputs": [],
   "source": [
    "test_e5 = get_embeddings([\"Hello world\"])\n",
    "puts test_e5.shape\n",
    "puts test_e5"
   ]
  },
  {
   "cell_type": "markdown",
   "id": "c7356799-7071-4076-a8e7-d588aace78a6",
   "metadata": {},
   "source": [
    "### We use part of the CC_News dataset"
   ]
  },
  {
   "cell_type": "code",
   "execution_count": null,
   "id": "8a8fb43c-b271-4d33-814f-c1143f4eb485",
   "metadata": {},
   "outputs": [],
   "source": [
    "# Load 50000 examples of the 'cc_news' dataset from Hugging Face\n",
    "dataset = Dataset.load_dataset(\"cc_news\", split: 'train[0:50000]')"
   ]
  },
  {
   "cell_type": "code",
   "execution_count": null,
   "id": "7baf845f-bc10-4de8-8776-0674b4c8b3ff",
   "metadata": {},
   "outputs": [],
   "source": [
    "puts dataset"
   ]
  },
  {
   "cell_type": "code",
   "execution_count": null,
   "id": "a076208a-28af-40cd-89b9-f00376e7b023",
   "metadata": {},
   "outputs": [],
   "source": [
    "puts dataset['title']"
   ]
  },
  {
   "cell_type": "code",
   "execution_count": null,
   "id": "6ef82fae-9ef6-454b-bd25-ddfee614e34d",
   "metadata": {},
   "outputs": [],
   "source": [
    "title_embeddings = get_embeddings(dataset['title'])"
   ]
  },
  {
   "cell_type": "code",
   "execution_count": null,
   "id": "4aa4dc29-9902-4912-b4cb-4c7f5cb46907",
   "metadata": {},
   "outputs": [],
   "source": [
    "puts ObjectSpace.memsize_of(title_embeddings)\n",
    "# 50000 embeddings at 384 dims each is how much in RAM?"
   ]
  },
  {
   "cell_type": "code",
   "execution_count": null,
   "id": "07421f88-f18d-4753-848e-6b9c3aa1d2ad",
   "metadata": {},
   "outputs": [],
   "source": [
    "File.open('cc_news_title_embeddings_50000.marshal', 'wb') do |file|\n",
    "    Marshal.dump(title_embeddings, file)\n",
    "end"
   ]
  },
  {
   "cell_type": "code",
   "execution_count": null,
   "id": "0ed63643-67e6-4453-ae9c-d56f089db047",
   "metadata": {},
   "outputs": [],
   "source": [
    "# NOTE that 50k embeddings of 384 dims each uses about 74MB pickled disk space\n",
    "system('ls -lah cc_news_title_embeddings_50000.marshal')"
   ]
  },
  {
   "cell_type": "markdown",
   "id": "29639222-d1f2-4465-a212-cd64f4205c41",
   "metadata": {},
   "source": [
    "### brute-force nearest neighbor calculation"
   ]
  },
  {
   "cell_type": "code",
   "execution_count": null,
   "id": "65fa9fb6-b1d6-45bb-9c15-0383d11f9015",
   "metadata": {},
   "outputs": [],
   "source": [
    "def knn(query, k: 5)\n",
    "    query_embedding = get_embeddings(query, prefix: \"query: \")\n",
    "    cosine_scores = STutil.cosine_similarity(query_embedding, title_embeddings)\n",
    "    sorted_indices = cosine_scores.sort_index(reverse: true)\n",
    "    top_k_indices = sorted_indices.first(k)\n",
    "    \n",
    "    top_k_indices.map { |i| dataset['title'][i] }\n",
    "end"
   ]
  },
  {
   "cell_type": "code",
   "execution_count": null,
   "id": "b20e9194-de48-4f2a-9b8d-b9621cf4054a",
   "metadata": {},
   "outputs": [],
   "source": [
    "puts knn(\"housing market\")"
   ]
  },
  {
   "cell_type": "code",
   "execution_count": null,
   "id": "9d944a61-a028-49df-b2a6-79e4acfa7be7",
   "metadata": {},
   "outputs": [],
   "source": [
    "puts knn(\"property market\")"
   ]
  },
  {
   "cell_type": "code",
   "execution_count": null,
   "id": "3cb45dd4-15b5-4447-b0b9-8c83daad7af3",
   "metadata": {},
   "outputs": [],
   "source": [
    "puts knn(\"ballet dancing changes\")"
   ]
  },
  {
   "cell_type": "code",
   "execution_count": null,
   "id": "560b7532-7075-421d-b6bc-0e30d9a836f6",
   "metadata": {},
   "outputs": [],
   "source": [
    "puts knn(\"climate change\")"
   ]
  },
  {
   "cell_type": "code",
   "execution_count": null,
   "id": "819d1a30-37d1-4d3e-903b-fe981d9673eb",
   "metadata": {},
   "outputs": [],
   "source": [
    "puts knn(\"global warming in the united states\")"
   ]
  },
  {
   "cell_type": "code",
   "execution_count": null,
   "id": "b0b6ba21-df56-4821-ab26-f9db96e0639f",
   "metadata": {},
   "outputs": [],
   "source": [
    "puts knn(\"taylor swift\")"
   ]
  }
 ],
 "metadata": {
  "kernelspec": {
   "display_name": "Ruby 3.1.3",
   "language": "ruby",
   "name": "ruby"
  },
  "language_info": {
   "file_extension": ".rb",
   "mimetype": "application/x-ruby",
   "name": "ruby",
   "version": "3.1.3"
  }
 },
 "nbformat": 4,
 "nbformat_minor": 5
}
