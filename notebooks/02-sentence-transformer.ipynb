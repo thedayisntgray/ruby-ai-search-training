{
 "cells": [
  {
   "cell_type": "markdown",
   "id": "9485b711-276b-4535-a522-03f9493a4f28",
   "metadata": {
    "tags": []
   },
   "source": [
    "# Lab 2 - Basic sentence transformer inference and similarity"
   ]
  },
  {
   "cell_type": "code",
   "execution_count": 1,
   "id": "ed7fd151-4d82-4b0b-ad3b-b3b4e6bc829d",
   "metadata": {},
   "outputs": [],
   "source": [
    "require 'transformers-rb'\n",
    "model = Transformers.pipeline(\"embedding\", \"sentence-transformers/all-MiniLM-L6-v2\")\n",
    "nil"
   ]
  },
  {
   "cell_type": "code",
   "execution_count": 2,
   "id": "7d327262-5875-4cd4-ae66-235cc4a9f54c",
   "metadata": {},
   "outputs": [],
   "source": [
    "# Example from https://sbert.net\n",
    "sentences = [\n",
    "    'This framework generates embeddings for each input sentence',\n",
    "    'Sentences are passed as a list of string.',\n",
    "    'The quick brown fox jumps over the lazy dog.'\n",
    "]\n",
    "\n",
    "sentence_embeddings = model.(sentences)\n",
    "nil"
   ]
  },
  {
   "cell_type": "code",
   "execution_count": 3,
   "id": "fdd93336-74f1-4a53-b59c-8be72f86200f",
   "metadata": {},
   "outputs": [],
   "source": [
    "sentence_embeddings[1]\n",
    "nil"
   ]
  },
  {
   "cell_type": "code",
   "execution_count": 4,
   "id": "bffd6005-c576-43c8-aa61-4420ce71aaec",
   "metadata": {},
   "outputs": [],
   "source": [
    "Torch.tensor(sentence_embeddings[1])\n",
    "nil"
   ]
  },
  {
   "cell_type": "code",
   "execution_count": 5,
   "id": "b4714797-7a77-420b-a18b-bbd499ad0dac",
   "metadata": {},
   "outputs": [],
   "source": [
    "Torch.tensor(sentence_embeddings[1]).unsqueeze(0)\n",
    "nil"
   ]
  },
  {
   "cell_type": "code",
   "execution_count": 6,
   "id": "4e5276c6-5a59-4182-be56-701f26f18ea4",
   "metadata": {},
   "outputs": [
    {
     "data": {
      "text/plain": [
       "tensor([0.5381])"
      ]
     },
     "execution_count": 6,
     "metadata": {},
     "output_type": "execute_result"
    }
   ],
   "source": [
    "cos = Torch::NN::CosineSimilarity.new(dim: 1, eps: 1e-6)\n",
    "\n",
    "# Convert arrays to tensors and reshape them\n",
    "tensor0 = Torch.tensor(sentence_embeddings[0]).unsqueeze(0)\n",
    "tensor1 = Torch.tensor(sentence_embeddings[1]).unsqueeze(0)\n",
    "\n",
    "# Calculate cosine similarity\n",
    "similarity = cos.call(tensor0, tensor1)"
   ]
  },
  {
   "cell_type": "markdown",
   "id": "181d5fb7-eecc-4797-8e2c-bf3ca5dd840d",
   "metadata": {
    "tags": []
   },
   "source": [
    "## Inference of a small dataset"
   ]
  },
  {
   "cell_type": "code",
   "execution_count": 7,
   "id": "5b77933b-dc82-4f77-9260-e6b057380531",
   "metadata": {},
   "outputs": [
    {
     "name": "stdout",
     "output_type": "stream",
     "text": [
      "              total        used        free      shared  buff/cache   available\n",
      "Mem:          3.8Gi       2.4Gi        80Mi       100Mi       1.3Gi       989Mi\n",
      "Swap:         1.0Gi       603Mi       420Mi\n"
     ]
    }
   ],
   "source": [
    "puts `free -h`"
   ]
  },
  {
   "cell_type": "code",
   "execution_count": 8,
   "id": "8b2ce856-ac25-44e8-9254-c797cfe65f6a",
   "metadata": {},
   "outputs": [],
   "source": [
    "# See the model card here: https://huggingface.co/intfloat/e5-small-v2\n",
    "# model = SentenceTransformer.new('intfloat/e5-small-v2')\n",
    "model = Transformers.pipeline(\"embedding\", \"intfloat/e5-small-v2\")\n",
    "nil"
   ]
  },
  {
   "cell_type": "code",
   "execution_count": 9,
   "id": "c27bda53-5b31-459c-a37a-edcfd4c5fa4d",
   "metadata": {},
   "outputs": [
    {
     "name": "stdout",
     "output_type": "stream",
     "text": [
      "              total        used        free      shared  buff/cache   available\n",
      "Mem:          3.8Gi       2.6Gi        95Mi        99Mi       1.1Gi       737Mi\n",
      "Swap:         1.0Gi       608Mi       415Mi\n"
     ]
    }
   ],
   "source": [
    "# Should result in about 100MB less RAM available\n",
    "puts `free -h`"
   ]
  },
  {
   "cell_type": "code",
   "execution_count": 10,
   "id": "b9d2187d-1914-41cf-a5cd-37fdcef20eb9",
   "metadata": {},
   "outputs": [
    {
     "data": {
      "text/plain": [
       ":get_embeddings"
      ]
     },
     "execution_count": 10,
     "metadata": {},
     "output_type": "execute_result"
    }
   ],
   "source": [
    "def get_embeddings(model, texts, prefix: \"passage: \")\n",
    "  puts texts\n",
    "  texts = [texts] unless texts.is_a?(Array)\n",
    "  total = texts.length\n",
    "  embeddings = []\n",
    "  \n",
    "  texts.each_with_index do |text, i|\n",
    "    prefixed_text = \"#{prefix}#{text}\"\n",
    "    embedding = model.(prefixed_text)\n",
    "    embeddings << embedding\n",
    "    \n",
    "    percent = ((i + 1).to_f / total * 100).to_i\n",
    "    print \"\\rProcessing embeddings: #{percent}% (#{i + 1}/#{total})\"\n",
    "  end\n",
    "  \n",
    "  print \"\\nDone!\\n\"\n",
    "  embeddings\n",
    "end"
   ]
  },
  {
   "cell_type": "code",
   "execution_count": 11,
   "id": "ab3b1678-df09-49a8-b17c-c53ad1577962",
   "metadata": {
    "scrolled": true
   },
   "outputs": [
    {
     "name": "stdout",
     "output_type": "stream",
     "text": [
      "Hello world\n",
      "Processing embeddings: 100% (1/1)\n",
      "Done!\n",
      "First dimension: 1\n",
      "Second dimension: 384\n",
      "-0.01651151478290558\n",
      "0.053172264248132706\n",
      "0.022188758477568626\n",
      "0.014594843611121178\n",
      "-0.03386980667710304\n",
      "0.01365770772099495\n",
      "0.06086576730012894\n",
      "-0.06649580597877502\n",
      "0.025309480726718903\n",
      "0.04438522085547447\n",
      "0.045850373804569244\n",
      "0.011839757673442364\n",
      "-0.027528109028935432\n",
      "0.05420251935720444\n",
      "0.0230848491191864\n",
      "-0.03905387222766876\n",
      "0.022867225110530853\n",
      "0.04260660335421562\n",
      "-0.11509678512811661\n",
      "0.0016917287139222026\n",
      "0.0842922106385231\n",
      "-0.05009948089718819\n",
      "-0.020574478432536125\n",
      "-0.039296966046094894\n",
      "-0.05684807896614075\n",
      "-0.028063228353857994\n",
      "0.023119978606700897\n",
      "0.02836981788277626\n",
      "-0.03971661254763603\n",
      "-0.11180952936410904\n",
      "-0.056230854243040085\n",
      "-0.011437352746725082\n",
      "0.0563444122672081\n",
      "-0.014556125737726688\n",
      "0.06406951695680618\n",
      "-0.06155061349272728\n",
      "0.02405361644923687\n",
      "0.04834815114736557\n",
      "0.0012838798575103283\n",
      "0.07727725803852081\n",
      "-0.011544615961611271\n",
      "-0.046061914414167404\n",
      "0.07619121670722961\n",
      "-0.049325745552778244\n",
      "-0.010808114893734455\n",
      "-0.02965460903942585\n",
      "0.003021234180778265\n",
      "-0.04783589392900467\n",
      "0.08394355326890945\n",
      "-0.023802414536476135\n",
      "-0.006540325470268726\n",
      "0.009670685976743698\n",
      "0.032020483165979385\n",
      "0.06201929971575737\n",
      "0.03467852622270584\n",
      "0.0742252767086029\n",
      "0.0313568152487278\n",
      "0.06370143592357635\n",
      "0.017815055325627327\n",
      "0.03473586216568947\n",
      "-0.00904140342026949\n",
      "0.010340736247599125\n",
      "-0.1316191554069519\n",
      "0.1011785939335823\n",
      "0.09905523806810379\n",
      "0.09953157603740692\n",
      "0.001548019121401012\n",
      "-0.0005340842762961984\n",
      "-0.04876687750220299\n",
      "-0.02628144435584545\n",
      "-0.009142402559518814\n",
      "0.027337074279785156\n",
      "0.028885064646601677\n",
      "0.05782210826873779\n",
      "-0.008874909020960331\n",
      "0.03764240816235542\n",
      "0.032289668917655945\n",
      "0.05098327621817589\n",
      "-0.051449187099933624\n",
      "-0.0083461357280612\n",
      "-0.03966301679611206\n",
      "-0.031922854483127594\n",
      "-0.03573334962129593\n",
      "0.0326034352183342\n",
      "-0.001366133103147149\n",
      "-0.028020357713103294\n",
      "0.0035283397883176804\n",
      "-0.03253467381000519\n",
      "-0.010764922946691513\n",
      "-0.03935452923178673\n",
      "-0.02458055317401886\n",
      "-0.03752825781702995\n",
      "0.024634266272187233\n",
      "-0.03215284273028374\n",
      "-0.04497560113668442\n",
      "0.002582527929916978\n",
      "0.07161267101764679\n",
      "-0.015840094536542892\n",
      "-0.027293220162391663\n",
      "0.10691331326961517\n",
      "0.015288093127310276\n",
      "0.00415047537535429\n",
      "-0.01796155795454979\n",
      "-0.0512223057448864\n",
      "0.011567383073270321\n",
      "-0.03290942683815956\n",
      "0.006743923760950565\n",
      "-0.011594618670642376\n",
      "0.03278680518269539\n",
      "-0.03490736708045006\n",
      "-0.04145999997854233\n",
      "-0.039226680994033813\n",
      "0.0076667447574436665\n",
      "-0.035005684942007065\n",
      "0.03759803622961044\n",
      "0.007131357677280903\n",
      "-0.01884106546640396\n",
      "-0.034766558557748795\n",
      "-0.09508692473173141\n",
      "-0.010018468834459782\n",
      "0.08640740811824799\n",
      "0.013526816852390766\n",
      "0.033672481775283813\n",
      "-0.0396631695330143\n",
      "0.029506973922252655\n",
      "-0.030233142897486687\n",
      "0.09156175702810287\n",
      "0.0780085101723671\n",
      "0.07800966501235962\n",
      "0.00763407489284873\n",
      "0.03984597325325012\n",
      "0.03628256916999817\n",
      "0.02710234746336937\n",
      "-0.029903022572398186\n",
      "-0.03137572854757309\n",
      "-0.016719002276659012\n",
      "-0.056535206735134125\n",
      "-0.01067280676215887\n",
      "0.039669670164585114\n",
      "0.012551937252283096\n",
      "-0.04023653268814087\n",
      "-0.04452965408563614\n",
      "0.01866697333753109\n",
      "-0.07612710446119308\n",
      "0.008277933113276958\n",
      "0.03892967849969864\n",
      "-0.10124406963586807\n",
      "0.061858247965574265\n",
      "-0.07493535429239273\n",
      "-0.015107317827641964\n",
      "-0.06135006248950958\n",
      "-0.01905594952404499\n",
      "0.045641474425792694\n",
      "-0.004149072337895632\n",
      "0.013604442588984966\n",
      "-0.015512782149016857\n",
      "0.03996383026242256\n",
      "0.055528249591588974\n",
      "-0.04882136359810829\n",
      "-0.03377078101038933\n",
      "-0.0868188664317131\n",
      "0.012266569770872593\n",
      "0.016036469489336014\n",
      "0.1193077564239502\n",
      "0.02111147902905941\n",
      "-0.11816969513893127\n",
      "0.011606870219111443\n",
      "-0.005557819735258818\n",
      "0.04446256160736084\n",
      "-0.04171111807227135\n",
      "-0.014802838675677776\n",
      "0.06936739385128021\n",
      "0.03766254708170891\n",
      "0.010000098496675491\n",
      "0.0934184268116951\n",
      "0.014044779352843761\n",
      "-0.04288924112915993\n",
      "-0.020855816081166267\n",
      "0.05221332609653473\n",
      "-0.06947974115610123\n",
      "0.01315299142152071\n",
      "-0.03326157480478287\n",
      "-0.034304551780223846\n",
      "0.014863388612866402\n",
      "0.09316039085388184\n",
      "-0.045251939445734024\n",
      "-0.048454705625772476\n",
      "-0.042832788079977036\n",
      "0.030933309346437454\n",
      "-0.03778470680117607\n",
      "-0.040216509252786636\n",
      "0.03946458548307419\n",
      "-0.006520338822156191\n",
      "0.053325314074754715\n",
      "0.06268324702978134\n",
      "0.009708830155432224\n",
      "-0.05483567714691162\n",
      "-0.02093035914003849\n",
      "-0.013842274434864521\n",
      "-0.07431437075138092\n",
      "0.07253481447696686\n",
      "0.032909657806158066\n",
      "-0.011150580830872059\n",
      "0.030337590724229813\n",
      "-0.032322537153959274\n",
      "0.06752154231071472\n",
      "-0.017501626163721085\n",
      "-0.03983328118920326\n",
      "-0.027682948857545853\n",
      "-0.0037517014425247908\n",
      "-0.0285388994961977\n",
      "0.041182391345500946\n",
      "-0.030649272724986076\n",
      "-0.06227470561861992\n",
      "-0.056170493364334106\n",
      "-0.06628014892339706\n",
      "0.04215256869792938\n",
      "0.01125385519117117\n",
      "-0.0026402142830193043\n",
      "0.006555336061865091\n",
      "0.04827243089675903\n",
      "-0.11898891627788544\n",
      "-0.08723320066928864\n",
      "-0.13561804592609406\n",
      "0.060667961835861206\n",
      "-0.0023188316263258457\n",
      "-0.03966187313199043\n",
      "0.032340917736291885\n",
      "-0.04227440804243088\n",
      "0.007354331202805042\n",
      "0.049836665391922\n",
      "-0.0034569338895380497\n",
      "0.028340619057416916\n",
      "0.07960064709186554\n",
      "-0.005537733435630798\n",
      "-0.029168587177991867\n",
      "-0.026203803718090057\n",
      "-0.013008402660489082\n",
      "0.04940817877650261\n",
      "-0.038651008158922195\n",
      "0.009123128838837147\n",
      "0.0662568137049675\n",
      "-0.055088676512241364\n",
      "-0.01014832966029644\n",
      "-0.07633263617753983\n",
      "-0.06839500367641449\n",
      "-0.06444639712572098\n",
      "0.004670225083827972\n",
      "-0.0562736801803112\n",
      "0.08818656951189041\n",
      "0.10332322865724564\n",
      "-0.019177820533514023\n",
      "-0.07287358492612839\n",
      "0.05682160332798958\n",
      "0.04943893477320671\n",
      "0.08354642242193222\n",
      "-0.06738024204969406\n",
      "0.14247667789459229\n",
      "-0.04941942170262337\n",
      "0.010995830409228802\n",
      "-0.02484603226184845\n",
      "-0.06416171044111252\n",
      "-0.055807098746299744\n",
      "0.0346764475107193\n",
      "-0.047462206333875656\n",
      "0.031787626445293427\n",
      "-0.10845864564180374\n",
      "0.12028276920318604\n",
      "-0.04542802274227142\n",
      "-0.024471407756209373\n",
      "0.02142915315926075\n",
      "0.010644652880728245\n",
      "-0.003826885251328349\n",
      "-0.02466440200805664\n",
      "-0.06067419797182083\n",
      "0.06150848791003227\n",
      "-0.0073677911423146725\n",
      "-0.0687563493847847\n",
      "-0.04935180023312569\n",
      "-0.05963403731584549\n",
      "0.009854902513325214\n",
      "-0.04932456836104393\n",
      "-0.002552317688241601\n",
      "-0.06371122598648071\n",
      "-0.03544391691684723\n",
      "0.058894820511341095\n",
      "0.008994914591312408\n",
      "0.002523944480344653\n",
      "0.020461194217205048\n",
      "-0.018751922994852066\n",
      "0.011728084646165371\n",
      "-0.027065573260188103\n",
      "-0.009297638200223446\n",
      "0.023541759699583054\n",
      "0.035828880965709686\n",
      "-0.023049624636769295\n",
      "0.02504485659301281\n",
      "0.06563456356525421\n",
      "-0.002577511826530099\n",
      "0.05060037225484848\n",
      "-0.020976360887289047\n",
      "-0.0027833941858261824\n",
      "-0.062469232827425\n",
      "-0.020445408299565315\n",
      "-0.10020039230585098\n",
      "0.07174792885780334\n",
      "0.0935208722949028\n",
      "0.019250746816396713\n",
      "0.0075566028244793415\n",
      "-0.021254466846585274\n",
      "-0.023324616253376007\n",
      "0.0038913488388061523\n",
      "-0.08713104575872421\n",
      "0.03303178399801254\n",
      "-0.06011621281504631\n",
      "0.05838059261441231\n",
      "0.07300732284784317\n",
      "-0.04814785346388817\n",
      "-0.08353790640830994\n",
      "-0.1949758231639862\n",
      "-0.054300375282764435\n",
      "0.07383907586336136\n",
      "0.04772641882300377\n",
      "-0.015203160233795643\n",
      "0.05276922509074211\n",
      "0.0365985669195652\n",
      "0.002189344959333539\n",
      "-0.09358349442481995\n",
      "-0.07622072845697403\n",
      "0.011213461868464947\n",
      "0.017134375870227814\n",
      "0.08611763268709183\n",
      "0.0026674731634557247\n",
      "-0.027008119970560074\n",
      "0.032958608120679855\n",
      "0.08287414908409119\n",
      "0.03072546049952507\n",
      "0.005156272556632757\n",
      "-0.050596754997968674\n",
      "0.03432171791791916\n",
      "0.03558347746729851\n",
      "0.16807428002357483\n",
      "0.024564307183027267\n",
      "-0.04099281132221222\n",
      "0.07291316986083984\n",
      "-0.025801872834563255\n",
      "-0.06062481179833412\n",
      "0.013035055249929428\n",
      "-0.0014204859035089612\n",
      "-0.03481217101216316\n",
      "-0.006474106106907129\n",
      "0.12662796676158905\n",
      "-0.05656307935714722\n",
      "0.044974856078624725\n",
      "0.06987840682268143\n",
      "-0.026369623839855194\n",
      "0.01733221858739853\n",
      "0.0510120615363121\n",
      "0.01688605360686779\n",
      "0.060136936604976654\n",
      "0.083632692694664\n",
      "0.01668911799788475\n",
      "-0.019658776000142097\n",
      "0.05505557358264923\n",
      "-0.023064780980348587\n",
      "-0.04705694690346718\n",
      "-0.012933420017361641\n",
      "-0.02162867970764637\n",
      "-0.045221202075481415\n",
      "-0.07999173551797867\n",
      "-0.01891482062637806\n",
      "0.09987658262252808\n",
      "0.0827215164899826\n",
      "0.01898004487156868\n",
      "-0.03156576678156853\n",
      "-0.05725982412695885\n",
      "-0.012825936079025269\n",
      "-0.02075047604739666\n",
      "-0.04396717622876167\n",
      "-0.013336049392819405\n",
      "-0.07196307927370071\n",
      "0.030259817838668823\n",
      "-0.04711443558335304\n",
      "0.007830072194337845\n"
     ]
    }
   ],
   "source": [
    "test_e5 = get_embeddings(model,[\"Hello world\"])\n",
    "\n",
    "#stand in for test_e5.shape. Alternatively use nmatrix or some other library\n",
    "puts \"First dimension: #{test_e5.length}\"\n",
    "puts \"Second dimension: #{test_e5[0].length}\" if test_e5[0].is_a?(Array)\n",
    "\n",
    "puts test_e5"
   ]
  },
  {
   "cell_type": "markdown",
   "id": "c7356799-7071-4076-a8e7-d588aace78a6",
   "metadata": {
    "tags": []
   },
   "source": [
    "### We use part of the CC_News dataset from Huggingface"
   ]
  },
  {
   "cell_type": "code",
   "execution_count": 12,
   "id": "37cb146e-ae1a-47a9-ab8b-ecbee351767b",
   "metadata": {},
   "outputs": [
    {
     "name": "stdout",
     "output_type": "stream",
     "text": [
      "Downloaded file to cc_news_data/train-00000-of-00005.parquet\n"
     ]
    },
    {
     "data": {
      "text/plain": [
       "[\"https://huggingface.co/datasets/vblagoje/cc_news/resolve/main/plain_text/train-00000-of-00005.parquet\"]"
      ]
     },
     "execution_count": 12,
     "metadata": {},
     "output_type": "execute_result"
    }
   ],
   "source": [
    "require 'httparty'\n",
    "require 'fileutils'\n",
    "\n",
    "download_dir = \"cc_news_data\"\n",
    "\n",
    "def download_file(url, destination_dir, filename=nil)\n",
    "  FileUtils.mkdir_p(destination_dir)\n",
    "  filename ||= File.basename(url)\n",
    "  destination_path = File.join(destination_dir, filename)\n",
    "\n",
    "  response = HTTParty.get(url, follow_redirects: true)  \n",
    "  File.open(destination_path, 'wb') { |file| file.write(response.body) }\n",
    "\n",
    "  puts \"Downloaded file to #{destination_path}\"\n",
    "end\n",
    "\n",
    "file_urls = [\n",
    "  \"https://huggingface.co/datasets/vblagoje/cc_news/resolve/main/plain_text/train-00000-of-00005.parquet\"\n",
    "]\n",
    "\n",
    "file_urls.each do |url|\n",
    "  download_file(url, download_dir)\n",
    "end"
   ]
  },
  {
   "cell_type": "code",
   "execution_count": 13,
   "id": "f59654fa-e213-4cbe-970a-6dcc4aee0047",
   "metadata": {},
   "outputs": [],
   "source": [
    "require 'polars-df'\n",
    "df = Polars.read_parquet('./cc_news_data/train-00000-of-00005.parquet',n_rows: 50_000)\n",
    "nil"
   ]
  },
  {
   "cell_type": "code",
   "execution_count": 14,
   "id": "7ab2fc17-64f7-4fed-965b-450fc3ab0315",
   "metadata": {},
   "outputs": [
    {
     "data": {
      "text/plain": [
       "shape: (50_000, 7)\n",
       "┌──────────────┬─────────────┬─────────────┬─────────────┬─────────────┬─────────────┬─────────────┐\n",
       "│ title        ┆ text        ┆ domain      ┆ date        ┆ description ┆ url         ┆ image_url   │\n",
       "│ ---          ┆ ---         ┆ ---         ┆ ---         ┆ ---         ┆ ---         ┆ ---         │\n",
       "│ str          ┆ str         ┆ str         ┆ str         ┆ str         ┆ str         ┆ str         │\n",
       "╞══════════════╪═════════════╪═════════════╪═════════════╪═════════════╪═════════════╪═════════════╡\n",
       "│ Daughter Duo ┆ There's a   ┆ www.pointem ┆ 2017-12-11  ┆ There's a   ┆ http://www. ┆ https://poi │\n",
       "│ is Dancing   ┆ surprising  ┆ agazine.com ┆ 20:19:05    ┆ surprising  ┆ pointemagaz ┆ nte-img.rbl │\n",
       "│ in The…      ┆ twist to …  ┆             ┆             ┆ twist to …  ┆ ine.com/…   ┆ .ms/sima…   │\n",
       "│ New York     ┆ The New     ┆ www.pointem ┆ 2017-12-11  ┆ NYCB has    ┆ http://www. ┆ https://poi │\n",
       "│ City Ballet  ┆ York City   ┆ agazine.com ┆ 17:02:55    ┆ announced   ┆ pointemagaz ┆ nte-img.rbl │\n",
       "│ Announces…   ┆ Ballet      ┆             ┆             ┆ an interim  ┆ ine.com/…   ┆ .ms/sima…   │\n",
       "│              ┆ Board…      ┆             ┆             ┆ …           ┆             ┆             │\n",
       "│ Watch        ┆ The Philade ┆ www.pointem ┆ 2018-02-02  ┆ The Philade ┆ http://www. ┆ https://poi │\n",
       "│ Pennsylvania ┆ lphia       ┆ agazine.com ┆ 21:58:13    ┆ lphia       ┆ pointemagaz ┆ nte-img.rbl │\n",
       "│ Ballet & Bo… ┆ Eagles and  ┆             ┆             ┆ Eagles and  ┆ ine.com/…   ┆ .ms/sima…   │\n",
       "│              ┆ th…         ┆             ┆             ┆ th…         ┆             ┆             │\n",
       "│ dance shoes  ┆ Looking for ┆ www.pointem ┆ 2018-04-24  ┆ Looking for ┆ https://www ┆ https://poi │\n",
       "│              ┆ your next   ┆ agazine.com ┆ 19:00:11    ┆ your next   ┆ .pointemaga ┆ nte-img.rbl │\n",
       "│              ┆ audition…   ┆             ┆             ┆ audition…   ┆ zine.com…   ┆ .ms/sima…   │\n",
       "│ Rebecca      ┆ New York    ┆ www.pointem ┆ 2017-10-06  ┆ We          ┆ http://www. ┆ https://poi │\n",
       "│ Krohn on Her ┆ City Ballet ┆ agazine.com ┆ 14:44:51    ┆ interviewed ┆ pointemagaz ┆ nte-img.rbl │\n",
       "│ Retiremen…   ┆ principal…  ┆             ┆             ┆ New York    ┆ ine.com/…   ┆ .ms/sima…   │\n",
       "│              ┆             ┆             ┆             ┆ City B…     ┆             ┆             │\n",
       "│ …            ┆ …           ┆ …           ┆ …           ┆ …           ┆ …           ┆ …           │\n",
       "│ New York     ┆ What to     ┆ www.nbcnewy ┆ 2018-03-19  ┆ New York    ┆ https://www ┆ https://med │\n",
       "│ City Expands ┆ Know New    ┆ ork.com     ┆ 10:10:08    ┆ City will   ┆ .nbcnewyork ┆ ia.nbcnewyo │\n",
       "│ Plan to …    ┆ York City   ┆             ┆             ┆ expand the  ┆ .com/new…   ┆ rk.com/i…   │\n",
       "│              ┆ wil…        ┆             ┆             ┆ …           ┆             ┆             │\n",
       "│ 1 Killed, 2  ┆ A New York  ┆ www.nbcnewy ┆ 2017-02-15  ┆ Local       ┆ http://www. ┆ http://medi │\n",
       "│ Sickened by  ┆ City        ┆ ork.com     ┆ 10:13:08    ┆ leaders     ┆ nbcnewyork. ┆ a.nbcnewyor │\n",
       "│ Diseas…      ┆ resident    ┆             ┆             ┆ were        ┆ com/news…   ┆ k.com/im…   │\n",
       "│              ┆ has d…      ┆             ┆             ┆ preparing   ┆             ┆             │\n",
       "│              ┆             ┆             ┆             ┆ f…          ┆             ┆             │\n",
       "│ Sleeping Man ┆ A man who   ┆ www.nbcnewy ┆ 2018-02-03  ┆ A man who   ┆ https://www ┆ https://med │\n",
       "│ Stabbed on   ┆ was         ┆ ork.com     ┆ 05:17:31    ┆ was         ┆ .nbcnewyork ┆ ia.nbcnewyo │\n",
       "│ Subway…      ┆ sleeping on ┆             ┆             ┆ sleeping on ┆ .com/new…   ┆ rk.com/i…   │\n",
       "│              ┆ the …       ┆             ┆             ┆ the …       ┆             ┆             │\n",
       "│ Long Island  ┆ A Long      ┆ www.nbcnewy ┆ 2018-05-30  ┆ A Long      ┆ https://www ┆ https://med │\n",
       "│ Teen Stabbed ┆ Island teen ┆ ork.com     ┆ 18:09:17    ┆ Island teen ┆ .nbcnewyork ┆ ia.nbcnewyo │\n",
       "│ Mothe…       ┆ has been    ┆             ┆             ┆ has been    ┆ .com/new…   ┆ rk.com/i…   │\n",
       "│              ┆ ar…         ┆             ┆             ┆ ar…         ┆             ┆             │\n",
       "│ Markets      ┆ A Wall      ┆ www.nbcnewy ┆ 2018-03-19  ┆ U.S. stocks ┆ https://www ┆ https://med │\n",
       "│ Close Down   ┆ Street sign ┆ ork.com     ┆ 13:14:26    ┆ pulled back ┆ .nbcnewyork ┆ ia.nbcnewyo │\n",
       "│ as Facebook… ┆ hangs near  ┆             ┆             ┆ on Mon…     ┆ .com/new…   ┆ rk.com/i…   │\n",
       "│              ┆ …           ┆             ┆             ┆             ┆             ┆             │\n",
       "└──────────────┴─────────────┴─────────────┴─────────────┴─────────────┴─────────────┴─────────────┘"
      ]
     },
     "execution_count": 14,
     "metadata": {},
     "output_type": "execute_result"
    }
   ],
   "source": [
    "df"
   ]
  },
  {
   "cell_type": "code",
   "execution_count": null,
   "id": "e8ae1cfe-b672-409e-b27e-350089358758",
   "metadata": {},
   "outputs": [],
   "source": []
  },
  {
   "cell_type": "code",
   "execution_count": 35,
   "id": "8a8fb43c-b271-4d33-814f-c1143f4eb485",
   "metadata": {},
   "outputs": [
    {
     "data": {
      "text/plain": [
       "shape: (50_000, 7)\n",
       "┌──────────────┬─────────────┬─────────────┬─────────────┬─────────────┬─────────────┬─────────────┐\n",
       "│ title        ┆ text        ┆ domain      ┆ date        ┆ description ┆ url         ┆ image_url   │\n",
       "│ ---          ┆ ---         ┆ ---         ┆ ---         ┆ ---         ┆ ---         ┆ ---         │\n",
       "│ str          ┆ str         ┆ str         ┆ str         ┆ str         ┆ str         ┆ str         │\n",
       "╞══════════════╪═════════════╪═════════════╪═════════════╪═════════════╪═════════════╪═════════════╡\n",
       "│ Daughter Duo ┆ There's a   ┆ www.pointem ┆ 2017-12-11  ┆ There's a   ┆ http://www. ┆ https://poi │\n",
       "│ is Dancing   ┆ surprising  ┆ agazine.com ┆ 20:19:05    ┆ surprising  ┆ pointemagaz ┆ nte-img.rbl │\n",
       "│ in The…      ┆ twist to …  ┆             ┆             ┆ twist to …  ┆ ine.com/…   ┆ .ms/sima…   │\n",
       "│ New York     ┆ The New     ┆ www.pointem ┆ 2017-12-11  ┆ NYCB has    ┆ http://www. ┆ https://poi │\n",
       "│ City Ballet  ┆ York City   ┆ agazine.com ┆ 17:02:55    ┆ announced   ┆ pointemagaz ┆ nte-img.rbl │\n",
       "│ Announces…   ┆ Ballet      ┆             ┆             ┆ an interim  ┆ ine.com/…   ┆ .ms/sima…   │\n",
       "│              ┆ Board…      ┆             ┆             ┆ …           ┆             ┆             │\n",
       "│ Watch        ┆ The Philade ┆ www.pointem ┆ 2018-02-02  ┆ The Philade ┆ http://www. ┆ https://poi │\n",
       "│ Pennsylvania ┆ lphia       ┆ agazine.com ┆ 21:58:13    ┆ lphia       ┆ pointemagaz ┆ nte-img.rbl │\n",
       "│ Ballet & Bo… ┆ Eagles and  ┆             ┆             ┆ Eagles and  ┆ ine.com/…   ┆ .ms/sima…   │\n",
       "│              ┆ th…         ┆             ┆             ┆ th…         ┆             ┆             │\n",
       "│ dance shoes  ┆ Looking for ┆ www.pointem ┆ 2018-04-24  ┆ Looking for ┆ https://www ┆ https://poi │\n",
       "│              ┆ your next   ┆ agazine.com ┆ 19:00:11    ┆ your next   ┆ .pointemaga ┆ nte-img.rbl │\n",
       "│              ┆ audition…   ┆             ┆             ┆ audition…   ┆ zine.com…   ┆ .ms/sima…   │\n",
       "│ Rebecca      ┆ New York    ┆ www.pointem ┆ 2017-10-06  ┆ We          ┆ http://www. ┆ https://poi │\n",
       "│ Krohn on Her ┆ City Ballet ┆ agazine.com ┆ 14:44:51    ┆ interviewed ┆ pointemagaz ┆ nte-img.rbl │\n",
       "│ Retiremen…   ┆ principal…  ┆             ┆             ┆ New York    ┆ ine.com/…   ┆ .ms/sima…   │\n",
       "│              ┆             ┆             ┆             ┆ City B…     ┆             ┆             │\n",
       "│ …            ┆ …           ┆ …           ┆ …           ┆ …           ┆ …           ┆ …           │\n",
       "│ New York     ┆ What to     ┆ www.nbcnewy ┆ 2018-03-19  ┆ New York    ┆ https://www ┆ https://med │\n",
       "│ City Expands ┆ Know New    ┆ ork.com     ┆ 10:10:08    ┆ City will   ┆ .nbcnewyork ┆ ia.nbcnewyo │\n",
       "│ Plan to …    ┆ York City   ┆             ┆             ┆ expand the  ┆ .com/new…   ┆ rk.com/i…   │\n",
       "│              ┆ wil…        ┆             ┆             ┆ …           ┆             ┆             │\n",
       "│ 1 Killed, 2  ┆ A New York  ┆ www.nbcnewy ┆ 2017-02-15  ┆ Local       ┆ http://www. ┆ http://medi │\n",
       "│ Sickened by  ┆ City        ┆ ork.com     ┆ 10:13:08    ┆ leaders     ┆ nbcnewyork. ┆ a.nbcnewyor │\n",
       "│ Diseas…      ┆ resident    ┆             ┆             ┆ were        ┆ com/news…   ┆ k.com/im…   │\n",
       "│              ┆ has d…      ┆             ┆             ┆ preparing   ┆             ┆             │\n",
       "│              ┆             ┆             ┆             ┆ f…          ┆             ┆             │\n",
       "│ Sleeping Man ┆ A man who   ┆ www.nbcnewy ┆ 2018-02-03  ┆ A man who   ┆ https://www ┆ https://med │\n",
       "│ Stabbed on   ┆ was         ┆ ork.com     ┆ 05:17:31    ┆ was         ┆ .nbcnewyork ┆ ia.nbcnewyo │\n",
       "│ Subway…      ┆ sleeping on ┆             ┆             ┆ sleeping on ┆ .com/new…   ┆ rk.com/i…   │\n",
       "│              ┆ the …       ┆             ┆             ┆ the …       ┆             ┆             │\n",
       "│ Long Island  ┆ A Long      ┆ www.nbcnewy ┆ 2018-05-30  ┆ A Long      ┆ https://www ┆ https://med │\n",
       "│ Teen Stabbed ┆ Island teen ┆ ork.com     ┆ 18:09:17    ┆ Island teen ┆ .nbcnewyork ┆ ia.nbcnewyo │\n",
       "│ Mothe…       ┆ has been    ┆             ┆             ┆ has been    ┆ .com/new…   ┆ rk.com/i…   │\n",
       "│              ┆ ar…         ┆             ┆             ┆ ar…         ┆             ┆             │\n",
       "│ Markets      ┆ A Wall      ┆ www.nbcnewy ┆ 2018-03-19  ┆ U.S. stocks ┆ https://www ┆ https://med │\n",
       "│ Close Down   ┆ Street sign ┆ ork.com     ┆ 13:14:26    ┆ pulled back ┆ .nbcnewyork ┆ ia.nbcnewyo │\n",
       "│ as Facebook… ┆ hangs near  ┆             ┆             ┆ on Mon…     ┆ .com/new…   ┆ rk.com/i…   │\n",
       "│              ┆ …           ┆             ┆             ┆             ┆             ┆             │\n",
       "└──────────────┴─────────────┴─────────────┴─────────────┴─────────────┴─────────────┴─────────────┘"
      ]
     },
     "execution_count": 35,
     "metadata": {},
     "output_type": "execute_result"
    }
   ],
   "source": [
    "# Load 50000 examples of the 'cc_news' dataset from Hugging Face\n",
    "df = Polars.read_parquet('hf://datasets/vblagoje/cc_news/plain_text/train-*.parquet',n_rows:50_000)"
   ]
  },
  {
   "cell_type": "code",
   "execution_count": 16,
   "id": "7baf845f-bc10-4de8-8776-0674b4c8b3ff",
   "metadata": {},
   "outputs": [
    {
     "name": "stdout",
     "output_type": "stream",
     "text": [
      "shape: (50_000, 7)\n",
      "┌──────────────┬─────────────┬─────────────┬─────────────┬─────────────┬─────────────┬─────────────┐\n",
      "│ title        ┆ text        ┆ domain      ┆ date        ┆ description ┆ url         ┆ image_url   │\n",
      "│ ---          ┆ ---         ┆ ---         ┆ ---         ┆ ---         ┆ ---         ┆ ---         │\n",
      "│ str          ┆ str         ┆ str         ┆ str         ┆ str         ┆ str         ┆ str         │\n",
      "╞══════════════╪═════════════╪═════════════╪═════════════╪═════════════╪═════════════╪═════════════╡\n",
      "│ Daughter Duo ┆ There's a   ┆ www.pointem ┆ 2017-12-11  ┆ There's a   ┆ http://www. ┆ https://poi │\n",
      "│ is Dancing   ┆ surprising  ┆ agazine.com ┆ 20:19:05    ┆ surprising  ┆ pointemagaz ┆ nte-img.rbl │\n",
      "│ in The…      ┆ twist to …  ┆             ┆             ┆ twist to …  ┆ ine.com/…   ┆ .ms/sima…   │\n",
      "│ New York     ┆ The New     ┆ www.pointem ┆ 2017-12-11  ┆ NYCB has    ┆ http://www. ┆ https://poi │\n",
      "│ City Ballet  ┆ York City   ┆ agazine.com ┆ 17:02:55    ┆ announced   ┆ pointemagaz ┆ nte-img.rbl │\n",
      "│ Announces…   ┆ Ballet      ┆             ┆             ┆ an interim  ┆ ine.com/…   ┆ .ms/sima…   │\n",
      "│              ┆ Board…      ┆             ┆             ┆ …           ┆             ┆             │\n",
      "│ Watch        ┆ The Philade ┆ www.pointem ┆ 2018-02-02  ┆ The Philade ┆ http://www. ┆ https://poi │\n",
      "│ Pennsylvania ┆ lphia       ┆ agazine.com ┆ 21:58:13    ┆ lphia       ┆ pointemagaz ┆ nte-img.rbl │\n",
      "│ Ballet & Bo… ┆ Eagles and  ┆             ┆             ┆ Eagles and  ┆ ine.com/…   ┆ .ms/sima…   │\n",
      "│              ┆ th…         ┆             ┆             ┆ th…         ┆             ┆             │\n",
      "│ dance shoes  ┆ Looking for ┆ www.pointem ┆ 2018-04-24  ┆ Looking for ┆ https://www ┆ https://poi │\n",
      "│              ┆ your next   ┆ agazine.com ┆ 19:00:11    ┆ your next   ┆ .pointemaga ┆ nte-img.rbl │\n",
      "│              ┆ audition…   ┆             ┆             ┆ audition…   ┆ zine.com…   ┆ .ms/sima…   │\n",
      "│ Rebecca      ┆ New York    ┆ www.pointem ┆ 2017-10-06  ┆ We          ┆ http://www. ┆ https://poi │\n",
      "│ Krohn on Her ┆ City Ballet ┆ agazine.com ┆ 14:44:51    ┆ interviewed ┆ pointemagaz ┆ nte-img.rbl │\n",
      "│ Retiremen…   ┆ principal…  ┆             ┆             ┆ New York    ┆ ine.com/…   ┆ .ms/sima…   │\n",
      "│              ┆             ┆             ┆             ┆ City B…     ┆             ┆             │\n",
      "│ …            ┆ …           ┆ …           ┆ …           ┆ …           ┆ …           ┆ …           │\n",
      "│ New York     ┆ What to     ┆ www.nbcnewy ┆ 2018-03-19  ┆ New York    ┆ https://www ┆ https://med │\n",
      "│ City Expands ┆ Know New    ┆ ork.com     ┆ 10:10:08    ┆ City will   ┆ .nbcnewyork ┆ ia.nbcnewyo │\n",
      "│ Plan to …    ┆ York City   ┆             ┆             ┆ expand the  ┆ .com/new…   ┆ rk.com/i…   │\n",
      "│              ┆ wil…        ┆             ┆             ┆ …           ┆             ┆             │\n",
      "│ 1 Killed, 2  ┆ A New York  ┆ www.nbcnewy ┆ 2017-02-15  ┆ Local       ┆ http://www. ┆ http://medi │\n",
      "│ Sickened by  ┆ City        ┆ ork.com     ┆ 10:13:08    ┆ leaders     ┆ nbcnewyork. ┆ a.nbcnewyor │\n",
      "│ Diseas…      ┆ resident    ┆             ┆             ┆ were        ┆ com/news…   ┆ k.com/im…   │\n",
      "│              ┆ has d…      ┆             ┆             ┆ preparing   ┆             ┆             │\n",
      "│              ┆             ┆             ┆             ┆ f…          ┆             ┆             │\n",
      "│ Sleeping Man ┆ A man who   ┆ www.nbcnewy ┆ 2018-02-03  ┆ A man who   ┆ https://www ┆ https://med │\n",
      "│ Stabbed on   ┆ was         ┆ ork.com     ┆ 05:17:31    ┆ was         ┆ .nbcnewyork ┆ ia.nbcnewyo │\n",
      "│ Subway…      ┆ sleeping on ┆             ┆             ┆ sleeping on ┆ .com/new…   ┆ rk.com/i…   │\n",
      "│              ┆ the …       ┆             ┆             ┆ the …       ┆             ┆             │\n",
      "│ Long Island  ┆ A Long      ┆ www.nbcnewy ┆ 2018-05-30  ┆ A Long      ┆ https://www ┆ https://med │\n",
      "│ Teen Stabbed ┆ Island teen ┆ ork.com     ┆ 18:09:17    ┆ Island teen ┆ .nbcnewyork ┆ ia.nbcnewyo │\n",
      "│ Mothe…       ┆ has been    ┆             ┆             ┆ has been    ┆ .com/new…   ┆ rk.com/i…   │\n",
      "│              ┆ ar…         ┆             ┆             ┆ ar…         ┆             ┆             │\n",
      "│ Markets      ┆ A Wall      ┆ www.nbcnewy ┆ 2018-03-19  ┆ U.S. stocks ┆ https://www ┆ https://med │\n",
      "│ Close Down   ┆ Street sign ┆ ork.com     ┆ 13:14:26    ┆ pulled back ┆ .nbcnewyork ┆ ia.nbcnewyo │\n",
      "│ as Facebook… ┆ hangs near  ┆             ┆             ┆ on Mon…     ┆ .com/new…   ┆ rk.com/i…   │\n",
      "│              ┆ …           ┆             ┆             ┆             ┆             ┆             │\n",
      "└──────────────┴─────────────┴─────────────┴─────────────┴─────────────┴─────────────┴─────────────┘\n"
     ]
    }
   ],
   "source": [
    "\n",
    "nil"
   ]
  },
  {
   "cell_type": "code",
   "execution_count": 36,
   "id": "a076208a-28af-40cd-89b9-f00376e7b023",
   "metadata": {},
   "outputs": [
    {
     "name": "stdout",
     "output_type": "stream",
     "text": [
      "shape: (50_000,)\n",
      "Series: 'title' [str]\n",
      "[\n",
      "\t\"Daughter Duo is Dancing in The…\n",
      "\t\"New York City Ballet Announces…\n",
      "\t\"Watch Pennsylvania Ballet & Bo…\n",
      "\t\"dance shoes\"\n",
      "\t\"Rebecca Krohn on Her Retiremen…\n",
      "\t…\n",
      "\t\"New York City Expands Plan to …\n",
      "\t\"1 Killed, 2 Sickened by Diseas…\n",
      "\t\"Sleeping Man Stabbed on Subway…\n",
      "\t\"Long Island Teen Stabbed Mothe…\n",
      "\t\"Markets Close Down as Facebook…\n",
      "]\n",
      "true\n"
     ]
    }
   ],
   "source": [
    "puts df['title']\n",
    "title_array = df['title'].to_a\n",
    "title_array2 = df2['title'].to_a\n",
    "identical = title_array == title_array2\n",
    "puts identical"
   ]
  },
  {
   "cell_type": "code",
   "execution_count": null,
   "id": "6cf7f8ac-8e85-41dc-8527-533c15401b14",
   "metadata": {},
   "outputs": [],
   "source": []
  },
  {
   "cell_type": "code",
   "execution_count": 33,
   "id": "bfebb982-30a2-44f6-b66a-3673f3f1f125",
   "metadata": {},
   "outputs": [
    {
     "data": {
      "text/plain": [
       ":save_embeddings"
      ]
     },
     "execution_count": 33,
     "metadata": {},
     "output_type": "execute_result"
    }
   ],
   "source": [
    "def save_embedding(embedding, file)\n",
    "  File.open(file, 'ab') do |f| \n",
    "    Marshal.dump(embedding, f)\n",
    "  end\n",
    "end\n",
    "\n",
    "def each_embedding(file)\n",
    "  return enum_for(:each_embedding, file) unless block_given?\n",
    "  \n",
    "  File.open(file, 'rb') do |f|\n",
    "    begin\n",
    "      while !f.eof?\n",
    "        yield Marshal.load(f)\n",
    "      end\n",
    "    rescue EOFError\n",
    "      # Break out if we hit end of file\n",
    "    end\n",
    "  end\n",
    "end\n",
    "\n",
    "def load_embeddings(file)\n",
    "  embeddings = []\n",
    "  each_embedding(file) do |embedding|\n",
    "    embeddings << embedding\n",
    "  end\n",
    "  embeddings\n",
    "end\n",
    "\n",
    "def save_embeddings(model, texts, prefix: \"passage: \", cache_file: \"embeddings.cache\", batch_size: 100)\n",
    "  texts = [texts] unless texts.is_a?(Array)\n",
    "  \n",
    "  # Figure out how many embeddings are already in the cache\n",
    "  start_idx = each_embedding(cache_file).count rescue 0\n",
    "  \n",
    "  # Slice the texts in sets of N (e.g., 100)\n",
    "  total = texts.length\n",
    "  texts[start_idx..].each_slice(batch_size).with_index do |batch, batch_idx|\n",
    "    # Apply the prefix to each text in the batch\n",
    "    prefixed_batch = batch.map { |t| \"#{prefix}#{t}\" }\n",
    "    \n",
    "    # Get embeddings for the entire batch at once (if your model supports batch calls)\n",
    "    embeddings = model.(prefixed_batch)\n",
    "    \n",
    "    # Save each embedding\n",
    "    embeddings.each do |embedding|\n",
    "      save_embedding(embedding, cache_file)\n",
    "    end\n",
    "    \n",
    "    # Progress indicator\n",
    "    current = start_idx + batch_idx * batch_size + batch.size\n",
    "    percent = (current.to_f / total * 100).to_i\n",
    "    print \"\\rProcessing embeddings: #{percent}% (#{current}/#{total})\"\n",
    "  end\n",
    "  \n",
    "  print \"\\nDone!\\n\"\n",
    "end"
   ]
  },
  {
   "cell_type": "code",
   "execution_count": 34,
   "id": "6ef82fae-9ef6-454b-bd25-ddfee614e34d",
   "metadata": {},
   "outputs": [
    {
     "name": "stdout",
     "output_type": "stream",
     "text": [
      "Processing embeddings: 100% (50000/50000)\n",
      "Done!\n"
     ]
    }
   ],
   "source": [
    "save_embeddings(model,title_array)"
   ]
  },
  {
   "cell_type": "code",
   "execution_count": 20,
   "id": "eafd559d-2822-4758-993b-fa2a8c160ede",
   "metadata": {},
   "outputs": [
    {
     "data": {
      "text/plain": [
       "[[0.007776172831654549, 0.030636534094810486, 0.006429621949791908, 0.0032369415275752544, -0.006653294432908297, 0.08624327927827835, 0.0658121407032013, -0.06442847102880478, 0.010094518773257732, 0.038785673677921295, 0.08897559344768524, 0.0016825764905661345, -0.0065928008407354355, 0.0024186638183891773, 0.0528688058257103, -0.04490164667367935, -0.04365790635347366, 0.0727725476026535, -0.08364787697792053, 0.02291102148592472, 0.012090000323951244, -0.061756979674100876, -0.004014022182673216, -0.036743611097335815, 0.016573714092373848, -0.03042406216263771, 0.007106706965714693, 0.03227509185671806, -0.027671728283166885, -0.08136255294084549, -0.05101291090250015, 0.029846908524632454, -0.03366858884692192, 0.004739896859973669, 0.031140614300966263, -0.014164036139845848, -0.009502699598670006, 0.07173682004213333, -0.026918208226561546, 0.03813191130757332, -0.03274918720126152, -0.05567197874188423, 0.038645725697278976, -0.07432640343904495, -0.01664847694337368, 0.007502303458750248, -0.04467479884624481, -0.03355548530817032, 0.057702794671058655, -0.04036201909184456, -0.054468415677547455, 0.009684382006525993, 0.04029667004942894, 0.08201044052839279, 0.02190501056611538, 0.09949009120464325, 0.014313451945781708, 0.0742865577340126, 0.05328067019581795, 0.06206311658024788, 0.009222413413226604, 0.04669993370771408, -0.11053913831710815, 0.09000469744205475, 0.047423750162124634, 0.02612794190645218, -0.035043854266405106, -0.019572807475924492, -0.10105738043785095, -0.0349055752158165, -0.00527050020173192, 0.049419816583395004, -0.01964617893099785, 0.09451860189437866, -0.06979236006736755, 0.06762924045324326, 0.014415426179766655, 0.01946338266134262, -0.09867372363805771, -0.008151770569384098, -0.03393402323126793, -0.07146897912025452, -0.024965615943074226, 0.026229629293084145, -0.009229590184986591, -0.052119627594947815, 0.018359772861003876, -0.04082280769944191, -0.0017785349627956748, -0.05560071021318436, -0.13855496048927307, 0.05298546329140663, -0.026619160547852516, -0.06171751022338867, -0.04206070303916931, -0.016335899010300636, -0.010381149128079414, 0.0297884251922369, 0.004881877452135086, 0.06054918095469475, 0.05049583315849304, 0.05874660983681679, 0.05575016140937805, -0.02104370854794979, -0.013291106559336185, -0.06760016083717346, 0.033865682780742645, -0.03736591711640358, 0.022521421313285828, 0.0026985788717865944, -0.00909329578280449, 0.0022517438046634197, 0.0010840428294613957, -0.04134778678417206, -0.0002066347369691357, -0.005606824532151222, -0.012659546919167042, -0.00611558323726058, -0.06968832015991211, -0.00668896222487092, 0.053787052631378174, 0.03196299448609352, 0.04608665034174919, -0.017490115016698837, 0.023111188784241676, -0.08313677459955215, 0.07134240865707397, 0.11422507464885712, 0.06944919377565384, 0.04754672572016716, 0.028744667768478394, 0.009634993970394135, 0.019973576068878174, 0.011634958907961845, -0.0495525598526001, -0.0037874779663980007, -0.08099313825368881, 0.01437013503164053, 0.037922777235507965, -0.021770918741822243, -0.023001836612820625, -0.08789816498756409, 0.04656914621591568, -0.165700301527977, -0.0018445913447067142, 0.04421664774417877, -0.07513701170682907, 0.08279278874397278, -0.05514281615614891, 0.06255282461643219, -0.10020320117473602, -0.0028490114491432905, -0.013550996780395508, 0.011329535394906998, 0.01880820468068123, 0.089959055185318, 0.009774173609912395, 0.07688673585653305, -0.06050759181380272, 0.0017345806118100882, -0.03322911262512207, -0.013514790683984756, 0.06800074875354767, 0.08890809118747711, 0.015107349492609501, -0.14587222039699554, 0.06147480010986328, 0.028896620497107506, -0.03883237764239311, -0.05348427593708038, -0.0063108764588832855, 0.028684480115771294, 0.024221215397119522, 0.04689094424247742, 0.016555260866880417, -0.06907573342323303, -0.04083331674337387, -0.034367021173238754, 0.017906341701745987, -0.06475513428449631, 0.05892862752079964, -0.06876497715711594, 0.01813691109418869, 0.07776254415512085, 0.07480010390281677, -0.038463037461042404, -0.09099821001291275, -0.02905479446053505, 0.036374349147081375, -0.046704668551683426, -0.0840224102139473, -0.006962175481021404, -0.006060448940843344, 0.04098377376794815, 0.07603570073843002, -0.003348112106323242, -0.015995249152183533, -0.07658541202545166, -0.05249805748462677, -0.03979513794183731, 0.06928957253694534, 0.05208732187747955, -0.021762263029813766, 0.03839099034667015, -0.005142691545188427, 0.038946732878685, 0.006197175942361355, -0.013417673297226429, -0.05449357628822327, -0.02872920036315918, -0.022824019193649292, -0.01224115677177906, -0.03355967625975609, -0.04139549285173416, -0.04489145427942276, -0.04227476194500923, -0.027218563482165337, 0.016160529106855392, -0.0009047010098583996, 0.022076863795518875, 0.05670125037431717, -0.016030630096793175, 0.005434854421764612, -0.12296783179044724, -0.0029640381690114737, -0.03529224544763565, -0.013102537952363491, 0.035197801887989044, 0.03082008846104145, -0.014109445735812187, 0.041738174855709076, 0.023094752803444862, 0.05671394616365433, 0.08939614146947861, 0.019282737746834755, -0.04416545107960701, -0.010617674328386784, 0.0005317524774000049, 0.08104190230369568, 0.0001010042178677395, 0.04308832436800003, 0.09616437554359436, -0.03211907669901848, -0.040634650737047195, -0.02593149058520794, -0.013917136006057262, 0.006615520920604467, 0.027006033807992935, -0.04118826240301132, 0.07864357531070709, 0.10832489281892776, 0.020075058564543724, -0.003952797967940569, 0.041399553418159485, 0.05726269260048866, 0.02134440466761589, -0.04156855493783951, 0.07271692901849747, -0.03938281163573265, 0.054212067276239395, -0.01795385777950287, -0.025288671255111694, -0.03938554599881172, -0.014919585548341274, -0.021500451490283012, 0.019920488819479942, -0.0833500549197197, 0.14733487367630005, -0.0548776350915432, -0.036472976207733154, -0.015262563712894917, 0.021141916513442993, -0.0233549103140831, 0.020095184445381165, -0.07211056351661682, 0.0018828731263056397, -0.05190742760896683, -0.08505904674530029, -0.0416443832218647, -0.01045625377446413, 0.03742304444313049, -0.09229106456041336, 0.0348116010427475, -0.08475847542285919, 0.005159413907676935, 0.054170724004507065, -0.026434727013111115, -0.030861014500260353, 0.04033594951033592, 0.017162522301077843, 0.04784858971834183, -0.04274514690041542, -0.02366197109222412, 0.013640256598591805, 0.05513451248407364, -0.09727964550256729, -0.009580651298165321, 0.09259752929210663, -0.013242151588201523, 0.036999426782131195, -0.02269376628100872, -0.01736566424369812, -0.010724293068051338, -0.016167910769581795, -0.11140929162502289, 0.04036534205079079, 0.05789077281951904, 0.003957826178520918, -0.07889098674058914, 0.020723450928926468, -0.0043249111622571945, -0.019556932151317596, -0.06461641192436218, 0.007243750151246786, 0.0008293300634250045, 0.06814144551753998, 0.06599950790405273, -0.0570417121052742, -0.019497869536280632, -0.17713788151741028, -0.05042382702231407, 0.04367987811565399, -0.02869294583797455, -0.0034321900457143784, 0.015219527296721935, 0.03490014001727104, 0.0006137247546575963, -0.05410076677799225, -0.05397897586226463, 0.04781479388475418, 0.01819331757724285, 0.1284249722957611, 0.031842418015003204, -0.050039999186992645, 0.08982504159212112, 0.12118798494338989, 0.032802361994981766, 0.007603967562317848, -0.08430463075637817, -0.004872388206422329, -0.019935203716158867, 0.11687620729207993, 0.019495846703648567, 0.01656562089920044, -0.006007473450154066, 0.019930940121412277, 0.06248842179775238, 0.01887097954750061, -0.012685551308095455, 0.010059870779514313, -0.02530253864824772, 0.059067532420158386, 0.022451570257544518, 0.044366128742694855, 0.052541982382535934, -0.03344946354627609, 0.021497678011655807, 0.07154985517263412, -0.02844156324863434, 0.03814294934272766, 0.03751150518655777, -0.08816902339458466, -0.04712042212486267, 0.10074806958436966, 0.04131877049803734, 0.0019910368137061596, 0.02443380281329155, -0.04461536929011345, -0.06830323487520218, -0.01607436314225197, 0.012019429355859756, 0.05705266073346138, 0.046488575637340546, 0.05578676983714104, -0.052086230367422104, -0.08221382647752762, -0.011025073006749153, -0.03460418060421944, -0.03392871469259262, 0.02297600544989109, -0.09561435878276825, -0.010608388110995293, -0.037824202328920364, -0.00675980094820261]]"
      ]
     },
     "execution_count": 20,
     "metadata": {},
     "output_type": "execute_result"
    }
   ],
   "source": [
    "title_embeddings = load_embeddings(\"embeddings.cache\")\n",
    "title_embeddings.first(1)"
   ]
  },
  {
   "cell_type": "code",
   "execution_count": 21,
   "id": "4aa4dc29-9902-4912-b4cb-4c7f5cb46907",
   "metadata": {},
   "outputs": [
    {
     "name": "stdout",
     "output_type": "stream",
     "text": [
      "11840\n"
     ]
    }
   ],
   "source": [
    "require 'objspace'\n",
    "# ObjectSpace.memsize_of_all(Array) # Size of all arrays\n",
    "# ObjectSpace.memsize_of_all(Float) # Size of all floats\n",
    "\n",
    "puts ObjectSpace.memsize_of(title_embeddings)\n",
    "\n",
    "# 50000 embeddings at 384 dims each is how much in RAM?"
   ]
  },
  {
   "cell_type": "code",
   "execution_count": 22,
   "id": "07421f88-f18d-4753-848e-6b9c3aa1d2ad",
   "metadata": {},
   "outputs": [],
   "source": [
    "# File.open('cc_news_title_embeddings_50000.marshal', 'wb') do |file|\n",
    "#     Marshal.dump(title_embeddings, file)\n",
    "# end"
   ]
  },
  {
   "cell_type": "code",
   "execution_count": 23,
   "id": "0ed63643-67e6-4453-ae9c-d56f089db047",
   "metadata": {},
   "outputs": [],
   "source": [
    "# # NOTE that 50k embeddings of 384 dims each uses about 74MB pickled disk space\n",
    "# system('ls -lah cc_news_title_embeddings_50000.marshal')"
   ]
  },
  {
   "cell_type": "markdown",
   "id": "29639222-d1f2-4465-a212-cd64f4205c41",
   "metadata": {},
   "source": [
    "### brute-force nearest neighbor calculation"
   ]
  },
  {
   "cell_type": "code",
   "execution_count": 24,
   "id": "65fa9fb6-b1d6-45bb-9c15-0383d11f9015",
   "metadata": {},
   "outputs": [],
   "source": [
    "# def knn(query,model, k: 5)\n",
    "#     query_embedding = get_embeddings(model, query, prefix: \"query: \")\n",
    "#     cosine_scores = STutil.cosine_similarity(query_embedding, title_embeddings)\n",
    "#     sorted_indices = cosine_scores.sort_index(reverse: true)\n",
    "#     top_k_indices = sorted_indices.first(k)\n",
    "    \n",
    "#     top_k_indices.map { |i| dataset['title'][i] }\n",
    "# end"
   ]
  },
  {
   "cell_type": "code",
   "execution_count": 25,
   "id": "393113fa-e96b-49f6-b73d-80a3abdeea1b",
   "metadata": {},
   "outputs": [
    {
     "data": {
      "text/plain": [
       ":knn"
      ]
     },
     "execution_count": 25,
     "metadata": {},
     "output_type": "execute_result"
    }
   ],
   "source": [
    "$dataset = df\n",
    "\n",
    "def cosine_similarity(query_embedding,corpus_embedding)\n",
    "    cos = Torch::NN::CosineSimilarity.new(dim: 1, eps: 1e-6)\n",
    "\n",
    "    # Convert arrays to tensors and reshape them\n",
    "    tensor0 = Torch.tensor(query_embedding)\n",
    "    # puts 'after tensor 0'\n",
    "    tensor1 = Torch.tensor(corpus_embedding)\n",
    "\n",
    "\n",
    "    # Calculate cosine similarity\n",
    "    similarity = cos.call(tensor0, tensor1)\n",
    "end\n",
    "\n",
    "def knn(query,model, k: 5)\n",
    "    puts query\n",
    "    query_embedding = get_embeddings(model, query, prefix: \"query: \")\n",
    "    # puts load_embeddings(\"embeddings.cache\")[0][0]\n",
    "    puts \"query_embedding 1st number: #{query_embedding[0][0]}\"\n",
    "    puts \"title_embeddings 1st number: #{load_embeddings(\"embeddings.cache\")[0][0]}\"\n",
    "    cosine_scores = cosine_similarity(query_embedding, load_embeddings(\"embeddings.cache\"))\n",
    "    #sorted_indices = cosine_scores.sort_index(reverse: true)\n",
    "    # Polars.read_parquet('hf://datasets/vblagoje/cc_news/plain_text/train-*.parquet').head(1000)\n",
    "\n",
    "    # puts scores_series = Polars::Series.new(\"scores\", cosine_scores.flatten.to_a)\n",
    "    \n",
    "    scores_series = Polars::Series.new(\"scores\", cosine_scores.flatten.to_a)\n",
    "    sorted_indices = scores_series.arg_sort(reverse: true).to_a  # Added reverse: true here\n",
    "    top_k_indices = sorted_indices.first(k)  # Using k instead of hardcoded 5\n",
    "    \n",
    "    most_similar = top_k_indices.map { |i| $dataset['title'][i] }\n",
    "end"
   ]
  },
  {
   "cell_type": "code",
   "execution_count": 26,
   "id": "8714b6d5-65f5-4194-802e-1bbc7f1a8014",
   "metadata": {},
   "outputs": [
    {
     "name": "stdout",
     "output_type": "stream",
     "text": [
      "housing market\n",
      "housing market\n",
      "Processing embeddings: 100% (1/1)\n",
      "Done!\n",
      "query_embedding 1st number: -0.032320182770490646\n",
      "title_embeddings 1st number: 0.007776172831654549\n"
     ]
    },
    {
     "data": {
      "text/plain": [
       "[\"ভ্যালেন্টাইনের হাত ধরে গভীর রাতে জুহু বিচে শাহরুখ\", \"জেনের সঙ্গে আলাপ‚প্রেম থেকে বিয়ে – অকপট প্রীতি জিন্টা\", \"Real time energy financing and trading news\", \"Real time energy financing and trading news\", \"Real time energy financing and trading news\"]"
      ]
     },
     "execution_count": 26,
     "metadata": {},
     "output_type": "execute_result"
    }
   ],
   "source": [
    "knn(\"housing market\",model)"
   ]
  },
  {
   "cell_type": "code",
   "execution_count": 27,
   "id": "9d944a61-a028-49df-b2a6-79e4acfa7be7",
   "metadata": {},
   "outputs": [
    {
     "name": "stdout",
     "output_type": "stream",
     "text": [
      "property market\n",
      "property market\n",
      "Processing embeddings: 100% (1/1)\n",
      "Done!\n",
      "query_embedding 1st number: -0.04586941376328468\n",
      "title_embeddings 1st number: 0.007776172831654549\n"
     ]
    },
    {
     "data": {
      "text/plain": [
       "[\"জেনের সঙ্গে আলাপ‚প্রেম থেকে বিয়ে – অকপট প্রীতি জিন্টা\", \"ভ্যালেন্টাইনের হাত ধরে গভীর রাতে জুহু বিচে শাহরুখ\", \"প্রাক্তন প্রেমিকা প্রিয়াঙ্কাকে মেরে ফেলতে চান শাহিদ!!\", \"Global GIS Market in Telecom Sector - Use of GIS and Big Data is an Emerging Trend in the Market\", \"Business Highlights\"]"
      ]
     },
     "execution_count": 27,
     "metadata": {},
     "output_type": "execute_result"
    }
   ],
   "source": [
    "knn(\"property market\",model)"
   ]
  },
  {
   "cell_type": "code",
   "execution_count": 28,
   "id": "3cb45dd4-15b5-4447-b0b9-8c83daad7af3",
   "metadata": {},
   "outputs": [
    {
     "name": "stdout",
     "output_type": "stream",
     "text": [
      "ballet dancing changes\n",
      "ballet dancing changes\n",
      "Processing embeddings: 100% (1/1)\n",
      "Done!\n",
      "query_embedding 1st number: -0.057412199676036835\n",
      "title_embeddings 1st number: 0.007776172831654549\n"
     ]
    },
    {
     "data": {
      "text/plain": [
       "[\"Ballet Performances This Week\", \"Roy Kaiser to Become Nevada Ballet Theatre's New Artistic Director\", \"Watch Pennsylvania Ballet & Boston Ballet Face Off for the Super Bowl\", \"Broadway's \\\"Carousel\\\" Stars Some Familiar Ballet Faces\", \"Rebecca Krohn on Her Retirement from New York City Ballet\"]"
      ]
     },
     "execution_count": 28,
     "metadata": {},
     "output_type": "execute_result"
    }
   ],
   "source": [
    "knn(\"ballet dancing changes\",model)"
   ]
  },
  {
   "cell_type": "code",
   "execution_count": 29,
   "id": "560b7532-7075-421d-b6bc-0e30d9a836f6",
   "metadata": {},
   "outputs": [
    {
     "name": "stdout",
     "output_type": "stream",
     "text": [
      "climate change\n",
      "climate change\n",
      "Processing embeddings: 100% (1/1)\n",
      "Done!\n",
      "query_embedding 1st number: -0.06961619853973389\n",
      "title_embeddings 1st number: 0.007776172831654549\n"
     ]
    },
    {
     "data": {
      "text/plain": [
       "[\"Global Forecast-Celsius\", \"In The Rockies, Climate Change Spells Trouble For Cutthroat Trout\", \"ভ্যালেন্টাইনের হাত ধরে গভীর রাতে জুহু বিচে শাহরুখ\", \"সোশ্যাল মিডিয়ায় ছবি দিয়ে কি বয়ফ্রেন্ডের কথাই সবাইকে জানাতে চাইছেন সোনম?\", \"জেনের সঙ্গে আলাপ‚প্রেম থেকে বিয়ে – অকপট প্রীতি জিন্টা\"]"
      ]
     },
     "execution_count": 29,
     "metadata": {},
     "output_type": "execute_result"
    }
   ],
   "source": [
    "knn(\"climate change\",model)"
   ]
  },
  {
   "cell_type": "code",
   "execution_count": 30,
   "id": "819d1a30-37d1-4d3e-903b-fe981d9673eb",
   "metadata": {},
   "outputs": [
    {
     "name": "stdout",
     "output_type": "stream",
     "text": [
      "global warming in the united states\n",
      "global warming in the united states\n",
      "Processing embeddings: 100% (1/1)\n",
      "Done!\n",
      "query_embedding 1st number: -0.042729850858449936\n",
      "title_embeddings 1st number: 0.007776172831654549\n"
     ]
    },
    {
     "data": {
      "text/plain": [
       "[\"Global Forecast-Celsius\", \"How Google Fiber turned 2017 into its comeback year\", \"জেনের সঙ্গে আলাপ‚প্রেম থেকে বিয়ে – অকপট প্রীতি জিন্টা\", \"Some of the deadliest mass shootings in modern US history\", \"সোশ্যাল মিডিয়ায় ছবি দিয়ে কি বয়ফ্রেন্ডের কথাই সবাইকে জানাতে চাইছেন সোনম?\"]"
      ]
     },
     "execution_count": 30,
     "metadata": {},
     "output_type": "execute_result"
    }
   ],
   "source": [
    "knn(\"global warming in the united states\",model)"
   ]
  },
  {
   "cell_type": "code",
   "execution_count": 31,
   "id": "b0b6ba21-df56-4821-ab26-f9db96e0639f",
   "metadata": {},
   "outputs": [
    {
     "name": "stdout",
     "output_type": "stream",
     "text": [
      "taylor swift\n",
      "taylor swift\n",
      "Processing embeddings: 100% (1/1)\n",
      "Done!\n",
      "query_embedding 1st number: -0.032431963831186295\n",
      "title_embeddings 1st number: 0.007776172831654549\n"
     ]
    },
    {
     "data": {
      "text/plain": [
       "[\"Taylor Swift Wins Sexual Assault Lawsuit Against Former Radio Host\", \"ভ্যালেন্টাইনের হাত ধরে গভীর রাতে জুহু বিচে শাহরুখ\", \"The top 5 iPhone X gestures every user should know\", \"Taylor Swift groper hired as a DJ at Mississippi station\", \"জেনের সঙ্গে আলাপ‚প্রেম থেকে বিয়ে – অকপট প্রীতি জিন্টা\"]"
      ]
     },
     "execution_count": 31,
     "metadata": {},
     "output_type": "execute_result"
    }
   ],
   "source": [
    "knn(\"taylor swift\",model)"
   ]
  },
  {
   "cell_type": "code",
   "execution_count": null,
   "id": "ca6bdf6e-db07-44ab-b412-9af5322b5d2a",
   "metadata": {},
   "outputs": [],
   "source": []
  },
  {
   "cell_type": "code",
   "execution_count": null,
   "id": "8f8c9e76-f6b7-4215-a597-a393297e481a",
   "metadata": {},
   "outputs": [],
   "source": []
  },
  {
   "cell_type": "code",
   "execution_count": null,
   "id": "dab5517e-445a-4b9f-adaa-0486d8a5e553",
   "metadata": {},
   "outputs": [],
   "source": []
  },
  {
   "cell_type": "code",
   "execution_count": null,
   "id": "04a4d4c9-e5d6-4fb6-8215-be2f264e46b2",
   "metadata": {},
   "outputs": [],
   "source": []
  },
  {
   "cell_type": "code",
   "execution_count": null,
   "id": "c844bf87-ff9e-45b4-b3f1-40fc098a4fc0",
   "metadata": {},
   "outputs": [],
   "source": []
  },
  {
   "cell_type": "code",
   "execution_count": null,
   "id": "2ecbff51-b841-43f0-8607-379f63014c39",
   "metadata": {},
   "outputs": [],
   "source": []
  },
  {
   "cell_type": "code",
   "execution_count": null,
   "id": "8b6ab736-7548-4441-975c-90f8d17ceb07",
   "metadata": {},
   "outputs": [],
   "source": []
  },
  {
   "cell_type": "code",
   "execution_count": null,
   "id": "156bea0a-b1e3-495b-b784-c96f3c003de6",
   "metadata": {},
   "outputs": [],
   "source": []
  },
  {
   "cell_type": "code",
   "execution_count": null,
   "id": "a0302c3c-8229-4c65-a4a0-a3d34a8396e7",
   "metadata": {},
   "outputs": [],
   "source": []
  },
  {
   "cell_type": "code",
   "execution_count": null,
   "id": "db3a7fee-261c-4a0f-8dd0-d8e1d42fdaa9",
   "metadata": {},
   "outputs": [],
   "source": []
  }
 ],
 "metadata": {
  "kernelspec": {
   "display_name": "Ruby 3.1.3",
   "language": "ruby",
   "name": "ruby"
  },
  "language_info": {
   "file_extension": ".rb",
   "mimetype": "application/x-ruby",
   "name": "ruby",
   "version": "3.1.3"
  }
 },
 "nbformat": 4,
 "nbformat_minor": 5
}
