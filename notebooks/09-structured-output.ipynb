{
  "cells": [
   {
    "cell_type": "markdown",
    "id": "f3d8ce0f-bcdb-43fe-b20e-e6ef4c0534c2",
    "metadata": {},
    "source": [
     "# Lab 9 - Structured Output - GPT-4o-mini"
    ]
   },
   {
    "cell_type": "code",
    "execution_count": null,
    "id": "33b42562-c0ad-4c2d-8673-1a71f67bec63",
    "metadata": {},
    "outputs": [],
    "source": [
     "require 'json'\n",
     "require 'openai'\n",
     "require 'dotenv'\n",
     "require 'date'\n",
     "\n",
     "Dotenv.load\n",
     "\n",
     "$client = OpenAI::Client.new(access_token:  ENV['OPENAI_API_KEY'])"
    ]
   },
   {
    "cell_type": "code",
    "execution_count": null,
    "id": "5d6117b0-58f6-4091-b78e-22959239ff99",
    "metadata": {},
    "outputs": [],
    "source": [
     "def complete_function(prompt, function)\n",
     "  resp = $client.chat(\n",
     "    parameters: {\n",
     "      messages: [\n",
     "        {\n",
     "          role: \"system\",\n",
     "          content: \"You are a helpful assistant making decisions for routing tasks.\"\n",
     "        },\n",
     "        {\n",
     "          role: \"user\",\n",
     "          content: prompt\n",
     "        }\n",
     "      ],\n",
     "      model: \"gpt-4o-mini\",\n",
     "      temperature: 0,\n",
     "      tools: [\n",
     "        {\n",
     "          type: \"function\",\n",
     "          function: function\n",
     "        }\n",
     "      ]\n",
     "    }\n",
     "  )\n",
     "\n",
     "  begin\n",
     "    content = resp.dig(\"choices\", 0)\n",
     "\n",
     "    tool_calls = content.dig(\"message\", \"tool_calls\")\n",
     "    return nil unless tool_calls && !tool_calls.empty?\n",
     "    \n",
     "    # Get the first tool call\n",
     "    tool_call = tool_calls[0]\n",
     "    arguments_str = tool_call.dig(\"function\", \"arguments\")\n",
     "    JSON.parse(arguments_str)\n",
     "  rescue StandardError => e\n",
     "    puts e.message\n",
     "    nil\n",
     "  end\n",
     "end"
    ]
   },
   {
    "cell_type": "markdown",
    "id": "cd87ae21-6daa-4c04-9dea-6ba047190768",
    "metadata": {},
    "source": [
     "## Yes or No (boolean true/false)"
    ]
   },
   {
    "cell_type": "code",
    "execution_count": null,
    "id": "9a7a8f77-e31b-478e-9f71-69b1e45f6116",
    "metadata": {},
    "outputs": [],
    "source": [
     "def get_bool_prompt(query)\n",
     "  <<~PROMPT\n",
     "    # Instructions\n",
     "\n",
     "    Is the following question true or false?\n",
     "\n",
     "    ## Question\n",
     "\n",
     "    #{query}\n",
     "  PROMPT\n",
     "end"
    ]
   },
   {
    "cell_type": "code",
    "execution_count": null,
    "id": "8a8d2a8a-0bdb-40f2-81e9-fe8bcb76b8fd",
    "metadata": {},
    "outputs": [],
    "source": [
     "def get_bool_function\n",
     "  {\n",
     "    name: \"true_or_false\",\n",
     "    strict: true,\n",
     "    parameters: {\n",
     "      type: \"object\",\n",
     "      properties: {\n",
     "        final_answer: {\n",
     "          type: \"boolean\"\n",
     "        }\n",
     "      },\n",
     "      required: [\"final_answer\"],\n",
     "      additionalProperties: false\n",
     "    }\n",
     "  }\n",
     "end"
    ]
   },
   {
    "cell_type": "code",
    "execution_count": null,
    "id": "2c94c520-5557-42d4-930b-97225710c556",
    "metadata": {},
    "outputs": [],
    "source": [
     "def truefalse(question)\n",
     "  prompt = get_bool_prompt(question)\n",
     "  function = get_bool_function\n",
     "  response = complete_function(prompt, function)\n",
     "  if response\n",
     "    puts \"#{response['final_answer']}\\t<=\\t#{question}\"\n",
     "  end\n",
     "  response\n",
     "end"
    ]
   },
   {
    "cell_type": "code",
    "execution_count": null,
    "id": "159ad172-d783-4781-8cd7-4bebf1e50996",
    "metadata": {},
    "outputs": [],
    "source": [
     "b = truefalse(\"Does 2+2 equal 4?\")\n",
     "b = truefalse(\"Does 2+2 equal 5?\")\n",
     "b = truefalse(\"Does the text 'Flower City AI conference at the Little Theatre in December' contain an event venue name?\")\n",
     "b = truefalse(\"Does the text 'Hello, Mr. Smith' list any attendees for an event?\")\n",
     "b = truefalse(\"Does the text 'Jane Doe is coming to Flower City AI' list any attendees for an event?\")\n",
     "b = truefalse(\"Does the text 'Jane Doe is coming to the Flower City AI conference' list any attendees for an event?\")"
    ]
   },
   {
    "cell_type": "markdown",
    "id": "2c08b2d0-073b-4737-bcb3-d0224eb4b99a",
    "metadata": {},
    "source": [
     "## Pick from a list (enum)"
    ]
   },
   {
    "cell_type": "code",
    "execution_count": null,
    "id": "a46b8d5b-64e6-4d92-8a9a-af5c1ff81c7f",
    "metadata": {},
    "outputs": [],
    "source": [
     "def get_classification_prompt(query)\n",
     "  <<~PROMPT\n",
     "    # Instructions\n",
     "\n",
     "    For an event management SaaS product, natural language queries need to be classified and routed to the appropriate branch. Classify the following user query:\n",
     "\n",
     "    ## Query\n",
     "\n",
     "    #{query}\n",
     "  PROMPT\n",
     "end"
    ]
   },
   {
    "cell_type": "code",
    "execution_count": null,
    "id": "79f5c97b-3df3-4a0c-a63e-e242b795a476",
    "metadata": {},
    "outputs": [],
    "source": [
     "def get_classification_function\n",
     "  {\n",
     "    name: \"task_type\",\n",
     "    description: \"Classify the task based on the user query.\",\n",
     "    strict: true,\n",
     "    parameters: {\n",
     "      type: \"object\",\n",
     "      properties: {\n",
     "        task_type: {\n",
     "          type: \"string\",\n",
     "          enum: [\"create_event\", \"list_events\", \"create_attendee\", \"list_attendees\", \"other\"]\n",
     "        }\n",
     "      },\n",
     "      required: [\"task_type\"],\n",
     "      additionalProperties: false\n",
     "    }\n",
     "  }\n",
     "end"
    ]
   },
   {
    "cell_type": "code",
    "execution_count": null,
    "id": "245ffde9-46ce-424f-9f48-04d937e8d5ae",
    "metadata": {},
    "outputs": [],
    "source": [
     "def classify(query)\n",
     "  prompt = get_classification_prompt(query)\n",
     "  function = get_classification_function\n",
     "  classification = complete_function(prompt, function)\n",
     "  if classification\n",
     "    puts \"#{classification['task_type']}\\t<=\\t#{query}\"\n",
     "  end\n",
     "  classification\n",
     "end"
    ]
   },
   {
    "cell_type": "code",
    "execution_count": null,
    "id": "08c57f9f-4819-4958-8634-c15fa0bb5520",
    "metadata": {},
    "outputs": [],
    "source": [
     "c = classify(\"What events are coming up?\")\n",
     "c = classify(\"Book the Ellison Lodge A for December 4th\")\n",
     "c = classify(\"Jane Doe is coming to the party on 12/4\")\n",
     "c = classify(\"Pencil in highland park gazebo for june 11th\")\n",
     "c = classify(\"Leah, Alice, and Fred are all coming on june 11th\")\n",
     "c = classify(\"Who is coming in June?\")\n",
     "c = classify(\"What spaces are available?\")"
    ]
   }
  ],
  "metadata": {
   "kernelspec": {
    "display_name": "Ruby 3.1.3",
    "language": "ruby",
    "name": "ruby"
   },
   "language_info": {
    "file_extension": ".rb",
    "mimetype": "application/x-ruby",
    "name": "ruby",
    "version": "3.1.3"
   }
  },
  "nbformat": 4,
  "nbformat_minor": 5
 }
 