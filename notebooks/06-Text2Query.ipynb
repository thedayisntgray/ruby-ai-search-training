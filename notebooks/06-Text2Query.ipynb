{
 "cells": [
  {
   "cell_type": "markdown",
   "id": "e57a75bc-63c0-4ef1-bb7c-e487fc111c76",
   "metadata": {},
   "source": [
    "# Lab 6 - Query feature extraction with OpenAI \"Function Calling\""
   ]
  },
  {
   "cell_type": "code",
   "execution_count": null,
   "id": "5cd5fb7f-5d48-48e6-ac73-9680ed86ced0",
   "metadata": {},
   "outputs": [],
   "source": [
    "import os\n",
    "import openai\n",
    "import json\n",
    "import re\n",
    "import pandas as pd\n",
    "from tqdm.notebook import tqdm\n",
    "\n",
    "#Caching function responses lets us iterate without re-calling expensive operations\n",
    "import functools\n",
    "\n",
    "#Don't include keys like this, use ENV vars!\n",
    "with open('config.json') as fd:\n",
    "    conf = json.loads(fd.read())\n",
    "    gpt = openai.OpenAI(api_key=conf[\"openai_key\"])"
   ]
  },
  {
   "cell_type": "code",
   "execution_count": null,
   "id": "c6b9fb7f-2d10-4a6a-a247-3fc7e243a1d3",
   "metadata": {},
   "outputs": [],
   "source": [
    "@functools.cache\n",
    "def get_gpt_completion(context):\n",
    "    messages= [{\"role\": \"user\", \"content\": context}]\n",
    "    functions= [\n",
    "        {\n",
    "            \"name\": \"extract_property_search_values\",\n",
    "            \"description\": \"For a property search system, we need to extract intent based values from a user query.\",\n",
    "            \"parameters\": { \n",
    "                \"type\": \"object\",\n",
    "                \"properties\": { #Follows JSON Schema conventions: https://json-schema.org/understanding-json-schema/\n",
    "                  \"bedrooms\": {\n",
    "                    \"type\": \"integer\",\n",
    "                    \"description\": \"The number of bedrooms\"\n",
    "                  },\n",
    "                  \"square_footage\": {\n",
    "                    \"type\": \"integer\",\n",
    "                    \"description\": \"Total square footage\"\n",
    "                  },\n",
    "                  \"features\": {\n",
    "                    \"type\": \"string\",\n",
    "                    \"description\": \"Any additional features or architectural styles\"\n",
    "                  },\n",
    "                  \"non_property_related\": {\n",
    "                    \"type\": \"boolean\",\n",
    "                    \"description\": \"Flag to indicate if the query is not related to property search\"\n",
    "                  }\n",
    "                },\n",
    "                \"required\": [\"bedrooms\",\"square_footage\",\"features\",\"non_property_related\"]\n",
    "            }\n",
    "        }\n",
    "    ]\n",
    "    \n",
    "    response = gpt.chat.completions.create(\n",
    "        model=\"gpt-3.5-turbo\",\n",
    "        temperature=0,\n",
    "        messages=messages,\n",
    "        functions=functions,\n",
    "        function_call=\"auto\",\n",
    "    )\n",
    "    \n",
    "    return response"
   ]
  },
  {
   "cell_type": "code",
   "execution_count": null,
   "id": "89a13ab8-0eff-4e95-801b-6513eafb297a",
   "metadata": {},
   "outputs": [],
   "source": [
    "def extract_search_values(querystring):\n",
    "    gpt_res = get_gpt_completion(querystring)\n",
    "\n",
    "    if gpt_res:\n",
    "        #print('OPENAI RESPONSE:',gpt_res)\n",
    "        response_message=gpt_res.choices[0].message\n",
    "    \n",
    "        # Check if the model wants to call a function\n",
    "        if response_message.function_call:\n",
    "        \n",
    "            # Call the function. The JSON response may not always be valid so make sure to handle errors\n",
    "            function_name = response_message.function_call.name\n",
    "            if(function_name==\"extract_property_search_values\"):\n",
    "                function_args = json.loads(response_message.function_call.arguments)\n",
    "                return function_args"
   ]
  },
  {
   "cell_type": "code",
   "execution_count": null,
   "id": "bb01063e-d09e-4f7b-b6a2-02c37d900ac6",
   "metadata": {},
   "outputs": [],
   "source": [
    "extract_search_values(\"Nice colonial house with 3 or more bedrooms and a pool and white picket fence\")"
   ]
  },
  {
   "cell_type": "code",
   "execution_count": null,
   "id": "9f401ad0-fd47-4ef1-96b6-4b76a6003f9a",
   "metadata": {},
   "outputs": [],
   "source": [
    "extract_search_values(\"Who is Mr. T?\")"
   ]
  },
  {
   "cell_type": "code",
   "execution_count": null,
   "id": "75b0e827-7758-42a5-a863-0f4b921d8e80",
   "metadata": {},
   "outputs": [],
   "source": []
  }
 ],
 "metadata": {
  "kernelspec": {
   "display_name": "Python 3 (ipykernel)",
   "language": "python",
   "name": "python3"
  },
  "language_info": {
   "codemirror_mode": {
    "name": "ipython",
    "version": 3
   },
   "file_extension": ".py",
   "mimetype": "text/x-python",
   "name": "python",
   "nbconvert_exporter": "python",
   "pygments_lexer": "ipython3",
   "version": "3.11.5"
  }
 },
 "nbformat": 4,
 "nbformat_minor": 5
}
