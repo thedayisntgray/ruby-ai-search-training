{
 "cells": [
  {
   "cell_type": "markdown",
   "id": "e57a75bc-63c0-4ef1-bb7c-e487fc111c76",
   "metadata": {},
   "source": [
    "# Lab 6 - Query feature extraction with OpenAI \"Function Calling\""
   ]
  },
  {
   "cell_type": "code",
   "execution_count": null,
   "id": "5cd5fb7f-5d48-48e6-ac73-9680ed86ced0",
   "metadata": {},
   "outputs": [],
   "source": [
    "require 'json'\n",
    "require 'openai'\n",
    "require 'dotenv'\n",
    "require 'date'\n",
    "\n",
    "Dotenv.load\n",
    "\n",
    "$client = OpenAI::Client.new(access_token: ENV['OPENAI_API_KEY'])"
   ]
  },
  {
   "cell_type": "code",
   "execution_count": null,
   "id": "c6b9fb7f-2d10-4a6a-a247-3fc7e243a1d3",
   "metadata": {},
   "outputs": [],
   "source": [
    "$completion_cache = {}\n",
    "\n",
    "def get_gpt_completion(context)\n",
    "  return $completion_cache[context] if $completion_cache.key?(context)\n",
    "  \n",
    "  messages = [{ role: \"user\", content: context }]\n",
    "  functions = [\n",
    "    {\n",
    "      \"name\" => \"extract_property_search_values\",\n",
    "      \"description\" => \"For a property search system, we need to extract intent based values from a user query.\",\n",
    "      \"parameters\" => {\n",
    "        \"type\" => \"object\",\n",
    "        \"properties\" => {\n",
    "          \"bedrooms\" => {\n",
    "            \"type\" => \"integer\",\n",
    "            \"description\" => \"The number of bedrooms\"\n",
    "          },\n",
    "          \"square_footage\" => {\n",
    "            \"type\" => \"integer\",\n",
    "            \"description\" => \"Total square footage\"\n",
    "          },\n",
    "          \"features\" => {\n",
    "            \"type\" => \"string\",\n",
    "            \"description\" => \"Any additional features or architectural styles\"\n",
    "          },\n",
    "          \"non_property_related\" => {\n",
    "            \"type\" => \"boolean\",\n",
    "            \"description\" => \"Flag to indicate if the query is not related to property search\"\n",
    "          }\n",
    "        },\n",
    "        \"required\" => [\"bedrooms\", \"square_footage\", \"features\", \"non_property_related\"]\n",
    "      }\n",
    "    }\n",
    "  ]\n",
    "\n",
    "  response = $client.chat(\n",
    "    parameters: {\n",
    "      model: \"gpt-3.5-turbo\",\n",
    "      temperature: 0,\n",
    "      messages: messages,\n",
    "      functions: functions,\n",
    "      function_call: \"auto\"\n",
    "    }\n",
    "  )\n",
    "  \n",
    "  $completion_cache[context] = response\n",
    "end"
   ]
  },
  {
   "cell_type": "code",
   "execution_count": null,
   "id": "89a13ab8-0eff-4e95-801b-6513eafb297a",
   "metadata": {},
   "outputs": [],
   "source": [
    "def extract_search_values(querystring)\n",
    "  gpt_res = get_gpt_completion(querystring)\n",
    "  \n",
    "  if gpt_res\n",
    "    response_message = gpt_res.dig(\"choices\", 0, \"message\")\n",
    "    \n",
    "    # Check if the model wants to call a function\n",
    "    if function_call = response_message&.dig(\"function_call\")\n",
    "      # Call the function if it's the right one\n",
    "      function_name = function_call[\"name\"]\n",
    "      if function_name == \"extract_property_search_values\"\n",
    "        function_args = JSON.parse(function_call[\"arguments\"])\n",
    "        return function_args\n",
    "      end\n",
    "    end\n",
    "  end\n",
    "end"
   ]
  },
  {
   "cell_type": "code",
   "execution_count": null,
   "id": "bb01063e-d09e-4f7b-b6a2-02c37d900ac6",
   "metadata": {},
   "outputs": [],
   "source": [
    "extract_search_values(\"Nice colonial house with 3 or more bedrooms and a pool and white picket fence\")"
   ]
  },
  {
   "cell_type": "code",
   "execution_count": null,
   "id": "9f401ad0-fd47-4ef1-96b6-4b76a6003f9a",
   "metadata": {},
   "outputs": [],
   "source": [
    "extract_search_values(\"Who is Mr. T?\")"
   ]
  },
  {
   "cell_type": "code",
   "execution_count": null,
   "id": "2f400b25-04df-422f-9acd-356426c34dbc",
   "metadata": {},
   "outputs": [],
   "source": []
  }
 ],
 "metadata": {
  "kernelspec": {
   "display_name": "Ruby 3.1.3",
   "language": "ruby",
   "name": "ruby"
  },
  "language_info": {
   "file_extension": ".rb",
   "mimetype": "application/x-ruby",
   "name": "ruby",
   "version": "3.1.3"
  }
 },
 "nbformat": 4,
 "nbformat_minor": 5
}
