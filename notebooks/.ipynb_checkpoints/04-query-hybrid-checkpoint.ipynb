{
 "cells": [
  {
   "cell_type": "markdown",
   "id": "c7650ff2-108b-4bb4-b66a-d25b51ebf78b",
   "metadata": {},
   "source": [
    "# Lab 4 - Hybrid Search of title embeddings and full-text fields in Opensearch"
   ]
  },
  {
   "cell_type": "code",
   "execution_count": null,
   "id": "55797adf-fda8-4ec2-aaf3-59c4345268ac",
   "metadata": {},
   "outputs": [],
   "source": [
    "require 'opensearch-ruby'\n",
    "require 'sentence_transformers'\n",
    "require 'tqdm'\n",
    "require 'date'\n",
    "require 'json'"
   ]
  },
  {
   "cell_type": "code",
   "execution_count": null,
   "id": "5d7ac1d4-8c6f-4eec-94c6-c04e7c32559f",
   "metadata": {},
   "outputs": [],
   "source": [
    "# https://github.com/opensearch-project/opensearch-ruby\n",
    "host = 'ai-search-opensearch-node'\n",
    "port = 9200\n",
    "client = OpenSearch::Client.new(hosts: [{ host: host, port: port }])\n",
    "info = client.info\n",
    "puts \"Welcome to #{info['version']['distribution']} #{info['version']['number']}!\""
   ]
  },
  {
   "cell_type": "markdown",
   "id": "a529604a-3130-4243-ac57-619fb1696490",
   "metadata": {},
   "source": [
    "## Use the same model and method to get the query embedding, with some defaults changed\n",
    "Remember, the model is `intfloat/e5-small-v2` and we need to prefix any query with 'query:'"
   ]
  },
  {
   "cell_type": "code",
   "execution_count": null,
   "id": "51bb8416-ea0c-44dc-869c-196ee4671425",
   "metadata": {},
   "outputs": [],
   "source": [
    "# The E5 models expect 'query:' and 'passage:' prefixes\n",
    "model = SentenceTransformer.new('intfloat/e5-small-v2')\n",
    "def get_embeddings(texts, prefix: \"query: \")\n",
    "    # The E5 models expects either 'query: ' or 'passage: ' prefix\n",
    "    texts = [texts] unless texts.is_a?(Array)\n",
    "    prefixed = texts.map { |text| \"#{prefix}#{text}\" }\n",
    "    model.encode(prefixed, show_progress_bar: false)\n",
    "end"
   ]
  },
  {
   "cell_type": "markdown",
   "id": "a2f87da6-c9a3-4f05-ae81-701087ef0154",
   "metadata": {},
   "source": [
    "## Define different query types\n",
    "Here we define Opensearch query bodies for:\n",
    " - BM25\n",
    " - KNN\n",
    " - Hybrid"
   ]
  },
  {
   "cell_type": "code",
   "execution_count": null,
   "id": "3015a4dd-06d1-4508-a1d4-97edf64f968b",
   "metadata": {},
   "outputs": [],
   "source": [
    "def get_bm25_body(querystring)\n",
    "    {\n",
    "      \"query\" => {\n",
    "        \"bool\" => {\n",
    "          \"should\" => [\n",
    "            {\n",
    "              \"multi_match\" => {\n",
    "                \"query\" => querystring,\n",
    "                \"type\" => \"cross_fields\",\n",
    "                \"fields\" => [\"description\"],\n",
    "                \"boost\" => 1.0\n",
    "              }\n",
    "            },\n",
    "            {\n",
    "              \"multi_match\" => {\n",
    "                \"query\" => querystring,\n",
    "                \"type\" => \"cross_fields\",\n",
    "                \"fields\" => [\"title\"],\n",
    "                \"boost\" => 1.1\n",
    "              }\n",
    "            },\n",
    "            {\n",
    "              \"multi_match\" => {\n",
    "                \"query\" => querystring,\n",
    "                \"type\" => \"cross_fields\",\n",
    "                \"fields\" => [\"title_exactish\"],\n",
    "                \"boost\" => 1.2\n",
    "              }\n",
    "            }\n",
    "          ]\n",
    "        }\n",
    "      },\n",
    "      \"_source\" => {\"exclude\" => [\"title_embedding\"]}\n",
    "    }\n",
    "end"
   ]
  },
  {
   "cell_type": "code",
   "execution_count": null,
   "id": "6abc76e2",
   "metadata": {},
   "outputs": [],
   "source": [
    "def get_knn_body(querystring)\n",
    "    embeddings = get_embeddings(querystring)\n",
    "    {\n",
    "      \"query\" => {\n",
    "        \"bool\" => {\n",
    "          \"should\" => [\n",
    "            {\n",
    "              \"knn\" => {\n",
    "                \"title_embedding\" => {\n",
    "                  \"vector\" => embeddings[0],\n",
    "                  \"k\" => 20\n",
    "                }\n",
    "              }\n",
    "            }\n",
    "          ]\n",
    "        }\n",
    "      },\n",
    "      \"_source\" => {\"exclude\" => [\"title_embedding\"]}\n",
    "    }\n",
    "end"
   ]
  },
  {
   "cell_type": "markdown",
   "id": "c83d8993-83e8-4799-a8aa-def7783df430",
   "metadata": {},
   "source": [
    "## Hybrid Query"
   ]
  },
  {
   "cell_type": "code",
   "execution_count": null,
   "id": "264b98ec",
   "metadata": {},
   "outputs": [],
   "source": [
    "def get_hybrid_body(querystring)\n",
    "    embeddings = get_embeddings(querystring)\n",
    "    {\n",
    "      \"query\" => {\n",
    "        \"hybrid\" => {\n",
    "          \"queries\" => [\n",
    "            {\n",
    "              \"bool\" => {\n",
    "                \"should\" => [\n",
    "                  {\n",
    "                    \"multi_match\" => {\n",
    "                      \"query\" => querystring,\n",
    "                      \"type\" => \"cross_fields\",\n",
    "                      \"fields\" => [\"description\"],\n",
    "                      \"boost\" => 1.0\n",
    "                    }\n",
    "                  },\n",
    "                  {\n",
    "                    \"multi_match\" => {\n",
    "                      \"query\" => querystring,\n",
    "                      \"type\" => \"cross_fields\",\n",
    "                      \"fields\" => [\"title\"],\n",
    "                      \"boost\" => 1.1\n",
    "                    }\n",
    "                  },\n",
    "                  {\n",
    "                    \"multi_match\" => {\n",
    "                      \"query\" => querystring,\n",
    "                      \"type\" => \"cross_fields\",\n",
    "                      \"fields\" => [\"title_exactish\"],\n",
    "                      \"boost\" => 1.2\n",
    "                    }\n",
    "                  }\n",
    "                ]\n",
    "              }        \n",
    "            },\n",
    "            {\n",
    "              \"knn\" => {\n",
    "                \"title_embedding\" => {\n",
    "                  \"vector\" => embeddings[0],\n",
    "                  \"k\" => 100\n",
    "                }\n",
    "              }\n",
    "            }\n",
    "          ]\n",
    "        }\n",
    "      },\n",
    "      \"_source\" => {\"exclude\" => [\"title_embedding\"]}\n",
    "    }\n",
    "end"
   ]
  },
  {
   "cell_type": "code",
   "execution_count": null,
   "id": "67e1460e-cebc-4b3e-aa0d-c0ad3ea38f61",
   "metadata": {},
   "outputs": [],
   "source": [
    "def serps(querystring, resp, k: 5, show: true)\n",
    "    count = resp[\"hits\"][\"total\"][\"value\"]\n",
    "    results = resp[\"hits\"][\"hits\"]\n",
    "    \n",
    "    html_str = \"<h4>Showing #{count} Results for <em>#{querystring}</em></h4><ol>\"\n",
    "    \n",
    "    results[0...k].each do |result|\n",
    "        score = result[\"_score\"]\n",
    "        title = result[\"_source\"][\"title\"] || \"No title\"\n",
    "        url = result[\"_source\"][\"url\"] || \"No URL\"\n",
    "        description = result[\"_source\"][\"description\"]\n",
    "        text = result[\"_source\"][\"text\"] || \"\"\n",
    "        snippet = description || \"#{text[0...140]}...\"\n",
    "        \n",
    "        html_str += \"<li><b>#{title}</b>(#{score})<br>#{snippet}<br>\"\n",
    "        html_str += \"<span style=\\\"font-size:0.8em\\\"><a href=\\\"#{url}\\\">#{url}</a></span></li>\"\n",
    "    end\n",
    "    \n",
    "    html_str += \"</ol>\"\n",
    "    \n",
    "    if show\n",
    "        IRuby.display(IRuby.html(html_str))\n",
    "    else\n",
    "        html_str\n",
    "    end\n",
    "end"
   ]
  },
  {
   "cell_type": "code",
   "execution_count": null,
   "id": "8d249944-83c4-4df5-891a-171f26058cc2",
   "metadata": {},
   "outputs": [],
   "source": [
    "def make_normalization_pipeline(name, bm25_weight: 0.5, knn_weight: 0.5)\n",
    "    body = {\n",
    "      \"description\" => \"Post processor for hybrid search with bm25=#{bm25_weight} and knn=#{knn_weight}\",\n",
    "      \"phase_results_processors\" => [\n",
    "        {\n",
    "          \"normalization-processor\" => {\n",
    "            \"normalization\" => {\n",
    "              \"technique\" => \"min_max\"\n",
    "            },\n",
    "            \"combination\" => {\n",
    "              \"technique\" => \"arithmetic_mean\",\n",
    "              \"parameters\" => {\n",
    "                \"weights\" => [\n",
    "                  bm25_weight,\n",
    "                  knn_weight\n",
    "                ]\n",
    "              }\n",
    "            }\n",
    "          }\n",
    "        }\n",
    "      ]\n",
    "    }\n",
    "    resp = client.transport.perform_request(method: \"PUT\", url: \"/_search/pipeline/#{name}\", body: body)\n",
    "    puts resp\n",
    "end"
   ]
  },
  {
   "cell_type": "code",
   "execution_count": null,
   "id": "e29ce076-de23-4c10-9df0-87601f9ebb58",
   "metadata": {},
   "outputs": [],
   "source": [
    "make_normalization_pipeline(\"nlp-search-pipeline-equal\", bm25_weight: 0.5, knn_weight: 0.5)\n",
    "make_normalization_pipeline(\"nlp-search-pipeline-bm25-heavy\", bm25_weight: 0.6, knn_weight: 0.4)\n",
    "make_normalization_pipeline(\"nlp-search-pipeline-knn-heavy\", bm25_weight: 0.4, knn_weight: 0.6)"
   ]
  },
  {
   "cell_type": "code",
   "execution_count": null,
   "id": "94e2d15c-c887-413e-8d93-bccdcac8ce2d",
   "metadata": {},
   "outputs": [],
   "source": [
    "def search(querystring, body, pipeline: \"nlp-search-pipeline-equal\", show: true)\n",
    "    resp = client.search(body: body, index: \"ai-search\", params: {\"search_pipeline\" => pipeline})\n",
    "    serps(querystring, resp) if show\n",
    "    resp\n",
    "end\n",
    "\n",
    "def search_bm25(querystring, show: true)\n",
    "    body = get_bm25_body(querystring)\n",
    "    search(querystring, body, show: show)\n",
    "end\n",
    "\n",
    "def search_knn(querystring, show: true)\n",
    "    body = get_knn_body(querystring)\n",
    "    search(querystring, body, show: show)\n",
    "end\n",
    "\n",
    "def search_hybrid(querystring, pipeline: \"nlp-search-pipeline-equal\", show: true)\n",
    "    body = get_hybrid_body(querystring)\n",
    "    search(querystring, body, pipeline: pipeline, show: show)\n",
    "end"
   ]
  },
  {
   "cell_type": "code",
   "execution_count": null,
   "id": "d2628c3e-a3c2-4ff2-a3dc-f976a74d15e0",
   "metadata": {
    "scrolled": true
   },
   "outputs": [],
   "source": [
    "resp = search_hybrid(\"crypto scandal\")"
   ]
  },
  {
   "cell_type": "code",
   "execution_count": null,
   "id": "afd2a29b-a0d1-46aa-947e-85d6e8e37874",
   "metadata": {},
   "outputs": [],
   "source": [
    "resp = search_bm25(\"crypto scandal\")"
   ]
  },
  {
   "cell_type": "code",
   "execution_count": null,
   "id": "cb740118-62e6-408d-a72a-50cabb594a35",
   "metadata": {},
   "outputs": [],
   "source": [
    "resp = search_knn(\"crypto scandal\")"
   ]
  },
  {
   "cell_type": "code",
   "execution_count": null,
   "id": "ea2badae-f6d1-4713-a3ce-de39a1148fda",
   "metadata": {},
   "outputs": [],
   "source": [
    "def search_compare(querystring, pipeline: \"nlp-search-pipeline-equal\")\n",
    "    bm25 = serps(querystring, search_bm25(querystring, show: false), k: 5, show: false)\n",
    "    knn = serps(querystring, search_knn(querystring, show: false), k: 5, show: false)\n",
    "    hybrid = serps(querystring, search_hybrid(querystring, pipeline: pipeline, show: false), k: 5, show: false)\n",
    "    \n",
    "    html_all = <<-HTML\n",
    "        <style>\n",
    "            .compare li {overflow-x:hidden;width:320px!important;text-align:left;height:200px;border-bottom:1px solid #333;}\n",
    "        </style>\n",
    "        <table class=\"compare\">\n",
    "            <tr><td>BM25</td><td>KNN</td><td>Hybrid (#{pipeline})</td></tr>\n",
    "            <tr><td>#{bm25}</td><td>#{knn}</td><td>#{hybrid}</td></tr>\n",
    "        </table>\n",
    "    HTML\n",
    "    \n",
    "    IRuby.display(IRuby.html(html_all))\n",
    "end"
   ]
  },
  {
   "cell_type": "code",
   "execution_count": null,
   "id": "924d0dec-bef5-449c-a5c7-fc93551409ba",
   "metadata": {},
   "outputs": [],
   "source": [
    "search_compare(\"property market\", pipeline: \"nlp-search-pipeline-equal\")"
   ]
  },
  {
   "cell_type": "code",
   "execution_count": null,
   "id": "be1a100e-eb3c-431e-b346-12c4a981f4d1",
   "metadata": {},
   "outputs": [],
   "source": [
    "search_compare(\"property market\", pipeline: \"nlp-search-pipeline-bm25-heavy\")"
   ]
  },
  {
   "cell_type": "code",
   "execution_count": null,
   "id": "8fa59148-296f-4913-ab4f-6457f223d401",
   "metadata": {},
   "outputs": [],
   "source": [
    "search_compare(\"property market\", pipeline: \"nlp-search-pipeline-knn-heavy\")"
   ]
  },
  {
   "cell_type": "code",
   "execution_count": null,
   "id": "4b920d71-71b1-4a37-a828-bd29d881fc5e",
   "metadata": {},
   "outputs": [],
   "source": [
    "search_compare(\"crypto scandal\")"
   ]
  },
  {
   "cell_type": "code",
   "execution_count": null,
   "id": "b43cf988-e82b-4317-978e-f1c6129a8021",
   "metadata": {},
   "outputs": [],
   "source": [
    "search_compare(\"US economic recovery\")"
   ]
  },
  {
   "cell_type": "code",
   "execution_count": null,
   "id": "2c1e4068-ef43-49cf-941a-cc6d9c5fb9b5",
   "metadata": {},
   "outputs": [],
   "source": []
  }
 ],
 "metadata": {
  "kernelspec": {
   "display_name": "Ruby",
   "language": "ruby",
   "name": "ruby"
  },
  "language_info": {
   "file_extension": ".rb",
   "mimetype": "application/x-ruby",
   "name": "ruby",
   "version": "3.1.2"
  }
 },
 "nbformat": 4,
 "nbformat_minor": 5
}