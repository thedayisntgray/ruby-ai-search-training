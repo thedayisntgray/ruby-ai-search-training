{
 "cells": [
  {
   "cell_type": "code",
   "execution_count": 1,
   "id": "12523a8e",
   "metadata": {},
   "outputs": [
    {
     "data": {
      "text/plain": [
       "true"
      ]
     },
     "execution_count": 1,
     "metadata": {},
     "output_type": "execute_result"
    }
   ],
   "source": [
    "require 'json'\n",
    "require 'erb'"
   ]
  },
  {
   "cell_type": "code",
   "execution_count": 2,
   "id": "82451929",
   "metadata": {},
   "outputs": [
    {
     "data": {
      "text/plain": [
       ":dot_product_2d"
      ]
     },
     "execution_count": 2,
     "metadata": {},
     "output_type": "execute_result"
    }
   ],
   "source": [
    "def dot_product_2d(a, b)\n",
    "  a[0] * b[0] + a[1] * b[1]\n",
    "end"
   ]
  },
  {
   "cell_type": "code",
   "execution_count": 3,
   "id": "65217bda",
   "metadata": {},
   "outputs": [
    {
     "data": {
      "text/plain": [
       "44"
      ]
     },
     "execution_count": 3,
     "metadata": {},
     "output_type": "execute_result"
    }
   ],
   "source": [
    "dot_product_2d([4,8], [7,2])"
   ]
  },
  {
   "cell_type": "code",
   "execution_count": 4,
   "id": "0b52a533",
   "metadata": {},
   "outputs": [
    {
     "data": {
      "text/plain": [
       "44"
      ]
     },
     "execution_count": 4,
     "metadata": {},
     "output_type": "execute_result"
    }
   ],
   "source": [
    "dot_product_2d([4,8], [9,1])"
   ]
  },
  {
   "cell_type": "code",
   "execution_count": 5,
   "id": "5a8a2cec",
   "metadata": {},
   "outputs": [
    {
     "data": {
      "text/plain": [
       "65"
      ]
     },
     "execution_count": 5,
     "metadata": {},
     "output_type": "execute_result"
    }
   ],
   "source": [
    "dot_product_2d([7,2], [9,1])"
   ]
  },
  {
   "cell_type": "code",
   "execution_count": 6,
   "id": "a596577a",
   "metadata": {},
   "outputs": [
    {
     "data": {
      "text/plain": [
       "55"
      ]
     },
     "execution_count": 6,
     "metadata": {},
     "output_type": "execute_result"
    }
   ],
   "source": [
    "dot_product_2d([6,1], [9,1])"
   ]
  },
  {
   "cell_type": "code",
   "execution_count": null,
   "id": "e687f7df",
   "metadata": {},
   "outputs": [],
   "source": []
  },
  {
   "cell_type": "code",
   "execution_count": null,
   "id": "defadb86-852b-4c23-8690-219e88af3160",
   "metadata": {},
   "outputs": [],
   "source": []
  }
 ],
 "metadata": {
  "kernelspec": {
   "display_name": "Ruby 3.1.3",
   "language": "ruby",
   "name": "ruby"
  },
  "language_info": {
   "file_extension": ".rb",
   "mimetype": "application/x-ruby",
   "name": "ruby",
   "version": "3.1.3"
  }
 },
 "nbformat": 4,
 "nbformat_minor": 5
}
