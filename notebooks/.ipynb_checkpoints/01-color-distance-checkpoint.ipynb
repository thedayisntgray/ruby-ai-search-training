{
 "cells": [
  {
   "cell_type": "markdown",
   "id": "eff836ba",
   "metadata": {},
   "source": [
    "# Lab 1 - Color Search\n",
    "\n",
    "The listings in this notebook are for the RGB color similarity exercises"
   ]
  },
  {
   "cell_type": "code",
   "execution_count": 1,
   "id": "2485200f",
   "metadata": {},
   "outputs": [
    {
     "data": {
      "text/plain": [
       "true"
      ]
     },
     "execution_count": 1,
     "metadata": {},
     "output_type": "execute_result"
    }
   ],
   "source": [
    "require 'json'\n",
    "require 'erb'"
   ]
  },
  {
   "cell_type": "code",
   "execution_count": 21,
   "id": "d8eaa7fc",
   "metadata": {},
   "outputs": [
    {
     "data": {
      "text/plain": [
       ":show_color"
      ]
     },
     "execution_count": 21,
     "metadata": {},
     "output_type": "execute_result"
    }
   ],
   "source": [
    "def show_colors(colors, annotate: false)\n",
    "  html = colors.map do |color|\n",
    "    result = color[\"payload\"] || color[\"result\"]\n",
    "    score = color[\"distance\"] ? \"<br/><em style=\\\"font-size:0.88em;\\\">#{color[\"distance\"]}</em>\" : \"\"\n",
    "    anno = annotate ? color[\"vector\"].to_s : \"&nbsp;\"\n",
    "    <<~HTML\n",
    "      <div style=\"float:left;margin:10px;\">\n",
    "        <strong>#{result[\"name\"]}</strong>#{score}\n",
    "        <div style=\"width:120px;height:120px;text-align:center;padding-top:50px;background-color:#{result[\"hex\"]}\">#{anno}</div>\n",
    "      </div>\n",
    "    HTML\n",
    "  end\n",
    "  IRuby.display IRuby.html(html.join(\"\\n\"))\n",
    "end\n",
    "\n",
    "def show_color(result)\n",
    "  html = <<~HTML\n",
    "    <h3>#{result[\"name\"]}</h3>\n",
    "    <div style=\"width:120px;height:120px;background-color:#{result[\"hex\"]}\">&nbsp;</div>\n",
    "  HTML\n",
    "  IRuby.display IRuby.html(html)\n",
    "end"
   ]
  },
  {
   "cell_type": "markdown",
   "id": "77b071e9",
   "metadata": {},
   "source": [
    "# Listing 1.1\n",
    "Load the color vector documents"
   ]
  },
  {
   "cell_type": "code",
   "execution_count": 22,
   "id": "f79c4b51",
   "metadata": {},
   "outputs": [
    {
     "data": {
      "text/plain": [
       "[{\"vector\"=>[201, 63, 56], \"payload\"=>{\"hex\"=>\"#C93F38\", \"name\"=>\"100 Mph\", \"brand\"=>\"BEHR\"}, \"id\"=>0}, {\"vector\"=>[209, 114, 37], \"payload\"=>{\"hex\"=>\"#D17225\", \"name\"=>\"14 Carrots\", \"brand\"=>\"Benjamin Moore\"}, \"id\"=>1}, {\"vector\"=>[139, 196, 224], \"payload\"=>{\"hex\"=>\"#8BC4E0\", \"name\"=>\"21st Century Blue\", \"brand\"=>\"Valspar\"}, \"id\"=>2}]"
      ]
     },
     "execution_count": 22,
     "metadata": {},
     "output_type": "execute_result"
    }
   ],
   "source": [
    "vectors = JSON.parse(File.read('color_vectors.json'))\n",
    "vectors[0..2]"
   ]
  },
  {
   "cell_type": "markdown",
   "id": "5e82d2fb",
   "metadata": {},
   "source": [
    "# Listing 1.2\n",
    "Show the first 12 alphabetically ordered colors"
   ]
  },
  {
   "cell_type": "code",
   "execution_count": 36,
   "id": "6bb2d51c",
   "metadata": {},
   "outputs": [
    {
     "data": {
      "text/html": [
       "<div style=\"float:left;margin:10px;\">\n",
       "  <strong>100 Mph</strong>\n",
       "  <div style=\"width:120px;height:120px;text-align:center;padding-top:50px;background-color:#C93F38\">&nbsp;</div>\n",
       "</div>\n",
       "\n",
       "<div style=\"float:left;margin:10px;\">\n",
       "  <strong>14 Carrots</strong>\n",
       "  <div style=\"width:120px;height:120px;text-align:center;padding-top:50px;background-color:#D17225\">&nbsp;</div>\n",
       "</div>\n",
       "\n",
       "<div style=\"float:left;margin:10px;\">\n",
       "  <strong>21st Century Blue</strong>\n",
       "  <div style=\"width:120px;height:120px;text-align:center;padding-top:50px;background-color:#8BC4E0\">&nbsp;</div>\n",
       "</div>\n",
       "\n",
       "<div style=\"float:left;margin:10px;\">\n",
       "  <strong>24 Karat</strong>\n",
       "  <div style=\"width:120px;height:120px;text-align:center;padding-top:50px;background-color:#AB7F46\">&nbsp;</div>\n",
       "</div>\n",
       "\n",
       "<div style=\"float:left;margin:10px;\">\n",
       "  <strong>24 Karats</strong>\n",
       "  <div style=\"width:120px;height:120px;text-align:center;padding-top:50px;background-color:#DFC686\">&nbsp;</div>\n",
       "</div>\n",
       "\n",
       "<div style=\"float:left;margin:10px;\">\n",
       "  <strong>3-Olive Martini</strong>\n",
       "  <div style=\"width:120px;height:120px;text-align:center;padding-top:50px;background-color:#AFA26A\">&nbsp;</div>\n",
       "</div>\n",
       "\n",
       "<div style=\"float:left;margin:10px;\">\n",
       "  <strong>50's Pink</strong>\n",
       "  <div style=\"width:120px;height:120px;text-align:center;padding-top:50px;background-color:#FBE3EA\">&nbsp;</div>\n",
       "</div>\n",
       "\n",
       "<div style=\"float:left;margin:10px;\">\n",
       "  <strong>A La Mode</strong>\n",
       "  <div style=\"width:120px;height:120px;text-align:center;padding-top:50px;background-color:#F6ECDE\">&nbsp;</div>\n",
       "</div>\n",
       "\n",
       "<div style=\"float:left;margin:10px;\">\n",
       "  <strong>A La Mode</strong>\n",
       "  <div style=\"width:120px;height:120px;text-align:center;padding-top:50px;background-color:#E6E2DE\">&nbsp;</div>\n",
       "</div>\n",
       "\n",
       "<div style=\"float:left;margin:10px;\">\n",
       "  <strong>A Plum Job</strong>\n",
       "  <div style=\"width:120px;height:120px;text-align:center;padding-top:50px;background-color:#B987A7\">&nbsp;</div>\n",
       "</div>\n",
       "\n",
       "<div style=\"float:left;margin:10px;\">\n",
       "  <strong>A True Antique</strong>\n",
       "  <div style=\"width:120px;height:120px;text-align:center;padding-top:50px;background-color:#F4E4C5\">&nbsp;</div>\n",
       "</div>\n",
       "\n",
       "<div style=\"float:left;margin:10px;\">\n",
       "  <strong>A-List Blue</strong>\n",
       "  <div style=\"width:120px;height:120px;text-align:center;padding-top:50px;background-color:#AFC2C9\">&nbsp;</div>\n",
       "</div>\n"
      ],
      "text/plain": [
       "\"<div style=\\\"float:left;margin:10px;\\\">\\n  <strong>100 Mph</strong>\\n  <div style=\\\"width:120px;height:120px;text-align:center;padding-top:50px;background-color:#C93F38\\\">&nbsp;</div>\\n</div>\\n\\n<div style=\\\"float:left;margin:10px;\\\">\\n  <strong>14 Carrots</strong>\\n  <div style=\\\"width:120px;height:120px;text-align:center;padding-top:50px;background-color:#D17225\\\">&nbsp;</div>\\n</div>\\n\\n<div style=\\\"float:left;margin:10px;\\\">\\n  <strong>21st Century Blue</strong>\\n  <div style=\\\"width:120px;height:120px;text-align:center;padding-top:50px;background-color:#8BC4E0\\\">&nbsp;</div>\\n</div>\\n\\n<div style=\\\"float:left;margin:10px;\\\">\\n  <strong>24 Karat</strong>\\n  <div style=\\\"width:120px;height:120px;text-align:center;padding-top:50px;background-color:#AB7F46\\\">&nbsp;</div>\\n</div>\\n\\n<div style=\\\"float:left;margin:10px;\\\">\\n  <strong>24 Karats</strong>\\n  <div style=\\\"width:120px;height:120px;text-align:center;padding-top:50px;background-color:#DFC686\\\">&nbsp;</div>\\n</div>\\n\\n<div style=\\\"float:left;margin:10px;\\\">\\n  <strong>3-Olive Martini</strong>\\n  <div style=\\\"width:120px;height:120px;text-align:center;padding-top:50px;background-color:#AFA26A\\\">&nbsp;</div>\\n</div>\\n\\n<div style=\\\"float:left;margin:10px;\\\">\\n  <strong>50's Pink</strong>\\n  <div style=\\\"width:120px;height:120px;text-align:center;padding-top:50px;background-color:#FBE3EA\\\">&nbsp;</div>\\n</div>\\n\\n<div style=\\\"float:left;margin:10px;\\\">\\n  <strong>A La Mode</strong>\\n  <div style=\\\"width:120px;height:120px;text-align:center;padding-top:50px;background-color:#F6ECDE\\\">&nbsp;</div>\\n</div>\\n\\n<div style=\\\"float:left;margin:10px;\\\">\\n  <strong>A La Mode</strong>\\n  <div style=\\\"width:120px;height:120px;text-align:center;padding-top:50px;background-color:#E6E2DE\\\">&nbsp;</div>\\n</div>\\n\\n<div style=\\\"float:left;margin:10px;\\\">\\n  <strong>A Plum Job</strong>\\n  <div style=\\\"width:120px;height:120px;text-align:center;padding-top:50px;background-color:#B987A7\\\">&nbsp;</div>\\n</div>\\n\\n<div style=\\\"float:left;margin:10px;\\\">\\n  <strong>A True Antique</strong>\\n  <div style=\\\"width:120px;height:120px;text-align:center;padding-top:50px;background-color:#F4E4C5\\\">&nbsp;</div>\\n</div>\\n\\n<div style=\\\"float:left;margin:10px;\\\">\\n  <strong>A-List Blue</strong>\\n  <div style=\\\"width:120px;height:120px;text-align:center;padding-top:50px;background-color:#AFC2C9\\\">&nbsp;</div>\\n</div>\\n\""
      ]
     },
     "metadata": {},
     "output_type": "display_data"
    }
   ],
   "source": [
    "show_colors(vectors[0..11])"
   ]
  },
  {
   "cell_type": "markdown",
   "id": "f17a48bc",
   "metadata": {},
   "source": [
    "# Listing 1.3\n",
    "Euclidean distance between two embeddings, each with three dimensions"
   ]
  },
  {
   "cell_type": "code",
   "execution_count": 24,
   "id": "eae39148",
   "metadata": {},
   "outputs": [
    {
     "data": {
      "text/plain": [
       ":euclidean_distance_3d"
      ]
     },
     "execution_count": 24,
     "metadata": {},
     "output_type": "execute_result"
    }
   ],
   "source": [
    "def euclidean_distance_3d(a, b)\n",
    "  dist = (a[0] - b[0])**2 + (a[1] - b[1])**2 + (a[2] - b[2])**2\n",
    "  dist > 0.0 ? Math.sqrt(dist) : 0\n",
    "end"
   ]
  },
  {
   "cell_type": "markdown",
   "id": "d6de976a",
   "metadata": {},
   "source": [
    "# Listing 1.4\n",
    "The distance between color id=0 and color id=1"
   ]
  },
  {
   "cell_type": "code",
   "execution_count": 25,
   "id": "4a12f795",
   "metadata": {},
   "outputs": [
    {
     "data": {
      "text/plain": [
       "55.00909015790027"
      ]
     },
     "execution_count": 25,
     "metadata": {},
     "output_type": "execute_result"
    }
   ],
   "source": [
    "euclidean_distance_3d(vectors[0][\"vector\"], vectors[1][\"vector\"])"
   ]
  },
  {
   "cell_type": "code",
   "execution_count": 26,
   "id": "a45cab42",
   "metadata": {},
   "outputs": [
    {
     "data": {
      "text/plain": [
       "223.06277143441037"
      ]
     },
     "execution_count": 26,
     "metadata": {},
     "output_type": "execute_result"
    }
   ],
   "source": [
    "euclidean_distance_3d(vectors[0][\"vector\"], vectors[2][\"vector\"])"
   ]
  },
  {
   "cell_type": "code",
   "execution_count": 27,
   "id": "a7bd420e",
   "metadata": {},
   "outputs": [
    {
     "data": {
      "text/plain": [
       "72.05553413860729"
      ]
     },
     "execution_count": 27,
     "metadata": {},
     "output_type": "execute_result"
    }
   ],
   "source": [
    "euclidean_distance_3d(vectors[0][\"vector\"], vectors[3][\"vector\"])"
   ]
  },
  {
   "cell_type": "markdown",
   "id": "1f775733",
   "metadata": {},
   "source": [
    "# Listing 1.5\n",
    "Get the top 'k' nearest colors given an embedding 'a'"
   ]
  },
  {
   "cell_type": "code",
   "execution_count": 32,
   "id": "a3b2d357",
   "metadata": {},
   "outputs": [
    {
     "data": {
      "text/plain": [
       ":nearest_euclidean_3d"
      ]
     },
     "execution_count": 32,
     "metadata": {},
     "output_type": "execute_result"
    }
   ],
   "source": [
    "def nearest_euclidean_3d(vectors,a, k=3)\n",
    "  distances = vectors.each_with_index.map do |vector, j|\n",
    "    b = vector[\"vector\"]\n",
    "    {\n",
    "      \"idx\" => j,\n",
    "      \"distance\" => euclidean_distance_3d(a, b)\n",
    "    }\n",
    "  end\n",
    "  \n",
    "  distances.sort_by! { |item| item[\"distance\"] }\n",
    "  \n",
    "  distances[0...k].map do |d|\n",
    "    {\n",
    "      \"result\" => vectors[d[\"idx\"]][\"payload\"],\n",
    "      \"distance\" => d[\"distance\"]\n",
    "    }\n",
    "  end\n",
    "end"
   ]
  },
  {
   "cell_type": "markdown",
   "id": "5ff8b314",
   "metadata": {},
   "source": [
    "# Listing 1.6\n",
    "The three nearest colors to color id=1"
   ]
  },
  {
   "cell_type": "code",
   "execution_count": 33,
   "id": "e37aefcc",
   "metadata": {},
   "outputs": [
    {
     "data": {
      "text/plain": [
       "[{\"result\"=>{\"hex\"=>\"#D17225\", \"name\"=>\"14 Carrots\", \"brand\"=>\"Benjamin Moore\"}, \"distance\"=>0}, {\"result\"=>{\"hex\"=>\"#C57626\", \"name\"=>\"Autumn Orange\", \"brand\"=>\"Benjamin Moore\"}, \"distance\"=>12.68857754044952}, {\"result\"=>{\"hex\"=>\"#CC7F2D\", \"name\"=>\"Pumpkin Blush\", \"brand\"=>\"Benjamin Moore\"}, \"distance\"=>16.06237840420901}]"
      ]
     },
     "execution_count": 33,
     "metadata": {},
     "output_type": "execute_result"
    }
   ],
   "source": [
    "nearest_euclidean_3d(vectors, vectors[1][\"vector\"], k=3)"
   ]
  },
  {
   "cell_type": "markdown",
   "id": "74cf8ae4",
   "metadata": {},
   "source": [
    "# Listing 1.7\n",
    "Shows the 12 nearest colors to color id=505"
   ]
  },
  {
   "cell_type": "code",
   "execution_count": 38,
   "id": "71d893c1",
   "metadata": {},
   "outputs": [
    {
     "data": {
      "text/html": [
       "<div style=\"float:left;margin:10px;\">\n",
       "  <strong>14 Carrots</strong><br/><em style=\"font-size:0.88em;\">0</em>\n",
       "  <div style=\"width:120px;height:120px;text-align:center;padding-top:50px;background-color:#D17225\">&nbsp;</div>\n",
       "</div>\n",
       "\n",
       "<div style=\"float:left;margin:10px;\">\n",
       "  <strong>Autumn Orange</strong><br/><em style=\"font-size:0.88em;\">12.68857754044952</em>\n",
       "  <div style=\"width:120px;height:120px;text-align:center;padding-top:50px;background-color:#C57626\">&nbsp;</div>\n",
       "</div>\n",
       "\n",
       "<div style=\"float:left;margin:10px;\">\n",
       "  <strong>Pumpkin Blush</strong><br/><em style=\"font-size:0.88em;\">16.06237840420901</em>\n",
       "  <div style=\"width:120px;height:120px;text-align:center;padding-top:50px;background-color:#CC7F2D\">&nbsp;</div>\n",
       "</div>\n"
      ],
      "text/plain": [
       "\"<div style=\\\"float:left;margin:10px;\\\">\\n  <strong>14 Carrots</strong><br/><em style=\\\"font-size:0.88em;\\\">0</em>\\n  <div style=\\\"width:120px;height:120px;text-align:center;padding-top:50px;background-color:#D17225\\\">&nbsp;</div>\\n</div>\\n\\n<div style=\\\"float:left;margin:10px;\\\">\\n  <strong>Autumn Orange</strong><br/><em style=\\\"font-size:0.88em;\\\">12.68857754044952</em>\\n  <div style=\\\"width:120px;height:120px;text-align:center;padding-top:50px;background-color:#C57626\\\">&nbsp;</div>\\n</div>\\n\\n<div style=\\\"float:left;margin:10px;\\\">\\n  <strong>Pumpkin Blush</strong><br/><em style=\\\"font-size:0.88em;\\\">16.06237840420901</em>\\n  <div style=\\\"width:120px;height:120px;text-align:center;padding-top:50px;background-color:#CC7F2D\\\">&nbsp;</div>\\n</div>\\n\""
      ]
     },
     "metadata": {},
     "output_type": "display_data"
    }
   ],
   "source": [
    "show_colors(nearest_euclidean_3d(vectors,vectors[1][\"vector\"], k=3))"
   ]
  },
  {
   "cell_type": "code",
   "execution_count": 40,
   "id": "4150da84",
   "metadata": {},
   "outputs": [
    {
     "data": {
      "text/html": [
       "<div style=\"float:left;margin:10px;\">\n",
       "  <strong>Aqua Dance</strong><br/><em style=\"font-size:0.88em;\">0</em>\n",
       "  <div style=\"width:120px;height:120px;text-align:center;padding-top:50px;background-color:#4F95A5\">&nbsp;</div>\n",
       "</div>\n",
       "\n",
       "<div style=\"float:left;margin:10px;\">\n",
       "  <strong>Teal Bayou</strong><br/><em style=\"font-size:0.88em;\">3.605551275463989</em>\n",
       "  <div style=\"width:120px;height:120px;text-align:center;padding-top:50px;background-color:#4F93A2\">&nbsp;</div>\n",
       "</div>\n",
       "\n",
       "<div style=\"float:left;margin:10px;\">\n",
       "  <strong>Chivalry</strong><br/><em style=\"font-size:0.88em;\">6.708203932499369</em>\n",
       "  <div style=\"width:120px;height:120px;text-align:center;padding-top:50px;background-color:#5190A9\">&nbsp;</div>\n",
       "</div>\n",
       "\n",
       "<div style=\"float:left;margin:10px;\">\n",
       "  <strong>Blue Toile</strong><br/><em style=\"font-size:0.88em;\">7.810249675906654</em>\n",
       "  <div style=\"width:120px;height:120px;text-align:center;padding-top:50px;background-color:#5598A9\">&nbsp;</div>\n",
       "</div>\n",
       "\n",
       "<div style=\"float:left;margin:10px;\">\n",
       "  <strong>Rendezvous Bay</strong><br/><em style=\"font-size:0.88em;\">8.306623862918075</em>\n",
       "  <div style=\"width:120px;height:120px;text-align:center;padding-top:50px;background-color:#50939D\">&nbsp;</div>\n",
       "</div>\n",
       "\n",
       "<div style=\"float:left;margin:10px;\">\n",
       "  <strong>Tidal Teal</strong><br/><em style=\"font-size:0.88em;\">8.831760866327848</em>\n",
       "  <div style=\"width:120px;height:120px;text-align:center;padding-top:50px;background-color:#519CA0\">&nbsp;</div>\n",
       "</div>\n",
       "\n",
       "<div style=\"float:left;margin:10px;\">\n",
       "  <strong>Blue Daisy</strong><br/><em style=\"font-size:0.88em;\">9.643650760992955</em>\n",
       "  <div style=\"width:120px;height:120px;text-align:center;padding-top:50px;background-color:#548DA7\">&nbsp;</div>\n",
       "</div>\n",
       "\n",
       "<div style=\"float:left;margin:10px;\">\n",
       "  <strong>Blue Lake</strong><br/><em style=\"font-size:0.88em;\">9.899494936611665</em>\n",
       "  <div style=\"width:120px;height:120px;text-align:center;padding-top:50px;background-color:#569CA5\">&nbsp;</div>\n",
       "</div>\n",
       "\n",
       "<div style=\"float:left;margin:10px;\">\n",
       "  <strong>Sea Exposure</strong><br/><em style=\"font-size:0.88em;\">10.295630140987</em>\n",
       "  <div style=\"width:120px;height:120px;text-align:center;padding-top:50px;background-color:#529EA9\">&nbsp;</div>\n",
       "</div>\n",
       "\n",
       "<div style=\"float:left;margin:10px;\">\n",
       "  <strong>My Skiff</strong><br/><em style=\"font-size:0.88em;\">10.392304845413264</em>\n",
       "  <div style=\"width:120px;height:120px;text-align:center;padding-top:50px;background-color:#5993A3\">&nbsp;</div>\n",
       "</div>\n",
       "\n",
       "<div style=\"float:left;margin:10px;\">\n",
       "  <strong>Blue Chaise</strong><br/><em style=\"font-size:0.88em;\">10.63014581273465</em>\n",
       "  <div style=\"width:120px;height:120px;text-align:center;padding-top:50px;background-color:#4B8CA9\">&nbsp;</div>\n",
       "</div>\n",
       "\n",
       "<div style=\"float:left;margin:10px;\">\n",
       "  <strong>Tropical Oasis</strong><br/><em style=\"font-size:0.88em;\">11.180339887498949</em>\n",
       "  <div style=\"width:120px;height:120px;text-align:center;padding-top:50px;background-color:#52919B\">&nbsp;</div>\n",
       "</div>\n"
      ],
      "text/plain": [
       "\"<div style=\\\"float:left;margin:10px;\\\">\\n  <strong>Aqua Dance</strong><br/><em style=\\\"font-size:0.88em;\\\">0</em>\\n  <div style=\\\"width:120px;height:120px;text-align:center;padding-top:50px;background-color:#4F95A5\\\">&nbsp;</div>\\n</div>\\n\\n<div style=\\\"float:left;margin:10px;\\\">\\n  <strong>Teal Bayou</strong><br/><em style=\\\"font-size:0.88em;\\\">3.605551275463989</em>\\n  <div style=\\\"width:120px;height:120px;text-align:center;padding-top:50px;background-color:#4F93A2\\\">&nbsp;</div>\\n</div>\\n\\n<div style=\\\"float:left;margin:10px;\\\">\\n  <strong>Chivalry</strong><br/><em style=\\\"font-size:0.88em;\\\">6.708203932499369</em>\\n  <div style=\\\"width:120px;height:120px;text-align:center;padding-top:50px;background-color:#5190A9\\\">&nbsp;</div>\\n</div>\\n\\n<div style=\\\"float:left;margin:10px;\\\">\\n  <strong>Blue Toile</strong><br/><em style=\\\"font-size:0.88em;\\\">7.810249675906654</em>\\n  <div style=\\\"width:120px;height:120px;text-align:center;padding-top:50px;background-color:#5598A9\\\">&nbsp;</div>\\n</div>\\n\\n<div style=\\\"float:left;margin:10px;\\\">\\n  <strong>Rendezvous Bay</strong><br/><em style=\\\"font-size:0.88em;\\\">8.306623862918075</em>\\n  <div style=\\\"width:120px;height:120px;text-align:center;padding-top:50px;background-color:#50939D\\\">&nbsp;</div>\\n</div>\\n\\n<div style=\\\"float:left;margin:10px;\\\">\\n  <strong>Tidal Teal</strong><br/><em style=\\\"font-size:0.88em;\\\">8.831760866327848</em>\\n  <div style=\\\"width:120px;height:120px;text-align:center;padding-top:50px;background-color:#519CA0\\\">&nbsp;</div>\\n</div>\\n\\n<div style=\\\"float:left;margin:10px;\\\">\\n  <strong>Blue Daisy</strong><br/><em style=\\\"font-size:0.88em;\\\">9.643650760992955</em>\\n  <div style=\\\"width:120px;height:120px;text-align:center;padding-top:50px;background-color:#548DA7\\\">&nbsp;</div>\\n</div>\\n\\n<div style=\\\"float:left;margin:10px;\\\">\\n  <strong>Blue Lake</strong><br/><em style=\\\"font-size:0.88em;\\\">9.899494936611665</em>\\n  <div style=\\\"width:120px;height:120px;text-align:center;padding-top:50px;background-color:#569CA5\\\">&nbsp;</div>\\n</div>\\n\\n<div style=\\\"float:left;margin:10px;\\\">\\n  <strong>Sea Exposure</strong><br/><em style=\\\"font-size:0.88em;\\\">10.295630140987</em>\\n  <div style=\\\"width:120px;height:120px;text-align:center;padding-top:50px;background-color:#529EA9\\\">&nbsp;</div>\\n</div>\\n\\n<div style=\\\"float:left;margin:10px;\\\">\\n  <strong>My Skiff</strong><br/><em style=\\\"font-size:0.88em;\\\">10.392304845413264</em>\\n  <div style=\\\"width:120px;height:120px;text-align:center;padding-top:50px;background-color:#5993A3\\\">&nbsp;</div>\\n</div>\\n\\n<div style=\\\"float:left;margin:10px;\\\">\\n  <strong>Blue Chaise</strong><br/><em style=\\\"font-size:0.88em;\\\">10.63014581273465</em>\\n  <div style=\\\"width:120px;height:120px;text-align:center;padding-top:50px;background-color:#4B8CA9\\\">&nbsp;</div>\\n</div>\\n\\n<div style=\\\"float:left;margin:10px;\\\">\\n  <strong>Tropical Oasis</strong><br/><em style=\\\"font-size:0.88em;\\\">11.180339887498949</em>\\n  <div style=\\\"width:120px;height:120px;text-align:center;padding-top:50px;background-color:#52919B\\\">&nbsp;</div>\\n</div>\\n\""
      ]
     },
     "metadata": {},
     "output_type": "display_data"
    }
   ],
   "source": [
    "show_colors(nearest_euclidean_3d(vectors,vectors[505][\"vector\"], k=12))"
   ]
  },
  {
   "cell_type": "markdown",
   "id": "506398c8",
   "metadata": {},
   "source": [
    "# Listing 1.8\n",
    "Shows the 12 nearest colors to rgb=[150,0,200]"
   ]
  },
  {
   "cell_type": "code",
   "execution_count": 41,
   "id": "500b62b0",
   "metadata": {},
   "outputs": [
    {
     "data": {
      "text/html": [
       "<div style=\"float:left;margin:10px;\">\n",
       "  <strong>Mad About Magenta</strong><br/><em style=\"font-size:0.88em;\">99.12618221237011</em>\n",
       "  <div style=\"width:120px;height:120px;text-align:center;padding-top:50px;background-color:#8D4C89\">&nbsp;</div>\n",
       "</div>\n",
       "\n",
       "<div style=\"float:left;margin:10px;\">\n",
       "  <strong>Twilight Magenta</strong><br/><em style=\"font-size:0.88em;\">103.36827366266692</em>\n",
       "  <div style=\"width:120px;height:120px;text-align:center;padding-top:50px;background-color:#9B4A80\">&nbsp;</div>\n",
       "</div>\n",
       "\n",
       "<div style=\"float:left;margin:10px;\">\n",
       "  <strong>Pre-Dawn Sky</strong><br/><em style=\"font-size:0.88em;\">104.35516278555652</em>\n",
       "  <div style=\"width:120px;height:120px;text-align:center;padding-top:50px;background-color:#9F487D\">&nbsp;</div>\n",
       "</div>\n",
       "\n",
       "<div style=\"float:left;margin:10px;\">\n",
       "  <strong>Voodoo Violet</strong><br/><em style=\"font-size:0.88em;\">105.0</em>\n",
       "  <div style=\"width:120px;height:120px;text-align:center;padding-top:50px;background-color:#734682\">&nbsp;</div>\n",
       "</div>\n",
       "\n",
       "<div style=\"float:left;margin:10px;\">\n",
       "  <strong>Cosmic Berry</strong><br/><em style=\"font-size:0.88em;\">105.11898020814318</em>\n",
       "  <div style=\"width:120px;height:120px;text-align:center;padding-top:50px;background-color:#87558C\">&nbsp;</div>\n",
       "</div>\n",
       "\n",
       "<div style=\"float:left;margin:10px;\">\n",
       "  <strong>Hot Lips</strong><br/><em style=\"font-size:0.88em;\">105.49407566304374</em>\n",
       "  <div style=\"width:120px;height:120px;text-align:center;padding-top:50px;background-color:#BC427F\">&nbsp;</div>\n",
       "</div>\n",
       "\n",
       "<div style=\"float:left;margin:10px;\">\n",
       "  <strong>Verve Violet</strong><br/><em style=\"font-size:0.88em;\">106.90650120549265</em>\n",
       "  <div style=\"width:120px;height:120px;text-align:center;padding-top:50px;background-color:#944F80\">&nbsp;</div>\n",
       "</div>\n",
       "\n",
       "<div style=\"float:left;margin:10px;\">\n",
       "  <strong>Crushed Berries</strong><br/><em style=\"font-size:0.88em;\">107.01868995647442</em>\n",
       "  <div style=\"width:120px;height:120px;text-align:center;padding-top:50px;background-color:#B4447B\">&nbsp;</div>\n",
       "</div>\n",
       "\n",
       "<div style=\"float:left;margin:10px;\">\n",
       "  <strong>Sonic Plum</strong><br/><em style=\"font-size:0.88em;\">107.03737664946763</em>\n",
       "  <div style=\"width:120px;height:120px;text-align:center;padding-top:50px;background-color:#815A92\">&nbsp;</div>\n",
       "</div>\n",
       "\n",
       "<div style=\"float:left;margin:10px;\">\n",
       "  <strong>Rollick</strong><br/><em style=\"font-size:0.88em;\">110.32678731840241</em>\n",
       "  <div style=\"width:120px;height:120px;text-align:center;padding-top:50px;background-color:#745A92\">&nbsp;</div>\n",
       "</div>\n",
       "\n",
       "<div style=\"float:left;margin:10px;\">\n",
       "  <strong>Chakra</strong><br/><em style=\"font-size:0.88em;\">110.48076755707302</em>\n",
       "  <div style=\"width:120px;height:120px;text-align:center;padding-top:50px;background-color:#8B5E8F\">&nbsp;</div>\n",
       "</div>\n",
       "\n",
       "<div style=\"float:left;margin:10px;\">\n",
       "  <strong>Exuberant Pink</strong><br/><em style=\"font-size:0.88em;\">110.53958566956908</em>\n",
       "  <div style=\"width:120px;height:120px;text-align:center;padding-top:50px;background-color:#B54D7F\">&nbsp;</div>\n",
       "</div>\n"
      ],
      "text/plain": [
       "\"<div style=\\\"float:left;margin:10px;\\\">\\n  <strong>Mad About Magenta</strong><br/><em style=\\\"font-size:0.88em;\\\">99.12618221237011</em>\\n  <div style=\\\"width:120px;height:120px;text-align:center;padding-top:50px;background-color:#8D4C89\\\">&nbsp;</div>\\n</div>\\n\\n<div style=\\\"float:left;margin:10px;\\\">\\n  <strong>Twilight Magenta</strong><br/><em style=\\\"font-size:0.88em;\\\">103.36827366266692</em>\\n  <div style=\\\"width:120px;height:120px;text-align:center;padding-top:50px;background-color:#9B4A80\\\">&nbsp;</div>\\n</div>\\n\\n<div style=\\\"float:left;margin:10px;\\\">\\n  <strong>Pre-Dawn Sky</strong><br/><em style=\\\"font-size:0.88em;\\\">104.35516278555652</em>\\n  <div style=\\\"width:120px;height:120px;text-align:center;padding-top:50px;background-color:#9F487D\\\">&nbsp;</div>\\n</div>\\n\\n<div style=\\\"float:left;margin:10px;\\\">\\n  <strong>Voodoo Violet</strong><br/><em style=\\\"font-size:0.88em;\\\">105.0</em>\\n  <div style=\\\"width:120px;height:120px;text-align:center;padding-top:50px;background-color:#734682\\\">&nbsp;</div>\\n</div>\\n\\n<div style=\\\"float:left;margin:10px;\\\">\\n  <strong>Cosmic Berry</strong><br/><em style=\\\"font-size:0.88em;\\\">105.11898020814318</em>\\n  <div style=\\\"width:120px;height:120px;text-align:center;padding-top:50px;background-color:#87558C\\\">&nbsp;</div>\\n</div>\\n\\n<div style=\\\"float:left;margin:10px;\\\">\\n  <strong>Hot Lips</strong><br/><em style=\\\"font-size:0.88em;\\\">105.49407566304374</em>\\n  <div style=\\\"width:120px;height:120px;text-align:center;padding-top:50px;background-color:#BC427F\\\">&nbsp;</div>\\n</div>\\n\\n<div style=\\\"float:left;margin:10px;\\\">\\n  <strong>Verve Violet</strong><br/><em style=\\\"font-size:0.88em;\\\">106.90650120549265</em>\\n  <div style=\\\"width:120px;height:120px;text-align:center;padding-top:50px;background-color:#944F80\\\">&nbsp;</div>\\n</div>\\n\\n<div style=\\\"float:left;margin:10px;\\\">\\n  <strong>Crushed Berries</strong><br/><em style=\\\"font-size:0.88em;\\\">107.01868995647442</em>\\n  <div style=\\\"width:120px;height:120px;text-align:center;padding-top:50px;background-color:#B4447B\\\">&nbsp;</div>\\n</div>\\n\\n<div style=\\\"float:left;margin:10px;\\\">\\n  <strong>Sonic Plum</strong><br/><em style=\\\"font-size:0.88em;\\\">107.03737664946763</em>\\n  <div style=\\\"width:120px;height:120px;text-align:center;padding-top:50px;background-color:#815A92\\\">&nbsp;</div>\\n</div>\\n\\n<div style=\\\"float:left;margin:10px;\\\">\\n  <strong>Rollick</strong><br/><em style=\\\"font-size:0.88em;\\\">110.32678731840241</em>\\n  <div style=\\\"width:120px;height:120px;text-align:center;padding-top:50px;background-color:#745A92\\\">&nbsp;</div>\\n</div>\\n\\n<div style=\\\"float:left;margin:10px;\\\">\\n  <strong>Chakra</strong><br/><em style=\\\"font-size:0.88em;\\\">110.48076755707302</em>\\n  <div style=\\\"width:120px;height:120px;text-align:center;padding-top:50px;background-color:#8B5E8F\\\">&nbsp;</div>\\n</div>\\n\\n<div style=\\\"float:left;margin:10px;\\\">\\n  <strong>Exuberant Pink</strong><br/><em style=\\\"font-size:0.88em;\\\">110.53958566956908</em>\\n  <div style=\\\"width:120px;height:120px;text-align:center;padding-top:50px;background-color:#B54D7F\\\">&nbsp;</div>\\n</div>\\n\""
      ]
     },
     "metadata": {},
     "output_type": "display_data"
    }
   ],
   "source": [
    "show_colors(nearest_euclidean_3d(vectors,[150,0,200], k=12))"
   ]
  },
  {
   "cell_type": "code",
   "execution_count": 42,
   "id": "70ce22ba",
   "metadata": {},
   "outputs": [
    {
     "data": {
      "text/html": [
       "<div style=\"float:left;margin:10px;\">\n",
       "  <strong>Blanca Peak</strong><br/><em style=\"font-size:0.88em;\">14.352700094407323</em>\n",
       "  <div style=\"width:120px;height:120px;text-align:center;padding-top:50px;background-color:#F8F9F4\">&nbsp;</div>\n",
       "</div>\n",
       "\n",
       "<div style=\"float:left;margin:10px;\">\n",
       "  <strong>Ultra Pure White®</strong><br/><em style=\"font-size:0.88em;\">14.696938456699069</em>\n",
       "  <div style=\"width:120px;height:120px;text-align:center;padding-top:50px;background-color:#F9F9F3\">&nbsp;</div>\n",
       "</div>\n",
       "\n",
       "<div style=\"float:left;margin:10px;\">\n",
       "  <strong>Ultra Pure White®</strong><br/><em style=\"font-size:0.88em;\">15.132745950421556</em>\n",
       "  <div style=\"width:120px;height:120px;text-align:center;padding-top:50px;background-color:#F8F9F3\">&nbsp;</div>\n",
       "</div>\n",
       "\n",
       "<div style=\"float:left;margin:10px;\">\n",
       "  <strong>Ultra Pure White</strong><br/><em style=\"font-size:0.88em;\">15.556349186104045</em>\n",
       "  <div style=\"width:120px;height:120px;text-align:center;padding-top:50px;background-color:#F8F8F3\">&nbsp;</div>\n",
       "</div>\n",
       "\n",
       "<div style=\"float:left;margin:10px;\">\n",
       "  <strong>Ultra White</strong><br/><em style=\"font-size:0.88em;\">16.30950643030009</em>\n",
       "  <div style=\"width:120px;height:120px;text-align:center;padding-top:50px;background-color:#F6F7F4\">&nbsp;</div>\n",
       "</div>\n",
       "\n",
       "<div style=\"float:left;margin:10px;\">\n",
       "  <strong>Ultra Pure White®</strong><br/><em style=\"font-size:0.88em;\">16.34013463836819</em>\n",
       "  <div style=\"width:120px;height:120px;text-align:center;padding-top:50px;background-color:#F8F8F2\">&nbsp;</div>\n",
       "</div>\n",
       "\n",
       "<div style=\"float:left;margin:10px;\">\n",
       "  <strong>Ultra Pure White®</strong><br/><em style=\"font-size:0.88em;\">16.34013463836819</em>\n",
       "  <div style=\"width:120px;height:120px;text-align:center;padding-top:50px;background-color:#F8F8F2\">&nbsp;</div>\n",
       "</div>\n",
       "\n",
       "<div style=\"float:left;margin:10px;\">\n",
       "  <strong>High Reflective White</strong><br/><em style=\"font-size:0.88em;\">18.0</em>\n",
       "  <div style=\"width:120px;height:120px;text-align:center;padding-top:50px;background-color:#F7F7F1\">&nbsp;</div>\n",
       "</div>\n",
       "\n",
       "<div style=\"float:left;margin:10px;\">\n",
       "  <strong>New Ream</strong><br/><em style=\"font-size:0.88em;\">18.920887928424502</em>\n",
       "  <div style=\"width:120px;height:120px;text-align:center;padding-top:50px;background-color:#F6F6F1\">&nbsp;</div>\n",
       "</div>\n",
       "\n",
       "<div style=\"float:left;margin:10px;\">\n",
       "  <strong>Chantilly Lace</strong><br/><em style=\"font-size:0.88em;\">19.949937343260004</em>\n",
       "  <div style=\"width:120px;height:120px;text-align:center;padding-top:50px;background-color:#F4F6F1\">&nbsp;</div>\n",
       "</div>\n",
       "\n",
       "<div style=\"float:left;margin:10px;\">\n",
       "  <strong>Chantilly Lace</strong><br/><em style=\"font-size:0.88em;\">19.949937343260004</em>\n",
       "  <div style=\"width:120px;height:120px;text-align:center;padding-top:50px;background-color:#F4F6F1\">&nbsp;</div>\n",
       "</div>\n",
       "\n",
       "<div style=\"float:left;margin:10px;\">\n",
       "  <strong>Snowfall White</strong><br/><em style=\"font-size:0.88em;\">20.83266665599966</em>\n",
       "  <div style=\"width:120px;height:120px;text-align:center;padding-top:50px;background-color:#F6F7EE\">&nbsp;</div>\n",
       "</div>\n"
      ],
      "text/plain": [
       "\"<div style=\\\"float:left;margin:10px;\\\">\\n  <strong>Blanca Peak</strong><br/><em style=\\\"font-size:0.88em;\\\">14.352700094407323</em>\\n  <div style=\\\"width:120px;height:120px;text-align:center;padding-top:50px;background-color:#F8F9F4\\\">&nbsp;</div>\\n</div>\\n\\n<div style=\\\"float:left;margin:10px;\\\">\\n  <strong>Ultra Pure White®</strong><br/><em style=\\\"font-size:0.88em;\\\">14.696938456699069</em>\\n  <div style=\\\"width:120px;height:120px;text-align:center;padding-top:50px;background-color:#F9F9F3\\\">&nbsp;</div>\\n</div>\\n\\n<div style=\\\"float:left;margin:10px;\\\">\\n  <strong>Ultra Pure White®</strong><br/><em style=\\\"font-size:0.88em;\\\">15.132745950421556</em>\\n  <div style=\\\"width:120px;height:120px;text-align:center;padding-top:50px;background-color:#F8F9F3\\\">&nbsp;</div>\\n</div>\\n\\n<div style=\\\"float:left;margin:10px;\\\">\\n  <strong>Ultra Pure White</strong><br/><em style=\\\"font-size:0.88em;\\\">15.556349186104045</em>\\n  <div style=\\\"width:120px;height:120px;text-align:center;padding-top:50px;background-color:#F8F8F3\\\">&nbsp;</div>\\n</div>\\n\\n<div style=\\\"float:left;margin:10px;\\\">\\n  <strong>Ultra White</strong><br/><em style=\\\"font-size:0.88em;\\\">16.30950643030009</em>\\n  <div style=\\\"width:120px;height:120px;text-align:center;padding-top:50px;background-color:#F6F7F4\\\">&nbsp;</div>\\n</div>\\n\\n<div style=\\\"float:left;margin:10px;\\\">\\n  <strong>Ultra Pure White®</strong><br/><em style=\\\"font-size:0.88em;\\\">16.34013463836819</em>\\n  <div style=\\\"width:120px;height:120px;text-align:center;padding-top:50px;background-color:#F8F8F2\\\">&nbsp;</div>\\n</div>\\n\\n<div style=\\\"float:left;margin:10px;\\\">\\n  <strong>Ultra Pure White®</strong><br/><em style=\\\"font-size:0.88em;\\\">16.34013463836819</em>\\n  <div style=\\\"width:120px;height:120px;text-align:center;padding-top:50px;background-color:#F8F8F2\\\">&nbsp;</div>\\n</div>\\n\\n<div style=\\\"float:left;margin:10px;\\\">\\n  <strong>High Reflective White</strong><br/><em style=\\\"font-size:0.88em;\\\">18.0</em>\\n  <div style=\\\"width:120px;height:120px;text-align:center;padding-top:50px;background-color:#F7F7F1\\\">&nbsp;</div>\\n</div>\\n\\n<div style=\\\"float:left;margin:10px;\\\">\\n  <strong>New Ream</strong><br/><em style=\\\"font-size:0.88em;\\\">18.920887928424502</em>\\n  <div style=\\\"width:120px;height:120px;text-align:center;padding-top:50px;background-color:#F6F6F1\\\">&nbsp;</div>\\n</div>\\n\\n<div style=\\\"float:left;margin:10px;\\\">\\n  <strong>Chantilly Lace</strong><br/><em style=\\\"font-size:0.88em;\\\">19.949937343260004</em>\\n  <div style=\\\"width:120px;height:120px;text-align:center;padding-top:50px;background-color:#F4F6F1\\\">&nbsp;</div>\\n</div>\\n\\n<div style=\\\"float:left;margin:10px;\\\">\\n  <strong>Chantilly Lace</strong><br/><em style=\\\"font-size:0.88em;\\\">19.949937343260004</em>\\n  <div style=\\\"width:120px;height:120px;text-align:center;padding-top:50px;background-color:#F4F6F1\\\">&nbsp;</div>\\n</div>\\n\\n<div style=\\\"float:left;margin:10px;\\\">\\n  <strong>Snowfall White</strong><br/><em style=\\\"font-size:0.88em;\\\">20.83266665599966</em>\\n  <div style=\\\"width:120px;height:120px;text-align:center;padding-top:50px;background-color:#F6F7EE\\\">&nbsp;</div>\\n</div>\\n\""
      ]
     },
     "metadata": {},
     "output_type": "display_data"
    }
   ],
   "source": [
    "show_colors(nearest_euclidean_3d(vectors,[255,255,255], k=12))"
   ]
  },
  {
   "cell_type": "markdown",
   "id": "938fb196-3179-4742-a0a0-af804c2f5541",
   "metadata": {},
   "source": [
    "# The wrong metric\n",
    "\n",
    "What happens when we use, for example, dot product for this euclidean RGB space?"
   ]
  },
  {
   "cell_type": "code",
   "execution_count": 43,
   "id": "c514c3e6",
   "metadata": {},
   "outputs": [
    {
     "data": {
      "text/plain": [
       ":dot_product"
      ]
     },
     "execution_count": 43,
     "metadata": {},
     "output_type": "execute_result"
    }
   ],
   "source": [
    "def dot_product(a, b)\n",
    "  a.zip(b).sum { |x, y| x * y }\n",
    "end"
   ]
  },
  {
   "cell_type": "code",
   "execution_count": 44,
   "id": "e1b2bd7c",
   "metadata": {},
   "outputs": [
    {
     "name": "stdout",
     "output_type": "stream",
     "text": [
      "82\n",
      "65\n",
      "44\n",
      "44\n",
      "16\n"
     ]
    }
   ],
   "source": [
    "puts dot_product([9,1], [9,1])\n",
    "puts dot_product([7,2], [9,1])\n",
    "puts dot_product([7,2], [4,8])\n",
    "puts dot_product([4,8], [9,1])\n",
    "puts dot_product([4,8], [2,1])"
   ]
  },
  {
   "cell_type": "code",
   "execution_count": 49,
   "id": "539ddd0e",
   "metadata": {},
   "outputs": [
    {
     "data": {
      "text/plain": [
       ":nearest_dot_3d"
      ]
     },
     "execution_count": 49,
     "metadata": {},
     "output_type": "execute_result"
    }
   ],
   "source": [
    "def nearest_dot_3d(vectors,a, k=3)\n",
    "  distances = vectors.each_with_index.map do |vector, j|\n",
    "    b = vector[\"vector\"]\n",
    "    {\n",
    "      \"idx\" => j,\n",
    "      \"distance\" => dot_product(a, b)\n",
    "    }\n",
    "  end\n",
    "  \n",
    "  distances.sort_by! { |item| -item[\"distance\"] }  # Sort in descending order\n",
    "  \n",
    "  distances[0...k].map do |d|\n",
    "    {\n",
    "      \"result\" => vectors[d[\"idx\"]][\"payload\"],\n",
    "      \"distance\" => d[\"distance\"]\n",
    "    }\n",
    "  end\n",
    "end"
   ]
  },
  {
   "cell_type": "code",
   "execution_count": 50,
   "id": "42a72e03",
   "metadata": {},
   "outputs": [
    {
     "data": {
      "text/html": [
       "<div style=\"float:left;margin:10px;\">\n",
       "  <strong>Blanca Peak</strong><br/><em style=\"font-size:0.88em;\">96953</em>\n",
       "  <div style=\"width:120px;height:120px;text-align:center;padding-top:50px;background-color:#F8F9F4\">&nbsp;</div>\n",
       "</div>\n",
       "\n",
       "<div style=\"float:left;margin:10px;\">\n",
       "  <strong>Ultra Pure White®</strong><br/><em style=\"font-size:0.88em;\">96867</em>\n",
       "  <div style=\"width:120px;height:120px;text-align:center;padding-top:50px;background-color:#F9F9F3\">&nbsp;</div>\n",
       "</div>\n",
       "\n",
       "<div style=\"float:left;margin:10px;\">\n",
       "  <strong>Ultra Pure White®</strong><br/><em style=\"font-size:0.88em;\">96788</em>\n",
       "  <div style=\"width:120px;height:120px;text-align:center;padding-top:50px;background-color:#F8F9F3\">&nbsp;</div>\n",
       "</div>\n",
       "\n",
       "<div style=\"float:left;margin:10px;\">\n",
       "  <strong>Ultra Pure White</strong><br/><em style=\"font-size:0.88em;\">96639</em>\n",
       "  <div style=\"width:120px;height:120px;text-align:center;padding-top:50px;background-color:#F8F8F3\">&nbsp;</div>\n",
       "</div>\n",
       "\n",
       "<div style=\"float:left;margin:10px;\">\n",
       "  <strong>Ultra White</strong><br/><em style=\"font-size:0.88em;\">96497</em>\n",
       "  <div style=\"width:120px;height:120px;text-align:center;padding-top:50px;background-color:#F6F7F4\">&nbsp;</div>\n",
       "</div>\n",
       "\n",
       "<div style=\"float:left;margin:10px;\">\n",
       "  <strong>Ultra Pure White®</strong><br/><em style=\"font-size:0.88em;\">96474</em>\n",
       "  <div style=\"width:120px;height:120px;text-align:center;padding-top:50px;background-color:#F8F8F2\">&nbsp;</div>\n",
       "</div>\n",
       "\n",
       "<div style=\"float:left;margin:10px;\">\n",
       "  <strong>Ultra Pure White®</strong><br/><em style=\"font-size:0.88em;\">96474</em>\n",
       "  <div style=\"width:120px;height:120px;text-align:center;padding-top:50px;background-color:#F8F8F2\">&nbsp;</div>\n",
       "</div>\n",
       "\n",
       "<div style=\"float:left;margin:10px;\">\n",
       "  <strong>High Reflective White</strong><br/><em style=\"font-size:0.88em;\">96081</em>\n",
       "  <div style=\"width:120px;height:120px;text-align:center;padding-top:50px;background-color:#F7F7F1\">&nbsp;</div>\n",
       "</div>\n",
       "\n",
       "<div style=\"float:left;margin:10px;\">\n",
       "  <strong>New Ream</strong><br/><em style=\"font-size:0.88em;\">95853</em>\n",
       "  <div style=\"width:120px;height:120px;text-align:center;padding-top:50px;background-color:#F6F6F1\">&nbsp;</div>\n",
       "</div>\n",
       "\n",
       "<div style=\"float:left;margin:10px;\">\n",
       "  <strong>Chantilly Lace</strong><br/><em style=\"font-size:0.88em;\">95695</em>\n",
       "  <div style=\"width:120px;height:120px;text-align:center;padding-top:50px;background-color:#F4F6F1\">&nbsp;</div>\n",
       "</div>\n",
       "\n",
       "<div style=\"float:left;margin:10px;\">\n",
       "  <strong>Chantilly Lace</strong><br/><em style=\"font-size:0.88em;\">95695</em>\n",
       "  <div style=\"width:120px;height:120px;text-align:center;padding-top:50px;background-color:#F4F6F1\">&nbsp;</div>\n",
       "</div>\n",
       "\n",
       "<div style=\"float:left;margin:10px;\">\n",
       "  <strong>Snowfall White</strong><br/><em style=\"font-size:0.88em;\">95507</em>\n",
       "  <div style=\"width:120px;height:120px;text-align:center;padding-top:50px;background-color:#F6F7EE\">&nbsp;</div>\n",
       "</div>\n"
      ],
      "text/plain": [
       "\"<div style=\\\"float:left;margin:10px;\\\">\\n  <strong>Blanca Peak</strong><br/><em style=\\\"font-size:0.88em;\\\">96953</em>\\n  <div style=\\\"width:120px;height:120px;text-align:center;padding-top:50px;background-color:#F8F9F4\\\">&nbsp;</div>\\n</div>\\n\\n<div style=\\\"float:left;margin:10px;\\\">\\n  <strong>Ultra Pure White®</strong><br/><em style=\\\"font-size:0.88em;\\\">96867</em>\\n  <div style=\\\"width:120px;height:120px;text-align:center;padding-top:50px;background-color:#F9F9F3\\\">&nbsp;</div>\\n</div>\\n\\n<div style=\\\"float:left;margin:10px;\\\">\\n  <strong>Ultra Pure White®</strong><br/><em style=\\\"font-size:0.88em;\\\">96788</em>\\n  <div style=\\\"width:120px;height:120px;text-align:center;padding-top:50px;background-color:#F8F9F3\\\">&nbsp;</div>\\n</div>\\n\\n<div style=\\\"float:left;margin:10px;\\\">\\n  <strong>Ultra Pure White</strong><br/><em style=\\\"font-size:0.88em;\\\">96639</em>\\n  <div style=\\\"width:120px;height:120px;text-align:center;padding-top:50px;background-color:#F8F8F3\\\">&nbsp;</div>\\n</div>\\n\\n<div style=\\\"float:left;margin:10px;\\\">\\n  <strong>Ultra White</strong><br/><em style=\\\"font-size:0.88em;\\\">96497</em>\\n  <div style=\\\"width:120px;height:120px;text-align:center;padding-top:50px;background-color:#F6F7F4\\\">&nbsp;</div>\\n</div>\\n\\n<div style=\\\"float:left;margin:10px;\\\">\\n  <strong>Ultra Pure White®</strong><br/><em style=\\\"font-size:0.88em;\\\">96474</em>\\n  <div style=\\\"width:120px;height:120px;text-align:center;padding-top:50px;background-color:#F8F8F2\\\">&nbsp;</div>\\n</div>\\n\\n<div style=\\\"float:left;margin:10px;\\\">\\n  <strong>Ultra Pure White®</strong><br/><em style=\\\"font-size:0.88em;\\\">96474</em>\\n  <div style=\\\"width:120px;height:120px;text-align:center;padding-top:50px;background-color:#F8F8F2\\\">&nbsp;</div>\\n</div>\\n\\n<div style=\\\"float:left;margin:10px;\\\">\\n  <strong>High Reflective White</strong><br/><em style=\\\"font-size:0.88em;\\\">96081</em>\\n  <div style=\\\"width:120px;height:120px;text-align:center;padding-top:50px;background-color:#F7F7F1\\\">&nbsp;</div>\\n</div>\\n\\n<div style=\\\"float:left;margin:10px;\\\">\\n  <strong>New Ream</strong><br/><em style=\\\"font-size:0.88em;\\\">95853</em>\\n  <div style=\\\"width:120px;height:120px;text-align:center;padding-top:50px;background-color:#F6F6F1\\\">&nbsp;</div>\\n</div>\\n\\n<div style=\\\"float:left;margin:10px;\\\">\\n  <strong>Chantilly Lace</strong><br/><em style=\\\"font-size:0.88em;\\\">95695</em>\\n  <div style=\\\"width:120px;height:120px;text-align:center;padding-top:50px;background-color:#F4F6F1\\\">&nbsp;</div>\\n</div>\\n\\n<div style=\\\"float:left;margin:10px;\\\">\\n  <strong>Chantilly Lace</strong><br/><em style=\\\"font-size:0.88em;\\\">95695</em>\\n  <div style=\\\"width:120px;height:120px;text-align:center;padding-top:50px;background-color:#F4F6F1\\\">&nbsp;</div>\\n</div>\\n\\n<div style=\\\"float:left;margin:10px;\\\">\\n  <strong>Snowfall White</strong><br/><em style=\\\"font-size:0.88em;\\\">95507</em>\\n  <div style=\\\"width:120px;height:120px;text-align:center;padding-top:50px;background-color:#F6F7EE\\\">&nbsp;</div>\\n</div>\\n\""
      ]
     },
     "metadata": {},
     "output_type": "display_data"
    }
   ],
   "source": [
    "show_colors(nearest_dot_3d(vectors,vectors[505][\"vector\"], k=12))"
   ]
  },
  {
   "cell_type": "code",
   "execution_count": 51,
   "id": "bfe6e638-fe16-4e13-bc05-c9bf8a27ade3",
   "metadata": {},
   "outputs": [
    {
     "data": {
      "text/html": [
       "<div style=\"float:left;margin:10px;\">\n",
       "  <strong>Ultra Pure White®</strong><br/><em style=\"font-size:0.88em;\">156543</em>\n",
       "  <div style=\"width:120px;height:120px;text-align:center;padding-top:50px;background-color:#F9F9F3\">&nbsp;</div>\n",
       "</div>\n",
       "\n",
       "<div style=\"float:left;margin:10px;\">\n",
       "  <strong>Blanca Peak</strong><br/><em style=\"font-size:0.88em;\">156485</em>\n",
       "  <div style=\"width:120px;height:120px;text-align:center;padding-top:50px;background-color:#F8F9F4\">&nbsp;</div>\n",
       "</div>\n",
       "\n",
       "<div style=\"float:left;margin:10px;\">\n",
       "  <strong>Ultra Pure White®</strong><br/><em style=\"font-size:0.88em;\">156306</em>\n",
       "  <div style=\"width:120px;height:120px;text-align:center;padding-top:50px;background-color:#F8F9F3\">&nbsp;</div>\n",
       "</div>\n",
       "\n",
       "<div style=\"float:left;margin:10px;\">\n",
       "  <strong>Ultra Pure White</strong><br/><em style=\"font-size:0.88em;\">156089</em>\n",
       "  <div style=\"width:120px;height:120px;text-align:center;padding-top:50px;background-color:#F8F8F3\">&nbsp;</div>\n",
       "</div>\n",
       "\n",
       "<div style=\"float:left;margin:10px;\">\n",
       "  <strong>Ultra Pure White®</strong><br/><em style=\"font-size:0.88em;\">155910</em>\n",
       "  <div style=\"width:120px;height:120px;text-align:center;padding-top:50px;background-color:#F8F8F2\">&nbsp;</div>\n",
       "</div>\n",
       "\n",
       "<div style=\"float:left;margin:10px;\">\n",
       "  <strong>Ultra Pure White®</strong><br/><em style=\"font-size:0.88em;\">155910</em>\n",
       "  <div style=\"width:120px;height:120px;text-align:center;padding-top:50px;background-color:#F8F8F2\">&nbsp;</div>\n",
       "</div>\n",
       "\n",
       "<div style=\"float:left;margin:10px;\">\n",
       "  <strong>Ultra White</strong><br/><em style=\"font-size:0.88em;\">155577</em>\n",
       "  <div style=\"width:120px;height:120px;text-align:center;padding-top:50px;background-color:#F6F7F4\">&nbsp;</div>\n",
       "</div>\n",
       "\n",
       "<div style=\"float:left;margin:10px;\">\n",
       "  <strong>High Reflective White</strong><br/><em style=\"font-size:0.88em;\">155277</em>\n",
       "  <div style=\"width:120px;height:120px;text-align:center;padding-top:50px;background-color:#F7F7F1\">&nbsp;</div>\n",
       "</div>\n",
       "\n",
       "<div style=\"float:left;margin:10px;\">\n",
       "  <strong>Stately White</strong><br/><em style=\"font-size:0.88em;\">155169</em>\n",
       "  <div style=\"width:120px;height:120px;text-align:center;padding-top:50px;background-color:#FAF9EA\">&nbsp;</div>\n",
       "</div>\n",
       "\n",
       "<div style=\"float:left;margin:10px;\">\n",
       "  <strong>Elderflower</strong><br/><em style=\"font-size:0.88em;\">155048</em>\n",
       "  <div style=\"width:120px;height:120px;text-align:center;padding-top:50px;background-color:#FBF9E8\">&nbsp;</div>\n",
       "</div>\n",
       "\n",
       "<div style=\"float:left;margin:10px;\">\n",
       "  <strong>Night Blooming Jasmine</strong><br/><em style=\"font-size:0.88em;\">154856</em>\n",
       "  <div style=\"width:120px;height:120px;text-align:center;padding-top:50px;background-color:#F9F7EC\">&nbsp;</div>\n",
       "</div>\n",
       "\n",
       "<div style=\"float:left;margin:10px;\">\n",
       "  <strong>New Ream</strong><br/><em style=\"font-size:0.88em;\">154823</em>\n",
       "  <div style=\"width:120px;height:120px;text-align:center;padding-top:50px;background-color:#F6F6F1\">&nbsp;</div>\n",
       "</div>\n"
      ],
      "text/plain": [
       "\"<div style=\\\"float:left;margin:10px;\\\">\\n  <strong>Ultra Pure White®</strong><br/><em style=\\\"font-size:0.88em;\\\">156543</em>\\n  <div style=\\\"width:120px;height:120px;text-align:center;padding-top:50px;background-color:#F9F9F3\\\">&nbsp;</div>\\n</div>\\n\\n<div style=\\\"float:left;margin:10px;\\\">\\n  <strong>Blanca Peak</strong><br/><em style=\\\"font-size:0.88em;\\\">156485</em>\\n  <div style=\\\"width:120px;height:120px;text-align:center;padding-top:50px;background-color:#F8F9F4\\\">&nbsp;</div>\\n</div>\\n\\n<div style=\\\"float:left;margin:10px;\\\">\\n  <strong>Ultra Pure White®</strong><br/><em style=\\\"font-size:0.88em;\\\">156306</em>\\n  <div style=\\\"width:120px;height:120px;text-align:center;padding-top:50px;background-color:#F8F9F3\\\">&nbsp;</div>\\n</div>\\n\\n<div style=\\\"float:left;margin:10px;\\\">\\n  <strong>Ultra Pure White</strong><br/><em style=\\\"font-size:0.88em;\\\">156089</em>\\n  <div style=\\\"width:120px;height:120px;text-align:center;padding-top:50px;background-color:#F8F8F3\\\">&nbsp;</div>\\n</div>\\n\\n<div style=\\\"float:left;margin:10px;\\\">\\n  <strong>Ultra Pure White®</strong><br/><em style=\\\"font-size:0.88em;\\\">155910</em>\\n  <div style=\\\"width:120px;height:120px;text-align:center;padding-top:50px;background-color:#F8F8F2\\\">&nbsp;</div>\\n</div>\\n\\n<div style=\\\"float:left;margin:10px;\\\">\\n  <strong>Ultra Pure White®</strong><br/><em style=\\\"font-size:0.88em;\\\">155910</em>\\n  <div style=\\\"width:120px;height:120px;text-align:center;padding-top:50px;background-color:#F8F8F2\\\">&nbsp;</div>\\n</div>\\n\\n<div style=\\\"float:left;margin:10px;\\\">\\n  <strong>Ultra White</strong><br/><em style=\\\"font-size:0.88em;\\\">155577</em>\\n  <div style=\\\"width:120px;height:120px;text-align:center;padding-top:50px;background-color:#F6F7F4\\\">&nbsp;</div>\\n</div>\\n\\n<div style=\\\"float:left;margin:10px;\\\">\\n  <strong>High Reflective White</strong><br/><em style=\\\"font-size:0.88em;\\\">155277</em>\\n  <div style=\\\"width:120px;height:120px;text-align:center;padding-top:50px;background-color:#F7F7F1\\\">&nbsp;</div>\\n</div>\\n\\n<div style=\\\"float:left;margin:10px;\\\">\\n  <strong>Stately White</strong><br/><em style=\\\"font-size:0.88em;\\\">155169</em>\\n  <div style=\\\"width:120px;height:120px;text-align:center;padding-top:50px;background-color:#FAF9EA\\\">&nbsp;</div>\\n</div>\\n\\n<div style=\\\"float:left;margin:10px;\\\">\\n  <strong>Elderflower</strong><br/><em style=\\\"font-size:0.88em;\\\">155048</em>\\n  <div style=\\\"width:120px;height:120px;text-align:center;padding-top:50px;background-color:#FBF9E8\\\">&nbsp;</div>\\n</div>\\n\\n<div style=\\\"float:left;margin:10px;\\\">\\n  <strong>Night Blooming Jasmine</strong><br/><em style=\\\"font-size:0.88em;\\\">154856</em>\\n  <div style=\\\"width:120px;height:120px;text-align:center;padding-top:50px;background-color:#F9F7EC\\\">&nbsp;</div>\\n</div>\\n\\n<div style=\\\"float:left;margin:10px;\\\">\\n  <strong>New Ream</strong><br/><em style=\\\"font-size:0.88em;\\\">154823</em>\\n  <div style=\\\"width:120px;height:120px;text-align:center;padding-top:50px;background-color:#F6F6F1\\\">&nbsp;</div>\\n</div>\\n\""
      ]
     },
     "metadata": {},
     "output_type": "display_data"
    }
   ],
   "source": [
    "show_colors(nearest_dot_3d(vectors,vectors[1010][\"vector\"], k=12))"
   ]
  },
  {
   "cell_type": "markdown",
   "id": "d9b4eb0c",
   "metadata": {},
   "source": [
    "## Appendix\n",
    "\n",
    "The cells below were used to create images in the slides"
   ]
  },
  {
   "cell_type": "code",
   "execution_count": 52,
   "id": "c8d63e5a",
   "metadata": {},
   "outputs": [
    {
     "data": {
      "text/plain": [
       "[{\"vector\"=>[255, 51, 51], \"payload\"=>{\"name\"=>\"red\", \"hex\"=>\"#FF3333\"}}, {\"vector\"=>[255, 51, 153], \"payload\"=>{\"name\"=>\"pink\", \"hex\"=>\"#FF3399\"}}, {\"vector\"=>[102, 255, 0], \"payload\"=>{\"name\"=>\"green\", \"hex\"=>\"#66FF00\"}}]"
      ]
     },
     "execution_count": 52,
     "metadata": {},
     "output_type": "execute_result"
    }
   ],
   "source": [
    "examples = [\n",
    "  {\"vector\" => [255,51,51], \"payload\" => {\"name\" => \"red\", \"hex\" => \"#FF3333\"}},\n",
    "  {\"vector\" => [255,51,153], \"payload\" => {\"name\" => \"pink\", \"hex\" => \"#FF3399\"}},\n",
    "  {\"vector\" => [102,255,0], \"payload\" => {\"name\" => \"green\", \"hex\" => \"#66FF00\"}}\n",
    "]"
   ]
  },
  {
   "cell_type": "code",
   "execution_count": 26,
   "id": "416ee339",
   "metadata": {},
   "outputs": [
    {
     "data": {
      "text/html": [
       "<div style=\"float:left;margin:10px;\">\n",
       "  <strong>red</strong>\n",
       "  <div style=\"width:120px;height:120px;text-align:center;padding-top:50px;background-color:#FF3333\">[255, 51, 51]</div>\n",
       "</div>\n",
       "\n",
       "<div style=\"float:left;margin:10px;\">\n",
       "  <strong>pink</strong>\n",
       "  <div style=\"width:120px;height:120px;text-align:center;padding-top:50px;background-color:#FF3399\">[255, 51, 153]</div>\n",
       "</div>\n",
       "\n",
       "<div style=\"float:left;margin:10px;\">\n",
       "  <strong>green</strong>\n",
       "  <div style=\"width:120px;height:120px;text-align:center;padding-top:50px;background-color:#66FF00\">[102, 255, 0]</div>\n",
       "</div>\n"
      ],
      "text/plain": [
       "\"<div style=\\\"float:left;margin:10px;\\\">\\n  <strong>red</strong>\\n  <div style=\\\"width:120px;height:120px;text-align:center;padding-top:50px;background-color:#FF3333\\\">[255, 51, 51]</div>\\n</div>\\n\\n<div style=\\\"float:left;margin:10px;\\\">\\n  <strong>pink</strong>\\n  <div style=\\\"width:120px;height:120px;text-align:center;padding-top:50px;background-color:#FF3399\\\">[255, 51, 153]</div>\\n</div>\\n\\n<div style=\\\"float:left;margin:10px;\\\">\\n  <strong>green</strong>\\n  <div style=\\\"width:120px;height:120px;text-align:center;padding-top:50px;background-color:#66FF00\\\">[102, 255, 0]</div>\\n</div>\\n\""
      ]
     },
     "metadata": {},
     "output_type": "display_data"
    }
   ],
   "source": [
    "show_colors(examples, annotate: true)"
   ]
  },
  {
   "cell_type": "code",
   "execution_count": 53,
   "id": "b524f470",
   "metadata": {},
   "outputs": [
    {
     "name": "stdout",
     "output_type": "stream",
     "text": [
      "102.0\n",
      "260.049995193232\n",
      "297.37854663711033\n"
     ]
    }
   ],
   "source": [
    "puts euclidean_distance_3d(examples[0][\"vector\"], examples[1][\"vector\"])\n",
    "puts euclidean_distance_3d(examples[0][\"vector\"], examples[2][\"vector\"])\n",
    "puts euclidean_distance_3d(examples[1][\"vector\"], examples[2][\"vector\"])"
   ]
  },
  {
   "cell_type": "code",
   "execution_count": null,
   "id": "0097b2ba-60d6-4303-a5c1-ddb5c71eb541",
   "metadata": {},
   "outputs": [],
   "source": []
  },
  {
   "cell_type": "code",
   "execution_count": null,
   "id": "1da12b4e-2fcf-468a-b97e-ff64911ab245",
   "metadata": {},
   "outputs": [],
   "source": []
  },
  {
   "cell_type": "code",
   "execution_count": null,
   "id": "36c1cecd-4fa6-41e7-8b33-4b7468e09e19",
   "metadata": {},
   "outputs": [],
   "source": []
  },
  {
   "cell_type": "code",
   "execution_count": null,
   "id": "bb955f69-4ea2-4bfe-a153-bb731ed4482a",
   "metadata": {},
   "outputs": [],
   "source": []
  },
  {
   "cell_type": "code",
   "execution_count": null,
   "id": "8e600e3a-79ce-427b-a6cf-21948f3fd07c",
   "metadata": {},
   "outputs": [],
   "source": []
  },
  {
   "cell_type": "code",
   "execution_count": null,
   "id": "b3deafaf-c483-47f9-b245-8061798ee94f",
   "metadata": {},
   "outputs": [],
   "source": []
  },
  {
   "cell_type": "code",
   "execution_count": null,
   "id": "0df67d96-0b6c-47fe-aff9-7316cbc53439",
   "metadata": {},
   "outputs": [],
   "source": []
  },
  {
   "cell_type": "code",
   "execution_count": null,
   "id": "0146c7ca-e7e2-4b37-9872-7d2fa42b60ac",
   "metadata": {},
   "outputs": [],
   "source": []
  }
 ],
 "metadata": {
  "kernelspec": {
   "display_name": "Ruby 3.1.3",
   "language": "ruby",
   "name": "ruby"
  },
  "language_info": {
   "file_extension": ".rb",
   "mimetype": "application/x-ruby",
   "name": "ruby",
   "version": "3.1.3"
  }
 },
 "nbformat": 4,
 "nbformat_minor": 5
}
