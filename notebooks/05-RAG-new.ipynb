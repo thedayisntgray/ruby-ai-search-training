{
 "cells": [
  {
   "cell_type": "code",
   "execution_count": 17,
   "id": "21551178",
   "metadata": {},
   "outputs": [
    {
     "data": {
      "text/plain": [
       "false"
      ]
     },
     "execution_count": 17,
     "metadata": {},
     "output_type": "execute_result"
    }
   ],
   "source": [
    "gem 'httparty'\n",
    "gem 'numo-narray'\n",
    "gem 'ruby-openai'\n",
    "gem 'faiss'"
   ]
  },
  {
   "cell_type": "code",
   "execution_count": 18,
   "id": "0cac0eae",
   "metadata": {},
   "outputs": [
    {
     "data": {
      "text/plain": [
       "false"
      ]
     },
     "execution_count": 18,
     "metadata": {},
     "output_type": "execute_result"
    }
   ],
   "source": [
    "require 'httparty'\n",
    "require 'numo/narray'\n",
    "require 'openai'\n",
    "require 'faiss'\n",
    "require 'matrix'\n",
    "require 'io/console'\n",
    "require 'dotenv'"
   ]
  },
  {
   "cell_type": "code",
   "execution_count": 24,
   "id": "444bf29c-08ef-4c69-b9e1-e451d3f97a63",
   "metadata": {},
   "outputs": [],
   "source": [
    "Dotenv.load\n",
    "nil"
   ]
  },
  {
   "cell_type": "code",
   "execution_count": 20,
   "id": "1265846b",
   "metadata": {},
   "outputs": [
    {
     "data": {
      "text/plain": [
       "75014"
      ]
     },
     "execution_count": 20,
     "metadata": {},
     "output_type": "execute_result"
    }
   ],
   "source": [
    "response = HTTParty.get('https://raw.githubusercontent.com/run-llama/llama_index/main/docs/docs/examples/data/paul_graham/paul_graham_essay.txt')\n",
    "text = response.body\n",
    "\n",
    "File.open('essay.txt', 'w') { |file| file.write(text) }\n",
    "\n",
    "text.length"
   ]
  },
  {
   "cell_type": "code",
   "execution_count": 21,
   "id": "56bca444",
   "metadata": {},
   "outputs": [
    {
     "data": {
      "text/plain": [
       "37"
      ]
     },
     "execution_count": 21,
     "metadata": {},
     "output_type": "execute_result"
    }
   ],
   "source": [
    "chunk_size = 2048\n",
    "chunks = text.chars.each_slice(chunk_size).map(&:join)\n",
    "chunks.length"
   ]
  },
  {
   "cell_type": "code",
   "execution_count": 25,
   "id": "ddf3ce5f",
   "metadata": {},
   "outputs": [
    {
     "data": {
      "text/plain": [
       "[37, 1536]"
      ]
     },
     "execution_count": 25,
     "metadata": {},
     "output_type": "execute_result"
    }
   ],
   "source": [
    "client = OpenAI::Client.new(\n",
    " access_token: ENV['OPENAI_API_KEY'],\n",
    " request_options: {\n",
    "   headers: {\n",
    "     'Authorization': \"Bearer #{ENV['OPENAI_API_KEY']}\"\n",
    "   }\n",
    " }\n",
    ")\n",
    "\n",
    "def get_text_embedding(client, input)\n",
    "  response = client.embeddings(\n",
    "    parameters: {\n",
    "      model: 'text-embedding-3-small',\n",
    "      input: input\n",
    "    }\n",
    "  )\n",
    "  response.dig('data', 0, 'embedding')\n",
    "end\n",
    "\n",
    "text_embeddings = chunks.map { |chunk| get_text_embedding(client, chunk) }\n",
    "text_embeddings = Numo::DFloat[*text_embeddings]\n",
    "text_embeddings.shape"
   ]
  },
  {
   "cell_type": "code",
   "execution_count": 26,
   "id": "a2631135",
   "metadata": {},
   "outputs": [],
   "source": [
    "d = text_embeddings.shape[1]\n",
    "index = Faiss::IndexFlatL2.new(d)\n",
    "index.add(text_embeddings)"
   ]
  },
  {
   "cell_type": "code",
   "execution_count": 27,
   "id": "02bc973f",
   "metadata": {},
   "outputs": [
    {
     "data": {
      "text/plain": [
       "[1, 1536]"
      ]
     },
     "execution_count": 27,
     "metadata": {},
     "output_type": "execute_result"
    }
   ],
   "source": [
    "question = \"What were the two main things the author worked on before college?\"\n",
    "question_embedding = get_text_embedding(client, question)\n",
    "question_embeddings = Numo::DFloat[question_embedding]\n",
    "question_embeddings.shape"
   ]
  },
  {
   "cell_type": "code",
   "execution_count": 28,
   "id": "c4a7a55f",
   "metadata": {},
   "outputs": [
    {
     "data": {
      "text/plain": [
       "[\"\\n\\nWhat I Worked On\\n\\nFebruary 2021\\n\\nBefore college the two main things I worked on, outside of school, were writing and programming. I didn't write essays. I wrote what beginning writers were supposed to write then, and probably still are: short stories. My stories were awful. They had hardly any plot, just characters with strong feelings, which I imagined made them deep.\\n\\nThe first programs I tried writing were on the IBM 1401 that our school district used for what was then called \\\"data processing.\\\" This was in 9th grade, so I was 13 or 14. The school district's 1401 happened to be in the basement of our junior high school, and my friend Rich Draves and I got permission to use it. It was like a mini Bond villain's lair down there, with all these alien-looking machines — CPU, disk drives, printer, card reader — sitting up on a raised floor under bright fluorescent lights.\\n\\nThe language we used was an early version of Fortran. You had to type programs on punch cards, then stack them in the card reader and press a button to load the program into memory and run it. The result would ordinarily be to print something on the spectacularly loud printer.\\n\\nI was puzzled by the 1401. I couldn't figure out what to do with it. And in retrospect there's not much I could have done with it. The only form of input to programs was data stored on punched cards, and I didn't have any data stored on punched cards. The only other option was to do things that didn't rely on any input, like calculate approximations of pi, but I didn't know enough math to do anything interesting of that type. So I'm not surprised I can't remember any programs I wrote, because they can't have done much. My clearest memory is of the moment I learned it was possible for programs not to terminate, when one of mine didn't. On a machine without time-sharing, this was a social as well as a technical error, as the data center manager's expression made clear.\\n\\nWith microcomputers, everything changed. Now you could have a computer sitting right in front of you, on \", \" But by this point I knew enough to find that encouraging instead of discouraging.\\n\\nOne of the most conspicuous patterns I've noticed in my life is how well it has worked, for me at least, to work on things that weren't prestigious. Still life has always been the least prestigious form of painting. Viaweb and Y Combinator both seemed lame when we started them. I still get the glassy eye from strangers when they ask what I'm writing, and I explain that it's an essay I'm going to publish on my web site. Even Lisp, though prestigious intellectually in something like the way Latin is, also seems about as hip.\\n\\nIt's not that unprestigious types of work are good per se. But when you find yourself drawn to some kind of work despite its current lack of prestige, it's a sign both that there's something real to be discovered there, and that you have the right kind of motives. Impure motives are a big danger for the ambitious. If anything is going to lead you astray, it will be the desire to impress people. So while working on things that aren't prestigious doesn't guarantee you're on the right track, it at least guarantees you're not on the most common type of wrong one.\\n\\nOver the next several years I wrote lots of essays about all kinds of different topics. O'Reilly reprinted a collection of them as a book, called Hackers & Painters after one of the essays in it. I also worked on spam filters, and did some more painting. I used to have dinners for a group of friends every thursday night, which taught me how to cook for groups. And I bought another building in Cambridge, a former candy factory (and later, twas said, porn studio), to use as an office.\\n\\nOne night in October 2003 there was a big party at my house. It was a clever idea of my friend Maria Daniels, who was one of the thursday diners. Three separate hosts would all invite their friends to one party. So for every guest, two thirds of the other guests would be people they didn't know but would probably like. One of the guests was someone I didn't know but would tur\"]"
      ]
     },
     "execution_count": 28,
     "metadata": {},
     "output_type": "execute_result"
    }
   ],
   "source": [
    "distances, indices = index.search(question_embeddings, 2)\n",
    "index_array = indices.to_a[0]\n",
    "retrieved_chunks = index_array.map { |i| chunks[i] }"
   ]
  },
  {
   "cell_type": "code",
   "execution_count": 29,
   "id": "fdbe5cc0",
   "metadata": {},
   "outputs": [
    {
     "name": "stdout",
     "output_type": "stream",
     "text": [
      "The two main things the author worked on before college were writing and programming.\n"
     ]
    }
   ],
   "source": [
    "prompt = <<-PROMPT\n",
    "Context information is below.\n",
    "---------------------\n",
    "#{retrieved_chunks.join(\"\\n---------------------\\n\")}\n",
    "---------------------\n",
    "Given the context information and not prior knowledge, answer the query.\n",
    "Query: #{question}\n",
    "Answer:\n",
    "PROMPT\n",
    "\n",
    "def run_completion(client, user_message, model: 'gpt-3.5-turbo')\n",
    "  response = client.chat(\n",
    "    parameters: {\n",
    "      model: model,\n",
    "      messages: [{ role: 'user', content: user_message }],\n",
    "      temperature: 0.7\n",
    "    }\n",
    "  )\n",
    "  response.dig('choices', 0, 'message', 'content')\n",
    "end\n",
    "\n",
    "puts run_completion(client, prompt)"
   ]
  },
  {
   "cell_type": "code",
   "execution_count": null,
   "id": "c30192bf-b1fb-4fb7-8fa0-b8f7fa7595fc",
   "metadata": {},
   "outputs": [],
   "source": []
  },
  {
   "cell_type": "code",
   "execution_count": null,
   "id": "52472531-1b26-4738-9c01-7018d29199c7",
   "metadata": {},
   "outputs": [],
   "source": []
  },
  {
   "cell_type": "code",
   "execution_count": null,
   "id": "40b2e0cf-27db-4572-90f5-84dd5430a791",
   "metadata": {},
   "outputs": [],
   "source": []
  },
  {
   "cell_type": "code",
   "execution_count": null,
   "id": "1d2b9b12-0e37-4c57-84a4-da6f7ddc5f84",
   "metadata": {},
   "outputs": [],
   "source": []
  }
 ],
 "metadata": {
  "kernelspec": {
   "display_name": "Ruby 3.1.3",
   "language": "ruby",
   "name": "ruby"
  },
  "language_info": {
   "file_extension": ".rb",
   "mimetype": "application/x-ruby",
   "name": "ruby",
   "version": "3.1.3"
  }
 },
 "nbformat": 4,
 "nbformat_minor": 5
}
