{
 "cells": [
  {
   "cell_type": "markdown",
   "id": "84a25145-4603-48e6-94a9-0b1539d3d990",
   "metadata": {},
   "source": [
    "# Lab 7"
   ]
  },
  {
   "cell_type": "code",
   "execution_count": 57,
   "id": "34b10926-169b-4172-9c7e-cb5eee4a6790",
   "metadata": {},
   "outputs": [],
   "source": [
    "# Install in Docker\n",
    "# apt-get update\n",
    "# apt-get install -y libmagickwand-dev\n",
    "# gem install rmagick"
   ]
  },
  {
   "cell_type": "code",
   "execution_count": 6,
   "id": "a0eaaaf1-dccf-44fe-a681-9b49588cba16",
   "metadata": {},
   "outputs": [
    {
     "data": {
      "text/plain": [
       "true"
      ]
     },
     "execution_count": 6,
     "metadata": {},
     "output_type": "execute_result"
    }
   ],
   "source": [
    "require 'httparty'\n",
    "require 'zip'\n",
    "require 'torch-rb'\n",
    "require 'transformers-rb'\n",
    "require \"onnxruntime\"\n",
    "require 'rmagick'\n",
    "\n",
    "\n"
   ]
  },
  {
   "cell_type": "markdown",
   "id": "46e1fa3d-cbaa-4d94-bda5-4d287dc46809",
   "metadata": {},
   "source": [
    "## Get the image dataset (interiors of houses)\n",
    "\n",
    "- Source: https://www.kaggle.com/datasets/mikhailma/house-rooms-streets-image-dataset/data\n",
    "- Cached: https://max.io/house_data_png.zip (resized to 256x256 and converted to PNG)\n",
    "- License: CC-0 Public Domain"
   ]
  },
  {
   "cell_type": "code",
   "execution_count": 7,
   "id": "328ec361-c278-4cb5-9c82-878c92668260",
   "metadata": {},
   "outputs": [
    {
     "name": "stdout",
     "output_type": "stream",
     "text": [
      "Extracted 5249 images\n"
     ]
    }
   ],
   "source": [
    "# Function to download and extract the zip file\n",
    "def download_and_extract_zip(url, extract_to: '.')\n",
    "    puts \"Downloading and extracting #{url}\"\n",
    "    response = HTTParty.get(url)\n",
    "    Zip::File.open_buffer(response.body) do |zip_file|\n",
    "        zip_file.each do |entry|\n",
    "            entry.extract(File.join(extract_to, entry.name))\n",
    "        end\n",
    "    end\n",
    "end\n",
    "\n",
    "# Download and extract the example images\n",
    "# url = \"https://max.io/house_data_png.zip\"\n",
    "# download_and_extract_zip(url)\n",
    "image_dir = 'house_data_png'\n",
    "image_paths = Dir[File.join(image_dir, '*')]\n",
    "# puts image_paths\n",
    "puts \"Extracted #{image_paths.length} images\""
   ]
  },
  {
   "cell_type": "code",
   "execution_count": 8,
   "id": "1ea09f4a-285a-4a38-8973-cb385494b851",
   "metadata": {},
   "outputs": [
    {
     "name": "stdout",
     "output_type": "stream",
     "text": [
      "house_data_png\n"
     ]
    }
   ],
   "source": [
    "puts image_dir"
   ]
  },
  {
   "cell_type": "code",
   "execution_count": null,
   "id": "13414644-6c22-4d11-b3ee-4468d191c4d6",
   "metadata": {},
   "outputs": [],
   "source": []
  },
  {
   "cell_type": "code",
   "execution_count": 9,
   "id": "f6185f03-fc2c-4aec-ba99-eb78d43f8d5d",
   "metadata": {},
   "outputs": [],
   "source": [
    "# # Load our model\n",
    "# model, transform, preprocess = OpenClip.create_model_and_transforms('ViT-B-32', pretrained: 'openai')\n",
    "\n",
    "# # Print the model architecture\n",
    "# model.eval\n",
    "# puts model"
   ]
  },
  {
   "cell_type": "code",
   "execution_count": 10,
   "id": "a5b03437-1fdf-4497-bc98-51b0b4dfb49c",
   "metadata": {},
   "outputs": [
    {
     "data": {
      "text/plain": [
       "#<OnnxRuntime::Model:0x00007ffff837d610 @session=#<OnnxRuntime::InferenceSession:0x00007ffff837d4d0 @session=#<FFI::MemoryPointer address=0x000055555988f810 size=8>, @allocator=#<FFI::MemoryPointer address=0x000055555a8babf0 size=8>, @inputs=[{:name=>\"IMAGE\", :type=>\"tensor(float)\", :shape=>[\"image_batch_size\", 3, 224, 224]}, {:name=>\"TEXT\", :type=>\"tensor(int32)\", :shape=>[\"text_batch_size\", 77]}], @outputs=[{:name=>\"LOGITS_PER_IMAGE\", :type=>\"tensor(float)\", :shape=>[\"image_batch_size\", \"text_batch_size\"]}, {:name=>\"LOGITS_PER_TEXT\", :type=>\"tensor(float)\", :shape=>[\"text_batch_size\", \"image_batch_size\"]}]>>"
      ]
     },
     "execution_count": 10,
     "metadata": {},
     "output_type": "execute_result"
    }
   ],
   "source": [
    "# From notebook 07c\n",
    "model = OnnxRuntime::Model.new(\"clip_vit.onnx\")\n",
    "\n",
    "\n"
   ]
  },
  {
   "cell_type": "code",
   "execution_count": 11,
   "id": "25cca691-9d0f-47a0-96f3-fce9c5aef3c2",
   "metadata": {},
   "outputs": [
    {
     "data": {
      "text/plain": [
       "[{:name=>\"IMAGE\", :type=>\"tensor(float)\", :shape=>[\"image_batch_size\", 3, 224, 224]}, {:name=>\"TEXT\", :type=>\"tensor(int32)\", :shape=>[\"text_batch_size\", 77]}]"
      ]
     },
     "execution_count": 11,
     "metadata": {},
     "output_type": "execute_result"
    }
   ],
   "source": [
    "model.inputs"
   ]
  },
  {
   "cell_type": "code",
   "execution_count": 12,
   "id": "bfd97065-d475-4f2b-9c1e-3cb60c6a3b3e",
   "metadata": {},
   "outputs": [
    {
     "data": {
      "text/plain": [
       "[{:name=>\"LOGITS_PER_IMAGE\", :type=>\"tensor(float)\", :shape=>[\"image_batch_size\", \"text_batch_size\"]}, {:name=>\"LOGITS_PER_TEXT\", :type=>\"tensor(float)\", :shape=>[\"text_batch_size\", \"image_batch_size\"]}]"
      ]
     },
     "execution_count": 12,
     "metadata": {},
     "output_type": "execute_result"
    }
   ],
   "source": [
    "model.outputs"
   ]
  },
  {
   "cell_type": "code",
   "execution_count": 13,
   "id": "c656b9e9-b0a0-435f-a074-60a7eb65c3f6",
   "metadata": {},
   "outputs": [
    {
     "data": {
      "text/plain": [
       "{:custom_metadata_map=>{}, :description=>\"\", :domain=>\"\", :graph_name=>\"main_graph\", :graph_description=>\"\", :producer_name=>\"pytorch\", :version=>9223372036854775807}"
      ]
     },
     "execution_count": 13,
     "metadata": {},
     "output_type": "execute_result"
    }
   ],
   "source": [
    "model.metadata\n"
   ]
  },
  {
   "cell_type": "code",
   "execution_count": 14,
   "id": "002c5044-fd0b-412d-8be8-45c4018ccc07",
   "metadata": {},
   "outputs": [
    {
     "data": {
      "text/plain": [
       "Numo::SFloat#shape=[5]\n",
       "[1, 1, 1, 1, 1]"
      ]
     },
     "execution_count": 14,
     "metadata": {},
     "output_type": "execute_result"
    }
   ],
   "source": [
    "a = Torch.ones(5)\n",
    "a.numo"
   ]
  },
  {
   "cell_type": "code",
   "execution_count": 15,
   "id": "ba939358-fc0d-42fc-b329-038a1005b12e",
   "metadata": {},
   "outputs": [
    {
     "data": {
      "text/plain": [
       "tensor([1, 2, 3], dtype: :int32)"
      ]
     },
     "execution_count": 15,
     "metadata": {},
     "output_type": "execute_result"
    }
   ],
   "source": [
    "b = Numo::NArray.cast([1, 2, 3])\n",
    "Torch.from_numo(b)"
   ]
  },
  {
   "cell_type": "code",
   "execution_count": 16,
   "id": "8f86c3df-6a9b-4313-8fd6-202a141aeea6",
   "metadata": {},
   "outputs": [
    {
     "name": "stdout",
     "output_type": "stream",
     "text": [
      "Image paths: [\"house_data_png/bath_100.png\", \"house_data_png/bath_1001.png\", \"house_data_png/bath_1003.png\", \"house_data_png/bath_1004.png\", \"house_data_png/bath_1005.png\", \"house_data_png/bath_1006.png\", \"house_data_png/bath_1007.png\", \"house_data_png/bath_1010.png\", \"house_data_png/bath_1011.png\", \"house_data_png/bath_1012.png\", \"house_data_png/bath_1013.png\", \"house_data_png/bath_1014.png\", \"house_data_png/bath_1016.png\", \"house_data_png/bath_1018.png\", \"house_data_png/bath_1025.png\", \"house_data_png/bath_1026.png\", \"house_data_png/bath_1028.png\", \"house_data_png/bath_1029.png\", \"house_data_png/bath_103.png\", \"house_data_png/bath_1030.png\", \"house_data_png/bath_1031.png\", \"house_data_png/bath_1034.png\", \"house_data_png/bath_1035.png\", \"house_data_png/bath_1036.png\", \"house_data_png/bath_1038.png\", \"house_data_png/bath_1039.png\", \"house_data_png/bath_104.png\", \"house_data_png/bath_1041.png\", \"house_data_png/bath_1044.png\", \"house_data_png/bath_1046.png\", \"house_data_png/bath_105.png\", \"house_data_png/bath_1053.png\", \"house_data_png/bath_1055.png\", \"house_data_png/bath_1056.png\", \"house_data_png/bath_1057.png\", \"house_data_png/bath_1058.png\", \"house_data_png/bath_1059.png\", \"house_data_png/bath_1063.png\", \"house_data_png/bath_1069.png\", \"house_data_png/bath_1070.png\", \"house_data_png/bath_1071.png\", \"house_data_png/bath_1072.png\", \"house_data_png/bath_1073.png\", \"house_data_png/bath_1074.png\", \"house_data_png/bath_1075.png\", \"house_data_png/bath_1077.png\", \"house_data_png/bath_1080.png\", \"house_data_png/bath_1082.png\", \"house_data_png/bath_1085.png\", \"house_data_png/bath_1088.png\", \"house_data_png/bath_109.png\", \"house_data_png/bath_1090.png\", \"house_data_png/bath_1091.png\", \"house_data_png/bath_1092.png\", \"house_data_png/bath_1095.png\", \"house_data_png/bath_1098.png\", \"house_data_png/bath_1099.png\", \"house_data_png/bath_11.png\", \"house_data_png/bath_111.png\", \"house_data_png/bath_1111.png\", \"house_data_png/bath_1115.png\", \"house_data_png/bath_1117.png\", \"house_data_png/bath_1119.png\", \"house_data_png/bath_112.png\", \"house_data_png/bath_1124.png\", \"house_data_png/bath_1127.png\", \"house_data_png/bath_1129.png\", \"house_data_png/bath_1131.png\", \"house_data_png/bath_1133.png\", \"house_data_png/bath_1134.png\", \"house_data_png/bath_1136.png\", \"house_data_png/bath_1138.png\", \"house_data_png/bath_1139.png\", \"house_data_png/bath_114.png\", \"house_data_png/bath_1140.png\", \"house_data_png/bath_1141.png\", \"house_data_png/bath_1143.png\", \"house_data_png/bath_1144.png\", \"house_data_png/bath_1148.png\", \"house_data_png/bath_1149.png\", \"house_data_png/bath_115.png\", \"house_data_png/bath_1150.png\", \"house_data_png/bath_1153.png\", \"house_data_png/bath_1155.png\", \"house_data_png/bath_1158.png\", \"house_data_png/bath_1162.png\", \"house_data_png/bath_1163.png\", \"house_data_png/bath_1164.png\", \"house_data_png/bath_1167.png\", \"house_data_png/bath_1169.png\", \"house_data_png/bath_1170.png\", \"house_data_png/bath_1171.png\", \"house_data_png/bath_1172.png\", \"house_data_png/bath_1173.png\", \"house_data_png/bath_1174.png\", \"house_data_png/bath_1178.png\", \"house_data_png/bath_1180.png\", \"house_data_png/bath_1182.png\", \"house_data_png/bath_1183.png\", \"house_data_png/bath_1187.png\", \"house_data_png/bath_1188.png\", \"house_data_png/bath_1189.png\", \"house_data_png/bath_1191.png\", \"house_data_png/bath_1192.png\", \"house_data_png/bath_1193.png\", \"house_data_png/bath_1194.png\", \"house_data_png/bath_1196.png\", \"house_data_png/bath_1197.png\", \"house_data_png/bath_1198.png\", \"house_data_png/bath_1199.png\", \"house_data_png/bath_1203.png\", \"house_data_png/bath_1207.png\", \"house_data_png/bath_121.png\", \"house_data_png/bath_1212.png\", \"house_data_png/bath_1214.png\", \"house_data_png/bath_1215.png\", \"house_data_png/bath_1217.png\", \"house_data_png/bath_1219.png\", \"house_data_png/bath_1220.png\", \"house_data_png/bath_1225.png\", \"house_data_png/bath_1228.png\", \"house_data_png/bath_1229.png\", \"house_data_png/bath_1230.png\", \"house_data_png/bath_1232.png\", \"house_data_png/bath_1234.png\", \"house_data_png/bath_1235.png\", \"house_data_png/bath_1236.png\", \"house_data_png/bath_1238.png\", \"house_data_png/bath_1239.png\", \"house_data_png/bath_1247.png\", \"house_data_png/bath_1248.png\", \"house_data_png/bath_1249.png\", \"house_data_png/bath_125.png\", \"house_data_png/bath_1250.png\", \"house_data_png/bath_1253.png\", \"house_data_png/bath_1255.png\", \"house_data_png/bath_1256.png\", \"house_data_png/bath_1257.png\", \"house_data_png/bath_1259.png\", \"house_data_png/bath_126.png\", \"house_data_png/bath_1260.png\", \"house_data_png/bath_1262.png\", \"house_data_png/bath_1263.png\", \"house_data_png/bath_1267.png\", \"house_data_png/bath_1268.png\", \"house_data_png/bath_1269.png\", \"house_data_png/bath_127.png\", \"house_data_png/bath_1270.png\", \"house_data_png/bath_1272.png\", \"house_data_png/bath_1274.png\", \"house_data_png/bath_1276.png\", \"house_data_png/bath_1277.png\", \"house_data_png/bath_1279.png\", \"house_data_png/bath_1280.png\", \"house_data_png/bath_1281.png\", \"house_data_png/bath_1283.png\", \"house_data_png/bath_1284.png\", \"house_data_png/bath_1286.png\", \"house_data_png/bath_1287.png\", \"house_data_png/bath_1288.png\", \"house_data_png/bath_1289.png\", \"house_data_png/bath_129.png\", \"house_data_png/bath_1290.png\", \"house_data_png/bath_1292.png\", \"house_data_png/bath_1294.png\", \"house_data_png/bath_1295.png\", \"house_data_png/bath_1299.png\", \"house_data_png/bath_13.png\", \"house_data_png/bath_130.png\", \"house_data_png/bath_1300.png\", \"house_data_png/bath_133.png\", \"house_data_png/bath_134.png\", \"house_data_png/bath_136.png\", \"house_data_png/bath_137.png\", \"house_data_png/bath_139.png\", \"house_data_png/bath_143.png\", \"house_data_png/bath_145.png\", \"house_data_png/bath_147.png\", \"house_data_png/bath_15.png\", \"house_data_png/bath_151.png\", \"house_data_png/bath_152.png\", \"house_data_png/bath_155.png\", \"house_data_png/bath_156.png\", \"house_data_png/bath_157.png\", \"house_data_png/bath_158.png\", \"house_data_png/bath_159.png\", \"house_data_png/bath_160.png\", \"house_data_png/bath_162.png\", \"house_data_png/bath_163.png\", \"house_data_png/bath_164.png\", \"house_data_png/bath_165.png\", \"house_data_png/bath_166.png\", \"house_data_png/bath_167.png\", \"house_data_png/bath_168.png\", \"house_data_png/bath_169.png\", \"house_data_png/bath_17.png\", \"house_data_png/bath_174.png\", \"house_data_png/bath_177.png\", \"house_data_png/bath_178.png\", \"house_data_png/bath_179.png\", \"house_data_png/bath_180.png\", \"house_data_png/bath_182.png\", \"house_data_png/bath_184.png\", \"house_data_png/bath_185.png\", \"house_data_png/bath_187.png\", \"house_data_png/bath_19.png\", \"house_data_png/bath_2.png\", \"house_data_png/bath_20.png\", \"house_data_png/bath_21.png\", \"house_data_png/bath_233.png\", \"house_data_png/bath_235.png\", \"house_data_png/bath_24.png\", \"house_data_png/bath_240.png\", \"house_data_png/bath_25.png\", \"house_data_png/bath_254.png\", \"house_data_png/bath_26.png\", \"house_data_png/bath_262.png\", \"house_data_png/bath_264.png\", \"house_data_png/bath_267.png\", \"house_data_png/bath_268.png\", \"house_data_png/bath_27.png\", \"house_data_png/bath_272.png\", \"house_data_png/bath_273.png\", \"house_data_png/bath_274.png\", \"house_data_png/bath_275.png\", \"house_data_png/bath_280.png\", \"house_data_png/bath_281.png\", \"house_data_png/bath_282.png\", \"house_data_png/bath_283.png\", \"house_data_png/bath_284.png\", \"house_data_png/bath_285.png\", \"house_data_png/bath_286.png\", \"house_data_png/bath_288.png\", \"house_data_png/bath_290.png\", \"house_data_png/bath_291.png\", \"house_data_png/bath_295.png\", \"house_data_png/bath_296.png\", \"house_data_png/bath_297.png\", \"house_data_png/bath_298.png\", \"house_data_png/bath_299.png\", \"house_data_png/bath_3.png\", \"house_data_png/bath_300.png\", \"house_data_png/bath_303.png\", \"house_data_png/bath_305.png\", \"house_data_png/bath_31.png\", \"house_data_png/bath_320.png\", \"house_data_png/bath_321.png\", \"house_data_png/bath_323.png\", \"house_data_png/bath_324.png\", \"house_data_png/bath_325.png\", \"house_data_png/bath_331.png\", \"house_data_png/bath_333.png\", \"house_data_png/bath_334.png\", \"house_data_png/bath_336.png\", \"house_data_png/bath_339.png\", \"house_data_png/bath_34.png\", \"house_data_png/bath_340.png\", \"house_data_png/bath_341.png\", \"house_data_png/bath_342.png\", \"house_data_png/bath_343.png\", \"house_data_png/bath_346.png\", \"house_data_png/bath_348.png\", \"house_data_png/bath_349.png\", \"house_data_png/bath_350.png\", \"house_data_png/bath_351.png\", \"house_data_png/bath_354.png\", \"house_data_png/bath_355.png\", \"house_data_png/bath_36.png\", \"house_data_png/bath_361.png\", \"house_data_png/bath_362.png\", \"house_data_png/bath_363.png\", \"house_data_png/bath_364.png\", \"house_data_png/bath_365.png\", \"house_data_png/bath_368.png\", \"house_data_png/bath_369.png\", \"house_data_png/bath_376.png\", \"house_data_png/bath_38.png\", \"house_data_png/bath_381.png\", \"house_data_png/bath_383.png\", \"house_data_png/bath_384.png\", \"house_data_png/bath_386.png\", \"house_data_png/bath_389.png\", \"house_data_png/bath_390.png\", \"house_data_png/bath_392.png\", \"house_data_png/bath_393.png\", \"house_data_png/bath_394.png\", \"house_data_png/bath_395.png\", \"house_data_png/bath_396.png\", \"house_data_png/bath_400.png\", \"house_data_png/bath_401.png\", \"house_data_png/bath_402.png\", \"house_data_png/bath_404.png\", \"house_data_png/bath_406.png\", \"house_data_png/bath_408.png\", \"house_data_png/bath_409.png\", \"house_data_png/bath_41.png\", \"house_data_png/bath_410.png\", \"house_data_png/bath_413.png\", \"house_data_png/bath_415.png\", \"house_data_png/bath_416.png\", \"house_data_png/bath_417.png\", \"house_data_png/bath_418.png\", \"house_data_png/bath_419.png\", \"house_data_png/bath_42.png\", \"house_data_png/bath_424.png\", \"house_data_png/bath_425.png\", \"house_data_png/bath_427.png\", \"house_data_png/bath_439.png\", \"house_data_png/bath_441.png\", \"house_data_png/bath_447.png\", \"house_data_png/bath_450.png\", \"house_data_png/bath_451.png\", \"house_data_png/bath_452.png\", \"house_data_png/bath_453.png\", \"house_data_png/bath_456.png\", \"house_data_png/bath_458.png\", \"house_data_png/bath_459.png\", \"house_data_png/bath_461.png\", \"house_data_png/bath_462.png\", \"house_data_png/bath_463.png\", \"house_data_png/bath_464.png\", \"house_data_png/bath_466.png\", \"house_data_png/bath_47.png\", \"house_data_png/bath_470.png\", \"house_data_png/bath_471.png\", \"house_data_png/bath_485.png\", \"house_data_png/bath_486.png\", \"house_data_png/bath_488.png\", \"house_data_png/bath_49.png\", \"house_data_png/bath_496.png\", \"house_data_png/bath_497.png\", \"house_data_png/bath_5.png\", \"house_data_png/bath_50.png\", \"house_data_png/bath_507.png\", \"house_data_png/bath_51.png\", \"house_data_png/bath_516.png\", \"house_data_png/bath_52.png\", \"house_data_png/bath_527.png\", \"house_data_png/bath_528.png\", \"house_data_png/bath_529.png\", \"house_data_png/bath_531.png\", \"house_data_png/bath_532.png\", \"house_data_png/bath_536.png\", \"house_data_png/bath_537.png\", \"house_data_png/bath_540.png\", \"house_data_png/bath_541.png\", \"house_data_png/bath_543.png\", \"house_data_png/bath_545.png\", \"house_data_png/bath_546.png\", \"house_data_png/bath_547.png\", \"house_data_png/bath_549.png\", \"house_data_png/bath_55.png\", \"house_data_png/bath_550.png\", \"house_data_png/bath_552.png\", \"house_data_png/bath_556.png\", \"house_data_png/bath_557.png\", \"house_data_png/bath_558.png\", \"house_data_png/bath_559.png\", \"house_data_png/bath_56.png\", \"house_data_png/bath_561.png\", \"house_data_png/bath_563.png\", \"house_data_png/bath_566.png\", \"house_data_png/bath_567.png\", \"house_data_png/bath_568.png\", \"house_data_png/bath_573.png\", \"house_data_png/bath_575.png\", \"house_data_png/bath_576.png\", \"house_data_png/bath_577.png\", \"house_data_png/bath_581.png\", \"house_data_png/bath_583.png\", \"house_data_png/bath_584.png\", \"house_data_png/bath_585.png\", \"house_data_png/bath_586.png\", \"house_data_png/bath_587.png\", \"house_data_png/bath_588.png\", \"house_data_png/bath_589.png\", \"house_data_png/bath_59.png\", \"house_data_png/bath_590.png\", \"house_data_png/bath_596.png\", \"house_data_png/bath_599.png\", \"house_data_png/bath_603.png\", \"house_data_png/bath_605.png\", \"house_data_png/bath_606.png\", \"house_data_png/bath_607.png\", \"house_data_png/bath_608.png\", \"house_data_png/bath_609.png\", \"house_data_png/bath_61.png\", \"house_data_png/bath_612.png\", \"house_data_png/bath_614.png\", \"house_data_png/bath_616.png\", \"house_data_png/bath_617.png\", \"house_data_png/bath_619.png\", \"house_data_png/bath_620.png\", \"house_data_png/bath_622.png\", \"house_data_png/bath_623.png\", \"house_data_png/bath_626.png\", \"house_data_png/bath_628.png\", \"house_data_png/bath_63.png\", \"house_data_png/bath_631.png\", \"house_data_png/bath_633.png\", \"house_data_png/bath_634.png\", \"house_data_png/bath_635.png\", \"house_data_png/bath_638.png\", \"house_data_png/bath_642.png\", \"house_data_png/bath_643.png\", \"house_data_png/bath_647.png\", \"house_data_png/bath_648.png\", \"house_data_png/bath_652.png\", \"house_data_png/bath_655.png\", \"house_data_png/bath_657.png\", \"house_data_png/bath_66.png\", \"house_data_png/bath_662.png\", \"house_data_png/bath_663.png\", \"house_data_png/bath_664.png\", \"house_data_png/bath_668.png\", \"house_data_png/bath_669.png\", \"house_data_png/bath_671.png\", \"house_data_png/bath_672.png\", \"house_data_png/bath_673.png\", \"house_data_png/bath_674.png\", \"house_data_png/bath_675.png\", \"house_data_png/bath_676.png\", \"house_data_png/bath_678.png\", \"house_data_png/bath_68.png\", \"house_data_png/bath_680.png\", \"house_data_png/bath_681.png\", \"house_data_png/bath_683.png\", \"house_data_png/bath_688.png\", \"house_data_png/bath_689.png\", \"house_data_png/bath_693.png\", \"house_data_png/bath_694.png\", \"house_data_png/bath_697.png\", \"house_data_png/bath_698.png\", \"house_data_png/bath_699.png\", \"house_data_png/bath_7.png\", \"house_data_png/bath_70.png\", \"house_data_png/bath_700.png\", \"house_data_png/bath_701.png\", \"house_data_png/bath_702.png\", \"house_data_png/bath_703.png\", \"house_data_png/bath_704.png\", \"house_data_png/bath_705.png\", \"house_data_png/bath_708.png\", \"house_data_png/bath_715.png\", \"house_data_png/bath_719.png\", \"house_data_png/bath_72.png\", \"house_data_png/bath_720.png\", \"house_data_png/bath_723.png\", \"house_data_png/bath_725.png\", \"house_data_png/bath_727.png\", \"house_data_png/bath_728.png\", \"house_data_png/bath_729.png\", \"house_data_png/bath_730.png\", \"house_data_png/bath_731.png\", \"house_data_png/bath_732.png\", \"house_data_png/bath_734.png\", \"house_data_png/bath_735.png\", \"house_data_png/bath_736.png\", \"house_data_png/bath_737.png\", \"house_data_png/bath_74.png\", \"house_data_png/bath_741.png\", \"house_data_png/bath_742.png\", \"house_data_png/bath_743.png\", \"house_data_png/bath_745.png\", \"house_data_png/bath_746.png\", \"house_data_png/bath_747.png\", \"house_data_png/bath_748.png\", \"house_data_png/bath_749.png\", \"house_data_png/bath_752.png\", \"house_data_png/bath_753.png\", \"house_data_png/bath_754.png\", \"house_data_png/bath_755.png\", \"house_data_png/bath_757.png\", \"house_data_png/bath_761.png\", \"house_data_png/bath_762.png\", \"house_data_png/bath_766.png\", \"house_data_png/bath_768.png\", \"house_data_png/bath_769.png\", \"house_data_png/bath_77.png\", \"house_data_png/bath_770.png\", \"house_data_png/bath_772.png\", \"house_data_png/bath_775.png\", \"house_data_png/bath_776.png\", \"house_data_png/bath_78.png\", \"house_data_png/bath_780.png\", \"house_data_png/bath_781.png\", \"house_data_png/bath_782.png\", \"house_data_png/bath_783.png\", \"house_data_png/bath_784.png\", \"house_data_png/bath_785.png\", \"house_data_png/bath_787.png\", \"house_data_png/bath_788.png\", \"house_data_png/bath_789.png\", \"house_data_png/bath_79.png\", \"house_data_png/bath_790.png\", \"house_data_png/bath_791.png\", \"house_data_png/bath_793.png\", \"house_data_png/bath_795.png\", \"house_data_png/bath_796.png\", \"house_data_png/bath_799.png\", \"house_data_png/bath_8.png\", \"house_data_png/bath_800.png\", \"house_data_png/bath_803.png\", \"house_data_png/bath_806.png\", \"house_data_png/bath_808.png\", \"house_data_png/bath_81.png\", \"house_data_png/bath_811.png\", \"house_data_png/bath_813.png\", \"house_data_png/bath_816.png\", \"house_data_png/bath_817.png\", \"house_data_png/bath_82.png\", \"house_data_png/bath_820.png\", \"house_data_png/bath_821.png\", \"house_data_png/bath_822.png\", \"house_data_png/bath_825.png\", \"house_data_png/bath_829.png\", \"house_data_png/bath_830.png\", \"house_data_png/bath_831.png\", \"house_data_png/bath_835.png\", \"house_data_png/bath_836.png\", \"house_data_png/bath_837.png\", \"house_data_png/bath_84.png\", \"house_data_png/bath_847.png\", \"house_data_png/bath_851.png\", \"house_data_png/bath_853.png\", \"house_data_png/bath_854.png\", \"house_data_png/bath_857.png\", \"house_data_png/bath_859.png\", \"house_data_png/bath_86.png\", \"house_data_png/bath_861.png\", \"house_data_png/bath_862.png\", \"house_data_png/bath_863.png\", \"house_data_png/bath_864.png\", \"house_data_png/bath_866.png\", \"house_data_png/bath_870.png\", \"house_data_png/bath_871.png\", \"house_data_png/bath_872.png\", \"house_data_png/bath_874.png\", \"house_data_png/bath_876.png\", \"house_data_png/bath_879.png\", \"house_data_png/bath_880.png\", \"house_data_png/bath_881.png\", \"house_data_png/bath_883.png\", \"house_data_png/bath_884.png\", \"house_data_png/bath_887.png\", \"house_data_png/bath_889.png\", \"house_data_png/bath_891.png\", \"house_data_png/bath_892.png\", \"house_data_png/bath_893.png\", \"house_data_png/bath_895.png\", \"house_data_png/bath_896.png\", \"house_data_png/bath_898.png\", \"house_data_png/bath_899.png\", \"house_data_png/bath_9.png\", \"house_data_png/bath_900.png\", \"house_data_png/bath_901.png\", \"house_data_png/bath_902.png\", \"house_data_png/bath_907.png\", \"house_data_png/bath_909.png\", \"house_data_png/bath_91.png\", \"house_data_png/bath_911.png\", \"house_data_png/bath_913.png\", \"house_data_png/bath_916.png\", \"house_data_png/bath_918.png\", \"house_data_png/bath_92.png\", \"house_data_png/bath_928.png\", \"house_data_png/bath_929.png\", \"house_data_png/bath_932.png\", \"house_data_png/bath_934.png\", \"house_data_png/bath_935.png\", \"house_data_png/bath_936.png\", \"house_data_png/bath_938.png\", \"house_data_png/bath_944.png\", \"house_data_png/bath_946.png\", \"house_data_png/bath_948.png\", \"house_data_png/bath_950.png\", \"house_data_png/bath_954.png\", \"house_data_png/bath_955.png\", \"house_data_png/bath_956.png\", \"house_data_png/bath_957.png\", \"house_data_png/bath_958.png\", \"house_data_png/bath_959.png\", \"house_data_png/bath_960.png\", \"house_data_png/bath_961.png\", \"house_data_png/bath_962.png\", \"house_data_png/bath_966.png\", \"house_data_png/bath_968.png\", \"house_data_png/bath_97.png\", \"house_data_png/bath_971.png\", \"house_data_png/bath_972.png\", \"house_data_png/bath_973.png\", \"house_data_png/bath_975.png\", \"house_data_png/bath_976.png\", \"house_data_png/bath_977.png\", \"house_data_png/bath_978.png\", \"house_data_png/bath_979.png\", \"house_data_png/bath_98.png\", \"house_data_png/bath_981.png\", \"house_data_png/bath_982.png\", \"house_data_png/bath_985.png\", \"house_data_png/bath_987.png\", \"house_data_png/bath_988.png\", \"house_data_png/bath_991.png\", \"house_data_png/bath_998.png\", \"house_data_png/bath_999.png\", \"house_data_png/bed_1.png\", \"house_data_png/bed_10.png\", \"house_data_png/bed_100.png\", \"house_data_png/bed_1000.png\", \"house_data_png/bed_1001.png\", \"house_data_png/bed_1002.png\", \"house_data_png/bed_1003.png\", \"house_data_png/bed_1004.png\", \"house_data_png/bed_1005.png\", \"house_data_png/bed_1006.png\", \"house_data_png/bed_1007.png\", \"house_data_png/bed_1008.png\", \"house_data_png/bed_1009.png\", \"house_data_png/bed_101.png\", \"house_data_png/bed_1010.png\", \"house_data_png/bed_1011.png\", \"house_data_png/bed_1012.png\", \"house_data_png/bed_1013.png\", \"house_data_png/bed_1014.png\", \"house_data_png/bed_1016.png\", \"house_data_png/bed_1017.png\", \"house_data_png/bed_1018.png\", \"house_data_png/bed_1019.png\", \"house_data_png/bed_102.png\", \"house_data_png/bed_1020.png\", \"house_data_png/bed_1021.png\", \"house_data_png/bed_1022.png\", \"house_data_png/bed_1023.png\", \"house_data_png/bed_1024.png\", \"house_data_png/bed_1025.png\", \"house_data_png/bed_1026.png\", \"house_data_png/bed_1027.png\", \"house_data_png/bed_1029.png\", \"house_data_png/bed_103.png\", \"house_data_png/bed_1030.png\", \"house_data_png/bed_1031.png\", \"house_data_png/bed_1032.png\", \"house_data_png/bed_1033.png\", \"house_data_png/bed_1034.png\", \"house_data_png/bed_1035.png\", \"house_data_png/bed_1036.png\", \"house_data_png/bed_1037.png\", \"house_data_png/bed_1038.png\", \"house_data_png/bed_1039.png\", \"house_data_png/bed_104.png\", \"house_data_png/bed_1040.png\", \"house_data_png/bed_1041.png\", \"house_data_png/bed_1042.png\", \"house_data_png/bed_1043.png\", \"house_data_png/bed_1044.png\", \"house_data_png/bed_1045.png\", \"house_data_png/bed_1046.png\", \"house_data_png/bed_1047.png\", \"house_data_png/bed_1048.png\", \"house_data_png/bed_1049.png\", \"house_data_png/bed_105.png\", \"house_data_png/bed_1050.png\", \"house_data_png/bed_1051.png\", \"house_data_png/bed_1052.png\", \"house_data_png/bed_1053.png\", \"house_data_png/bed_1054.png\", \"house_data_png/bed_1055.png\", \"house_data_png/bed_1056.png\", \"house_data_png/bed_1057.png\", \"house_data_png/bed_1058.png\", \"house_data_png/bed_1059.png\", \"house_data_png/bed_106.png\", \"house_data_png/bed_1060.png\", \"house_data_png/bed_1061.png\", \"house_data_png/bed_1063.png\", \"house_data_png/bed_1064.png\", \"house_data_png/bed_1065.png\", \"house_data_png/bed_1066.png\", \"house_data_png/bed_1067.png\", \"house_data_png/bed_1068.png\", \"house_data_png/bed_107.png\", \"house_data_png/bed_1070.png\", \"house_data_png/bed_1071.png\", \"house_data_png/bed_1072.png\", \"house_data_png/bed_1073.png\", \"house_data_png/bed_1074.png\", \"house_data_png/bed_1076.png\", \"house_data_png/bed_1077.png\", \"house_data_png/bed_1078.png\", \"house_data_png/bed_1079.png\", \"house_data_png/bed_1080.png\", \"house_data_png/bed_1081.png\", \"house_data_png/bed_1082.png\", \"house_data_png/bed_1083.png\", \"house_data_png/bed_1084.png\", \"house_data_png/bed_1085.png\", \"house_data_png/bed_1087.png\", \"house_data_png/bed_109.png\", \"house_data_png/bed_1090.png\", \"house_data_png/bed_1091.png\", \"house_data_png/bed_1092.png\", \"house_data_png/bed_1093.png\", \"house_data_png/bed_1094.png\", \"house_data_png/bed_1095.png\", \"house_data_png/bed_1097.png\", \"house_data_png/bed_1098.png\", \"house_data_png/bed_11.png\", \"house_data_png/bed_110.png\", \"house_data_png/bed_1100.png\", \"house_data_png/bed_1101.png\", \"house_data_png/bed_1102.png\", \"house_data_png/bed_1103.png\", \"house_data_png/bed_1104.png\", \"house_data_png/bed_1105.png\", \"house_data_png/bed_1106.png\", \"house_data_png/bed_1107.png\", \"house_data_png/bed_1108.png\", \"house_data_png/bed_1109.png\", \"house_data_png/bed_111.png\", \"house_data_png/bed_1111.png\", \"house_data_png/bed_1112.png\", \"house_data_png/bed_1114.png\", \"house_data_png/bed_1116.png\", \"house_data_png/bed_1117.png\", \"house_data_png/bed_1118.png\", \"house_data_png/bed_1119.png\", \"house_data_png/bed_112.png\", \"house_data_png/bed_1120.png\", \"house_data_png/bed_1122.png\", \"house_data_png/bed_1123.png\", \"house_data_png/bed_1124.png\", \"house_data_png/bed_1125.png\", \"house_data_png/bed_1126.png\", \"house_data_png/bed_1129.png\", \"house_data_png/bed_113.png\", \"house_data_png/bed_1131.png\", \"house_data_png/bed_1133.png\", \"house_data_png/bed_1134.png\", \"house_data_png/bed_1135.png\", \"house_data_png/bed_1136.png\", \"house_data_png/bed_1139.png\", \"house_data_png/bed_114.png\", \"house_data_png/bed_1140.png\", \"house_data_png/bed_1141.png\", \"house_data_png/bed_1145.png\", \"house_data_png/bed_1146.png\", \"house_data_png/bed_1147.png\", \"house_data_png/bed_1148.png\", \"house_data_png/bed_115.png\", \"house_data_png/bed_1150.png\", \"house_data_png/bed_1151.png\", \"house_data_png/bed_1152.png\", \"house_data_png/bed_1153.png\", \"house_data_png/bed_1154.png\", \"house_data_png/bed_1155.png\", \"house_data_png/bed_1156.png\", \"house_data_png/bed_1157.png\", \"house_data_png/bed_1158.png\", \"house_data_png/bed_116.png\", \"house_data_png/bed_1160.png\", \"house_data_png/bed_1161.png\", \"house_data_png/bed_1162.png\", \"house_data_png/bed_1163.png\", \"house_data_png/bed_1164.png\", \"house_data_png/bed_1167.png\", \"house_data_png/bed_1168.png\", \"house_data_png/bed_1169.png\", \"house_data_png/bed_117.png\", \"house_data_png/bed_1170.png\", \"house_data_png/bed_1171.png\", \"house_data_png/bed_1172.png\", \"house_data_png/bed_1174.png\", \"house_data_png/bed_1176.png\", \"house_data_png/bed_1177.png\", \"house_data_png/bed_1178.png\", \"house_data_png/bed_118.png\", \"house_data_png/bed_1180.png\", \"house_data_png/bed_1181.png\", \"house_data_png/bed_1183.png\", \"house_data_png/bed_1184.png\", \"house_data_png/bed_1185.png\", \"house_data_png/bed_1186.png\", \"house_data_png/bed_1187.png\", \"house_data_png/bed_1189.png\", \"house_data_png/bed_119.png\", \"house_data_png/bed_1190.png\", \"house_data_png/bed_1191.png\", \"house_data_png/bed_1192.png\", \"house_data_png/bed_1194.png\", \"house_data_png/bed_1195.png\", \"house_data_png/bed_1196.png\", \"house_data_png/bed_1197.png\", \"house_data_png/bed_1198.png\", \"house_data_png/bed_1199.png\", \"house_data_png/bed_12.png\", \"house_data_png/bed_120.png\", \"house_data_png/bed_1200.png\", \"house_data_png/bed_1202.png\", \"house_data_png/bed_1203.png\", \"house_data_png/bed_1205.png\", \"house_data_png/bed_1206.png\", \"house_data_png/bed_1207.png\", \"house_data_png/bed_1208.png\", \"house_data_png/bed_121.png\", \"house_data_png/bed_1211.png\", \"house_data_png/bed_1212.png\", \"house_data_png/bed_1213.png\", \"house_data_png/bed_1214.png\", \"house_data_png/bed_1215.png\", \"house_data_png/bed_1216.png\", \"house_data_png/bed_1217.png\", \"house_data_png/bed_1218.png\", \"house_data_png/bed_1219.png\", \"house_data_png/bed_122.png\", \"house_data_png/bed_1220.png\", \"house_data_png/bed_1221.png\", \"house_data_png/bed_1223.png\", \"house_data_png/bed_1224.png\", \"house_data_png/bed_1225.png\", \"house_data_png/bed_1227.png\", \"house_data_png/bed_1228.png\", \"house_data_png/bed_1229.png\", \"house_data_png/bed_123.png\", \"house_data_png/bed_1230.png\", \"house_data_png/bed_1231.png\", \"house_data_png/bed_1232.png\", \"house_data_png/bed_1233.png\", \"house_data_png/bed_1235.png\", \"house_data_png/bed_1236.png\", \"house_data_png/bed_1238.png\", \"house_data_png/bed_1239.png\", \"house_data_png/bed_124.png\", \"house_data_png/bed_1240.png\", \"house_data_png/bed_1241.png\", \"house_data_png/bed_1243.png\", \"house_data_png/bed_1244.png\", \"house_data_png/bed_1246.png\", \"house_data_png/bed_1247.png\", \"house_data_png/bed_1248.png\", \"house_data_png/bed_1249.png\", \"house_data_png/bed_125.png\", \"house_data_png/bed_1250.png\", \"house_data_png/bed_1251.png\", \"house_data_png/bed_1252.png\", \"house_data_png/bed_1253.png\", \"house_data_png/bed_1256.png\", \"house_data_png/bed_1257.png\", \"house_data_png/bed_1258.png\", \"house_data_png/bed_126.png\", \"house_data_png/bed_1261.png\", \"house_data_png/bed_1262.png\", \"house_data_png/bed_1263.png\", \"house_data_png/bed_1264.png\", \"house_data_png/bed_1265.png\", \"house_data_png/bed_1266.png\", \"house_data_png/bed_1267.png\", \"house_data_png/bed_1268.png\", \"house_data_png/bed_1269.png\", \"house_data_png/bed_127.png\", \"house_data_png/bed_1270.png\", \"house_data_png/bed_1272.png\", \"house_data_png/bed_1273.png\", \"house_data_png/bed_1274.png\", \"house_data_png/bed_1275.png\", \"house_data_png/bed_1276.png\", \"house_data_png/bed_1277.png\", \"house_data_png/bed_1278.png\", \"house_data_png/bed_1279.png\", \"house_data_png/bed_128.png\", \"house_data_png/bed_1280.png\", \"house_data_png/bed_1281.png\", \"house_data_png/bed_1282.png\", \"house_data_png/bed_1284.png\", \"house_data_png/bed_1285.png\", \"house_data_png/bed_1286.png\", \"house_data_png/bed_1287.png\", \"house_data_png/bed_1288.png\", \"house_data_png/bed_1289.png\", \"house_data_png/bed_129.png\", \"house_data_png/bed_1290.png\", \"house_data_png/bed_1291.png\", \"house_data_png/bed_1292.png\", \"house_data_png/bed_1293.png\", \"house_data_png/bed_1294.png\", \"house_data_png/bed_1295.png\", \"house_data_png/bed_1296.png\", \"house_data_png/bed_1297.png\", \"house_data_png/bed_1298.png\", \"house_data_png/bed_1299.png\", \"house_data_png/bed_130.png\", \"house_data_png/bed_1300.png\", \"house_data_png/bed_1301.png\", \"house_data_png/bed_1303.png\", \"house_data_png/bed_1307.png\", \"house_data_png/bed_1308.png\", \"house_data_png/bed_1309.png\", \"house_data_png/bed_131.png\", \"house_data_png/bed_1310.png\", \"house_data_png/bed_1311.png\", \"house_data_png/bed_1312.png\", \"house_data_png/bed_1313.png\", \"house_data_png/bed_1314.png\", \"house_data_png/bed_1315.png\", \"house_data_png/bed_1316.png\", \"house_data_png/bed_1317.png\", \"house_data_png/bed_1318.png\", \"house_data_png/bed_1319.png\", \"house_data_png/bed_132.png\", \"house_data_png/bed_1320.png\", \"house_data_png/bed_1321.png\", \"house_data_png/bed_1322.png\", \"house_data_png/bed_1323.png\", \"house_data_png/bed_1324.png\", \"house_data_png/bed_1326.png\", \"house_data_png/bed_1327.png\", \"house_data_png/bed_1328.png\", \"house_data_png/bed_133.png\", \"house_data_png/bed_1330.png\", \"house_data_png/bed_1331.png\", \"house_data_png/bed_1332.png\", \"house_data_png/bed_1333.png\", \"house_data_png/bed_1334.png\", \"house_data_png/bed_1335.png\", \"house_data_png/bed_1336.png\", \"house_data_png/bed_1337.png\", \"house_data_png/bed_1338.png\", \"house_data_png/bed_1339.png\", \"house_data_png/bed_134.png\", \"house_data_png/bed_1340.png\", \"house_data_png/bed_1341.png\", \"house_data_png/bed_1342.png\", \"house_data_png/bed_1343.png\", \"house_data_png/bed_1344.png\", \"house_data_png/bed_1345.png\", \"house_data_png/bed_1346.png\", \"house_data_png/bed_1347.png\", \"house_data_png/bed_1348.png\", \"house_data_png/bed_1349.png\", \"house_data_png/bed_135.png\", \"house_data_png/bed_1350.png\", \"house_data_png/bed_1351.png\", \"house_data_png/bed_1352.png\", \"house_data_png/bed_1353.png\", \"house_data_png/bed_1354.png\", \"house_data_png/bed_1356.png\", \"house_data_png/bed_1357.png\", \"house_data_png/bed_1358.png\", \"house_data_png/bed_1359.png\", \"house_data_png/bed_136.png\", \"house_data_png/bed_1360.png\", \"house_data_png/bed_1361.png\", \"house_data_png/bed_1362.png\", \"house_data_png/bed_1363.png\", \"house_data_png/bed_1364.png\", \"house_data_png/bed_1365.png\", \"house_data_png/bed_1366.png\", \"house_data_png/bed_1367.png\", \"house_data_png/bed_1368.png\", \"house_data_png/bed_1369.png\", \"house_data_png/bed_137.png\", \"house_data_png/bed_1370.png\", \"house_data_png/bed_1372.png\", \"house_data_png/bed_1373.png\", \"house_data_png/bed_1375.png\", \"house_data_png/bed_1377.png\", \"house_data_png/bed_1378.png\", \"house_data_png/bed_1379.png\", \"house_data_png/bed_138.png\", \"house_data_png/bed_1380.png\", \"house_data_png/bed_1381.png\", \"house_data_png/bed_1382.png\", \"house_data_png/bed_1383.png\", \"house_data_png/bed_1384.png\", \"house_data_png/bed_1385.png\", \"house_data_png/bed_1387.png\", \"house_data_png/bed_1388.png\", \"house_data_png/bed_1389.png\", \"house_data_png/bed_139.png\", \"house_data_png/bed_1390.png\", \"house_data_png/bed_1391.png\", \"house_data_png/bed_1392.png\", \"house_data_png/bed_1393.png\", \"house_data_png/bed_1394.png\", \"house_data_png/bed_1395.png\", \"house_data_png/bed_1396.png\", \"house_data_png/bed_1397.png\", \"house_data_png/bed_1399.png\", \"house_data_png/bed_14.png\", \"house_data_png/bed_140.png\", \"house_data_png/bed_1400.png\", \"house_data_png/bed_1401.png\", \"house_data_png/bed_1402.png\", \"house_data_png/bed_1403.png\", \"house_data_png/bed_1404.png\", \"house_data_png/bed_1405.png\", \"house_data_png/bed_1406.png\", \"house_data_png/bed_1407.png\", \"house_data_png/bed_1408.png\", \"house_data_png/bed_141.png\", \"house_data_png/bed_1410.png\", \"house_data_png/bed_1411.png\", \"house_data_png/bed_1412.png\", \"house_data_png/bed_1413.png\", \"house_data_png/bed_1414.png\", \"house_data_png/bed_1416.png\", \"house_data_png/bed_1417.png\", \"house_data_png/bed_1418.png\", \"house_data_png/bed_1419.png\", \"house_data_png/bed_142.png\", \"house_data_png/bed_1420.png\", \"house_data_png/bed_1421.png\", \"house_data_png/bed_1422.png\", \"house_data_png/bed_1423.png\", \"house_data_png/bed_1425.png\", \"house_data_png/bed_1426.png\", \"house_data_png/bed_1427.png\", \"house_data_png/bed_1428.png\", \"house_data_png/bed_143.png\", \"house_data_png/bed_1430.png\", \"house_data_png/bed_1431.png\", \"house_data_png/bed_1432.png\", \"house_data_png/bed_144.png\", \"house_data_png/bed_145.png\", \"house_data_png/bed_146.png\", \"house_data_png/bed_147.png\", \"house_data_png/bed_148.png\", \"house_data_png/bed_149.png\", \"house_data_png/bed_15.png\", \"house_data_png/bed_150.png\", \"house_data_png/bed_154.png\", \"house_data_png/bed_155.png\", \"house_data_png/bed_156.png\", \"house_data_png/bed_157.png\", \"house_data_png/bed_158.png\", \"house_data_png/bed_159.png\", \"house_data_png/bed_16.png\", \"house_data_png/bed_160.png\", \"house_data_png/bed_161.png\", \"house_data_png/bed_162.png\", \"house_data_png/bed_163.png\", \"house_data_png/bed_164.png\", \"house_data_png/bed_165.png\", \"house_data_png/bed_166.png\", \"house_data_png/bed_167.png\", \"house_data_png/bed_168.png\", \"house_data_png/bed_169.png\", \"house_data_png/bed_17.png\", \"house_data_png/bed_170.png\", \"house_data_png/bed_171.png\", \"house_data_png/bed_172.png\", \"house_data_png/bed_173.png\", \"house_data_png/bed_174.png\", \"house_data_png/bed_175.png\", \"house_data_png/bed_176.png\", \"house_data_png/bed_178.png\", \"house_data_png/bed_18.png\", \"house_data_png/bed_180.png\", \"house_data_png/bed_182.png\", \"house_data_png/bed_183.png\", \"house_data_png/bed_184.png\", \"house_data_png/bed_185.png\", \"house_data_png/bed_186.png\", \"house_data_png/bed_187.png\", \"house_data_png/bed_188.png\", \"house_data_png/bed_189.png\", \"house_data_png/bed_19.png\", \"house_data_png/bed_190.png\", \"house_data_png/bed_192.png\", \"house_data_png/bed_196.png\", \"house_data_png/bed_197.png\", \"house_data_png/bed_198.png\", \"house_data_png/bed_199.png\", \"house_data_png/bed_2.png\", \"house_data_png/bed_20.png\", \"house_data_png/bed_200.png\", \"house_data_png/bed_201.png\", \"house_data_png/bed_202.png\", \"house_data_png/bed_203.png\", \"house_data_png/bed_204.png\", \"house_data_png/bed_205.png\", \"house_data_png/bed_206.png\", \"house_data_png/bed_207.png\", \"house_data_png/bed_208.png\", \"house_data_png/bed_209.png\", \"house_data_png/bed_21.png\", \"house_data_png/bed_210.png\", \"house_data_png/bed_211.png\", \"house_data_png/bed_212.png\", \"house_data_png/bed_213.png\", \"house_data_png/bed_214.png\", \"house_data_png/bed_215.png\", \"house_data_png/bed_216.png\", \"house_data_png/bed_217.png\", \"house_data_png/bed_218.png\", \"house_data_png/bed_22.png\", \"house_data_png/bed_220.png\", \"house_data_png/bed_221.png\", \"house_data_png/bed_223.png\", \"house_data_png/bed_224.png\", \"house_data_png/bed_225.png\", \"house_data_png/bed_226.png\", \"house_data_png/bed_227.png\", \"house_data_png/bed_228.png\", \"house_data_png/bed_229.png\", \"house_data_png/bed_23.png\", \"house_data_png/bed_230.png\", \"house_data_png/bed_231.png\", \"house_data_png/bed_232.png\", \"house_data_png/bed_233.png\", \"house_data_png/bed_234.png\", \"house_data_png/bed_235.png\", \"house_data_png/bed_236.png\", \"house_data_png/bed_237.png\", \"house_data_png/bed_238.png\", \"house_data_png/bed_239.png\", \"house_data_png/bed_240.png\", \"house_data_png/bed_241.png\", \"house_data_png/bed_242.png\", \"house_data_png/bed_243.png\", \"house_data_png/bed_244.png\", \"house_data_png/bed_245.png\", \"house_data_png/bed_246.png\", \"house_data_png/bed_247.png\", \"house_data_png/bed_249.png\", \"house_data_png/bed_25.png\", \"house_data_png/bed_250.png\", \"house_data_png/bed_251.png\", \"house_data_png/bed_252.png\", \"house_data_png/bed_253.png\", \"house_data_png/bed_254.png\", \"house_data_png/bed_255.png\", \"house_data_png/bed_256.png\", \"house_data_png/bed_257.png\", \"house_data_png/bed_258.png\", \"house_data_png/bed_259.png\", \"house_data_png/bed_260.png\", \"house_data_png/bed_261.png\", \"house_data_png/bed_262.png\", \"house_data_png/bed_263.png\", \"house_data_png/bed_265.png\", \"house_data_png/bed_266.png\", \"house_data_png/bed_267.png\", \"house_data_png/bed_268.png\", \"house_data_png/bed_269.png\", \"house_data_png/bed_27.png\", \"house_data_png/bed_270.png\", \"house_data_png/bed_271.png\", \"house_data_png/bed_272.png\", \"house_data_png/bed_273.png\", \"house_data_png/bed_274.png\", \"house_data_png/bed_275.png\", \"house_data_png/bed_276.png\", \"house_data_png/bed_277.png\", \"house_data_png/bed_278.png\", \"house_data_png/bed_279.png\", \"house_data_png/bed_28.png\", \"house_data_png/bed_280.png\", \"house_data_png/bed_282.png\", \"house_data_png/bed_283.png\", \"house_data_png/bed_284.png\", \"house_data_png/bed_285.png\", \"house_data_png/bed_286.png\", \"house_data_png/bed_287.png\", \"house_data_png/bed_288.png\", \"house_data_png/bed_289.png\", \"house_data_png/bed_291.png\", \"house_data_png/bed_292.png\", \"house_data_png/bed_294.png\", \"house_data_png/bed_296.png\", \"house_data_png/bed_297.png\", \"house_data_png/bed_298.png\", \"house_data_png/bed_3.png\", \"house_data_png/bed_300.png\", \"house_data_png/bed_301.png\", \"house_data_png/bed_302.png\", \"house_data_png/bed_303.png\", \"house_data_png/bed_304.png\", \"house_data_png/bed_305.png\", \"house_data_png/bed_306.png\", \"house_data_png/bed_307.png\", \"house_data_png/bed_308.png\", \"house_data_png/bed_309.png\", \"house_data_png/bed_310.png\", \"house_data_png/bed_311.png\", \"house_data_png/bed_312.png\", \"house_data_png/bed_313.png\", \"house_data_png/bed_315.png\", \"house_data_png/bed_317.png\", \"house_data_png/bed_318.png\", \"house_data_png/bed_319.png\", \"house_data_png/bed_32.png\", \"house_data_png/bed_320.png\", \"house_data_png/bed_321.png\", \"house_data_png/bed_322.png\", \"house_data_png/bed_324.png\", \"house_data_png/bed_325.png\", \"house_data_png/bed_326.png\", \"house_data_png/bed_327.png\", \"house_data_png/bed_328.png\", \"house_data_png/bed_329.png\", \"house_data_png/bed_33.png\", \"house_data_png/bed_330.png\", \"house_data_png/bed_331.png\", \"house_data_png/bed_333.png\", \"house_data_png/bed_334.png\", \"house_data_png/bed_335.png\", \"house_data_png/bed_336.png\", \"house_data_png/bed_337.png\", \"house_data_png/bed_338.png\", \"house_data_png/bed_339.png\", \"house_data_png/bed_34.png\", \"house_data_png/bed_340.png\", \"house_data_png/bed_341.png\", \"house_data_png/bed_342.png\", \"house_data_png/bed_343.png\", \"house_data_png/bed_344.png\", \"house_data_png/bed_345.png\", \"house_data_png/bed_346.png\", \"house_data_png/bed_347.png\", \"house_data_png/bed_348.png\", \"house_data_png/bed_349.png\", \"house_data_png/bed_35.png\", \"house_data_png/bed_351.png\", \"house_data_png/bed_353.png\", \"house_data_png/bed_354.png\", \"house_data_png/bed_355.png\", \"house_data_png/bed_356.png\", \"house_data_png/bed_357.png\", \"house_data_png/bed_358.png\", \"house_data_png/bed_359.png\", \"house_data_png/bed_36.png\", \"house_data_png/bed_360.png\", \"house_data_png/bed_361.png\", \"house_data_png/bed_362.png\", \"house_data_png/bed_363.png\", \"house_data_png/bed_364.png\", \"house_data_png/bed_366.png\", \"house_data_png/bed_367.png\", \"house_data_png/bed_368.png\", \"house_data_png/bed_369.png\", \"house_data_png/bed_37.png\", \"house_data_png/bed_370.png\", \"house_data_png/bed_371.png\", \"house_data_png/bed_372.png\", \"house_data_png/bed_373.png\", \"house_data_png/bed_374.png\", \"house_data_png/bed_375.png\", \"house_data_png/bed_376.png\", \"house_data_png/bed_377.png\", \"house_data_png/bed_378.png\", \"house_data_png/bed_38.png\", \"house_data_png/bed_380.png\", \"house_data_png/bed_381.png\", \"house_data_png/bed_383.png\", \"house_data_png/bed_384.png\", \"house_data_png/bed_385.png\", \"house_data_png/bed_386.png\", \"house_data_png/bed_387.png\", \"house_data_png/bed_388.png\", \"house_data_png/bed_389.png\", \"house_data_png/bed_39.png\", \"house_data_png/bed_390.png\", \"house_data_png/bed_391.png\", \"house_data_png/bed_394.png\", \"house_data_png/bed_395.png\", \"house_data_png/bed_396.png\", \"house_data_png/bed_397.png\", \"house_data_png/bed_398.png\", \"house_data_png/bed_399.png\", \"house_data_png/bed_4.png\", \"house_data_png/bed_40.png\", \"house_data_png/bed_400.png\", \"house_data_png/bed_401.png\", \"house_data_png/bed_402.png\", \"house_data_png/bed_403.png\", \"house_data_png/bed_404.png\", \"house_data_png/bed_405.png\", \"house_data_png/bed_407.png\", \"house_data_png/bed_408.png\", \"house_data_png/bed_409.png\", \"house_data_png/bed_41.png\", \"house_data_png/bed_410.png\", \"house_data_png/bed_411.png\", \"house_data_png/bed_412.png\", \"house_data_png/bed_413.png\", \"house_data_png/bed_415.png\", \"house_data_png/bed_416.png\", \"house_data_png/bed_418.png\", \"house_data_png/bed_419.png\", \"house_data_png/bed_42.png\", \"house_data_png/bed_421.png\", \"house_data_png/bed_422.png\", \"house_data_png/bed_423.png\", \"house_data_png/bed_425.png\", \"house_data_png/bed_426.png\", \"house_data_png/bed_428.png\", \"house_data_png/bed_429.png\", \"house_data_png/bed_43.png\", \"house_data_png/bed_430.png\", \"house_data_png/bed_431.png\", \"house_data_png/bed_434.png\", \"house_data_png/bed_435.png\", \"house_data_png/bed_436.png\", \"house_data_png/bed_437.png\", \"house_data_png/bed_439.png\", \"house_data_png/bed_44.png\", \"house_data_png/bed_440.png\", \"house_data_png/bed_441.png\", \"house_data_png/bed_442.png\", \"house_data_png/bed_443.png\", \"house_data_png/bed_444.png\", \"house_data_png/bed_445.png\", \"house_data_png/bed_446.png\", \"house_data_png/bed_447.png\", \"house_data_png/bed_448.png\", \"house_data_png/bed_449.png\", \"house_data_png/bed_45.png\", \"house_data_png/bed_450.png\", \"house_data_png/bed_451.png\", \"house_data_png/bed_453.png\", \"house_data_png/bed_454.png\", \"house_data_png/bed_455.png\", \"house_data_png/bed_456.png\", \"house_data_png/bed_457.png\", \"house_data_png/bed_458.png\", \"house_data_png/bed_459.png\", \"house_data_png/bed_46.png\", \"house_data_png/bed_462.png\", \"house_data_png/bed_463.png\", \"house_data_png/bed_464.png\", \"house_data_png/bed_465.png\", \"house_data_png/bed_466.png\", \"house_data_png/bed_467.png\", \"house_data_png/bed_468.png\", \"house_data_png/bed_469.png\", \"house_data_png/bed_47.png\", \"house_data_png/bed_471.png\", \"house_data_png/bed_472.png\", \"house_data_png/bed_473.png\", \"house_data_png/bed_474.png\", \"house_data_png/bed_475.png\", \"house_data_png/bed_476.png\", \"house_data_png/bed_477.png\", \"house_data_png/bed_478.png\", \"house_data_png/bed_479.png\", \"house_data_png/bed_48.png\", \"house_data_png/bed_480.png\", \"house_data_png/bed_481.png\", \"house_data_png/bed_482.png\", \"house_data_png/bed_483.png\", \"house_data_png/bed_484.png\", \"house_data_png/bed_485.png\", \"house_data_png/bed_486.png\", \"house_data_png/bed_487.png\", \"house_data_png/bed_488.png\", \"house_data_png/bed_489.png\", \"house_data_png/bed_49.png\", \"house_data_png/bed_490.png\", \"house_data_png/bed_491.png\", \"house_data_png/bed_492.png\", \"house_data_png/bed_493.png\", \"house_data_png/bed_495.png\", \"house_data_png/bed_496.png\", \"house_data_png/bed_497.png\", \"house_data_png/bed_498.png\", \"house_data_png/bed_499.png\", \"house_data_png/bed_50.png\", \"house_data_png/bed_500.png\", \"house_data_png/bed_501.png\", \"house_data_png/bed_502.png\", \"house_data_png/bed_503.png\", \"house_data_png/bed_504.png\", \"house_data_png/bed_505.png\", \"house_data_png/bed_506.png\", \"house_data_png/bed_507.png\", \"house_data_png/bed_508.png\", \"house_data_png/bed_51.png\", \"house_data_png/bed_512.png\", \"house_data_png/bed_513.png\", \"house_data_png/bed_514.png\", \"house_data_png/bed_515.png\", \"house_data_png/bed_516.png\", \"house_data_png/bed_517.png\", \"house_data_png/bed_519.png\", \"house_data_png/bed_52.png\", \"house_data_png/bed_520.png\", \"house_data_png/bed_522.png\", \"house_data_png/bed_525.png\", \"house_data_png/bed_526.png\", \"house_data_png/bed_527.png\", \"house_data_png/bed_528.png\", \"house_data_png/bed_529.png\", \"house_data_png/bed_53.png\", \"house_data_png/bed_530.png\", \"house_data_png/bed_531.png\", \"house_data_png/bed_532.png\", \"house_data_png/bed_533.png\", \"house_data_png/bed_534.png\", \"house_data_png/bed_535.png\", \"house_data_png/bed_536.png\", \"house_data_png/bed_537.png\", \"house_data_png/bed_538.png\", \"house_data_png/bed_539.png\", \"house_data_png/bed_54.png\", \"house_data_png/bed_540.png\", \"house_data_png/bed_541.png\", \"house_data_png/bed_542.png\", \"house_data_png/bed_544.png\", \"house_data_png/bed_545.png\", \"house_data_png/bed_546.png\", \"house_data_png/bed_547.png\", \"house_data_png/bed_548.png\", \"house_data_png/bed_549.png\", \"house_data_png/bed_55.png\", \"house_data_png/bed_551.png\", \"house_data_png/bed_552.png\", \"house_data_png/bed_553.png\", \"house_data_png/bed_554.png\", \"house_data_png/bed_555.png\", \"house_data_png/bed_557.png\", \"house_data_png/bed_558.png\", \"house_data_png/bed_559.png\", \"house_data_png/bed_56.png\", \"house_data_png/bed_561.png\", \"house_data_png/bed_562.png\", \"house_data_png/bed_563.png\", \"house_data_png/bed_564.png\", \"house_data_png/bed_565.png\", \"house_data_png/bed_566.png\", \"house_data_png/bed_567.png\", \"house_data_png/bed_568.png\", \"house_data_png/bed_569.png\", \"house_data_png/bed_57.png\", \"house_data_png/bed_570.png\", \"house_data_png/bed_572.png\", \"house_data_png/bed_573.png\", \"house_data_png/bed_574.png\", \"house_data_png/bed_576.png\", \"house_data_png/bed_577.png\", \"house_data_png/bed_578.png\", \"house_data_png/bed_579.png\", \"house_data_png/bed_58.png\", \"house_data_png/bed_580.png\", \"house_data_png/bed_581.png\", \"house_data_png/bed_582.png\", \"house_data_png/bed_584.png\", \"house_data_png/bed_585.png\", \"house_data_png/bed_586.png\", \"house_data_png/bed_587.png\", \"house_data_png/bed_589.png\", \"house_data_png/bed_590.png\", \"house_data_png/bed_593.png\", \"house_data_png/bed_594.png\", \"house_data_png/bed_595.png\", \"house_data_png/bed_597.png\", \"house_data_png/bed_598.png\", \"house_data_png/bed_599.png\", \"house_data_png/bed_60.png\", \"house_data_png/bed_600.png\", \"house_data_png/bed_601.png\", \"house_data_png/bed_602.png\", \"house_data_png/bed_603.png\", \"house_data_png/bed_604.png\", \"house_data_png/bed_605.png\", \"house_data_png/bed_606.png\", \"house_data_png/bed_607.png\", \"house_data_png/bed_608.png\", \"house_data_png/bed_61.png\", \"house_data_png/bed_610.png\", \"house_data_png/bed_612.png\", \"house_data_png/bed_613.png\", \"house_data_png/bed_614.png\", \"house_data_png/bed_615.png\", \"house_data_png/bed_616.png\", \"house_data_png/bed_619.png\", \"house_data_png/bed_62.png\", \"house_data_png/bed_620.png\", \"house_data_png/bed_621.png\", \"house_data_png/bed_622.png\", \"house_data_png/bed_623.png\", \"house_data_png/bed_625.png\", \"house_data_png/bed_627.png\", \"house_data_png/bed_628.png\", \"house_data_png/bed_629.png\", \"house_data_png/bed_63.png\", \"house_data_png/bed_630.png\", \"house_data_png/bed_631.png\", \"house_data_png/bed_632.png\", \"house_data_png/bed_633.png\", \"house_data_png/bed_634.png\", \"house_data_png/bed_635.png\", \"house_data_png/bed_636.png\", \"house_data_png/bed_637.png\", \"house_data_png/bed_638.png\", \"house_data_png/bed_639.png\", \"house_data_png/bed_640.png\", \"house_data_png/bed_641.png\", \"house_data_png/bed_642.png\", \"house_data_png/bed_643.png\", \"house_data_png/bed_644.png\", \"house_data_png/bed_645.png\", \"house_data_png/bed_646.png\", \"house_data_png/bed_648.png\", \"house_data_png/bed_649.png\", \"house_data_png/bed_65.png\", \"house_data_png/bed_650.png\", \"house_data_png/bed_651.png\", \"house_data_png/bed_652.png\", \"house_data_png/bed_653.png\", \"house_data_png/bed_654.png\", \"house_data_png/bed_655.png\", \"house_data_png/bed_656.png\", \"house_data_png/bed_657.png\", \"house_data_png/bed_658.png\", \"house_data_png/bed_659.png\", \"house_data_png/bed_66.png\", \"house_data_png/bed_660.png\", \"house_data_png/bed_661.png\", \"house_data_png/bed_662.png\", \"house_data_png/bed_663.png\", \"house_data_png/bed_664.png\", \"house_data_png/bed_665.png\", \"house_data_png/bed_666.png\", \"house_data_png/bed_667.png\", \"house_data_png/bed_668.png\", \"house_data_png/bed_669.png\", \"house_data_png/bed_67.png\", \"house_data_png/bed_670.png\", \"house_data_png/bed_671.png\", \"house_data_png/bed_672.png\", \"house_data_png/bed_673.png\", \"house_data_png/bed_674.png\", \"house_data_png/bed_675.png\", \"house_data_png/bed_676.png\", \"house_data_png/bed_677.png\", \"house_data_png/bed_679.png\", \"house_data_png/bed_68.png\", \"house_data_png/bed_680.png\", \"house_data_png/bed_681.png\", \"house_data_png/bed_682.png\", \"house_data_png/bed_683.png\", \"house_data_png/bed_684.png\", \"house_data_png/bed_685.png\", \"house_data_png/bed_686.png\", \"house_data_png/bed_687.png\", \"house_data_png/bed_688.png\", \"house_data_png/bed_69.png\", \"house_data_png/bed_690.png\", \"house_data_png/bed_691.png\", \"house_data_png/bed_692.png\", \"house_data_png/bed_693.png\", \"house_data_png/bed_694.png\", \"house_data_png/bed_695.png\", \"house_data_png/bed_696.png\", \"house_data_png/bed_697.png\", \"house_data_png/bed_698.png\", \"house_data_png/bed_70.png\", \"house_data_png/bed_700.png\", \"house_data_png/bed_703.png\", \"house_data_png/bed_704.png\", \"house_data_png/bed_705.png\", \"house_data_png/bed_706.png\", \"house_data_png/bed_707.png\", \"house_data_png/bed_708.png\", \"house_data_png/bed_71.png\", \"house_data_png/bed_710.png\", \"house_data_png/bed_711.png\", \"house_data_png/bed_712.png\", \"house_data_png/bed_713.png\", \"house_data_png/bed_714.png\", \"house_data_png/bed_715.png\", \"house_data_png/bed_716.png\", \"house_data_png/bed_717.png\", \"house_data_png/bed_718.png\", \"house_data_png/bed_719.png\", \"house_data_png/bed_72.png\", \"house_data_png/bed_720.png\", \"house_data_png/bed_721.png\", \"house_data_png/bed_722.png\", \"house_data_png/bed_723.png\", \"house_data_png/bed_724.png\", \"house_data_png/bed_726.png\", \"house_data_png/bed_727.png\", \"house_data_png/bed_728.png\", \"house_data_png/bed_729.png\", \"house_data_png/bed_73.png\", \"house_data_png/bed_730.png\", \"house_data_png/bed_731.png\", \"house_data_png/bed_732.png\", \"house_data_png/bed_733.png\", \"house_data_png/bed_734.png\", \"house_data_png/bed_735.png\", \"house_data_png/bed_736.png\", \"house_data_png/bed_737.png\", \"house_data_png/bed_738.png\", \"house_data_png/bed_739.png\", \"house_data_png/bed_74.png\", \"house_data_png/bed_740.png\", \"house_data_png/bed_741.png\", \"house_data_png/bed_742.png\", \"house_data_png/bed_743.png\", \"house_data_png/bed_744.png\", \"house_data_png/bed_745.png\", \"house_data_png/bed_746.png\", \"house_data_png/bed_747.png\", \"house_data_png/bed_748.png\", \"house_data_png/bed_749.png\", \"house_data_png/bed_75.png\", \"house_data_png/bed_750.png\", \"house_data_png/bed_751.png\", \"house_data_png/bed_752.png\", \"house_data_png/bed_754.png\", \"house_data_png/bed_755.png\", \"house_data_png/bed_756.png\", \"house_data_png/bed_757.png\", \"house_data_png/bed_758.png\", \"house_data_png/bed_759.png\", \"house_data_png/bed_76.png\", \"house_data_png/bed_760.png\", \"house_data_png/bed_761.png\", \"house_data_png/bed_762.png\", \"house_data_png/bed_764.png\", \"house_data_png/bed_765.png\", \"house_data_png/bed_767.png\", \"house_data_png/bed_769.png\", \"house_data_png/bed_77.png\", \"house_data_png/bed_770.png\", \"house_data_png/bed_771.png\", \"house_data_png/bed_772.png\", \"house_data_png/bed_773.png\", \"house_data_png/bed_774.png\", \"house_data_png/bed_776.png\", \"house_data_png/bed_777.png\", \"house_data_png/bed_778.png\", \"house_data_png/bed_779.png\", \"house_data_png/bed_78.png\", \"house_data_png/bed_780.png\", \"house_data_png/bed_781.png\", \"house_data_png/bed_783.png\", \"house_data_png/bed_784.png\", \"house_data_png/bed_785.png\", \"house_data_png/bed_786.png\", \"house_data_png/bed_787.png\", \"house_data_png/bed_788.png\", \"house_data_png/bed_789.png\", \"house_data_png/bed_79.png\", \"house_data_png/bed_790.png\", \"house_data_png/bed_791.png\", \"house_data_png/bed_792.png\", \"house_data_png/bed_793.png\", \"house_data_png/bed_794.png\", \"house_data_png/bed_795.png\", \"house_data_png/bed_796.png\", \"house_data_png/bed_797.png\", \"house_data_png/bed_798.png\", \"house_data_png/bed_799.png\", \"house_data_png/bed_8.png\", \"house_data_png/bed_80.png\", \"house_data_png/bed_800.png\", \"house_data_png/bed_801.png\", \"house_data_png/bed_802.png\", \"house_data_png/bed_803.png\", \"house_data_png/bed_804.png\", \"house_data_png/bed_806.png\", \"house_data_png/bed_807.png\", \"house_data_png/bed_808.png\", \"house_data_png/bed_809.png\", \"house_data_png/bed_81.png\", \"house_data_png/bed_810.png\", \"house_data_png/bed_811.png\", \"house_data_png/bed_812.png\", \"house_data_png/bed_813.png\", \"house_data_png/bed_814.png\", \"house_data_png/bed_815.png\", \"house_data_png/bed_816.png\", \"house_data_png/bed_818.png\", \"house_data_png/bed_819.png\", \"house_data_png/bed_82.png\", \"house_data_png/bed_820.png\", \"house_data_png/bed_821.png\", \"house_data_png/bed_822.png\", \"house_data_png/bed_824.png\", \"house_data_png/bed_825.png\", \"house_data_png/bed_826.png\", \"house_data_png/bed_827.png\", \"house_data_png/bed_828.png\", \"house_data_png/bed_83.png\", \"house_data_png/bed_830.png\", \"house_data_png/bed_831.png\", \"house_data_png/bed_832.png\", \"house_data_png/bed_834.png\", \"house_data_png/bed_835.png\", \"house_data_png/bed_836.png\", \"house_data_png/bed_837.png\", \"house_data_png/bed_838.png\", \"house_data_png/bed_839.png\", \"house_data_png/bed_84.png\", \"house_data_png/bed_840.png\", \"house_data_png/bed_841.png\", \"house_data_png/bed_842.png\", \"house_data_png/bed_843.png\", \"house_data_png/bed_844.png\", \"house_data_png/bed_845.png\", \"house_data_png/bed_846.png\", \"house_data_png/bed_848.png\", \"house_data_png/bed_849.png\", \"house_data_png/bed_85.png\", \"house_data_png/bed_850.png\", \"house_data_png/bed_852.png\", \"house_data_png/bed_853.png\", \"house_data_png/bed_854.png\", \"house_data_png/bed_855.png\", \"house_data_png/bed_856.png\", \"house_data_png/bed_857.png\", \"house_data_png/bed_858.png\", \"house_data_png/bed_859.png\", \"house_data_png/bed_86.png\", \"house_data_png/bed_861.png\", \"house_data_png/bed_862.png\", \"house_data_png/bed_863.png\", \"house_data_png/bed_864.png\", \"house_data_png/bed_865.png\", \"house_data_png/bed_866.png\", \"house_data_png/bed_867.png\", \"house_data_png/bed_868.png\", \"house_data_png/bed_869.png\", \"house_data_png/bed_87.png\", \"house_data_png/bed_870.png\", \"house_data_png/bed_871.png\", \"house_data_png/bed_872.png\", \"house_data_png/bed_873.png\", \"house_data_png/bed_874.png\", \"house_data_png/bed_876.png\", \"house_data_png/bed_877.png\", \"house_data_png/bed_878.png\", \"house_data_png/bed_88.png\", \"house_data_png/bed_881.png\", \"house_data_png/bed_882.png\", \"house_data_png/bed_883.png\", \"house_data_png/bed_884.png\", \"house_data_png/bed_886.png\", \"house_data_png/bed_887.png\", \"house_data_png/bed_888.png\", \"house_data_png/bed_889.png\", \"house_data_png/bed_89.png\", \"house_data_png/bed_890.png\", \"house_data_png/bed_892.png\", \"house_data_png/bed_893.png\", \"house_data_png/bed_894.png\", \"house_data_png/bed_895.png\", \"house_data_png/bed_896.png\", \"house_data_png/bed_897.png\", \"house_data_png/bed_898.png\", \"house_data_png/bed_899.png\", \"house_data_png/bed_9.png\", \"house_data_png/bed_90.png\", \"house_data_png/bed_900.png\", \"house_data_png/bed_901.png\", \"house_data_png/bed_904.png\", \"house_data_png/bed_906.png\", \"house_data_png/bed_907.png\", \"house_data_png/bed_908.png\", \"house_data_png/bed_909.png\", \"house_data_png/bed_91.png\", \"house_data_png/bed_910.png\", \"house_data_png/bed_911.png\", \"house_data_png/bed_912.png\", \"house_data_png/bed_913.png\", \"house_data_png/bed_914.png\", \"house_data_png/bed_915.png\", \"house_data_png/bed_916.png\", \"house_data_png/bed_917.png\", \"house_data_png/bed_918.png\", \"house_data_png/bed_919.png\", \"house_data_png/bed_92.png\", \"house_data_png/bed_920.png\", \"house_data_png/bed_921.png\", \"house_data_png/bed_922.png\", \"house_data_png/bed_923.png\", \"house_data_png/bed_924.png\", \"house_data_png/bed_925.png\", \"house_data_png/bed_926.png\", \"house_data_png/bed_927.png\", \"house_data_png/bed_928.png\", \"house_data_png/bed_929.png\", \"house_data_png/bed_930.png\", \"house_data_png/bed_931.png\", \"house_data_png/bed_932.png\", \"house_data_png/bed_933.png\", \"house_data_png/bed_934.png\", \"house_data_png/bed_936.png\", \"house_data_png/bed_937.png\", \"house_data_png/bed_938.png\", \"house_data_png/bed_939.png\", \"house_data_png/bed_940.png\", \"house_data_png/bed_941.png\", \"house_data_png/bed_942.png\", \"house_data_png/bed_944.png\", \"house_data_png/bed_945.png\", \"house_data_png/bed_946.png\", \"house_data_png/bed_947.png\", \"house_data_png/bed_948.png\", \"house_data_png/bed_949.png\", \"house_data_png/bed_95.png\", \"house_data_png/bed_950.png\", \"house_data_png/bed_951.png\", \"house_data_png/bed_952.png\", \"house_data_png/bed_953.png\", \"house_data_png/bed_954.png\", \"house_data_png/bed_955.png\", \"house_data_png/bed_956.png\", \"house_data_png/bed_957.png\", \"house_data_png/bed_96.png\", \"house_data_png/bed_960.png\", \"house_data_png/bed_961.png\", \"house_data_png/bed_962.png\", \"house_data_png/bed_963.png\", \"house_data_png/bed_964.png\", \"house_data_png/bed_965.png\", \"house_data_png/bed_966.png\", \"house_data_png/bed_967.png\", \"house_data_png/bed_968.png\", \"house_data_png/bed_969.png\", \"house_data_png/bed_97.png\", \"house_data_png/bed_970.png\", \"house_data_png/bed_971.png\", \"house_data_png/bed_972.png\", \"house_data_png/bed_973.png\", \"house_data_png/bed_974.png\", \"house_data_png/bed_975.png\", \"house_data_png/bed_976.png\", \"house_data_png/bed_977.png\", \"house_data_png/bed_978.png\", \"house_data_png/bed_979.png\", \"house_data_png/bed_98.png\", \"house_data_png/bed_980.png\", \"house_data_png/bed_981.png\", \"house_data_png/bed_983.png\", \"house_data_png/bed_984.png\", \"house_data_png/bed_985.png\", \"house_data_png/bed_986.png\", \"house_data_png/bed_988.png\", \"house_data_png/bed_99.png\", \"house_data_png/bed_990.png\", \"house_data_png/bed_991.png\", \"house_data_png/bed_992.png\", \"house_data_png/bed_993.png\", \"house_data_png/bed_994.png\", \"house_data_png/bed_995.png\", \"house_data_png/bed_996.png\", \"house_data_png/bed_997.png\", \"house_data_png/bed_998.png\", \"house_data_png/bed_999.png\", \"house_data_png/din_1.png\", \"house_data_png/din_10.png\", \"house_data_png/din_100.png\", \"house_data_png/din_1000.png\", \"house_data_png/din_1001.png\", \"house_data_png/din_1003.png\", \"house_data_png/din_1004.png\", \"house_data_png/din_1005.png\", \"house_data_png/din_1006.png\", \"house_data_png/din_1007.png\", \"house_data_png/din_1009.png\", \"house_data_png/din_1010.png\", \"house_data_png/din_1011.png\", \"house_data_png/din_1013.png\", \"house_data_png/din_1014.png\", \"house_data_png/din_1015.png\", \"house_data_png/din_1016.png\", \"house_data_png/din_1017.png\", \"house_data_png/din_1019.png\", \"house_data_png/din_102.png\", \"house_data_png/din_1020.png\", \"house_data_png/din_1021.png\", \"house_data_png/din_1022.png\", \"house_data_png/din_1023.png\", \"house_data_png/din_1025.png\", \"house_data_png/din_1026.png\", \"house_data_png/din_1028.png\", \"house_data_png/din_1029.png\", \"house_data_png/din_1031.png\", \"house_data_png/din_1033.png\", \"house_data_png/din_1035.png\", \"house_data_png/din_1036.png\", \"house_data_png/din_1038.png\", \"house_data_png/din_1039.png\", \"house_data_png/din_104.png\", \"house_data_png/din_1042.png\", \"house_data_png/din_1043.png\", \"house_data_png/din_1044.png\", \"house_data_png/din_1045.png\", \"house_data_png/din_1047.png\", \"house_data_png/din_1048.png\", \"house_data_png/din_105.png\", \"house_data_png/din_1050.png\", \"house_data_png/din_1051.png\", \"house_data_png/din_1052.png\", \"house_data_png/din_1053.png\", \"house_data_png/din_1054.png\", \"house_data_png/din_1057.png\", \"house_data_png/din_1058.png\", \"house_data_png/din_1059.png\", \"house_data_png/din_106.png\", \"house_data_png/din_1060.png\", \"house_data_png/din_1061.png\", \"house_data_png/din_1063.png\", \"house_data_png/din_1064.png\", \"house_data_png/din_1065.png\", \"house_data_png/din_1067.png\", \"house_data_png/din_1068.png\", \"house_data_png/din_1070.png\", \"house_data_png/din_1071.png\", \"house_data_png/din_1072.png\", \"house_data_png/din_1073.png\", \"house_data_png/din_1074.png\", \"house_data_png/din_1075.png\", \"house_data_png/din_1077.png\", \"house_data_png/din_1078.png\", \"house_data_png/din_1079.png\", \"house_data_png/din_108.png\", \"house_data_png/din_1080.png\", \"house_data_png/din_1081.png\", \"house_data_png/din_1082.png\", \"house_data_png/din_1084.png\", \"house_data_png/din_1085.png\", \"house_data_png/din_1086.png\", \"house_data_png/din_1088.png\", \"house_data_png/din_1089.png\", \"house_data_png/din_1090.png\", \"house_data_png/din_1092.png\", \"house_data_png/din_1093.png\", \"house_data_png/din_1094.png\", \"house_data_png/din_1095.png\", \"house_data_png/din_1096.png\", \"house_data_png/din_1097.png\", \"house_data_png/din_1099.png\", \"house_data_png/din_110.png\", \"house_data_png/din_1100.png\", \"house_data_png/din_1101.png\", \"house_data_png/din_1102.png\", \"house_data_png/din_1103.png\", \"house_data_png/din_1104.png\", \"house_data_png/din_1105.png\", \"house_data_png/din_1106.png\", \"house_data_png/din_1107.png\", \"house_data_png/din_1109.png\", \"house_data_png/din_1111.png\", \"house_data_png/din_1112.png\", \"house_data_png/din_1113.png\", \"house_data_png/din_1114.png\", \"house_data_png/din_1115.png\", \"house_data_png/din_1116.png\", \"house_data_png/din_1117.png\", \"house_data_png/din_1118.png\", \"house_data_png/din_1119.png\", \"house_data_png/din_1120.png\", \"house_data_png/din_1121.png\", \"house_data_png/din_1122.png\", \"house_data_png/din_1123.png\", \"house_data_png/din_1124.png\", \"house_data_png/din_1125.png\", \"house_data_png/din_1126.png\", \"house_data_png/din_1127.png\", \"house_data_png/din_1129.png\", \"house_data_png/din_113.png\", \"house_data_png/din_1130.png\", \"house_data_png/din_1131.png\", \"house_data_png/din_1132.png\", \"house_data_png/din_1133.png\", \"house_data_png/din_1134.png\", \"house_data_png/din_1135.png\", \"house_data_png/din_1137.png\", \"house_data_png/din_1138.png\", \"house_data_png/din_1139.png\", \"house_data_png/din_114.png\", \"house_data_png/din_1140.png\", \"house_data_png/din_1141.png\", \"house_data_png/din_1142.png\", \"house_data_png/din_1143.png\", \"house_data_png/din_1144.png\", \"house_data_png/din_1145.png\", \"house_data_png/din_1147.png\", \"house_data_png/din_1148.png\", \"house_data_png/din_1149.png\", \"house_data_png/din_115.png\", \"house_data_png/din_1150.png\", \"house_data_png/din_1151.png\", \"house_data_png/din_1152.png\", \"house_data_png/din_1153.png\", \"house_data_png/din_1154.png\", \"house_data_png/din_1155.png\", \"house_data_png/din_1156.png\", \"house_data_png/din_116.png\", \"house_data_png/din_1160.png\", \"house_data_png/din_1161.png\", \"house_data_png/din_1163.png\", \"house_data_png/din_1164.png\", \"house_data_png/din_1166.png\", \"house_data_png/din_1167.png\", \"house_data_png/din_1168.png\", \"house_data_png/din_1169.png\", \"house_data_png/din_117.png\", \"house_data_png/din_1171.png\", \"house_data_png/din_1173.png\", \"house_data_png/din_1174.png\", \"house_data_png/din_1175.png\", \"house_data_png/din_118.png\", \"house_data_png/din_1181.png\", \"house_data_png/din_1182.png\", \"house_data_png/din_1185.png\", \"house_data_png/din_1186.png\", \"house_data_png/din_1187.png\", \"house_data_png/din_1188.png\", \"house_data_png/din_1189.png\", \"house_data_png/din_1190.png\", \"house_data_png/din_1192.png\", \"house_data_png/din_1194.png\", \"house_data_png/din_1195.png\", \"house_data_png/din_1196.png\", \"house_data_png/din_1197.png\", \"house_data_png/din_1198.png\", \"house_data_png/din_12.png\", \"house_data_png/din_120.png\", \"house_data_png/din_1200.png\", \"house_data_png/din_1201.png\", \"house_data_png/din_1203.png\", \"house_data_png/din_1204.png\", \"house_data_png/din_1205.png\", \"house_data_png/din_1206.png\", \"house_data_png/din_1208.png\", \"house_data_png/din_1209.png\", \"house_data_png/din_121.png\", \"house_data_png/din_1211.png\", \"house_data_png/din_1212.png\", \"house_data_png/din_1213.png\", \"house_data_png/din_1214.png\", \"house_data_png/din_1215.png\", \"house_data_png/din_1216.png\", \"house_data_png/din_1217.png\", \"house_data_png/din_1218.png\", \"house_data_png/din_1219.png\", \"house_data_png/din_1220.png\", \"house_data_png/din_1222.png\", \"house_data_png/din_1224.png\", \"house_data_png/din_1225.png\", \"house_data_png/din_1226.png\", \"house_data_png/din_1227.png\", \"house_data_png/din_1228.png\", \"house_data_png/din_1229.png\", \"house_data_png/din_123.png\", \"house_data_png/din_1231.png\", \"house_data_png/din_1232.png\", \"house_data_png/din_1233.png\", \"house_data_png/din_1234.png\", \"house_data_png/din_1237.png\", \"house_data_png/din_1238.png\", \"house_data_png/din_1239.png\", \"house_data_png/din_124.png\", \"house_data_png/din_1240.png\", \"house_data_png/din_1241.png\", \"house_data_png/din_1243.png\", \"house_data_png/din_1245.png\", \"house_data_png/din_1246.png\", \"house_data_png/din_1247.png\", \"house_data_png/din_1248.png\", \"house_data_png/din_1249.png\", \"house_data_png/din_125.png\", \"house_data_png/din_1250.png\", \"house_data_png/din_1251.png\", \"house_data_png/din_1252.png\", \"house_data_png/din_1254.png\", \"house_data_png/din_1255.png\", \"house_data_png/din_1256.png\", \"house_data_png/din_1257.png\", \"house_data_png/din_1259.png\", \"house_data_png/din_1260.png\", \"house_data_png/din_1261.png\", \"house_data_png/din_1263.png\", \"house_data_png/din_1264.png\", \"house_data_png/din_1265.png\", \"house_data_png/din_1267.png\", \"house_data_png/din_1268.png\", \"house_data_png/din_1269.png\", \"house_data_png/din_1270.png\", \"house_data_png/din_1272.png\", \"house_data_png/din_1273.png\", \"house_data_png/din_1274.png\", \"house_data_png/din_1275.png\", \"house_data_png/din_1276.png\", \"house_data_png/din_1277.png\", \"house_data_png/din_1278.png\", \"house_data_png/din_1279.png\", \"house_data_png/din_128.png\", \"house_data_png/din_1281.png\", \"house_data_png/din_1282.png\", \"house_data_png/din_1284.png\", \"house_data_png/din_1285.png\", \"house_data_png/din_1286.png\", \"house_data_png/din_1287.png\", \"house_data_png/din_1288.png\", \"house_data_png/din_1289.png\", \"house_data_png/din_129.png\", \"house_data_png/din_1290.png\", \"house_data_png/din_1293.png\", \"house_data_png/din_1295.png\", \"house_data_png/din_13.png\", \"house_data_png/din_130.png\", \"house_data_png/din_1300.png\", \"house_data_png/din_1301.png\", \"house_data_png/din_1302.png\", \"house_data_png/din_1303.png\", \"house_data_png/din_1305.png\", \"house_data_png/din_1306.png\", \"house_data_png/din_1307.png\", \"house_data_png/din_1310.png\", \"house_data_png/din_1311.png\", \"house_data_png/din_1313.png\", \"house_data_png/din_1314.png\", \"house_data_png/din_1315.png\", \"house_data_png/din_1316.png\", \"house_data_png/din_1317.png\", \"house_data_png/din_1318.png\", \"house_data_png/din_1319.png\", \"house_data_png/din_1320.png\", \"house_data_png/din_1321.png\", \"house_data_png/din_1322.png\", \"house_data_png/din_1323.png\", \"house_data_png/din_1324.png\", \"house_data_png/din_1325.png\", \"house_data_png/din_1327.png\", \"house_data_png/din_1329.png\", \"house_data_png/din_1331.png\", \"house_data_png/din_1333.png\", \"house_data_png/din_1334.png\", \"house_data_png/din_1336.png\", \"house_data_png/din_1338.png\", \"house_data_png/din_1339.png\", \"house_data_png/din_134.png\", \"house_data_png/din_1340.png\", \"house_data_png/din_1341.png\", \"house_data_png/din_1342.png\", \"house_data_png/din_1344.png\", \"house_data_png/din_1345.png\", \"house_data_png/din_1347.png\", \"house_data_png/din_1349.png\", \"house_data_png/din_1350.png\", \"house_data_png/din_1351.png\", \"house_data_png/din_1352.png\", \"house_data_png/din_1353.png\", \"house_data_png/din_1354.png\", \"house_data_png/din_1355.png\", \"house_data_png/din_1356.png\", \"house_data_png/din_1357.png\", \"house_data_png/din_1358.png\", \"house_data_png/din_1359.png\", \"house_data_png/din_136.png\", \"house_data_png/din_1360.png\", \"house_data_png/din_1362.png\", \"house_data_png/din_1363.png\", \"house_data_png/din_1364.png\", \"house_data_png/din_1368.png\", \"house_data_png/din_1369.png\", \"house_data_png/din_137.png\", \"house_data_png/din_1370.png\", \"house_data_png/din_1372.png\", \"house_data_png/din_1373.png\", \"house_data_png/din_1375.png\", \"house_data_png/din_1376.png\", \"house_data_png/din_1377.png\", \"house_data_png/din_1378.png\", \"house_data_png/din_1380.png\", \"house_data_png/din_1381.png\", \"house_data_png/din_1382.png\", \"house_data_png/din_1383.png\", \"house_data_png/din_1386.png\", \"house_data_png/din_1388.png\", \"house_data_png/din_139.png\", \"house_data_png/din_1390.png\", \"house_data_png/din_1391.png\", \"house_data_png/din_1393.png\", \"house_data_png/din_1395.png\", \"house_data_png/din_1396.png\", \"house_data_png/din_1399.png\", \"house_data_png/din_140.png\", \"house_data_png/din_1400.png\", \"house_data_png/din_1402.png\", \"house_data_png/din_1404.png\", \"house_data_png/din_1406.png\", \"house_data_png/din_1407.png\", \"house_data_png/din_1408.png\", \"house_data_png/din_1409.png\", \"house_data_png/din_141.png\", \"house_data_png/din_1410.png\", \"house_data_png/din_1411.png\", \"house_data_png/din_1413.png\", \"house_data_png/din_1414.png\", \"house_data_png/din_1415.png\", \"house_data_png/din_1416.png\", \"house_data_png/din_1417.png\", \"house_data_png/din_1418.png\", \"house_data_png/din_1419.png\", \"house_data_png/din_1422.png\", \"house_data_png/din_1424.png\", \"house_data_png/din_1428.png\", \"house_data_png/din_1430.png\", \"house_data_png/din_1431.png\", \"house_data_png/din_1432.png\", \"house_data_png/din_1433.png\", \"house_data_png/din_1434.png\", \"house_data_png/din_1435.png\", \"house_data_png/din_1436.png\", \"house_data_png/din_1437.png\", \"house_data_png/din_1438.png\", \"house_data_png/din_1439.png\", \"house_data_png/din_1440.png\", \"house_data_png/din_1441.png\", \"house_data_png/din_1443.png\", \"house_data_png/din_1445.png\", \"house_data_png/din_1446.png\", \"house_data_png/din_1447.png\", \"house_data_png/din_1448.png\", \"house_data_png/din_1449.png\", \"house_data_png/din_145.png\", \"house_data_png/din_1451.png\", \"house_data_png/din_1453.png\", \"house_data_png/din_1454.png\", \"house_data_png/din_1455.png\", \"house_data_png/din_1456.png\", \"house_data_png/din_1457.png\", \"house_data_png/din_1458.png\", \"house_data_png/din_1459.png\", \"house_data_png/din_146.png\", \"house_data_png/din_1461.png\", \"house_data_png/din_1462.png\", \"house_data_png/din_1463.png\", \"house_data_png/din_1464.png\", \"house_data_png/din_1466.png\", \"house_data_png/din_1467.png\", \"house_data_png/din_1468.png\", \"house_data_png/din_1469.png\", \"house_data_png/din_147.png\", \"house_data_png/din_1470.png\", \"house_data_png/din_1471.png\", \"house_data_png/din_1472.png\", \"house_data_png/din_1473.png\", \"house_data_png/din_1474.png\", \"house_data_png/din_1475.png\", \"house_data_png/din_1476.png\", \"house_data_png/din_1478.png\", \"house_data_png/din_1480.png\", \"house_data_png/din_1482.png\", \"house_data_png/din_1483.png\", \"house_data_png/din_1484.png\", \"house_data_png/din_1485.png\", \"house_data_png/din_1487.png\", \"house_data_png/din_1488.png\", \"house_data_png/din_1489.png\", \"house_data_png/din_1490.png\", \"house_data_png/din_1491.png\", \"house_data_png/din_1492.png\", \"house_data_png/din_1493.png\", \"house_data_png/din_1494.png\", \"house_data_png/din_1495.png\", \"house_data_png/din_1496.png\", \"house_data_png/din_1497.png\", \"house_data_png/din_1499.png\", \"house_data_png/din_15.png\", \"house_data_png/din_150.png\", \"house_data_png/din_1503.png\", \"house_data_png/din_1504.png\", \"house_data_png/din_1505.png\", \"house_data_png/din_1507.png\", \"house_data_png/din_1508.png\", \"house_data_png/din_1509.png\", \"house_data_png/din_151.png\", \"house_data_png/din_1511.png\", \"house_data_png/din_1514.png\", \"house_data_png/din_1515.png\", \"house_data_png/din_1517.png\", \"house_data_png/din_1518.png\", \"house_data_png/din_152.png\", \"house_data_png/din_1520.png\", \"house_data_png/din_1523.png\", \"house_data_png/din_1524.png\", \"house_data_png/din_1525.png\", \"house_data_png/din_1526.png\", \"house_data_png/din_1528.png\", \"house_data_png/din_1529.png\", \"house_data_png/din_153.png\", \"house_data_png/din_1530.png\", \"house_data_png/din_1531.png\", \"house_data_png/din_1533.png\", \"house_data_png/din_1535.png\", \"house_data_png/din_1536.png\", \"house_data_png/din_1537.png\", \"house_data_png/din_1538.png\", \"house_data_png/din_1539.png\", \"house_data_png/din_1540.png\", \"house_data_png/din_1542.png\", \"house_data_png/din_1544.png\", \"house_data_png/din_1545.png\", \"house_data_png/din_1546.png\", \"house_data_png/din_1548.png\", \"house_data_png/din_155.png\", \"house_data_png/din_1551.png\", \"house_data_png/din_1552.png\", \"house_data_png/din_1553.png\", \"house_data_png/din_1555.png\", \"house_data_png/din_1556.png\", \"house_data_png/din_1557.png\", \"house_data_png/din_1558.png\", \"house_data_png/din_1559.png\", \"house_data_png/din_156.png\", \"house_data_png/din_1560.png\", \"house_data_png/din_1561.png\", \"house_data_png/din_1563.png\", \"house_data_png/din_1564.png\", \"house_data_png/din_1565.png\", \"house_data_png/din_1566.png\", \"house_data_png/din_1567.png\", \"house_data_png/din_1568.png\", \"house_data_png/din_1569.png\", \"house_data_png/din_157.png\", \"house_data_png/din_1570.png\", \"house_data_png/din_1571.png\", \"house_data_png/din_1572.png\", \"house_data_png/din_1573.png\", \"house_data_png/din_1574.png\", \"house_data_png/din_1575.png\", \"house_data_png/din_1576.png\", \"house_data_png/din_1577.png\", \"house_data_png/din_1578.png\", \"house_data_png/din_1579.png\", \"house_data_png/din_158.png\", \"house_data_png/din_1580.png\", \"house_data_png/din_1581.png\", \"house_data_png/din_1582.png\", \"house_data_png/din_1583.png\", \"house_data_png/din_1584.png\", \"house_data_png/din_1586.png\", \"house_data_png/din_1588.png\", \"house_data_png/din_1589.png\", \"house_data_png/din_159.png\", \"house_data_png/din_1593.png\", \"house_data_png/din_160.png\", \"house_data_png/din_161.png\", \"house_data_png/din_165.png\", \"house_data_png/din_166.png\", \"house_data_png/din_168.png\", \"house_data_png/din_169.png\", \"house_data_png/din_17.png\", \"house_data_png/din_170.png\", \"house_data_png/din_172.png\", \"house_data_png/din_174.png\", \"house_data_png/din_175.png\", \"house_data_png/din_176.png\", \"house_data_png/din_177.png\", \"house_data_png/din_178.png\", \"house_data_png/din_18.png\", \"house_data_png/din_180.png\", \"house_data_png/din_181.png\", \"house_data_png/din_183.png\", \"house_data_png/din_184.png\", \"house_data_png/din_185.png\", \"house_data_png/din_187.png\", \"house_data_png/din_188.png\", \"house_data_png/din_189.png\", \"house_data_png/din_19.png\", \"house_data_png/din_193.png\", \"house_data_png/din_194.png\", \"house_data_png/din_196.png\", \"house_data_png/din_197.png\", \"house_data_png/din_20.png\", \"house_data_png/din_201.png\", \"house_data_png/din_203.png\", \"house_data_png/din_204.png\", \"house_data_png/din_207.png\", \"house_data_png/din_208.png\", \"house_data_png/din_21.png\", \"house_data_png/din_210.png\", \"house_data_png/din_213.png\", \"house_data_png/din_214.png\", \"house_data_png/din_22.png\", \"house_data_png/din_220.png\", \"house_data_png/din_222.png\", \"house_data_png/din_223.png\", \"house_data_png/din_226.png\", \"house_data_png/din_227.png\", \"house_data_png/din_228.png\", \"house_data_png/din_229.png\", \"house_data_png/din_23.png\", \"house_data_png/din_230.png\", \"house_data_png/din_231.png\", \"house_data_png/din_235.png\", \"house_data_png/din_236.png\", \"house_data_png/din_237.png\", \"house_data_png/din_238.png\", \"house_data_png/din_239.png\", \"house_data_png/din_24.png\", \"house_data_png/din_240.png\", \"house_data_png/din_242.png\", \"house_data_png/din_243.png\", \"house_data_png/din_244.png\", \"house_data_png/din_246.png\", \"house_data_png/din_247.png\", \"house_data_png/din_248.png\", \"house_data_png/din_25.png\", \"house_data_png/din_251.png\", \"house_data_png/din_253.png\", \"house_data_png/din_254.png\", \"house_data_png/din_255.png\", \"house_data_png/din_257.png\", \"house_data_png/din_258.png\", \"house_data_png/din_259.png\", \"house_data_png/din_260.png\", \"house_data_png/din_261.png\", \"house_data_png/din_263.png\", \"house_data_png/din_264.png\", \"house_data_png/din_265.png\", \"house_data_png/din_266.png\", \"house_data_png/din_267.png\", \"house_data_png/din_268.png\", \"house_data_png/din_270.png\", \"house_data_png/din_272.png\", \"house_data_png/din_273.png\", \"house_data_png/din_274.png\", \"house_data_png/din_275.png\", \"house_data_png/din_276.png\", \"house_data_png/din_278.png\", \"house_data_png/din_279.png\", \"house_data_png/din_28.png\", \"house_data_png/din_280.png\", \"house_data_png/din_281.png\", \"house_data_png/din_283.png\", \"house_data_png/din_284.png\", \"house_data_png/din_288.png\", \"house_data_png/din_29.png\", \"house_data_png/din_292.png\", \"house_data_png/din_293.png\", \"house_data_png/din_294.png\", \"house_data_png/din_295.png\", \"house_data_png/din_296.png\", \"house_data_png/din_297.png\", \"house_data_png/din_298.png\", \"house_data_png/din_299.png\", \"house_data_png/din_3.png\", \"house_data_png/din_300.png\", \"house_data_png/din_301.png\", \"house_data_png/din_302.png\", \"house_data_png/din_303.png\", \"house_data_png/din_304.png\", \"house_data_png/din_305.png\", \"house_data_png/din_307.png\", \"house_data_png/din_308.png\", \"house_data_png/din_309.png\", \"house_data_png/din_31.png\", \"house_data_png/din_310.png\", \"house_data_png/din_311.png\", \"house_data_png/din_312.png\", \"house_data_png/din_313.png\", \"house_data_png/din_314.png\", \"house_data_png/din_316.png\", \"house_data_png/din_317.png\", \"house_data_png/din_318.png\", \"house_data_png/din_319.png\", \"house_data_png/din_320.png\", \"house_data_png/din_322.png\", \"house_data_png/din_323.png\", \"house_data_png/din_326.png\", \"house_data_png/din_329.png\", \"house_data_png/din_33.png\", \"house_data_png/din_330.png\", \"house_data_png/din_331.png\", \"house_data_png/din_332.png\", \"house_data_png/din_333.png\", \"house_data_png/din_334.png\", \"house_data_png/din_336.png\", \"house_data_png/din_338.png\", \"house_data_png/din_339.png\", \"house_data_png/din_34.png\", \"house_data_png/din_340.png\", \"house_data_png/din_343.png\", \"house_data_png/din_346.png\", \"house_data_png/din_347.png\", \"house_data_png/din_349.png\", \"house_data_png/din_35.png\", \"house_data_png/din_350.png\", \"house_data_png/din_351.png\", \"house_data_png/din_352.png\", \"house_data_png/din_354.png\", \"house_data_png/din_356.png\", \"house_data_png/din_357.png\", \"house_data_png/din_358.png\", \"house_data_png/din_361.png\", \"house_data_png/din_362.png\", \"house_data_png/din_363.png\", \"house_data_png/din_364.png\", \"house_data_png/din_365.png\", \"house_data_png/din_366.png\", \"house_data_png/din_367.png\", \"house_data_png/din_368.png\", \"house_data_png/din_369.png\", \"house_data_png/din_37.png\", \"house_data_png/din_370.png\", \"house_data_png/din_372.png\", \"house_data_png/din_373.png\", \"house_data_png/din_376.png\", \"house_data_png/din_377.png\", \"house_data_png/din_378.png\", \"house_data_png/din_379.png\", \"house_data_png/din_380.png\", \"house_data_png/din_381.png\", \"house_data_png/din_383.png\", \"house_data_png/din_384.png\", \"house_data_png/din_385.png\", \"house_data_png/din_386.png\", \"house_data_png/din_387.png\", \"house_data_png/din_388.png\", \"house_data_png/din_39.png\", \"house_data_png/din_390.png\", \"house_data_png/din_391.png\", \"house_data_png/din_392.png\", \"house_data_png/din_393.png\", \"house_data_png/din_394.png\", \"house_data_png/din_395.png\", \"house_data_png/din_396.png\", \"house_data_png/din_397.png\", \"house_data_png/din_398.png\", \"house_data_png/din_399.png\", \"house_data_png/din_4.png\", \"house_data_png/din_400.png\", \"house_data_png/din_402.png\", \"house_data_png/din_403.png\", \"house_data_png/din_404.png\", \"house_data_png/din_405.png\", \"house_data_png/din_407.png\", \"house_data_png/din_408.png\", \"house_data_png/din_409.png\", \"house_data_png/din_41.png\", \"house_data_png/din_410.png\", \"house_data_png/din_412.png\", \"house_data_png/din_413.png\", \"house_data_png/din_415.png\", \"house_data_png/din_417.png\", \"house_data_png/din_418.png\", \"house_data_png/din_419.png\", \"house_data_png/din_42.png\", \"house_data_png/din_420.png\", \"house_data_png/din_421.png\", \"house_data_png/din_422.png\", \"house_data_png/din_424.png\", \"house_data_png/din_425.png\", \"house_data_png/din_426.png\", \"house_data_png/din_427.png\", \"house_data_png/din_429.png\", \"house_data_png/din_43.png\", \"house_data_png/din_430.png\", \"house_data_png/din_431.png\", \"house_data_png/din_432.png\", \"house_data_png/din_433.png\", \"house_data_png/din_435.png\", \"house_data_png/din_44.png\", \"house_data_png/din_441.png\", \"house_data_png/din_442.png\", \"house_data_png/din_443.png\", \"house_data_png/din_445.png\", \"house_data_png/din_446.png\", \"house_data_png/din_447.png\", \"house_data_png/din_448.png\", \"house_data_png/din_449.png\", \"house_data_png/din_45.png\", \"house_data_png/din_450.png\", \"house_data_png/din_452.png\", \"house_data_png/din_453.png\", \"house_data_png/din_455.png\", \"house_data_png/din_458.png\", \"house_data_png/din_459.png\", \"house_data_png/din_46.png\", \"house_data_png/din_460.png\", \"house_data_png/din_461.png\", \"house_data_png/din_462.png\", \"house_data_png/din_465.png\", \"house_data_png/din_466.png\", \"house_data_png/din_468.png\", \"house_data_png/din_47.png\", \"house_data_png/din_471.png\", \"house_data_png/din_472.png\", \"house_data_png/din_474.png\", \"house_data_png/din_477.png\", \"house_data_png/din_478.png\", \"house_data_png/din_479.png\", \"house_data_png/din_48.png\", \"house_data_png/din_480.png\", \"house_data_png/din_481.png\", \"house_data_png/din_483.png\", \"house_data_png/din_485.png\", \"house_data_png/din_486.png\", \"house_data_png/din_489.png\", \"house_data_png/din_493.png\", \"house_data_png/din_495.png\", \"house_data_png/din_496.png\", \"house_data_png/din_497.png\", \"house_data_png/din_499.png\", \"house_data_png/din_50.png\", \"house_data_png/din_500.png\", \"house_data_png/din_501.png\", \"house_data_png/din_503.png\", \"house_data_png/din_504.png\", \"house_data_png/din_505.png\", \"house_data_png/din_508.png\", \"house_data_png/din_509.png\", \"house_data_png/din_510.png\", \"house_data_png/din_512.png\", \"house_data_png/din_514.png\", \"house_data_png/din_515.png\", \"house_data_png/din_516.png\", \"house_data_png/din_518.png\", \"house_data_png/din_52.png\", \"house_data_png/din_520.png\", \"house_data_png/din_523.png\", \"house_data_png/din_524.png\", \"house_data_png/din_526.png\", \"house_data_png/din_530.png\", \"house_data_png/din_531.png\", \"house_data_png/din_532.png\", \"house_data_png/din_533.png\", \"house_data_png/din_534.png\", \"house_data_png/din_535.png\", \"house_data_png/din_538.png\", \"house_data_png/din_539.png\", \"house_data_png/din_54.png\", \"house_data_png/din_540.png\", \"house_data_png/din_542.png\", \"house_data_png/din_544.png\", \"house_data_png/din_545.png\", \"house_data_png/din_546.png\", \"house_data_png/din_547.png\", \"house_data_png/din_548.png\", \"house_data_png/din_549.png\", \"house_data_png/din_55.png\", \"house_data_png/din_550.png\", \"house_data_png/din_552.png\", \"house_data_png/din_555.png\", \"house_data_png/din_556.png\", \"house_data_png/din_557.png\", \"house_data_png/din_56.png\", \"house_data_png/din_560.png\", \"house_data_png/din_562.png\", \"house_data_png/din_563.png\", \"house_data_png/din_564.png\", \"house_data_png/din_566.png\", \"house_data_png/din_567.png\", \"house_data_png/din_568.png\", \"house_data_png/din_569.png\", \"house_data_png/din_57.png\", \"house_data_png/din_570.png\", \"house_data_png/din_572.png\", \"house_data_png/din_573.png\", \"house_data_png/din_574.png\", \"house_data_png/din_575.png\", \"house_data_png/din_576.png\", \"house_data_png/din_578.png\", \"house_data_png/din_579.png\", \"house_data_png/din_58.png\", \"house_data_png/din_580.png\", \"house_data_png/din_581.png\", \"house_data_png/din_582.png\", \"house_data_png/din_583.png\", \"house_data_png/din_584.png\", \"house_data_png/din_585.png\", \"house_data_png/din_586.png\", \"house_data_png/din_587.png\", \"house_data_png/din_588.png\", \"house_data_png/din_589.png\", \"house_data_png/din_59.png\", \"house_data_png/din_591.png\", \"house_data_png/din_592.png\", \"house_data_png/din_593.png\", \"house_data_png/din_594.png\", \"house_data_png/din_595.png\", \"house_data_png/din_596.png\", \"house_data_png/din_597.png\", \"house_data_png/din_6.png\", \"house_data_png/din_60.png\", \"house_data_png/din_600.png\", \"house_data_png/din_601.png\", \"house_data_png/din_604.png\", \"house_data_png/din_605.png\", \"house_data_png/din_608.png\", \"house_data_png/din_609.png\", \"house_data_png/din_61.png\", \"house_data_png/din_611.png\", \"house_data_png/din_613.png\", \"house_data_png/din_615.png\", \"house_data_png/din_616.png\", \"house_data_png/din_617.png\", \"house_data_png/din_619.png\", \"house_data_png/din_62.png\", \"house_data_png/din_620.png\", \"house_data_png/din_621.png\", \"house_data_png/din_623.png\", \"house_data_png/din_625.png\", \"house_data_png/din_627.png\", \"house_data_png/din_63.png\", \"house_data_png/din_630.png\", \"house_data_png/din_631.png\", \"house_data_png/din_633.png\", \"house_data_png/din_635.png\", \"house_data_png/din_636.png\", \"house_data_png/din_637.png\", \"house_data_png/din_639.png\", \"house_data_png/din_64.png\", \"house_data_png/din_640.png\", \"house_data_png/din_641.png\", \"house_data_png/din_644.png\", \"house_data_png/din_645.png\", \"house_data_png/din_646.png\", \"house_data_png/din_647.png\", \"house_data_png/din_648.png\", \"house_data_png/din_65.png\", \"house_data_png/din_650.png\", \"house_data_png/din_651.png\", \"house_data_png/din_652.png\", \"house_data_png/din_653.png\", \"house_data_png/din_654.png\", \"house_data_png/din_655.png\", \"house_data_png/din_656.png\", \"house_data_png/din_657.png\", \"house_data_png/din_658.png\", \"house_data_png/din_659.png\", \"house_data_png/din_66.png\", \"house_data_png/din_661.png\", \"house_data_png/din_662.png\", \"house_data_png/din_663.png\", \"house_data_png/din_664.png\", \"house_data_png/din_665.png\", \"house_data_png/din_667.png\", \"house_data_png/din_669.png\", \"house_data_png/din_67.png\", \"house_data_png/din_670.png\", \"house_data_png/din_671.png\", \"house_data_png/din_672.png\", \"house_data_png/din_673.png\", \"house_data_png/din_674.png\", \"house_data_png/din_675.png\", \"house_data_png/din_676.png\", \"house_data_png/din_677.png\", \"house_data_png/din_678.png\", \"house_data_png/din_679.png\", \"house_data_png/din_68.png\", \"house_data_png/din_681.png\", \"house_data_png/din_682.png\", \"house_data_png/din_683.png\", \"house_data_png/din_684.png\", \"house_data_png/din_687.png\", \"house_data_png/din_688.png\", \"house_data_png/din_689.png\", \"house_data_png/din_69.png\", \"house_data_png/din_692.png\", \"house_data_png/din_694.png\", \"house_data_png/din_695.png\", \"house_data_png/din_696.png\", \"house_data_png/din_697.png\", \"house_data_png/din_699.png\", \"house_data_png/din_7.png\", \"house_data_png/din_700.png\", \"house_data_png/din_701.png\", \"house_data_png/din_702.png\", \"house_data_png/din_703.png\", \"house_data_png/din_705.png\", \"house_data_png/din_706.png\", \"house_data_png/din_707.png\", \"house_data_png/din_708.png\", \"house_data_png/din_709.png\", \"house_data_png/din_710.png\", \"house_data_png/din_711.png\", \"house_data_png/din_712.png\", \"house_data_png/din_713.png\", \"house_data_png/din_714.png\", \"house_data_png/din_715.png\", \"house_data_png/din_716.png\", \"house_data_png/din_717.png\", \"house_data_png/din_718.png\", \"house_data_png/din_719.png\", \"house_data_png/din_72.png\", \"house_data_png/din_720.png\", \"house_data_png/din_722.png\", \"house_data_png/din_723.png\", \"house_data_png/din_724.png\", \"house_data_png/din_725.png\", \"house_data_png/din_726.png\", \"house_data_png/din_727.png\", \"house_data_png/din_729.png\", \"house_data_png/din_73.png\", \"house_data_png/din_732.png\", \"house_data_png/din_733.png\", \"house_data_png/din_734.png\", \"house_data_png/din_735.png\", \"house_data_png/din_736.png\", \"house_data_png/din_737.png\", \"house_data_png/din_738.png\", \"house_data_png/din_739.png\", \"house_data_png/din_74.png\", \"house_data_png/din_740.png\", \"house_data_png/din_742.png\", \"house_data_png/din_743.png\", \"house_data_png/din_744.png\", \"house_data_png/din_745.png\", \"house_data_png/din_746.png\", \"house_data_png/din_747.png\", \"house_data_png/din_748.png\", \"house_data_png/din_749.png\", \"house_data_png/din_75.png\", \"house_data_png/din_750.png\", \"house_data_png/din_751.png\", \"house_data_png/din_754.png\", \"house_data_png/din_755.png\", \"house_data_png/din_756.png\", \"house_data_png/din_757.png\", \"house_data_png/din_759.png\", \"house_data_png/din_761.png\", \"house_data_png/din_762.png\", \"house_data_png/din_763.png\", \"house_data_png/din_767.png\", \"house_data_png/din_768.png\", \"house_data_png/din_770.png\", \"house_data_png/din_771.png\", \"house_data_png/din_772.png\", \"house_data_png/din_773.png\", \"house_data_png/din_774.png\", \"house_data_png/din_775.png\", \"house_data_png/din_776.png\", \"house_data_png/din_779.png\", \"house_data_png/din_78.png\", \"house_data_png/din_782.png\", \"house_data_png/din_783.png\", \"house_data_png/din_784.png\", \"house_data_png/din_787.png\", \"house_data_png/din_788.png\", \"house_data_png/din_789.png\", \"house_data_png/din_79.png\", \"house_data_png/din_790.png\", \"house_data_png/din_791.png\", \"house_data_png/din_792.png\", \"house_data_png/din_795.png\", \"house_data_png/din_796.png\", \"house_data_png/din_797.png\", \"house_data_png/din_8.png\", \"house_data_png/din_80.png\", \"house_data_png/din_800.png\", \"house_data_png/din_801.png\", \"house_data_png/din_802.png\", \"house_data_png/din_804.png\", \"house_data_png/din_805.png\", \"house_data_png/din_806.png\", \"house_data_png/din_808.png\", \"house_data_png/din_809.png\", \"house_data_png/din_81.png\", \"house_data_png/din_810.png\", \"house_data_png/din_811.png\", \"house_data_png/din_812.png\", \"house_data_png/din_814.png\", \"house_data_png/din_817.png\", \"house_data_png/din_818.png\", \"house_data_png/din_82.png\", \"house_data_png/din_821.png\", \"house_data_png/din_822.png\", \"house_data_png/din_824.png\", \"house_data_png/din_825.png\", \"house_data_png/din_83.png\", \"house_data_png/din_832.png\", \"house_data_png/din_833.png\", \"house_data_png/din_834.png\", \"house_data_png/din_835.png\", \"house_data_png/din_836.png\", \"house_data_png/din_837.png\", \"house_data_png/din_839.png\", \"house_data_png/din_84.png\", \"house_data_png/din_840.png\", \"house_data_png/din_841.png\", \"house_data_png/din_844.png\", \"house_data_png/din_846.png\", \"house_data_png/din_847.png\", \"house_data_png/din_848.png\", \"house_data_png/din_849.png\", \"house_data_png/din_85.png\", \"house_data_png/din_850.png\", \"house_data_png/din_851.png\", \"house_data_png/din_854.png\", \"house_data_png/din_856.png\", \"house_data_png/din_857.png\", \"house_data_png/din_858.png\", \"house_data_png/din_86.png\", \"house_data_png/din_860.png\", \"house_data_png/din_861.png\", \"house_data_png/din_863.png\", \"house_data_png/din_864.png\", \"house_data_png/din_865.png\", \"house_data_png/din_866.png\", \"house_data_png/din_867.png\", \"house_data_png/din_870.png\", \"house_data_png/din_871.png\", \"house_data_png/din_872.png\", \"house_data_png/din_874.png\", \"house_data_png/din_875.png\", \"house_data_png/din_876.png\", \"house_data_png/din_878.png\", \"house_data_png/din_879.png\", \"house_data_png/din_880.png\", \"house_data_png/din_883.png\", \"house_data_png/din_884.png\", \"house_data_png/din_885.png\", \"house_data_png/din_886.png\", \"house_data_png/din_887.png\", \"house_data_png/din_889.png\", \"house_data_png/din_89.png\", \"house_data_png/din_890.png\", \"house_data_png/din_891.png\", \"house_data_png/din_892.png\", \"house_data_png/din_893.png\", \"house_data_png/din_894.png\", \"house_data_png/din_895.png\", \"house_data_png/din_898.png\", \"house_data_png/din_899.png\", \"house_data_png/din_9.png\", \"house_data_png/din_90.png\", \"house_data_png/din_900.png\", \"house_data_png/din_902.png\", \"house_data_png/din_903.png\", \"house_data_png/din_904.png\", \"house_data_png/din_905.png\", \"house_data_png/din_906.png\", \"house_data_png/din_907.png\", \"house_data_png/din_910.png\", \"house_data_png/din_911.png\", \"house_data_png/din_912.png\", \"house_data_png/din_913.png\", \"house_data_png/din_914.png\", \"house_data_png/din_915.png\", \"house_data_png/din_916.png\", \"house_data_png/din_918.png\", \"house_data_png/din_919.png\", \"house_data_png/din_92.png\", \"house_data_png/din_920.png\", \"house_data_png/din_921.png\", \"house_data_png/din_922.png\", \"house_data_png/din_923.png\", \"house_data_png/din_924.png\", \"house_data_png/din_926.png\", \"house_data_png/din_927.png\", \"house_data_png/din_928.png\", \"house_data_png/din_929.png\", \"house_data_png/din_930.png\", \"house_data_png/din_932.png\", \"house_data_png/din_933.png\", \"house_data_png/din_934.png\", \"house_data_png/din_935.png\", \"house_data_png/din_936.png\", \"house_data_png/din_937.png\", \"house_data_png/din_939.png\", \"house_data_png/din_940.png\", \"house_data_png/din_941.png\", \"house_data_png/din_942.png\", \"house_data_png/din_944.png\", \"house_data_png/din_945.png\", \"house_data_png/din_946.png\", \"house_data_png/din_947.png\", \"house_data_png/din_948.png\", \"house_data_png/din_949.png\", \"house_data_png/din_95.png\", \"house_data_png/din_953.png\", \"house_data_png/din_954.png\", \"house_data_png/din_955.png\", \"house_data_png/din_956.png\", \"house_data_png/din_958.png\", \"house_data_png/din_959.png\", \"house_data_png/din_96.png\", \"house_data_png/din_961.png\", \"house_data_png/din_963.png\", \"house_data_png/din_964.png\", \"house_data_png/din_965.png\", \"house_data_png/din_966.png\", \"house_data_png/din_967.png\", \"house_data_png/din_968.png\", \"house_data_png/din_969.png\", \"house_data_png/din_97.png\", \"house_data_png/din_970.png\", \"house_data_png/din_971.png\", \"house_data_png/din_973.png\", \"house_data_png/din_974.png\", \"house_data_png/din_976.png\", \"house_data_png/din_977.png\", \"house_data_png/din_980.png\", \"house_data_png/din_981.png\", \"house_data_png/din_982.png\", \"house_data_png/din_983.png\", \"house_data_png/din_984.png\", \"house_data_png/din_985.png\", \"house_data_png/din_986.png\", \"house_data_png/din_989.png\", \"house_data_png/din_99.png\", \"house_data_png/din_990.png\", \"house_data_png/din_991.png\", \"house_data_png/din_992.png\", \"house_data_png/din_993.png\", \"house_data_png/din_994.png\", \"house_data_png/din_995.png\", \"house_data_png/din_996.png\", \"house_data_png/din_997.png\", \"house_data_png/din_999.png\", \"house_data_png/kitchen_1.png\", \"house_data_png/kitchen_10.png\", \"house_data_png/kitchen_100.png\", \"house_data_png/kitchen_1000.png\", \"house_data_png/kitchen_1001.png\", \"house_data_png/kitchen_1002.png\", \"house_data_png/kitchen_1003.png\", \"house_data_png/kitchen_1004.png\", \"house_data_png/kitchen_1005.png\", \"house_data_png/kitchen_1006.png\", \"house_data_png/kitchen_1007.png\", \"house_data_png/kitchen_1009.png\", \"house_data_png/kitchen_101.png\", \"house_data_png/kitchen_1011.png\", \"house_data_png/kitchen_1012.png\", \"house_data_png/kitchen_1013.png\", \"house_data_png/kitchen_1014.png\", \"house_data_png/kitchen_1016.png\", \"house_data_png/kitchen_1017.png\", \"house_data_png/kitchen_1018.png\", \"house_data_png/kitchen_1019.png\", \"house_data_png/kitchen_1021.png\", \"house_data_png/kitchen_1022.png\", \"house_data_png/kitchen_1023.png\", \"house_data_png/kitchen_1024.png\", \"house_data_png/kitchen_1025.png\", \"house_data_png/kitchen_1026.png\", \"house_data_png/kitchen_1027.png\", \"house_data_png/kitchen_1028.png\", \"house_data_png/kitchen_1029.png\", \"house_data_png/kitchen_1030.png\", \"house_data_png/kitchen_1031.png\", \"house_data_png/kitchen_1032.png\", \"house_data_png/kitchen_1033.png\", \"house_data_png/kitchen_1034.png\", \"house_data_png/kitchen_1035.png\", \"house_data_png/kitchen_1036.png\", \"house_data_png/kitchen_1037.png\", \"house_data_png/kitchen_1038.png\", \"house_data_png/kitchen_104.png\", \"house_data_png/kitchen_1040.png\", \"house_data_png/kitchen_1041.png\", \"house_data_png/kitchen_1042.png\", \"house_data_png/kitchen_1043.png\", \"house_data_png/kitchen_1044.png\", \"house_data_png/kitchen_1045.png\", \"house_data_png/kitchen_1046.png\", \"house_data_png/kitchen_1047.png\", \"house_data_png/kitchen_1048.png\", \"house_data_png/kitchen_1049.png\", \"house_data_png/kitchen_105.png\", \"house_data_png/kitchen_1050.png\", \"house_data_png/kitchen_1052.png\", \"house_data_png/kitchen_1053.png\", \"house_data_png/kitchen_1054.png\", \"house_data_png/kitchen_1056.png\", \"house_data_png/kitchen_1057.png\", \"house_data_png/kitchen_1058.png\", \"house_data_png/kitchen_1059.png\", \"house_data_png/kitchen_106.png\", \"house_data_png/kitchen_1060.png\", \"house_data_png/kitchen_1062.png\", \"house_data_png/kitchen_1065.png\", \"house_data_png/kitchen_1067.png\", \"house_data_png/kitchen_1068.png\", \"house_data_png/kitchen_1069.png\", \"house_data_png/kitchen_107.png\", \"house_data_png/kitchen_1070.png\", \"house_data_png/kitchen_1071.png\", \"house_data_png/kitchen_1072.png\", \"house_data_png/kitchen_1073.png\", \"house_data_png/kitchen_1074.png\", \"house_data_png/kitchen_1075.png\", \"house_data_png/kitchen_1076.png\", \"house_data_png/kitchen_1077.png\", \"house_data_png/kitchen_1078.png\", \"house_data_png/kitchen_1079.png\", \"house_data_png/kitchen_108.png\", \"house_data_png/kitchen_1080.png\", \"house_data_png/kitchen_1081.png\", \"house_data_png/kitchen_1082.png\", \"house_data_png/kitchen_1086.png\", \"house_data_png/kitchen_109.png\", \"house_data_png/kitchen_1096.png\", \"house_data_png/kitchen_1097.png\", \"house_data_png/kitchen_1098.png\", \"house_data_png/kitchen_1099.png\", \"house_data_png/kitchen_1100.png\", \"house_data_png/kitchen_1101.png\", \"house_data_png/kitchen_1102.png\", \"house_data_png/kitchen_1103.png\", \"house_data_png/kitchen_1105.png\", \"house_data_png/kitchen_1106.png\", \"house_data_png/kitchen_1107.png\", \"house_data_png/kitchen_1108.png\", \"house_data_png/kitchen_1109.png\", \"house_data_png/kitchen_1110.png\", \"house_data_png/kitchen_1112.png\", \"house_data_png/kitchen_1114.png\", \"house_data_png/kitchen_1115.png\", \"house_data_png/kitchen_1117.png\", \"house_data_png/kitchen_1118.png\", \"house_data_png/kitchen_1119.png\", \"house_data_png/kitchen_112.png\", \"house_data_png/kitchen_1120.png\", \"house_data_png/kitchen_1122.png\", \"house_data_png/kitchen_1123.png\", \"house_data_png/kitchen_1124.png\", \"house_data_png/kitchen_1125.png\", \"house_data_png/kitchen_1126.png\", \"house_data_png/kitchen_1128.png\", \"house_data_png/kitchen_1130.png\", \"house_data_png/kitchen_1131.png\", \"house_data_png/kitchen_1132.png\", \"house_data_png/kitchen_1133.png\", \"house_data_png/kitchen_1134.png\", \"house_data_png/kitchen_1135.png\", \"house_data_png/kitchen_1136.png\", \"house_data_png/kitchen_1137.png\", \"house_data_png/kitchen_1138.png\", \"house_data_png/kitchen_1139.png\", \"house_data_png/kitchen_114.png\", \"house_data_png/kitchen_1140.png\", \"house_data_png/kitchen_1141.png\", \"house_data_png/kitchen_1142.png\", \"house_data_png/kitchen_1143.png\", \"house_data_png/kitchen_1144.png\", \"house_data_png/kitchen_1145.png\", \"house_data_png/kitchen_1146.png\", \"house_data_png/kitchen_1147.png\", \"house_data_png/kitchen_1148.png\", \"house_data_png/kitchen_1149.png\", \"house_data_png/kitchen_1150.png\", \"house_data_png/kitchen_1151.png\", \"house_data_png/kitchen_1152.png\", \"house_data_png/kitchen_1154.png\", \"house_data_png/kitchen_1156.png\", \"house_data_png/kitchen_1157.png\", \"house_data_png/kitchen_1158.png\", \"house_data_png/kitchen_1159.png\", \"house_data_png/kitchen_1160.png\", \"house_data_png/kitchen_1161.png\", \"house_data_png/kitchen_1162.png\", \"house_data_png/kitchen_1163.png\", \"house_data_png/kitchen_1164.png\", \"house_data_png/kitchen_1165.png\", \"house_data_png/kitchen_1166.png\", \"house_data_png/kitchen_1169.png\", \"house_data_png/kitchen_117.png\", \"house_data_png/kitchen_1170.png\", \"house_data_png/kitchen_1171.png\", \"house_data_png/kitchen_1172.png\", \"house_data_png/kitchen_1173.png\", \"house_data_png/kitchen_1178.png\", \"house_data_png/kitchen_1180.png\", \"house_data_png/kitchen_1182.png\", \"house_data_png/kitchen_1183.png\", \"house_data_png/kitchen_1184.png\", \"house_data_png/kitchen_1185.png\", \"house_data_png/kitchen_1186.png\", \"house_data_png/kitchen_1187.png\", \"house_data_png/kitchen_1188.png\", \"house_data_png/kitchen_1189.png\", \"house_data_png/kitchen_1190.png\", \"house_data_png/kitchen_1191.png\", \"house_data_png/kitchen_1192.png\", \"house_data_png/kitchen_1193.png\", \"house_data_png/kitchen_1194.png\", \"house_data_png/kitchen_1195.png\", \"house_data_png/kitchen_1196.png\", \"house_data_png/kitchen_1197.png\", \"house_data_png/kitchen_1198.png\", \"house_data_png/kitchen_1199.png\", \"house_data_png/kitchen_12.png\", \"house_data_png/kitchen_1200.png\", \"house_data_png/kitchen_1201.png\", \"house_data_png/kitchen_1203.png\", \"house_data_png/kitchen_1204.png\", \"house_data_png/kitchen_1206.png\", \"house_data_png/kitchen_1207.png\", \"house_data_png/kitchen_1208.png\", \"house_data_png/kitchen_1209.png\", \"house_data_png/kitchen_121.png\", \"house_data_png/kitchen_1211.png\", \"house_data_png/kitchen_1212.png\", \"house_data_png/kitchen_1213.png\", \"house_data_png/kitchen_1214.png\", \"house_data_png/kitchen_1215.png\", \"house_data_png/kitchen_122.png\", \"house_data_png/kitchen_1222.png\", \"house_data_png/kitchen_1224.png\", \"house_data_png/kitchen_1226.png\", \"house_data_png/kitchen_1227.png\", \"house_data_png/kitchen_1228.png\", \"house_data_png/kitchen_1229.png\", \"house_data_png/kitchen_123.png\", \"house_data_png/kitchen_1230.png\", \"house_data_png/kitchen_1231.png\", \"house_data_png/kitchen_1235.png\", \"house_data_png/kitchen_1236.png\", \"house_data_png/kitchen_1237.png\", \"house_data_png/kitchen_1238.png\", \"house_data_png/kitchen_1239.png\", \"house_data_png/kitchen_1241.png\", \"house_data_png/kitchen_1242.png\", \"house_data_png/kitchen_1243.png\", \"house_data_png/kitchen_1246.png\", \"house_data_png/kitchen_1247.png\", \"house_data_png/kitchen_1248.png\", \"house_data_png/kitchen_1249.png\", \"house_data_png/kitchen_1250.png\", \"house_data_png/kitchen_1251.png\", \"house_data_png/kitchen_1253.png\", \"house_data_png/kitchen_1254.png\", \"house_data_png/kitchen_1256.png\", \"house_data_png/kitchen_1257.png\", \"house_data_png/kitchen_1259.png\", \"house_data_png/kitchen_1260.png\", \"house_data_png/kitchen_1261.png\", \"house_data_png/kitchen_1262.png\", \"house_data_png/kitchen_1263.png\", \"house_data_png/kitchen_1264.png\", \"house_data_png/kitchen_1265.png\", \"house_data_png/kitchen_1266.png\", \"house_data_png/kitchen_1267.png\", \"house_data_png/kitchen_1269.png\", \"house_data_png/kitchen_1270.png\", \"house_data_png/kitchen_1272.png\", \"house_data_png/kitchen_1274.png\", \"house_data_png/kitchen_1275.png\", \"house_data_png/kitchen_1277.png\", \"house_data_png/kitchen_1278.png\", \"house_data_png/kitchen_1279.png\", \"house_data_png/kitchen_1281.png\", \"house_data_png/kitchen_1282.png\", \"house_data_png/kitchen_1283.png\", \"house_data_png/kitchen_1284.png\", \"house_data_png/kitchen_1286.png\", \"house_data_png/kitchen_129.png\", \"house_data_png/kitchen_1291.png\", \"house_data_png/kitchen_1292.png\", \"house_data_png/kitchen_1293.png\", \"house_data_png/kitchen_1294.png\", \"house_data_png/kitchen_1295.png\", \"house_data_png/kitchen_1296.png\", \"house_data_png/kitchen_1297.png\", \"house_data_png/kitchen_1298.png\", \"house_data_png/kitchen_1299.png\", \"house_data_png/kitchen_130.png\", \"house_data_png/kitchen_1300.png\", \"house_data_png/kitchen_1301.png\", \"house_data_png/kitchen_1302.png\", \"house_data_png/kitchen_1303.png\", \"house_data_png/kitchen_1304.png\", \"house_data_png/kitchen_1305.png\", \"house_data_png/kitchen_1306.png\", \"house_data_png/kitchen_1307.png\", \"house_data_png/kitchen_1308.png\", \"house_data_png/kitchen_131.png\", \"house_data_png/kitchen_1310.png\", \"house_data_png/kitchen_1311.png\", \"house_data_png/kitchen_1312.png\", \"house_data_png/kitchen_1313.png\", \"house_data_png/kitchen_1314.png\", \"house_data_png/kitchen_1315.png\", \"house_data_png/kitchen_1316.png\", \"house_data_png/kitchen_1317.png\", \"house_data_png/kitchen_1319.png\", \"house_data_png/kitchen_1320.png\", \"house_data_png/kitchen_1322.png\", \"house_data_png/kitchen_1323.png\", \"house_data_png/kitchen_1324.png\", \"house_data_png/kitchen_1325.png\", \"house_data_png/kitchen_1326.png\", \"house_data_png/kitchen_1327.png\", \"house_data_png/kitchen_1328.png\", \"house_data_png/kitchen_1329.png\", \"house_data_png/kitchen_133.png\", \"house_data_png/kitchen_1330.png\", \"house_data_png/kitchen_1332.png\", \"house_data_png/kitchen_1333.png\", \"house_data_png/kitchen_1334.png\", \"house_data_png/kitchen_1336.png\", \"house_data_png/kitchen_1337.png\", \"house_data_png/kitchen_1339.png\", \"house_data_png/kitchen_134.png\", \"house_data_png/kitchen_1340.png\", \"house_data_png/kitchen_1341.png\", \"house_data_png/kitchen_1342.png\", \"house_data_png/kitchen_1343.png\", \"house_data_png/kitchen_1344.png\", \"house_data_png/kitchen_1346.png\", \"house_data_png/kitchen_1348.png\", \"house_data_png/kitchen_1349.png\", \"house_data_png/kitchen_135.png\", \"house_data_png/kitchen_1350.png\", \"house_data_png/kitchen_1351.png\", \"house_data_png/kitchen_1352.png\", \"house_data_png/kitchen_1353.png\", \"house_data_png/kitchen_1354.png\", \"house_data_png/kitchen_1356.png\", \"house_data_png/kitchen_1357.png\", \"house_data_png/kitchen_1358.png\", \"house_data_png/kitchen_1359.png\", \"house_data_png/kitchen_136.png\", \"house_data_png/kitchen_1360.png\", \"house_data_png/kitchen_137.png\", \"house_data_png/kitchen_14.png\", \"house_data_png/kitchen_140.png\", \"house_data_png/kitchen_144.png\", \"house_data_png/kitchen_145.png\", \"house_data_png/kitchen_146.png\", \"house_data_png/kitchen_147.png\", \"house_data_png/kitchen_148.png\", \"house_data_png/kitchen_149.png\", \"house_data_png/kitchen_15.png\", \"house_data_png/kitchen_151.png\", \"house_data_png/kitchen_155.png\", \"house_data_png/kitchen_157.png\", \"house_data_png/kitchen_158.png\", \"house_data_png/kitchen_159.png\", \"house_data_png/kitchen_16.png\", \"house_data_png/kitchen_160.png\", \"house_data_png/kitchen_161.png\", \"house_data_png/kitchen_162.png\", \"house_data_png/kitchen_165.png\", \"house_data_png/kitchen_166.png\", \"house_data_png/kitchen_167.png\", \"house_data_png/kitchen_168.png\", \"house_data_png/kitchen_169.png\", \"house_data_png/kitchen_17.png\", \"house_data_png/kitchen_170.png\", \"house_data_png/kitchen_172.png\", \"house_data_png/kitchen_173.png\", \"house_data_png/kitchen_174.png\", \"house_data_png/kitchen_176.png\", \"house_data_png/kitchen_177.png\", \"house_data_png/kitchen_178.png\", \"house_data_png/kitchen_179.png\", \"house_data_png/kitchen_18.png\", \"house_data_png/kitchen_180.png\", \"house_data_png/kitchen_184.png\", \"house_data_png/kitchen_185.png\", \"house_data_png/kitchen_189.png\", \"house_data_png/kitchen_19.png\", \"house_data_png/kitchen_190.png\", \"house_data_png/kitchen_191.png\", \"house_data_png/kitchen_193.png\", \"house_data_png/kitchen_194.png\", \"house_data_png/kitchen_197.png\", \"house_data_png/kitchen_198.png\", \"house_data_png/kitchen_199.png\", \"house_data_png/kitchen_2.png\", \"house_data_png/kitchen_20.png\", \"house_data_png/kitchen_202.png\", \"house_data_png/kitchen_203.png\", \"house_data_png/kitchen_204.png\", \"house_data_png/kitchen_205.png\", \"house_data_png/kitchen_209.png\", \"house_data_png/kitchen_21.png\", \"house_data_png/kitchen_212.png\", \"house_data_png/kitchen_215.png\", \"house_data_png/kitchen_216.png\", \"house_data_png/kitchen_217.png\", \"house_data_png/kitchen_218.png\", \"house_data_png/kitchen_219.png\", \"house_data_png/kitchen_220.png\", \"house_data_png/kitchen_221.png\", \"house_data_png/kitchen_226.png\", \"house_data_png/kitchen_227.png\", \"house_data_png/kitchen_228.png\", \"house_data_png/kitchen_229.png\", \"house_data_png/kitchen_23.png\", \"house_data_png/kitchen_230.png\", \"house_data_png/kitchen_231.png\", \"house_data_png/kitchen_232.png\", \"house_data_png/kitchen_233.png\", \"house_data_png/kitchen_234.png\", \"house_data_png/kitchen_237.png\", \"house_data_png/kitchen_238.png\", \"house_data_png/kitchen_239.png\", \"house_data_png/kitchen_24.png\", \"house_data_png/kitchen_240.png\", \"house_data_png/kitchen_241.png\", \"house_data_png/kitchen_242.png\", \"house_data_png/kitchen_244.png\", \"house_data_png/kitchen_245.png\", \"house_data_png/kitchen_247.png\", \"house_data_png/kitchen_249.png\", \"house_data_png/kitchen_25.png\", \"house_data_png/kitchen_250.png\", \"house_data_png/kitchen_251.png\", \"house_data_png/kitchen_252.png\", \"house_data_png/kitchen_253.png\", \"house_data_png/kitchen_254.png\", \"house_data_png/kitchen_256.png\", \"house_data_png/kitchen_259.png\", \"house_data_png/kitchen_26.png\", \"house_data_png/kitchen_260.png\", \"house_data_png/kitchen_262.png\", \"house_data_png/kitchen_263.png\", \"house_data_png/kitchen_264.png\", \"house_data_png/kitchen_265.png\", \"house_data_png/kitchen_266.png\", \"house_data_png/kitchen_267.png\", \"house_data_png/kitchen_269.png\", \"house_data_png/kitchen_270.png\", \"house_data_png/kitchen_271.png\", \"house_data_png/kitchen_274.png\", \"house_data_png/kitchen_276.png\", \"house_data_png/kitchen_277.png\", \"house_data_png/kitchen_278.png\", \"house_data_png/kitchen_28.png\", \"house_data_png/kitchen_280.png\", \"house_data_png/kitchen_281.png\", \"house_data_png/kitchen_282.png\", \"house_data_png/kitchen_284.png\", \"house_data_png/kitchen_285.png\", \"house_data_png/kitchen_288.png\", \"house_data_png/kitchen_29.png\", \"house_data_png/kitchen_290.png\", \"house_data_png/kitchen_291.png\", \"house_data_png/kitchen_292.png\", \"house_data_png/kitchen_293.png\", \"house_data_png/kitchen_294.png\", \"house_data_png/kitchen_295.png\", \"house_data_png/kitchen_296.png\", \"house_data_png/kitchen_297.png\", \"house_data_png/kitchen_298.png\", \"house_data_png/kitchen_299.png\", \"house_data_png/kitchen_30.png\", \"house_data_png/kitchen_300.png\", \"house_data_png/kitchen_301.png\", \"house_data_png/kitchen_302.png\", \"house_data_png/kitchen_306.png\", \"house_data_png/kitchen_31.png\", \"house_data_png/kitchen_310.png\", \"house_data_png/kitchen_313.png\", \"house_data_png/kitchen_314.png\", \"house_data_png/kitchen_315.png\", \"house_data_png/kitchen_316.png\", \"house_data_png/kitchen_318.png\", \"house_data_png/kitchen_319.png\", \"house_data_png/kitchen_32.png\", \"house_data_png/kitchen_320.png\", \"house_data_png/kitchen_322.png\", \"house_data_png/kitchen_323.png\", \"house_data_png/kitchen_324.png\", \"house_data_png/kitchen_325.png\", \"house_data_png/kitchen_326.png\", \"house_data_png/kitchen_327.png\", \"house_data_png/kitchen_328.png\", \"house_data_png/kitchen_329.png\", \"house_data_png/kitchen_33.png\", \"house_data_png/kitchen_330.png\", \"house_data_png/kitchen_331.png\", \"house_data_png/kitchen_332.png\", \"house_data_png/kitchen_333.png\", \"house_data_png/kitchen_334.png\", \"house_data_png/kitchen_338.png\", \"house_data_png/kitchen_339.png\", \"house_data_png/kitchen_34.png\", \"house_data_png/kitchen_342.png\", \"house_data_png/kitchen_343.png\", \"house_data_png/kitchen_345.png\", \"house_data_png/kitchen_346.png\", \"house_data_png/kitchen_347.png\", \"house_data_png/kitchen_348.png\", \"house_data_png/kitchen_349.png\", \"house_data_png/kitchen_350.png\", \"house_data_png/kitchen_352.png\", \"house_data_png/kitchen_353.png\", \"house_data_png/kitchen_354.png\", \"house_data_png/kitchen_355.png\", \"house_data_png/kitchen_356.png\", \"house_data_png/kitchen_357.png\", \"house_data_png/kitchen_358.png\", \"house_data_png/kitchen_359.png\", \"house_data_png/kitchen_36.png\", \"house_data_png/kitchen_360.png\", \"house_data_png/kitchen_361.png\", \"house_data_png/kitchen_362.png\", \"house_data_png/kitchen_363.png\", \"house_data_png/kitchen_364.png\", \"house_data_png/kitchen_365.png\", \"house_data_png/kitchen_366.png\", \"house_data_png/kitchen_368.png\", \"house_data_png/kitchen_371.png\", \"house_data_png/kitchen_373.png\", \"house_data_png/kitchen_374.png\", \"house_data_png/kitchen_377.png\", \"house_data_png/kitchen_378.png\", \"house_data_png/kitchen_379.png\", \"house_data_png/kitchen_381.png\", \"house_data_png/kitchen_382.png\", \"house_data_png/kitchen_383.png\", \"house_data_png/kitchen_384.png\", \"house_data_png/kitchen_385.png\", \"house_data_png/kitchen_387.png\", \"house_data_png/kitchen_388.png\", \"house_data_png/kitchen_389.png\", \"house_data_png/kitchen_39.png\", \"house_data_png/kitchen_390.png\", \"house_data_png/kitchen_391.png\", \"house_data_png/kitchen_394.png\", \"house_data_png/kitchen_396.png\", \"house_data_png/kitchen_397.png\", \"house_data_png/kitchen_40.png\", \"house_data_png/kitchen_400.png\", \"house_data_png/kitchen_401.png\", \"house_data_png/kitchen_403.png\", \"house_data_png/kitchen_406.png\", \"house_data_png/kitchen_407.png\", \"house_data_png/kitchen_408.png\", \"house_data_png/kitchen_409.png\", \"house_data_png/kitchen_41.png\", \"house_data_png/kitchen_410.png\", \"house_data_png/kitchen_412.png\", \"house_data_png/kitchen_413.png\", \"house_data_png/kitchen_414.png\", \"house_data_png/kitchen_417.png\", \"house_data_png/kitchen_418.png\", \"house_data_png/kitchen_419.png\", \"house_data_png/kitchen_42.png\", \"house_data_png/kitchen_420.png\", \"house_data_png/kitchen_421.png\", \"house_data_png/kitchen_424.png\", \"house_data_png/kitchen_425.png\", \"house_data_png/kitchen_426.png\", \"house_data_png/kitchen_428.png\", \"house_data_png/kitchen_429.png\", \"house_data_png/kitchen_43.png\", \"house_data_png/kitchen_430.png\", \"house_data_png/kitchen_432.png\", \"house_data_png/kitchen_433.png\", \"house_data_png/kitchen_434.png\", \"house_data_png/kitchen_437.png\", \"house_data_png/kitchen_438.png\", \"house_data_png/kitchen_44.png\", \"house_data_png/kitchen_440.png\", \"house_data_png/kitchen_441.png\", \"house_data_png/kitchen_442.png\", \"house_data_png/kitchen_443.png\", \"house_data_png/kitchen_444.png\", \"house_data_png/kitchen_446.png\", \"house_data_png/kitchen_448.png\", \"house_data_png/kitchen_449.png\", \"house_data_png/kitchen_452.png\", \"house_data_png/kitchen_453.png\", \"house_data_png/kitchen_455.png\", \"house_data_png/kitchen_456.png\", \"house_data_png/kitchen_457.png\", \"house_data_png/kitchen_458.png\", \"house_data_png/kitchen_459.png\", \"house_data_png/kitchen_46.png\", \"house_data_png/kitchen_460.png\", \"house_data_png/kitchen_461.png\", \"house_data_png/kitchen_462.png\", \"house_data_png/kitchen_463.png\", \"house_data_png/kitchen_464.png\", \"house_data_png/kitchen_465.png\", \"house_data_png/kitchen_466.png\", \"house_data_png/kitchen_468.png\", \"house_data_png/kitchen_469.png\", \"house_data_png/kitchen_470.png\", \"house_data_png/kitchen_471.png\", \"house_data_png/kitchen_472.png\", \"house_data_png/kitchen_473.png\", \"house_data_png/kitchen_474.png\", \"house_data_png/kitchen_477.png\", \"house_data_png/kitchen_478.png\", \"house_data_png/kitchen_479.png\", \"house_data_png/kitchen_48.png\", \"house_data_png/kitchen_481.png\", \"house_data_png/kitchen_482.png\", \"house_data_png/kitchen_483.png\", \"house_data_png/kitchen_484.png\", \"house_data_png/kitchen_487.png\", \"house_data_png/kitchen_488.png\", \"house_data_png/kitchen_49.png\", \"house_data_png/kitchen_490.png\", \"house_data_png/kitchen_491.png\", \"house_data_png/kitchen_494.png\", \"house_data_png/kitchen_495.png\", \"house_data_png/kitchen_496.png\", \"house_data_png/kitchen_497.png\", \"house_data_png/kitchen_498.png\", \"house_data_png/kitchen_499.png\", \"house_data_png/kitchen_5.png\", \"house_data_png/kitchen_50.png\", \"house_data_png/kitchen_500.png\", \"house_data_png/kitchen_503.png\", \"house_data_png/kitchen_504.png\", \"house_data_png/kitchen_507.png\", \"house_data_png/kitchen_508.png\", \"house_data_png/kitchen_509.png\", \"house_data_png/kitchen_51.png\", \"house_data_png/kitchen_514.png\", \"house_data_png/kitchen_515.png\", \"house_data_png/kitchen_516.png\", \"house_data_png/kitchen_518.png\", \"house_data_png/kitchen_519.png\", \"house_data_png/kitchen_52.png\", \"house_data_png/kitchen_520.png\", \"house_data_png/kitchen_521.png\", \"house_data_png/kitchen_525.png\", \"house_data_png/kitchen_527.png\", \"house_data_png/kitchen_529.png\", \"house_data_png/kitchen_53.png\", \"house_data_png/kitchen_531.png\", \"house_data_png/kitchen_532.png\", \"house_data_png/kitchen_533.png\", \"house_data_png/kitchen_534.png\", \"house_data_png/kitchen_536.png\", \"house_data_png/kitchen_54.png\", \"house_data_png/kitchen_540.png\", \"house_data_png/kitchen_541.png\", \"house_data_png/kitchen_542.png\", \"house_data_png/kitchen_543.png\", \"house_data_png/kitchen_544.png\", \"house_data_png/kitchen_545.png\", \"house_data_png/kitchen_546.png\", \"house_data_png/kitchen_547.png\", \"house_data_png/kitchen_548.png\", \"house_data_png/kitchen_549.png\", \"house_data_png/kitchen_55.png\", \"house_data_png/kitchen_550.png\", \"house_data_png/kitchen_551.png\", \"house_data_png/kitchen_552.png\", \"house_data_png/kitchen_553.png\", \"house_data_png/kitchen_554.png\", \"house_data_png/kitchen_555.png\", \"house_data_png/kitchen_556.png\", \"house_data_png/kitchen_557.png\", \"house_data_png/kitchen_558.png\", \"house_data_png/kitchen_559.png\", \"house_data_png/kitchen_56.png\", \"house_data_png/kitchen_560.png\", \"house_data_png/kitchen_562.png\", \"house_data_png/kitchen_565.png\", \"house_data_png/kitchen_568.png\", \"house_data_png/kitchen_57.png\", \"house_data_png/kitchen_570.png\", \"house_data_png/kitchen_571.png\", \"house_data_png/kitchen_576.png\", \"house_data_png/kitchen_577.png\", \"house_data_png/kitchen_578.png\", \"house_data_png/kitchen_58.png\", \"house_data_png/kitchen_582.png\", \"house_data_png/kitchen_583.png\", \"house_data_png/kitchen_586.png\", \"house_data_png/kitchen_587.png\", \"house_data_png/kitchen_59.png\", \"house_data_png/kitchen_592.png\", \"house_data_png/kitchen_593.png\", \"house_data_png/kitchen_596.png\", \"house_data_png/kitchen_597.png\", \"house_data_png/kitchen_599.png\", \"house_data_png/kitchen_6.png\", \"house_data_png/kitchen_60.png\", \"house_data_png/kitchen_600.png\", \"house_data_png/kitchen_602.png\", \"house_data_png/kitchen_603.png\", \"house_data_png/kitchen_604.png\", \"house_data_png/kitchen_605.png\", \"house_data_png/kitchen_607.png\", \"house_data_png/kitchen_609.png\", \"house_data_png/kitchen_610.png\", \"house_data_png/kitchen_611.png\", \"house_data_png/kitchen_612.png\", \"house_data_png/kitchen_614.png\", \"house_data_png/kitchen_615.png\", \"house_data_png/kitchen_616.png\", \"house_data_png/kitchen_618.png\", \"house_data_png/kitchen_62.png\", \"house_data_png/kitchen_620.png\", \"house_data_png/kitchen_622.png\", \"house_data_png/kitchen_623.png\", \"house_data_png/kitchen_624.png\", \"house_data_png/kitchen_625.png\", \"house_data_png/kitchen_627.png\", \"house_data_png/kitchen_629.png\", \"house_data_png/kitchen_63.png\", \"house_data_png/kitchen_630.png\", \"house_data_png/kitchen_631.png\", \"house_data_png/kitchen_633.png\", \"house_data_png/kitchen_634.png\", \"house_data_png/kitchen_636.png\", \"house_data_png/kitchen_64.png\", \"house_data_png/kitchen_640.png\", \"house_data_png/kitchen_642.png\", \"house_data_png/kitchen_643.png\", \"house_data_png/kitchen_645.png\", \"house_data_png/kitchen_646.png\", \"house_data_png/kitchen_647.png\", \"house_data_png/kitchen_648.png\", \"house_data_png/kitchen_65.png\", \"house_data_png/kitchen_650.png\", \"house_data_png/kitchen_653.png\", \"house_data_png/kitchen_654.png\", \"house_data_png/kitchen_655.png\", \"house_data_png/kitchen_657.png\", \"house_data_png/kitchen_658.png\", \"house_data_png/kitchen_66.png\", \"house_data_png/kitchen_660.png\", \"house_data_png/kitchen_663.png\", \"house_data_png/kitchen_664.png\", \"house_data_png/kitchen_665.png\", \"house_data_png/kitchen_668.png\", \"house_data_png/kitchen_67.png\", \"house_data_png/kitchen_670.png\", \"house_data_png/kitchen_671.png\", \"house_data_png/kitchen_672.png\", \"house_data_png/kitchen_673.png\", \"house_data_png/kitchen_674.png\", \"house_data_png/kitchen_678.png\", \"house_data_png/kitchen_679.png\", \"house_data_png/kitchen_680.png\", \"house_data_png/kitchen_683.png\", \"house_data_png/kitchen_684.png\", \"house_data_png/kitchen_685.png\", \"house_data_png/kitchen_689.png\", \"house_data_png/kitchen_69.png\", \"house_data_png/kitchen_690.png\", \"house_data_png/kitchen_692.png\", \"house_data_png/kitchen_693.png\", \"house_data_png/kitchen_694.png\", \"house_data_png/kitchen_697.png\", \"house_data_png/kitchen_698.png\", \"house_data_png/kitchen_7.png\", \"house_data_png/kitchen_70.png\", \"house_data_png/kitchen_700.png\", \"house_data_png/kitchen_701.png\", \"house_data_png/kitchen_705.png\", \"house_data_png/kitchen_707.png\", \"house_data_png/kitchen_708.png\", \"house_data_png/kitchen_709.png\", \"house_data_png/kitchen_710.png\", \"house_data_png/kitchen_711.png\", \"house_data_png/kitchen_713.png\", \"house_data_png/kitchen_715.png\", \"house_data_png/kitchen_716.png\", \"house_data_png/kitchen_717.png\", \"house_data_png/kitchen_718.png\", \"house_data_png/kitchen_72.png\", \"house_data_png/kitchen_721.png\", \"house_data_png/kitchen_722.png\", \"house_data_png/kitchen_723.png\", \"house_data_png/kitchen_724.png\", \"house_data_png/kitchen_725.png\", \"house_data_png/kitchen_727.png\", \"house_data_png/kitchen_728.png\", \"house_data_png/kitchen_729.png\", \"house_data_png/kitchen_73.png\", \"house_data_png/kitchen_731.png\", \"house_data_png/kitchen_733.png\", \"house_data_png/kitchen_735.png\", \"house_data_png/kitchen_736.png\", \"house_data_png/kitchen_737.png\", \"house_data_png/kitchen_738.png\", \"house_data_png/kitchen_739.png\", \"house_data_png/kitchen_74.png\", \"house_data_png/kitchen_740.png\", \"house_data_png/kitchen_742.png\", \"house_data_png/kitchen_743.png\", \"house_data_png/kitchen_746.png\", \"house_data_png/kitchen_747.png\", \"house_data_png/kitchen_748.png\", \"house_data_png/kitchen_75.png\", \"house_data_png/kitchen_750.png\", \"house_data_png/kitchen_752.png\", \"house_data_png/kitchen_753.png\", \"house_data_png/kitchen_754.png\", \"house_data_png/kitchen_755.png\", \"house_data_png/kitchen_756.png\", \"house_data_png/kitchen_757.png\", \"house_data_png/kitchen_758.png\", \"house_data_png/kitchen_759.png\", \"house_data_png/kitchen_76.png\", \"house_data_png/kitchen_762.png\", \"house_data_png/kitchen_764.png\", \"house_data_png/kitchen_766.png\", \"house_data_png/kitchen_768.png\", \"house_data_png/kitchen_769.png\", \"house_data_png/kitchen_77.png\", \"house_data_png/kitchen_770.png\", \"house_data_png/kitchen_771.png\", \"house_data_png/kitchen_774.png\", \"house_data_png/kitchen_775.png\", \"house_data_png/kitchen_777.png\", \"house_data_png/kitchen_779.png\", \"house_data_png/kitchen_78.png\", \"house_data_png/kitchen_780.png\", \"house_data_png/kitchen_781.png\", \"house_data_png/kitchen_782.png\", \"house_data_png/kitchen_783.png\", \"house_data_png/kitchen_785.png\", \"house_data_png/kitchen_786.png\", \"house_data_png/kitchen_788.png\", \"house_data_png/kitchen_789.png\", \"house_data_png/kitchen_79.png\", \"house_data_png/kitchen_791.png\", \"house_data_png/kitchen_792.png\", \"house_data_png/kitchen_793.png\", \"house_data_png/kitchen_794.png\", \"house_data_png/kitchen_796.png\", \"house_data_png/kitchen_797.png\", \"house_data_png/kitchen_798.png\", \"house_data_png/kitchen_799.png\", \"house_data_png/kitchen_8.png\", \"house_data_png/kitchen_80.png\", \"house_data_png/kitchen_800.png\", \"house_data_png/kitchen_802.png\", \"house_data_png/kitchen_803.png\", \"house_data_png/kitchen_805.png\", \"house_data_png/kitchen_806.png\", \"house_data_png/kitchen_807.png\", \"house_data_png/kitchen_808.png\", \"house_data_png/kitchen_809.png\", \"house_data_png/kitchen_81.png\", \"house_data_png/kitchen_814.png\", \"house_data_png/kitchen_817.png\", \"house_data_png/kitchen_818.png\", \"house_data_png/kitchen_819.png\", \"house_data_png/kitchen_82.png\", \"house_data_png/kitchen_820.png\", \"house_data_png/kitchen_821.png\", \"house_data_png/kitchen_822.png\", \"house_data_png/kitchen_823.png\", \"house_data_png/kitchen_824.png\", \"house_data_png/kitchen_825.png\", \"house_data_png/kitchen_826.png\", \"house_data_png/kitchen_827.png\", \"house_data_png/kitchen_828.png\", \"house_data_png/kitchen_829.png\", \"house_data_png/kitchen_83.png\", \"house_data_png/kitchen_831.png\", \"house_data_png/kitchen_832.png\", \"house_data_png/kitchen_833.png\", \"house_data_png/kitchen_834.png\", \"house_data_png/kitchen_835.png\", \"house_data_png/kitchen_836.png\", \"house_data_png/kitchen_837.png\", \"house_data_png/kitchen_838.png\", \"house_data_png/kitchen_839.png\", \"house_data_png/kitchen_84.png\", \"house_data_png/kitchen_840.png\", \"house_data_png/kitchen_842.png\", \"house_data_png/kitchen_845.png\", \"house_data_png/kitchen_846.png\", \"house_data_png/kitchen_847.png\", \"house_data_png/kitchen_848.png\", \"house_data_png/kitchen_849.png\", \"house_data_png/kitchen_85.png\", \"house_data_png/kitchen_850.png\", \"house_data_png/kitchen_852.png\", \"house_data_png/kitchen_854.png\", \"house_data_png/kitchen_855.png\", \"house_data_png/kitchen_856.png\", \"house_data_png/kitchen_857.png\", \"house_data_png/kitchen_858.png\", \"house_data_png/kitchen_862.png\", \"house_data_png/kitchen_864.png\", \"house_data_png/kitchen_866.png\", \"house_data_png/kitchen_867.png\", \"house_data_png/kitchen_87.png\", \"house_data_png/kitchen_870.png\", \"house_data_png/kitchen_871.png\", \"house_data_png/kitchen_873.png\", \"house_data_png/kitchen_875.png\", \"house_data_png/kitchen_876.png\", \"house_data_png/kitchen_877.png\", \"house_data_png/kitchen_878.png\", \"house_data_png/kitchen_879.png\", \"house_data_png/kitchen_88.png\", \"house_data_png/kitchen_881.png\", \"house_data_png/kitchen_882.png\", \"house_data_png/kitchen_885.png\", \"house_data_png/kitchen_886.png\", \"house_data_png/kitchen_887.png\", \"house_data_png/kitchen_888.png\", \"house_data_png/kitchen_89.png\", \"house_data_png/kitchen_890.png\", \"house_data_png/kitchen_891.png\", \"house_data_png/kitchen_893.png\", \"house_data_png/kitchen_894.png\", \"house_data_png/kitchen_895.png\", \"house_data_png/kitchen_896.png\", \"house_data_png/kitchen_899.png\", \"house_data_png/kitchen_9.png\", \"house_data_png/kitchen_90.png\", \"house_data_png/kitchen_900.png\", \"house_data_png/kitchen_902.png\", \"house_data_png/kitchen_903.png\", \"house_data_png/kitchen_904.png\", \"house_data_png/kitchen_905.png\", \"house_data_png/kitchen_908.png\", \"house_data_png/kitchen_91.png\", \"house_data_png/kitchen_911.png\", \"house_data_png/kitchen_912.png\", \"house_data_png/kitchen_913.png\", \"house_data_png/kitchen_918.png\", \"house_data_png/kitchen_919.png\", \"house_data_png/kitchen_92.png\", \"house_data_png/kitchen_922.png\", \"house_data_png/kitchen_923.png\", \"house_data_png/kitchen_925.png\", \"house_data_png/kitchen_927.png\", \"house_data_png/kitchen_929.png\", \"house_data_png/kitchen_93.png\", \"house_data_png/kitchen_930.png\", \"house_data_png/kitchen_931.png\", \"house_data_png/kitchen_932.png\", \"house_data_png/kitchen_933.png\", \"house_data_png/kitchen_937.png\", \"house_data_png/kitchen_938.png\", \"house_data_png/kitchen_939.png\", \"house_data_png/kitchen_94.png\", \"house_data_png/kitchen_940.png\", \"house_data_png/kitchen_941.png\", \"house_data_png/kitchen_942.png\", \"house_data_png/kitchen_943.png\", \"house_data_png/kitchen_949.png\", \"house_data_png/kitchen_95.png\", \"house_data_png/kitchen_950.png\", \"house_data_png/kitchen_951.png\", \"house_data_png/kitchen_952.png\", \"house_data_png/kitchen_953.png\", \"house_data_png/kitchen_954.png\", \"house_data_png/kitchen_955.png\", \"house_data_png/kitchen_956.png\", \"house_data_png/kitchen_958.png\", \"house_data_png/kitchen_959.png\", \"house_data_png/kitchen_96.png\", \"house_data_png/kitchen_960.png\", \"house_data_png/kitchen_962.png\", \"house_data_png/kitchen_963.png\", \"house_data_png/kitchen_964.png\", \"house_data_png/kitchen_965.png\", \"house_data_png/kitchen_966.png\", \"house_data_png/kitchen_968.png\", \"house_data_png/kitchen_97.png\", \"house_data_png/kitchen_971.png\", \"house_data_png/kitchen_972.png\", \"house_data_png/kitchen_974.png\", \"house_data_png/kitchen_975.png\", \"house_data_png/kitchen_976.png\", \"house_data_png/kitchen_977.png\", \"house_data_png/kitchen_979.png\", \"house_data_png/kitchen_98.png\", \"house_data_png/kitchen_980.png\", \"house_data_png/kitchen_981.png\", \"house_data_png/kitchen_982.png\", \"house_data_png/kitchen_984.png\", \"house_data_png/kitchen_986.png\", \"house_data_png/kitchen_987.png\", \"house_data_png/kitchen_988.png\", \"house_data_png/kitchen_989.png\", \"house_data_png/kitchen_990.png\", \"house_data_png/kitchen_991.png\", \"house_data_png/kitchen_992.png\", \"house_data_png/kitchen_993.png\", \"house_data_png/kitchen_995.png\", \"house_data_png/kitchen_997.png\", \"house_data_png/kitchen_999.png\", \"house_data_png/living_1.png\", \"house_data_png/living_10.png\", \"house_data_png/living_100.png\", \"house_data_png/living_1000.png\", \"house_data_png/living_1002.png\", \"house_data_png/living_1003.png\", \"house_data_png/living_1004.png\", \"house_data_png/living_1005.png\", \"house_data_png/living_1006.png\", \"house_data_png/living_1007.png\", \"house_data_png/living_1008.png\", \"house_data_png/living_1009.png\", \"house_data_png/living_101.png\", \"house_data_png/living_1010.png\", \"house_data_png/living_1011.png\", \"house_data_png/living_1012.png\", \"house_data_png/living_1014.png\", \"house_data_png/living_1015.png\", \"house_data_png/living_1016.png\", \"house_data_png/living_1017.png\", \"house_data_png/living_1019.png\", \"house_data_png/living_102.png\", \"house_data_png/living_1020.png\", \"house_data_png/living_1021.png\", \"house_data_png/living_1022.png\", \"house_data_png/living_1023.png\", \"house_data_png/living_1024.png\", \"house_data_png/living_1025.png\", \"house_data_png/living_1026.png\", \"house_data_png/living_1027.png\", \"house_data_png/living_1028.png\", \"house_data_png/living_1029.png\", \"house_data_png/living_103.png\", \"house_data_png/living_1030.png\", \"house_data_png/living_1031.png\", \"house_data_png/living_1032.png\", \"house_data_png/living_1033.png\", \"house_data_png/living_1035.png\", \"house_data_png/living_1036.png\", \"house_data_png/living_1038.png\", \"house_data_png/living_1039.png\", \"house_data_png/living_104.png\", \"house_data_png/living_1040.png\", \"house_data_png/living_1041.png\", \"house_data_png/living_1042.png\", \"house_data_png/living_1044.png\", \"house_data_png/living_1045.png\", \"house_data_png/living_1046.png\", \"house_data_png/living_1047.png\", \"house_data_png/living_1048.png\", \"house_data_png/living_105.png\", \"house_data_png/living_1050.png\", \"house_data_png/living_1051.png\", \"house_data_png/living_1052.png\", \"house_data_png/living_1053.png\", \"house_data_png/living_1055.png\", \"house_data_png/living_1056.png\", \"house_data_png/living_1058.png\", \"house_data_png/living_1059.png\", \"house_data_png/living_106.png\", \"house_data_png/living_1060.png\", \"house_data_png/living_1061.png\", \"house_data_png/living_1062.png\", \"house_data_png/living_1063.png\", \"house_data_png/living_1064.png\", \"house_data_png/living_1065.png\", \"house_data_png/living_1067.png\", \"house_data_png/living_1068.png\", \"house_data_png/living_1069.png\", \"house_data_png/living_107.png\", \"house_data_png/living_1070.png\", \"house_data_png/living_1071.png\", \"house_data_png/living_1072.png\", \"house_data_png/living_1073.png\", \"house_data_png/living_1074.png\", \"house_data_png/living_1075.png\", \"house_data_png/living_1076.png\", \"house_data_png/living_1077.png\", \"house_data_png/living_1078.png\", \"house_data_png/living_1079.png\", \"house_data_png/living_108.png\", \"house_data_png/living_1080.png\", \"house_data_png/living_1081.png\", \"house_data_png/living_1082.png\", \"house_data_png/living_1084.png\", \"house_data_png/living_1085.png\", \"house_data_png/living_1088.png\", \"house_data_png/living_1089.png\", \"house_data_png/living_109.png\", \"house_data_png/living_1090.png\", \"house_data_png/living_1091.png\", \"house_data_png/living_1092.png\", \"house_data_png/living_1093.png\", \"house_data_png/living_1094.png\", \"house_data_png/living_1095.png\", \"house_data_png/living_1096.png\", \"house_data_png/living_1097.png\", \"house_data_png/living_1098.png\", \"house_data_png/living_1099.png\", \"house_data_png/living_11.png\", \"house_data_png/living_110.png\", \"house_data_png/living_1100.png\", \"house_data_png/living_1101.png\", \"house_data_png/living_1102.png\", \"house_data_png/living_1103.png\", \"house_data_png/living_1104.png\", \"house_data_png/living_1105.png\", \"house_data_png/living_1106.png\", \"house_data_png/living_1107.png\", \"house_data_png/living_1108.png\", \"house_data_png/living_1109.png\", \"house_data_png/living_111.png\", \"house_data_png/living_1110.png\", \"house_data_png/living_1111.png\", \"house_data_png/living_1112.png\", \"house_data_png/living_1113.png\", \"house_data_png/living_1114.png\", \"house_data_png/living_1115.png\", \"house_data_png/living_1116.png\", \"house_data_png/living_1117.png\", \"house_data_png/living_1118.png\", \"house_data_png/living_1119.png\", \"house_data_png/living_1120.png\", \"house_data_png/living_1122.png\", \"house_data_png/living_1123.png\", \"house_data_png/living_1124.png\", \"house_data_png/living_1125.png\", \"house_data_png/living_1126.png\", \"house_data_png/living_1127.png\", \"house_data_png/living_113.png\", \"house_data_png/living_1131.png\", \"house_data_png/living_1132.png\", \"house_data_png/living_1133.png\", \"house_data_png/living_1134.png\", \"house_data_png/living_1135.png\", \"house_data_png/living_1136.png\", \"house_data_png/living_1137.png\", \"house_data_png/living_1138.png\", \"house_data_png/living_1139.png\", \"house_data_png/living_114.png\", \"house_data_png/living_1140.png\", \"house_data_png/living_1141.png\", \"house_data_png/living_1142.png\", \"house_data_png/living_1143.png\", \"house_data_png/living_1144.png\", \"house_data_png/living_1145.png\", \"house_data_png/living_1146.png\", \"house_data_png/living_1147.png\", \"house_data_png/living_1148.png\", \"house_data_png/living_1149.png\", \"house_data_png/living_115.png\", \"house_data_png/living_1151.png\", \"house_data_png/living_1152.png\", \"house_data_png/living_1153.png\", \"house_data_png/living_1154.png\", \"house_data_png/living_1155.png\", \"house_data_png/living_1156.png\", \"house_data_png/living_1157.png\", \"house_data_png/living_1158.png\", \"house_data_png/living_1159.png\", \"house_data_png/living_1160.png\", \"house_data_png/living_1161.png\", \"house_data_png/living_1162.png\", \"house_data_png/living_1163.png\", \"house_data_png/living_1164.png\", \"house_data_png/living_1165.png\", \"house_data_png/living_1166.png\", \"house_data_png/living_1167.png\", \"house_data_png/living_1168.png\", \"house_data_png/living_1169.png\", \"house_data_png/living_117.png\", \"house_data_png/living_1170.png\", \"house_data_png/living_1171.png\", \"house_data_png/living_1172.png\", \"house_data_png/living_1173.png\", \"house_data_png/living_1174.png\", \"house_data_png/living_1175.png\", \"house_data_png/living_1176.png\", \"house_data_png/living_1177.png\", \"house_data_png/living_1178.png\", \"house_data_png/living_1179.png\", \"house_data_png/living_118.png\", \"house_data_png/living_1180.png\", \"house_data_png/living_1181.png\", \"house_data_png/living_1182.png\", \"house_data_png/living_1183.png\", \"house_data_png/living_1184.png\", \"house_data_png/living_1185.png\", \"house_data_png/living_1186.png\", \"house_data_png/living_1187.png\", \"house_data_png/living_1188.png\", \"house_data_png/living_1189.png\", \"house_data_png/living_119.png\", \"house_data_png/living_1190.png\", \"house_data_png/living_1191.png\", \"house_data_png/living_1192.png\", \"house_data_png/living_1193.png\", \"house_data_png/living_1194.png\", \"house_data_png/living_1196.png\", \"house_data_png/living_1197.png\", \"house_data_png/living_1198.png\", \"house_data_png/living_1199.png\", \"house_data_png/living_12.png\", \"house_data_png/living_120.png\", \"house_data_png/living_1200.png\", \"house_data_png/living_1201.png\", \"house_data_png/living_1202.png\", \"house_data_png/living_1205.png\", \"house_data_png/living_1206.png\", \"house_data_png/living_1207.png\", \"house_data_png/living_1208.png\", \"house_data_png/living_1209.png\", \"house_data_png/living_121.png\", \"house_data_png/living_1210.png\", \"house_data_png/living_1211.png\", \"house_data_png/living_1212.png\", \"house_data_png/living_1213.png\", \"house_data_png/living_1214.png\", \"house_data_png/living_1215.png\", \"house_data_png/living_1216.png\", \"house_data_png/living_1217.png\", \"house_data_png/living_1218.png\", \"house_data_png/living_1219.png\", \"house_data_png/living_122.png\", \"house_data_png/living_1220.png\", \"house_data_png/living_1221.png\", \"house_data_png/living_1222.png\", \"house_data_png/living_1223.png\", \"house_data_png/living_1224.png\", \"house_data_png/living_1225.png\", \"house_data_png/living_1226.png\", \"house_data_png/living_1227.png\", \"house_data_png/living_1228.png\", \"house_data_png/living_1229.png\", \"house_data_png/living_123.png\", \"house_data_png/living_1230.png\", \"house_data_png/living_1231.png\", \"house_data_png/living_1232.png\", \"house_data_png/living_1233.png\", \"house_data_png/living_1235.png\", \"house_data_png/living_1236.png\", \"house_data_png/living_1237.png\", \"house_data_png/living_1238.png\", \"house_data_png/living_1239.png\", \"house_data_png/living_124.png\", \"house_data_png/living_1240.png\", \"house_data_png/living_1241.png\", \"house_data_png/living_1242.png\", \"house_data_png/living_1243.png\", \"house_data_png/living_1244.png\", \"house_data_png/living_1245.png\", \"house_data_png/living_1246.png\", \"house_data_png/living_1247.png\", \"house_data_png/living_1248.png\", \"house_data_png/living_1249.png\", \"house_data_png/living_125.png\", \"house_data_png/living_1250.png\", \"house_data_png/living_1251.png\", \"house_data_png/living_1252.png\", \"house_data_png/living_1253.png\", \"house_data_png/living_1254.png\", \"house_data_png/living_1255.png\", \"house_data_png/living_1256.png\", \"house_data_png/living_1257.png\", \"house_data_png/living_1258.png\", \"house_data_png/living_126.png\", \"house_data_png/living_1260.png\", \"house_data_png/living_1261.png\", \"house_data_png/living_1262.png\", \"house_data_png/living_1263.png\", \"house_data_png/living_1264.png\", \"house_data_png/living_1265.png\", \"house_data_png/living_1266.png\", \"house_data_png/living_1267.png\", \"house_data_png/living_1269.png\", \"house_data_png/living_127.png\", \"house_data_png/living_1270.png\", \"house_data_png/living_1271.png\", \"house_data_png/living_1272.png\", \"house_data_png/living_1273.png\", \"house_data_png/living_1274.png\", \"house_data_png/living_1275.png\", \"house_data_png/living_1276.png\", \"house_data_png/living_1277.png\", \"house_data_png/living_1278.png\", \"house_data_png/living_1279.png\", \"house_data_png/living_1281.png\", \"house_data_png/living_1282.png\", \"house_data_png/living_1283.png\", \"house_data_png/living_1284.png\", \"house_data_png/living_1285.png\", \"house_data_png/living_1287.png\", \"house_data_png/living_1288.png\", \"house_data_png/living_1289.png\", \"house_data_png/living_129.png\", \"house_data_png/living_1291.png\", \"house_data_png/living_1293.png\", \"house_data_png/living_1294.png\", \"house_data_png/living_1295.png\", \"house_data_png/living_1296.png\", \"house_data_png/living_1298.png\", \"house_data_png/living_1299.png\", \"house_data_png/living_13.png\", \"house_data_png/living_1300.png\", \"house_data_png/living_1301.png\", \"house_data_png/living_1302.png\", \"house_data_png/living_1303.png\", \"house_data_png/living_1304.png\", \"house_data_png/living_1305.png\", \"house_data_png/living_1306.png\", \"house_data_png/living_1307.png\", \"house_data_png/living_1309.png\", \"house_data_png/living_131.png\", \"house_data_png/living_1310.png\", \"house_data_png/living_1311.png\", \"house_data_png/living_1314.png\", \"house_data_png/living_1315.png\", \"house_data_png/living_1316.png\", \"house_data_png/living_1317.png\", \"house_data_png/living_1318.png\", \"house_data_png/living_1319.png\", \"house_data_png/living_132.png\", \"house_data_png/living_1321.png\", \"house_data_png/living_1322.png\", \"house_data_png/living_1323.png\", \"house_data_png/living_1325.png\", \"house_data_png/living_1326.png\", \"house_data_png/living_1327.png\", \"house_data_png/living_1328.png\", \"house_data_png/living_1329.png\", \"house_data_png/living_133.png\", \"house_data_png/living_1330.png\", \"house_data_png/living_1331.png\", \"house_data_png/living_1332.png\", \"house_data_png/living_1333.png\", \"house_data_png/living_1334.png\", \"house_data_png/living_1335.png\", \"house_data_png/living_1336.png\", \"house_data_png/living_1337.png\", \"house_data_png/living_1338.png\", \"house_data_png/living_1339.png\", \"house_data_png/living_1340.png\", \"house_data_png/living_1341.png\", \"house_data_png/living_1342.png\", \"house_data_png/living_1343.png\", \"house_data_png/living_1344.png\", \"house_data_png/living_1346.png\", \"house_data_png/living_1347.png\", \"house_data_png/living_1348.png\", \"house_data_png/living_1349.png\", \"house_data_png/living_135.png\", \"house_data_png/living_1350.png\", \"house_data_png/living_1351.png\", \"house_data_png/living_1353.png\", \"house_data_png/living_1354.png\", \"house_data_png/living_1355.png\", \"house_data_png/living_1356.png\", \"house_data_png/living_1357.png\", \"house_data_png/living_1358.png\", \"house_data_png/living_1359.png\", \"house_data_png/living_136.png\", \"house_data_png/living_1361.png\", \"house_data_png/living_1362.png\", \"house_data_png/living_1363.png\", \"house_data_png/living_1364.png\", \"house_data_png/living_1365.png\", \"house_data_png/living_1367.png\", \"house_data_png/living_1368.png\", \"house_data_png/living_137.png\", \"house_data_png/living_1370.png\", \"house_data_png/living_1371.png\", \"house_data_png/living_1372.png\", \"house_data_png/living_1373.png\", \"house_data_png/living_1374.png\", \"house_data_png/living_1375.png\", \"house_data_png/living_1376.png\", \"house_data_png/living_1377.png\", \"house_data_png/living_1378.png\", \"house_data_png/living_1379.png\", \"house_data_png/living_138.png\", \"house_data_png/living_1380.png\", \"house_data_png/living_1381.png\", \"house_data_png/living_1382.png\", \"house_data_png/living_1383.png\", \"house_data_png/living_1385.png\", \"house_data_png/living_1386.png\", \"house_data_png/living_1387.png\", \"house_data_png/living_1388.png\", \"house_data_png/living_1389.png\", \"house_data_png/living_139.png\", \"house_data_png/living_1391.png\", \"house_data_png/living_1392.png\", \"house_data_png/living_1394.png\", \"house_data_png/living_1395.png\", \"house_data_png/living_1396.png\", \"house_data_png/living_1397.png\", \"house_data_png/living_1398.png\", \"house_data_png/living_1399.png\", \"house_data_png/living_14.png\", \"house_data_png/living_140.png\", \"house_data_png/living_1400.png\", \"house_data_png/living_1401.png\", \"house_data_png/living_1402.png\", \"house_data_png/living_1403.png\", \"house_data_png/living_1405.png\", \"house_data_png/living_1406.png\", \"house_data_png/living_1408.png\", \"house_data_png/living_1409.png\", \"house_data_png/living_141.png\", \"house_data_png/living_1410.png\", \"house_data_png/living_1411.png\", \"house_data_png/living_1413.png\", \"house_data_png/living_1414.png\", \"house_data_png/living_1415.png\", \"house_data_png/living_1416.png\", \"house_data_png/living_1417.png\", \"house_data_png/living_1418.png\", \"house_data_png/living_1419.png\", \"house_data_png/living_142.png\", \"house_data_png/living_1420.png\", \"house_data_png/living_1421.png\", \"house_data_png/living_1422.png\", \"house_data_png/living_1423.png\", \"house_data_png/living_1424.png\", \"house_data_png/living_1425.png\", \"house_data_png/living_1426.png\", \"house_data_png/living_1427.png\", \"house_data_png/living_143.png\", \"house_data_png/living_144.png\", \"house_data_png/living_145.png\", \"house_data_png/living_146.png\", \"house_data_png/living_147.png\", \"house_data_png/living_148.png\", \"house_data_png/living_15.png\", \"house_data_png/living_150.png\", \"house_data_png/living_151.png\", \"house_data_png/living_153.png\", \"house_data_png/living_154.png\", \"house_data_png/living_155.png\", \"house_data_png/living_156.png\", \"house_data_png/living_157.png\", \"house_data_png/living_158.png\", \"house_data_png/living_159.png\", \"house_data_png/living_16.png\", \"house_data_png/living_160.png\", \"house_data_png/living_161.png\", \"house_data_png/living_162.png\", \"house_data_png/living_163.png\", \"house_data_png/living_165.png\", \"house_data_png/living_166.png\", \"house_data_png/living_167.png\", \"house_data_png/living_168.png\", \"house_data_png/living_169.png\", \"house_data_png/living_17.png\", \"house_data_png/living_170.png\", \"house_data_png/living_171.png\", \"house_data_png/living_172.png\", \"house_data_png/living_173.png\", \"house_data_png/living_174.png\", \"house_data_png/living_175.png\", \"house_data_png/living_176.png\", \"house_data_png/living_177.png\", \"house_data_png/living_178.png\", \"house_data_png/living_179.png\", \"house_data_png/living_18.png\", \"house_data_png/living_180.png\", \"house_data_png/living_181.png\", \"house_data_png/living_182.png\", \"house_data_png/living_183.png\", \"house_data_png/living_184.png\", \"house_data_png/living_185.png\", \"house_data_png/living_186.png\", \"house_data_png/living_188.png\", \"house_data_png/living_189.png\", \"house_data_png/living_19.png\", \"house_data_png/living_190.png\", \"house_data_png/living_192.png\", \"house_data_png/living_193.png\", \"house_data_png/living_194.png\", \"house_data_png/living_195.png\", \"house_data_png/living_196.png\", \"house_data_png/living_197.png\", \"house_data_png/living_198.png\", \"house_data_png/living_199.png\", \"house_data_png/living_2.png\", \"house_data_png/living_20.png\", \"house_data_png/living_200.png\", \"house_data_png/living_201.png\", \"house_data_png/living_202.png\", \"house_data_png/living_203.png\", \"house_data_png/living_204.png\", \"house_data_png/living_205.png\", \"house_data_png/living_206.png\", \"house_data_png/living_207.png\", \"house_data_png/living_209.png\", \"house_data_png/living_21.png\", \"house_data_png/living_210.png\", \"house_data_png/living_211.png\", \"house_data_png/living_213.png\", \"house_data_png/living_214.png\", \"house_data_png/living_215.png\", \"house_data_png/living_216.png\", \"house_data_png/living_217.png\", \"house_data_png/living_218.png\", \"house_data_png/living_219.png\", \"house_data_png/living_22.png\", \"house_data_png/living_220.png\", \"house_data_png/living_221.png\", \"house_data_png/living_222.png\", \"house_data_png/living_223.png\", \"house_data_png/living_224.png\", \"house_data_png/living_225.png\", \"house_data_png/living_226.png\", \"house_data_png/living_227.png\", \"house_data_png/living_228.png\", \"house_data_png/living_229.png\", \"house_data_png/living_23.png\", \"house_data_png/living_231.png\", \"house_data_png/living_232.png\", \"house_data_png/living_233.png\", \"house_data_png/living_234.png\", \"house_data_png/living_236.png\", \"house_data_png/living_237.png\", \"house_data_png/living_239.png\", \"house_data_png/living_24.png\", \"house_data_png/living_240.png\", \"house_data_png/living_241.png\", \"house_data_png/living_242.png\", \"house_data_png/living_243.png\", \"house_data_png/living_244.png\", \"house_data_png/living_245.png\", \"house_data_png/living_246.png\", \"house_data_png/living_247.png\", \"house_data_png/living_248.png\", \"house_data_png/living_249.png\", \"house_data_png/living_25.png\", \"house_data_png/living_250.png\", \"house_data_png/living_252.png\", \"house_data_png/living_253.png\", \"house_data_png/living_254.png\", \"house_data_png/living_255.png\", \"house_data_png/living_257.png\", \"house_data_png/living_258.png\", \"house_data_png/living_259.png\", \"house_data_png/living_26.png\", \"house_data_png/living_261.png\", \"house_data_png/living_262.png\", \"house_data_png/living_263.png\", \"house_data_png/living_264.png\", \"house_data_png/living_265.png\", \"house_data_png/living_266.png\", \"house_data_png/living_267.png\", \"house_data_png/living_268.png\", \"house_data_png/living_269.png\", \"house_data_png/living_270.png\", \"house_data_png/living_271.png\", \"house_data_png/living_272.png\", \"house_data_png/living_273.png\", \"house_data_png/living_274.png\", \"house_data_png/living_275.png\", \"house_data_png/living_276.png\", \"house_data_png/living_277.png\", \"house_data_png/living_278.png\", \"house_data_png/living_279.png\", \"house_data_png/living_28.png\", \"house_data_png/living_280.png\", \"house_data_png/living_282.png\", \"house_data_png/living_283.png\", \"house_data_png/living_284.png\", \"house_data_png/living_285.png\", \"house_data_png/living_286.png\", \"house_data_png/living_288.png\", \"house_data_png/living_289.png\", \"house_data_png/living_29.png\", \"house_data_png/living_290.png\", \"house_data_png/living_292.png\", \"house_data_png/living_293.png\", \"house_data_png/living_294.png\", \"house_data_png/living_297.png\", \"house_data_png/living_298.png\", \"house_data_png/living_3.png\", \"house_data_png/living_30.png\", \"house_data_png/living_300.png\", \"house_data_png/living_301.png\", \"house_data_png/living_302.png\", \"house_data_png/living_303.png\", \"house_data_png/living_304.png\", \"house_data_png/living_305.png\", \"house_data_png/living_306.png\", \"house_data_png/living_307.png\", \"house_data_png/living_308.png\", \"house_data_png/living_309.png\", \"house_data_png/living_31.png\", \"house_data_png/living_310.png\", \"house_data_png/living_311.png\", \"house_data_png/living_314.png\", \"house_data_png/living_315.png\", \"house_data_png/living_316.png\", \"house_data_png/living_317.png\", \"house_data_png/living_318.png\", \"house_data_png/living_319.png\", \"house_data_png/living_32.png\", \"house_data_png/living_321.png\", \"house_data_png/living_324.png\", \"house_data_png/living_326.png\", \"house_data_png/living_327.png\", \"house_data_png/living_328.png\", \"house_data_png/living_329.png\", \"house_data_png/living_33.png\", \"house_data_png/living_330.png\", \"house_data_png/living_331.png\", \"house_data_png/living_332.png\", \"house_data_png/living_333.png\", \"house_data_png/living_334.png\", \"house_data_png/living_336.png\", \"house_data_png/living_338.png\", \"house_data_png/living_339.png\", \"house_data_png/living_34.png\", \"house_data_png/living_340.png\", \"house_data_png/living_341.png\", \"house_data_png/living_342.png\", \"house_data_png/living_343.png\", \"house_data_png/living_344.png\", \"house_data_png/living_345.png\", \"house_data_png/living_346.png\", \"house_data_png/living_347.png\", \"house_data_png/living_35.png\", \"house_data_png/living_351.png\", \"house_data_png/living_352.png\", \"house_data_png/living_353.png\", \"house_data_png/living_354.png\", \"house_data_png/living_356.png\", \"house_data_png/living_357.png\", \"house_data_png/living_358.png\", \"house_data_png/living_359.png\", \"house_data_png/living_360.png\", \"house_data_png/living_361.png\", \"house_data_png/living_362.png\", \"house_data_png/living_365.png\", \"house_data_png/living_366.png\", \"house_data_png/living_367.png\", \"house_data_png/living_368.png\", \"house_data_png/living_369.png\", \"house_data_png/living_37.png\", \"house_data_png/living_370.png\", \"house_data_png/living_372.png\", \"house_data_png/living_374.png\", \"house_data_png/living_375.png\", \"house_data_png/living_376.png\", \"house_data_png/living_377.png\", \"house_data_png/living_378.png\", \"house_data_png/living_379.png\", \"house_data_png/living_38.png\", \"house_data_png/living_380.png\", \"house_data_png/living_381.png\", \"house_data_png/living_382.png\", \"house_data_png/living_383.png\", \"house_data_png/living_384.png\", \"house_data_png/living_385.png\", \"house_data_png/living_386.png\", \"house_data_png/living_387.png\", \"house_data_png/living_388.png\", \"house_data_png/living_389.png\", \"house_data_png/living_39.png\", \"house_data_png/living_390.png\", \"house_data_png/living_391.png\", \"house_data_png/living_392.png\", \"house_data_png/living_393.png\", \"house_data_png/living_394.png\", \"house_data_png/living_395.png\", \"house_data_png/living_396.png\", \"house_data_png/living_397.png\", \"house_data_png/living_398.png\", \"house_data_png/living_399.png\", \"house_data_png/living_4.png\", \"house_data_png/living_40.png\", \"house_data_png/living_400.png\", \"house_data_png/living_401.png\", \"house_data_png/living_402.png\", \"house_data_png/living_403.png\", \"house_data_png/living_404.png\", \"house_data_png/living_405.png\", \"house_data_png/living_406.png\", \"house_data_png/living_407.png\", \"house_data_png/living_408.png\", \"house_data_png/living_409.png\", \"house_data_png/living_41.png\", \"house_data_png/living_410.png\", \"house_data_png/living_411.png\", \"house_data_png/living_412.png\", \"house_data_png/living_414.png\", \"house_data_png/living_415.png\", \"house_data_png/living_417.png\", \"house_data_png/living_418.png\", \"house_data_png/living_42.png\", \"house_data_png/living_420.png\", \"house_data_png/living_421.png\", \"house_data_png/living_422.png\", \"house_data_png/living_423.png\", \"house_data_png/living_424.png\", \"house_data_png/living_425.png\", \"house_data_png/living_426.png\", \"house_data_png/living_427.png\", \"house_data_png/living_428.png\", \"house_data_png/living_429.png\", \"house_data_png/living_43.png\", \"house_data_png/living_430.png\", \"house_data_png/living_431.png\", \"house_data_png/living_432.png\", \"house_data_png/living_433.png\", \"house_data_png/living_435.png\", \"house_data_png/living_436.png\", \"house_data_png/living_437.png\", \"house_data_png/living_438.png\", \"house_data_png/living_439.png\", \"house_data_png/living_44.png\", \"house_data_png/living_440.png\", \"house_data_png/living_441.png\", \"house_data_png/living_442.png\", \"house_data_png/living_444.png\", \"house_data_png/living_445.png\", \"house_data_png/living_447.png\", \"house_data_png/living_448.png\", \"house_data_png/living_449.png\", \"house_data_png/living_45.png\", \"house_data_png/living_451.png\", \"house_data_png/living_452.png\", \"house_data_png/living_453.png\", \"house_data_png/living_454.png\", \"house_data_png/living_455.png\", \"house_data_png/living_456.png\", \"house_data_png/living_457.png\", \"house_data_png/living_458.png\", \"house_data_png/living_459.png\", \"house_data_png/living_46.png\", \"house_data_png/living_460.png\", \"house_data_png/living_462.png\", \"house_data_png/living_463.png\", \"house_data_png/living_464.png\", \"house_data_png/living_465.png\", \"house_data_png/living_466.png\", \"house_data_png/living_467.png\", \"house_data_png/living_468.png\", \"house_data_png/living_469.png\", \"house_data_png/living_47.png\", \"house_data_png/living_470.png\", \"house_data_png/living_471.png\", \"house_data_png/living_472.png\", \"house_data_png/living_473.png\", \"house_data_png/living_474.png\", \"house_data_png/living_475.png\", \"house_data_png/living_476.png\", \"house_data_png/living_477.png\", \"house_data_png/living_478.png\", \"house_data_png/living_479.png\", \"house_data_png/living_48.png\", \"house_data_png/living_481.png\", \"house_data_png/living_482.png\", \"house_data_png/living_483.png\", \"house_data_png/living_484.png\", \"house_data_png/living_485.png\", \"house_data_png/living_486.png\", \"house_data_png/living_487.png\", \"house_data_png/living_488.png\", \"house_data_png/living_489.png\", \"house_data_png/living_49.png\", \"house_data_png/living_490.png\", \"house_data_png/living_491.png\", \"house_data_png/living_492.png\", \"house_data_png/living_494.png\", \"house_data_png/living_495.png\", \"house_data_png/living_496.png\", \"house_data_png/living_497.png\", \"house_data_png/living_498.png\", \"house_data_png/living_499.png\", \"house_data_png/living_5.png\", \"house_data_png/living_50.png\", \"house_data_png/living_500.png\", \"house_data_png/living_501.png\", \"house_data_png/living_502.png\", \"house_data_png/living_503.png\", \"house_data_png/living_504.png\", \"house_data_png/living_505.png\", \"house_data_png/living_506.png\", \"house_data_png/living_507.png\", \"house_data_png/living_508.png\", \"house_data_png/living_509.png\", \"house_data_png/living_51.png\", \"house_data_png/living_511.png\", \"house_data_png/living_512.png\", \"house_data_png/living_513.png\", \"house_data_png/living_514.png\", \"house_data_png/living_515.png\", \"house_data_png/living_516.png\", \"house_data_png/living_517.png\", \"house_data_png/living_519.png\", \"house_data_png/living_52.png\", \"house_data_png/living_520.png\", \"house_data_png/living_521.png\", \"house_data_png/living_522.png\", \"house_data_png/living_523.png\", \"house_data_png/living_524.png\", \"house_data_png/living_525.png\", \"house_data_png/living_527.png\", \"house_data_png/living_528.png\", \"house_data_png/living_529.png\", \"house_data_png/living_53.png\", \"house_data_png/living_530.png\", \"house_data_png/living_531.png\", \"house_data_png/living_532.png\", \"house_data_png/living_533.png\", \"house_data_png/living_534.png\", \"house_data_png/living_535.png\", \"house_data_png/living_536.png\", \"house_data_png/living_537.png\", \"house_data_png/living_538.png\", \"house_data_png/living_539.png\", \"house_data_png/living_54.png\", \"house_data_png/living_541.png\", \"house_data_png/living_543.png\", \"house_data_png/living_544.png\", \"house_data_png/living_545.png\", \"house_data_png/living_547.png\", \"house_data_png/living_548.png\", \"house_data_png/living_55.png\", \"house_data_png/living_550.png\", \"house_data_png/living_551.png\", \"house_data_png/living_552.png\", \"house_data_png/living_553.png\", \"house_data_png/living_554.png\", \"house_data_png/living_555.png\", \"house_data_png/living_556.png\", \"house_data_png/living_557.png\", \"house_data_png/living_558.png\", \"house_data_png/living_559.png\", \"house_data_png/living_56.png\", \"house_data_png/living_560.png\", \"house_data_png/living_561.png\", \"house_data_png/living_562.png\", \"house_data_png/living_563.png\", \"house_data_png/living_564.png\", \"house_data_png/living_565.png\", \"house_data_png/living_567.png\", \"house_data_png/living_568.png\", \"house_data_png/living_569.png\", \"house_data_png/living_57.png\", \"house_data_png/living_570.png\", \"house_data_png/living_571.png\", \"house_data_png/living_572.png\", \"house_data_png/living_573.png\", \"house_data_png/living_574.png\", \"house_data_png/living_575.png\", \"house_data_png/living_576.png\", \"house_data_png/living_577.png\", \"house_data_png/living_578.png\", \"house_data_png/living_579.png\", \"house_data_png/living_58.png\", \"house_data_png/living_580.png\", \"house_data_png/living_581.png\", \"house_data_png/living_583.png\", \"house_data_png/living_585.png\", \"house_data_png/living_586.png\", \"house_data_png/living_587.png\", \"house_data_png/living_588.png\", \"house_data_png/living_589.png\", \"house_data_png/living_59.png\", \"house_data_png/living_591.png\", \"house_data_png/living_592.png\", \"house_data_png/living_593.png\", \"house_data_png/living_594.png\", \"house_data_png/living_595.png\", \"house_data_png/living_597.png\", \"house_data_png/living_598.png\", \"house_data_png/living_599.png\", \"house_data_png/living_6.png\", \"house_data_png/living_60.png\", \"house_data_png/living_600.png\", \"house_data_png/living_601.png\", \"house_data_png/living_602.png\", \"house_data_png/living_603.png\", \"house_data_png/living_604.png\", \"house_data_png/living_605.png\", \"house_data_png/living_606.png\", \"house_data_png/living_608.png\", \"house_data_png/living_609.png\", \"house_data_png/living_61.png\", \"house_data_png/living_610.png\", \"house_data_png/living_611.png\", \"house_data_png/living_612.png\", \"house_data_png/living_613.png\", \"house_data_png/living_614.png\", \"house_data_png/living_615.png\", \"house_data_png/living_616.png\", \"house_data_png/living_617.png\", \"house_data_png/living_619.png\", \"house_data_png/living_62.png\", \"house_data_png/living_620.png\", \"house_data_png/living_621.png\", \"house_data_png/living_622.png\", \"house_data_png/living_623.png\", \"house_data_png/living_624.png\", \"house_data_png/living_625.png\", \"house_data_png/living_626.png\", \"house_data_png/living_628.png\", \"house_data_png/living_629.png\", \"house_data_png/living_63.png\", \"house_data_png/living_630.png\", \"house_data_png/living_631.png\", \"house_data_png/living_632.png\", \"house_data_png/living_633.png\", \"house_data_png/living_634.png\", \"house_data_png/living_635.png\", \"house_data_png/living_636.png\", \"house_data_png/living_637.png\", \"house_data_png/living_639.png\", \"house_data_png/living_640.png\", \"house_data_png/living_641.png\", \"house_data_png/living_642.png\", \"house_data_png/living_643.png\", \"house_data_png/living_644.png\", \"house_data_png/living_645.png\", \"house_data_png/living_646.png\", \"house_data_png/living_647.png\", \"house_data_png/living_648.png\", \"house_data_png/living_649.png\", \"house_data_png/living_65.png\", \"house_data_png/living_650.png\", \"house_data_png/living_651.png\", \"house_data_png/living_652.png\", \"house_data_png/living_653.png\", \"house_data_png/living_654.png\", \"house_data_png/living_655.png\", \"house_data_png/living_656.png\", \"house_data_png/living_657.png\", \"house_data_png/living_659.png\", \"house_data_png/living_660.png\", \"house_data_png/living_661.png\", \"house_data_png/living_664.png\", \"house_data_png/living_665.png\", \"house_data_png/living_666.png\", \"house_data_png/living_667.png\", \"house_data_png/living_669.png\", \"house_data_png/living_67.png\", \"house_data_png/living_670.png\", \"house_data_png/living_671.png\", \"house_data_png/living_673.png\", \"house_data_png/living_674.png\", \"house_data_png/living_675.png\", \"house_data_png/living_676.png\", \"house_data_png/living_678.png\", \"house_data_png/living_679.png\", \"house_data_png/living_68.png\", \"house_data_png/living_680.png\", \"house_data_png/living_682.png\", \"house_data_png/living_683.png\", \"house_data_png/living_684.png\", \"house_data_png/living_685.png\", \"house_data_png/living_686.png\", \"house_data_png/living_689.png\", \"house_data_png/living_690.png\", \"house_data_png/living_691.png\", \"house_data_png/living_692.png\", \"house_data_png/living_693.png\", \"house_data_png/living_694.png\", \"house_data_png/living_695.png\", \"house_data_png/living_696.png\", \"house_data_png/living_697.png\", \"house_data_png/living_698.png\", \"house_data_png/living_699.png\", \"house_data_png/living_7.png\", \"house_data_png/living_70.png\", \"house_data_png/living_700.png\", \"house_data_png/living_701.png\", \"house_data_png/living_702.png\", \"house_data_png/living_703.png\", \"house_data_png/living_704.png\", \"house_data_png/living_705.png\", \"house_data_png/living_706.png\", \"house_data_png/living_707.png\", \"house_data_png/living_708.png\", \"house_data_png/living_709.png\", \"house_data_png/living_71.png\", \"house_data_png/living_710.png\", \"house_data_png/living_711.png\", \"house_data_png/living_712.png\", \"house_data_png/living_713.png\", \"house_data_png/living_714.png\", \"house_data_png/living_715.png\", \"house_data_png/living_716.png\", \"house_data_png/living_717.png\", \"house_data_png/living_718.png\", \"house_data_png/living_72.png\", \"house_data_png/living_721.png\", \"house_data_png/living_722.png\", \"house_data_png/living_723.png\", \"house_data_png/living_724.png\", \"house_data_png/living_725.png\", \"house_data_png/living_726.png\", \"house_data_png/living_727.png\", \"house_data_png/living_728.png\", \"house_data_png/living_729.png\", \"house_data_png/living_73.png\", \"house_data_png/living_731.png\", \"house_data_png/living_732.png\", \"house_data_png/living_733.png\", \"house_data_png/living_734.png\", \"house_data_png/living_735.png\", \"house_data_png/living_736.png\", \"house_data_png/living_737.png\", \"house_data_png/living_74.png\", \"house_data_png/living_740.png\", \"house_data_png/living_741.png\", \"house_data_png/living_742.png\", \"house_data_png/living_744.png\", \"house_data_png/living_745.png\", \"house_data_png/living_746.png\", \"house_data_png/living_747.png\", \"house_data_png/living_748.png\", \"house_data_png/living_749.png\", \"house_data_png/living_750.png\", \"house_data_png/living_751.png\", \"house_data_png/living_752.png\", \"house_data_png/living_753.png\", \"house_data_png/living_755.png\", \"house_data_png/living_756.png\", \"house_data_png/living_757.png\", \"house_data_png/living_758.png\", \"house_data_png/living_759.png\", \"house_data_png/living_76.png\", \"house_data_png/living_760.png\", \"house_data_png/living_761.png\", \"house_data_png/living_762.png\", \"house_data_png/living_764.png\", \"house_data_png/living_766.png\", \"house_data_png/living_767.png\", \"house_data_png/living_768.png\", \"house_data_png/living_769.png\", \"house_data_png/living_77.png\", \"house_data_png/living_770.png\", \"house_data_png/living_771.png\", \"house_data_png/living_772.png\", \"house_data_png/living_773.png\", \"house_data_png/living_774.png\", \"house_data_png/living_775.png\", \"house_data_png/living_777.png\", \"house_data_png/living_778.png\", \"house_data_png/living_779.png\", \"house_data_png/living_780.png\", \"house_data_png/living_781.png\", \"house_data_png/living_782.png\", \"house_data_png/living_783.png\", \"house_data_png/living_784.png\", \"house_data_png/living_785.png\", \"house_data_png/living_786.png\", \"house_data_png/living_787.png\", \"house_data_png/living_788.png\", \"house_data_png/living_792.png\", \"house_data_png/living_793.png\", \"house_data_png/living_795.png\", \"house_data_png/living_797.png\", \"house_data_png/living_798.png\", \"house_data_png/living_799.png\", \"house_data_png/living_8.png\", \"house_data_png/living_80.png\", \"house_data_png/living_800.png\", \"house_data_png/living_801.png\", \"house_data_png/living_802.png\", \"house_data_png/living_804.png\", \"house_data_png/living_805.png\", \"house_data_png/living_806.png\", \"house_data_png/living_807.png\", \"house_data_png/living_808.png\", \"house_data_png/living_809.png\", \"house_data_png/living_81.png\", \"house_data_png/living_810.png\", \"house_data_png/living_811.png\", \"house_data_png/living_812.png\", \"house_data_png/living_813.png\", \"house_data_png/living_814.png\", \"house_data_png/living_815.png\", \"house_data_png/living_816.png\", \"house_data_png/living_817.png\", \"house_data_png/living_818.png\", \"house_data_png/living_819.png\", \"house_data_png/living_82.png\", \"house_data_png/living_820.png\", \"house_data_png/living_821.png\", \"house_data_png/living_822.png\", \"house_data_png/living_823.png\", \"house_data_png/living_824.png\", \"house_data_png/living_825.png\", \"house_data_png/living_826.png\", \"house_data_png/living_827.png\", \"house_data_png/living_828.png\", \"house_data_png/living_829.png\", \"house_data_png/living_83.png\", \"house_data_png/living_830.png\", \"house_data_png/living_831.png\", \"house_data_png/living_832.png\", \"house_data_png/living_833.png\", \"house_data_png/living_834.png\", \"house_data_png/living_835.png\", \"house_data_png/living_837.png\", \"house_data_png/living_838.png\", \"house_data_png/living_839.png\", \"house_data_png/living_84.png\", \"house_data_png/living_840.png\", \"house_data_png/living_841.png\", \"house_data_png/living_842.png\", \"house_data_png/living_843.png\", \"house_data_png/living_844.png\", \"house_data_png/living_845.png\", \"house_data_png/living_846.png\", \"house_data_png/living_847.png\", \"house_data_png/living_848.png\", \"house_data_png/living_849.png\", \"house_data_png/living_85.png\", \"house_data_png/living_850.png\", \"house_data_png/living_851.png\", \"house_data_png/living_852.png\", \"house_data_png/living_853.png\", \"house_data_png/living_854.png\", \"house_data_png/living_855.png\", \"house_data_png/living_856.png\", \"house_data_png/living_857.png\", \"house_data_png/living_858.png\", \"house_data_png/living_859.png\", \"house_data_png/living_86.png\", \"house_data_png/living_860.png\", \"house_data_png/living_861.png\", \"house_data_png/living_862.png\", \"house_data_png/living_863.png\", \"house_data_png/living_864.png\", \"house_data_png/living_865.png\", \"house_data_png/living_866.png\", \"house_data_png/living_867.png\", \"house_data_png/living_868.png\", \"house_data_png/living_869.png\", \"house_data_png/living_87.png\", \"house_data_png/living_870.png\", \"house_data_png/living_871.png\", \"house_data_png/living_872.png\", \"house_data_png/living_873.png\", \"house_data_png/living_874.png\", \"house_data_png/living_875.png\", \"house_data_png/living_876.png\", \"house_data_png/living_877.png\", \"house_data_png/living_878.png\", \"house_data_png/living_879.png\", \"house_data_png/living_88.png\", \"house_data_png/living_880.png\", \"house_data_png/living_881.png\", \"house_data_png/living_882.png\", \"house_data_png/living_884.png\", \"house_data_png/living_885.png\", \"house_data_png/living_886.png\", \"house_data_png/living_887.png\", \"house_data_png/living_888.png\", \"house_data_png/living_889.png\", \"house_data_png/living_89.png\", \"house_data_png/living_890.png\", \"house_data_png/living_891.png\", \"house_data_png/living_892.png\", \"house_data_png/living_893.png\", \"house_data_png/living_894.png\", \"house_data_png/living_895.png\", \"house_data_png/living_896.png\", \"house_data_png/living_898.png\", \"house_data_png/living_899.png\", \"house_data_png/living_9.png\", \"house_data_png/living_90.png\", \"house_data_png/living_901.png\", \"house_data_png/living_902.png\", \"house_data_png/living_903.png\", \"house_data_png/living_904.png\", \"house_data_png/living_905.png\", \"house_data_png/living_906.png\", \"house_data_png/living_907.png\", \"house_data_png/living_909.png\", \"house_data_png/living_91.png\", \"house_data_png/living_910.png\", \"house_data_png/living_911.png\", \"house_data_png/living_913.png\", \"house_data_png/living_914.png\", \"house_data_png/living_915.png\", \"house_data_png/living_916.png\", \"house_data_png/living_917.png\", \"house_data_png/living_918.png\", \"house_data_png/living_919.png\", \"house_data_png/living_920.png\", \"house_data_png/living_921.png\", \"house_data_png/living_922.png\", \"house_data_png/living_923.png\", \"house_data_png/living_924.png\", \"house_data_png/living_925.png\", \"house_data_png/living_927.png\", \"house_data_png/living_928.png\", \"house_data_png/living_929.png\", \"house_data_png/living_93.png\", \"house_data_png/living_930.png\", \"house_data_png/living_931.png\", \"house_data_png/living_932.png\", \"house_data_png/living_933.png\", \"house_data_png/living_934.png\", \"house_data_png/living_935.png\", \"house_data_png/living_936.png\", \"house_data_png/living_937.png\", \"house_data_png/living_938.png\", \"house_data_png/living_939.png\", \"house_data_png/living_94.png\", \"house_data_png/living_940.png\", \"house_data_png/living_941.png\", \"house_data_png/living_942.png\", \"house_data_png/living_944.png\", \"house_data_png/living_945.png\", \"house_data_png/living_946.png\", \"house_data_png/living_947.png\", \"house_data_png/living_948.png\", \"house_data_png/living_949.png\", \"house_data_png/living_95.png\", \"house_data_png/living_950.png\", \"house_data_png/living_951.png\", \"house_data_png/living_952.png\", \"house_data_png/living_953.png\", \"house_data_png/living_954.png\", \"house_data_png/living_955.png\", \"house_data_png/living_956.png\", \"house_data_png/living_957.png\", \"house_data_png/living_958.png\", \"house_data_png/living_959.png\", \"house_data_png/living_96.png\", \"house_data_png/living_960.png\", \"house_data_png/living_961.png\", \"house_data_png/living_962.png\", \"house_data_png/living_963.png\", \"house_data_png/living_964.png\", \"house_data_png/living_965.png\", \"house_data_png/living_966.png\", \"house_data_png/living_967.png\", \"house_data_png/living_968.png\", \"house_data_png/living_969.png\", \"house_data_png/living_97.png\", \"house_data_png/living_970.png\", \"house_data_png/living_971.png\", \"house_data_png/living_972.png\", \"house_data_png/living_973.png\", \"house_data_png/living_974.png\", \"house_data_png/living_975.png\", \"house_data_png/living_976.png\", \"house_data_png/living_977.png\", \"house_data_png/living_978.png\", \"house_data_png/living_979.png\", \"house_data_png/living_98.png\", \"house_data_png/living_980.png\", \"house_data_png/living_981.png\", \"house_data_png/living_982.png\", \"house_data_png/living_983.png\", \"house_data_png/living_984.png\", \"house_data_png/living_985.png\", \"house_data_png/living_986.png\", \"house_data_png/living_987.png\", \"house_data_png/living_988.png\", \"house_data_png/living_989.png\", \"house_data_png/living_99.png\", \"house_data_png/living_990.png\", \"house_data_png/living_992.png\", \"house_data_png/living_993.png\", \"house_data_png/living_994.png\", \"house_data_png/living_995.png\", \"house_data_png/living_996.png\", \"house_data_png/living_997.png\", \"house_data_png/living_998.png\", \"house_data_png/living_999.png\"]\n",
      "Found 5249 images\n"
     ]
    }
   ],
   "source": [
    "# Check if paths are loaded\n",
    "puts \"Image paths: #{image_paths.inspect}\"\n",
    "\n",
    "# Verify directory path\n",
    "image_dir = 'house_data_png'\n",
    "image_paths = Dir[File.join(image_dir, '*')]\n",
    "puts \"Found #{image_paths.length} images\"\n",
    "\n"
   ]
  },
  {
   "cell_type": "code",
   "execution_count": 17,
   "id": "19c475af-f2a2-494e-8c4b-edf57a428d14",
   "metadata": {},
   "outputs": [
    {
     "data": {
      "text/plain": [
       "5249"
      ]
     },
     "execution_count": 17,
     "metadata": {},
     "output_type": "execute_result"
    }
   ],
   "source": [
    "image_paths.count"
   ]
  },
  {
   "cell_type": "code",
   "execution_count": 26,
   "id": "43f3ce34-d6a7-47b8-bebb-b62ec1529ead",
   "metadata": {},
   "outputs": [
    {
     "data": {
      "text/plain": [
       "[\"house_data_png/bath_100.png\"]"
      ]
     },
     "execution_count": 26,
     "metadata": {},
     "output_type": "execute_result"
    }
   ],
   "source": [
    "first_five_image_paths = image_paths.first(1)"
   ]
  },
  {
   "cell_type": "code",
   "execution_count": 27,
   "id": "3ec4c6c0-a144-4a32-821f-1a89c88da740",
   "metadata": {},
   "outputs": [],
   "source": [
    "\n",
    "#happy path\n",
    "# def magick_image_to_tensor(image)\n",
    "#   # 1) Resize to 224×224\n",
    "#   image = image.resize_to_fill(224, 224)\n",
    "\n",
    "#   # 2) Convert to RGB\n",
    "#   image = image.quantize(256, Magick::RGBColorspace)\n",
    "\n",
    "#   # 3) Export pixel data in \"RGB\" order ([0..65535])\n",
    "#   pixels = image.export_pixels(0, 0, image.columns, image.rows, \"RGB\")\n",
    "\n",
    "#   # 4) Convert to float32 and scale to [0,1]\n",
    "#   arr = Numo::UInt16.asarray(pixels).cast_to(Numo::Float32) / 65535.0\n",
    "\n",
    "#   # 5) Reshape from [height, width, channels] -> [channels, height, width]\n",
    "#   arr = arr.reshape(image.rows, image.columns, 3)\n",
    "#   arr = arr.transpose(2, 0, 1)\n",
    "\n",
    "#   # 6) Convert to a Torch tensor and add a batch dimension => [1, 3, 224, 224]\n",
    "#   Torch.from_numo(arr).unsqueeze(0)\n",
    "# end\n",
    "\n",
    "# def get_image_embeddings(model, image_paths, batch_size: 32)\n",
    "#   embeddings_list = []\n",
    "\n",
    "#   (0...image_paths.size).step(batch_size).each do |start_idx|\n",
    "#     # Get the image subset for this batch\n",
    "#     batch_paths = image_paths[start_idx, batch_size]\n",
    "\n",
    "#     # Convert each image to Torch tensor => shape [1,3,224,224]\n",
    "#     batch_tensors = batch_paths.map do |path|\n",
    "#       img_tensor = magick_image_to_tensor(Magick::Image.read(path).first)\n",
    "#       img_tensor\n",
    "#     end\n",
    "\n",
    "#     # Concatenate => shape [B,3,224,224]\n",
    "#     batch_tensor = Torch.cat(batch_tensors, dim: 0)\n",
    "\n",
    "#     # Convert Torch tensor -> Numo::NArray ([B,3,224,224]) for ONNXRuntime\n",
    "#     image_data = batch_tensor.numo  # or Torch::Utils.to_numo(batch_tensor)\n",
    "\n",
    "#     # ---------------------------------------------------------------\n",
    "#     # Provide a dummy text_input so the model doesn't complain.\n",
    "#     # For example, if the model expects [B,77] integer IDs for text.\n",
    "#     # (Adjust shape and type as your model needs; this is just a placeholder.)\n",
    "#     batch_size_actual = batch_tensor.shape[0]   # or batch_paths.size\n",
    "#     dummy_text = Numo::Int32.zeros(batch_size_actual, 77)\n",
    "#     # ---------------------------------------------------------------\n",
    "\n",
    "#     # Predict with image_input + text_input\n",
    "#     outputs = model.predict({\n",
    "#       \"image_input\" => image_data,\n",
    "#       \"text_input\"  => dummy_text\n",
    "#     })\n",
    "\n",
    "#     # If \"logits_per_image\" is your desired embedding output\n",
    "#     batch_embeddings = outputs[\"logits_per_image\"]\n",
    "#       puts batch_embeddings.class\n",
    "\n",
    "#     # Convert embeddings back to Torch (optional)\n",
    "#     b = Numo::NArray.cast(batch_embeddings)\n",
    "#     # Torch.from_numo(b)\n",
    "#     batch_embeddings_torch = Torch.from_numo(b)\n",
    "\n",
    "#     embeddings_list << batch_embeddings_torch\n",
    "#   end\n",
    "\n",
    "#   # Concatenate everything into a single [N, ...] tensor\n",
    "#   Torch.cat(embeddings_list, dim: 0)\n",
    "# end"
   ]
  },
  {
   "cell_type": "code",
   "execution_count": 28,
   "id": "bd9bcc7c-1a1e-4754-bb0c-9e9b88900590",
   "metadata": {},
   "outputs": [
    {
     "data": {
      "text/plain": [
       ":magick_image_to_tensor"
      ]
     },
     "execution_count": 28,
     "metadata": {},
     "output_type": "execute_result"
    }
   ],
   "source": [
    "\n",
    "def magick_image_to_tensor(image)\n",
    "  image = image.resize_to_fill(224, 224)\n",
    "  image = image.quantize(256, Magick::RGBColorspace)\n",
    "  pixels = image.export_pixels(0, 0, image.columns, image.rows, \"RGB\")\n",
    "  arr = Numo::UInt16.asarray(pixels).cast_to(Numo::Float32) / 65535.0\n",
    "  arr = arr.reshape(image.rows, image.columns, 3)\n",
    "  arr = arr.transpose(2, 0, 1)\n",
    "  # Convert to tensor and normalize using CLIP's expected mean/std\n",
    "  tensor = Torch.from_numo(arr)\n",
    "  mean = Torch.tensor([0.48145466, 0.4578275, 0.40821073]).reshape(3, 1, 1)\n",
    "  std = Torch.tensor([0.26862954, 0.26130258, 0.27577711]).reshape(3, 1, 1)\n",
    "  ((tensor - mean) / std).unsqueeze(0)\n",
    "    \n",
    "      # Add debug prints\n",
    "  puts \"Array shape after reshape: #{arr.shape}\"\n",
    "  puts \"First few values before normalization: #{arr[0, 0, 0..5]}\"\n",
    "  \n",
    "  tensor = Torch.from_numo(arr)\n",
    "  mean = Torch.tensor([0.48145466, 0.4578275, 0.40821073]).reshape(3, 1, 1)\n",
    "  std = Torch.tensor([0.26862954, 0.26130258, 0.27577711]).reshape(3, 1, 1)\n",
    "  normalized = ((tensor - mean) / std).unsqueeze(0)\n",
    "  \n",
    "  puts \"First few values after normalization: #{normalized[0, 0, 0, 0..5]}\"\n",
    "  normalized\n",
    "end\n",
    "\n",
    "\n",
    "\n",
    "# def get_image_embeddings(model, image_paths, batch_size: 32)\n",
    "#   embeddings_list = []\n",
    "  \n",
    "#   (0...image_paths.size).step(batch_size).each do |start_idx|\n",
    "#     batch_paths = image_paths[start_idx, batch_size]\n",
    "#     batch_tensors = batch_paths.map do |path|\n",
    "#       img_tensor = magick_image_to_tensor(Magick::Image.read(path).first)\n",
    "#       img_tensor\n",
    "#     end\n",
    "    \n",
    "#     batch_tensor = Torch.cat(batch_tensors, dim: 0)\n",
    "#     image_data = batch_tensor.numo\n",
    "    \n",
    "#     # If your ONNX has *only* \"image_input\":\n",
    "#     outputs = model.predict({ \"image_input\" => image_data })\n",
    "\n",
    "#     # Otherwise, if you had a two-input model, remove or adjust text_input:\n",
    "#     # outputs = model.predict({\n",
    "#     #   \"image_input\" => image_data,\n",
    "#     #   \"text_input\"  => Numo::Int32.zeros(batch_tensor.shape[0], 77)\n",
    "#     # })\n",
    "\n",
    "#     # Grab the output embeddings\n",
    "#     batch_embeddings = outputs[\"image_features\"] \n",
    "#     # If nil, try alternate keys\n",
    "#     if batch_embeddings.nil?\n",
    "#       puts \"Available keys: #{outputs.keys}\"\n",
    "#       batch_embeddings = outputs[\"image_embeddings\"] || \n",
    "#                         outputs[\"visual_features\"] ||\n",
    "#                         outputs[\"visual_embeddings\"]\n",
    "#     end\n",
    "    \n",
    "#     batch_embeddings_arr = Numo::NArray.cast(batch_embeddings)\n",
    "#     batch_embeddings_torch = Torch.from_numo(batch_embeddings_arr)\n",
    "#     embeddings_list << batch_embeddings_torch\n",
    "#   end\n",
    "  \n",
    "#   combined_embeddings = Torch.cat(embeddings_list, dim: 0)\n",
    "#   puts \"Combined shape: #{combined_embeddings.shape}\"\n",
    "\n",
    "#   # L2 normalize across the last dimension (dim=1 for [batch_size, 512])\n",
    "#   norms = combined_embeddings.norm(2, 1, keepdim: true)\n",
    "#   combined_embeddings / norms\n",
    "# end\n"
   ]
  },
  {
   "cell_type": "code",
   "execution_count": 34,
   "id": "0bd5eedd-06a7-4e05-9f62-09dab2a0ab8b",
   "metadata": {},
   "outputs": [
    {
     "data": {
      "text/plain": [
       ":get_image_embeddings"
      ]
     },
     "execution_count": 34,
     "metadata": {},
     "output_type": "execute_result"
    }
   ],
   "source": [
    "def get_image_embeddings(model, image_paths, batch_size: 32)\n",
    "  embeddings_list = []\n",
    "  \n",
    "  (0...image_paths.size).step(batch_size).each do |start_idx|\n",
    "    batch_paths = image_paths[start_idx, batch_size]\n",
    "    batch_tensors = batch_paths.map do |path|\n",
    "      img_tensor = magick_image_to_tensor(Magick::Image.read(path).first)\n",
    "      puts img_tensor\n",
    "      img_tensor\n",
    "    end\n",
    "    \n",
    "    batch_tensor = Torch.cat(batch_tensors, dim: 0)\n",
    "    image_data = batch_tensor.numo\n",
    "    \n",
    "    # Create dummy text inputs. Assuming text tokens are integers and the length is 77\n",
    "    dummy_texts = Numo::Int32.zeros(batch_tensor.shape[0], 77)\n",
    "    \n",
    "    # Provide both IMAGE and TEXT inputs\n",
    "    outputs = model.predict({\n",
    "      \"IMAGE\" => image_data,\n",
    "      \"TEXT\"  => dummy_texts\n",
    "    })\n",
    "\n",
    "    # Grab the output embeddings\n",
    "    batch_embeddings = outputs[\"LOGITS_PER_IMAGE\"] \n",
    "    # Adjust the key based on your model's output\n",
    "    # If nil, try alternate keys\n",
    "    if batch_embeddings.nil?\n",
    "      puts \"Available keys: #{outputs.keys}\"\n",
    "      batch_embeddings = outputs[\"image_embeddings\"] || \n",
    "                        outputs[\"image_embeddings\"] ||\n",
    "                        outputs[\"visual_features\"] ||\n",
    "                        outputs[\"visual_embeddings\"]\n",
    "    end\n",
    "    \n",
    "    batch_embeddings_arr = Numo::NArray.cast(batch_embeddings)\n",
    "    batch_embeddings_torch = Torch.from_numo(batch_embeddings_arr)\n",
    "    embeddings_list << batch_embeddings_torch\n",
    "  end\n",
    "  \n",
    "  combined_embeddings = Torch.cat(embeddings_list, dim: 0)\n",
    "  puts \"Combined shape: #{combined_embeddings.shape}\"\n",
    "\n",
    "  # L2 normalize across the last dimension (dim=1 for [batch_size, 512])\n",
    "  norms = combined_embeddings.norm(2, 1, keepdim: true)\n",
    "  combined_embeddings / norms\n",
    "end\n"
   ]
  },
  {
   "cell_type": "code",
   "execution_count": 30,
   "id": "c976b01d-6b26-4aff-90e3-4685a010247a",
   "metadata": {},
   "outputs": [
    {
     "name": "stdout",
     "output_type": "stream",
     "text": [
      "Array shape after reshape: [3, 224, 224]\n",
      "First few values before normalization: #<Numo::SFloat:0x00007ffff92f4328>\n",
      "First few values after normalization: tensor([-0.6897, -0.8876, -0.7553, -0.6617, -0.6897, -0.6897])\n",
      "tensor([[[[-0.6897, -0.8876, -0.7553,  ..., -1.7825, -1.7825, -1.7825],\n",
      "          [-0.7553, -0.8876, -0.6046,  ..., -1.7825, -1.7825, -1.7825],\n",
      "          [-0.7553, -0.8876, -0.6897,  ..., -1.7825, -1.7825, -1.7825],\n",
      "          ...,\n",
      "          [-1.7825, -1.7825, -1.7825,  ..., -1.7825, -1.7825, -1.7825],\n",
      "          [-1.7825, -1.7825, -1.7825,  ..., -1.7825, -1.7825, -1.7825],\n",
      "          [-1.7825, -1.7825, -1.7825,  ..., -1.7825, -1.7825, -1.7825]],\n",
      "\n",
      "         [[-0.5199, -0.6890, -0.6220,  ..., -1.7489, -1.7489, -1.7489],\n",
      "          [-0.6220, -0.6890, -0.5696,  ..., -1.7489, -1.7489, -1.7489],\n",
      "          [-0.6220, -0.6890, -0.5199,  ..., -1.7489, -1.7489, -1.7489],\n",
      "          ...,\n",
      "          [-1.7489, -1.7489, -1.7489,  ..., -1.7489, -1.7489, -1.7489],\n",
      "          [-1.7489, -1.7489, -1.7489,  ..., -1.7489, -1.7489, -1.7489],\n",
      "          [-1.7489, -1.7489, -1.7489,  ..., -1.7489, -1.7489, -1.7489]],\n",
      "\n",
      "         [[-0.1759, -0.3351, -0.2699,  ..., -1.4794, -1.4794, -1.4794],\n",
      "          [-0.2699, -0.3351, -0.3542,  ..., -1.4794, -1.4794, -1.4794],\n",
      "          [-0.2699, -0.3351, -0.1759,  ..., -1.4794, -1.4794, -1.4794],\n",
      "          ...,\n",
      "          [-1.4794, -1.4794, -1.4794,  ..., -1.4794, -1.4794, -1.4794],\n",
      "          [-1.4794, -1.4794, -1.4794,  ..., -1.4794, -1.4794, -1.4794],\n",
      "          [-1.4794, -1.4794, -1.4794,  ..., -1.4794, -1.4794, -1.4794]]]])\n",
      "Combined shape: [1, 1]\n"
     ]
    },
    {
     "data": {
      "text/plain": [
       "tensor([[1.]], dtype: :float64)"
      ]
     },
     "execution_count": 30,
     "metadata": {},
     "output_type": "execute_result"
    }
   ],
   "source": [
    "# Then call the function\n",
    "# image_embeddings = get_image_embeddings(image_paths, batch_size: 32)\n",
    "\n",
    "#Lets do the first 5 for now\n",
    "image_embeddings = get_image_embeddings(model, first_five_image_paths, batch_size: 32)\n",
    "image_embeddings"
   ]
  },
  {
   "cell_type": "code",
   "execution_count": 31,
   "id": "ec192bc5-1752-4abd-b436-de04b113859d",
   "metadata": {},
   "outputs": [],
   "source": [
    "# norms = Torch.norm(image_embeddings, p: 2.0, dim: 1, keepdim: true)\n",
    "# image_embeddings = image_embeddings / norms"
   ]
  },
  {
   "cell_type": "code",
   "execution_count": 32,
   "id": "227a24e4-eeeb-4dd2-9aef-92a5f2789e45",
   "metadata": {},
   "outputs": [
    {
     "name": "stdout",
     "output_type": "stream",
     "text": [
      "hello world\n"
     ]
    }
   ],
   "source": [
    "puts 'hello world'"
   ]
  },
  {
   "cell_type": "code",
   "execution_count": null,
   "id": "8278584d-363e-4d30-83c2-4bfa0da5a8d2",
   "metadata": {},
   "outputs": [
    {
     "name": "stdout",
     "output_type": "stream",
     "text": [
      "Torch::Tensor\n"
     ]
    }
   ],
   "source": [
    "# puts image_embeddings\n",
    "puts image_embeddings.class"
   ]
  },
  {
   "cell_type": "code",
   "execution_count": null,
   "id": "f6b2d7ce-a18c-40c7-9dcb-37e17728ef8d",
   "metadata": {},
   "outputs": [],
   "source": [
    "require 'numo/narray'\n",
    "\n",
    "def normalize(embeddings)\n",
    "  # 1. If 'embeddings' is actually an Array of Numo arrays, handle that:\n",
    "  if embeddings.is_a?(Array) && !embeddings.empty?\n",
    "    # If it's exactly one Numo array, unwrap it:\n",
    "    if embeddings.size == 1 && embeddings.first.is_a?(Numo::NArray)\n",
    "      embeddings = embeddings.first\n",
    "    else\n",
    "      # If it's multiple Numo arrays, concatenate them\n",
    "      # (assuming they have the same shape except for the first dimension)\n",
    "      if embeddings.all? { |x| x.is_a?(Numo::NArray) }\n",
    "        embeddings = Numo::NArray.concatenate(embeddings, axis: 0)\n",
    "      else\n",
    "        raise \"Expected an array of Numo::NArray. Got: #{embeddings.inspect}\"\n",
    "      end\n",
    "    end\n",
    "  end\n",
    "\n",
    "  # 2. Now 'embeddings' should be a single Numo::NArray.  \n",
    "  unless embeddings.is_a?(Numo::NArray)\n",
    "    raise \"Expected a Numo::NArray, got #{embeddings.class}\"\n",
    "  end\n",
    "\n",
    "  # 3. Convert Numo array -> Torch tensor\n",
    "  tensor = Torch.from_numo(embeddings)\n",
    "\n",
    "  # 4. Compute L2 norm over the last dimension => shape is kept\n",
    "  norm = (tensor * tensor).sum(-1, keepdim: true).sqrt\n",
    "\n",
    "  # 5. Divide by norm, convert back to Numo\n",
    "  (tensor / norm).numo\n",
    "end\n",
    "\n",
    "# Example usage:\n",
    "image_embeddings = normalize(image_embeddings)"
   ]
  },
  {
   "cell_type": "code",
   "execution_count": null,
   "id": "56f2b810-67d1-494d-a0b3-31a75fc6983f",
   "metadata": {},
   "outputs": [],
   "source": [
    "def normalize(embeddings)\n",
    "  # Convert Numo array -> Torch tensor\n",
    "  tensor = Torch.from_numo(embeddings)  # shape is the same as embeddings\n",
    "\n",
    "  # L2 norm over the last dimension\n",
    "  # .sum(-1, keepdim: true) => sums squares along the last dimension\n",
    "  norm = (tensor * tensor).sum(-1, keepdim: true).sqrt\n",
    "\n",
    "  # Elementwise divide, then convert back to Numo\n",
    "  (tensor / norm).numo\n",
    "end\n",
    "\n",
    "# Example usage\n",
    "image_embeddings = normalize(image_embeddings)"
   ]
  },
  {
   "cell_type": "code",
   "execution_count": 50,
   "id": "d13d9b05-1071-4ace-b932-342594844248",
   "metadata": {},
   "outputs": [
    {
     "ename": "ArgumentError",
     "evalue": "sum() missing 1 required positional arguments: \"dim\"",
     "output_type": "error",
     "traceback": [
      "\u001b[31mArgumentError\u001b[0m: sum() missing 1 required positional arguments: \"dim\"",
      "(irb):5:in `sum'",
      "(irb):5:in `normalize_embeddings'",
      "(irb):17:in `<top (required)>'"
     ]
    }
   ],
   "source": [
    "def normalize_embeddings(embeddings)\n",
    "  # Square each element\n",
    "  squared = embeddings ** 2\n",
    "  \n",
    "  # Sum along the last dimension (keepdims: true maintains the dimension)\n",
    "  sum_squared = squared.sum(axis: -1, keepdims: true)\n",
    "  \n",
    "  # Calculate square root\n",
    "  norm = sum_squared ** 0.5\n",
    "  \n",
    "  # Divide by norm to normalize\n",
    "  normalized = embeddings / norm\n",
    "\n",
    "  normalized\n",
    "end\n",
    "\n",
    "# Use the function\n",
    "image_embeddings = normalize_embeddings(image_embeddings)"
   ]
  },
  {
   "cell_type": "code",
   "execution_count": 51,
   "id": "e23e59c9-ae46-41cb-aa96-133019d20502",
   "metadata": {},
   "outputs": [],
   "source": [
    "# # Normalization is required!\n",
    "# image_embeddings /= image_embeddings.norm(dim: -1, keepdim: true)"
   ]
  },
  {
   "cell_type": "code",
   "execution_count": 52,
   "id": "a31d3332-722d-4712-a852-7a7ab2ebe88e",
   "metadata": {},
   "outputs": [
    {
     "ename": "TypeError",
     "evalue": "no _dump_data is defined for class Torch::Tensor",
     "output_type": "error",
     "traceback": [
      "\u001b[31mTypeError\u001b[0m: no _dump_data is defined for class Torch::Tensor",
      "(irb):1:in `dump'",
      "(irb):1:in `block in <top (required)>'",
      "(irb):in `open'",
      "(irb):in `<top (required)>'"
     ]
    }
   ],
   "source": [
    "File.open('house_data_png.marshal', 'wb') do |file|\n",
    "  Marshal.dump(image_embeddings, file)\n",
    "end"
   ]
  },
  {
   "cell_type": "code",
   "execution_count": 53,
   "id": "35dd0ce7-58ce-437b-ac85-b0b431e34154",
   "metadata": {},
   "outputs": [],
   "source": [
    "# # Save embeddings\n",
    "# File.open('house_data_png.marshal', 'wb') do |file|\n",
    "#     Marshal.dump(image_embeddings.cpu.numpy, file)\n",
    "# end"
   ]
  },
  {
   "cell_type": "code",
   "execution_count": 54,
   "id": "add83149-254f-4ce9-974c-fc0cd7caacf1",
   "metadata": {},
   "outputs": [
    {
     "name": "stdout",
     "output_type": "stream",
     "text": [
      "10 [10, 10]\n"
     ]
    }
   ],
   "source": [
    "puts \"#{image_embeddings.length} #{image_embeddings.shape}\"\n"
   ]
  },
  {
   "cell_type": "code",
   "execution_count": 55,
   "id": "36083c88-f25a-4178-a932-b2d5804a469f",
   "metadata": {},
   "outputs": [],
   "source": [
    "# puts \"#{image_embeddings.length} #{image_embeddings[0].shape}\""
   ]
  },
  {
   "cell_type": "code",
   "execution_count": 56,
   "id": "70b35845-38ce-49fe-a285-cdd6f81ef81e",
   "metadata": {},
   "outputs": [
    {
     "data": {
      "text/plain": [
       ":embed_text"
      ]
     },
     "execution_count": 56,
     "metadata": {},
     "output_type": "execute_result"
    }
   ],
   "source": [
    "# Encodes the text to the same vector space as the images\n",
    "def embed_text(text)\n",
    "    tokens = OpenClip::Tokenizer.tokenize([text])\n",
    "    Torch.no_grad do\n",
    "        text_features = model.encode_text(tokens)\n",
    "        text_features /= text_features.norm(dim: -1, keepdim: true) # Normalization is required!\n",
    "        text_features\n",
    "    end\n",
    "end"
   ]
  },
  {
   "cell_type": "code",
   "execution_count": 31,
   "id": "cce99603-6d25-49ab-861c-4eed146e6eff",
   "metadata": {},
   "outputs": [
    {
     "data": {
      "text/plain": [
       ":display_images"
      ]
     },
     "execution_count": 31,
     "metadata": {},
     "output_type": "execute_result"
    }
   ],
   "source": [
    "# Function to display images\n",
    "def display_images(image_paths, distances)\n",
    "    image_paths.each_with_index do |path, idx|\n",
    "        IRuby.display(IRuby.image(path))\n",
    "        puts \"👆 #{distances[idx]}\"\n",
    "    end\n",
    "end"
   ]
  },
  {
   "cell_type": "code",
   "execution_count": 32,
   "id": "5bc1a781-3a89-4e86-8232-ef8812b4a777",
   "metadata": {},
   "outputs": [
    {
     "ename": "NameError",
     "evalue": "uninitialized constant NearestNeighbors",
     "output_type": "error",
     "traceback": [
      "\u001b[31mNameError\u001b[0m: uninitialized constant NearestNeighbors",
      "(irb):1:in `<top (required)>'"
     ]
    }
   ],
   "source": [
    "# This will search and display nearest images given a text query\n",
    "nbrs = NearestNeighbors.new(n_neighbors: 10, metric: 'cosine')\n",
    "nbrs.fit(image_embeddings.cpu.numpy)\n",
    "\n",
    "def search(text)\n",
    "    text_embedding = embed_text(text)\n",
    "    distances, indices = nbrs.kneighbors(text_embedding.cpu.numpy)\n",
    "    nearest_images = indices[0].map { |i| image_paths[i] }\n",
    "    display_images(nearest_images, distances[0])\n",
    "end"
   ]
  },
  {
   "cell_type": "code",
   "execution_count": 33,
   "id": "fec92c08-f59d-4d70-b182-5eb717003619",
   "metadata": {},
   "outputs": [
    {
     "ename": "NoMethodError",
     "evalue": "undefined method `search' for #<Object:0x00007ffffaf83a98>",
     "output_type": "error",
     "traceback": [
      "\u001b[31mNoMethodError\u001b[0m: undefined method `search' for #<Object:0x00007ffffaf83a98>",
      "(irb):in `<top (required)>'"
     ]
    }
   ],
   "source": [
    "search('large kitchen island colonial')"
   ]
  },
  {
   "cell_type": "code",
   "execution_count": 34,
   "id": "35396557-103f-4012-8a98-63e6ac0375e6",
   "metadata": {},
   "outputs": [
    {
     "ename": "NoMethodError",
     "evalue": "undefined method `search' for #<Object:0x00007ffffaf83a98>",
     "output_type": "error",
     "traceback": [
      "\u001b[31mNoMethodError\u001b[0m: undefined method `search' for #<Object:0x00007ffffaf83a98>",
      "(irb):in `<top (required)>'"
     ]
    }
   ],
   "source": [
    "search('white marble shower stall')"
   ]
  },
  {
   "cell_type": "code",
   "execution_count": 35,
   "id": "7c734cd0-4299-4852-b6cf-0e125c21d913",
   "metadata": {},
   "outputs": [
    {
     "ename": "NoMethodError",
     "evalue": "undefined method `search' for #<Object:0x00007ffffaf83a98>",
     "output_type": "error",
     "traceback": [
      "\u001b[31mNoMethodError\u001b[0m: undefined method `search' for #<Object:0x00007ffffaf83a98>",
      "(irb):in `<top (required)>'"
     ]
    }
   ],
   "source": [
    "search('red ferrari')"
   ]
  },
  {
   "cell_type": "code",
   "execution_count": 36,
   "id": "5d0efd47-95bd-4ac8-9727-4695d6658f5c",
   "metadata": {},
   "outputs": [
    {
     "ename": "NoMethodError",
     "evalue": "undefined method `search' for #<Object:0x00007ffffaf83a98>",
     "output_type": "error",
     "traceback": [
      "\u001b[31mNoMethodError\u001b[0m: undefined method `search' for #<Object:0x00007ffffaf83a98>",
      "(irb):in `<top (required)>'"
     ]
    }
   ],
   "source": [
    "search('nuclear reactor')"
   ]
  },
  {
   "cell_type": "code",
   "execution_count": null,
   "id": "e04624e3-fd11-4eb3-a463-62525880a895",
   "metadata": {},
   "outputs": [],
   "source": []
  },
  {
   "cell_type": "code",
   "execution_count": null,
   "id": "a770ae26-9a2e-4063-ba0b-6fda3c3c1290",
   "metadata": {},
   "outputs": [],
   "source": []
  },
  {
   "cell_type": "code",
   "execution_count": null,
   "id": "ba2a3c01-b3aa-4052-b6d3-ddb737d59a36",
   "metadata": {},
   "outputs": [],
   "source": []
  },
  {
   "cell_type": "code",
   "execution_count": null,
   "id": "475b3f47-0eab-4117-85ef-7545565e9807",
   "metadata": {},
   "outputs": [],
   "source": []
  },
  {
   "cell_type": "code",
   "execution_count": null,
   "id": "78eaba15-1789-4330-b46f-a385866c3027",
   "metadata": {},
   "outputs": [],
   "source": []
  }
 ],
 "metadata": {
  "kernelspec": {
   "display_name": "Ruby 3.1.3",
   "language": "ruby",
   "name": "ruby"
  },
  "language_info": {
   "file_extension": ".rb",
   "mimetype": "application/x-ruby",
   "name": "ruby",
   "version": "3.1.3"
  }
 },
 "nbformat": 4,
 "nbformat_minor": 5
}
